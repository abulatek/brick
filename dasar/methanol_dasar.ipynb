{
 "cells": [
  {
   "cell_type": "markdown",
   "metadata": {
    "tags": []
   },
   "source": [
    "## Methanol dasar\n",
    "#### Notebook to make moment maps of the 107 GHz methanol \"dasar\" line, as well as other methanol lines in our ID list. Also to make moment maps of all in-band c-HCCCH lines."
   ]
  },
  {
   "cell_type": "code",
   "execution_count": 7,
   "metadata": {},
   "outputs": [],
   "source": [
    "from astropy.table import Table, vstack\n",
    "import glob\n",
    "\n",
    "tbls = []\n",
    "tbl_fns = glob.glob('../first_results/modeling/line_lists/*.csv')\n",
    "# '/orange/adamginsburg/brick_alma_linesurvey/abulatek/first_results/modeling/line_lists/*.csv'\n",
    "for tbl_fn in tbl_fns:\n",
    "    tbl = Table.read(tbl_fn)\n",
    "    tbl.remove_column('Spectrum')\n",
    "    tbls.append(tbl)\n",
    "    \n",
    "combined_tbls = vstack(tbls)"
   ]
  },
  {
   "cell_type": "code",
   "execution_count": 8,
   "metadata": {},
   "outputs": [],
   "source": [
    "methanol_lines = combined_tbls[combined_tbls['Species'] == 'CH3OHvt=0-2']\n",
    "# methanol13_lines = combined_tbls[combined_tbls['Species'] == '13CH3OHvt=0']"
   ]
  },
  {
   "cell_type": "code",
   "execution_count": 9,
   "metadata": {},
   "outputs": [],
   "source": [
    "def clean_name(x):\n",
    "    return x.replace(\"(\",\"\").replace(\")\",\"\").replace(\"=\",\"\").replace(\"+\",\"p\").replace(\"/\",\"\")"
   ]
  },
  {
   "cell_type": "code",
   "execution_count": 10,
   "metadata": {},
   "outputs": [],
   "source": [
    "# fns = glob.glob(\"/orange/adamginsburg/brick_alma_linesurvey/2019.1.00092.S/imaging_results/source*clean_2sigma_n50000_masked_3sigma_pbmask0p18.image\")"
   ]
  },
  {
   "cell_type": "code",
   "execution_count": 11,
   "metadata": {
    "tags": []
   },
   "outputs": [],
   "source": [
    "from spectral_cube import SpectralCube\n",
    "from astropy import units as u\n",
    "\n",
    "basedir = '../first_results/figures/methanol_moments'\n",
    "# '/orange/adamginsburg/brick_alma_linesurvey/abulatek/first_results/figures/methanol_moments'\n",
    "# basedir2 = '/orange/adamginsburg/brick_alma_linesurvey/abulatek/first_results/figures/methanol_peak_intensity'\n",
    "\n",
    "vmin = -20*u.km/u.s # I did -10 km/s originally\n",
    "vmax = 25*u.km/u.s # I did 50 km/s and 70 km/s originally, then for mom0, I did 15 km/s\n",
    "\n",
    "# for fn in fns:\n",
    "#     cube = SpectralCube.read(fn, use_dask=True).with_spectral_unit(u.GHz)\n",
    "\n",
    "#     slc  = cube[:1].subcube_slices_from_mask(cube[:1].mask)\n",
    "#     cube = cube[:,slc[1],slc[2]]\n",
    "#     cube.beam_threshold = 10000\n",
    "\n",
    "#     # THIS SHOULD ALL BE REST FREQUENCY! BECAUSE WE'LL CAPTURE EMISSION WITHIN THE VEL RANGE\n",
    "\n",
    "#     for row in methanol_lines:\n",
    "#         restf = u.Quantity(row['Frequency (GHz)'], u.GHz)\n",
    "#         if cube.spectral_axis.min() < restf and cube.spectral_axis.max() > restf:\n",
    "#             outfn = f\"{clean_name(row['Species'])}_rest{row['Frequency (GHz)']:0.4f}_{row['Dataset']}_{round(vmax.value)}kms\"\n",
    "#             filename_to_test = outfn.split('.mom0')[0]\n",
    "#             if not glob.glob(f'{basedir}/{filename_to_test}*.mom0.png'):\n",
    "#                 print(outfn)\n",
    "#                 scube = cube.with_spectral_unit(u.km/u.s, rest_value=restf, velocity_convention='radio').spectral_slab(vmin, vmax)\n",
    "#                 mx = scube.max(axis=0)\n",
    "#                 mx.quicklook(f'{basedir2}/{outfn}.max.png')\n",
    "#                 # m0 = scube.moment0(axis=0)\n",
    "#                 # m0.quicklook(f'{basedir}/{outfn}.mom0.png')"
   ]
  },
  {
   "cell_type": "code",
   "execution_count": null,
   "metadata": {
    "tags": []
   },
   "outputs": [],
   "source": [
    "# from astroquery.splatalogue import Splatalogue\n",
    "\n",
    "# xtbl = Splatalogue.query_lines(85*u.GHz, 275.5*u.GHz, chemical_name='c-HCCCH', \n",
    "#                                energy_max=50, energy_type='eu_k', line_lists=['SLAIM'])\n",
    "# xtbl_filtered = xtbl[xtbl['Log<sub>10</sub> (A<sub>ij</sub>)'] > -5]\n",
    "# xtbl_filtered"
   ]
  },
  {
   "cell_type": "code",
   "execution_count": null,
   "metadata": {
    "tags": []
   },
   "outputs": [],
   "source": [
    "# basedir_c = '/orange/adamginsburg/brick_alma_linesurvey/abulatek/first_results/figures/cyclopropenylidene_moments'\n",
    "\n",
    "# for fn in fns:\n",
    "#     cube = SpectralCube.read(fn, use_dask=True).with_spectral_unit(u.GHz)\n",
    "\n",
    "#     slc  = cube[:1].subcube_slices_from_mask(cube[:1].mask)\n",
    "#     cube = cube[:,slc[1],slc[2]]\n",
    "#     cube.beam_threshold = 10000\n",
    "\n",
    "#     # THIS SHOULD ALL BE REST FREQUENCY! BECAUSE WE'LL CAPTURE EMISSION WITHIN THE VEL RANGE\n",
    "\n",
    "#     for row in xtbl_filtered:\n",
    "#         restf = u.Quantity(row['Freq-GHz(rest frame,redshifted)'], u.GHz)\n",
    "#         if cube.spectral_axis.min() < restf and cube.spectral_axis.max() > restf:\n",
    "#             outfn = f\"{clean_name(row['Species'])}_rest{row['Freq-GHz(rest frame,redshifted)']:0.4f}_{round(vmax.value)}kms\"\n",
    "#             filename_to_test = outfn.split('.mom0')[0]\n",
    "#             if not glob.glob(f'{basedir_c}/{filename_to_test}*.mom0.png'):\n",
    "#                 print(outfn)\n",
    "#                 scube = cube.with_spectral_unit(u.km/u.s, rest_value=restf, velocity_convention='radio').spectral_slab(vmin, vmax)\n",
    "# #                 mx = scube.max(axis=0)\n",
    "# #                 mx.quicklook(f'{basedir}/{outfn}.max.png')\n",
    "#                 m0 = scube.moment0(axis=0)\n",
    "#                 m0.quicklook(f'{basedir_c}/{outfn}.mom0.png')"
   ]
  },
  {
   "cell_type": "code",
   "execution_count": 17,
   "metadata": {},
   "outputs": [],
   "source": [
    "# fn_107 = \"/orange/adamginsburg/brick_alma_linesurvey/2019.1.00092.S/imaging_results/source_ab_106_spw29_clean_2sigma_n50000_masked_3sigma_pbmask0p18.image\"\n",
    "fn_107_ms = \"recleaning/brick_107GHz_dasar_line_1mJy_multiscale_cyclefactor4_amt_negativethreshold1p0.image\"\n",
    "# \"/blue/adamginsburg/abulatek/brick/dasar/recleaning/brick_107GHz_dasar_line_1mJy_multiscale.image\"\n",
    "# fn_108 = \"/orange/adamginsburg/brick_alma_linesurvey/2019.1.00092.S/imaging_results/source_ab_107_spw31_clean_2sigma_n50000_masked_3sigma_pbmask0p18.image\"\n",
    "fn_108_ms = \"recleaning/brick_108GHz_dasar_line_1mJy_multiscale_cyclefactor4.image\"\n",
    "# \"/blue/adamginsburg/abulatek/brick/dasar/recleaning/brick_108GHz_dasar_line_1mJy_multiscale_cyclefactor4.image\""
   ]
  },
  {
   "cell_type": "code",
   "execution_count": 18,
   "metadata": {},
   "outputs": [
    {
     "data": {
      "text/html": [
       "<div><i>Table length=2</i>\n",
       "<table id=\"table140184884276864\" class=\"table-striped table-bordered table-condensed\">\n",
       "<thead><tr><th>Dataset</th><th>freq_spw</th><th>Spectrum type</th><th>Species</th><th>QNs</th><th>Frequency (GHz)</th><th>Observed frequency (GHz)</th><th>Velocity (km/s)</th><th>Comment</th><th>E_u (K)</th></tr></thead>\n",
       "<thead><tr><th>str7</th><th>str10</th><th>str7</th><th>str22</th><th>str38</th><th>float64</th><th>float64</th><th>float64</th><th>str170</th><th>float64</th></tr></thead>\n",
       "<tr><td>data_59</td><td>106_spw29</td><td>mean</td><td>CH3OHvt=0-2</td><td>3(1,3)-4(0,4)A,vt=0</td><td>107.013831</td><td>107.0106</td><td>9.0</td><td>Absorption against the CMB!!! https://ui.adsabs.harvard.edu/abs/2008A%26A...489.1175P/abstract</td><td>--</td></tr>\n",
       "<tr><td>data_59</td><td>106_spw29</td><td>mean</td><td>CH3OHvt=0-2</td><td>3(1,3)-4(0,4)A,vt=0</td><td>107.013831</td><td>107.0106</td><td>9.0</td><td>Absorption against the CMB!!! https://ui.adsabs.harvard.edu/abs/2008A%26A...489.1175P/abstract</td><td>--</td></tr>\n",
       "</table></div>"
      ],
      "text/plain": [
       "<Table length=2>\n",
       "Dataset  freq_spw Spectrum type ...                                            Comment                                             E_u (K)\n",
       "  str7    str10        str7     ...                                             str170                                             float64\n",
       "------- --------- ------------- ... ---------------------------------------------------------------------------------------------- -------\n",
       "data_59 106_spw29          mean ... Absorption against the CMB!!! https://ui.adsabs.harvard.edu/abs/2008A%26A...489.1175P/abstract      --\n",
       "data_59 106_spw29          mean ... Absorption against the CMB!!! https://ui.adsabs.harvard.edu/abs/2008A%26A...489.1175P/abstract      --"
      ]
     },
     "execution_count": 18,
     "metadata": {},
     "output_type": "execute_result"
    }
   ],
   "source": [
    "methanol_107 = methanol_lines[methanol_lines['freq_spw'] == '106_spw29']\n",
    "methanol_108 = methanol_lines[methanol_lines['freq_spw'] == '107_spw31'][0]\n",
    "methanol_107"
   ]
  },
  {
   "cell_type": "code",
   "execution_count": 19,
   "metadata": {},
   "outputs": [
    {
     "name": "stderr",
     "output_type": "stream",
     "text": [
      "/Users/alyssabulatek/anaconda3/lib/python3.8/site-packages/casa_formats_io-0.1-py3.8-macosx-10.9-x86_64.egg/casa_formats_io/casa_dask.py:232: RuntimeWarning: divide by zero encountered in long_scalars\n",
      "  factors = [f for f in range(stacks[dim] + 1) if stacks[dim] % f == 0]\n",
      "WARNING: StokesWarning: Cube is a Stokes cube, returning spectral cube for I component [spectral_cube.io.core]\n",
      "WARNING: PossiblySlowWarning: This function (<function VaryingResolutionSpectralCube.to at 0x7f7f56187550>) requires loading the entire cube into memory and may therefore be slow. [spectral_cube.utils]\n",
      "/Users/alyssabulatek/anaconda3/lib/python3.8/site-packages/casa_formats_io-0.1-py3.8-macosx-10.9-x86_64.egg/casa_formats_io/casa_dask.py:232: RuntimeWarning: divide by zero encountered in long_scalars\n",
      "  factors = [f for f in range(stacks[dim] + 1) if stacks[dim] % f == 0]\n",
      "WARNING: StokesWarning: Cube is a Stokes cube, returning spectral cube for I component [spectral_cube.io.core]\n",
      "WARNING: PossiblySlowWarning: This function (<function VaryingResolutionSpectralCube.to at 0x7f7f56187550>) requires loading the entire cube into memory and may therefore be slow. [spectral_cube.utils]\n",
      "/Users/alyssabulatek/anaconda3/lib/python3.8/site-packages/radio_beam-0.3.3-py3.8.egg/radio_beam/multiple_beams.py:265: UserWarning: Do not use the average beam for convolution! Use the smallest common beam from `Beams.common_beam()`.\n",
      "  warnings.warn(\"Do not use the average beam for convolution! Use the\"\n",
      "WARNING: BeamAverageWarning: Arithmetic beam averaging is being performed.  This is not a mathematically robust operation, but is being permitted because the beams differ by <10000 [spectral_cube.base_class]\n"
     ]
    },
    {
     "name": "stdout",
     "output_type": "stream",
     "text": [
      "108.893929 GHz\n",
      "108.862921 GHz 108.90881338420179 GHz\n"
     ]
    },
    {
     "name": "stderr",
     "output_type": "stream",
     "text": [
      "/Users/alyssabulatek/anaconda3/lib/python3.8/site-packages/radio_beam-0.3.3-py3.8.egg/radio_beam/multiple_beams.py:265: UserWarning: Do not use the average beam for convolution! Use the smallest common beam from `Beams.common_beam()`.\n",
      "  warnings.warn(\"Do not use the average beam for convolution! Use the\"\n",
      "WARNING: BeamAverageWarning: Arithmetic beam averaging is being performed.  This is not a mathematically robust operation, but is being permitted because the beams differ by <10000 [spectral_cube.base_class]\n"
     ]
    },
    {
     "name": "stdout",
     "output_type": "stream",
     "text": [
      "I made the mom0 map for 108 MS\n"
     ]
    },
    {
     "ename": "FileNotFoundError",
     "evalue": "/blue/adamginsburg/abulatek/brick/dasar/recleaning/brick_107GHz_dasar_line_1mJy_multiscale.pb",
     "output_type": "error",
     "traceback": [
      "\u001b[0;31m---------------------------------------------------------------------------\u001b[0m",
      "\u001b[0;31mFileNotFoundError\u001b[0m                         Traceback (most recent call last)",
      "Cell \u001b[0;32mIn [19], line 52\u001b[0m\n\u001b[1;32m     49\u001b[0m fn_pb_108_ms \u001b[38;5;241m=\u001b[39m \u001b[38;5;124m\"\u001b[39m\u001b[38;5;124m/blue/adamginsburg/abulatek/brick/dasar/recleaning/brick_108GHz_dasar_line_1mJy_multiscale_cyclefactor4.pb\u001b[39m\u001b[38;5;124m\"\u001b[39m\n\u001b[1;32m     51\u001b[0m \u001b[38;5;66;03m# pb_107 = SpectralCube.read(fn_pb_107, format = 'casa_image')\u001b[39;00m\n\u001b[0;32m---> 52\u001b[0m pb_107_ms \u001b[38;5;241m=\u001b[39m \u001b[43mSpectralCube\u001b[49m\u001b[38;5;241;43m.\u001b[39;49m\u001b[43mread\u001b[49m\u001b[43m(\u001b[49m\u001b[43mfn_pb_107_ms\u001b[49m\u001b[43m,\u001b[49m\u001b[43m \u001b[49m\u001b[38;5;28;43mformat\u001b[39;49m\u001b[43m \u001b[49m\u001b[38;5;241;43m=\u001b[39;49m\u001b[43m \u001b[49m\u001b[38;5;124;43m'\u001b[39;49m\u001b[38;5;124;43mcasa_image\u001b[39;49m\u001b[38;5;124;43m'\u001b[39;49m\u001b[43m)\u001b[49m\n\u001b[1;32m     53\u001b[0m \u001b[38;5;66;03m# pb_108 = SpectralCube.read(fn_pb_108, format = 'casa_image')\u001b[39;00m\n\u001b[1;32m     54\u001b[0m pb_108_ms \u001b[38;5;241m=\u001b[39m SpectralCube\u001b[38;5;241m.\u001b[39mread(fn_pb_108_ms, \u001b[38;5;28mformat\u001b[39m \u001b[38;5;241m=\u001b[39m \u001b[38;5;124m'\u001b[39m\u001b[38;5;124mcasa_image\u001b[39m\u001b[38;5;124m'\u001b[39m)\n",
      "File \u001b[0;32m~/anaconda3/lib/python3.8/site-packages/spectral_cube-0.0.0-py3.8.egg/spectral_cube/io/core.py:118\u001b[0m, in \u001b[0;36mSpectralCubeRead.__call__\u001b[0;34m(self, filename, *args, **kwargs)\u001b[0m\n\u001b[1;32m    116\u001b[0m kwargs[\u001b[38;5;124m'\u001b[39m\u001b[38;5;124mtarget_cls\u001b[39m\u001b[38;5;124m'\u001b[39m] \u001b[38;5;241m=\u001b[39m BaseSpectralCube\n\u001b[1;32m    117\u001b[0m \u001b[38;5;28;01mtry\u001b[39;00m:\n\u001b[0;32m--> 118\u001b[0m     \u001b[38;5;28;01mreturn\u001b[39;00m \u001b[43mregistry\u001b[49m\u001b[38;5;241;43m.\u001b[39;49m\u001b[43mread\u001b[49m\u001b[43m(\u001b[49m\u001b[43mBaseSpectralCube\u001b[49m\u001b[43m,\u001b[49m\u001b[43m \u001b[49m\u001b[43mfilename\u001b[49m\u001b[43m,\u001b[49m\u001b[43m \u001b[49m\u001b[38;5;241;43m*\u001b[39;49m\u001b[43margs\u001b[49m\u001b[43m,\u001b[49m\u001b[43m \u001b[49m\u001b[38;5;241;43m*\u001b[39;49m\u001b[38;5;241;43m*\u001b[39;49m\u001b[43mkwargs\u001b[49m\u001b[43m)\u001b[49m\n\u001b[1;32m    119\u001b[0m \u001b[38;5;28;01mexcept\u001b[39;00m \u001b[38;5;167;01mIsADirectoryError\u001b[39;00m:  \u001b[38;5;66;03m# See note above StringWrapper\u001b[39;00m\n\u001b[1;32m    120\u001b[0m     \u001b[38;5;28;01mreturn\u001b[39;00m registry\u001b[38;5;241m.\u001b[39mread(BaseSpectralCube, StringWrapper(filename), \u001b[38;5;241m*\u001b[39margs, \u001b[38;5;241m*\u001b[39m\u001b[38;5;241m*\u001b[39mkwargs)\n",
      "File \u001b[0;32m~/anaconda3/lib/python3.8/site-packages/astropy/io/registry/compat.py:43\u001b[0m, in \u001b[0;36m_make_io_func.<locals>.wrapper\u001b[0;34m(registry, *args, **kwargs)\u001b[0m\n\u001b[1;32m     41\u001b[0m     registry \u001b[38;5;241m=\u001b[39m default_registry\n\u001b[1;32m     42\u001b[0m \u001b[38;5;66;03m# get and call bound method from registry instance\u001b[39;00m\n\u001b[0;32m---> 43\u001b[0m \u001b[38;5;28;01mreturn\u001b[39;00m \u001b[38;5;28;43mgetattr\u001b[39;49m\u001b[43m(\u001b[49m\u001b[43mregistry\u001b[49m\u001b[43m,\u001b[49m\u001b[43m \u001b[49m\u001b[43mmethod_name\u001b[49m\u001b[43m)\u001b[49m\u001b[43m(\u001b[49m\u001b[38;5;241;43m*\u001b[39;49m\u001b[43margs\u001b[49m\u001b[43m,\u001b[49m\u001b[43m \u001b[49m\u001b[38;5;241;43m*\u001b[39;49m\u001b[38;5;241;43m*\u001b[39;49m\u001b[43mkwargs\u001b[49m\u001b[43m)\u001b[49m\n",
      "File \u001b[0;32m~/anaconda3/lib/python3.8/site-packages/astropy/io/registry/core.py:199\u001b[0m, in \u001b[0;36mUnifiedInputRegistry.read\u001b[0;34m(self, cls, format, cache, *args, **kwargs)\u001b[0m\n\u001b[1;32m    195\u001b[0m     \u001b[38;5;28mformat\u001b[39m \u001b[38;5;241m=\u001b[39m \u001b[38;5;28mself\u001b[39m\u001b[38;5;241m.\u001b[39m_get_valid_format(\n\u001b[1;32m    196\u001b[0m         \u001b[38;5;124m'\u001b[39m\u001b[38;5;124mread\u001b[39m\u001b[38;5;124m'\u001b[39m, \u001b[38;5;28mcls\u001b[39m, path, fileobj, args, kwargs)\n\u001b[1;32m    198\u001b[0m reader \u001b[38;5;241m=\u001b[39m \u001b[38;5;28mself\u001b[39m\u001b[38;5;241m.\u001b[39mget_reader(\u001b[38;5;28mformat\u001b[39m, \u001b[38;5;28mcls\u001b[39m)\n\u001b[0;32m--> 199\u001b[0m data \u001b[38;5;241m=\u001b[39m \u001b[43mreader\u001b[49m\u001b[43m(\u001b[49m\u001b[38;5;241;43m*\u001b[39;49m\u001b[43margs\u001b[49m\u001b[43m,\u001b[49m\u001b[43m \u001b[49m\u001b[38;5;241;43m*\u001b[39;49m\u001b[38;5;241;43m*\u001b[39;49m\u001b[43mkwargs\u001b[49m\u001b[43m)\u001b[49m\n\u001b[1;32m    201\u001b[0m \u001b[38;5;28;01mif\u001b[39;00m \u001b[38;5;129;01mnot\u001b[39;00m \u001b[38;5;28misinstance\u001b[39m(data, \u001b[38;5;28mcls\u001b[39m):\n\u001b[1;32m    202\u001b[0m     \u001b[38;5;66;03m# User has read with a subclass where only the parent class is\u001b[39;00m\n\u001b[1;32m    203\u001b[0m     \u001b[38;5;66;03m# registered.  This returns the parent class, so try coercing\u001b[39;00m\n\u001b[1;32m    204\u001b[0m     \u001b[38;5;66;03m# to desired subclass.\u001b[39;00m\n\u001b[1;32m    205\u001b[0m     \u001b[38;5;28;01mtry\u001b[39;00m:\n",
      "File \u001b[0;32m~/anaconda3/lib/python3.8/site-packages/spectral_cube-0.0.0-py3.8.egg/spectral_cube/io/casa_image.py:61\u001b[0m, in \u001b[0;36mload_casa_image\u001b[0;34m(filename, skipdata, memmap, skipvalid, skipcs, target_cls, use_dask, target_chunksize, **kwargs)\u001b[0m\n\u001b[1;32m     59\u001b[0m \u001b[38;5;66;03m# read in the data\u001b[39;00m\n\u001b[1;32m     60\u001b[0m \u001b[38;5;28;01mif\u001b[39;00m \u001b[38;5;129;01mnot\u001b[39;00m skipdata:\n\u001b[0;32m---> 61\u001b[0m     data \u001b[38;5;241m=\u001b[39m \u001b[43mimage_to_dask\u001b[49m\u001b[43m(\u001b[49m\u001b[43mfilename\u001b[49m\u001b[43m,\u001b[49m\u001b[43m \u001b[49m\u001b[43mmemmap\u001b[49m\u001b[38;5;241;43m=\u001b[39;49m\u001b[43mmemmap\u001b[49m\u001b[43m,\u001b[49m\u001b[43m \u001b[49m\u001b[43mtarget_chunksize\u001b[49m\u001b[38;5;241;43m=\u001b[39;49m\u001b[43mtarget_chunksize\u001b[49m\u001b[43m)\u001b[49m\n\u001b[1;32m     63\u001b[0m \u001b[38;5;66;03m# CASA stores validity of data as a mask\u001b[39;00m\n\u001b[1;32m     64\u001b[0m \u001b[38;5;28;01mif\u001b[39;00m skipvalid:\n",
      "File \u001b[0;32m~/anaconda3/lib/python3.8/site-packages/casa_formats_io-0.1-py3.8-macosx-10.9-x86_64.egg/casa_formats_io/casa_dask.py:148\u001b[0m, in \u001b[0;36mimage_to_dask\u001b[0;34m(imagename, memmap, mask, target_chunksize)\u001b[0m\n\u001b[1;32m    145\u001b[0m     imagename \u001b[38;5;241m=\u001b[39m os\u001b[38;5;241m.\u001b[39mpath\u001b[38;5;241m.\u001b[39mjoin(\u001b[38;5;28mstr\u001b[39m(imagename), mask)\n\u001b[1;32m    147\u001b[0m \u001b[38;5;28;01mif\u001b[39;00m \u001b[38;5;129;01mnot\u001b[39;00m os\u001b[38;5;241m.\u001b[39mpath\u001b[38;5;241m.\u001b[39mexists(imagename):\n\u001b[0;32m--> 148\u001b[0m     \u001b[38;5;28;01mraise\u001b[39;00m \u001b[38;5;167;01mFileNotFoundError\u001b[39;00m(imagename)\n\u001b[1;32m    150\u001b[0m \u001b[38;5;66;03m# the data is stored in the following binary file\u001b[39;00m\n\u001b[1;32m    151\u001b[0m \u001b[38;5;66;03m# each of the chunks is stored on disk in fortran-order\u001b[39;00m\n\u001b[1;32m    152\u001b[0m img_fn \u001b[38;5;241m=\u001b[39m os\u001b[38;5;241m.\u001b[39mpath\u001b[38;5;241m.\u001b[39mjoin(\u001b[38;5;28mstr\u001b[39m(imagename), \u001b[38;5;124m'\u001b[39m\u001b[38;5;124mtable.f0_TSM0\u001b[39m\u001b[38;5;124m'\u001b[39m)\n",
      "\u001b[0;31mFileNotFoundError\u001b[0m: /blue/adamginsburg/abulatek/brick/dasar/recleaning/brick_107GHz_dasar_line_1mJy_multiscale.pb"
     ]
    }
   ],
   "source": [
    "# cube_107 = SpectralCube.read(fn_107, use_dask=True).with_spectral_unit(u.GHz).to(u.K)\n",
    "cube_107_ms = SpectralCube.read(fn_107_ms, use_dask=True).with_spectral_unit(u.GHz).to(u.K)\n",
    "# cube_108 = SpectralCube.read(fn_108, use_dask=True).with_spectral_unit(u.GHz).to(u.K)\n",
    "cube_108_ms = SpectralCube.read(fn_108_ms, use_dask=True).with_spectral_unit(u.GHz).to(u.K)\n",
    "\n",
    "# slc_107 = cube_107[:1].subcube_slices_from_mask(cube_107[:1].mask)\n",
    "slc_107_ms = cube_107_ms[:1].subcube_slices_from_mask(cube_107_ms[:1].mask)\n",
    "# slc_108 = cube_108[:1].subcube_slices_from_mask(cube_108[:1].mask)\n",
    "slc_108_ms = cube_108_ms[:1].subcube_slices_from_mask(cube_108_ms[:1].mask)\n",
    "\n",
    "# cube_107 = cube_107[:,slc_107[1],slc_107[2]]\n",
    "cube_107_ms = cube_107_ms[:,slc_107_ms[1],slc_107_ms[2]]\n",
    "# cube_108 = cube_108[:,slc_108[1],slc_108[2]]\n",
    "cube_108_ms = cube_108_ms[:,slc_108_ms[1],slc_108_ms[2]]\n",
    "\n",
    "# cube_107.beam_threshold = 10000\n",
    "cube_107_ms.beam_threshold = 10000\n",
    "# cube_108.beam_threshold = 10000\n",
    "cube_108_ms.beam_threshold = 10000\n",
    "\n",
    "# restf_107 = u.Quantity(methanol_107[0]['Frequency (GHz)'], u.GHz)\n",
    "# print(restf_107)\n",
    "# if (cube_107.spectral_axis.min() < restf_107) and (cube_107.spectral_axis.max() > restf_107):\n",
    "#     scube_107 = cube_107.with_spectral_unit(u.km/u.s, rest_value=restf_107, velocity_convention='radio').spectral_slab(vmin, vmax)\n",
    "#     m0_107 = scube_107.moment0(axis=0)\n",
    "    \n",
    "restf_107_ms = u.Quantity(methanol_107[0]['Frequency (GHz)'], u.GHz)\n",
    "if (cube_107_ms.spectral_axis.min() < restf_107_ms) and (cube_107_ms.spectral_axis.max() > restf_107_ms):\n",
    "    scube_107_ms = cube_107_ms.with_spectral_unit(u.km/u.s, rest_value=restf_107_ms, velocity_convention='radio').spectral_slab(vmin, vmax)\n",
    "    m0_107_ms = scube_107_ms.moment0(axis=0)\n",
    "\n",
    "# restf_108 = u.Quantity(methanol_108['Frequency (GHz)'], u.GHz)\n",
    "# if (cube_108.spectral_axis.min() < restf_108) and (cube_108.spectral_axis.max() > restf_108):\n",
    "#     scube_108 = cube_108.with_spectral_unit(u.km/u.s, rest_value=restf_108, velocity_convention='radio').spectral_slab(vmin, vmax)\n",
    "#     m0_108 = scube_108.moment0(axis=0)\n",
    "    \n",
    "restf_108_ms = u.Quantity(methanol_108['Frequency (GHz)'], u.GHz)\n",
    "print(restf_108_ms)\n",
    "print(cube_108_ms.spectral_axis.min(), cube_108_ms.spectral_axis.max())\n",
    "if (cube_108_ms.spectral_axis.min() < restf_108_ms) and (cube_108_ms.spectral_axis.max() > restf_108_ms):\n",
    "    scube_108_ms = cube_108_ms.with_spectral_unit(u.km/u.s, rest_value=restf_108_ms, velocity_convention='radio').spectral_slab(vmin, vmax)\n",
    "    m0_108_ms = scube_108_ms.moment0(axis=0)\n",
    "    print(\"I made the mom0 map for 108 MS\")\n",
    "    \n",
    "# Make the mom0s better\n",
    "# fn_pb_107 = \"/orange/adamginsburg/brick_alma_linesurvey/2019.1.00092.S/imaging_results/source_ab_106_spw29_clean_2sigma_n50000_masked_3sigma_pbmask0p18.pb\"\n",
    "fn_pb_107_ms = \"/blue/adamginsburg/abulatek/brick/dasar/recleaning/brick_107GHz_dasar_line_1mJy_multiscale.pb\"\n",
    "# fn_pb_108 = \"/orange/adamginsburg/brick_alma_linesurvey/2019.1.00092.S/imaging_results/source_ab_107_spw31_clean_2sigma_n50000_masked_3sigma_pbmask0p18.pb\"\n",
    "fn_pb_108_ms = \"/blue/adamginsburg/abulatek/brick/dasar/recleaning/brick_108GHz_dasar_line_1mJy_multiscale_cyclefactor4.pb\"\n",
    "\n",
    "# pb_107 = SpectralCube.read(fn_pb_107, format = 'casa_image')\n",
    "pb_107_ms = SpectralCube.read(fn_pb_107_ms, format = 'casa_image')\n",
    "# pb_108 = SpectralCube.read(fn_pb_108, format = 'casa_image')\n",
    "pb_108_ms = SpectralCube.read(fn_pb_108_ms, format = 'casa_image')\n",
    "\n",
    "# m0_107_better = (m0_107*(m0_107.shape[0]*m0_107.shape[1]))/pb_107.sum()\n",
    "m0_107_ms_better = (m0_107_ms*(m0_107_ms.shape[0]*m0_107_ms.shape[1]))/pb_107_ms.sum()\n",
    "# m0_108_better = (m0_108*(m0_108.shape[0]*m0_108.shape[1]))/pb_108.sum()\n",
    "m0_108_ms_better = (m0_108_ms*(m0_108_ms.shape[0]*m0_108_ms.shape[1]))/pb_108_ms.sum()"
   ]
  },
  {
   "cell_type": "code",
   "execution_count": null,
   "metadata": {},
   "outputs": [],
   "source": [
    "print(restf_108)"
   ]
  },
  {
   "cell_type": "code",
   "execution_count": null,
   "metadata": {},
   "outputs": [],
   "source": [
    "list(pb_107[:,256,256] == 1.).count(False)"
   ]
  },
  {
   "cell_type": "markdown",
   "metadata": {},
   "source": [
    "## Matplotlib stuff"
   ]
  },
  {
   "cell_type": "code",
   "execution_count": null,
   "metadata": {},
   "outputs": [],
   "source": [
    "import matplotlib.pyplot as plt\n",
    "import numpy as np\n",
    "\n",
    "SM_SIZE = 10\n",
    "MD_SIZE = 14\n",
    "LG_SIZE = 16\n",
    "\n",
    "plt.rc('font', size = MD_SIZE)          # controls default text sizes\n",
    "plt.rc('axes', titlesize = LG_SIZE)     # fontsize of the axes title\n",
    "plt.rc('axes', labelsize = MD_SIZE)     # fontsize of the x and y labels\n",
    "plt.rc('xtick', labelsize = MD_SIZE)    # fontsize of the tick labels\n",
    "plt.rc('ytick', labelsize = MD_SIZE)    # fontsize of the tick labels\n",
    "plt.rc('legend', fontsize = SM_SIZE)    # legend fontsize\n",
    "plt.rc('figure', titlesize = LG_SIZE)   # fontsize of the figure title"
   ]
  },
  {
   "cell_type": "markdown",
   "metadata": {},
   "source": [
    "## Regular cleaning"
   ]
  },
  {
   "cell_type": "code",
   "execution_count": null,
   "metadata": {},
   "outputs": [],
   "source": [
    "# plt.figure(figsize = (20, 5))\n",
    "\n",
    "# from astropy.visualization import simple_norm\n",
    "# highest_freq_norm = simple_norm(m0_108_better.value, min_percent = 1, max_percent = 99.99)\n",
    "\n",
    "# ax1 = plt.subplot(131,) \n",
    "# ax2 = plt.subplot(132,)\n",
    "# ax3 = plt.subplot(133,)\n",
    "\n",
    "# contour_levels = [0.003]\n",
    "\n",
    "# im1 = ax1.imshow(m0_107_better.value, norm = highest_freq_norm, origin = 'lower', cmap = 'inferno')\n",
    "# im2 = ax2.imshow(m0_108_better.value, norm = highest_freq_norm, origin = 'lower', cmap = 'inferno')\n",
    "# ax3.imshow(m0_107_better.value, norm = highest_freq_norm, origin = 'lower', cmap = 'inferno')\n",
    "# ax3.contour(m0_108_better.value, contour_levels, colors = 'w', \n",
    "#             extent = (0, m0_107_better.shape[0], 0, m0_107_better.shape[1]))\n",
    "\n",
    "# im_ratio_107 = m0_107_better.shape[0]/m0_107_better.shape[1]\n",
    "# im_ratio_108 = m0_108_better.shape[0]/m0_108_better.shape[1]\n",
    "\n",
    "# cbar1 = plt.colorbar(mappable = im1, ax = ax1, label = r\"Integrated intensity [K km s$^{-1}$]\", fraction = 0.047*im_ratio_107)\n",
    "# cbar2 = plt.colorbar(mappable = im2, ax = ax2, label = r\"Integrated intensity [K km s$^{-1}$]\", fraction = 0.047*im_ratio_108)\n",
    "\n",
    "# for ax in [ax1, ax2, ax3]:\n",
    "#     ax.tick_params(direction = 'in')\n",
    "#     ax.xaxis.set_tick_params(labelbottom = False)\n",
    "#     ax.yaxis.set_tick_params(labelleft = False)\n",
    "    \n",
    "# ax1.set_title(\"CH$_3$OH $3_1 - 4_0$ A at 107 GHz\", y = 1.01)\n",
    "# ax2.set_title(\"CH$_3$OH $0_0 - 1_{-1}$ at 108.9 GHz\", y = 1.01)\n",
    "# ax3.set_title(\"108.9 GHz contours on 107 GHz image\", y = 1.01)\n",
    "\n",
    "# # plt.suptitle(f'Range: {round(vmin.value)} km/s to {round(vmax.value)} km/s', fontsize = 20, y = 1.02)\n",
    "\n",
    "# plt.rcParams.update({\n",
    "#     \"figure.facecolor\":  'w',\n",
    "#     \"axes.facecolor\":    'w',\n",
    "#     \"savefig.facecolor\": 'w'\n",
    "# })\n",
    "# print(f'{basedir}/methanol_comparison_{round(vmax.value)}kms.pdf')\n",
    "# plt.savefig(f'{basedir}/methanol_comparison_{round(vmax.value)}kms.pdf')\n",
    "# plt.savefig(f'{basedir}/methanol_comparison_{round(vmax.value)}kms.png', dpi = 250, bbox_inches = 'tight')\n",
    "# # Also save to paper directory\n",
    "# plt.savefig(f'/blue/adamginsburg/abulatek/brick/dasar/632e0742965a6e88270d73d7/figures/methanol_comparison_{round(vmax.value)}kms.pdf', bbox_inches = 'tight')\n",
    "# plt.savefig(f'/blue/adamginsburg/abulatek/brick/dasar/632e0742965a6e88270d73d7/figures/methanol_comparison_{round(vmax.value)}kms.png', dpi = 250, bbox_inches = 'tight')"
   ]
  },
  {
   "cell_type": "markdown",
   "metadata": {},
   "source": [
    "## Multiscale cleaning"
   ]
  },
  {
   "cell_type": "code",
   "execution_count": null,
   "metadata": {},
   "outputs": [],
   "source": [
    "from astropy.visualization import simple_norm\n",
    "from astropy import wcs\n",
    "\n",
    "plt.figure(figsize = (20, 5))\n",
    "\n",
    "highest_freq_norm = simple_norm(m0_108_ms_better.value, min_percent = 1, max_percent = 99.99)\n",
    "\n",
    "ax1 = plt.subplot(131,) \n",
    "ax2 = plt.subplot(132,)\n",
    "ax3 = plt.subplot(133,)\n",
    "\n",
    "contour_levels = [0.1] # used to be 2.5 before I changed to \"better\" moment maps\n",
    "\n",
    "im1 = ax1.imshow(m0_107_ms_better.value, origin = 'lower', norm = highest_freq_norm, cmap = 'inferno') # vmin = -0.2, vmax = 0.1\n",
    "im2 = ax2.imshow(m0_108_ms_better.value, origin = 'lower', norm = highest_freq_norm, cmap = 'inferno') # norm = highest_freq_norm, vmin = -0.015, vmax = 0.015\n",
    "ax3.imshow(m0_107_ms_better.value, origin = 'lower', norm = highest_freq_norm, cmap = 'inferno') # norm = highest_freq_norm, vmin = -0.2, vmax = 0.1\n",
    "ax3.contour(m0_108_ms_better.value, contour_levels, colors = 'w', \n",
    "            extent = (0, m0_107_ms_better.shape[0], 0, m0_107_ms_better.shape[1]))\n",
    "\n",
    "im_ratio_107_ms = m0_107_ms_better.shape[0]/m0_107_ms_better.shape[1]\n",
    "im_ratio_108_ms = m0_108_ms_better.shape[0]/m0_108_ms_better.shape[1]\n",
    "\n",
    "cbar1 = plt.colorbar(mappable = im1, ax = ax1, label = f\"Integrated intensity [{m0_107_ms_better.unit.to_string(format = 'latex_inline')}]\", fraction = 0.047*im_ratio_107_ms)\n",
    "cbar2 = plt.colorbar(mappable = im2, ax = ax2, label = f\"Integrated intensity [{m0_108_ms_better.unit.to_string(format = 'latex_inline')}]\", fraction = 0.047*im_ratio_108_ms)\n",
    "\n",
    "# Make beam for 107 GHz panel\n",
    "pixscale_107 = np.abs((wcs.utils.proj_plane_pixel_area(m0_107_ms_better.wcs)**0.5*u.deg).to(u.arcsec))\n",
    "bm_107 = m0_107_ms_better.beam\n",
    "print(\"107 GHz beam:\", bm_107)\n",
    "bmell_107 = bm_107.ellipse_to_plot(10, 10, pixscale_107) # 5 4 is coordinate, need to get pixscale\n",
    "bmell_107.set_facecolor('none')\n",
    "bmell_107.set_edgecolor('k')\n",
    "ax1.add_artist(bmell_107)\n",
    "\n",
    "# Make beam for 108 GHz panel\n",
    "pixscale_108 = np.abs((wcs.utils.proj_plane_pixel_area(m0_108_ms_better.wcs)**0.5*u.deg).to(u.arcsec))\n",
    "bm_108 = m0_108_ms_better.beam\n",
    "print(\"108 GHz beam:\", bm_108)\n",
    "bmell_108 = bm_108.ellipse_to_plot(10, 10, pixscale_108) # 5 4 is coordinate, need to get pixscale\n",
    "bmell_108.set_facecolor('none')\n",
    "bmell_108.set_edgecolor('k')\n",
    "ax2.add_artist(bmell_108)\n",
    "\n",
    "for ax in [ax1, ax2, ax3]:\n",
    "    ax.tick_params(direction = 'in')\n",
    "    ax.xaxis.set_tick_params(labelbottom = False)\n",
    "    ax.yaxis.set_tick_params(labelleft = False)\n",
    "    \n",
    "ax1.set_title(\"CH$_3$OH $3_1 - 4_0$ A at 107 GHz\", y = 1.01)\n",
    "ax2.set_title(\"CH$_3$OH $0_0 - 1_{-1}$ at 108.9 GHz\", y = 1.01)\n",
    "ax3.set_title(\"108.9 GHz contours on 107 GHz image\", y = 1.01)\n",
    "\n",
    "# plt.suptitle(f'Range: {round(vmin.value)} km/s to {round(vmax.value)} km/s', fontsize = 20, y = 1.02)\n",
    "\n",
    "plt.rcParams.update({\n",
    "    \"figure.facecolor\":  'w',\n",
    "    \"axes.facecolor\":    'w',\n",
    "    \"savefig.facecolor\": 'w'\n",
    "})\n",
    "print(f'{basedir}/methanol_comparison_{round(vmax.value)}kms_multiscale.pdf')\n",
    "plt.savefig(f'{basedir}/methanol_comparison_{round(vmax.value)}kms_multiscale.pdf')\n",
    "plt.savefig(f'{basedir}/methanol_comparison_{round(vmax.value)}kms_multiscale.png', dpi = 250, bbox_inches = 'tight')\n",
    "# Also save to paper directory\n",
    "plt.savefig(f'/blue/adamginsburg/abulatek/brick/dasar/632e0742965a6e88270d73d7/figures/methanol_comparison_{round(vmax.value)}kms_multiscale.pdf', bbox_inches = 'tight')\n",
    "plt.savefig(f'/blue/adamginsburg/abulatek/brick/dasar/632e0742965a6e88270d73d7/figures/methanol_comparison_{round(vmax.value)}kms_multiscale.png', dpi = 250, bbox_inches = 'tight')"
   ]
  },
  {
   "cell_type": "code",
   "execution_count": null,
   "metadata": {},
   "outputs": [],
   "source": [
    "np.nanmin(m0_107_ms_better)"
   ]
  },
  {
   "cell_type": "code",
   "execution_count": null,
   "metadata": {},
   "outputs": [],
   "source": []
  }
 ],
 "metadata": {
  "kernelspec": {
   "display_name": "Python 3 (ipykernel)",
   "language": "python",
   "name": "python3"
  },
  "language_info": {
   "codemirror_mode": {
    "name": "ipython",
    "version": 3
   },
   "file_extension": ".py",
   "mimetype": "text/x-python",
   "name": "python",
   "nbconvert_exporter": "python",
   "pygments_lexer": "ipython3",
   "version": "3.8.5"
  }
 },
 "nbformat": 4,
 "nbformat_minor": 4
}
