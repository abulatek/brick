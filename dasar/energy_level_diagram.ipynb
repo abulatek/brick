{
 "cells": [
  {
   "cell_type": "code",
   "execution_count": 1,
   "id": "48b77cf2-a132-425d-82ec-0ab08c7977be",
   "metadata": {},
   "outputs": [
    {
     "name": "stderr",
     "output_type": "stream",
     "text": [
      "/blue/adamginsburg/abulatek/miniconda3/lib/python3.9/site-packages/astroquery/lamda/core.py:145: UserWarning: The first time a LAMDA function is called, it must assemble a list of valid molecules and URLs.  This list will be cached so future operations will be faster.\n",
      "  warnings.warn(\"The first time a LAMDA function is called, it must \"\n"
     ]
    }
   ],
   "source": [
    "# Access information from LAMDA\n",
    "from astroquery.lamda import Lamda\n",
    "import astropy.units as u\n",
    "\n",
    "collrates, radtransitions, enlevels = Lamda.query(mol='ch3oh_a')\n",
    "# print(enlevels) # I would have written the J column to be in two separate columns (J and K)\n",
    "\n",
    "j_and_k = enlevels['J'] # Need to parse\n",
    "energies = enlevels['Energy']\n",
    "\n",
    "js, ks = map(list, zip(*[combo.split('_') for combo in j_and_k]))\n",
    "js_int = [int(j) for j in js] # I feel like I shouldn't have to do this\n",
    "ks_int = [int(k) for k in ks] # I feel like I shouldn't have to do this"
   ]
  },
  {
   "cell_type": "code",
   "execution_count": 2,
   "id": "b7da42cd-1100-408d-996c-7c588a045cfe",
   "metadata": {},
   "outputs": [],
   "source": [
    "from astropy import constants\n",
    "energies_K = (((energies*(1/u.cm))*constants.h*constants.c).decompose()).to(u.K, equivalencies=u.temperature_energy())"
   ]
  },
  {
   "cell_type": "code",
   "execution_count": 3,
   "id": "52377b25-e5c0-483d-9dd0-7268ae0766b2",
   "metadata": {},
   "outputs": [],
   "source": [
    "# Build more useful table\n",
    "from astropy.table import Table\n",
    "\n",
    "tbl = Table([js_int, ks_int, energies_K], names=('J', 'K', 'Energy'))\n",
    "tbl_lowE = tbl[tbl['Energy'] < 70*u.K] # used to be 40"
   ]
  },
  {
   "cell_type": "code",
   "execution_count": 4,
   "id": "13654a8a-d046-42ef-91f3-0ed9fdae68fb",
   "metadata": {},
   "outputs": [],
   "source": [
    "# Separate into K levels\n",
    "tbl_lowE_K0 = tbl_lowE[tbl_lowE['K'] == 0]\n",
    "tbl_lowE_K1 = tbl_lowE[tbl_lowE['K'] == 1]\n",
    "# tbl_lowE_K2 = tbl_lowE[tbl_lowE['K'] == 2]\n",
    "tbl_lowE_Km1 = tbl_lowE[tbl_lowE['K'] == -1]"
   ]
  },
  {
   "cell_type": "code",
   "execution_count": 5,
   "id": "b5466f42-e3a5-4347-9795-3ac0de66dd94",
   "metadata": {},
   "outputs": [],
   "source": [
    "# Matplotlib setup\n",
    "import matplotlib.pyplot as plt\n",
    "\n",
    "SM_SIZE = 8\n",
    "MD_SIZE = 12\n",
    "LG_SIZE = 14\n",
    "\n",
    "plt.rc('font', size = MD_SIZE)          # controls default text sizes\n",
    "plt.rc('axes', titlesize = LG_SIZE)     # fontsize of the axes title\n",
    "plt.rc('axes', labelsize = MD_SIZE)     # fontsize of the x and y labels\n",
    "plt.rc('xtick', labelsize = MD_SIZE)    # fontsize of the tick labels\n",
    "plt.rc('ytick', labelsize = MD_SIZE)    # fontsize of the tick labels\n",
    "plt.rc('legend', fontsize = SM_SIZE)    # legend fontsize\n",
    "plt.rc('figure', titlesize = LG_SIZE)   # fontsize of the figure title\n",
    "\n",
    "plt.rcParams.update({\n",
    "    'text.usetex': True,\n",
    "    'font.family': 'serif',\n",
    "})"
   ]
  },
  {
   "cell_type": "code",
   "execution_count": 6,
   "id": "26028b06-0cbe-4a57-aab6-df1d73e12a7c",
   "metadata": {},
   "outputs": [
    {
     "data": {
      "image/png": "[encoded data removed]",
      "text/plain": [
       "<Figure size 600x1000 with 1 Axes>"
      ]
     },
     "metadata": {
      "needs_background": "light"
     },
     "output_type": "display_data"
    }
   ],
   "source": [
    "# Initialize energy level diagram and put levels on it\n",
    "from energydiagram import ED\n",
    "\n",
    "fig = plt.figure(figsize = (6, 10))\n",
    "\n",
    "d = ED()\n",
    "\n",
    "d.add_level(tbl_lowE_K0[0]['Energy'], '', top_text = tbl_lowE_K0[0]['J'])\n",
    "for level in tbl_lowE_K0[1:]:\n",
    "    d.add_level(level['Energy'], '', 'last', top_text = level['J'])\n",
    "    \n",
    "d.add_level(tbl_lowE_Km1[0]['Energy'], '', top_text = tbl_lowE_Km1[0]['J'])\n",
    "for level in tbl_lowE_Km1[1:]:\n",
    "    d.add_level(level['Energy'], '', 'last', top_text = level['J'])\n",
    "    \n",
    "d.add_level(tbl_lowE_K1[0]['Energy'], '', 'last', top_text = '') # tbl_lowE_K1[0]['J']\n",
    "for level in tbl_lowE_K1[1:]:\n",
    "    d.add_level(level['Energy'], '', 'last', top_text = '') # level['J']\n",
    "    \n",
    "# d.add_level(tbl_lowE_K2[0]['Energy'], '', top_text = tbl_lowE_K2[0]['J'])\n",
    "# for level in tbl_lowE_K2[1:]:\n",
    "#     d.add_level(level['Energy'], '', 'last', top_text = level['J'])\n",
    "\n",
    "# Set up spacings? Isn't working\n",
    "d.dimension = 10 # Decrease to make plot wider\n",
    "d.offset = 0.1\n",
    "d.space = 10 # Decrease to make plot taller\n",
    "\n",
    "# Add connections\n",
    "d.add_link(4, 10, color = 'r') # 3_1, 4_0 at 107 GHz\n",
    "d.add_link(3, 9, color = 'g') # 2_1, 3_0 at 157 GHz\n",
    "d.add_link(2, 8, color = 'b') # 1_1, 2_0 at 206 GHz\n",
    "d.add_link(7, 13, color = 'c') # 7_0, 6_1 at 44 GHz\n",
    "# d.add_link(6, 12, color = 'm') # 5_1, 6_0 at 6.7 GHz, it's out of band for ALMA\n",
    "# d.add_link(2, 14, color = 'm') # 3_-1, 2_0 at 12.1 GHz, took out of diagram because it's not in-band\n",
    "# Can't do the 108 GHz transition because it's on the E ladder\n",
    "\n",
    "d.plot(show_IDs = False, ax = fig.gca()) # Have to do this to create the plot; use show_IDs to show where connections should be\n",
    "\n",
    "# Set up y-label\n",
    "d.ax.set_ylabel('Energy above ground [K]')\n",
    "# Make more spines visible\n",
    "d.ax.spines['bottom'].set_visible(True)\n",
    "d.ax.spines['top'].set_visible(True)\n",
    "d.ax.spines['right'].set_visible(True)\n",
    "# Set up x-label\n",
    "d.ax.axes.get_xaxis().set_visible(True)\n",
    "d.ax.set_xlabel(f'$K$')\n",
    "d.ax.set_xticks([25, 45], ['0', '1'])\n",
    "\n",
    "# Make sure background is transparent for poster\n",
    "d.ax.set(facecolor = \"white\")\n",
    "fig.patch.set_alpha(0.0)\n",
    "\n",
    "# Output figure into Overleaf directory\n",
    "fig.tight_layout()\n",
    "plt.savefig(\"632e0742965a6e88270d73d7/energy_level_diagram.pdf\", bbox_inches = 'tight')\n",
    "# plt.savefig(\"632e0742965a6e88270d73d7/figures/energy_level_diagram.png\", dpi = 250, bbox_inches = 'tight')"
   ]
  },
  {
   "cell_type": "code",
   "execution_count": null,
   "id": "a3a3ac93-69e6-435e-9ac0-c32b80c7c224",
   "metadata": {},
   "outputs": [],
   "source": []
  }
 ],
 "metadata": {
  "kernelspec": {
   "display_name": "Python 3 (ipykernel)",
   "language": "python",
   "name": "python3"
  },
  "language_info": {
   "codemirror_mode": {
    "name": "ipython",
    "version": 3
   },
   "file_extension": ".py",
   "mimetype": "text/x-python",
   "name": "python",
   "nbconvert_exporter": "python",
   "pygments_lexer": "ipython3",
   "version": "3.9.13"
  }
 },
 "nbformat": 4,
 "nbformat_minor": 5
}
