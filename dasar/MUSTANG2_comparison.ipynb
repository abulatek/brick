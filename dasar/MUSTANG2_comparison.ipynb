{
 "cells": [
  {
   "cell_type": "markdown",
   "id": "d6b393c3-bd92-48bc-84b4-e1b6b27687af",
   "metadata": {},
   "source": [
    "### Extract value from MUSTANG-2 data (this is correct)"
   ]
  },
  {
   "cell_type": "code",
   "execution_count": 1,
   "id": "379bf475-d1a7-4426-8e82-e0d2d4123a9f",
   "metadata": {},
   "outputs": [
    {
     "data": {
      "text/plain": [
       "<SkyCoord (Galactic): (l, b) in deg\n",
       "    (0.26096684, 0.01615326)>"
      ]
     },
     "execution_count": 1,
     "metadata": {},
     "output_type": "execute_result"
    }
   ],
   "source": [
    "from astropy import coordinates\n",
    "from astropy import units as u\n",
    "coordinates.SkyCoord('17:46:10.63 -28:42:17.8', unit=(u.h, u.deg), frame='icrs').galactic"
   ]
  },
  {
   "cell_type": "code",
   "execution_count": 2,
   "id": "abe26737-4bc3-4260-885d-b8e96f1f6eba",
   "metadata": {},
   "outputs": [
    {
     "name": "stdout",
     "output_type": "stream",
     "text": [
      "91.78029287200066 arcsec2\n"
     ]
    },
    {
     "data": {
      "text/latex": [
       "$0.032720671 \\; \\mathrm{K}$"
      ],
      "text/plain": [
       "<Quantity 0.03272067 K>"
      ]
     },
     "execution_count": 2,
     "metadata": {},
     "output_type": "execute_result"
    }
   ],
   "source": [
    "import numpy as np\n",
    "# What is the mean brightness in a 62.9\" diameter aperture centered on our pointing in MGPS?\n",
    "# REMEMBER: CARTA regions take semi-axes (radii)!\n",
    "bmaj = (2.500000000000E-03*u.deg).to(u.arcsec)\n",
    "bmin = (2.500000000000E-03*u.deg).to(u.arcsec)\n",
    "fwhm_to_sigma = 1./(8*np.log(2))**0.5\n",
    "beam_area = 2.*np.pi*(bmaj*bmin*fwhm_to_sigma**2)\n",
    "print(beam_area)\n",
    "freq = 90*u.GHz\n",
    "equiv = u.brightness_temperature(freq)\n",
    "(1.756621805784e-2*u.Jy/beam_area).to(u.K, equivalencies=equiv) # We started with Jy, and incorporated beam info"
   ]
  },
  {
   "cell_type": "code",
   "execution_count": 3,
   "id": "967a18ea-aa0b-47ff-92b9-7d335dfcfce5",
   "metadata": {},
   "outputs": [
    {
     "data": {
      "text/latex": [
       "$2.1572435 \\times 10^{-9} \\; \\mathrm{sr}$"
      ],
      "text/plain": [
       "<Quantity 2.15724352e-09 sr>"
      ]
     },
     "execution_count": 3,
     "metadata": {},
     "output_type": "execute_result"
    }
   ],
   "source": [
    "beam_area.to(u.sr)"
   ]
  },
  {
   "cell_type": "code",
   "execution_count": 4,
   "id": "aee47e46-13de-4dff-a92f-3181d0ba4a99",
   "metadata": {},
   "outputs": [
    {
     "data": {
      "text/latex": [
       "$0.00019139423 \\; \\mathrm{\\frac{Jy}{arcsec^{2}}}$"
      ],
      "text/plain": [
       "<Quantity 0.00019139 Jy / arcsec2>"
      ]
     },
     "execution_count": 4,
     "metadata": {},
     "output_type": "execute_result"
    }
   ],
   "source": [
    "# Try converting MUSTANG-2 Jy/beam to flux in Jy\n",
    "(1.756621805784e-2*u.Jy/u.beam)/(beam_area/u.beam)"
   ]
  },
  {
   "cell_type": "code",
   "execution_count": 5,
   "id": "cf2e8966-0d6b-4740-91ed-f265e6d0c47a",
   "metadata": {},
   "outputs": [
    {
     "data": {
      "text/latex": [
       "$33.856475 \\; \\mathrm{}$"
      ],
      "text/plain": [
       "<Quantity 33.85647453>"
      ]
     },
     "execution_count": 5,
     "metadata": {},
     "output_type": "execute_result"
    }
   ],
   "source": [
    "FOV_area = np.pi*(62.9/2*u.arcsec)**2\n",
    "FOV_area/beam_area"
   ]
  },
  {
   "cell_type": "markdown",
   "id": "d4a9c982-4c72-47ef-ba5e-4250fdd1c74c",
   "metadata": {},
   "source": [
    "### Now from the MUSTANG-2 + Planck data"
   ]
  },
  {
   "cell_type": "code",
   "execution_count": 6,
   "id": "3365a2ab-8152-4cd4-bbdf-d0039ac907a8",
   "metadata": {},
   "outputs": [
    {
     "name": "stdout",
     "output_type": "stream",
     "text": [
      "113.30900354569796 arcsec2\n"
     ]
    },
    {
     "data": {
      "text/latex": [
       "$0.061695403 \\; \\mathrm{K}$"
      ],
      "text/plain": [
       "<Quantity 0.0616954 K>"
      ]
     },
     "execution_count": 6,
     "metadata": {},
     "output_type": "execute_result"
    }
   ],
   "source": [
    "# What is the mean brightness in a 62.9\" diameter aperture centered on our pointing in MGPS?\n",
    "# REMEMBER: CARTA regions take semi-axes (radii)!\n",
    "bmaj = (2.777777777778E-03*u.deg).to(u.arcsec)\n",
    "bmin = (2.777777777778E-03*u.deg).to(u.arcsec)\n",
    "fwhm_to_sigma = 1./(8*np.log(2))**0.5\n",
    "beam_area = 2.*np.pi*(bmaj*bmin*fwhm_to_sigma**2)\n",
    "print(beam_area)\n",
    "freq = 90*u.GHz\n",
    "equiv = u.brightness_temperature(freq)\n",
    "(4.089063490269e-2*u.Jy/beam_area).to(u.K, equivalencies=equiv) # We started with Jy, and incorporated beam info"
   ]
  },
  {
   "cell_type": "markdown",
   "id": "7e1daf33-6df2-469e-85cd-82d66ec4b01c",
   "metadata": {},
   "source": [
    "### Now figure out continuum source contribution from Walker+2021\n",
    "#### The below code is not right; you can't sum Jy/beam; you have to take the average"
   ]
  },
  {
   "cell_type": "code",
   "execution_count": 36,
   "id": "d14d4a48-5c67-4565-aab8-490fb24858d3",
   "metadata": {},
   "outputs": [
    {
     "data": {
      "text/latex": [
       "$3.0651238 \\; \\mathrm{K}$"
      ],
      "text/plain": [
       "<Quantity 3.0651238 K>"
      ]
     },
     "execution_count": 36,
     "metadata": {},
     "output_type": "execute_result"
    }
   ],
   "source": [
    "## What is the \"summed up flux\" of the continuum sources found by Walker+2021?\n",
    "integrated_fluxes = [47.87,#12.10,14.34,\n",
    "                     2.15,0.69,0.95,2.63,1.48,0.62,0.41,3.27,1.61,1.63,1.06,1.68,7.17,2.34,1.34,0.76]*u.mJy\n",
    "radii = [4847,#1300,1300,\n",
    "         1475,1275,1543,1711,1682,1179,945,1687,1236,1161,945,1139,2613,2206,1568,1302]*u.AU\n",
    "# Convert physical sizes back to angular diams using provided distance 8.1 kpc; small angle equation\n",
    "angular_diams = (206265*(radii.to(u.pc)*2)/(8100*u.pc))*u.arcsec\n",
    "angular_areas = np.pi*(angular_diams/2)**2\n",
    "# Divide each integrated flux by angular area of source to get average surface brightness in mJy/arcsec^2\n",
    "avg_surf_brightnesses = integrated_fluxes/angular_areas\n",
    "# Then convert the average surface brightnesses in mJy/arcsec^2 to mJy/beam using the beam area, given in the paper\n",
    "# BUT I DON'T NEED THIS, IT GIVES THE SAME ANSWER WITH OR WITHOUT IT\n",
    "# bmaj = 0.17*u.arcsec\n",
    "# bmin = 0.12*u.arcsec\n",
    "# fwhm_to_sigma = 1./(8*np.log(2))**0.5\n",
    "# beam_area = 2.*np.pi*(bmaj*bmin*fwhm_to_sigma**2)\n",
    "\n",
    "# avg_surf_brightnesses_perbeam = (avg_surf_brightnesses*beam_area)/u.beam\n",
    "# print(avg_surf_brightnesses_perbeam)\n",
    "\n",
    "# freq = 230*u.GHz\n",
    "avg_brightness_temps = avg_surf_brightnesses.to(u.K, u.brightness_temperature(freq))  \n",
    "np.mean(avg_brightness_temps)"
   ]
  },
  {
   "cell_type": "code",
   "execution_count": 37,
   "id": "0de77bea-01cd-4025-b261-041427a8a349",
   "metadata": {},
   "outputs": [
    {
     "data": {
      "text/latex": [
       "$0.46932898 \\; \\mathrm{K}$"
      ],
      "text/plain": [
       "<Quantity 0.46932898 K>"
      ]
     },
     "execution_count": 37,
     "metadata": {},
     "output_type": "execute_result"
    }
   ],
   "source": [
    "# Nazar's method\n",
    "## What is the summed up flux of the continuum sources found by Walker+2021?\n",
    "integrated_fluxes = [47.87,#12.10,14.34,\n",
    "                     2.15,0.69,0.95,2.63,1.48,0.62,0.41,3.27,1.61,1.63,1.06,1.68,7.17,2.34,1.34,0.76]*u.mJy\n",
    "radii = [4847,#1300,1300,\n",
    "         1475,1275,1543,1711,1682,1179,945,1687,1236,1161,945,1139,2613,2206,1568,1302]*u.AU\n",
    "# Convert physical sizes back to angular diams using provided distance 8.1 kpc; small angle equation\n",
    "angular_diams = (206265*(radii.to(u.pc)*2)/(8100*u.pc))*u.arcsec\n",
    "angular_areas = np.pi*(angular_diams/2)**2 \n",
    "\n",
    "bmaj = 0.17*u.arcsec\n",
    "bmin = 0.12*u.arcsec\n",
    "fwhm_to_sigma = 1./(8*np.log(2))**0.5\n",
    "dans_beam_area = 2.*np.pi*(bmaj*bmin*fwhm_to_sigma**2)\n",
    "freq = 230*u.GHz\n",
    "brightness_temps = (integrated_fluxes/((angular_areas/dans_beam_area).to(u.dimensionless_unscaled))/dans_beam_area).to(u.K, equivalencies=u.brightness_temperature(freq))\n",
    "np.mean(brightness_temps)\n",
    "\n",
    "# Divide each integrated flux by angular area of source to get average surface brightness in mJy/arcsec^2\n",
    "\n",
    "# avg_surf_brightnesses = integrated_fluxes/angular_areas\n",
    "\n",
    "# avg_brightness_temps = avg_surf_brightnesses.to(u.K, u.brightness_temperature(freq))  \n",
    "# np.sum(avg_brightness_temps)"
   ]
  }
 ],
 "metadata": {
  "kernelspec": {
   "display_name": "Python 3 (ipykernel)",
   "language": "python",
   "name": "python3"
  },
  "language_info": {
   "codemirror_mode": {
    "name": "ipython",
    "version": 3
   },
   "file_extension": ".py",
   "mimetype": "text/x-python",
   "name": "python",
   "nbconvert_exporter": "python",
   "pygments_lexer": "ipython3",
   "version": "3.9.13"
  }
 },
 "nbformat": 4,
 "nbformat_minor": 5
}
