{
 "cells": [
  {
   "cell_type": "code",
   "execution_count": 2,
   "id": "9373f176-71d4-489c-aa6f-d34821f8d0b1",
   "metadata": {},
   "outputs": [],
   "source": [
    "# Use astroquery LAMDA tool\n",
    "from astroquery.lamda import Lamda"
   ]
  },
  {
   "cell_type": "code",
   "execution_count": 3,
   "id": "1223139f-060e-488d-970c-2cec2d079270",
   "metadata": {},
   "outputs": [
    {
     "name": "stderr",
     "output_type": "stream",
     "text": [
      "/blue/adamginsburg/abulatek/miniconda3/lib/python3.9/site-packages/astroquery/lamda/core.py:145: UserWarning: The first time a LAMDA function is called, it must assemble a list of valid molecules and URLs.  This list will be cached so future operations will be faster.\n",
      "  warnings.warn(\"The first time a LAMDA function is called, it must \"\n"
     ]
    }
   ],
   "source": [
    "collrates, radtransitions, enlevels = Lamda.query(mol='ch3oh_a')"
   ]
  },
  {
   "cell_type": "code",
   "execution_count": null,
   "id": "b070e29a-ba9e-4656-8a78-437c426d3d49",
   "metadata": {},
   "outputs": [
    {
     "data": {
      "text/html": [
       "<div><i>Table length=8</i>\n",
       "<table id=\"table47090423948960\" class=\"table-striped table-bordered table-condensed\">\n",
       "<thead><tr><th>Level</th><th>Energy</th><th>Weight</th><th>J</th></tr></thead>\n",
       "<thead><tr><th>int64</th><th>float64</th><th>int64</th><th>str6</th></tr></thead>\n",
       "<tr><td>9</td><td>16.134</td><td>9</td><td>4_0</td></tr>\n",
       "<tr><td>9</td><td>16.134</td><td>9</td><td>4_0</td></tr>\n",
       "<tr><td>9</td><td>16.134</td><td>9</td><td>4_0</td></tr>\n",
       "<tr><td>9</td><td>16.134</td><td>9</td><td>4_0</td></tr>\n",
       "<tr><td>9</td><td>16.134</td><td>9</td><td>4_0</td></tr>\n",
       "<tr><td>9</td><td>16.134</td><td>9</td><td>4_0</td></tr>\n",
       "<tr><td>9</td><td>16.134</td><td>9</td><td>4_0</td></tr>\n",
       "<tr><td>9</td><td>16.134</td><td>9</td><td>4_0</td></tr>\n",
       "</table></div>"
      ],
      "text/plain": [
       "<Table length=8>\n",
       "Level  Energy Weight  J  \n",
       "int64 float64 int64  str6\n",
       "----- ------- ------ ----\n",
       "    9  16.134      9  4_0\n",
       "    9  16.134      9  4_0\n",
       "    9  16.134      9  4_0\n",
       "    9  16.134      9  4_0\n",
       "    9  16.134      9  4_0\n",
       "    9  16.134      9  4_0\n",
       "    9  16.134      9  4_0\n",
       "    9  16.134      9  4_0"
      ]
     },
     "execution_count": 16,
     "metadata": {},
     "output_type": "execute_result"
    }
   ],
   "source": [
    "enlevels[collrates['H2'][collrates['H2']['Upper'] == 9]['Upper']-1]"
   ]
  },
  {
   "cell_type": "code",
   "execution_count": 29,
   "id": "3e46a4f4-7873-4adb-b59f-8034b8401a05",
   "metadata": {},
   "outputs": [
    {
     "data": {
      "text/html": [
       "<div><i>Table length=5</i>\n",
       "<table id=\"table47090421385728\" class=\"table-striped table-bordered table-condensed\">\n",
       "<thead><tr><th>Transition</th><th>Upper</th><th>Lower</th><th>EinsteinA</th><th>Frequency</th><th>E_u(K)</th></tr></thead>\n",
       "<thead><tr><th>int64</th><th>int64</th><th>int64</th><th>float64</th><th>float64</th><th>float64</th></tr></thead>\n",
       "<tr><td>82</td><td>7</td><td>4</td><td>1.7846e-05</td><td>156.602395</td><td>21.4</td></tr>\n",
       "<tr><td>94</td><td>9</td><td>4</td><td>3.0278e-05</td><td>193.454358</td><td>23.2</td></tr>\n",
       "<tr><td>180</td><td>11</td><td>4</td><td>0.00032639</td><td>305.473491</td><td>28.6</td></tr>\n",
       "<tr><td>337</td><td>13</td><td>4</td><td>0.00076497</td><td>492.278692</td><td>37.6</td></tr>\n",
       "<tr><td>701</td><td>23</td><td>4</td><td>2.0793e-08</td><td>979.253498</td><td>60.9</td></tr>\n",
       "</table></div>"
      ],
      "text/plain": [
       "<Table length=5>\n",
       "Transition Upper Lower EinsteinA  Frequency   E_u(K)\n",
       "  int64    int64 int64  float64    float64   float64\n",
       "---------- ----- ----- ---------- ---------- -------\n",
       "        82     7     4 1.7846e-05 156.602395    21.4\n",
       "        94     9     4 3.0278e-05 193.454358    23.2\n",
       "       180    11     4 0.00032639 305.473491    28.6\n",
       "       337    13     4 0.00076497 492.278692    37.6\n",
       "       701    23     4 2.0793e-08 979.253498    60.9"
      ]
     },
     "execution_count": 29,
     "metadata": {},
     "output_type": "execute_result"
    }
   ],
   "source": [
    "# 2_1 is level 7\n",
    "# 3_0 is level 4\n",
    "# 1_1 is level 5\n",
    "# 2_0 is level 3\n",
    "radtransitions[radtransitions['Lower'] == 4] # 2_1 to 3_0 is in this printout\n",
    "# radtransitions[radtransitions['Lower'] == 3] # 1_1 to 2_0 is in this printout"
   ]
  },
  {
   "cell_type": "code",
   "execution_count": 15,
   "id": "55cb1abf-1b71-4647-bcb1-1e0750b1b385",
   "metadata": {},
   "outputs": [
    {
     "data": {
      "text/html": [
       "<div><i>Table length=7</i>\n",
       "<table id=\"table47090422671488\" class=\"table-striped table-bordered table-condensed\">\n",
       "<thead><tr><th>Level</th><th>Energy</th><th>Weight</th><th>J</th></tr></thead>\n",
       "<thead><tr><th>int64</th><th>float64</th><th>int64</th><th>str6</th></tr></thead>\n",
       "<tr><td>10</td><td>19.703</td><td>7</td><td>3_1</td></tr>\n",
       "<tr><td>12</td><td>24.199</td><td>11</td><td>5_0</td></tr>\n",
       "<tr><td>14</td><td>26.379</td><td>9</td><td>4_-1</td></tr>\n",
       "<tr><td>18</td><td>34.098</td><td>11</td><td>5_1</td></tr>\n",
       "<tr><td>21</td><td>35.8901</td><td>7</td><td>3_2</td></tr>\n",
       "<tr><td>22</td><td>42.344</td><td>9</td><td>4_-2</td></tr>\n",
       "<tr><td>30</td><td>50.413</td><td>11</td><td>5_2</td></tr>\n",
       "</table></div>"
      ],
      "text/plain": [
       "<Table length=7>\n",
       "Level  Energy Weight  J  \n",
       "int64 float64 int64  str6\n",
       "----- ------- ------ ----\n",
       "   10  19.703      7  3_1\n",
       "   12  24.199     11  5_0\n",
       "   14  26.379      9 4_-1\n",
       "   18  34.098     11  5_1\n",
       "   21 35.8901      7  3_2\n",
       "   22  42.344      9 4_-2\n",
       "   30  50.413     11  5_2"
      ]
     },
     "execution_count": 15,
     "metadata": {},
     "output_type": "execute_result"
    }
   ],
   "source": [
    "enlevels[radtransitions[radtransitions['Lower'] == 9]['Upper']-1]"
   ]
  },
  {
   "cell_type": "code",
   "execution_count": null,
   "id": "aed5179e-a744-45a3-9057-031bdf7aa0fa",
   "metadata": {},
   "outputs": [],
   "source": [
    "# Go up to 40 K and look at those"
   ]
  },
  {
   "cell_type": "code",
   "execution_count": null,
   "id": "3d417d73-d8a5-4c17-99ad-350bc4aa13fc",
   "metadata": {},
   "outputs": [],
   "source": []
  }
 ],
 "metadata": {
  "kernelspec": {
   "display_name": "Python 3 (ipykernel)",
   "language": "python",
   "name": "python3"
  },
  "language_info": {
   "codemirror_mode": {
    "name": "ipython",
    "version": 3
   },
   "file_extension": ".py",
   "mimetype": "text/x-python",
   "name": "python",
   "nbconvert_exporter": "python",
   "pygments_lexer": "ipython3",
   "version": "3.9.13"
  }
 },
 "nbformat": 4,
 "nbformat_minor": 5
}
