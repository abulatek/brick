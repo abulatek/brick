{
 "cells": [
  {
   "cell_type": "code",
   "execution_count": null,
   "id": "9b942582-9faa-49d0-842a-e15b07ee8f42",
   "metadata": {},
   "outputs": [],
   "source": [
    "# copy from nonLTEmodeling.ipynb"
   ]
  }
 ],
 "metadata": {
  "kernelspec": {
   "display_name": "Python 3 (ipykernel)",
   "language": "python",
   "name": "python3"
  },
  "language_info": {
   "codemirror_mode": {
    "name": "ipython",
    "version": 3
   },
   "file_extension": ".py",
   "mimetype": "text/x-python",
   "name": "python",
   "nbconvert_exporter": "python",
   "pygments_lexer": "ipython3",
   "version": "3.9.13"
  }
 },
 "nbformat": 4,
 "nbformat_minor": 5
}
