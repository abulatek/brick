{
 "cells": [
  {
   "cell_type": "code",
   "execution_count": 3,
   "metadata": {},
   "outputs": [],
   "source": [
    "### Goal: get XCLASS (with Dan's parameters) to exactly reproduce his fits\n",
    "\n",
    "# Also, don't have to do a lot of work to add more molecules (just add line)\n",
    "\n",
    "# To finish line ID: go through lines I've ID'd, make model, turn off and on molecules\n",
    "# Does XCLASS put lines where you want them to be? Does it put bad lines elsewhere when you add mol?"
   ]
  },
  {
   "cell_type": "code",
   "execution_count": 4,
   "metadata": {},
   "outputs": [],
   "source": [
    "# get path of XCLASS directory\n",
    "import os\n",
    "import sys\n",
    "XCLASSRootDir = str(os.environ.get('XCLASSRootDir', '')).strip()\n",
    "XCLASSRootDir = os.path.normpath(XCLASSRootDir) + \"/\"\n",
    "\n",
    "# extend sys.path variable\n",
    "NewPath = XCLASSRootDir + \"build_tasks/\"\n",
    "if (not NewPath in sys.path):\n",
    "    sys.path.append(NewPath)\n",
    "\n",
    "import task_myXCLASS"
   ]
  },
  {
   "cell_type": "code",
   "execution_count": 5,
   "metadata": {},
   "outputs": [],
   "source": [
    "# sys.path"
   ]
  },
  {
   "cell_type": "code",
   "execution_count": 6,
   "metadata": {},
   "outputs": [],
   "source": [
    "# ls /orange/adamginsburg/software/XCLASS-Interface/build_tasks/"
   ]
  },
  {
   "cell_type": "code",
   "execution_count": 7,
   "metadata": {},
   "outputs": [],
   "source": [
    "%matplotlib inline\n",
    "import pylab as pl"
   ]
  },
  {
   "cell_type": "code",
   "execution_count": 8,
   "metadata": {},
   "outputs": [],
   "source": [
    "import pyspeckit\n",
    "import numpy as np"
   ]
  },
  {
   "cell_type": "code",
   "execution_count": 9,
   "metadata": {},
   "outputs": [],
   "source": [
    "source_size =  4.3350376922e+00\n",
    "tkin = 7.9842254347e+01\n",
    "Ntot = 1.0061155735e+16\n",
    "vwidth_fwhm = 4.2101396644e+00\n",
    "vwidth = vwidth_fwhm / np.sqrt(8*np.log(2))\n",
    "vcen = -7.9000000000e+00\n",
    "tbg = 0"
   ]
  },
  {
   "cell_type": "code",
   "execution_count": 33,
   "metadata": {},
   "outputs": [],
   "source": [
    "import sys\n",
    "import os\n",
    "# define path and name of molfit file\n",
    "#DEFAULT MolfitsFileName = LocalPath + \"files/my_molecules.molfit\"\n",
    "LocalPath = os.getcwd() + \"/\"\n",
    "\n",
    "MolfitsFileName = LocalPath + 'CH3CN_pure.molfit'\n",
    "\n",
    "def set_xclass_parameters(source_size=source_size, tkin=tkin, Ntot=Ntot, vwidth_fwhm=vwidth_fwhm, vcen=vcen, filename=MolfitsFileName):\n",
    "    with open(filename, \"w\") as fh:\n",
    "        fh.write(f\"\"\"\n",
    "%============================================================================================================================\n",
    "%\n",
    "% define molecules and their components:\n",
    "%\n",
    "%============================================================================================================================\n",
    "%    source size:                 T_kin:               N_tot:            V_width:                V_off:   CFFlag:    keyword:\n",
    "%       [arcsec]:                   [K]:              [cm-2]:            [km /s]:              [km /s]:       []:         []:\n",
    "CH3CN;v=0;           1\n",
    " {source_size}       {tkin}     {Ntot}     {vwidth_fwhm}    {vcen}         c\n",
    "CH3OH;v=0;           1\n",
    " {source_size}       {tkin}     {Ntot}     {vwidth_fwhm}    {vcen}         c\n",
    "\"\"\")"
   ]
  },
  {
   "cell_type": "code",
   "execution_count": 34,
   "metadata": {},
   "outputs": [],
   "source": [
    "# define min. freq. (in MHz)\n",
    "FreqMin = 220000.0\n",
    "\n",
    "# define max. freq. (in MHz)\n",
    "FreqMax = 220800.0\n",
    "\n",
    "# define freq. step (in MHz)\n",
    "FreqStep = 0.1\n",
    "\n",
    "# depending on parameter \"Inter_Flag\" define beam size (in arcsec)\n",
    "# (Inter_Flag = True) or size of telescope (in m) (Inter_Flag = False)\n",
    "TelescopeSize = 1000.0 # meters\n",
    "\n",
    "# define beam minor axis length (in arsec)\n",
    "BMIN = None\n",
    "\n",
    "# define beam major axis length (in arsec)\n",
    "BMAJ = None\n",
    "\n",
    "# define beam position angle (in degree)\n",
    "BPA = None\n",
    "\n",
    "# interferrometric data?\n",
    "Inter_Flag = False\n",
    "\n",
    "# define red shift\n",
    "Redshift = None\n",
    "\n",
    "# BACKGROUND: describe continuum with tBack and tslope only\n",
    "t_back_flag = True\n",
    "\n",
    "# BACKGROUND: define background temperature (in K)\n",
    "tBack = 0.0\n",
    "\n",
    "# BACKGROUND: define temperature slope (dimensionless)\n",
    "tslope = 0.0\n",
    "\n",
    "# BACKGROUND: define path and name of ASCII file describing continuum as function\n",
    "#             of frequency\n",
    "BackgroundFileName = \"\"\n",
    "\n",
    "# DUST: define hydrogen column density (in cm^(-2))\n",
    "N_H = 1.e22\n",
    "\n",
    "# DUST: define spectral index for dust (dimensionless)\n",
    "beta_dust = 0.0\n",
    "\n",
    "# DUST: define kappa at 1.3 mm (cm^(2) g^(-1))\n",
    "kappa_1300 = 0.0\n",
    "\n",
    "# DUST: define path and name of ASCII file describing dust opacity as\n",
    "#       function of frequency\n",
    "DustFileName = \"\"\n",
    "\n",
    "# FREE-FREE: define electronic temperature (in K)\n",
    "Te_ff = None\n",
    "\n",
    "# FREE-FREE: define emission measure (in pc cm^(-6))\n",
    "EM_ff = None\n",
    "\n",
    "# SYNCHROTRON: define kappa of energy spectrum of electrons (electrons m^(−3) GeV^(-1))\n",
    "kappa_sync = None\n",
    "\n",
    "# SYNCHROTRON: define magnetic field (in Gauss)\n",
    "B_sync = None\n",
    "\n",
    "# SYNCHROTRON: energy spectral index (dimensionless)\n",
    "p_sync = None\n",
    "\n",
    "# SYNCHROTRON: thickness of slab (in AU)\n",
    "l_sync = None\n",
    "\n",
    "# PHEN-CONT: define phenomenological function which is used to describe\n",
    "#            the continuum\n",
    "ContPhenFuncID = None\n",
    "\n",
    "# PHEN-CONT: define first parameter for phenomenological function\n",
    "ContPhenFuncParam1 = None\n",
    "\n",
    "# PHEN-CONT: define second parameter for phenomenological function\n",
    "ContPhenFuncParam2 = None\n",
    "\n",
    "# PHEN-CONT: define third parameter for phenomenological function\n",
    "ContPhenFuncParam3 = None\n",
    "\n",
    "# PHEN-CONT: define fourth parameter for phenomenological function\n",
    "ContPhenFuncParam4 = None\n",
    "\n",
    "# PHEN-CONT: define fifth parameter for phenomenological function\n",
    "ContPhenFuncParam5 = None\n",
    "\n",
    "# use iso ratio file?\n",
    "iso_flag = True\n",
    "\n",
    "# define path and name of iso ratio file\n",
    "#DEFAULT IsoTableFileName = LocalPath + \"files/my_isonames.txt\"\n",
    "IsoTableFileName = LocalPath + \"my_isonames.txt\"\n",
    "\n",
    "# define path and name of file describing Non-LTE parameters\n",
    "CollisionFileName = \"\"\n",
    "\n",
    "# define number of pixels in x-direction (used for sub-beam description)\n",
    "NumModelPixelXX = 100\n",
    "\n",
    "# define number of pixels in y-direction (used for sub-beam description)\n",
    "NumModelPixelYY = 100\n",
    "\n",
    "# take local-overlap into account or not\n",
    "LocalOverlapFlag = False\n",
    "\n",
    "# disable sub-beam description\n",
    "NoSubBeamFlag = True\n",
    "\n",
    "# define path and name of database file\n",
    "dbFilename = \"\"\n",
    "\n",
    "# define rest freq. (in MHz)\n",
    "RestFreq = 0.0\n",
    "\n",
    "# define v_lsr (in km/s)\n",
    "vLSR = 0.0"
   ]
  },
  {
   "cell_type": "code",
   "execution_count": 35,
   "metadata": {},
   "outputs": [
    {
     "data": {
      "text/plain": [
       "'/blue/adamginsburg/abulatek/brick/xclass_stuff/CH3CN_pure.molfit'"
      ]
     },
     "execution_count": 35,
     "metadata": {},
     "output_type": "execute_result"
    }
   ],
   "source": [
    "MolfitsFileName"
   ]
  },
  {
   "cell_type": "code",
   "execution_count": 36,
   "metadata": {},
   "outputs": [],
   "source": [
    "import io\n",
    "from contextlib import redirect_stdout\n",
    "\n",
    "def myxclass_call(FreqMin=1e3, FreqMax=1e4, verbose=False):\n",
    "    ## call myXCLASS function\n",
    "    with io.StringIO() as buf, redirect_stdout(buf):\n",
    "        modeldata, log, TransEnergies, IntOpt, JobDir = task_myXCLASS.myXCLASS(\n",
    "                                                    FreqMin, FreqMax, FreqStep,\n",
    "                                                    TelescopeSize, BMIN, BMAJ,\n",
    "                                                    BPA, Inter_Flag, Redshift,\n",
    "                                                    t_back_flag, tBack, tslope,\n",
    "                                                    BackgroundFileName,\n",
    "                                                    N_H, beta_dust, kappa_1300,\n",
    "                                                    DustFileName, Te_ff, EM_ff,\n",
    "                                                    kappa_sync, B_sync, p_sync,\n",
    "                                                    l_sync, ContPhenFuncID,\n",
    "                                                    ContPhenFuncParam1,\n",
    "                                                    ContPhenFuncParam2,\n",
    "                                                    ContPhenFuncParam3,\n",
    "                                                    ContPhenFuncParam4,\n",
    "                                                    ContPhenFuncParam5,\n",
    "                                                    MolfitsFileName, iso_flag,\n",
    "                                                    IsoTableFileName,\n",
    "                                                    CollisionFileName,\n",
    "                                                    NumModelPixelXX,\n",
    "                                                    NumModelPixelYY,\n",
    "                                                    LocalOverlapFlag,\n",
    "                                                    NoSubBeamFlag,\n",
    "                                                    dbFilename,\n",
    "                                                    RestFreq, vLSR)\n",
    "        output = buf.getvalue()\n",
    "    if verbose:\n",
    "        print(output)\n",
    "        \n",
    "    return modeldata, log, TransEnergies, IntOpt, JobDir"
   ]
  },
  {
   "cell_type": "code",
   "execution_count": 37,
   "metadata": {},
   "outputs": [],
   "source": [
    "set_xclass_parameters()\n",
    "modeldata, log, TransEnergies, IntOpt, JobDir = myxclass_call(FreqMin=FreqMin, FreqMax=FreqMax)"
   ]
  },
  {
   "cell_type": "code",
   "execution_count": 38,
   "metadata": {},
   "outputs": [
    {
     "data": {
      "text/plain": [
       "array([0.00131026, 0.00126436, 0.001213  , ..., 0.        , 0.        ,\n",
       "       0.        ])"
      ]
     },
     "execution_count": 38,
     "metadata": {},
     "output_type": "execute_result"
    }
   ],
   "source": [
    "modeldata[:,0]\n",
    "modeldata[:,1]"
   ]
  },
  {
   "cell_type": "code",
   "execution_count": 39,
   "metadata": {},
   "outputs": [
    {
     "data": {
      "text/plain": [
       "Text(0, 0.5, 'Brightness Temperature')"
      ]
     },
     "execution_count": 39,
     "metadata": {},
     "output_type": "execute_result"
    },
    {
     "data": {
      "image/png": "[encoded data removed]",
      "text/plain": [
       "<Figure size 432x288 with 1 Axes>"
      ]
     },
     "metadata": {
      "needs_background": "light"
     },
     "output_type": "display_data"
    }
   ],
   "source": [
    "import matplotlib.pyplot as plt\n",
    "plt.plot(modeldata[:,0], modeldata[:,1])\n",
    "plt.xlabel(\"Frequency\")\n",
    "plt.ylabel(\"Brightness Temperature\")"
   ]
  },
  {
   "cell_type": "code",
   "execution_count": null,
   "metadata": {},
   "outputs": [],
   "source": []
  }
 ],
 "metadata": {
  "kernelspec": {
   "display_name": "Python 3",
   "language": "python",
   "name": "python3"
  },
  "language_info": {
   "codemirror_mode": {
    "name": "ipython",
    "version": 3
   },
   "file_extension": ".py",
   "mimetype": "text/x-python",
   "name": "python",
   "nbconvert_exporter": "python",
   "pygments_lexer": "ipython3",
   "version": "3.7.0"
  }
 },
 "nbformat": 4,
 "nbformat_minor": 2
}
