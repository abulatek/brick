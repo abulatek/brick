{
 "cells": [
  {
   "cell_type": "code",
   "execution_count": null,
   "metadata": {},
   "outputs": [],
   "source": [
    "# Taking some code from my old script, pyspeckit_line_fitter\n",
    "from spectral_cube import SpectralCube\n",
    "import pyspeckit\n",
    "# from pyspeckit import units\n",
    "from astropy import units as u\n",
    "from astroquery.splatalogue import Splatalogue"
   ]
  },
  {
   "cell_type": "code",
   "execution_count": null,
   "metadata": {},
   "outputs": [],
   "source": [
    "#################\n",
    "## USER INPUTS ##\n",
    "#################\n",
    "freq_spw = '146_spw51'"
   ]
  },
  {
   "cell_type": "code",
   "execution_count": null,
   "metadata": {},
   "outputs": [],
   "source": [
    "results_path = '/blue/adamginsburg/abulatek/brick/symlinks/imaging_results/'\n",
    "cube_path = 'source_ab_'+freq_spw+'_clean_2sigma_n50000_masked_3sigma_pbmask0p18.image'"
   ]
  },
  {
   "cell_type": "code",
   "execution_count": null,
   "metadata": {},
   "outputs": [],
   "source": [
    "cube = SpectralCube.read(results_path+cube_path, format='casa_image')\n",
    "print(\"Shape of cube:\",cube.shape)"
   ]
  },
  {
   "cell_type": "code",
   "execution_count": null,
   "metadata": {},
   "outputs": [],
   "source": [
    "sp = pyspeckit.Spectrum(data=cube[:,200,300], xarr=cube.spectral_axis) # y, x (column, row)\n",
    "sp.plotter()"
   ]
  },
  {
   "cell_type": "code",
   "execution_count": 1,
   "metadata": {},
   "outputs": [],
   "source": [
    "# Splatalogue.query_lines(min_frequency=sp.specfit.parinfo['SHIFT0'] * (1 - velocity/3e5 - dv/3e5)*u.Hz, \n",
    "#                         max_frequency=sp.specfit.parinfo['SHIFT0'] * (1 - velocity/3e5 + dv/3e5)*u.Hz, \n",
    "#                         line_lists=['SLAIM']).pprint(max_lines=1000)"
   ]
  },
  {
   "cell_type": "code",
   "execution_count": null,
   "metadata": {},
   "outputs": [],
   "source": [
    "# This should yield the J = 8 ladder of methyl cyanide, or at least the 0 through 7 lines of it\n",
    "methyl_cyanide_J_8 = Splatalogue.query_lines(min_frequency=147.006469*u.GHz, \n",
    "                        max_frequency=147.159306*u.GHz, \n",
    "                        chemical_name=\" CH3CNv=0 \",\n",
    "                        line_lists=['SLAIM']).pprint(max_lines=1000)"
   ]
  },
  {
   "cell_type": "code",
   "execution_count": null,
   "metadata": {},
   "outputs": [],
   "source": [
    "# Then, gotta find a way to plot the lines"
   ]
  }
 ],
 "metadata": {
  "kernelspec": {
   "display_name": "Python 3",
   "language": "python",
   "name": "python3"
  },
  "language_info": {
   "codemirror_mode": {
    "name": "ipython",
    "version": 3
   },
   "file_extension": ".py",
   "mimetype": "text/x-python",
   "name": "python",
   "nbconvert_exporter": "python",
   "pygments_lexer": "ipython3",
   "version": "3.7.0"
  }
 },
 "nbformat": 4,
 "nbformat_minor": 5
}
