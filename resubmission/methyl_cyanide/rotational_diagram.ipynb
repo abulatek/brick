{
 "cells": [
  {
   "cell_type": "code",
   "execution_count": 1,
   "metadata": {},
   "outputs": [
    {
     "name": "stdout",
     "output_type": "stream",
     "text": [
      "Suds package not available. Load Vamdc-Nodes from static file\n",
      "Register Class FitParameters in vamdclib.specmodel\n",
      "Register Class Parameter in vamdclib.specmodel\n",
      "Register Class Argument in vamdclib.specmodel\n",
      "Register Class State in vamdclib.specmodel\n",
      "Register Class AtomState in vamdclib.specmodel\n",
      "Register Class AtomQN in vamdclib.specmodel\n",
      "Register Class QuantumNumbers in vamdclib.specmodel\n",
      "Register Class Partitionfunctions in vamdclib.specmodel\n",
      "Register Class Atom in vamdclib.specmodel\n",
      "Register Class Molecule in vamdclib.specmodel\n",
      "Register Class RadiativeTransition in vamdclib.specmodel\n",
      "Register Class CollisionalTransition in vamdclib.specmodel\n",
      "Register Class Source in vamdclib.specmodel\n",
      "Register DictClass Atoms in vamdclib.specmodel\n",
      "Register DictClass Molecules in vamdclib.specmodel\n",
      "Register DictClass RadiativeTransitions in vamdclib.specmodel\n",
      "Register DictClass CollisionalTransitions in vamdclib.specmodel\n",
      "Register DictClass Sources in vamdclib.specmodel\n"
     ]
    }
   ],
   "source": [
    "# Import code from our own files\n",
    "from full_spectrum_plot import plot_spectrum, plot_spectrum_line_ids\n",
    "from ch3cn_fits import ch3cn_model, ch3cn_fitter\n",
    "from spectral_ids import line_ids\n",
    "from lte_modeling_tools import nupper_of_kkms\n",
    "# Import packages\n",
    "from astropy import units as u\n",
    "from astropy import constants\n",
    "from astroquery.splatalogue import Splatalogue\n",
    "import numpy as np\n",
    "from vamdclib import nodes\n",
    "from vamdclib import request as r\n",
    "from vamdclib import specmodel as m\n",
    "import pyspeckit\n",
    "from pyspeckit.spectrum.models import model, lte_molecule\n",
    "from spectral_cube import OneDSpectrum\n",
    "from astropy.io import fits\n",
    "import matplotlib.pyplot as plt\n",
    "import warnings\n",
    "warnings.simplefilter('ignore')\n",
    "from scipy.optimize import curve_fit\n",
    "\n",
    "# Define directory we're working with\n",
    "results = '/blue/adamginsburg/abulatek/brick/symlinks/imaging_results/spectra/'"
   ]
  },
  {
   "cell_type": "code",
   "execution_count": 2,
   "metadata": {},
   "outputs": [
    {
     "data": {
      "image/png": "[encoded data removed]",
      "text/plain": [
       "<Figure size 720x360 with 1 Axes>"
      ]
     },
     "metadata": {
      "needs_background": "light"
     },
     "output_type": "display_data"
    }
   ],
   "source": [
    "# Plot entire ladder\n",
    "freq_spw = '146_spw51'\n",
    "max_fn = results+'source_ab_'+freq_spw+'_clean_2sigma_n50000_masked_3sigma_pbmask0p18.max.fits'\n",
    "freq_lo, freq_hi = 147.01*u.GHz, 147.17*u.GHz\n",
    "plot_spectrum(max_fn, xmin=147.105*u.GHz, xmax=147.112*u.GHz) # for messing with\n",
    "plt.show()"
   ]
  },
  {
   "cell_type": "code",
   "execution_count": 3,
   "metadata": {},
   "outputs": [
    {
     "data": {
      "text/html": [
       "<i>Table length=8</i>\n",
       "<table id=\"table47464341937288-997502\" class=\"table-striped table-bordered table-condensed\">\n",
       "<thead><tr><th>idx</th><th>Species</th><th>Chemical Name</th><th>Freq-GHz(rest frame,redshifted)</th><th>Freq Err(rest frame,redshifted)</th><th>Meas Freq-GHz(rest frame,redshifted)</th><th>Meas Freq Err(rest frame,redshifted)</th><th>Resolved QNs</th><th>CDMS/JPL Intensity</th><th>S&lt;sub&gt;ij&lt;/sub&gt;&amp;#956;&lt;sup&gt;2&lt;/sup&gt; (D&lt;sup&gt;2&lt;/sup&gt;)</th><th>S&lt;sub&gt;ij&lt;/sub&gt;</th><th>Log&lt;sub&gt;10&lt;/sub&gt; (A&lt;sub&gt;ij&lt;/sub&gt;)</th><th>Lovas/AST Intensity</th><th>E_L (cm^-1)</th><th>E_L (K)</th><th>E_U (cm^-1)</th><th>E_U (K)</th><th>Upper State Degeneracy</th><th>Quantum Number Code</th><th>Linelist</th></tr></thead>\n",
       "<tr><td>0</td><td>CH3CNv=0</td><td>Methyl Cyanide</td><td>147.1745883</td><td>2e-07</td><td>--</td><td>--</td><td>8(0)-7(0)</td><td>-2.6575</td><td>169.60673</td><td>11.02642</td><td>-3.7326</td><td>--</td><td>17.1828</td><td>24.72238</td><td>22.09202</td><td>31.78569</td><td>34.0</td><td>202</td><td>JPL</td></tr>\n",
       "<tr><td>1</td><td>CH3CNv=0</td><td>Methyl Cyanide</td><td>147.1717519</td><td>2e-07</td><td>--</td><td>--</td><td>8(1)-7(1)</td><td>-2.6748</td><td>166.91824</td><td>10.85164</td><td>-3.73957</td><td>--</td><td>22.1491</td><td>31.86782</td><td>27.05822</td><td>38.931</td><td>34.0</td><td>202</td><td>JPL</td></tr>\n",
       "<tr><td>2</td><td>CH3CNv=0</td><td>Methyl Cyanide</td><td>147.1632441</td><td>2e-07</td><td>--</td><td>--</td><td>8(2)-7(2)</td><td>-2.727</td><td>158.99516</td><td>10.33654</td><td>-3.76076</td><td>--</td><td>37.047</td><td>53.30272</td><td>41.95584</td><td>60.36548</td><td>34.0</td><td>202</td><td>JPL</td></tr>\n",
       "<tr><td>3</td><td>CH3CNv=0</td><td>Methyl Cyanide</td><td>147.1490683</td><td>1e-07</td><td>--</td><td>--</td><td>8(3)-7(3)</td><td>-2.5156</td><td>291.45821</td><td>18.94819</td><td>-3.79873</td><td>--</td><td>61.8731</td><td>89.02217</td><td>66.78146</td><td>96.08426</td><td>68.0</td><td>202</td><td>JPL</td></tr>\n",
       "<tr><td>4</td><td>CH3CNv=0</td><td>Methyl Cyanide</td><td>147.1292302</td><td>1e-07</td><td>--</td><td>--</td><td>8(4)-7(4)</td><td>-2.9482</td><td>127.19471</td><td>8.26914</td><td>-3.85798</td><td>--</td><td>96.6217</td><td>139.01798</td><td>101.5294</td><td>146.07911</td><td>34.0</td><td>202</td><td>JPL</td></tr>\n",
       "<tr><td>5</td><td>CH3CNv=0</td><td>Methyl Cyanide</td><td>147.103738</td><td>1e-07</td><td>--</td><td>--</td><td>8(5)-7(5)</td><td>-3.1316</td><td>103.33459</td><td>6.71796</td><td>-3.94843</td><td>--</td><td>141.2849</td><td>203.27878</td><td>146.19175</td><td>210.33869</td><td>34.0</td><td>202</td><td>JPL</td></tr>\n",
       "<tr><td>6</td><td>CH3CNv=0</td><td>Methyl Cyanide</td><td>147.0726021</td><td>1e-07</td><td>--</td><td>--</td><td>8(6)-7(6)</td><td>-3.0883</td><td>148.38336</td><td>9.64665</td><td>-4.09259</td><td>--</td><td>195.8526</td><td>281.79004</td><td>200.75841</td><td>288.84846</td><td>68.0</td><td>202</td><td>JPL</td></tr>\n",
       "<tr><td>7</td><td>CH3CNv=0</td><td>Methyl Cyanide</td><td>147.0358351</td><td>1e-07</td><td>--</td><td>--</td><td>8(7)-7(7)</td><td>-3.7949</td><td>39.74307</td><td>2.58376</td><td>-4.36401</td><td>--</td><td>260.3123</td><td>374.53377</td><td>265.21689</td><td>381.59042</td><td>34.0</td><td>202</td><td>JPL</td></tr>\n",
       "</table><style>table.dataTable {clear: both; width: auto !important; margin: 0 !important;}\n",
       ".dataTables_info, .dataTables_length, .dataTables_filter, .dataTables_paginate{\n",
       "display: inline-block; margin-right: 1em; }\n",
       ".paginate_button { margin-right: 5px; }\n",
       "</style>\n",
       "<script>\n",
       "\n",
       "var astropy_sort_num = function(a, b) {\n",
       "    var a_num = parseFloat(a);\n",
       "    var b_num = parseFloat(b);\n",
       "\n",
       "    if (isNaN(a_num) && isNaN(b_num))\n",
       "        return ((a < b) ? -1 : ((a > b) ? 1 : 0));\n",
       "    else if (!isNaN(a_num) && !isNaN(b_num))\n",
       "        return ((a_num < b_num) ? -1 : ((a_num > b_num) ? 1 : 0));\n",
       "    else\n",
       "        return isNaN(a_num) ? -1 : 1;\n",
       "}\n",
       "\n",
       "require.config({paths: {\n",
       "    datatables: 'https://cdn.datatables.net/1.10.12/js/jquery.dataTables.min'\n",
       "}});\n",
       "require([\"datatables\"], function(){\n",
       "    console.log(\"$('#table47464341937288-997502').dataTable()\");\n",
       "    \n",
       "jQuery.extend( jQuery.fn.dataTableExt.oSort, {\n",
       "    \"optionalnum-asc\": astropy_sort_num,\n",
       "    \"optionalnum-desc\": function (a,b) { return -astropy_sort_num(a, b); }\n",
       "});\n",
       "\n",
       "    $('#table47464341937288-997502').dataTable({\n",
       "        order: [],\n",
       "        pageLength: 50,\n",
       "        lengthMenu: [[10, 25, 50, 100, 500, 1000, -1], [10, 25, 50, 100, 500, 1000, 'All']],\n",
       "        pagingType: \"full_numbers\",\n",
       "        columnDefs: [{targets: [0, 3, 4, 5, 6, 8, 9, 10, 11, 12, 13, 14, 15, 16, 17, 18], type: \"optionalnum\"}]\n",
       "    });\n",
       "});\n",
       "</script>\n"
      ],
      "text/plain": [
       "<IPython.core.display.HTML object>"
      ]
     },
     "execution_count": 3,
     "metadata": {},
     "output_type": "execute_result"
    }
   ],
   "source": [
    "# List lines in this wavelength region, with tolerance for velocity shifts\n",
    "tbl = Splatalogue.query_lines(freq_lo-0.1*u.GHz, freq_hi+0.1*u.GHz, \n",
    "                              chemical_name='CH3CN',\n",
    "                              energy_max=500, # more lines w/ max energy > 140\n",
    "                              energy_type='eu_k',\n",
    "                              line_lists=['JPL'],\n",
    "                              show_upper_degeneracy=True, \n",
    "                              show_qn_code=True)\n",
    "# tbl.show_in_notebook()\n",
    "\n",
    "# print(tbl['Species',\n",
    "#           'Freq-GHz(rest frame,redshifted)',\n",
    "#           'Resolved QNs',\n",
    "#           'E_U (K)'].pprint(max_lines=1000))\n",
    "\n",
    "# print(tbl.columns)\n",
    "\n",
    "tbl_trimmed = tbl[tbl['Quantum Number Code']==202]\n",
    "tbl_trimmed = tbl_trimmed[::-1]\n",
    "# print(tbl_trimmed['Species',\n",
    "#                   'Freq-GHz(rest frame,redshifted)',\n",
    "#                   'Resolved QNs',\n",
    "#                   'Log<sub>10</sub> (A<sub>ij</sub>)',\n",
    "#                   'E_U (K)',\n",
    "#                   'Upper State Degeneracy'].pprint(max_lines=1000))\n",
    "\n",
    "# # Retrieve values for later use\n",
    "line_freqs = tbl_trimmed['Freq-GHz(rest frame,redshifted)'].data\n",
    "shifted_line_freqs = line_freqs-((40.5/299792)*line_freqs) # shift by velocity, here 40.5 km/s\n",
    "line_names = tbl_trimmed['Resolved QNs'].data\n",
    "einstein_A_coefficients = tbl_trimmed['Log<sub>10</sub> (A<sub>ij</sub>)'].data\n",
    "E_upper = tbl_trimmed['E_U (K)'].data\n",
    "g = tbl_trimmed['Upper State Degeneracy'].data\n",
    "\n",
    "tbl_trimmed.show_in_notebook()"
   ]
  },
  {
   "cell_type": "code",
   "execution_count": 4,
   "metadata": {},
   "outputs": [
    {
     "data": {
      "text/plain": [
       "<Figure size 720x360 with 0 Axes>"
      ]
     },
     "metadata": {},
     "output_type": "display_data"
    },
    {
     "data": {
      "image/png": "[encoded data removed]",
      "text/plain": [
       "<Figure size 864x360 with 1 Axes>"
      ]
     },
     "metadata": {
      "needs_background": "light"
     },
     "output_type": "display_data"
    }
   ],
   "source": [
    "# Determine good guesses for line centers, velocity shifts, and line widths\n",
    "# Doing Gaussians for now, even though Adam provided the CH3CN fitter which is different?\n",
    "sp = OneDSpectrum.from_hdu(fits.open(max_fn)).to(u.K)\n",
    "sp = pyspeckit.Spectrum.from_hdu(sp.hdu)\n",
    "sp.data -= 0.4 # subtract baseline by hand because it seems to work better\n",
    "# sp.baseline(include=(147.02*u.GHz, 147.04*u.GHz)) # subtract baseline using lineless area\n",
    "sp.xarr.convert_to_unit('GHz')\n",
    "\n",
    "fig = plt.figure(figsize=(10,5))\n",
    "# sp.plotter(figure=fig, xmin=freq_lo, xmax=freq_hi) # use this line to explore spectrum\n",
    "# sp.plotter.line_ids(line_names,shifted_line_freqs*(10**9),xval_units='Hz')\n",
    "\n",
    "# Guesses are in the order amplitude, center, width in groups of three\n",
    "linewidth = 0.001 # Linewidth guess in GHz\n",
    "delta = 0.01 # Frequency separation guess?\n",
    "guesses = [1.5, 147.154, linewidth, \n",
    "           1.5, 147.1521, linewidth, \n",
    "           0.8, 147.143, linewidth,\n",
    "           0.8, 147.1285, linewidth, \n",
    "           0.3, 147.108, linewidth] \n",
    "#            0.25, 147.081, linewidth, \n",
    "#            0.1, 147.055, linewidth,\n",
    "#            0.05, 147.015, linewidth]\n",
    "\n",
    "fig = plt.figure(figsize=(12, 5))\n",
    "sp.plotter(figure=fig, xmin=freq_lo, xmax=freq_hi)\n",
    "sp.plotter.line_ids(line_names, shifted_line_freqs, xval_units='GHz')\n",
    "sp.specfit(guesses=guesses, annotate=False)\n",
    "# sp.specfit(guesses=guesses, annotate=False, tied=('','','','','p[1]-delta','p[2]','','','p[2]','','','p[2]','','','p[2]'))\n",
    "sp.plotter.figure.savefig('methyl_cyanide_fits.png', dpi=200, bbox_inches='tight')\n",
    "sp.xarr.convert_to_unit(u.km/u.s) # convert x-axis to km/s for integrations in next step"
   ]
  },
  {
   "cell_type": "code",
   "execution_count": 5,
   "metadata": {},
   "outputs": [
    {
     "name": "stdout",
     "output_type": "stream",
     "text": [
      "[1919979109687.8066, 1740599473531.2185, 1002023084816.1841, 1298979704824.6196, 390740595054.29834]\n"
     ]
    }
   ],
   "source": [
    "# Calculate upper level column density from integrated line intensity\n",
    "pars = sp.specfit.parinfo.values\n",
    "\n",
    "# limits = [(147.153, 147.16), # this is from the not-working way of integrating\n",
    "#           (147.148, 147.1535),\n",
    "#           (147.14, 147.146),\n",
    "#           (147.127, 147.1325),\n",
    "#           (147.105, 147.112)]\n",
    "\n",
    "indices = [0, 1, 2, 3, 4] # define how many lines we are fitting\n",
    "i = 0 # initialize parameter counter\n",
    "N_upper = [] # initialize list of upper state column densities, to be calculated\n",
    "widths_kms = []\n",
    "for line in range(len(indices)): # was range(len(limits)) when I was using sp.specfit.integral\n",
    "    amp, freq, width = u.Quantity(pars[i], u.K), pars[i+1], pars[i+2] # grab three parameters\n",
    "    width_kms = (width/freq)*(constants.c).to(u.km/u.s)\n",
    "    widths_kms.append(width_kms.value)\n",
    "    kkms = np.sqrt(2*np.pi)*amp*width_kms\n",
    "    nupper = nupper_of_kkms(kkms, shifted_line_freqs[line], 10**(einstein_A_coefficients[line]))\n",
    "    N_upper.append(nupper.value)\n",
    "    i += 3\n",
    "print(N_upper)"
   ]
  },
  {
   "cell_type": "code",
   "execution_count": 6,
   "metadata": {},
   "outputs": [
    {
     "name": "stdout",
     "output_type": "stream",
     "text": [
      "2.3145458865136903\n"
     ]
    }
   ],
   "source": [
    "# Get average width\n",
    "print(np.mean(widths_kms))"
   ]
  },
  {
   "cell_type": "code",
   "execution_count": 16,
   "metadata": {},
   "outputs": [
    {
     "name": "stdout",
     "output_type": "stream",
     "text": [
      "-0.00607310809793581\n",
      "164.6603327116621\n"
     ]
    }
   ],
   "source": [
    "# Fit rotational temperature, inverse of slope\n",
    "def linear(x, m, b):\n",
    "    return (m*x) + b\n",
    "popt, pcov = curve_fit(linear, xdata = E_upper[:5], ydata = np.log10(N_upper/g[:5]))\n",
    "print(popt[0])\n",
    "print(-1./popt[0])"
   ]
  },
  {
   "cell_type": "code",
   "execution_count": 27,
   "metadata": {},
   "outputs": [
    {
     "data": {
      "image/png": "[encoded data removed]",
      "text/plain": [
       "<Figure size 432x360 with 1 Axes>"
      ]
     },
     "metadata": {
      "needs_background": "light"
     },
     "output_type": "display_data"
    }
   ],
   "source": [
    "E_upper_subset = E_upper[:5]\n",
    "g_subset = g[:5]\n",
    "\n",
    "# Plot rotational diagram with fit\n",
    "fig = plt.figure(figsize=(6, 5))\n",
    "plt.scatter(E_upper_subset, np.log10(N_upper/g_subset), color = 'k')\n",
    "fit_x_axis = np.linspace(E_upper_subset[0], E_upper_subset[-1], 100)\n",
    "plt.plot(fit_x_axis, linear(fit_x_axis, *popt), color = 'b')\n",
    "plt.text(90.5, 10.75, f'slope$ = {round(popt[0], 2)}$, $T = {round(-1./popt[0], 2)}$ K')\n",
    "plt.ylabel(\"$\\log (N_u / g)$\")\n",
    "plt.xlabel(\"$E_u / k$ (K)\")\n",
    "plt.savefig('methyl_cyanide_rot_diagram.png', dpi = 200, bbox_inches='tight')\n",
    "plt.show()"
   ]
  },
  {
   "cell_type": "code",
   "execution_count": null,
   "metadata": {},
   "outputs": [],
   "source": []
  }
 ],
 "metadata": {
  "kernelspec": {
   "display_name": "Python 3",
   "language": "python",
   "name": "python3"
  },
  "language_info": {
   "codemirror_mode": {
    "name": "ipython",
    "version": 3
   },
   "file_extension": ".py",
   "mimetype": "text/x-python",
   "name": "python",
   "nbconvert_exporter": "python",
   "pygments_lexer": "ipython3",
   "version": "3.7.0"
  }
 },
 "nbformat": 4,
 "nbformat_minor": 4
}
