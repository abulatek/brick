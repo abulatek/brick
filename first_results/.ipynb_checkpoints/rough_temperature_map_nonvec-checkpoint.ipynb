{
 "cells": [
  {
   "cell_type": "code",
   "execution_count": 6,
   "metadata": {},
   "outputs": [
    {
     "data": {
      "text/plain": [
       "'2021.04.1'"
      ]
     },
     "execution_count": 6,
     "metadata": {},
     "output_type": "execute_result"
    }
   ],
   "source": [
    "## Started on May 7, 2021 at 1 PM CT\n",
    "## Goal: don't use pyspeckit right now\n",
    "\n",
    "# Import statements\n",
    "%matplotlib inline\n",
    "from spectral_cube import SpectralCube\n",
    "from spectral_cube.dask_spectral_cube import DaskSpectralCube\n",
    "from astroquery.splatalogue import Splatalogue\n",
    "from astropy import units as u\n",
    "from astropy import constants\n",
    "from lte_modeling_tools import nupper_of_kkms\n",
    "from pylab import imshow\n",
    "import numpy as np\n",
    "from scipy.optimize import curve_fit\n",
    "import time\n",
    "import matplotlib.pyplot as plt\n",
    "import pylab as pl\n",
    "from astropy.visualization import simple_norm\n",
    "from astropy.visualization.mpl_normalize import ImageNormalize\n",
    "from astropy.visualization import quantity_support\n",
    "quantity_support()\n",
    "\n",
    "# Check some things\n",
    "import sys\n",
    "sys.executable\n",
    "import dask\n",
    "dask.__version__ # My dask version was old but now it is updated"
   ]
  },
  {
   "cell_type": "code",
   "execution_count": 7,
   "metadata": {},
   "outputs": [
    {
     "name": "stderr",
     "output_type": "stream",
     "text": [
      "/blue/adamginsburg/abulatek/anaconda/lib/python3.7/site-packages/casa_formats_io-0.1-py3.7-linux-x86_64.egg/casa_formats_io/casa_dask.py:232: RuntimeWarning: divide by zero encountered in long_scalars\n",
      "  factors = [f for f in range(stacks[dim] + 1) if stacks[dim] % f == 0]\n",
      "WARNING: StokesWarning: Cube is a Stokes cube, returning spectral cube for I component [spectral_cube.io.core]\n",
      "WARNING: PossiblySlowWarning: This function (<function VaryingResolutionSpectralCube.to at 0x2ac453d54488>) requires loading the entire cube into memory and may therefore be slow. [spectral_cube.utils]\n"
     ]
    },
    {
     "name": "stdout",
     "output_type": "stream",
     "text": [
      "DaskVaryingResolutionSpectralCube with shape=(329, 512, 512) and unit=K and chunk size (255, 128, 128):\n",
      " n_x:    512  type_x: RA---SIN  unit_x: deg    range:   266.528130 deg:  266.560501 deg\n",
      " n_y:    512  type_y: DEC--SIN  unit_y: deg    range:   -28.719152 deg:  -28.690763 deg\n",
      " n_s:    329  type_s: FREQ      unit_s: Hz     range: 147009887391.829 Hz:147170048296.150 Hz\n"
     ]
    }
   ],
   "source": [
    "# Import cube\n",
    "results = '/blue/adamginsburg/abulatek/brick/symlinks/imaging_results/'\n",
    "freq_spw = '146_spw51'\n",
    "fn = results+'source_ab_'+freq_spw+'_clean_2sigma_n50000_masked_3sigma_pbmask0p18.image'\n",
    "cube = SpectralCube.read(fn, format='casa_image', use_dask=True) # Import cube\n",
    "freq_lo, freq_hi = 147.01*u.GHz, 147.17*u.GHz # Rough frequencies to search between\n",
    "rough_subcube = cube.spectral_slab(freq_lo, freq_hi) # Generate rough subcube from cube\n",
    "rough_subcube = rough_subcube.to(u.K) # Convert from Jy/beam to brightness temperature\n",
    "print(rough_subcube) # Print metadata about rough subcube"
   ]
  },
  {
   "cell_type": "code",
   "execution_count": null,
   "metadata": {},
   "outputs": [],
   "source": [
    "# Calculate the MAD-estimated RMS value for the rough subcube (can't do on original cube)\n",
    "start = time.time()\n",
    "sigma = np.nanmedian(rough_subcube.mad_std(axis = 0))\n",
    "# sigma_subcube = sigma/np.sqrt(rough_subcube.shape[0]*rough_subcube.shape[1]*rough_subcube.shape[2])\n",
    "sigma_subcube = sigma # Try this way; root(N) slopes are... very bad (and I believe 0.05 K over 1e-6 K)\n",
    "print(sigma_subcube)\n",
    "print(\"Sigma calculation:\", time.time() - start, \"seconds\")"
   ]
  },
  {
   "cell_type": "code",
   "execution_count": null,
   "metadata": {},
   "outputs": [],
   "source": [
    "# List lines in this wavelength region, with tolerance for velocity shifts\n",
    "tbl = Splatalogue.query_lines(freq_lo-0.1*u.GHz, freq_hi+0.1*u.GHz, \n",
    "                              chemical_name='CH3CN',\n",
    "                              energy_max=500, # more lines w/ max energy > 140\n",
    "                              energy_type='eu_k',\n",
    "                              line_lists=['JPL'],\n",
    "                              show_upper_degeneracy=True, \n",
    "                              show_qn_code=True)\n",
    "\n",
    "tbl_trimmed = tbl[tbl['Quantum Number Code']==202]\n",
    "# tbl_trimmed = tbl_trimmed[::-1]\n",
    "\n",
    "# Retrieve values for later use\n",
    "line_freqs = tbl_trimmed['Freq-GHz(rest frame,redshifted)'].data\n",
    "line_names = tbl_trimmed['Resolved QNs'].data\n",
    "einstein_A_coefficients = tbl_trimmed['Log<sub>10</sub> (A<sub>ij</sub>)'].data\n",
    "E_upper = tbl_trimmed['E_U (K)'].data\n",
    "g = tbl_trimmed['Upper State Degeneracy'].data\n",
    "\n",
    "tbl_trimmed.show_in_notebook()"
   ]
  },
  {
   "cell_type": "code",
   "execution_count": 4,
   "metadata": {},
   "outputs": [
    {
     "ename": "NotImplementedError",
     "evalue": "1D slices along non-spectral axes are not yet implemented.",
     "output_type": "error",
     "traceback": [
      "\u001b[0;31m---------------------------------------------------------------------------\u001b[0m",
      "\u001b[0;31mNotImplementedError\u001b[0m                       Traceback (most recent call last)",
      "\u001b[0;32m<ipython-input-4-fd26d9f03a23>\u001b[0m in \u001b[0;36m<module>\u001b[0;34m()\u001b[0m\n\u001b[1;32m      2\u001b[0m \u001b[0;32mfor\u001b[0m \u001b[0mi\u001b[0m \u001b[0;32min\u001b[0m \u001b[0mrange\u001b[0m\u001b[0;34m(\u001b[0m\u001b[0mrough_subcube\u001b[0m\u001b[0;34m.\u001b[0m\u001b[0mshape\u001b[0m\u001b[0;34m[\u001b[0m\u001b[0;36m1\u001b[0m\u001b[0;34m]\u001b[0m\u001b[0;34m)\u001b[0m\u001b[0;34m:\u001b[0m \u001b[0;31m# Loop over x-axis of cube\u001b[0m\u001b[0;34m\u001b[0m\u001b[0m\n\u001b[1;32m      3\u001b[0m     \u001b[0;32mfor\u001b[0m \u001b[0mj\u001b[0m \u001b[0;32min\u001b[0m \u001b[0mrange\u001b[0m\u001b[0;34m(\u001b[0m\u001b[0mrough_subcube\u001b[0m\u001b[0;34m.\u001b[0m\u001b[0mshape\u001b[0m\u001b[0;34m[\u001b[0m\u001b[0;36m2\u001b[0m\u001b[0;34m]\u001b[0m\u001b[0;34m)\u001b[0m\u001b[0;34m:\u001b[0m \u001b[0;31m# Loop over y-axis of cube\u001b[0m\u001b[0;34m\u001b[0m\u001b[0m\n\u001b[0;32m----> 4\u001b[0;31m         \u001b[0mprint\u001b[0m\u001b[0;34m(\u001b[0m\u001b[0mrough_subcube\u001b[0m\u001b[0;34m[\u001b[0m\u001b[0mi\u001b[0m\u001b[0;34m,\u001b[0m \u001b[0mj\u001b[0m\u001b[0;34m]\u001b[0m\u001b[0;34m)\u001b[0m\u001b[0;34m\u001b[0m\u001b[0m\n\u001b[0m",
      "\u001b[0;32m/blue/adamginsburg/abulatek/spectral-cube/spectral_cube/spectral_cube.py\u001b[0m in \u001b[0;36m__getitem__\u001b[0;34m(self, view)\u001b[0m\n\u001b[1;32m   3718\u001b[0m             \u001b[0;32mif\u001b[0m \u001b[0mlen\u001b[0m\u001b[0;34m(\u001b[0m\u001b[0mintslices\u001b[0m\u001b[0;34m)\u001b[0m \u001b[0;34m>\u001b[0m \u001b[0;36m1\u001b[0m\u001b[0;34m:\u001b[0m\u001b[0;34m\u001b[0m\u001b[0m\n\u001b[1;32m   3719\u001b[0m                 \u001b[0;32mif\u001b[0m \u001b[0;36m2\u001b[0m \u001b[0;32min\u001b[0m \u001b[0mintslices\u001b[0m\u001b[0;34m:\u001b[0m\u001b[0;34m\u001b[0m\u001b[0m\n\u001b[0;32m-> 3720\u001b[0;31m                     raise NotImplementedError(\"1D slices along non-spectral \"\n\u001b[0m\u001b[1;32m   3721\u001b[0m                                               \"axes are not yet implemented.\")\n\u001b[1;32m   3722\u001b[0m                 newwcs = self._wcs.sub([a\n",
      "\u001b[0;31mNotImplementedError\u001b[0m: 1D slices along non-spectral axes are not yet implemented."
     ]
    }
   ],
   "source": [
    "# For each pixel, extract a spectrum and fit each line with Splatalogue\n",
    "# for i in range(rough_subcube.shape[1]): # Loop over x-axis of cube\n",
    "for i in range(1):\n",
    "#     for j in range(rough_subcube.shape[2]): # Loop over y-axis of cube\n",
    "    for j in range(1):\n",
    "        sp = rough_subcube[:, i, j]\n",
    "        # Determine good guesses for line centers, velocity shifts, and line widths\n",
    "        sp = pyspeckit.Spectrum(sp)\n",
    "        print(sp)\n",
    "#         sp.data -= np.median(sp) # subtract baseline by hand because it seems to work better\n",
    "#         # sp.baseline(include=(147.02*u.GHz, 147.04*u.GHz)) # subtract baseline using lineless area\n",
    "#         sp.xarr.convert_to_unit('GHz')\n",
    "\n",
    "#         fig = plt.figure(figsize=(10,5))\n",
    "#         # sp.plotter(figure=fig, xmin=freq_lo, xmax=freq_hi) # use this line to explore spectrum\n",
    "#         # sp.plotter.line_ids(line_names,shifted_line_freqs*(10**9),xval_units='Hz')\n",
    "\n",
    "#         # Guesses are in the order amplitude, center, width in groups of three\n",
    "#         linewidth = 0.001 # Linewidth guess in GHz\n",
    "#         delta = 0.01 # Frequency separation guess?\n",
    "#         guesses = [1.5, 147.154, linewidth, \n",
    "#                    1.5, 147.1521, linewidth, \n",
    "#                    0.8, 147.143, linewidth,\n",
    "#                    0.8, 147.1285, linewidth, \n",
    "#                    0.3, 147.108, linewidth] \n",
    "#         #            0.25, 147.081, linewidth, \n",
    "#         #            0.1, 147.055, linewidth,\n",
    "#         #            0.05, 147.015, linewidth]\n",
    "\n",
    "#         fig = plt.figure(figsize=(12, 5))\n",
    "#         sp.plotter(figure=fig, xmin=freq_lo, xmax=freq_hi)\n",
    "#         sp.plotter.line_ids(line_names, shifted_line_freqs, xval_units='GHz')\n",
    "#         sp.specfit(guesses=guesses, annotate=False)\n",
    "#         # sp.specfit(guesses=guesses, annotate=False, tied=('','','','','p[1]-delta','p[2]','','','p[2]','','','p[2]','','','p[2]'))\n",
    "#         sp.plotter.figure.savefig('methyl_cyanide_fits.png', dpi=200, bbox_inches='tight')\n",
    "#         sp.xarr.convert_to_unit(u.km/u.s) # convert x-axis to km/s for integrations in next step"
   ]
  },
  {
   "cell_type": "code",
   "execution_count": null,
   "metadata": {},
   "outputs": [],
   "source": []
  }
 ],
 "metadata": {
  "kernelspec": {
   "display_name": "Python 3",
   "language": "python",
   "name": "python3"
  },
  "language_info": {
   "codemirror_mode": {
    "name": "ipython",
    "version": 3
   },
   "file_extension": ".py",
   "mimetype": "text/x-python",
   "name": "python",
   "nbconvert_exporter": "python",
   "pygments_lexer": "ipython3",
   "version": "3.7.0"
  }
 },
 "nbformat": 4,
 "nbformat_minor": 4
}
