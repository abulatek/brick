{
 "cells": [
  {
   "cell_type": "code",
   "execution_count": null,
   "metadata": {},
   "outputs": [],
   "source": [
    "# Import statements\n",
    "from spectral_cube import SpectralCube\n",
    "from astropy import units as u\n",
    "from astroquery.splatalogue import Splatalogue\n",
    "import matplotlib.pyplot as plt\n",
    "from pylab import imshow\n",
    "import numpy as np\n",
    "import scipy.ndimage as nd\n",
    "from lte_modeling_tools import nupper_of_kkms"
   ]
  },
  {
   "cell_type": "code",
   "execution_count": null,
   "metadata": {},
   "outputs": [],
   "source": [
    "# Define functions\n",
    "def get_line(chemical_name, freq_lo, freq_hi, vel):\n",
    "    tbl = Splatalogue.query_lines(freq_lo-0.1*u.GHz, freq_hi+0.1*u.GHz, \n",
    "                                  chemical_name=chemical_name,\n",
    "                                  energy_max=500, # more lines w/ max energy > 140\n",
    "                                  energy_type='eu_k',\n",
    "                                  line_lists=['JPL'],\n",
    "                                  show_upper_degeneracy=True, \n",
    "                                  show_qn_code=True)\n",
    "    line_freqs = tbl['Meas Freq-GHz(rest frame,redshifted)'].data\n",
    "    shifted_line_freqs = line_freqs-((vel/299792)*line_freqs) # Shift by velocity\n",
    "    tbl['Shifted Freq-GHz'] = shifted_line_freqs\n",
    "    return tbl\n",
    "\n",
    "def get_subcube(cube, center_freq, slab_width):\n",
    "    print(center_freq)\n",
    "    subcube = cube.spectral_slab(center_freq - 0.1*u.GHz, center_freq + 0.1*u.GHz).to(u.K)\n",
    "    subcube_v = subcube.with_spectral_unit(u.km/u.s, \n",
    "                                           rest_value = center_freq,\n",
    "                                           velocity_convention = 'radio').spectral_slab(-slab_width,\n",
    "                                                                                        slab_width)\n",
    "    print(subcube_v)\n",
    "    return subcube_v\n",
    "\n",
    "def get_noise_map(cube_noise):\n",
    "    cube_sclip = cube_noise.sigma_clip_spectrally(3) # Clip values above 3-sigma \n",
    "#     mad_std_spectrum_sclip = cube_sclip.mad_std(axis=(1, 2))\n",
    "#     plt.plot(mad_std_spectrum_sclip.spectral_axis.value, mad_std_spectrum_sclip.value, \n",
    "#              drawstyle='steps-mid')\n",
    "#     plt.xlabel('Velocity (km/s)')\n",
    "#     plt.ylabel(r' Noise standard deviation $\\sigma$ (K)')\n",
    "#     plt.ylim([0., 0.30]) # Best to extend the range to 0.\n",
    "#     plt.axhline(0.25, linestyle='--', color='k', linewidth=3, label='A priori noise expectation')\n",
    "#     plt.legend(frameon=True)\n",
    "    mad_std_map_sclip = cube_sclip.mad_std(axis=0) # Calculate sigma along the spectral dimension\n",
    "    return mad_std_map_sclip\n",
    "\n",
    "def get_signal_mask_scipy(cube_signal, mad_std_map_sclip):\n",
    "    '''Please pass an already-masked cube to cube_signal'''\n",
    "    # Make a low and high mask\n",
    "    low_snr_mask = (cube_signal > 3 * mad_std_map_sclip).include()\n",
    "    high_snr_mask = (cube_signal > 10 * mad_std_map_sclip).include()\n",
    "    low_snr_mask = low_snr_mask.compute() # We need to convert from a dask array to a numpy array.\n",
    "    high_snr_mask = high_snr_mask.compute()\n",
    "    # Find connected structures\n",
    "    structure = np.ones((3, 3, 3), dtype=bool)\n",
    "    low_snr_mask_labels, num_labels = nd.label(low_snr_mask, structure=structure)\n",
    "    print(f\"Initial number of regions found: {num_labels}\")\n",
    "    # From the labels, count the number of pixels within each label.\n",
    "    num_pixels_in_high_snr_mask = nd.sum(high_snr_mask,\n",
    "                                         labels=low_snr_mask_labels,\n",
    "                                         index=range(1, num_labels + 1)) # +1 offset for mask labels\n",
    "    # Repeat for the high signal mask.\n",
    "    num_pixels_in_low_snr_mask = nd.sum(low_snr_mask,\n",
    "                                        labels=low_snr_mask_labels,\n",
    "                                        index=range(1, num_labels + 1)) # +1 offset for mask labels\n",
    "    # To preserve the low_snr_mask, we will create a new signal mask where we will remove \n",
    "    # regions that do not pass the criteria.\n",
    "    signal_mask = low_snr_mask\n",
    "    low_min_pixels = 40\n",
    "    high_min_pixels = 10\n",
    "    for num, (high_pix_num, low_pix_num) in enumerate(zip(num_pixels_in_high_snr_mask, \n",
    "                                                          num_pixels_in_low_snr_mask)):\n",
    "        if high_pix_num >= high_min_pixels and low_pix_num >= low_min_pixels:\n",
    "            # This region passes the criteria. Keep it in the mask.\n",
    "            continue\n",
    "        # Remove regions that do not pass the criteria.\n",
    "        # NOTE: enumerate will start with 0, but the mask labels start at 1\n",
    "        # We apply a +1 offset to `num` to account for this.\n",
    "        signal_mask[low_snr_mask_labels == num + 1] = False\n",
    "    signal_mask_labels, num_labels = nd.label(signal_mask,\n",
    "                                              structure=structure)\n",
    "    print(f\"Final number of regions found: {num_labels}\")\n",
    "    signal_mask = nd.binary_dilation(signal_mask, structure=structure, iterations=1)\n",
    "    return signal_mask\n",
    "\n",
    "def find_outliers(masked_cube, v_thresh):\n",
    "    masked_moment1 = masked_cube.moment1()\n",
    "    masked_moment1_outliers = (masked_moment1 > v_thresh*u.km/u.s)|(masked_moment1 < -v_thresh*u.km/u.s)\n",
    "    imshow(masked_moment1_outliers, origin='lower') \n",
    "    # Clumps of outliers might mean they're real, just outside of vel range\n",
    "\n",
    "# def remove_outliers(masked_cube):\n",
    "#     '''Remove outliers based on mom0 map after-the-fact (deprecated)'''\n",
    "#     mom0 = masked_cube.moment0()\n",
    "#     mom0_mask = mom0 > 1.*u.K*u.km/u.s # Mask pixels with mom0 less than threshold\n",
    "#     print(f\"Found {mom0_mask.sum()} good pixels\")\n",
    "#     masked_cube_no_outliers = masked_cube.with_mask(mom0_mask)\n",
    "#     return masked_cube_no_outliers"
   ]
  },
  {
   "cell_type": "markdown",
   "metadata": {},
   "source": [
    "# Noise cube and map"
   ]
  },
  {
   "cell_type": "code",
   "execution_count": null,
   "metadata": {},
   "outputs": [],
   "source": [
    "# Get overall cube\n",
    "results = '/blue/adamginsburg/abulatek/brick/symlinks/imaging_results/'\n",
    "freq_spw = '146_spw51'\n",
    "fn = results+'source_ab_'+freq_spw+'_clean_2sigma_n50000_masked_3sigma_pbmask0p18.image'\n",
    "cube = SpectralCube.read(fn, format='casa_image')\n",
    "print(cube.shape)"
   ]
  },
  {
   "cell_type": "code",
   "execution_count": null,
   "metadata": {},
   "outputs": [],
   "source": [
    "# Get noise subcube\n",
    "subcube_noise = get_subcube(cube, 146.8*u.GHz, 15.*u.km/u.s)\n",
    "spectrum = subcube_noise[:, 256, 256]\n",
    "plt.plot(spectrum.spectral_axis, spectrum.value, drawstyle='steps-mid')\n",
    "plt.xlabel('Velocity (km/s)')\n",
    "plt.ylabel('Intensity (K)')"
   ]
  },
  {
   "cell_type": "code",
   "execution_count": null,
   "metadata": {},
   "outputs": [],
   "source": [
    "# Get noise map\n",
    "mad_std_map_sclip = get_noise_map(subcube_noise)\n",
    "ax = plt.subplot(projection=mad_std_map_sclip.wcs)\n",
    "im = ax.imshow(mad_std_map_sclip.value, origin='lower', cmap='gray')\n",
    "cbar = plt.colorbar(im)\n",
    "cbar.set_label('Intensity (K)')\n",
    "\n",
    "ax.set_ylabel('Declination')\n",
    "ax.set_xlabel('Right Ascension')"
   ]
  },
  {
   "cell_type": "markdown",
   "metadata": {},
   "source": [
    "# Signal cube"
   ]
  },
  {
   "cell_type": "code",
   "execution_count": null,
   "metadata": {},
   "outputs": [],
   "source": [
    "# Get lines\n",
    "tbl = get_line('CH3CN', 147.01*u.GHz, 147.17*u.GHz, 0)\n",
    "tbl = tbl[tbl['Quantum Number Code'] == 202]\n",
    "tbl = tbl[::-1]\n",
    "tbl.show_in_notebook()"
   ]
  },
  {
   "cell_type": "code",
   "execution_count": null,
   "metadata": {},
   "outputs": [],
   "source": [
    "# Get signal subcubes\n",
    "# subcubes = []\n",
    "# for n in range(8):\n",
    "center_freq = tbl['Freq-GHz(rest frame,redshifted)'][3]*u.GHz\n",
    "subcube = get_subcube(cube, center_freq, 10.*u.km/u.s)\n",
    "# subcubes.append(subcube)"
   ]
  },
  {
   "cell_type": "code",
   "execution_count": null,
   "metadata": {},
   "outputs": [],
   "source": [
    "# Look at peak intensity map of signal subcube\n",
    "# peak_intensity_signal = subcube[0].max(axis = 0) # Take the maximum along the spectral dimension\n",
    "# imshow(peak_intensity_signal.value, cmap='gray', origin='lower')"
   ]
  },
  {
   "cell_type": "markdown",
   "metadata": {},
   "source": [
    "### Use Desmond's method of plain masking on the subcube"
   ]
  },
  {
   "cell_type": "code",
   "execution_count": null,
   "metadata": {},
   "outputs": [],
   "source": [
    "plain_mask = subcube >= 3 * mad_std_map_sclip\n",
    "plain_masked_slab = subcube.with_mask(plain_mask)"
   ]
  },
  {
   "cell_type": "code",
   "execution_count": null,
   "metadata": {},
   "outputs": [],
   "source": [
    "# Get signal mask\n",
    "# masked_cubes = []\n",
    "# for n in range(8):\n",
    "signal_mask = get_signal_mask_scipy(plain_masked_slab, mad_std_map_sclip) # subcubes[n]\n",
    "masked_cube = plain_masked_slab.with_mask(signal_mask) # subcubes[n] # This used to be subcube (wrong)\n",
    "# masked_cubes.append(masked_cube)"
   ]
  },
  {
   "cell_type": "code",
   "execution_count": null,
   "metadata": {},
   "outputs": [],
   "source": [
    "# Look at peak intensity map of masked signal subcube\n",
    "# peak_intensity_sigmask = masked_cubes[0].max(axis=0)\n",
    "# imshow(peak_intensity_sigmask.value, cmap='gray', origin='lower')"
   ]
  },
  {
   "cell_type": "markdown",
   "metadata": {},
   "source": [
    "#### Post-facto outliers (no longer used)"
   ]
  },
  {
   "cell_type": "code",
   "execution_count": null,
   "metadata": {},
   "outputs": [],
   "source": [
    "# Visualize outliers\n",
    "# find_outliers(masked_cube[0], 15.)\n",
    "\n",
    "# Remove outliers\n",
    "# masked_cubes_no_outliers = []\n",
    "# for n in range(8):\n",
    "# masked_cube_no_outliers = remove_outliers(masked_cube) # masked_cubes[n]\n",
    "# masked_cubes_no_outliers.append(masked_cube_no_outliers)"
   ]
  },
  {
   "cell_type": "markdown",
   "metadata": {},
   "source": [
    "# Moment maps"
   ]
  },
  {
   "cell_type": "code",
   "execution_count": null,
   "metadata": {},
   "outputs": [],
   "source": [
    "# Moment 0 maps\n",
    "# masked_moment0s = []\n",
    "# for n in range(8):\n",
    "masked_moment0 = masked_cube.moment0() # masked_cubes[n]\n",
    "\n",
    "ax = plt.subplot(projection=masked_moment0.wcs)\n",
    "im = ax.imshow(masked_moment0.value, origin='lower', cmap='inferno')\n",
    "cbar = plt.colorbar(im)\n",
    "cbar.set_label('Integrated Intensity (K km/s)')\n",
    "ax.set_ylabel('Declination')\n",
    "ax.set_xlabel('Right Ascension')\n",
    "# plt.savefig(f'k{n}_mom0.pdf')\n",
    "# masked_moment0s.append(masked_moment0)"
   ]
  },
  {
   "cell_type": "code",
   "execution_count": null,
   "metadata": {},
   "outputs": [],
   "source": [
    "# Moment 1 maps\n",
    "# masked_moment1s = []\n",
    "# for n in range(8):\n",
    "masked_moment1 = masked_cube.moment1() # masked_cubes[n]\n",
    "\n",
    "ax = plt.subplot(projection=masked_moment1.wcs)\n",
    "im = ax.imshow(masked_moment1.value, origin='lower', cmap='coolwarm')\n",
    "cbar = plt.colorbar(im)\n",
    "cbar.set_label('Centroid (km/s)')\n",
    "\n",
    "ax.set_ylabel('Declination')\n",
    "ax.set_xlabel('Right Ascension')\n",
    "# plt.savefig(f'k{n}_mom1.pdf')\n",
    "# masked_moment1s.append(masked_moment1)"
   ]
  },
  {
   "cell_type": "markdown",
   "metadata": {},
   "source": [
    "#### Compare high-velocity pixel to central pixel"
   ]
  },
  {
   "cell_type": "code",
   "execution_count": null,
   "metadata": {},
   "outputs": [],
   "source": [
    "max_vel_coord = np.unravel_index(np.nanargmax(masked_moment1), masked_moment1.shape)\n",
    "spectrum = masked_cube[:, max_vel_coord[0], max_vel_coord[1]]\n",
    "plt.plot(spectrum.spectral_axis, spectrum.value, drawstyle='steps-mid')\n",
    "plt.xlabel('Velocity (km/s)')\n",
    "plt.ylabel('Intensity (K)')"
   ]
  },
  {
   "cell_type": "code",
   "execution_count": null,
   "metadata": {},
   "outputs": [],
   "source": [
    "spectrum = masked_cube[:, 259, 256]\n",
    "plt.plot(spectrum.spectral_axis, spectrum.value, drawstyle='steps-mid')\n",
    "plt.xlabel('Velocity (km/s)')\n",
    "plt.ylabel('Intensity (K)')"
   ]
  },
  {
   "cell_type": "markdown",
   "metadata": {},
   "source": [
    "#### Investigate noise map"
   ]
  },
  {
   "cell_type": "code",
   "execution_count": null,
   "metadata": {},
   "outputs": [],
   "source": [
    "# # Mask out pixels with integrated intensity less than 1 K*km/s\n",
    "# mad_std_map_sclip_mask = masked_moment0 > 1.*u.K*u.km/u.s\n",
    "# subcube_sclip = subcube_noise.sigma_clip_spectrally(3)\n",
    "# subcube_masked = subcube_noise.with_mask(mad_std_map_sclip_mask)\n",
    "# mad_std_map_sclip_masked = subcube_masked.mad_std(axis=0)\n",
    "\n",
    "# ax = plt.subplot(projection=mad_std_map_sclip_masked.wcs)\n",
    "# im = ax.imshow(mad_std_map_sclip_masked.value, origin='lower', cmap='gray')\n",
    "# cbar = plt.colorbar(im)\n",
    "# cbar.set_label('Intensity (K)')\n",
    "\n",
    "# ax.set_ylabel('Declination')\n",
    "# ax.set_xlabel('Right Ascension')\n",
    "\n",
    "# # Should not have any noise values < 1 K*km/s / width\n",
    "# noise_map = mad_std_map_sclip_masked\n",
    "# print(f\"Range of masked noise map: {np.nanmin(noise_map)} to {np.nanmax(noise_map)}\")\n",
    "# print(f\"Lower threshold: {(1.*u.K*u.km/u.s)/channel_width}\")\n",
    "\n",
    "# From Desmond: Run linewidth_fwhm on slabs. \"There shouldn't be any linewidth values that are \n",
    "# greater than the width of the slab, and if there were that'd imply that there were negative/bad\n",
    "# flux or integrated intensity values still floating around in your slab or mom0 somehow.\""
   ]
  },
  {
   "cell_type": "markdown",
   "metadata": {},
   "source": [
    "#### Check molecules that don't have neighboring transitions for other velocity components"
   ]
  },
  {
   "cell_type": "code",
   "execution_count": 51,
   "metadata": {},
   "outputs": [
    {
     "ename": "TypeError",
     "evalue": "get_line() missing 1 required positional argument: 'vel'",
     "output_type": "error",
     "traceback": [
      "\u001b[0;31m---------------------------------------------------------------------------\u001b[0m",
      "\u001b[0;31mTypeError\u001b[0m                                 Traceback (most recent call last)",
      "\u001b[0;32m<ipython-input-51-2a3ad7eb0c4b>\u001b[0m in \u001b[0;36m<module>\u001b[0;34m()\u001b[0m\n\u001b[0;32m----> 1\u001b[0;31m \u001b[0mtbl\u001b[0m \u001b[0;34m=\u001b[0m \u001b[0mget_line\u001b[0m\u001b[0;34m(\u001b[0m\u001b[0;34m'CH3CN'\u001b[0m\u001b[0;34m,\u001b[0m \u001b[0;36m147.01\u001b[0m\u001b[0;34m*\u001b[0m\u001b[0mu\u001b[0m\u001b[0;34m.\u001b[0m\u001b[0mGHz\u001b[0m\u001b[0;34m,\u001b[0m \u001b[0;36m147.17\u001b[0m\u001b[0;34m*\u001b[0m\u001b[0mu\u001b[0m\u001b[0;34m.\u001b[0m\u001b[0mGHz\u001b[0m\u001b[0;34m,\u001b[0m \u001b[0;36m0\u001b[0m\u001b[0;34m)\u001b[0m\u001b[0;34m\u001b[0m\u001b[0m\n\u001b[0m\u001b[1;32m      2\u001b[0m \u001b[0mtbl\u001b[0m\u001b[0;34m.\u001b[0m\u001b[0mshow_in_notebook\u001b[0m\u001b[0;34m(\u001b[0m\u001b[0;34m)\u001b[0m\u001b[0;34m\u001b[0m\u001b[0m\n",
      "\u001b[0;31mTypeError\u001b[0m: get_line() missing 1 required positional argument: 'vel'"
     ]
    }
   ],
   "source": [
    "tbl = get_line('CH3CN', 147.01*u.GHz, 147.17*u.GHz, 0)\n",
    "tbl.show_in_notebook()"
   ]
  },
  {
   "cell_type": "markdown",
   "metadata": {},
   "source": [
    "# Rotational diagram"
   ]
  },
  {
   "cell_type": "code",
   "execution_count": null,
   "metadata": {},
   "outputs": [],
   "source": [
    "type(masked_moment1)"
   ]
  },
  {
   "cell_type": "code",
   "execution_count": null,
   "metadata": {},
   "outputs": [],
   "source": [
    "N_upper = nupper_of_kkms(masked_moment0, shifted_line_freqs[i], 10**(einstein_A_coefficients[i]))"
   ]
  }
 ],
 "metadata": {
  "kernelspec": {
   "display_name": "Python 3",
   "language": "python",
   "name": "python3"
  },
  "language_info": {
   "codemirror_mode": {
    "name": "ipython",
    "version": 3
   },
   "file_extension": ".py",
   "mimetype": "text/x-python",
   "name": "python",
   "nbconvert_exporter": "python",
   "pygments_lexer": "ipython3",
   "version": "3.7.0"
  }
 },
 "nbformat": 4,
 "nbformat_minor": 4
}
