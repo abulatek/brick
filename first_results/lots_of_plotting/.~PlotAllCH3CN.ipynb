{
 "cells": [
  {
   "cell_type": "code",
   "execution_count": 8,
   "id": "2b0f0c92-5d9a-4b52-a177-d8be3e558cb9",
   "metadata": {},
   "outputs": [],
   "source": [
    "import pylab as pl\n",
    "pl.rcParams['figure.facecolor'] = 'w'\n",
    "import numpy as np\n",
    "# %matplotlib inline\n",
    "from spectral_cube import SpectralCube\n",
    "from astropy import units as u\n",
    "results = '/blue/adamginsburg/abulatek/brick/symlinks/imaging_results/'"
   ]
  },
  {
   "cell_type": "code",
   "execution_count": 2,
   "id": "5e1bc695-c2ea-44ed-a780-eb15374ebd56",
   "metadata": {
    "tags": []
   },
   "outputs": [],
   "source": [
    "import glob\n",
    "cubefns = glob.glob(f\"{results}/source_ab_*_clean_2sigma_n50000_masked_3sigma_pbmask0p18.image\")\n",
    "cubefns = glob.glob(f\"{results}/*.image.pbcor\")"
   ]
  },
  {
   "cell_type": "code",
   "execution_count": 4,
   "id": "271473cd-0956-451f-88b8-3437611afc61",
   "metadata": {},
   "outputs": [],
   "source": [
    "from astropy import coordinates, units as u\n",
    "from astropy import wcs\n",
    "from astropy.io import fits"
   ]
  },
  {
   "cell_type": "code",
   "execution_count": 5,
   "id": "57418bbf-e1e4-4c40-92b4-723b4d4d72e9",
   "metadata": {},
   "outputs": [],
   "source": [
    "crd = coordinates.SkyCoord(\"17:46:10.80 -28:42:13.3\", frame='fk5', unit=(u.h, u.deg))"
   ]
  },
  {
   "cell_type": "code",
   "execution_count": 6,
   "id": "97d4f49a-c5ef-4e22-814e-7283d6f43de7",
   "metadata": {},
   "outputs": [],
   "source": [
    "import warnings\n",
    "warnings.filterwarnings('ignore')"
   ]
  },
  {
   "cell_type": "code",
   "execution_count": 11,
   "id": "28e1d8e8-b1fd-476c-a55f-a6e7d5d84d92",
   "metadata": {},
   "outputs": [
    {
     "name": "stdout",
     "output_type": "stream",
     "text": [
      "/blue/adamginsburg/abulatek/brick/symlinks/imaging_results/BrickMaser_257_spw45.image.pbcor\n",
      "Species  Chemical Name  Freq-GHz(rest frame,redshifted) Freq Err(rest frame,redshifted) Meas Freq-GHz(rest frame,redshifted) Meas Freq Err(rest frame,redshifted)  Resolved QNs CDMS/JPL Intensity ... E_L (cm^-1)  E_L (K)   E_U (cm^-1)  E_U (K)   Upper State Degeneracy Quantum Number Code Linelist\n",
      "-------- -------------- ------------------------------- ------------------------------- ------------------------------------ ------------------------------------ ------------- ------------------ ... ----------- ---------- ----------- ---------- ---------------------- ------------------- --------\n",
      "CH3CNv=0 Methyl Cyanide                     256.6945591                           3e-07                                   --                                   -- 14(13)-13(13)            -4.6189 ...    892.3609 1283.91664   900.92331 1296.23611                   58.0                 202      JPL\n",
      "CH3CNv=0 Methyl Cyanide                      256.817163                           3e-07                                   --                                   -- 14(12)-13(12)            -3.7758 ...    768.9526 1106.35847    777.5191 1118.68383                  116.0                 202      JPL\n",
      "CH3CNv=0 Methyl Cyanide                     256.9301393                           3e-07                                   --                                   -- 14(11)-13(11)            -3.6807 ...    655.3138  942.85652   663.88407   955.1873                   58.0                 202      JPL\n",
      "CH3CNv=0 Methyl Cyanide                     257.0334438                           2e-07                                   --                                   -- 14(10)-13(10)            -3.3568 ...    551.4702  793.44777   560.04391  805.78351                   58.0                 202      JPL\n",
      "CH3CNv=0 Methyl Cyanide                     257.1270354                           2e-07                                   --                                   --   14(9)-13(9)            -2.7812 ...    457.4452  658.16589   466.02203  670.50612                  116.0                 202      JPL\n",
      "/blue/adamginsburg/abulatek/brick/symlinks/imaging_results/BrickMaser_145_spw51.image.pbcor\n",
      "Species  Chemical Name  Freq-GHz(rest frame,redshifted) Freq Err(rest frame,redshifted) Meas Freq-GHz(rest frame,redshifted) Meas Freq Err(rest frame,redshifted) Resolved QNs CDMS/JPL Intensity ... E_L (cm^-1)  E_L (K)  E_U (cm^-1)  E_U (K)  Upper State Degeneracy Quantum Number Code Linelist\n",
      "-------- -------------- ------------------------------- ------------------------------- ------------------------------------ ------------------------------------ ------------ ------------------ ... ----------- --------- ----------- --------- ---------------------- ------------------- --------\n",
      "CH3CNv=0 Methyl Cyanide                     147.0358351                           1e-07                                   --                                   --    8(7)-7(7)            -3.7949 ...    260.3123 374.53377   265.21689 381.59042                   34.0                 202      JPL\n",
      "CH3CNv=0 Methyl Cyanide                     147.0726021                           1e-07                                   --                                   --    8(6)-7(6)            -3.0883 ...    195.8526 281.79004   200.75841 288.84846                   68.0                 202      JPL\n",
      "CH3CNv=0 Methyl Cyanide                      147.103738                           1e-07                                   --                                   --    8(5)-7(5)            -3.1316 ...    141.2849 203.27878   146.19175 210.33869                   34.0                 202      JPL\n",
      "CH3CNv=0 Methyl Cyanide                     147.1292302                           1e-07                                   --                                   --    8(4)-7(4)            -2.9482 ...     96.6217 139.01798    101.5294 146.07911                   34.0                 202      JPL\n",
      "CH3CNv=0 Methyl Cyanide                     147.1490683                           1e-07                                   --                                   --    8(3)-7(3)            -2.5156 ...     61.8731  89.02217    66.78146  96.08426                   68.0                 202      JPL\n",
      "CH3CNv=0 Methyl Cyanide                     147.1632441                           2e-07                                   --                                   --    8(2)-7(2)             -2.727 ...      37.047  53.30272    41.95584  60.36548                   34.0                 202      JPL\n",
      "CH3CNv=0 Methyl Cyanide                     147.1717519                           2e-07                                   --                                   --    8(1)-7(1)            -2.6748 ...     22.1491  31.86782    27.05822    38.931                   34.0                 202      JPL\n",
      "CH3CNv=0 Methyl Cyanide                     147.1745883                           2e-07                                   --                                   --    8(0)-7(0)            -2.6575 ...     17.1828  24.72238    22.09202  31.78569                   34.0                 202      JPL\n",
      "/blue/adamginsburg/abulatek/brick/symlinks/imaging_results/BrickMaser_145_spw51.image.pbcor 8 147.1745883\n",
      "/blue/adamginsburg/abulatek/brick/symlinks/imaging_results/BrickMaser_93_spw27.image.pbcor\n",
      "Species  Chemical Name  Freq-GHz(rest frame,redshifted) Freq Err(rest frame,redshifted) Meas Freq-GHz(rest frame,redshifted) Meas Freq Err(rest frame,redshifted) Resolved QNs CDMS/JPL Intensity ... E_L (cm^-1)  E_L (K)  E_U (cm^-1)  E_U (K)  Upper State Degeneracy Quantum Number Code Linelist\n",
      "-------- -------------- ------------------------------- ------------------------------- ------------------------------------ ------------------------------------ ------------ ------------------ ... ----------- --------- ----------- --------- ---------------------- ------------------- --------\n",
      "CH3CNv=0 Methyl Cyanide                       91.958726                           1e-07                                   --                                   --    5(4)-4(4)            -3.8544 ...     85.5791 123.13004    88.64651 127.54339                   22.0                 202      JPL\n",
      "CH3CNv=0 Methyl Cyanide                      91.9711304                           1e-07                                   --                                   --    5(3)-4(3)             -3.231 ...      50.829  73.13207    53.89683  77.54602                   44.0                 202      JPL\n",
      "CH3CNv=0 Methyl Cyanide                      91.9799943                           1e-07                                   --                                   --    5(2)-4(2)            -3.3622 ...     26.0019  37.41118    29.07002  41.82555                   22.0                 202      JPL\n",
      "CH3CNv=0 Methyl Cyanide                      91.9853141                           1e-07                                   --                                   --    5(1)-4(1)            -3.2731 ...     11.1034  15.97542     14.1717  20.39005                   22.0                 202      JPL\n",
      "CH3CNv=0 Methyl Cyanide                      91.9870876                           1e-07                                   --                                   --    5(0)-4(0)             -3.245 ...      6.1368   8.82954     9.20516  13.24426                   22.0                 202      JPL\n",
      "/blue/adamginsburg/abulatek/brick/symlinks/imaging_results/BrickMaser_93_spw27.image.pbcor 5 91.9870876\n",
      "/blue/adamginsburg/abulatek/brick/symlinks/imaging_results/BrickMaser_140_spw25.image.pbcor\n",
      "Species  Chemical Name  Freq-GHz(rest frame,redshifted) Freq Err(rest frame,redshifted) Meas Freq-GHz(rest frame,redshifted) Meas Freq Err(rest frame,redshifted) Resolved QNs CDMS/JPL Intensity ... E_L (cm^-1)  E_L (K)  E_U (cm^-1)  E_U (K)  Upper State Degeneracy Quantum Number Code Linelist\n",
      "-------- -------------- ------------------------------- ------------------------------- ------------------------------------ ------------------------------------ ------------ ------------------ ... ----------- --------- ----------- --------- ---------------------- ------------------- --------\n",
      "CH3CNv=0 Methyl Cyanide                     128.6901106                           1e-07                                   --                                   --    7(6)-6(6)            -3.4699 ...    191.5599 275.61376   195.85254 281.78995                   60.0                 202      JPL\n",
      "CH3CNv=0 Methyl Cyanide                     128.7173592                           1e-07                                   --                                   --    7(5)-6(5)            -3.3908 ...    136.9914 197.10135   141.28495 203.27885                   30.0                 202      JPL\n",
      "CH3CNv=0 Methyl Cyanide                     128.7396687                           1e-07                                   --                                   --    7(4)-6(4)            -3.1594 ...     92.3274  132.8394    96.62169 139.01797                   30.0                 202      JPL\n",
      "CH3CNv=0 Methyl Cyanide                       128.75703                           1e-07                                   --                                   --    7(3)-6(3)            -2.7023 ...     57.5782  82.84273    61.87307  89.02213                   60.0                 202      JPL\n",
      "CH3CNv=0 Methyl Cyanide                     128.7694361                           1e-07                                   --                                   --    7(2)-6(2)            -2.9004 ...     32.7517   47.1227    37.04699   53.3027                   30.0                 202      JPL\n",
      "CH3CNv=0 Methyl Cyanide                     128.7768817                           1e-07                                   --                                   --    7(1)-6(1)            -2.8413 ...     17.8536  25.68752    22.14913  31.86787                   30.0                 202      JPL\n",
      "CH3CNv=0 Methyl Cyanide                     128.7793639                           1e-07                                   --                                   --    7(0)-6(0)            -2.8219 ...     12.8872  18.54193    17.18282   24.7224                   30.0                 202      JPL\n",
      "CH3CNv=0 Methyl Cyanide                     147.0358351                           1e-07                                   --                                   --    8(7)-7(7)            -3.7949 ...    260.3123 374.53377   265.21689 381.59042                   34.0                 202      JPL\n",
      "CH3CNv=0 Methyl Cyanide                     147.0726021                           1e-07                                   --                                   --    8(6)-7(6)            -3.0883 ...    195.8526 281.79004   200.75841 288.84846                   68.0                 202      JPL\n",
      "CH3CNv=0 Methyl Cyanide                      147.103738                           1e-07                                   --                                   --    8(5)-7(5)            -3.1316 ...    141.2849 203.27878   146.19175 210.33869                   34.0                 202      JPL\n",
      "CH3CNv=0 Methyl Cyanide                     147.1292302                           1e-07                                   --                                   --    8(4)-7(4)            -2.9482 ...     96.6217 139.01798    101.5294 146.07911                   34.0                 202      JPL\n",
      "CH3CNv=0 Methyl Cyanide                     147.1490683                           1e-07                                   --                                   --    8(3)-7(3)            -2.5156 ...     61.8731  89.02217    66.78146  96.08426                   68.0                 202      JPL\n",
      "CH3CNv=0 Methyl Cyanide                     147.1632441                           2e-07                                   --                                   --    8(2)-7(2)             -2.727 ...      37.047  53.30272    41.95584  60.36548                   34.0                 202      JPL\n",
      "CH3CNv=0 Methyl Cyanide                     147.1717519                           2e-07                                   --                                   --    8(1)-7(1)            -2.6748 ...     22.1491  31.86782    27.05822    38.931                   34.0                 202      JPL\n",
      "CH3CNv=0 Methyl Cyanide                     147.1745883                           2e-07                                   --                                   --    8(0)-7(0)            -2.6575 ...     17.1828  24.72238    22.09202  31.78569                   34.0                 202      JPL\n",
      "/blue/adamginsburg/abulatek/brick/symlinks/imaging_results/BrickMaser_140_spw25.image.pbcor 7 128.7793639\n",
      "/blue/adamginsburg/abulatek/brick/symlinks/imaging_results/BrickMaser_140_spw25.image.pbcor 0 147.1745883\n",
      "/blue/adamginsburg/abulatek/brick/symlinks/imaging_results/BrickMaser_271_spw49.image.pbcor\n",
      "Species  Chemical Name  Freq-GHz(rest frame,redshifted) Freq Err(rest frame,redshifted) Meas Freq-GHz(rest frame,redshifted) Meas Freq Err(rest frame,redshifted)  Resolved QNs CDMS/JPL Intensity ... E_L (cm^-1)  E_L (K)   E_U (cm^-1)  E_U (K)   Upper State Degeneracy Quantum Number Code Linelist\n",
      "-------- -------------- ------------------------------- ------------------------------- ------------------------------------ ------------------------------------ ------------- ------------------ ... ----------- ---------- ----------- ---------- ---------------------- ------------------- --------\n",
      "CH3CNv=0 Methyl Cyanide                     256.6945591                           3e-07                                   --                                   -- 14(13)-13(13)            -4.6189 ...    892.3609 1283.91664   900.92331 1296.23611                   58.0                 202      JPL\n",
      "CH3CNv=0 Methyl Cyanide                      256.817163                           3e-07                                   --                                   -- 14(12)-13(12)            -3.7758 ...    768.9526 1106.35847    777.5191 1118.68383                  116.0                 202      JPL\n",
      "CH3CNv=0 Methyl Cyanide                     256.9301393                           3e-07                                   --                                   -- 14(11)-13(11)            -3.6807 ...    655.3138  942.85652   663.88407   955.1873                   58.0                 202      JPL\n",
      "CH3CNv=0 Methyl Cyanide                     257.0334438                           2e-07                                   --                                   -- 14(10)-13(10)            -3.3568 ...    551.4702  793.44777   560.04391  805.78351                   58.0                 202      JPL\n",
      "CH3CNv=0 Methyl Cyanide                     257.1270354                           2e-07                                   --                                   --   14(9)-13(9)            -2.7812 ...    457.4452  658.16589   466.02203  670.50612                  116.0                 202      JPL\n",
      "CH3CNv=0 Methyl Cyanide                      257.210877                           2e-07                                   --                                   --   14(8)-13(8)            -2.8468 ...    373.2601  537.04152   381.83973  549.38577                   58.0                 202      JPL\n",
      "CH3CNv=0 Methyl Cyanide                     257.2849349                           2e-07                                   --                                   --   14(7)-13(7)             -2.645 ...    298.9342  430.10243    307.5163  442.45024                   58.0                 202      JPL\n",
      "CH3CNv=0 Methyl Cyanide                     257.3491793                           2e-07                                   --                                   --   14(6)-13(6)            -2.1727 ...    234.4841  337.37251   243.06834   349.7234                  116.0                 202      JPL\n",
      "CH3CNv=0 Methyl Cyanide                     257.4035843                           2e-07                                   --                                   --   14(5)-13(5)             -2.331 ...    179.9246  258.87305   188.51066  271.22655                   58.0                 202      JPL\n",
      "CH3CNv=0 Methyl Cyanide                     257.4481277                           2e-07                                   --                                   --   14(4)-13(4)            -2.2156 ...    135.2681  194.62189   143.85565  206.97753                   58.0                 202      JPL\n",
      "CH3CNv=0 Methyl Cyanide                     257.4827915                           2e-07                                   --                                   --   14(3)-13(3)            -1.8255 ...    100.5247  144.63356    109.1134  156.99087                  116.0                 202      JPL\n",
      "CH3CNv=0 Methyl Cyanide                     257.5075614                           2e-07                                   --                                   --   14(2)-13(2)            -2.0633 ...     75.7024  108.91958    84.29193  121.27807                   58.0                 202      JPL\n",
      "CH3CNv=0 Methyl Cyanide                     257.5224275                           2e-07                                   --                                   --   14(1)-13(1)            -2.0255 ...     60.8067   87.48785    69.39672   99.84706                   58.0                 202      JPL\n",
      "CH3CNv=0 Methyl Cyanide                     257.5273835                           2e-07                                   --                                   --   14(0)-13(0)            -2.0129 ...     55.8411   80.34341    64.43129   92.70286                   58.0                 202      JPL\n",
      "CH3CNv=0 Methyl Cyanide                     274.8819787                           3e-07                                   --                                   -- 15(14)-14(14)            -4.8542 ...   1034.0687 1487.80388  1043.23778 1500.99622                   62.0                 202      JPL\n",
      "/blue/adamginsburg/abulatek/brick/symlinks/imaging_results/BrickMaser_271_spw49.image.pbcor 1 257.5273835\n",
      "/blue/adamginsburg/abulatek/brick/symlinks/imaging_results/BrickMaser_273_spw51.image.pbcor\n",
      "Species  Chemical Name  Freq-GHz(rest frame,redshifted) Freq Err(rest frame,redshifted) Meas Freq-GHz(rest frame,redshifted) Meas Freq Err(rest frame,redshifted)  Resolved QNs CDMS/JPL Intensity ... E_L (cm^-1)  E_L (K)   E_U (cm^-1)  E_U (K)   Upper State Degeneracy Quantum Number Code Linelist\n",
      "-------- -------------- ------------------------------- ------------------------------- ------------------------------------ ------------------------------------ ------------- ------------------ ... ----------- ---------- ----------- ---------- ---------------------- ------------------- --------\n",
      "CH3CNv=0 Methyl Cyanide                     274.8819787                           3e-07                                   --                                   -- 15(14)-14(14)            -4.8542 ...   1034.0687 1487.80388  1043.23778 1500.99622                   62.0                 202      JPL\n",
      "/blue/adamginsburg/abulatek/brick/symlinks/imaging_results/BrickMaser_109_spw29.image.pbcor\n",
      "Species  Chemical Name  Freq-GHz(rest frame,redshifted) Freq Err(rest frame,redshifted) Meas Freq-GHz(rest frame,redshifted) Meas Freq Err(rest frame,redshifted) Resolved QNs CDMS/JPL Intensity ... E_L (cm^-1)  E_L (K)  E_U (cm^-1)  E_U (K)  Upper State Degeneracy Quantum Number Code Linelist\n",
      "-------- -------------- ------------------------------- ------------------------------- ------------------------------------ ------------------------------------ ------------ ------------------ ... ----------- --------- ----------- --------- ---------------------- ------------------- --------\n",
      "CH3CNv=0 Methyl Cyanide                      110.330345                           1e-07                                   --                                   --    6(5)-5(5)            -3.7883 ...    133.3111 191.80618   136.99132 197.10124                   26.0                 202      JPL\n",
      "CH3CNv=0 Methyl Cyanide                     110.3494703                           1e-07                                   --                                   --    6(4)-5(4)            -3.4355 ...     88.6465 127.54337    92.32736 132.83934                   26.0                 202      JPL\n",
      "CH3CNv=0 Methyl Cyanide                     110.3643537                           1e-07                                   --                                   --    6(3)-5(3)            -2.9316 ...     53.8969  77.54612    57.57826  82.84281                   52.0                 202      JPL\n",
      "CH3CNv=0 Methyl Cyanide                      110.374989                           1e-07                                   --                                   --    6(2)-5(2)            -3.1071 ...       29.07  41.82552    32.75171  47.12272                   26.0                 202      JPL\n",
      "CH3CNv=0 Methyl Cyanide                      110.381372                           1e-07                                   --                                   --    6(1)-5(1)            -3.0371 ...     14.1717  20.39005    17.85363  25.68755                   26.0                 202      JPL\n",
      "CH3CNv=0 Methyl Cyanide                     110.3834999                           1e-07                                   --                                   --    6(0)-5(0)            -3.0145 ...      9.2052  13.24432     12.8872  18.54192                   26.0                 202      JPL\n",
      "/blue/adamginsburg/abulatek/brick/symlinks/imaging_results/BrickMaser_109_spw29.image.pbcor 6 110.3834999\n",
      "/blue/adamginsburg/abulatek/brick/symlinks/imaging_results/BrickMaser_258_spw47.image.pbcor\n",
      "Species  Chemical Name  Freq-GHz(rest frame,redshifted) Freq Err(rest frame,redshifted) Meas Freq-GHz(rest frame,redshifted) Meas Freq Err(rest frame,redshifted)  Resolved QNs CDMS/JPL Intensity ... E_L (cm^-1)  E_L (K)   E_U (cm^-1)  E_U (K)   Upper State Degeneracy Quantum Number Code Linelist\n",
      "-------- -------------- ------------------------------- ------------------------------- ------------------------------------ ------------------------------------ ------------- ------------------ ... ----------- ---------- ----------- ---------- ---------------------- ------------------- --------\n",
      "CH3CNv=0 Methyl Cyanide                     256.6945591                           3e-07                                   --                                   -- 14(13)-13(13)            -4.6189 ...    892.3609 1283.91664   900.92331 1296.23611                   58.0                 202      JPL\n",
      "CH3CNv=0 Methyl Cyanide                      256.817163                           3e-07                                   --                                   -- 14(12)-13(12)            -3.7758 ...    768.9526 1106.35847    777.5191 1118.68383                  116.0                 202      JPL\n",
      "CH3CNv=0 Methyl Cyanide                     256.9301393                           3e-07                                   --                                   -- 14(11)-13(11)            -3.6807 ...    655.3138  942.85652   663.88407   955.1873                   58.0                 202      JPL\n",
      "CH3CNv=0 Methyl Cyanide                     257.0334438                           2e-07                                   --                                   -- 14(10)-13(10)            -3.3568 ...    551.4702  793.44777   560.04391  805.78351                   58.0                 202      JPL\n",
      "CH3CNv=0 Methyl Cyanide                     257.1270354                           2e-07                                   --                                   --   14(9)-13(9)            -2.7812 ...    457.4452  658.16589   466.02203  670.50612                  116.0                 202      JPL\n",
      "CH3CNv=0 Methyl Cyanide                      257.210877                           2e-07                                   --                                   --   14(8)-13(8)            -2.8468 ...    373.2601  537.04152   381.83973  549.38577                   58.0                 202      JPL\n",
      "CH3CNv=0 Methyl Cyanide                     257.2849349                           2e-07                                   --                                   --   14(7)-13(7)             -2.645 ...    298.9342  430.10243    307.5163  442.45024                   58.0                 202      JPL\n",
      "CH3CNv=0 Methyl Cyanide                     257.3491793                           2e-07                                   --                                   --   14(6)-13(6)            -2.1727 ...    234.4841  337.37251   243.06834   349.7234                  116.0                 202      JPL\n",
      "CH3CNv=0 Methyl Cyanide                     257.4035843                           2e-07                                   --                                   --   14(5)-13(5)             -2.331 ...    179.9246  258.87305   188.51066  271.22655                   58.0                 202      JPL\n",
      "CH3CNv=0 Methyl Cyanide                     257.4481277                           2e-07                                   --                                   --   14(4)-13(4)            -2.2156 ...    135.2681  194.62189   143.85565  206.97753                   58.0                 202      JPL\n",
      "CH3CNv=0 Methyl Cyanide                     257.4827915                           2e-07                                   --                                   --   14(3)-13(3)            -1.8255 ...    100.5247  144.63356    109.1134  156.99087                  116.0                 202      JPL\n",
      "CH3CNv=0 Methyl Cyanide                     257.5075614                           2e-07                                   --                                   --   14(2)-13(2)            -2.0633 ...     75.7024  108.91958    84.29193  121.27807                   58.0                 202      JPL\n",
      "CH3CNv=0 Methyl Cyanide                     257.5224275                           2e-07                                   --                                   --   14(1)-13(1)            -2.0255 ...     60.8067   87.48785    69.39672   99.84706                   58.0                 202      JPL\n",
      "CH3CNv=0 Methyl Cyanide                     257.5273835                           2e-07                                   --                                   --   14(0)-13(0)            -2.0129 ...     55.8411   80.34341    64.43129   92.70286                   58.0                 202      JPL\n",
      "CH3CNv=0 Methyl Cyanide                     274.8819787                           3e-07                                   --                                   -- 15(14)-14(14)            -4.8542 ...   1034.0687 1487.80388  1043.23778 1500.99622                   62.0                 202      JPL\n",
      "/blue/adamginsburg/abulatek/brick/symlinks/imaging_results/BrickMaser_258_spw47.image.pbcor 1 257.5273835\n",
      "/blue/adamginsburg/abulatek/brick/symlinks/imaging_results/BrickMaser_252_spw27.image.pbcor\n",
      "Species  Chemical Name  Freq-GHz(rest frame,redshifted) Freq Err(rest frame,redshifted) Meas Freq-GHz(rest frame,redshifted) Meas Freq Err(rest frame,redshifted)  Resolved QNs CDMS/JPL Intensity ... E_L (cm^-1)  E_L (K)   E_U (cm^-1)  E_U (K)   Upper State Degeneracy Quantum Number Code Linelist\n",
      "-------- -------------- ------------------------------- ------------------------------- ------------------------------------ ------------------------------------ ------------- ------------------ ... ----------- ---------- ----------- ---------- ---------------------- ------------------- --------\n",
      "CH3CNv=0 Methyl Cyanide                     256.6945591                           3e-07                                   --                                   -- 14(13)-13(13)            -4.6189 ...    892.3609 1283.91664   900.92331 1296.23611                   58.0                 202      JPL\n",
      "CH3CNv=0 Methyl Cyanide                      256.817163                           3e-07                                   --                                   -- 14(12)-13(12)            -3.7758 ...    768.9526 1106.35847    777.5191 1118.68383                  116.0                 202      JPL\n",
      "CH3CNv=0 Methyl Cyanide                     256.9301393                           3e-07                                   --                                   -- 14(11)-13(11)            -3.6807 ...    655.3138  942.85652   663.88407   955.1873                   58.0                 202      JPL\n",
      "CH3CNv=0 Methyl Cyanide                     257.0334438                           2e-07                                   --                                   -- 14(10)-13(10)            -3.3568 ...    551.4702  793.44777   560.04391  805.78351                   58.0                 202      JPL\n",
      "CH3CNv=0 Methyl Cyanide                     257.1270354                           2e-07                                   --                                   --   14(9)-13(9)            -2.7812 ...    457.4452  658.16589   466.02203  670.50612                  116.0                 202      JPL\n",
      "CH3CNv=0 Methyl Cyanide                      257.210877                           2e-07                                   --                                   --   14(8)-13(8)            -2.8468 ...    373.2601  537.04152   381.83973  549.38577                   58.0                 202      JPL\n",
      "CH3CNv=0 Methyl Cyanide                     257.2849349                           2e-07                                   --                                   --   14(7)-13(7)             -2.645 ...    298.9342  430.10243    307.5163  442.45024                   58.0                 202      JPL\n",
      "CH3CNv=0 Methyl Cyanide                     257.3491793                           2e-07                                   --                                   --   14(6)-13(6)            -2.1727 ...    234.4841  337.37251   243.06834   349.7234                  116.0                 202      JPL\n",
      "CH3CNv=0 Methyl Cyanide                     257.4035843                           2e-07                                   --                                   --   14(5)-13(5)             -2.331 ...    179.9246  258.87305   188.51066  271.22655                   58.0                 202      JPL\n",
      "CH3CNv=0 Methyl Cyanide                     257.4481277                           2e-07                                   --                                   --   14(4)-13(4)            -2.2156 ...    135.2681  194.62189   143.85565  206.97753                   58.0                 202      JPL\n",
      "CH3CNv=0 Methyl Cyanide                     257.4827915                           2e-07                                   --                                   --   14(3)-13(3)            -1.8255 ...    100.5247  144.63356    109.1134  156.99087                  116.0                 202      JPL\n",
      "CH3CNv=0 Methyl Cyanide                     257.5075614                           2e-07                                   --                                   --   14(2)-13(2)            -2.0633 ...     75.7024  108.91958    84.29193  121.27807                   58.0                 202      JPL\n",
      "CH3CNv=0 Methyl Cyanide                     257.5224275                           2e-07                                   --                                   --   14(1)-13(1)            -2.0255 ...     60.8067   87.48785    69.39672   99.84706                   58.0                 202      JPL\n",
      "CH3CNv=0 Methyl Cyanide                     257.5273835                           2e-07                                   --                                   --   14(0)-13(0)            -2.0129 ...     55.8411   80.34341    64.43129   92.70286                   58.0                 202      JPL\n",
      "CH3CNv=0 Methyl Cyanide                     274.8819787                           3e-07                                   --                                   -- 15(14)-14(14)            -4.8542 ...   1034.0687 1487.80388  1043.23778 1500.99622                   62.0                 202      JPL\n",
      "/blue/adamginsburg/abulatek/brick/symlinks/imaging_results/BrickMaser_252_spw27.image.pbcor 1 257.5273835\n",
      "/blue/adamginsburg/abulatek/brick/symlinks/imaging_results/BrickMaser_130_spw105.image.pbcor\n",
      "Species  Chemical Name  Freq-GHz(rest frame,redshifted) Freq Err(rest frame,redshifted) Meas Freq-GHz(rest frame,redshifted) Meas Freq Err(rest frame,redshifted) Resolved QNs CDMS/JPL Intensity ... E_L (cm^-1)  E_L (K)  E_U (cm^-1)  E_U (K)  Upper State Degeneracy Quantum Number Code Linelist\n",
      "-------- -------------- ------------------------------- ------------------------------- ------------------------------------ ------------------------------------ ------------ ------------------ ... ----------- --------- ----------- --------- ---------------------- ------------------- --------\n",
      "CH3CNv=0 Methyl Cyanide                     128.6901106                           1e-07                                   --                                   --    7(6)-6(6)            -3.4699 ...    191.5599 275.61376   195.85254 281.78995                   60.0                 202      JPL\n",
      "CH3CNv=0 Methyl Cyanide                     128.7173592                           1e-07                                   --                                   --    7(5)-6(5)            -3.3908 ...    136.9914 197.10135   141.28495 203.27885                   30.0                 202      JPL\n",
      "CH3CNv=0 Methyl Cyanide                     128.7396687                           1e-07                                   --                                   --    7(4)-6(4)            -3.1594 ...     92.3274  132.8394    96.62169 139.01797                   30.0                 202      JPL\n",
      "CH3CNv=0 Methyl Cyanide                       128.75703                           1e-07                                   --                                   --    7(3)-6(3)            -2.7023 ...     57.5782  82.84273    61.87307  89.02213                   60.0                 202      JPL\n",
      "CH3CNv=0 Methyl Cyanide                     128.7694361                           1e-07                                   --                                   --    7(2)-6(2)            -2.9004 ...     32.7517   47.1227    37.04699   53.3027                   30.0                 202      JPL\n",
      "CH3CNv=0 Methyl Cyanide                     128.7768817                           1e-07                                   --                                   --    7(1)-6(1)            -2.8413 ...     17.8536  25.68752    22.14913  31.86787                   30.0                 202      JPL\n",
      "CH3CNv=0 Methyl Cyanide                     128.7793639                           1e-07                                   --                                   --    7(0)-6(0)            -2.8219 ...     12.8872  18.54193    17.18282   24.7224                   30.0                 202      JPL\n",
      "/blue/adamginsburg/abulatek/brick/symlinks/imaging_results/BrickMaser_130_spw105.image.pbcor 7 128.7793639\n",
      "/blue/adamginsburg/abulatek/brick/symlinks/imaging_results/BrickMaser_142_spw27.image.pbcor\n",
      "Species  Chemical Name  Freq-GHz(rest frame,redshifted) Freq Err(rest frame,redshifted) Meas Freq-GHz(rest frame,redshifted) Meas Freq Err(rest frame,redshifted) Resolved QNs CDMS/JPL Intensity ... E_L (cm^-1)  E_L (K)  E_U (cm^-1)  E_U (K)  Upper State Degeneracy Quantum Number Code Linelist\n",
      "-------- -------------- ------------------------------- ------------------------------- ------------------------------------ ------------------------------------ ------------ ------------------ ... ----------- --------- ----------- --------- ---------------------- ------------------- --------\n",
      "CH3CNv=0 Methyl Cyanide                     128.6901106                           1e-07                                   --                                   --    7(6)-6(6)            -3.4699 ...    191.5599 275.61376   195.85254 281.78995                   60.0                 202      JPL\n",
      "CH3CNv=0 Methyl Cyanide                     128.7173592                           1e-07                                   --                                   --    7(5)-6(5)            -3.3908 ...    136.9914 197.10135   141.28495 203.27885                   30.0                 202      JPL\n",
      "CH3CNv=0 Methyl Cyanide                     128.7396687                           1e-07                                   --                                   --    7(4)-6(4)            -3.1594 ...     92.3274  132.8394    96.62169 139.01797                   30.0                 202      JPL\n",
      "CH3CNv=0 Methyl Cyanide                       128.75703                           1e-07                                   --                                   --    7(3)-6(3)            -2.7023 ...     57.5782  82.84273    61.87307  89.02213                   60.0                 202      JPL\n",
      "CH3CNv=0 Methyl Cyanide                     128.7694361                           1e-07                                   --                                   --    7(2)-6(2)            -2.9004 ...     32.7517   47.1227    37.04699   53.3027                   30.0                 202      JPL\n",
      "CH3CNv=0 Methyl Cyanide                     128.7768817                           1e-07                                   --                                   --    7(1)-6(1)            -2.8413 ...     17.8536  25.68752    22.14913  31.86787                   30.0                 202      JPL\n",
      "CH3CNv=0 Methyl Cyanide                     128.7793639                           1e-07                                   --                                   --    7(0)-6(0)            -2.8219 ...     12.8872  18.54193    17.18282   24.7224                   30.0                 202      JPL\n",
      "CH3CNv=0 Methyl Cyanide                     147.0358351                           1e-07                                   --                                   --    8(7)-7(7)            -3.7949 ...    260.3123 374.53377   265.21689 381.59042                   34.0                 202      JPL\n",
      "CH3CNv=0 Methyl Cyanide                     147.0726021                           1e-07                                   --                                   --    8(6)-7(6)            -3.0883 ...    195.8526 281.79004   200.75841 288.84846                   68.0                 202      JPL\n",
      "CH3CNv=0 Methyl Cyanide                      147.103738                           1e-07                                   --                                   --    8(5)-7(5)            -3.1316 ...    141.2849 203.27878   146.19175 210.33869                   34.0                 202      JPL\n",
      "CH3CNv=0 Methyl Cyanide                     147.1292302                           1e-07                                   --                                   --    8(4)-7(4)            -2.9482 ...     96.6217 139.01798    101.5294 146.07911                   34.0                 202      JPL\n",
      "CH3CNv=0 Methyl Cyanide                     147.1490683                           1e-07                                   --                                   --    8(3)-7(3)            -2.5156 ...     61.8731  89.02217    66.78146  96.08426                   68.0                 202      JPL\n",
      "CH3CNv=0 Methyl Cyanide                     147.1632441                           2e-07                                   --                                   --    8(2)-7(2)             -2.727 ...      37.047  53.30272    41.95584  60.36548                   34.0                 202      JPL\n",
      "CH3CNv=0 Methyl Cyanide                     147.1717519                           2e-07                                   --                                   --    8(1)-7(1)            -2.6748 ...     22.1491  31.86782    27.05822    38.931                   34.0                 202      JPL\n",
      "CH3CNv=0 Methyl Cyanide                     147.1745883                           2e-07                                   --                                   --    8(0)-7(0)            -2.6575 ...     17.1828  24.72238    22.09202  31.78569                   34.0                 202      JPL\n",
      "/blue/adamginsburg/abulatek/brick/symlinks/imaging_results/BrickMaser_142_spw27.image.pbcor 7 128.7793639\n",
      "/blue/adamginsburg/abulatek/brick/symlinks/imaging_results/BrickMaser_142_spw27.image.pbcor 0 147.1745883\n"
     ]
    }
   ],
   "source": [
    "cubes = []\n",
    "\n",
    "for fn in cubefns:\n",
    "\n",
    "    ch3cncube = SpectralCube.read(fn, format='casa_image')\n",
    "    \n",
    "    ch3cntbl = ch3cncube.find_lines(chemical_name='CH3CN', line_lists=['JPL'], \n",
    "                                    show_upper_degeneracy=True, show_qn_code=True)\n",
    "    ch3cntbl = ch3cntbl[ch3cntbl['Quantum Number Code'] == 202]\n",
    "    if len(ch3cntbl) > 0:\n",
    "        cubes.append(ch3cncube)\n",
    "        print(fn)\n",
    "        print(ch3cntbl)\n",
    "    if any('(0)' in x for x in ch3cntbl['Resolved QNs']):\n",
    "        msk = np.array(['(0)' in x for x in ch3cntbl['Resolved QNs']])\n",
    "        restfrq = ch3cntbl[msk]['Freq-GHz(rest frame,redshifted)'].value\n",
    "        qns = str(ch3cntbl[msk]['Resolved QNs'][0]).replace(\"(\",\"\").replace(\")\",\"\")\n",
    "        for rf, qn in zip(restfrq, qns):\n",
    "            print(fn, qn, rf)\n",
    "            ccube = ch3cncube.with_spectral_unit(u.km/u.s, rest_value=rf*u.GHz, velocity_convention='radio').spectral_slab(-50*u.km/u.s, 350*u.km/u.s)\n",
    "            ccube.to(u.K).write(f'/orange/adamginsburg/brick_alma_linesurvey/ch3cn_cutouts/CH3CN_{qn}.pbcor.fits', overwrite=True)\n"
   ]
  },
  {
   "cell_type": "code",
   "execution_count": 12,
   "id": "2e5f5230-b6e1-4003-93ae-42451f74753f",
   "metadata": {},
   "outputs": [
    {
     "data": {
      "text/plain": [
       "DaskVaryingResolutionSpectralCube with shape=(59765, 336, 336) and unit=Jy / beam and chunk size (934, 24, 336):\n",
       " n_x:    336  type_x: RA---SIN  unit_x: deg    range:   266.528944 deg:  266.559715 deg\n",
       " n_y:    336  type_y: DEC--SIN  unit_y: deg    range:   -28.718463 deg:  -28.691477 deg\n",
       " n_s:  59765  type_s: FREQ      unit_s: Hz     range: 125087368295.955 Hz:154269854424.339 Hz"
      ]
     },
     "execution_count": 12,
     "metadata": {},
     "output_type": "execute_result"
    }
   ],
   "source": [
    "ch3cncube"
   ]
  },
  {
   "cell_type": "code",
   "execution_count": 14,
   "id": "bcfe00cc-57b5-4a4f-be7c-48ea3aabc6ec",
   "metadata": {},
   "outputs": [],
   "source": [
    "tempmap = fits.open('/blue/adamginsburg/abulatek/brick/first_results/temperature_map/temperature_map_februrary.fits')\n",
    "colmap = fits.open('/blue/adamginsburg/abulatek/brick/first_results/temperature_map/col_density_map_februrary.fits')\n",
    "ww = wcs.WCS(tempmap[0].header)"
   ]
  },
  {
   "cell_type": "code",
   "execution_count": 15,
   "id": "596def07-94ed-4c7f-99b1-c12fbea1a1e2",
   "metadata": {},
   "outputs": [],
   "source": [
    "import pyspeckit\n",
    "from pyspeckit.spectrum.models.lte_molecule import get_molecular_parameters\n",
    "from pyspeckit.spectrum.models import lte_molecule\n",
    "\n",
    "from spectral_cube import SpectralCube\n",
    "from astropy import units as u\n",
    "from astropy import constants"
   ]
  },
  {
   "cell_type": "code",
   "execution_count": 16,
   "id": "f0e01dbf-4f51-44ad-8898-a9c555b4bbc2",
   "metadata": {},
   "outputs": [
    {
     "ename": "ValueError",
     "evalue": "num must be 1 <= num <= 9, not 10",
     "output_type": "error",
     "traceback": [
      "\u001b[0;31m---------------------------------------------------------------------------\u001b[0m",
      "\u001b[0;31mValueError\u001b[0m                                Traceback (most recent call last)",
      "\u001b[0;32m/scratch/local/34157334/ipykernel_17944/196582207.py\u001b[0m in \u001b[0;36m<module>\u001b[0;34m\u001b[0m\n\u001b[1;32m      1\u001b[0m \u001b[0mpl\u001b[0m\u001b[0;34m.\u001b[0m\u001b[0mfigure\u001b[0m\u001b[0;34m(\u001b[0m\u001b[0mfigsize\u001b[0m\u001b[0;34m=\u001b[0m\u001b[0;34m(\u001b[0m\u001b[0;36m12\u001b[0m\u001b[0;34m,\u001b[0m\u001b[0;36m12\u001b[0m\u001b[0;34m)\u001b[0m\u001b[0;34m)\u001b[0m\u001b[0;34m\u001b[0m\u001b[0;34m\u001b[0m\u001b[0m\n\u001b[1;32m      2\u001b[0m \u001b[0;32mfor\u001b[0m \u001b[0mind\u001b[0m\u001b[0;34m,\u001b[0m \u001b[0mch3cncube\u001b[0m \u001b[0;32min\u001b[0m \u001b[0menumerate\u001b[0m\u001b[0;34m(\u001b[0m\u001b[0mcubes\u001b[0m\u001b[0;34m)\u001b[0m\u001b[0;34m:\u001b[0m\u001b[0;34m\u001b[0m\u001b[0;34m\u001b[0m\u001b[0m\n\u001b[0;32m----> 3\u001b[0;31m     \u001b[0max\u001b[0m \u001b[0;34m=\u001b[0m \u001b[0mpl\u001b[0m\u001b[0;34m.\u001b[0m\u001b[0msubplot\u001b[0m\u001b[0;34m(\u001b[0m\u001b[0;36m3\u001b[0m\u001b[0;34m,\u001b[0m\u001b[0;36m3\u001b[0m\u001b[0;34m,\u001b[0m\u001b[0mind\u001b[0m\u001b[0;34m+\u001b[0m\u001b[0;36m1\u001b[0m\u001b[0;34m)\u001b[0m\u001b[0;34m\u001b[0m\u001b[0;34m\u001b[0m\u001b[0m\n\u001b[0m\u001b[1;32m      4\u001b[0m \u001b[0;34m\u001b[0m\u001b[0m\n\u001b[1;32m      5\u001b[0m     \u001b[0mx\u001b[0m\u001b[0;34m,\u001b[0m\u001b[0my\u001b[0m \u001b[0;34m=\u001b[0m \u001b[0mmap\u001b[0m\u001b[0;34m(\u001b[0m\u001b[0mint\u001b[0m\u001b[0;34m,\u001b[0m \u001b[0mww\u001b[0m\u001b[0;34m.\u001b[0m\u001b[0mcelestial\u001b[0m\u001b[0;34m.\u001b[0m\u001b[0mworld_to_pixel\u001b[0m\u001b[0;34m(\u001b[0m\u001b[0mcrd\u001b[0m\u001b[0;34m)\u001b[0m\u001b[0;34m)\u001b[0m\u001b[0;34m\u001b[0m\u001b[0;34m\u001b[0m\u001b[0m\n",
      "\u001b[0;32m/orange/adamginsburg/miniconda3/envs/python39/lib/python3.9/site-packages/matplotlib/pyplot.py\u001b[0m in \u001b[0;36msubplot\u001b[0;34m(*args, **kwargs)\u001b[0m\n\u001b[1;32m   1266\u001b[0m \u001b[0;34m\u001b[0m\u001b[0m\n\u001b[1;32m   1267\u001b[0m     \u001b[0;31m# First, search for an existing subplot with a matching spec.\u001b[0m\u001b[0;34m\u001b[0m\u001b[0;34m\u001b[0m\u001b[0m\n\u001b[0;32m-> 1268\u001b[0;31m     \u001b[0mkey\u001b[0m \u001b[0;34m=\u001b[0m \u001b[0mSubplotSpec\u001b[0m\u001b[0;34m.\u001b[0m\u001b[0m_from_subplot_args\u001b[0m\u001b[0;34m(\u001b[0m\u001b[0mfig\u001b[0m\u001b[0;34m,\u001b[0m \u001b[0margs\u001b[0m\u001b[0;34m)\u001b[0m\u001b[0;34m\u001b[0m\u001b[0;34m\u001b[0m\u001b[0m\n\u001b[0m\u001b[1;32m   1269\u001b[0m \u001b[0;34m\u001b[0m\u001b[0m\n\u001b[1;32m   1270\u001b[0m     \u001b[0;32mfor\u001b[0m \u001b[0max\u001b[0m \u001b[0;32min\u001b[0m \u001b[0mfig\u001b[0m\u001b[0;34m.\u001b[0m\u001b[0maxes\u001b[0m\u001b[0;34m:\u001b[0m\u001b[0;34m\u001b[0m\u001b[0;34m\u001b[0m\u001b[0m\n",
      "\u001b[0;32m/orange/adamginsburg/miniconda3/envs/python39/lib/python3.9/site-packages/matplotlib/gridspec.py\u001b[0m in \u001b[0;36m_from_subplot_args\u001b[0;34m(figure, args)\u001b[0m\n\u001b[1;32m    606\u001b[0m         \u001b[0;32melse\u001b[0m\u001b[0;34m:\u001b[0m\u001b[0;34m\u001b[0m\u001b[0;34m\u001b[0m\u001b[0m\n\u001b[1;32m    607\u001b[0m             \u001b[0;32mif\u001b[0m \u001b[0;32mnot\u001b[0m \u001b[0misinstance\u001b[0m\u001b[0;34m(\u001b[0m\u001b[0mnum\u001b[0m\u001b[0;34m,\u001b[0m \u001b[0mIntegral\u001b[0m\u001b[0;34m)\u001b[0m \u001b[0;32mor\u001b[0m \u001b[0mnum\u001b[0m \u001b[0;34m<\u001b[0m \u001b[0;36m1\u001b[0m \u001b[0;32mor\u001b[0m \u001b[0mnum\u001b[0m \u001b[0;34m>\u001b[0m \u001b[0mrows\u001b[0m\u001b[0;34m*\u001b[0m\u001b[0mcols\u001b[0m\u001b[0;34m:\u001b[0m\u001b[0;34m\u001b[0m\u001b[0;34m\u001b[0m\u001b[0m\n\u001b[0;32m--> 608\u001b[0;31m                 raise ValueError(\n\u001b[0m\u001b[1;32m    609\u001b[0m                     f\"num must be 1 <= num <= {rows*cols}, not {num!r}\")\n\u001b[1;32m    610\u001b[0m             \u001b[0mi\u001b[0m \u001b[0;34m=\u001b[0m \u001b[0mj\u001b[0m \u001b[0;34m=\u001b[0m \u001b[0mnum\u001b[0m\u001b[0;34m\u001b[0m\u001b[0;34m\u001b[0m\u001b[0m\n",
      "\u001b[0;31mValueError\u001b[0m: num must be 1 <= num <= 9, not 10"
     ]
    },
    {
     "data": {
      "image/png": "[encoded data removed]",
      "text/plain": [
       "<Figure size 864x864 with 9 Axes>"
      ]
     },
     "metadata": {},
     "output_type": "display_data"
    }
   ],
   "source": [
    "pl.figure(figsize=(12,12))\n",
    "for ind, ch3cncube in enumerate(cubes):\n",
    "    ax = pl.subplot(3,3,ind+1)\n",
    "    \n",
    "    x,y = map(int, ww.celestial.world_to_pixel(crd))\n",
    "    T = temp = tempmap[0].data[y,x]\n",
    "    N = N_tot = colmap[0].data[y,x]\n",
    "        \n",
    "    x,y = map(int, ch3cncube.wcs.celestial.world_to_pixel(crd))\n",
    "\n",
    "    freqs, aij, deg, EU, partfunc = get_molecular_parameters('CH3CN',\n",
    "                                                             fmin=ch3cncube.spectral_axis.min(),\n",
    "                                                             fmax=ch3cncube.spectral_axis.max())\n",
    "    \n",
    "    \n",
    "    # TODO: determine this from data\n",
    "    v_cen = 10*u.km/u.s\n",
    "    v_disp = 1.5*u.km/u.s\n",
    "\n",
    "    mod = lte_molecule.generate_model(ch3cncube.spectral_axis, v_cen, v_disp, temp, N_tot,\n",
    "                              freqs, aij, deg, EU, partfunc)\n",
    "\n",
    "    data_sp = ch3cncube[:, y, x]\n",
    "    data_sp_K = data_sp.value * ch3cncube.jtok_factors()\n",
    "    ax.plot(ch3cncube.spectral_axis.to(u.GHz), data_sp_K)\n",
    "    ax.plot(ch3cncube.spectral_axis.to(u.GHz),\n",
    "            mod, linestyle='-', color='k', linewidth=0.5)\n"
   ]
  },
  {
   "cell_type": "code",
   "execution_count": null,
   "id": "ffbb4467-86c9-4990-bb27-88b882d9cc22",
   "metadata": {},
   "outputs": [],
   "source": [
    "N,T"
   ]
  },
  {
   "cell_type": "code",
   "execution_count": null,
   "id": "f0841e93-ed36-4b5e-9f6d-4ca2e145e397",
   "metadata": {},
   "outputs": [],
   "source": [
    "ch3cncube.jtok_factors()"
   ]
  },
  {
   "cell_type": "code",
   "execution_count": null,
   "id": "05fbe7ea-9931-4dee-afa5-1e1def9b5a05",
   "metadata": {},
   "outputs": [],
   "source": [
    "cubefns"
   ]
  },
  {
   "cell_type": "code",
   "execution_count": null,
   "id": "cbba994b-cd35-4462-836c-e0ab2ea5a1dc",
   "metadata": {},
   "outputs": [],
   "source": []
  },
  {
   "cell_type": "code",
   "execution_count": null,
   "id": "18d5be72-1143-4da1-8c41-9142d993f589",
   "metadata": {},
   "outputs": [],
   "source": []
  },
  {
   "cell_type": "code",
   "execution_count": null,
   "id": "13d4c088-09ec-41b4-b2c6-8a33d0d2b4fb",
   "metadata": {},
   "outputs": [],
   "source": []
  },
  {
   "cell_type": "code",
   "execution_count": null,
   "id": "33142b5d-bd4f-4863-9203-167a30e5b8a8",
   "metadata": {},
   "outputs": [],
   "source": []
  },
  {
   "cell_type": "code",
   "execution_count": null,
   "id": "38277e62-e9f7-425f-84ab-344d42c36d8b",
   "metadata": {},
   "outputs": [],
   "source": []
  },
  {
   "cell_type": "code",
   "execution_count": null,
   "id": "32a924fa-ead1-4199-a767-70b3cb88bfbd",
   "metadata": {},
   "outputs": [],
   "source": []
  },
  {
   "cell_type": "code",
   "execution_count": null,
   "id": "0b6df347-b645-4fc7-93da-51adc179d828",
   "metadata": {},
   "outputs": [],
   "source": []
  },
  {
   "cell_type": "code",
   "execution_count": null,
   "id": "f743c7a3-6b49-4a4b-8e11-2ecfe986acc5",
   "metadata": {},
   "outputs": [],
   "source": []
  },
  {
   "cell_type": "code",
   "execution_count": null,
   "id": "4d763782-d776-4ad0-a1c0-29e1418a1641",
   "metadata": {},
   "outputs": [],
   "source": []
  },
  {
   "cell_type": "code",
   "execution_count": null,
   "id": "0fa66a83-a51e-47f3-9380-96db94975200",
   "metadata": {},
   "outputs": [],
   "source": []
  },
  {
   "cell_type": "code",
   "execution_count": null,
   "id": "40c7de48-c115-4656-bf2a-7ab61a92ca32",
   "metadata": {},
   "outputs": [],
   "source": []
  },
  {
   "cell_type": "code",
   "execution_count": null,
   "id": "6a40f5b3-ef5b-4cea-886f-1efad1e4de5c",
   "metadata": {},
   "outputs": [],
   "source": []
  },
  {
   "cell_type": "code",
   "execution_count": null,
   "id": "eb60bc5d-2f57-436a-8d1e-a165f30d21e2",
   "metadata": {},
   "outputs": [],
   "source": []
  },
  {
   "cell_type": "code",
   "execution_count": null,
   "id": "1fc62597-ac6d-4f24-a5e9-1741c507a729",
   "metadata": {},
   "outputs": [],
   "source": []
  },
  {
   "cell_type": "code",
   "execution_count": null,
   "id": "608fcdaa-44a8-4b28-99af-e4a205b8ec9a",
   "metadata": {},
   "outputs": [],
   "source": []
  },
  {
   "cell_type": "code",
   "execution_count": null,
   "id": "4f015d62-53aa-4ce8-93fc-02708e5af7ef",
   "metadata": {},
   "outputs": [],
   "source": []
  },
  {
   "cell_type": "code",
   "execution_count": null,
   "id": "c857598b-6b3d-4489-ab9f-7a6b73827c35",
   "metadata": {},
   "outputs": [],
   "source": []
  },
  {
   "cell_type": "code",
   "execution_count": null,
   "id": "c34c5164-c9a2-43d6-b519-3c192d565ac2",
   "metadata": {},
   "outputs": [],
   "source": []
  },
  {
   "cell_type": "code",
   "execution_count": null,
   "id": "558a0cd9-d883-4d8d-b371-9b440ab8cfbf",
   "metadata": {},
   "outputs": [],
   "source": []
  },
  {
   "cell_type": "code",
   "execution_count": null,
   "id": "fd54fce6-b3e8-4f97-b13e-f8507b53bd2d",
   "metadata": {},
   "outputs": [],
   "source": []
  },
  {
   "cell_type": "code",
   "execution_count": null,
   "id": "9b633bfb-b6ae-4fd9-a071-101ecbb12610",
   "metadata": {},
   "outputs": [],
   "source": []
  },
  {
   "cell_type": "code",
   "execution_count": null,
   "id": "d625b605-76fa-46c1-b5ee-a0687143bbf3",
   "metadata": {},
   "outputs": [],
   "source": []
  },
  {
   "cell_type": "code",
   "execution_count": null,
   "id": "cb63f01d-116a-40fb-b4c4-7c4167a012e7",
   "metadata": {},
   "outputs": [],
   "source": []
  },
  {
   "cell_type": "code",
   "execution_count": null,
   "id": "cd25d272-fc6f-4a91-8f3a-fef614d240ee",
   "metadata": {},
   "outputs": [],
   "source": []
  },
  {
   "cell_type": "code",
   "execution_count": null,
   "id": "1981a103-3731-4aad-be55-427ff86e5313",
   "metadata": {},
   "outputs": [],
   "source": []
  },
  {
   "cell_type": "code",
   "execution_count": null,
   "id": "b655ce88-fedb-44e8-b7bc-67d468bb7c3a",
   "metadata": {},
   "outputs": [],
   "source": []
  },
  {
   "cell_type": "code",
   "execution_count": null,
   "id": "5cce2acc-8539-40c0-ba74-5e9a92390b69",
   "metadata": {},
   "outputs": [],
   "source": []
  },
  {
   "cell_type": "code",
   "execution_count": null,
   "id": "ed9a7e41-ddf1-456c-8237-9f765468787b",
   "metadata": {},
   "outputs": [],
   "source": []
  },
  {
   "cell_type": "code",
   "execution_count": null,
   "id": "06adccbe-1a00-4c6c-9201-45f29d9c720c",
   "metadata": {},
   "outputs": [],
   "source": []
  },
  {
   "cell_type": "code",
   "execution_count": null,
   "id": "0905e355-95aa-4623-ad36-a72bea320775",
   "metadata": {},
   "outputs": [],
   "source": []
  },
  {
   "cell_type": "code",
   "execution_count": null,
   "id": "e585fb32-1e09-4cb3-8620-0e4f05ebc638",
   "metadata": {},
   "outputs": [],
   "source": []
  },
  {
   "cell_type": "code",
   "execution_count": null,
   "id": "ea380125-76d5-4e8c-9831-b320f1ac116b",
   "metadata": {},
   "outputs": [],
   "source": []
  },
  {
   "cell_type": "code",
   "execution_count": null,
   "id": "786ff2d7-fe3d-4b4e-9bb1-5e46679d9b5e",
   "metadata": {},
   "outputs": [],
   "source": []
  },
  {
   "cell_type": "code",
   "execution_count": null,
   "id": "8e8088bc-7069-435c-999d-abd072d075c4",
   "metadata": {},
   "outputs": [],
   "source": []
  },
  {
   "cell_type": "code",
   "execution_count": null,
   "id": "4745e06d-3af5-4204-ac7e-641f6987a0cc",
   "metadata": {},
   "outputs": [],
   "source": []
  },
  {
   "cell_type": "code",
   "execution_count": null,
   "id": "fc4036df-2b23-4faf-8904-76fa87a32ee0",
   "metadata": {},
   "outputs": [],
   "source": []
  },
  {
   "cell_type": "code",
   "execution_count": null,
   "id": "60397e82-768f-4291-9ca6-222bb3ca9c3e",
   "metadata": {},
   "outputs": [],
   "source": []
  },
  {
   "cell_type": "code",
   "execution_count": null,
   "id": "01554ecd-82a5-4b48-a753-f54ca36a6eec",
   "metadata": {},
   "outputs": [],
   "source": []
  },
  {
   "cell_type": "code",
   "execution_count": null,
   "id": "fd67213f-7c21-4e29-b9c1-63774f76aa77",
   "metadata": {},
   "outputs": [],
   "source": []
  },
  {
   "cell_type": "code",
   "execution_count": null,
   "id": "0184fde4-7f67-4c23-961a-a9524bce9c9c",
   "metadata": {},
   "outputs": [],
   "source": []
  },
  {
   "cell_type": "code",
   "execution_count": null,
   "id": "b3729544-e536-48cb-95a9-38c7aa476f5d",
   "metadata": {},
   "outputs": [],
   "source": []
  },
  {
   "cell_type": "code",
   "execution_count": null,
   "id": "9da01bf5-e2c7-4829-86df-2980c15b2197",
   "metadata": {},
   "outputs": [],
   "source": []
  },
  {
   "cell_type": "code",
   "execution_count": null,
   "id": "d30c59a3-2270-4c73-a640-0f47a0e35e1c",
   "metadata": {},
   "outputs": [],
   "source": []
  },
  {
   "cell_type": "code",
   "execution_count": null,
   "id": "67a647cb-c40c-4ecf-998d-f7aef438cf1b",
   "metadata": {},
   "outputs": [],
   "source": []
  },
  {
   "cell_type": "code",
   "execution_count": null,
   "id": "12abeff9-ebec-410b-8eef-6911f3edc5b6",
   "metadata": {},
   "outputs": [],
   "source": []
  },
  {
   "cell_type": "code",
   "execution_count": null,
   "id": "f3a223c2-b103-4dda-a25d-7af81ba77fce",
   "metadata": {},
   "outputs": [],
   "source": []
  },
  {
   "cell_type": "code",
   "execution_count": null,
   "id": "dbc57f6c-6d02-424c-85dc-dd86a1abd372",
   "metadata": {},
   "outputs": [],
   "source": []
  },
  {
   "cell_type": "code",
   "execution_count": null,
   "id": "e3a86c09-d18f-4435-a4e2-cc9a29a741ec",
   "metadata": {},
   "outputs": [],
   "source": []
  },
  {
   "cell_type": "code",
   "execution_count": null,
   "id": "be705fec-8271-4a6c-b305-48f60a104b1a",
   "metadata": {},
   "outputs": [],
   "source": []
  },
  {
   "cell_type": "code",
   "execution_count": null,
   "id": "3987e232-d469-4c45-9c29-c446c5e2976d",
   "metadata": {},
   "outputs": [],
   "source": []
  },
  {
   "cell_type": "code",
   "execution_count": null,
   "id": "af5abca3-f836-44e4-a42b-41e5805baade",
   "metadata": {},
   "outputs": [],
   "source": []
  },
  {
   "cell_type": "code",
   "execution_count": null,
   "id": "2e3b3ccd-9db2-4bca-8409-b65fe6383ee8",
   "metadata": {},
   "outputs": [],
   "source": []
  },
  {
   "cell_type": "code",
   "execution_count": null,
   "id": "df0c5d88-e328-4a37-88c5-746cc10c4fe0",
   "metadata": {},
   "outputs": [],
   "source": []
  },
  {
   "cell_type": "code",
   "execution_count": null,
   "id": "1ea45d7b-e72f-4e91-8066-4e2b073e176e",
   "metadata": {},
   "outputs": [],
   "source": []
  },
  {
   "cell_type": "code",
   "execution_count": null,
   "id": "b5d31f49-6ccf-4064-ab4a-e20251d73b02",
   "metadata": {},
   "outputs": [],
   "source": []
  },
  {
   "cell_type": "code",
   "execution_count": null,
   "id": "8b2d7fea-d8b7-4157-8591-612b09c8c3d5",
   "metadata": {},
   "outputs": [],
   "source": []
  },
  {
   "cell_type": "code",
   "execution_count": null,
   "id": "ec01100d-40df-4667-a48f-6f24ed0f1072",
   "metadata": {},
   "outputs": [],
   "source": []
  },
  {
   "cell_type": "code",
   "execution_count": null,
   "id": "f3aae53f-febb-42d3-b525-cd7e97801035",
   "metadata": {},
   "outputs": [],
   "source": []
  },
  {
   "cell_type": "code",
   "execution_count": null,
   "id": "5baad7fd-3c84-4da8-8d3b-96e1268182e9",
   "metadata": {},
   "outputs": [],
   "source": []
  },
  {
   "cell_type": "code",
   "execution_count": null,
   "id": "5b396c24-b12a-46d3-a3a4-f475567b7658",
   "metadata": {},
   "outputs": [],
   "source": []
  },
  {
   "cell_type": "code",
   "execution_count": null,
   "id": "94c1082f-45c0-4027-8213-34e63e3e31c7",
   "metadata": {},
   "outputs": [],
   "source": []
  },
  {
   "cell_type": "code",
   "execution_count": null,
   "id": "0e037a18-cd1d-454f-8e8d-39f0a76b46f0",
   "metadata": {},
   "outputs": [],
   "source": []
  },
  {
   "cell_type": "code",
   "execution_count": null,
   "id": "bcbc88a2-ee2c-4d4b-9bc3-2886d1b61ca1",
   "metadata": {},
   "outputs": [],
   "source": []
  },
  {
   "cell_type": "code",
   "execution_count": null,
   "id": "ed4b05b2-d68b-4064-aeee-5474490b8b5f",
   "metadata": {},
   "outputs": [],
   "source": []
  },
  {
   "cell_type": "code",
   "execution_count": null,
   "id": "fd745676-8397-4a8a-ad07-ba5a00e2f37a",
   "metadata": {},
   "outputs": [],
   "source": []
  },
  {
   "cell_type": "code",
   "execution_count": null,
   "id": "0abe83e5-e7f1-4489-9c45-2dc31d3842ae",
   "metadata": {},
   "outputs": [],
   "source": []
  },
  {
   "cell_type": "code",
   "execution_count": null,
   "id": "f5a59c0c-efa0-41ba-9608-6f566773d4e8",
   "metadata": {},
   "outputs": [],
   "source": []
  },
  {
   "cell_type": "code",
   "execution_count": null,
   "id": "5bdb2c90-4de3-42e0-95c6-f4494bffb7d6",
   "metadata": {},
   "outputs": [],
   "source": []
  },
  {
   "cell_type": "code",
   "execution_count": null,
   "id": "1db692fe-240f-43d6-98d4-2389440c2acf",
   "metadata": {},
   "outputs": [],
   "source": []
  },
  {
   "cell_type": "code",
   "execution_count": null,
   "id": "f5cd9180-e307-4427-8ca0-6ae0330f40b9",
   "metadata": {},
   "outputs": [],
   "source": []
  },
  {
   "cell_type": "code",
   "execution_count": null,
   "id": "9b5a9984-86ab-49cc-b8c5-0955459c091b",
   "metadata": {},
   "outputs": [],
   "source": []
  },
  {
   "cell_type": "code",
   "execution_count": null,
   "id": "2e459bd1-2825-48c1-ad15-d16c797afe33",
   "metadata": {},
   "outputs": [],
   "source": []
  },
  {
   "cell_type": "code",
   "execution_count": null,
   "id": "c06d19d6-bf97-4960-836d-7241f5ed624d",
   "metadata": {},
   "outputs": [],
   "source": []
  },
  {
   "cell_type": "code",
   "execution_count": null,
   "id": "7aaba143-a5bf-4f0b-a6d9-4ae86c50c853",
   "metadata": {},
   "outputs": [],
   "source": []
  },
  {
   "cell_type": "code",
   "execution_count": null,
   "id": "f7e42006-7aae-4c23-af00-abbac3c6162c",
   "metadata": {},
   "outputs": [],
   "source": []
  },
  {
   "cell_type": "code",
   "execution_count": null,
   "id": "979d8950-a9e0-48f5-a105-36ce3680056c",
   "metadata": {},
   "outputs": [],
   "source": []
  },
  {
   "cell_type": "code",
   "execution_count": null,
   "id": "8b497c89-11bf-41e4-9322-71b30a1b02ab",
   "metadata": {},
   "outputs": [],
   "source": []
  },
  {
   "cell_type": "code",
   "execution_count": null,
   "id": "2b846053-0f4a-4e6a-9700-ccc1b51e0360",
   "metadata": {},
   "outputs": [],
   "source": []
  },
  {
   "cell_type": "code",
   "execution_count": null,
   "id": "a3467152-2e37-4141-84c3-04c3a70e363c",
   "metadata": {},
   "outputs": [],
   "source": []
  },
  {
   "cell_type": "code",
   "execution_count": null,
   "id": "afcb185f-4bd7-4b58-914f-23ed2761fda0",
   "metadata": {},
   "outputs": [],
   "source": []
  },
  {
   "cell_type": "code",
   "execution_count": null,
   "id": "d20ed6e9-72bb-49fc-b333-ae81bec135bf",
   "metadata": {},
   "outputs": [],
   "source": []
  },
  {
   "cell_type": "code",
   "execution_count": null,
   "id": "9fe16093-6618-46cb-b046-5daa4447ce4c",
   "metadata": {},
   "outputs": [],
   "source": []
  },
  {
   "cell_type": "code",
   "execution_count": null,
   "id": "2fbb5b01-aad1-4e55-9e2d-bb989e049112",
   "metadata": {},
   "outputs": [],
   "source": []
  },
  {
   "cell_type": "code",
   "execution_count": null,
   "id": "17eb785b-eb05-400c-bacf-0e564fb15648",
   "metadata": {},
   "outputs": [],
   "source": []
  },
  {
   "cell_type": "code",
   "execution_count": null,
   "id": "ba6b67be-5a36-4ef7-b9b1-5f31d810ff76",
   "metadata": {},
   "outputs": [],
   "source": []
  },
  {
   "cell_type": "code",
   "execution_count": null,
   "id": "6b75e970-6a52-41dd-9728-24e9a1749321",
   "metadata": {},
   "outputs": [],
   "source": []
  },
  {
   "cell_type": "code",
   "execution_count": null,
   "id": "8621aa8b-8293-4eb1-8b9c-56cb7114e1a7",
   "metadata": {},
   "outputs": [],
   "source": []
  },
  {
   "cell_type": "code",
   "execution_count": null,
   "id": "c3b352d1-d1d8-4daa-a93e-f90dddf3bf37",
   "metadata": {},
   "outputs": [],
   "source": []
  },
  {
   "cell_type": "code",
   "execution_count": null,
   "id": "70d54db9-4db2-423f-a40c-63fa27403eb8",
   "metadata": {},
   "outputs": [],
   "source": []
  },
  {
   "cell_type": "code",
   "execution_count": null,
   "id": "98687e36-6ba5-4996-a403-314dd42be153",
   "metadata": {},
   "outputs": [],
   "source": []
  },
  {
   "cell_type": "code",
   "execution_count": null,
   "id": "17d7a5f0-6ce7-4e1e-839f-776f6a14e663",
   "metadata": {},
   "outputs": [],
   "source": []
  },
  {
   "cell_type": "code",
   "execution_count": null,
   "id": "a66fd96b-ddf4-49d5-9af4-3c2fd9351b48",
   "metadata": {},
   "outputs": [],
   "source": []
  }
 ],
 "metadata": {
  "kernelspec": {
   "display_name": "Py 3.9",
   "language": "python",
   "name": "python39"
  },
  "language_info": {
   "codemirror_mode": {
    "name": "ipython",
    "version": 3
   },
   "file_extension": ".py",
   "mimetype": "text/x-python",
   "name": "python",
   "nbconvert_exporter": "python",
   "pygments_lexer": "ipython3",
   "version": "3.9.7"
  }
 },
 "nbformat": 4,
 "nbformat_minor": 5
}
