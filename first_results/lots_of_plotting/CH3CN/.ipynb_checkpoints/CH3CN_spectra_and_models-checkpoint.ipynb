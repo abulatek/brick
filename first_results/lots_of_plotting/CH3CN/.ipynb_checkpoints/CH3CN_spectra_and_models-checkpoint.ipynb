{
 "cells": [
  {
   "cell_type": "markdown",
   "metadata": {},
   "source": [
    "### 1. Get cutouts of CH3CN ladders from our data"
   ]
  },
  {
   "cell_type": "code",
   "execution_count": 1,
   "metadata": {},
   "outputs": [],
   "source": [
    "# For parallelization, which helps to make convolution faster\n",
    "import dask\n",
    "dask.config.set(scheduler = 'threads', num_workers = 8)\n",
    "from dask.diagnostics import ProgressBar\n",
    "ProgressBar().register()\n",
    "import warnings\n",
    "warnings.filterwarnings('ignore')"
   ]
  },
  {
   "cell_type": "code",
   "execution_count": 2,
   "metadata": {},
   "outputs": [],
   "source": [
    "from astropy import units as u\n",
    "\n",
    "results = '/blue/adamginsburg/abulatek/brick/symlinks/imaging_results/'\n",
    "\n",
    "# J = 5 - 4\n",
    "freq_spw_05_04 = '93_spw27'\n",
    "# fmin_05_04 = 91.958*u.GHz\n",
    "# fmax_05_04 = 91.988*u.GHz\n",
    "\n",
    "# NEW as of July 27:\n",
    "# J = 6 - 5\n",
    "freq_spw_06_05 = '110_spw29'\n",
    "# fmin_06_05 = 110.330*u.GHz\n",
    "# fmax_06_05 = 110.384*u.GHz\n",
    "\n",
    "# NEW as of July 27:\n",
    "# J = 7 - 6\n",
    "freq_spw_07_06 = '130_spw105'\n",
    "# fmin_07_06 = 128.690*u.GHz\n",
    "# fmax_07_06 = 128.780*u.GHz\n",
    "\n",
    "# J = 8 - 7\n",
    "freq_spw_08_07 = '146_spw51'\n",
    "# fmin_08_07 = 147.035*u.GHz\n",
    "# fmax_08_07 = 147.175*u.GHz\n",
    "\n",
    "# J = 14 - 13\n",
    "freq_spw_14_13 = '259_spw47' # Used to be '257_spw45' but that covers the k = 9 and higher component\n",
    "# fmin_14_13 = 255.309*u.GHz # Possibly wrong\n",
    "# fmax_14_13 = 257.182*u.GHz # Possibly wrong"
   ]
  },
  {
   "cell_type": "code",
   "execution_count": 3,
   "metadata": {},
   "outputs": [],
   "source": [
    "freq_spws = [freq_spw_05_04, freq_spw_06_05, freq_spw_07_06, freq_spw_08_07, freq_spw_14_13]"
   ]
  },
  {
   "cell_type": "code",
   "execution_count": 4,
   "metadata": {},
   "outputs": [
    {
     "data": {
      "text/plain": [
       "(DaskVaryingResolutionSpectralCube with shape=(1920, 512, 512) and unit=K and chunk size (80, 256, 512):\n",
       "  n_x:    512  type_x: RA---SIN  unit_x: deg    range:   266.528130 deg:  266.560501 deg\n",
       "  n_y:    512  type_y: DEC--SIN  unit_y: deg    range:   -28.719152 deg:  -28.690763 deg\n",
       "  n_s:   1920  type_s: FREQ      unit_s: Hz     range: 91425792724.639 Hz:93299566513.404 Hz,\n",
       " DaskVaryingResolutionSpectralCube with shape=(1920, 512, 512) and unit=K and chunk size (80, 256, 512):\n",
       "  n_x:    512  type_x: RA---SIN  unit_x: deg    range:   266.528130 deg:  266.560501 deg\n",
       "  n_y:    512  type_y: DEC--SIN  unit_y: deg    range:   -28.719152 deg:  -28.690763 deg\n",
       "  n_s:   1920  type_s: FREQ      unit_s: Hz     range: 109548373997.542 Hz:111422149820.383 Hz,\n",
       " DaskVaryingResolutionSpectralCube with shape=(3840, 512, 512) and unit=K and chunk size (128, 256, 512):\n",
       "  n_x:    512  type_x: RA---SIN  unit_x: deg    range:   266.528130 deg:  266.560501 deg\n",
       "  n_y:    512  type_y: DEC--SIN  unit_y: deg    range:   -28.719152 deg:  -28.690763 deg\n",
       "  n_s:   3840  type_s: FREQ      unit_s: Hz     range: 128472722026.468 Hz:130347288139.448 Hz,\n",
       " DaskVaryingResolutionSpectralCube with shape=(3840, 512, 512) and unit=K and chunk size (128, 256, 512):\n",
       "  n_x:    512  type_x: RA---SIN  unit_x: deg    range:   266.528130 deg:  266.560501 deg\n",
       "  n_y:    512  type_y: DEC--SIN  unit_y: deg    range:   -28.719152 deg:  -28.690763 deg\n",
       "  n_s:   3840  type_s: FREQ      unit_s: Hz     range: 145582599820.702 Hz:147457166014.871 Hz,\n",
       " DaskVaryingResolutionSpectralCube with shape=(3840, 512, 512) and unit=K and chunk size (128, 256, 512):\n",
       "  n_x:    512  type_x: RA---SIN  unit_x: deg    range:   266.528130 deg:  266.560501 deg\n",
       "  n_y:    512  type_y: DEC--SIN  unit_y: deg    range:   -28.719152 deg:  -28.690763 deg\n",
       "  n_s:   3840  type_s: FREQ      unit_s: Hz     range: 257011118466.582 Hz:258885600094.967 Hz)"
      ]
     },
     "execution_count": 4,
     "metadata": {},
     "output_type": "execute_result"
    }
   ],
   "source": [
    "from spectral_cube import SpectralCube\n",
    "\n",
    "cube_05_04 = SpectralCube.read(results+'source_ab_'+freq_spw_05_04+'_clean_2sigma_n50000_masked_3sigma_pbmask0p18.image', use_dask = True).to(u.K)\n",
    "cube_06_05 = SpectralCube.read(results+'source_ab_'+freq_spw_06_05+'_clean_2sigma_n50000_masked_3sigma_pbmask0p18.image', use_dask = True).to(u.K)\n",
    "cube_07_06 = SpectralCube.read(results+'source_ab_'+freq_spw_07_06+'_clean_2sigma_n50000_masked_3sigma_pbmask0p18.image', use_dask = True).to(u.K)\n",
    "cube_08_07 = SpectralCube.read(results+'source_ab_'+freq_spw_08_07+'_clean_2sigma_n50000_masked_3sigma_pbmask0p18.image', use_dask = True).to(u.K)\n",
    "cube_14_13 = SpectralCube.read(results+'source_ab_'+freq_spw_14_13+'_clean_2sigma_n50000_masked_3sigma_pbmask0p18.image', use_dask = True).to(u.K)\n",
    "cube_05_04, cube_06_05, cube_07_06, cube_08_07, cube_14_13"
   ]
  },
  {
   "cell_type": "code",
   "execution_count": 5,
   "metadata": {},
   "outputs": [],
   "source": [
    "ch3cn_cubes = [cube_05_04, cube_06_05, cube_07_06, cube_08_07, cube_14_13]"
   ]
  },
  {
   "cell_type": "code",
   "execution_count": 6,
   "metadata": {},
   "outputs": [
    {
     "data": {
      "text/plain": [
       "[DaskVaryingResolutionSpectralCube with shape=(132, 512, 512) and unit=K and chunk size (67, 256, 512):\n",
       "  n_x:    512  type_x: RA---SIN  unit_x: deg    range:   266.528130 deg:  266.560501 deg\n",
       "  n_y:    512  type_y: DEC--SIN  unit_y: deg    range:   -28.719152 deg:  -28.690763 deg\n",
       "  n_s:    132  type_s: FREQ      unit_s: Hz     range: 91909126766.035 Hz:92037039411.334 Hz,\n",
       " DaskVaryingResolutionSpectralCube with shape=(157, 512, 512) and unit=K and chunk size (80, 256, 512):\n",
       "  n_x:    512  type_x: RA---SIN  unit_x: deg    range:   266.528130 deg:  266.560501 deg\n",
       "  n_y:    512  type_y: DEC--SIN  unit_y: deg    range:   -28.719152 deg:  -28.690763 deg\n",
       "  n_s:    157  type_s: FREQ      unit_s: Hz     range: 110280699097.662 Hz:110433022718.487 Hz,\n",
       " DaskVaryingResolutionSpectralCube with shape=(388, 512, 512) and unit=K and chunk size (128, 256, 512):\n",
       "  n_x:    512  type_x: RA---SIN  unit_x: deg    range:   266.528130 deg:  266.560501 deg\n",
       "  n_y:    512  type_y: DEC--SIN  unit_y: deg    range:   -28.719152 deg:  -28.690763 deg\n",
       "  n_s:    388  type_s: FREQ      unit_s: Hz     range: 128640207355.135 Hz:128829177682.231 Hz,\n",
       " DaskVaryingResolutionSpectralCube with shape=(490, 512, 512) and unit=K and chunk size (128, 256, 512):\n",
       "  n_x:    512  type_x: RA---SIN  unit_x: deg    range:   266.528130 deg:  266.560501 deg\n",
       "  n_y:    512  type_y: DEC--SIN  unit_y: deg    range:   -28.719152 deg:  -28.690763 deg\n",
       "  n_s:    490  type_s: FREQ      unit_s: Hz     range: 146985960915.269 Hz:147224737385.430 Hz,\n",
       " DaskVaryingResolutionSpectralCube with shape=(1161, 512, 512) and unit=K and chunk size (128, 256, 512):\n",
       "  n_x:    512  type_x: RA---SIN  unit_x: deg    range:   266.528130 deg:  266.560501 deg\n",
       "  n_y:    512  type_y: DEC--SIN  unit_y: deg    range:   -28.719152 deg:  -28.690763 deg\n",
       "  n_s:   1161  type_s: FREQ      unit_s: Hz     range: 257011118466.582 Hz:257577515624.416 Hz]"
      ]
     },
     "execution_count": 6,
     "metadata": {},
     "output_type": "execute_result"
    }
   ],
   "source": [
    "import numpy as np\n",
    "\n",
    "# Get cutout of methyl cyanide ladder\n",
    "ch3cn_subcubes = []\n",
    "for cube in ch3cn_cubes:\n",
    "    ch3cn_tbl = cube.find_lines(chemical_name = 'CH3CN', line_lists = ['JPL'], \n",
    "                               show_upper_degeneracy = True, show_qn_code = True)\n",
    "    # print(ch3cn_tbl)\n",
    "    ch3cn_tbl = ch3cn_tbl[ch3cn_tbl['Quantum Number Code'] == 202]\n",
    "    min_freq = (np.min(ch3cn_tbl['Freq-GHz(rest frame,redshifted)']) - 0.05)*u.GHz\n",
    "    max_freq = (np.max(ch3cn_tbl['Freq-GHz(rest frame,redshifted)']) + 0.05)*u.GHz\n",
    "    # print(min_freq, max_freq)\n",
    "    subcube = cube.spectral_slab(min_freq, max_freq)\n",
    "    ch3cn_subcubes.append(subcube)\n",
    "ch3cn_subcubes"
   ]
  },
  {
   "cell_type": "markdown",
   "metadata": {},
   "source": [
    "### 2. Convert all cubes to a common beam"
   ]
  },
  {
   "cell_type": "code",
   "execution_count": 7,
   "metadata": {},
   "outputs": [
    {
     "data": {
      "text/latex": [
       "Beam: BMAJ=$1.676849544250954^{''}$ BMIN=$1.3566126261786635^{''}$ BPA=$98.82476043701169^\\circ$"
      ],
      "text/plain": [
       "Beam: BMAJ=1.676849544250954 arcsec BMIN=1.3566126261786635 arcsec BPA=98.82476043701169 deg"
      ]
     },
     "execution_count": 7,
     "metadata": {},
     "output_type": "execute_result"
    }
   ],
   "source": [
    "smoothed_ch3cn_subcubes = []\n",
    "for cube in ch3cn_subcubes:\n",
    "    # print(cube.beams)\n",
    "    cube_common_beam = cube.beams.common_beam(max_iter = 20, max_epsilon = 0.01)\n",
    "    # print(cube_common_beam)\n",
    "    smoothed_cube = cube.convolve_to(cube_common_beam) # Convert from VaryingResolution to regular\n",
    "    smoothed_ch3cn_subcubes.append(smoothed_cube)\n",
    "\n",
    "import radio_beam\n",
    "\n",
    "beams = []\n",
    "for cube in smoothed_ch3cn_subcubes:\n",
    "    beams.append(cube.beam)\n",
    "\n",
    "common_beam = radio_beam.commonbeam.common_manybeams_mve(radio_beam.Beams(beams = beams)) # Get common beam between all cubes\n",
    "common_beam"
   ]
  },
  {
   "cell_type": "code",
   "execution_count": 8,
   "metadata": {},
   "outputs": [
    {
     "data": {
      "text/plain": [
       "[DaskSpectralCube with shape=(132, 512, 512) and unit=K and chunk size (64, 512, 512):\n",
       "  n_x:    512  type_x: RA---SIN  unit_x: deg    range:   266.528130 deg:  266.560501 deg\n",
       "  n_y:    512  type_y: DEC--SIN  unit_y: deg    range:   -28.719152 deg:  -28.690763 deg\n",
       "  n_s:    132  type_s: FREQ      unit_s: Hz     range: 91909126766.035 Hz:92037039411.334 Hz,\n",
       " DaskSpectralCube with shape=(157, 512, 512) and unit=K and chunk size (40, 512, 512):\n",
       "  n_x:    512  type_x: RA---SIN  unit_x: deg    range:   266.528130 deg:  266.560501 deg\n",
       "  n_y:    512  type_y: DEC--SIN  unit_y: deg    range:   -28.719152 deg:  -28.690763 deg\n",
       "  n_s:    157  type_s: FREQ      unit_s: Hz     range: 110280699097.662 Hz:110433022718.487 Hz,\n",
       " DaskSpectralCube with shape=(388, 512, 512) and unit=K and chunk size (64, 512, 512):\n",
       "  n_x:    512  type_x: RA---SIN  unit_x: deg    range:   266.528130 deg:  266.560501 deg\n",
       "  n_y:    512  type_y: DEC--SIN  unit_y: deg    range:   -28.719152 deg:  -28.690763 deg\n",
       "  n_s:    388  type_s: FREQ      unit_s: Hz     range: 128640207355.135 Hz:128829177682.231 Hz,\n",
       " DaskSpectralCube with shape=(490, 512, 512) and unit=K and chunk size (64, 512, 512):\n",
       "  n_x:    512  type_x: RA---SIN  unit_x: deg    range:   266.528130 deg:  266.560501 deg\n",
       "  n_y:    512  type_y: DEC--SIN  unit_y: deg    range:   -28.719152 deg:  -28.690763 deg\n",
       "  n_s:    490  type_s: FREQ      unit_s: Hz     range: 146985960915.269 Hz:147224737385.430 Hz,\n",
       " DaskSpectralCube with shape=(1161, 512, 512) and unit=K and chunk size (64, 512, 512):\n",
       "  n_x:    512  type_x: RA---SIN  unit_x: deg    range:   266.528130 deg:  266.560501 deg\n",
       "  n_y:    512  type_y: DEC--SIN  unit_y: deg    range:   -28.719152 deg:  -28.690763 deg\n",
       "  n_s:   1161  type_s: FREQ      unit_s: Hz     range: 257011118466.582 Hz:257577515624.416 Hz]"
      ]
     },
     "execution_count": 8,
     "metadata": {},
     "output_type": "execute_result"
    }
   ],
   "source": [
    "resampled_ch3cn_subcubes = []\n",
    "for cube in smoothed_ch3cn_subcubes:\n",
    "    resampled_cube = cube.convolve_to(common_beam) # This cell takes almost no time; the cubes do not get convolved in this step\n",
    "    resampled_ch3cn_subcubes.append(resampled_cube)\n",
    "resampled_ch3cn_subcubes"
   ]
  },
  {
   "cell_type": "markdown",
   "metadata": {},
   "source": [
    "### 3. Plot our data on these ladders\n",
    "\n",
    "The first cell here is TEMPORARY, and should be removed after we reinstate step 2 above."
   ]
  },
  {
   "cell_type": "code",
   "execution_count": 9,
   "metadata": {},
   "outputs": [],
   "source": [
    "# resampled_ch3cn_subcubes = ch3cn_subcubes"
   ]
  },
  {
   "cell_type": "code",
   "execution_count": 10,
   "metadata": {},
   "outputs": [],
   "source": [
    "# # Extract spectrum for brightest pixel in central core region\n",
    "# import regions\n",
    "# reg = regions.Regions.read('/blue/adamginsburg/abulatek/brick/first_results/region_temperatures/centralcoreellipse.reg')\n",
    "\n",
    "# resampled_ch3cn_subcubes_reg = []\n",
    "# for cube in resampled_ch3cn_subcubes:\n",
    "#     resampled_cube_reg = cube.subcube_from_regions(reg)\n",
    "#     resampled_ch3cn_subcubes_reg.append(resampled_cube_reg)\n",
    "# resampled_ch3cn_subcubes_reg"
   ]
  },
  {
   "cell_type": "code",
   "execution_count": 11,
   "metadata": {},
   "outputs": [],
   "source": [
    "# max_spectra = []\n",
    "# for cube in resampled_ch3cn_subcubes_reg:\n",
    "#     # Get the moment 0 map for the cube\n",
    "#     m0 = cube.moment0()\n",
    "    \n",
    "#     brightest_pixel = np.unravel_index(np.nanargmax(m0), m0.shape)\n",
    "#     spec_for_max_pixel = cube[:, brightest_pixel[0], brightest_pixel[1]]\n",
    "#     max_spectra.append(spec_for_max_pixel)\n",
    "#     print(\"Finished with a spectrum!\")"
   ]
  },
  {
   "cell_type": "code",
   "execution_count": 12,
   "metadata": {},
   "outputs": [],
   "source": [
    "# Extract spectrum for a coordinate in central core region\n",
    "from astropy import coordinates\n",
    "crd = coordinates.SkyCoord(\"17:46:10.63 -28:42:17.8\", frame='fk5', unit=(u.h, u.deg))"
   ]
  },
  {
   "cell_type": "code",
   "execution_count": 17,
   "metadata": {},
   "outputs": [
    {
     "name": "stdout",
     "output_type": "stream",
     "text": [
      "[########################################] | 100% Completed | 151.19 s\n",
      "[########################################] | 100% Completed | 151.49 s\n",
      "Finished with a spectrum!\n"
     ]
    }
   ],
   "source": [
    "import os\n",
    "from spectral_cube import OneDSpectrum\n",
    "from astropy.io import fits\n",
    "\n",
    "spectra = []\n",
    "\n",
    "# # Failed attempt to write spectra to disk so I don't have to generate them anymore (July 28, 2022):\n",
    "# for i, cube in enumerate(resampled_ch3cn_subcubes):\n",
    "#     outfile = freq_spws[i]+\"_core_spectrum.fits\"\n",
    "#     if not os.path.exists(outfile):\n",
    "#         x, y = map(int, cube.wcs.celestial.world_to_pixel(crd))\n",
    "#         spectrum = cube[:, y, x].to(u.K)\n",
    "#         spectrum.write(outfile, format='fits')  \n",
    "#     else:\n",
    "#         spectrum = OneDSpectrum.from_hdu(fits.open(outfile)).to(u.K)\n",
    "#         print(spectrum)\n",
    "#     max_spectra.append(spectrum)\n",
    "#     print(\"Finished with a spectrum!\")\n",
    "\n",
    "# Just one cube:\n",
    "for cube in [resampled_ch3cn_subcubes[0]]:\n",
    "    x, y = map(int, cube.wcs.celestial.world_to_pixel(crd))\n",
    "    spectrum = cube[:, y, x].to(u.K)\n",
    "    spectra.append(spectrum)\n",
    "    print(\"Finished with a spectrum!\")\n",
    "    # Whyyyyy the hell does it take multiple minutes to extract spectra, all_spectra_and_models can do it so damn fast\n",
    "    # It is because it is convolving the cubes! Because it didn't do that in the last step"
   ]
  },
  {
   "cell_type": "code",
   "execution_count": 23,
   "metadata": {},
   "outputs": [
    {
     "data": {
      "text/plain": [
       "Text(0, 0.5, 'Brightness temperature [K]')"
      ]
     },
     "execution_count": 23,
     "metadata": {},
     "output_type": "execute_result"
    },
    {
     "data": {
      "image/png": "[encoded data removed]",
      "text/plain": [
       "<Figure size 1000x500 with 1 Axes>"
      ]
     },
     "metadata": {},
     "output_type": "display_data"
    }
   ],
   "source": [
    "import matplotlib.pyplot as plt\n",
    "\n",
    "# Just one cube:\n",
    "\n",
    "fig = plt.figure(figsize = (10, 5))\n",
    "\n",
    "plt.plot(resampled_ch3cn_subcubes[0].spectral_axis.to(u.GHz), np.array(spectra[0]), linestyle = '-', color = 'k', linewidth = 0.5, drawstyle = 'steps-mid')\n",
    "plt.xlabel(f\"Frequency [{resampled_ch3cn_subcubes[0].spectral_axis.to(u.GHz).unit}]\")\n",
    "plt.ylabel(f\"Brightness temperature [{spectra[0].unit}]\")\n",
    "\n",
    "# fig = plt.figure(figsize = (30, 15))\n",
    "\n",
    "# for ind, (cube, spectrum) in enumerate(zip(resampled_ch3cn_subcubes, spectra)):\n",
    "#     ax = plt.subplot(3, 5, ind + 1)\n",
    "#     ax.plot(cube.spectral_axis.to(u.GHz), np.array(spectrum), linestyle = '-', color = 'k', linewidth = 0.5, drawstyle = 'steps-mid')\n",
    "#     ax.set_xlabel(f\"Frequency [{resampled_ch3cn_subcubes[0].spectral_axis.to(u.GHz).unit}]\")\n",
    "#     ax.set_ylabel(f\"Brightness temperature [{max_spectra[0].unit}]\")"
   ]
  },
  {
   "cell_type": "markdown",
   "metadata": {},
   "source": [
    "### 4. Generate XCLASS models of those same ladders"
   ]
  },
  {
   "cell_type": "code",
   "execution_count": 25,
   "metadata": {},
   "outputs": [],
   "source": [
    "# Get path of XCLASS directory\n",
    "import os\n",
    "import sys\n",
    "XCLASSRootDir = str(os.environ.get('XCLASSRootDir', '')).strip()\n",
    "XCLASSRootDir = os.path.normpath(XCLASSRootDir) + \"/\"\n",
    "\n",
    "# Extend sys.path variable\n",
    "NewPath = XCLASSRootDir + \"build_tasks/\"\n",
    "if (not NewPath in sys.path):\n",
    "    sys.path.append(NewPath)\n",
    "\n",
    "import task_myXCLASS"
   ]
  },
  {
   "cell_type": "code",
   "execution_count": 26,
   "metadata": {},
   "outputs": [],
   "source": [
    "source_size =  4.3350376922e+00\n",
    "tkin = 153.1 # 7.9842254347e+01\n",
    "Ntot = 1.5e+14 # 10**13.70 # 10**N_tot # 1.5061155735e+14 # 1.0061155735e+16\n",
    "vwidth_fwhm = 4.2101396644e+00\n",
    "vwidth = vwidth_fwhm / np.sqrt(8*np.log(2))\n",
    "vcen = 38.0\n",
    "tbg = 0"
   ]
  },
  {
   "cell_type": "code",
   "execution_count": 28,
   "metadata": {},
   "outputs": [],
   "source": [
    "import sys\n",
    "import os\n",
    "# Define path and name of molfit file\n",
    "# DEFAULT MolfitsFileName = LocalPath + \"files/my_molecules.molfit\"\n",
    "LocalPath = os.getcwd() + \"/\"\n",
    "\n",
    "MolfitsFileName = LocalPath + 'CH3CN_pure_original.molfit'\n",
    "\n",
    "def set_xclass_parameters(source_size=source_size, tkin=tkin, Ntot=Ntot, vwidth_fwhm=vwidth_fwhm, vcen=vcen, filename=MolfitsFileName):\n",
    "    with open(filename, \"w\") as fh:\n",
    "        fh.write(f\"\"\"\n",
    "%============================================================================================================================\n",
    "%\n",
    "% define molecules and their components:\n",
    "%\n",
    "%============================================================================================================================\n",
    "%    source size:                 T_kin:               N_tot:            V_width:                V_off:   CFFlag:    keyword:\n",
    "%       [arcsec]:                   [K]:              [cm-2]:            [km /s]:              [km /s]:       []:         []:\n",
    "CH3CN;v=0;           1\n",
    " {source_size}       {tkin}     {Ntot}     {vwidth_fwhm}    {vcen}         c\n",
    "\"\"\")"
   ]
  },
  {
   "cell_type": "code",
   "execution_count": 29,
   "metadata": {},
   "outputs": [],
   "source": [
    "# define freq. step (in MHz)\n",
    "FreqStep = 0.1\n",
    "\n",
    "# depending on parameter \"Inter_Flag\" define beam size (in arcsec)\n",
    "# (Inter_Flag = True) or size of telescope (in m) (Inter_Flag = False)\n",
    "TelescopeSize = 1000.0 # meters\n",
    "\n",
    "# define beam minor axis length (in arsec)\n",
    "BMIN = None\n",
    "\n",
    "# define beam major axis length (in arsec)\n",
    "BMAJ = None\n",
    "\n",
    "# define beam position angle (in degree)\n",
    "BPA = None\n",
    "\n",
    "# interferrometric data?\n",
    "Inter_Flag = False\n",
    "\n",
    "# define red shift\n",
    "Redshift = None\n",
    "\n",
    "# BACKGROUND: describe continuum with tBack and tslope only\n",
    "t_back_flag = True\n",
    "\n",
    "# BACKGROUND: define background temperature (in K)\n",
    "tBack = 0.0\n",
    "\n",
    "# BACKGROUND: define temperature slope (dimensionless)\n",
    "tslope = 0.0\n",
    "\n",
    "# BACKGROUND: define path and name of ASCII file describing continuum as function\n",
    "#             of frequency\n",
    "BackgroundFileName = \"\"\n",
    "\n",
    "# DUST: define hydrogen column density (in cm^(-2))\n",
    "N_H = 1.e22\n",
    "\n",
    "# DUST: define spectral index for dust (dimensionless)\n",
    "beta_dust = 0.0\n",
    "\n",
    "# DUST: define kappa at 1.3 mm (cm^(2) g^(-1))\n",
    "kappa_1300 = 0.0\n",
    "\n",
    "# DUST: define path and name of ASCII file describing dust opacity as\n",
    "#       function of frequency\n",
    "DustFileName = \"\"\n",
    "\n",
    "# FREE-FREE: define electronic temperature (in K)\n",
    "Te_ff = None\n",
    "\n",
    "# FREE-FREE: define emission measure (in pc cm^(-6))\n",
    "EM_ff = None\n",
    "\n",
    "# SYNCHROTRON: define kappa of energy spectrum of electrons (electrons m^(−3) GeV^(-1))\n",
    "kappa_sync = None\n",
    "\n",
    "# SYNCHROTRON: define magnetic field (in Gauss)\n",
    "B_sync = None\n",
    "\n",
    "# SYNCHROTRON: energy spectral index (dimensionless)\n",
    "p_sync = None\n",
    "\n",
    "# SYNCHROTRON: thickness of slab (in AU)\n",
    "l_sync = None\n",
    "\n",
    "# PHEN-CONT: define phenomenological function which is used to describe\n",
    "#            the continuum\n",
    "ContPhenFuncID = None\n",
    "\n",
    "# PHEN-CONT: define first parameter for phenomenological function\n",
    "ContPhenFuncParam1 = None\n",
    "\n",
    "# PHEN-CONT: define second parameter for phenomenological function\n",
    "ContPhenFuncParam2 = None\n",
    "\n",
    "# PHEN-CONT: define third parameter for phenomenological function\n",
    "ContPhenFuncParam3 = None\n",
    "\n",
    "# PHEN-CONT: define fourth parameter for phenomenological function\n",
    "ContPhenFuncParam4 = None\n",
    "\n",
    "# PHEN-CONT: define fifth parameter for phenomenological function\n",
    "ContPhenFuncParam5 = None\n",
    "\n",
    "# use iso ratio file?\n",
    "iso_flag = True\n",
    "\n",
    "# define path and name of iso ratio file\n",
    "#DEFAULT IsoTableFileName = LocalPath + \"files/my_isonames.txt\"\n",
    "IsoTableFileName = LocalPath + \"my_isonames.txt\"\n",
    "\n",
    "# define path and name of file describing Non-LTE parameters\n",
    "CollisionFileName = \"\"\n",
    "\n",
    "# define number of pixels in x-direction (used for sub-beam description)\n",
    "NumModelPixelXX = 100\n",
    "\n",
    "# define number of pixels in y-direction (used for sub-beam description)\n",
    "NumModelPixelYY = 100\n",
    "\n",
    "# take local-overlap into account or not\n",
    "LocalOverlapFlag = False\n",
    "\n",
    "# disable sub-beam description\n",
    "NoSubBeamFlag = True\n",
    "\n",
    "# define path and name of database file\n",
    "dbFilename = \"\"\n",
    "\n",
    "# define rest freq. (in MHz)\n",
    "RestFreq = 0.0\n",
    "\n",
    "# define v_lsr (in km/s)\n",
    "vLSR = 0.0"
   ]
  },
  {
   "cell_type": "code",
   "execution_count": 30,
   "metadata": {},
   "outputs": [],
   "source": [
    "import io\n",
    "from contextlib import redirect_stdout\n",
    "\n",
    "def myxclass_call(FreqMin=1e3, FreqMax=1e4, verbose=False):\n",
    "    ## call myXCLASS function\n",
    "    with io.StringIO() as buf, redirect_stdout(buf):\n",
    "        modeldata, log, TransEnergies, IntOpt, JobDir = task_myXCLASS.myXCLASS(\n",
    "                                                    FreqMin, FreqMax, FreqStep,\n",
    "                                                    TelescopeSize, BMIN, BMAJ,\n",
    "                                                    BPA, Inter_Flag, Redshift,\n",
    "                                                    t_back_flag, tBack, tslope,\n",
    "                                                    BackgroundFileName,\n",
    "                                                    N_H, beta_dust, kappa_1300,\n",
    "                                                    DustFileName, Te_ff, EM_ff,\n",
    "                                                    kappa_sync, B_sync, p_sync,\n",
    "                                                    l_sync, ContPhenFuncID,\n",
    "                                                    ContPhenFuncParam1,\n",
    "                                                    ContPhenFuncParam2,\n",
    "                                                    ContPhenFuncParam3,\n",
    "                                                    ContPhenFuncParam4,\n",
    "                                                    ContPhenFuncParam5,\n",
    "                                                    MolfitsFileName, iso_flag,\n",
    "                                                    IsoTableFileName,\n",
    "                                                    CollisionFileName,\n",
    "                                                    NumModelPixelXX,\n",
    "                                                    NumModelPixelYY,\n",
    "                                                    LocalOverlapFlag,\n",
    "                                                    NoSubBeamFlag,\n",
    "                                                    dbFilename,\n",
    "                                                    RestFreq, vLSR)\n",
    "        output = buf.getvalue()\n",
    "    if verbose:\n",
    "        print(output)\n",
    "        \n",
    "    return modeldata, log, TransEnergies, IntOpt, JobDir"
   ]
  },
  {
   "cell_type": "code",
   "execution_count": 31,
   "metadata": {},
   "outputs": [
    {
     "name": "stdout",
     "output_type": "stream",
     "text": [
      " \n",
      "Reading command line parameters .. done!\n",
      " \n",
      "Command line arguments:\n",
      "  First frequency:                  9.1909126766E+04\n",
      "  Last frequency:                   9.2037039411E+04\n",
      "  Stepsize (resolution):            1.0000000000E-01\n",
      "  Size of telescope:                1.0000000000E+03\n",
      "  Interferrometer flag:             F\n",
      "  v_LSR:                            0.0000000000E+00\n",
      "  Background temperature flag:      T\n",
      "  Background Temperature:           0.0000000000E+00\n",
      "  Temperature Slope:                0.0000000000E+00\n",
      "  N_H:                              1.0000000000E+22\n",
      "  beta dust:                        0.0000000000E+00\n",
      "  kappa:                            0.0000000000E+00\n",
      "  NumModelPixelXX:                  100\n",
      "  NumModelPixelYY:                  100\n",
      "  Local-overlap flag:               F\n",
      "  No sub-beam flag:                 T\n",
      "  Path and name of instance file:   \"parameter.xml\"\n",
      "  Iso flag:                         T\n",
      "  Path and name of database file:   \"/orange/adamginsburg/software/XCLASS-Interface/Database/cdms_sqlite.db\"\n",
      " \n",
      " \n",
      "Reading parameters from file .. done!\n",
      " \n",
      " \n",
      "Sub-beam description is NOT used!\n",
      " \n",
      " \n",
      "Do NOT take local-overlap into account!\n",
      " \n",
      " \n",
      "              Reading partition functions for all molecules from sqlite3 database .. done!\n",
      " \n",
      "                Number of entries =          5\n",
      "                First Molecule in database: CH3CN;v=0;\n",
      "                Last Molecule in database:  \n",
      " \n",
      " \n",
      "              Reading parameters for radiative transitions for all molecules from sqlite database .. done!\n",
      " \n",
      " \n",
      "                Number of transitions for each frequency range and molecule:\n",
      " \n",
      "                Frequency range: 9.190912676603520E+04 MHz - 9.203703941133390E+04 MHz:\n",
      "                  Number of transitions for molecule \"CH3CN;v=0;\":                                  6\n",
      "                  Number of transitions for molecule \"CH3CN;v8=1;\":                                 0\n",
      "                  Number of transitions for molecule \"C-13-H3CN;v=0;\":                              6\n",
      "                  Number of transitions for molecule \"CH3C-13-N;v=0;\":                              6\n",
      "                  Number of transitions for molecule \"CH3CN-15;v=0;\":                               5\n",
      " \n",
      " \n",
      "Compute intensity .. done!\n",
      " \n",
      "myXCLASS finished!\n"
     ]
    }
   ],
   "source": [
    "modeldatas = []\n",
    "for spectrum in spectra:\n",
    "    # define min. freq. (in MHz)\n",
    "    FreqMin = np.min(spectrum.spectral_axis.to(u.MHz)).value\n",
    "    # define max. freq. (in MHz)\n",
    "    FreqMax = np.max(spectrum.spectral_axis.to(u.MHz)).value\n",
    "\n",
    "    set_xclass_parameters()\n",
    "    modeldata, log, TransEnergies, IntOpt, JobDir = myxclass_call(FreqMin=FreqMin, FreqMax=FreqMax)\n",
    "    modeldatas.append(modeldata)"
   ]
  },
  {
   "cell_type": "code",
   "execution_count": 33,
   "metadata": {},
   "outputs": [
    {
     "data": {
      "text/plain": [
       "Text(0, 0.5, 'Brightness temperature [K]')"
      ]
     },
     "execution_count": 33,
     "metadata": {},
     "output_type": "execute_result"
    },
    {
     "data": {
      "image/png": "[encoded data removed]",
      "text/plain": [
       "<Figure size 1000x500 with 1 Axes>"
      ]
     },
     "metadata": {},
     "output_type": "display_data"
    }
   ],
   "source": [
    "fig = plt.figure(figsize = (10, 5))\n",
    "\n",
    "plt.plot((modeldata[:,0]*u.MHz).to(u.GHz), modeldata[:,1], linestyle = '-', color = 'b', linewidth = 0.5, drawstyle = 'steps-mid')\n",
    "plt.xlabel(f\"Frequency [{(modeldata[:,0]*u.MHz).to(u.GHz).unit}]\")\n",
    "plt.ylabel(f\"Brightness temperature [K]\")\n",
    "\n",
    "# fig = plt.figure(figsize = (30, 15))\n",
    "\n",
    "# for ind, modeldata in enumerate(modeldatas):\n",
    "#     ax = plt.subplot(3, 5, ind + 1)\n",
    "#     ax.plot((modeldata[:,0]*u.MHz).to(u.GHz), modeldata[:,1], linestyle = '-', color = 'b', linewidth = 0.5, drawstyle = 'steps-mid')\n",
    "#     ax.set_xlabel(f\"Frequency [{(modeldata[:,0]*u.MHz).to(u.GHz).unit}]\")\n",
    "#     ax.set_ylabel(f\"Brightness temperature [K]\")"
   ]
  },
  {
   "cell_type": "markdown",
   "metadata": {},
   "source": [
    "### 5. Overplot our data and the XCLASS models"
   ]
  },
  {
   "cell_type": "code",
   "execution_count": 34,
   "metadata": {},
   "outputs": [],
   "source": [
    "# Preliminary continuum subtraction\n",
    "spectra_contsub = []\n",
    "for spectrum in spectra:\n",
    "    spectrum_contsub = np.array(spectrum) - np.median(np.array(spectrum))\n",
    "    spectra_contsub.append(spectrum_contsub)"
   ]
  },
  {
   "cell_type": "code",
   "execution_count": 35,
   "metadata": {},
   "outputs": [],
   "source": [
    "SM_SIZE = 14\n",
    "MD_SIZE = 18\n",
    "LG_SIZE = 24\n",
    "\n",
    "plt.rc('font', size = MD_SIZE)          # controls default text sizes\n",
    "plt.rc('axes', titlesize = LG_SIZE)     # fontsize of the axes title\n",
    "plt.rc('axes', labelsize = MD_SIZE)     # fontsize of the x and y labels\n",
    "plt.rc('xtick', labelsize = MD_SIZE)    # fontsize of the tick labels\n",
    "plt.rc('ytick', labelsize = MD_SIZE)    # fontsize of the tick labels\n",
    "plt.rc('legend', fontsize = SM_SIZE)    # legend fontsize\n",
    "plt.rc('figure', titlesize = LG_SIZE)   # fontsize of the figure title"
   ]
  },
  {
   "cell_type": "code",
   "execution_count": 37,
   "metadata": {},
   "outputs": [
    {
     "data": {
      "text/plain": [
       "Text(0.5, 1.01, 'CH$_3$CN $J = 5 - 4$')"
      ]
     },
     "execution_count": 37,
     "metadata": {},
     "output_type": "execute_result"
    },
    {
     "data": {
      "image/png": "[encoded data removed]",
      "text/plain": [
       "<Figure size 1000x500 with 1 Axes>"
      ]
     },
     "metadata": {},
     "output_type": "display_data"
    }
   ],
   "source": [
    "# For just one plot:\n",
    "\n",
    "fig = plt.figure(figsize = (10, 5))\n",
    "\n",
    "plot_title = \"CH$_3$CN $J = 5 - 4$\"\n",
    "\n",
    "plt.plot(resampled_ch3cn_subcubes[0].spectral_axis.to(u.GHz), spectra_contsub[0], linestyle = '--', color = 'k', linewidth = 1, drawstyle = 'steps-mid', \n",
    "            label = \"Data\")\n",
    "plt.plot((modeldatas[0][:,0]*u.MHz).to(u.GHz), modeldatas[0][:,1], linestyle = '-', color = 'b', linewidth = 1, drawstyle = 'steps-mid', \n",
    "        label = \"Model\")\n",
    "plt.legend(loc='best')\n",
    "plt.xlim(resampled_ch3cn_subcubes[0].spectral_extrema.to(u.GHz).value)\n",
    "plt.xlabel(f\"Frequency [{resampled_ch3cn_subcubes[0].spectral_axis.to(u.GHz).unit}]\")\n",
    "plt.ylabel(f\"Brightness temperature [{resampled_ch3cn_subcubes[0].unit}]\")\n",
    "plt.title(plot_title, y = 1.01)\n",
    "\n",
    "# fig = plt.figure(figsize = (50, 22))\n",
    "\n",
    "# plot_titles = [\"CH$_3$CN $J = 5 - 4$\"]\n",
    "#                \"CH$_3$CN $J = 6 - 5$\",\n",
    "#                \"CH$_3$CN $J = 7 - 6$\",\n",
    "#                \"CH$_3$CN $J = 8 - 7$\",\n",
    "#                \"CH$_3$CN $J = 14 - 13$\"]\n",
    "\n",
    "# for ind, (cube, spectrum, modeldata) in enumerate(zip(resampled_ch3cn_subcubes, max_spectra_contsub, modeldatas)):\n",
    "#     ax = plt.subplot(3, 5, ind + 1)\n",
    "#     ax.plot(cube.spectral_axis.to(u.GHz), spectrum, linestyle = '--', color = 'k', linewidth = 1, drawstyle = 'steps-mid', \n",
    "#             label = \"Data\")\n",
    "#     ax.plot((modeldata[:,0]*u.MHz).to(u.GHz), modeldata[:,1], linestyle = '-', color = 'b', linewidth = 1, drawstyle = 'steps-mid', \n",
    "#             label = \"Model\")\n",
    "#     plt.legend(loc='best')\n",
    "#     ax.set_xlim(cube.spectral_extrema.to(u.GHz).value)\n",
    "#     ax.set_xlabel(f\"Frequency [{cube.spectral_axis.to(u.GHz).unit}]\")\n",
    "#     ax.set_ylabel(f\"Brightness temperature [{cube.unit}]\")\n",
    "#     ax.set_title(plot_titles[ind], y = 1.01)\n",
    "# plt.suptitle(f\"Methyl cyanide ladder data and model comparison (core), $T$ = {tkin:.1f} K, $\\log_{{10}}(N_{{tot}})$ = {np.log10(Ntot):.2f}\", y = 0.922)\n",
    "\n",
    "# plt.rcParams.update({\n",
    "#     \"figure.facecolor\":  'none',\n",
    "#     \"axes.facecolor\":    'w',\n",
    "#     \"savefig.facecolor\": 'none'\n",
    "# })\n",
    "\n",
    "# plt.savefig('/blue/adamginsburg/abulatek/brick/first_results/figures/methyl_cyanide_XCLASS_comparison_NEW.png', dpi = 250, bbox_inches = 'tight', overwrite = True)"
   ]
  },
  {
   "cell_type": "code",
   "execution_count": null,
   "metadata": {},
   "outputs": [],
   "source": []
  }
 ],
 "metadata": {
  "kernelspec": {
   "display_name": "Python 3 (ipykernel)",
   "language": "python",
   "name": "python3"
  },
  "language_info": {
   "codemirror_mode": {
    "name": "ipython",
    "version": 3
   },
   "file_extension": ".py",
   "mimetype": "text/x-python",
   "name": "python",
   "nbconvert_exporter": "python",
   "pygments_lexer": "ipython3",
   "version": "3.9.13"
  }
 },
 "nbformat": 4,
 "nbformat_minor": 4
}
