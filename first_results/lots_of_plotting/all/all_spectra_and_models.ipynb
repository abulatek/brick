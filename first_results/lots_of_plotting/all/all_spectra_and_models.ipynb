{
 "cells": [
  {
   "cell_type": "markdown",
   "metadata": {},
   "source": [
    "### 1. Get our data cubes from files"
   ]
  },
  {
   "cell_type": "code",
   "execution_count": 12,
   "metadata": {},
   "outputs": [],
   "source": [
    "# For parallelization, which helps to make convolution faster\n",
    "import dask\n",
    "dask.config.set(scheduler = 'threads', num_workers = 8)\n",
    "from dask.diagnostics import ProgressBar\n",
    "ProgressBar().register()\n",
    "import warnings\n",
    "warnings.filterwarnings('ignore')"
   ]
  },
  {
   "cell_type": "code",
   "execution_count": 13,
   "metadata": {},
   "outputs": [],
   "source": [
    "from astropy import units as u\n",
    "\n",
    "results = '/blue/adamginsburg/abulatek/brick/symlinks/imaging_results/'"
   ]
  },
  {
   "cell_type": "code",
   "execution_count": 14,
   "metadata": {},
   "outputs": [],
   "source": [
    "# Get names of spectral windows\n",
    "# I think these are in vaguely the right order?\n",
    "freq_spws = [\n",
    "'87_spw25',\n",
    "# '87_spw102', # duplicate of above\n",
    "'89_spw27',\n",
    "# '89_spw104', # duplicate of above\n",
    "\n",
    "'91_spw25', \n",
    "# '91_spw102', # duplicate of above\n",
    "'93_spw27',\n",
    "# '93_spw104', # duplicate of above\n",
    "'95_spw25', \n",
    "'97_spw27', \n",
    "'98_spw29',\n",
    "# '98_spw106', # duplicate of above\n",
    "# '99_spw25', # duplicate of above\n",
    "'99_spw31',  \n",
    "# '99_spw108', # duplicate of above\n",
    "\n",
    "# '101_spw27', # duplicate of above\n",
    "'102_spw23',\n",
    "'102_spw29', \n",
    "# '102_spw106', # duplicate of above\n",
    "'104_spw25', # mislabeled, should be before 103_spw31\n",
    "'103_spw31', \n",
    "# '103_spw108', # duplicate of above\n",
    "'106_spw29',\n",
    "'107_spw31',\n",
    "\n",
    "'110_spw29',\n",
    "'111_spw31',\n",
    "'112_spw27',\n",
    "'114_spw29',\n",
    "\n",
    "'127_spw65', \n",
    "'129_spw67',\n",
    "\n",
    "'130_spw105',\n",
    "'132_spw107',\n",
    "'134_spw45', \n",
    "'135_spw47',\n",
    "'137_spw85',\n",
    "'137_spw69',\n",
    "# '139_spw87', # duplicate of above\n",
    "'139_spw71',\n",
    "# '141_spw25', # duplicate of above\n",
    "\n",
    "'140_spw109',\n",
    "'142_spw111',\n",
    "'144_spw49',\n",
    "'146_spw51',\n",
    "'147_spw89',\n",
    "'149_spw91',\n",
    "\n",
    "'142_spw27', # mislabeled\n",
    "# '151_spw29', # duplicate of above\n",
    "'152_spw31',\n",
    "\n",
    "'244_spw65',\n",
    "'245_spw67',\n",
    "'247_spw105',\n",
    "'249_spw107',\n",
    "\n",
    "'250_spw25',\n",
    "'252_spw27',\n",
    "'254_spw85',\n",
    "'255_spw87',\n",
    "'257_spw45',\n",
    "'259_spw47',\n",
    "# '258_spw69', # significant overlap with above?\n",
    "'259_spw71',\n",
    "\n",
    "'261_spw109',\n",
    "'263_spw111',\n",
    "'264_spw29',\n",
    "'266_spw31',\n",
    "'268_spw89',\n",
    "\n",
    "'270_spw91',\n",
    "'271_spw49',\n",
    "'273_spw51'\n",
    "]"
   ]
  },
  {
   "cell_type": "code",
   "execution_count": 15,
   "metadata": {},
   "outputs": [],
   "source": [
    "# Only look at one cube from here on out\n",
    "ind = freq_spws.index('129_spw67')"
   ]
  },
  {
   "cell_type": "code",
   "execution_count": 16,
   "metadata": {},
   "outputs": [],
   "source": [
    "from spectral_cube import SpectralCube\n",
    "\n",
    "cube = SpectralCube.read(results+'source_ab_'+freq_spws[ind]+'_clean_2sigma_n50000_masked_3sigma_pbmask0p18.image', use_dask = True)"
   ]
  },
  {
   "cell_type": "markdown",
   "metadata": {},
   "source": [
    "### 2. Convert cube to a common beam\n",
    "\n",
    "Skipping converting all cubes to a common beam because I only want to examine one spectrum at a time."
   ]
  },
  {
   "cell_type": "code",
   "execution_count": 17,
   "metadata": {},
   "outputs": [],
   "source": [
    "cube_common_beam = cube.beams.common_beam(max_iter = 20, max_epsilon = 0.01)\n",
    "smoothed_cube = cube.convolve_to(cube_common_beam) # Convert from VaryingResolution to regular\n",
    "\n",
    "# import radio_beam\n",
    "\n",
    "# beams = []\n",
    "# for cube in smoothed_cubes:\n",
    "#     beams.append(cube.beam)\n",
    "\n",
    "# common_beam = radio_beam.commonbeam.common_manybeams_mve(radio_beam.Beams(beams = beams)) # Get common beam between all cubes\n",
    "# common_beam"
   ]
  },
  {
   "cell_type": "code",
   "execution_count": 18,
   "metadata": {},
   "outputs": [],
   "source": [
    "# resampled_cubes = []\n",
    "# for cube in smoothed_cubes:\n",
    "#     resampled_cube = cube.convolve_to(common_beam) # This cell takes almost no time; the cubes do not get convolved in this step\n",
    "#     resampled_cubes.append(resampled_cube)"
   ]
  },
  {
   "cell_type": "markdown",
   "metadata": {},
   "source": [
    "### 3. Extract spectrum and plot our data"
   ]
  },
  {
   "cell_type": "code",
   "execution_count": 19,
   "metadata": {},
   "outputs": [],
   "source": [
    "# Extract spectrum for a coordinate in central core region\n",
    "from astropy import coordinates\n",
    "from astropy import wcs\n",
    "\n",
    "crd = coordinates.SkyCoord(\"17:46:10.63 -28:42:17.8\", frame='fk5', unit=(u.h, u.deg))\n",
    "\n",
    "x, y = map(int, smoothed_cube.wcs.celestial.world_to_pixel(crd))"
   ]
  },
  {
   "cell_type": "code",
   "execution_count": 20,
   "metadata": {},
   "outputs": [],
   "source": [
    "# # Extract spectrum for brightest pixel in central core region\n",
    "# import regions\n",
    "# reg = regions.Regions.read('/blue/adamginsburg/abulatek/brick/first_results/region_temperatures/centralcoreellipse.reg')\n",
    "\n",
    "# smoothed_cube_reg = smoothed_cube.subcube_from_regions(reg)"
   ]
  },
  {
   "cell_type": "code",
   "execution_count": 26,
   "metadata": {},
   "outputs": [
    {
     "name": "stdout",
     "output_type": "stream",
     "text": [
      "[########################################] | 100% Completed | 10.48 s\n",
      "[########################################] | 100% Completed | 10.54 s\n"
     ]
    }
   ],
   "source": [
    "#m0 = smoothed_cube.moment0()\n",
    "m0 = smoothed_cube[0] # HACK to make go faster"
   ]
  },
  {
   "cell_type": "code",
   "execution_count": 54,
   "metadata": {},
   "outputs": [
    {
     "name": "stdout",
     "output_type": "stream",
     "text": [
      "[########################################] | 100% Completed | 7.09 sms\n",
      "[########################################] | 100% Completed | 7.09 s\n",
      "[########################################] | 100% Completed | 5.67 sms\n",
      "[########################################] | 100% Completed | 5.75 s\n",
      "[########################################] | 100% Completed | 241.59 s\n",
      "[########################################] | 100% Completed | 241.68 s\n"
     ]
    }
   ],
   "source": [
    "# Take the mean spectrum of the outflow cavity region\n",
    "import regions\n",
    "\n",
    "reg = regions.Regions.read('outflow_cavity_region.reg')\n",
    "smoothed_scube = smoothed_cube.subcube_from_regions(reg)\n",
    "mean_spectrum = smoothed_scube.mean(axis = (1, 2)) #how='slice', progressbar=True"
   ]
  },
  {
   "cell_type": "code",
   "execution_count": 55,
   "metadata": {},
   "outputs": [
    {
     "data": {
      "image/png": "[encoded data removed]",
      "text/plain": [
       "<Figure size 432x288 with 1 Axes>"
      ]
     },
     "metadata": {
      "needs_background": "light"
     },
     "output_type": "display_data"
    }
   ],
   "source": [
    "# THIS IS ADAM'S HACKERY\n",
    "import pyspeckit\n",
    "sp = pyspeckit.Spectrum(xarr=mean_spectrum.spectral_axis, data=mean_spectrum)\n",
    "sp.plotter()"
   ]
  },
  {
   "cell_type": "code",
   "execution_count": 66,
   "metadata": {},
   "outputs": [
    {
     "data": {
      "text/plain": [
       "[Param #0   AMPLITUDE0 =    0.0272988 +/-     0.000653408 ,\n",
       " Param #1       SHIFT0 =      127.351 +/-     2.78306e-05 ,\n",
       " Param #2       WIDTH0 =   0.00100696 +/-      2.7831e-05   Range:   [0,inf),\n",
       " Param #3   AMPLITUDE1 =    0.0273161 +/-     0.000413443 ,\n",
       " Param #4       SHIFT1 =      127.363 +/-     4.39559e-05 ,\n",
       " Param #5       WIDTH1 =   0.00251509 +/-     4.39572e-05   Range:   [0,inf)]"
      ]
     },
     "execution_count": 66,
     "metadata": {},
     "output_type": "execute_result"
    },
    {
     "data": {
      "image/png": "[encoded data removed]",
      "text/plain": [
       "<Figure size 432x288 with 1 Axes>"
      ]
     },
     "metadata": {
      "needs_background": "light"
     },
     "output_type": "display_data"
    }
   ],
   "source": [
    "sp.xarr.convert_to_unit(u.GHz)\n",
    "sp.plotter(xmin=127.32*u.GHz, xmax=127.4*u.GHz)\n",
    "sp.specfit(guesses=[0.03, 127.35, 0.001, 0.003, 127.37, 0.001])\n",
    "sp.specfit.parinfo"
   ]
  },
  {
   "cell_type": "code",
   "execution_count": 69,
   "metadata": {},
   "outputs": [],
   "source": [
    "from astropy import constants"
   ]
  },
  {
   "cell_type": "code",
   "execution_count": 72,
   "metadata": {},
   "outputs": [
    {
     "data": {
      "text/plain": [
       "(<Quantity 39.02395283 km / s>, <Quantity 11.88320839 km / s>)"
      ]
     },
     "execution_count": 72,
     "metadata": {},
     "output_type": "execute_result"
    }
   ],
   "source": [
    "v1 = -(sp.specfit.parinfo['SHIFT0'] - 127.36766)/127.36766*constants.c.to(u.km/u.s)\n",
    "v2 = -(sp.specfit.parinfo['SHIFT1'] - 127.36766)/127.36766*constants.c.to(u.km/u.s)\n",
    "v1,v2"
   ]
  },
  {
   "cell_type": "code",
   "execution_count": 76,
   "metadata": {},
   "outputs": [
    {
     "data": {
      "image/png": "[encoded data removed]",
      "text/plain": [
       "<Figure size 432x288 with 1 Axes>"
      ]
     },
     "metadata": {
      "needs_background": "light"
     },
     "output_type": "display_data"
    }
   ],
   "source": [
    "sp.xarr.convert_to_unit(u.GHz)\n",
    "sp.plotter(xmin=127.8*u.GHz, xmax=127.9*u.GHz)\n",
    "sp.specfit(guesses=[0.03, 127.84, 0.001, 0.003, 127.85, 0.001])\n",
    "#sp.specfit.parinfo"
   ]
  },
  {
   "cell_type": "code",
   "execution_count": 78,
   "metadata": {},
   "outputs": [
    {
     "data": {
      "text/plain": [
       "(<Quantity 127.8568992>, <Quantity 127.85689879>)"
      ]
     },
     "execution_count": 78,
     "metadata": {},
     "output_type": "execute_result"
    }
   ],
   "source": [
    "f1 = (sp.specfit.parinfo['SHIFT0'] * (1+ v1/constants.c.to(u.km/u.s)))\n",
    "f2 = (sp.specfit.parinfo['SHIFT1'] * (1+ v2/constants.c.to(u.km/u.s)))\n",
    "f1,f2"
   ]
  },
  {
   "cell_type": "code",
   "execution_count": 82,
   "metadata": {},
   "outputs": [
    {
     "data": {
      "text/html": [
       "<div><i>Table length=56</i>\n",
       "<table id=\"table47424773494384\" class=\"table-striped table-bordered table-condensed\">\n",
       "<thead><tr><th>Species</th><th>ChemicalName</th><th>QNs</th><th>Freq</th><th>log10_Aij</th><th>EU_K</th></tr></thead>\n",
       "<thead><tr><th>str18</th><th>str24</th><th>str37</th><th>float64</th><th>float64</th><th>float64</th></tr></thead>\n",
       "<tr><td>AA-n-C4H9CN</td><td>n-Butyl cyanide</td><td>49(29,20)-48(29,19)</td><td>127.8548165</td><td>-4.04367</td><td>700.45171</td></tr>\n",
       "<tr><td>AA-n-C4H9CN</td><td>n-Butyl cyanide</td><td>49(29,21)-48(29,20)</td><td>127.8548165</td><td>-4.04367</td><td>700.45171</td></tr>\n",
       "<tr><td>ClClOO</td><td>Chloryl chloride</td><td>27(11,16)-27(10,18)</td><td>127.8554495</td><td>-5.00593</td><td>152.8732</td></tr>\n",
       "<tr><td>HCCCH2OH</td><td>Propargyl Alcohol</td><td>42(16,26)-41(17,24),vt=1-0</td><td>127.8556644</td><td>-6.19927</td><td>761.77233</td></tr>\n",
       "<tr><td>HCCCH2OH</td><td>Propargyl Alcohol</td><td>42(16,26)-41(17,24),vt=1-0</td><td>127.8556644</td><td>-6.19927</td><td>761.77233</td></tr>\n",
       "<tr><td>C3H6O2</td><td>Hydroxyacetone</td><td>17(3,14)-17(2,16)E</td><td>127.8558583</td><td>-7.57422</td><td>57.03782</td></tr>\n",
       "<tr><td>CH2CH13CN</td><td>Vinyl Cyanide</td><td>75(10,65)-76(9,68)</td><td>127.8559494</td><td>-4.82092</td><td>1507.83352</td></tr>\n",
       "<tr><td>CHOCHOHCH2OH</td><td>Glyceraldehyde</td><td>97(26,71)-97(25,73)</td><td>127.8560121</td><td>-4.78877</td><td>1282.25587</td></tr>\n",
       "<tr><td>NH2CH2CH2OHv25+v27</td><td>Aminoethanol</td><td>13(1,12)-12(1,11)</td><td>127.8561271</td><td>-4.09678</td><td>633.14529</td></tr>\n",
       "<tr><td>C3H8</td><td>Propane</td><td>N/A</td><td>127.8562559</td><td>-8.36421</td><td>643.49721</td></tr>\n",
       "<tr><td>37ClOv=0</td><td>Chlorine monoxide</td><td>J=7/2-5/2,&amp;Omega;=3/2,F=2-2,l=f</td><td>127.856285</td><td>-5.55501</td><td>10.5242</td></tr>\n",
       "<tr><td>CH2OHCOCH2OHv29=1</td><td>Dihydroxyacetone</td><td>29(16,13)-30(15,16)</td><td>127.8563321</td><td>-5.64032</td><td>386.24425</td></tr>\n",
       "<tr><td>CH2OHCOCH2OHv29=1</td><td>Dihydroxyacetone</td><td>29(16,14)-30(15,15)</td><td>127.8563321</td><td>-5.64032</td><td>386.24425</td></tr>\n",
       "<tr><td>37ClOv=0</td><td>Chlorine monoxide</td><td>J=7/2-5/2,&amp;Omega;=3/2,F=2-2,l=e</td><td>127.8563487</td><td>-5.55501</td><td>10.5242</td></tr>\n",
       "<tr><td>CH2NH</td><td>Methanimine</td><td>2(0,2)-1(0,1),F=2-2</td><td>127.856477</td><td>0.0</td><td>9.20788</td></tr>\n",
       "<tr><td>CH2NH</td><td>Methanimine</td><td>2(0,2)-1(0,1),F=2-2</td><td>127.8564858</td><td>-5.35999</td><td>9.20742</td></tr>\n",
       "<tr><td>33SO</td><td>Sulfur Monoxide</td><td>3(3)-2(2),  F=7/2-7/2</td><td>127.856548</td><td>-5.50593</td><td>25.40698</td></tr>\n",
       "<tr><td>CH2NH</td><td>Methanimine</td><td>2(0,2)-1(0,1),F=2-2</td><td>127.8565535</td><td>-5.36952</td><td>9.20731</td></tr>\n",
       "<tr><td>CH2NH</td><td>Methanimine</td><td>2(0,2)-1(0,1),F=1-0</td><td>127.856571</td><td>0.0</td><td>9.20788</td></tr>\n",
       "<tr><td>CH2NH</td><td>Methanimine</td><td>2(0,2)-1(0,1),F=1-0</td><td>127.8565842</td><td>-5.01324</td><td>9.20742</td></tr>\n",
       "<tr><td>CH3CH2CN,v12=1-A</td><td>Ethyl Cyanide</td><td>21(2,20)-21(1,21)</td><td>127.8566351</td><td>-5.24138</td><td>871.97721</td></tr>\n",
       "<tr><td>CH2NH</td><td>Methanimine</td><td>2(0,2)-1(0,1),F=1-0</td><td>127.8566481</td><td>-5.02277</td><td>9.20731</td></tr>\n",
       "<tr><td>CH2NH</td><td>Methanimine</td><td>2(0,2)-1(0,1),F=2-1</td><td>127.856744</td><td>0.0</td><td>9.20789</td></tr>\n",
       "<tr><td>33SO</td><td>Sulfur Monoxide</td><td>3(3)-2(2),F=7/2-7/2</td><td>127.856767</td><td>0.0</td><td>25.40843</td></tr>\n",
       "<tr><td>CH2NH</td><td>Methanimine</td><td>2(0,2)-1(0,1)</td><td>127.856769</td><td>-4.76741</td><td>9.20789</td></tr>\n",
       "<tr><td>CH2NH</td><td>Methanimine</td><td>2(0,2)-1(0,1),F=2-1</td><td>127.8567698</td><td>-4.88289</td><td>9.20743</td></tr>\n",
       "<tr><td>CH2NH</td><td>Methanimine</td><td>2(0,2)-1(0,1),F=3-2</td><td>127.856795</td><td>0.0</td><td>9.20789</td></tr>\n",
       "<tr><td>CH2NH</td><td>Methanimine</td><td>2(0,2)-1(0,1)</td><td>127.8567952</td><td>-4.75801</td><td>9.20743</td></tr>\n",
       "<tr><td>CH2NH</td><td>Methanimine</td><td>2(0,2)-1(0,1),F=2-1</td><td>127.8568246</td><td>-4.89242</td><td>9.20732</td></tr>\n",
       "<tr><td>CH2NH</td><td>Methanimine</td><td>2(0,2)-1(0,1),F=3-2</td><td>127.8568268</td><td>-4.75801</td><td>9.20743</td></tr>\n",
       "<tr><td>CH2NH</td><td>Methanimine</td><td>2(0,2)-1(0,1),F=3-2</td><td>127.8568758</td><td>-4.76744</td><td>9.20732</td></tr>\n",
       "<tr><td>CH2NH</td><td>Methanimine</td><td>2(0,2)-1(0,1),F=1-2</td><td>127.856972</td><td>0.0</td><td>9.2079</td></tr>\n",
       "<tr><td>CH2NH</td><td>Methanimine</td><td>2(0,2)-1(0,1),F=1-2</td><td>127.8569824</td><td>-6.31424</td><td>9.20744</td></tr>\n",
       "<tr><td>Ga-n-C3H7OH</td><td>&lt;i&gt;n&lt;/i&gt;-Propanol</td><td>63(24,40)-62(25,38)</td><td>127.8571382</td><td>-6.03986</td><td>1179.74039</td></tr>\n",
       "<tr><td>Ga-n-C3H7OH</td><td>&lt;i&gt;n&lt;/i&gt;-Propanol</td><td>63(24,40)-62(25,37)</td><td>127.8571382</td><td>-5.96756</td><td>1179.74039</td></tr>\n",
       "<tr><td>Ga-n-C3H7OH</td><td>&lt;i&gt;n&lt;/i&gt;-Propanol</td><td>63(24,39)-62(25,38)</td><td>127.8571382</td><td>-5.96756</td><td>1179.74039</td></tr>\n",
       "<tr><td>Ga-n-C3H7OH</td><td>&lt;i&gt;n&lt;/i&gt;-Propanol</td><td>63(24,39)-62(25,37)</td><td>127.8571382</td><td>-6.03986</td><td>1179.74039</td></tr>\n",
       "<tr><td>CH2NH</td><td>Methanimine</td><td>2(0,2)-1(0,1),F=1-1</td><td>127.857239</td><td>0.0</td><td>9.20792</td></tr>\n",
       "<tr><td>CH2NH</td><td>Methanimine</td><td>2(0,2)-1(0,1),F=1-1</td><td>127.8572669</td><td>-5.13814</td><td>9.20745</td></tr>\n",
       "<tr><td>CH3C3N</td><td>2-Butynenitrile</td><td>31(13)-30(13)</td><td>127.85728</td><td>-3.6525</td><td>1359.83833</td></tr>\n",
       "<tr><td>CH3C3N</td><td>2-Butynenitrile</td><td>31(13)-30(13)</td><td>127.857287</td><td>-1.82435</td><td>1357.23632</td></tr>\n",
       "<tr><td>CH2NH</td><td>Methanimine</td><td>2(0,2)-1(0,1),F=1-1</td><td>127.857326</td><td>-5.14767</td><td>9.20734</td></tr>\n",
       "<tr><td>NH2CH2CH2OHv25=1</td><td>Aminoethanol</td><td>16(9,8)-17(7,11)</td><td>127.8575339</td><td>-7.84786</td><td>541.73578</td></tr>\n",
       "<tr><td>l-HC6N</td><td>Cyanobutadiynylmethylene</td><td>N=76-75,J=75-74</td><td>127.8576142</td><td>-3.49423</td><td>236.72129</td></tr>\n",
       "<tr><td>O79BrO</td><td>Bromine Dioxide</td><td>23(5,18)-23(4,19),J=47/2-47/2,F=23-23</td><td>127.8576844</td><td>-4.13085</td><td>221.76184</td></tr>\n",
       "<tr><td>O79BrO</td><td>Bromine Dioxide</td><td>23(5,18)-23(4,19),J=47/2-47/2,F=23-24</td><td>127.857809</td><td>-6.58245</td><td>221.76184</td></tr>\n",
       "<tr><td>O79BrO</td><td>Bromine Dioxide</td><td>23(5,18)-23(4,19),J=47/2-47/2,F=22-22</td><td>127.8580314</td><td>-4.12927</td><td>221.76013</td></tr>\n",
       "<tr><td>33SO</td><td>Sulfur Monoxide</td><td>3(3)-2(2),F=3/2-5/2</td><td>127.858309</td><td>0.0</td><td>25.4085</td></tr>\n",
       "<tr><td>AG-n-C4H9CN</td><td>n-Butyl cyanide</td><td>44(32,12)-43(32,11)</td><td>127.8583702</td><td>-4.11031</td><td>1088.19472</td></tr>\n",
       "<tr><td>AG-n-C4H9CN</td><td>n-Butyl cyanide</td><td>44(32,13)-43(32,12)</td><td>127.8583702</td><td>-4.11031</td><td>1088.19472</td></tr>\n",
       "<tr><td>aG&apos;g-CH3CHOHCH2OH</td><td>1,2-propanediol, aG&apos;g</td><td>61(4,57)-60(5,55)</td><td>127.8585279</td><td>-7.16481</td><td>561.678</td></tr>\n",
       "<tr><td>aG&apos;g-CH3CHOHCH2OH</td><td>1,2-propanediol, aG&apos;g</td><td>61(5,57)-60(6,55)</td><td>127.8585279</td><td>-7.16481</td><td>561.678</td></tr>\n",
       "<tr><td>O79BrO</td><td>Bromine Dioxide</td><td>23(5,18)-23(4,19),J=47/2-47/2,F=24-23</td><td>127.8588905</td><td>-6.58935</td><td>221.76189</td></tr>\n",
       "<tr><td>33SO</td><td>Sulfur Monoxide</td><td>3(3)-2(2),  F=3/2-5/2</td><td>127.8590128</td><td>-6.35969</td><td>25.40825</td></tr>\n",
       "<tr><td>O79BrO</td><td>Bromine Dioxide</td><td>23(5,18)-23(4,19),J=47/2-47/2,F=24-24</td><td>127.8590152</td><td>-4.13075</td><td>221.7619</td></tr>\n",
       "<tr><td>H2C(CN)2</td><td>Malononitrile</td><td>31(9,23)-32(8,24)</td><td>127.859029</td><td>-4.63728</td><td>202.72904</td></tr>\n",
       "</table></div>"
      ],
      "text/plain": [
       "<Table length=56>\n",
       "     Species             ChemicalName                        QNs                      Freq    log10_Aij    EU_K   \n",
       "      str18                 str24                           str37                   float64    float64   float64  \n",
       "------------------ ------------------------ ------------------------------------- ----------- --------- ----------\n",
       "       AA-n-C4H9CN          n-Butyl cyanide                   49(29,20)-48(29,19) 127.8548165  -4.04367  700.45171\n",
       "       AA-n-C4H9CN          n-Butyl cyanide                   49(29,21)-48(29,20) 127.8548165  -4.04367  700.45171\n",
       "            ClClOO         Chloryl chloride                   27(11,16)-27(10,18) 127.8554495  -5.00593   152.8732\n",
       "          HCCCH2OH        Propargyl Alcohol            42(16,26)-41(17,24),vt=1-0 127.8556644  -6.19927  761.77233\n",
       "          HCCCH2OH        Propargyl Alcohol            42(16,26)-41(17,24),vt=1-0 127.8556644  -6.19927  761.77233\n",
       "            C3H6O2           Hydroxyacetone                    17(3,14)-17(2,16)E 127.8558583  -7.57422   57.03782\n",
       "         CH2CH13CN            Vinyl Cyanide                    75(10,65)-76(9,68) 127.8559494  -4.82092 1507.83352\n",
       "      CHOCHOHCH2OH           Glyceraldehyde                   97(26,71)-97(25,73) 127.8560121  -4.78877 1282.25587\n",
       "NH2CH2CH2OHv25+v27             Aminoethanol                     13(1,12)-12(1,11) 127.8561271  -4.09678  633.14529\n",
       "              C3H8                  Propane                                   N/A 127.8562559  -8.36421  643.49721\n",
       "          37ClOv=0        Chlorine monoxide       J=7/2-5/2,&Omega;=3/2,F=2-2,l=f  127.856285  -5.55501    10.5242\n",
       " CH2OHCOCH2OHv29=1         Dihydroxyacetone                   29(16,13)-30(15,16) 127.8563321  -5.64032  386.24425\n",
       " CH2OHCOCH2OHv29=1         Dihydroxyacetone                   29(16,14)-30(15,15) 127.8563321  -5.64032  386.24425\n",
       "          37ClOv=0        Chlorine monoxide       J=7/2-5/2,&Omega;=3/2,F=2-2,l=e 127.8563487  -5.55501    10.5242\n",
       "             CH2NH              Methanimine                   2(0,2)-1(0,1),F=2-2  127.856477       0.0    9.20788\n",
       "             CH2NH              Methanimine                   2(0,2)-1(0,1),F=2-2 127.8564858  -5.35999    9.20742\n",
       "              33SO          Sulfur Monoxide                 3(3)-2(2),  F=7/2-7/2  127.856548  -5.50593   25.40698\n",
       "             CH2NH              Methanimine                   2(0,2)-1(0,1),F=2-2 127.8565535  -5.36952    9.20731\n",
       "             CH2NH              Methanimine                   2(0,2)-1(0,1),F=1-0  127.856571       0.0    9.20788\n",
       "             CH2NH              Methanimine                   2(0,2)-1(0,1),F=1-0 127.8565842  -5.01324    9.20742\n",
       "  CH3CH2CN,v12=1-A            Ethyl Cyanide                     21(2,20)-21(1,21) 127.8566351  -5.24138  871.97721\n",
       "             CH2NH              Methanimine                   2(0,2)-1(0,1),F=1-0 127.8566481  -5.02277    9.20731\n",
       "             CH2NH              Methanimine                   2(0,2)-1(0,1),F=2-1  127.856744       0.0    9.20789\n",
       "              33SO          Sulfur Monoxide                   3(3)-2(2),F=7/2-7/2  127.856767       0.0   25.40843\n",
       "             CH2NH              Methanimine                         2(0,2)-1(0,1)  127.856769  -4.76741    9.20789\n",
       "             CH2NH              Methanimine                   2(0,2)-1(0,1),F=2-1 127.8567698  -4.88289    9.20743\n",
       "             CH2NH              Methanimine                   2(0,2)-1(0,1),F=3-2  127.856795       0.0    9.20789\n",
       "             CH2NH              Methanimine                         2(0,2)-1(0,1) 127.8567952  -4.75801    9.20743\n",
       "             CH2NH              Methanimine                   2(0,2)-1(0,1),F=2-1 127.8568246  -4.89242    9.20732\n",
       "             CH2NH              Methanimine                   2(0,2)-1(0,1),F=3-2 127.8568268  -4.75801    9.20743\n",
       "             CH2NH              Methanimine                   2(0,2)-1(0,1),F=3-2 127.8568758  -4.76744    9.20732\n",
       "             CH2NH              Methanimine                   2(0,2)-1(0,1),F=1-2  127.856972       0.0     9.2079\n",
       "             CH2NH              Methanimine                   2(0,2)-1(0,1),F=1-2 127.8569824  -6.31424    9.20744\n",
       "       Ga-n-C3H7OH        <i>n</i>-Propanol                   63(24,40)-62(25,38) 127.8571382  -6.03986 1179.74039\n",
       "       Ga-n-C3H7OH        <i>n</i>-Propanol                   63(24,40)-62(25,37) 127.8571382  -5.96756 1179.74039\n",
       "       Ga-n-C3H7OH        <i>n</i>-Propanol                   63(24,39)-62(25,38) 127.8571382  -5.96756 1179.74039\n",
       "       Ga-n-C3H7OH        <i>n</i>-Propanol                   63(24,39)-62(25,37) 127.8571382  -6.03986 1179.74039\n",
       "             CH2NH              Methanimine                   2(0,2)-1(0,1),F=1-1  127.857239       0.0    9.20792\n",
       "             CH2NH              Methanimine                   2(0,2)-1(0,1),F=1-1 127.8572669  -5.13814    9.20745\n",
       "            CH3C3N          2-Butynenitrile                         31(13)-30(13)   127.85728   -3.6525 1359.83833\n",
       "            CH3C3N          2-Butynenitrile                         31(13)-30(13)  127.857287  -1.82435 1357.23632\n",
       "             CH2NH              Methanimine                   2(0,2)-1(0,1),F=1-1  127.857326  -5.14767    9.20734\n",
       "  NH2CH2CH2OHv25=1             Aminoethanol                      16(9,8)-17(7,11) 127.8575339  -7.84786  541.73578\n",
       "            l-HC6N Cyanobutadiynylmethylene                       N=76-75,J=75-74 127.8576142  -3.49423  236.72129\n",
       "            O79BrO          Bromine Dioxide 23(5,18)-23(4,19),J=47/2-47/2,F=23-23 127.8576844  -4.13085  221.76184\n",
       "            O79BrO          Bromine Dioxide 23(5,18)-23(4,19),J=47/2-47/2,F=23-24  127.857809  -6.58245  221.76184\n",
       "            O79BrO          Bromine Dioxide 23(5,18)-23(4,19),J=47/2-47/2,F=22-22 127.8580314  -4.12927  221.76013\n",
       "              33SO          Sulfur Monoxide                   3(3)-2(2),F=3/2-5/2  127.858309       0.0    25.4085\n",
       "       AG-n-C4H9CN          n-Butyl cyanide                   44(32,12)-43(32,11) 127.8583702  -4.11031 1088.19472\n",
       "       AG-n-C4H9CN          n-Butyl cyanide                   44(32,13)-43(32,12) 127.8583702  -4.11031 1088.19472\n",
       " aG'g-CH3CHOHCH2OH    1,2-propanediol, aG'g                     61(4,57)-60(5,55) 127.8585279  -7.16481    561.678\n",
       " aG'g-CH3CHOHCH2OH    1,2-propanediol, aG'g                     61(5,57)-60(6,55) 127.8585279  -7.16481    561.678\n",
       "            O79BrO          Bromine Dioxide 23(5,18)-23(4,19),J=47/2-47/2,F=24-23 127.8588905  -6.58935  221.76189\n",
       "              33SO          Sulfur Monoxide                 3(3)-2(2),  F=3/2-5/2 127.8590128  -6.35969   25.40825\n",
       "            O79BrO          Bromine Dioxide 23(5,18)-23(4,19),J=47/2-47/2,F=24-24 127.8590152  -4.13075   221.7619\n",
       "          H2C(CN)2            Malononitrile                     31(9,23)-32(8,24)  127.859029  -4.63728  202.72904"
      ]
     },
     "execution_count": 82,
     "metadata": {},
     "output_type": "execute_result"
    }
   ],
   "source": [
    "from astroquery.splatalogue import Splatalogue, utils\n",
    "utils.minimize_table(Splatalogue.query_lines(f1*u.GHz*(1-5/3e5), f1*(1+5/3e5)*u.GHz))"
   ]
  },
  {
   "cell_type": "code",
   "execution_count": 23,
   "metadata": {},
   "outputs": [],
   "source": [
    "import matplotlib.pyplot as plt\n",
    "\n",
    "SM_SIZE = 12\n",
    "MD_SIZE = 18\n",
    "LG_SIZE = 22\n",
    "\n",
    "plt.rc('font', size = MD_SIZE)          # controls default text sizes\n",
    "plt.rc('axes', titlesize = LG_SIZE)     # fontsize of the axes title\n",
    "plt.rc('axes', labelsize = MD_SIZE)     # fontsize of the x and y labels\n",
    "plt.rc('xtick', labelsize = MD_SIZE)    # fontsize of the tick labels\n",
    "plt.rc('ytick', labelsize = MD_SIZE)    # fontsize of the tick labels\n",
    "plt.rc('legend', fontsize = SM_SIZE)    # legend fontsize\n",
    "plt.rc('figure', titlesize = LG_SIZE)   # fontsize of the figure title"
   ]
  },
  {
   "cell_type": "code",
   "execution_count": 27,
   "metadata": {},
   "outputs": [
    {
     "data": {
      "image/png": "[encoded data removed]",
      "text/plain": [
       "<Figure size 432x288 with 2 Axes>"
      ]
     },
     "metadata": {
      "needs_background": "light"
     },
     "output_type": "display_data"
    }
   ],
   "source": [
    "ax = plt.subplot(projection = m0.wcs)\n",
    "plt.plot(x, y, marker = 'x', color = 'r')\n",
    "im = ax.imshow(m0.value, origin='lower', cmap='inferno')\n",
    "cbar = plt.colorbar(im)\n",
    "cbar.set_label(f'Integrated Intensity [{m0.unit}]')\n",
    "ax.set_ylabel('Declination')\n",
    "ax.set_xlabel('Right Ascension')"
   ]
  },
  {
   "cell_type": "code",
   "execution_count": 28,
   "metadata": {},
   "outputs": [
    {
     "name": "stdout",
     "output_type": "stream",
     "text": [
      "[########################################] | 100% Completed | 166.37 s\n",
      "[########################################] | 100% Completed | 166.46 s\n",
      "[########################################] | 100% Completed | 160.81 s\n",
      "[########################################] | 100% Completed | 160.90 s\n"
     ]
    }
   ],
   "source": [
    "spectrum = smoothed_cube[:, y, x].to(u.K)"
   ]
  },
  {
   "cell_type": "code",
   "execution_count": 29,
   "metadata": {},
   "outputs": [
    {
     "data": {
      "image/png": "[encoded data removed]",
      "text/plain": [
       "<Figure size 2160x576 with 1 Axes>"
      ]
     },
     "metadata": {
      "needs_background": "light"
     },
     "output_type": "display_data"
    }
   ],
   "source": [
    "import numpy as np\n",
    "\n",
    "fig = plt.figure(figsize = (30, 8))\n",
    "\n",
    "plt.plot(smoothed_cube.spectral_axis.to(u.GHz), np.array(spectrum), linestyle = '-', color = 'k', linewidth = 1, drawstyle = 'steps-mid')\n",
    "plt.xlabel(f\"Frequency [{smoothed_cube.spectral_axis.to(u.GHz).unit}]\")\n",
    "plt.ylabel(f\"Brightness temperature [{spectrum.unit}]\")\n",
    "plt.xlim(smoothed_cube.spectral_extrema.to(u.GHz).value)\n",
    "plt.title(f\"{freq_spws[ind]} data spectrum\")\n",
    "plt.show()"
   ]
  },
  {
   "cell_type": "markdown",
   "metadata": {},
   "source": [
    "### 4. Generate XCLASS model of the same spectral window"
   ]
  },
  {
   "cell_type": "code",
   "execution_count": 30,
   "metadata": {},
   "outputs": [],
   "source": [
    "# Get path of XCLASS directory\n",
    "import os\n",
    "import sys\n",
    "XCLASSRootDir = str(os.environ.get('XCLASSRootDir', '')).strip()\n",
    "XCLASSRootDir = os.path.normpath(XCLASSRootDir) + \"/\"\n",
    "\n",
    "# Extend sys.path variable\n",
    "NewPath = XCLASSRootDir + \"build_tasks/\"\n",
    "if (not NewPath in sys.path):\n",
    "    sys.path.append(NewPath)\n",
    "\n",
    "import task_myXCLASS"
   ]
  },
  {
   "cell_type": "code",
   "execution_count": 31,
   "metadata": {},
   "outputs": [],
   "source": [
    "# source_size =  0.33 # total guess, but based on Dan's data? also, not used\n",
    "tkin = 151 # 7.9842254347e+01\n",
    "Ntot = 5.0e+13 # 10**N_tot # 1.5061155735e+14 # 1.0061155735e+16\n",
    "# vwidth_fwhm = 4.21\n",
    "# vwidth = vwidth_fwhm / np.sqrt(8*np.log(2))\n",
    "# vcen = 38.0\n",
    "# tbg = 0"
   ]
  },
  {
   "cell_type": "code",
   "execution_count": 32,
   "metadata": {},
   "outputs": [],
   "source": [
    "# Define path and name of molfit file\n",
    "# DEFAULT MolfitsFileName = LocalPath + \"files/my_molecules.molfit\"\n",
    "LocalPath = os.getcwd() + \"/\"\n",
    "\n",
    "MolfitsFileName = LocalPath + 'my_molecules-tout.molfit'\n",
    "\n",
    "# def set_xclass_parameters(source_size=source_size, tkin=tkin, Ntot=Ntot, vwidth_fwhm=vwidth_fwhm, vcen=vcen, filename=MolfitsFileName):\n",
    "#     with open(filename, \"w\") as fh:\n",
    "#         fh.write(f\"\"\"\n",
    "# %============================================================================================================================\n",
    "# %\n",
    "# % define molecules and their components:\n",
    "# %\n",
    "# %============================================================================================================================\n",
    "# %    source size:                 T_kin:               N_tot:            V_width:                V_off:   CFFlag:    keyword:\n",
    "# %       [arcsec]:                   [K]:              [cm-2]:            [km /s]:              [km /s]:       []:         []:\n",
    "# CH3CN;v=0;           1\n",
    "#  {source_size}       {tkin}     {Ntot}     {vwidth_fwhm}    {vcen}         c\n",
    "# \"\"\")"
   ]
  },
  {
   "cell_type": "code",
   "execution_count": 33,
   "metadata": {},
   "outputs": [],
   "source": [
    "# define freq. step (in MHz)\n",
    "FreqStep = 0.1\n",
    "\n",
    "# define beam minor axis length (in arsec)\n",
    "BMIN = smoothed_cube.beam.minor.to(u.arcsec).value # None\n",
    "\n",
    "# define beam major axis length (in arsec)\n",
    "BMAJ = smoothed_cube.beam.major.to(u.arcsec).value # None\n",
    "\n",
    "# define beam position angle (in degree)\n",
    "BPA = smoothed_cube.beam.pa.to(u.deg).value # None\n",
    "\n",
    "# depending on parameter \"Inter_Flag\" define beam size (in arcsec)\n",
    "# (Inter_Flag = True) or size of telescope (in m) (Inter_Flag = False)\n",
    "TelescopeSize = np.abs(BMIN**2 - BMAJ**2)**0.5 # arcsec # 1000.0 # meters\n",
    "\n",
    "# interferometric data?\n",
    "Inter_Flag = True\n",
    "\n",
    "# define red shift\n",
    "Redshift = None\n",
    "\n",
    "# BACKGROUND: describe continuum with tBack and tslope only\n",
    "t_back_flag = True\n",
    "\n",
    "# BACKGROUND: define background temperature (in K)\n",
    "tBack = 0.0\n",
    "\n",
    "# BACKGROUND: define temperature slope (dimensionless)\n",
    "tslope = 0.0\n",
    "\n",
    "# BACKGROUND: define path and name of ASCII file describing continuum as function\n",
    "#             of frequency\n",
    "BackgroundFileName = \"\"\n",
    "\n",
    "# DUST: define hydrogen column density (in cm^(-2))\n",
    "N_H = 1.e22\n",
    "\n",
    "# DUST: define spectral index for dust (dimensionless)\n",
    "beta_dust = 0.0\n",
    "\n",
    "# DUST: define kappa at 1.3 mm (cm^(2) g^(-1))\n",
    "kappa_1300 = 0.0\n",
    "\n",
    "# DUST: define path and name of ASCII file describing dust opacity as\n",
    "#       function of frequency\n",
    "DustFileName = \"\"\n",
    "\n",
    "# FREE-FREE: define electronic temperature (in K)\n",
    "Te_ff = None\n",
    "\n",
    "# FREE-FREE: define emission measure (in pc cm^(-6))\n",
    "EM_ff = None\n",
    "\n",
    "# SYNCHROTRON: define kappa of energy spectrum of electrons (electrons m^(−3) GeV^(-1))\n",
    "kappa_sync = None\n",
    "\n",
    "# SYNCHROTRON: define magnetic field (in Gauss)\n",
    "B_sync = None\n",
    "\n",
    "# SYNCHROTRON: energy spectral index (dimensionless)\n",
    "p_sync = None\n",
    "\n",
    "# SYNCHROTRON: thickness of slab (in AU)\n",
    "l_sync = None\n",
    "\n",
    "# PHEN-CONT: define phenomenological function which is used to describe\n",
    "#            the continuum\n",
    "ContPhenFuncID = None\n",
    "\n",
    "# PHEN-CONT: define first parameter for phenomenological function\n",
    "ContPhenFuncParam1 = None\n",
    "\n",
    "# PHEN-CONT: define second parameter for phenomenological function\n",
    "ContPhenFuncParam2 = None\n",
    "\n",
    "# PHEN-CONT: define third parameter for phenomenological function\n",
    "ContPhenFuncParam3 = None\n",
    "\n",
    "# PHEN-CONT: define fourth parameter for phenomenological function\n",
    "ContPhenFuncParam4 = None\n",
    "\n",
    "# PHEN-CONT: define fifth parameter for phenomenological function\n",
    "ContPhenFuncParam5 = None\n",
    "\n",
    "# use iso ratio file?\n",
    "iso_flag = True\n",
    "\n",
    "# define path and name of iso ratio file\n",
    "#DEFAULT IsoTableFileName = LocalPath + \"files/my_isonames.txt\"\n",
    "IsoTableFileName = LocalPath + \"my_isonames.txt\"\n",
    "\n",
    "# define path and name of file describing Non-LTE parameters\n",
    "CollisionFileName = \"\"\n",
    "\n",
    "# define number of pixels in x-direction (used for sub-beam description)\n",
    "NumModelPixelXX = 100\n",
    "\n",
    "# define number of pixels in y-direction (used for sub-beam description)\n",
    "NumModelPixelYY = 100\n",
    "\n",
    "# take local-overlap into account or not\n",
    "LocalOverlapFlag = False\n",
    "\n",
    "# disable sub-beam description\n",
    "NoSubBeamFlag = True\n",
    "\n",
    "# define path and name of database file\n",
    "dbFilename = \"\"\n",
    "\n",
    "# define rest freq. (in MHz)\n",
    "RestFreq = 0.0\n",
    "\n",
    "# define v_lsr (in km/s)\n",
    "vLSR = 0.0"
   ]
  },
  {
   "cell_type": "code",
   "execution_count": 48,
   "metadata": {},
   "outputs": [],
   "source": [
    "import io\n",
    "from contextlib import redirect_stdout\n",
    "\n",
    "def myxclass_call(FreqMin=1e3, FreqMax=1e4, verbose=False):\n",
    "    ## call myXCLASS function\n",
    "    print(MolfitsFileName)\n",
    "    with io.StringIO() as buf, redirect_stdout(buf):\n",
    "        modeldata, log, TransEnergies, IntOpt, JobDir = task_myXCLASS.myXCLASS(\n",
    "                                                    FreqMin, FreqMax, FreqStep,\n",
    "                                                    TelescopeSize, BMIN, BMAJ,\n",
    "                                                    BPA, Inter_Flag, Redshift,\n",
    "                                                    t_back_flag, tBack, tslope,\n",
    "                                                    BackgroundFileName,\n",
    "                                                    N_H, beta_dust, kappa_1300,\n",
    "                                                    DustFileName, Te_ff, EM_ff,\n",
    "                                                    kappa_sync, B_sync, p_sync,\n",
    "                                                    l_sync, ContPhenFuncID,\n",
    "                                                    ContPhenFuncParam1,\n",
    "                                                    ContPhenFuncParam2,\n",
    "                                                    ContPhenFuncParam3,\n",
    "                                                    ContPhenFuncParam4,\n",
    "                                                    ContPhenFuncParam5,\n",
    "                                                    MolfitsFileName, iso_flag,\n",
    "                                                    IsoTableFileName,\n",
    "                                                    CollisionFileName,\n",
    "                                                    NumModelPixelXX,\n",
    "                                                    NumModelPixelYY,\n",
    "                                                    LocalOverlapFlag,\n",
    "                                                    NoSubBeamFlag,\n",
    "                                                    dbFilename,\n",
    "                                                    RestFreq, vLSR)\n",
    "        output = buf.getvalue()\n",
    "    if verbose:\n",
    "        print(output)\n",
    "        \n",
    "    return modeldata, log, TransEnergies, IntOpt, JobDir"
   ]
  },
  {
   "cell_type": "code",
   "execution_count": 35,
   "metadata": {},
   "outputs": [],
   "source": [
    "# define min. freq. (in MHz)\n",
    "FreqMin = np.min(spectrum.spectral_axis.to(u.MHz)).value\n",
    "# define max. freq. (in MHz)\n",
    "FreqMax = np.max(spectrum.spectral_axis.to(u.MHz)).value"
   ]
  },
  {
   "cell_type": "code",
   "execution_count": 36,
   "metadata": {},
   "outputs": [],
   "source": [
    "# # set_xclass_parameters() # The molfit file is already created, I don't want to mess with it; to run this, need to uncomment function definition a few cells ago\n",
    "# modeldata, log, TransEnergies, IntOpt, JobDir = myxclass_call(FreqMin=FreqMin, FreqMax=FreqMax)"
   ]
  },
  {
   "cell_type": "code",
   "execution_count": 37,
   "metadata": {},
   "outputs": [],
   "source": [
    "# fig = plt.figure(figsize = (30, 8))\n",
    "\n",
    "# plt.plot((modeldata[:,0]*u.MHz).to(u.GHz), modeldata[:,1], linestyle = '-', color = 'r', linewidth = 1, drawstyle = 'steps-mid')\n",
    "# plt.xlabel(f\"Frequency [{(modeldata[:,0]*u.MHz).to(u.GHz).unit}]\")\n",
    "# plt.ylabel(f\"Brightness temperature [{spectrum.unit}]\")\n",
    "# plt.xlim(smoothed_cube.spectral_extrema.to(u.GHz).value)\n",
    "# plt.title(f\"{freq_spws[ind]} model spectrum, $T$ = {tkin:.1f} K, $\\log_{{10}}(N_{{tot}})$ = {np.log10(Ntot):.2f}\") # y = 0.92\n",
    "# plt.show()"
   ]
  },
  {
   "cell_type": "markdown",
   "metadata": {},
   "source": [
    "### 5. Overplot our data and the XCLASS model"
   ]
  },
  {
   "cell_type": "code",
   "execution_count": 38,
   "metadata": {},
   "outputs": [],
   "source": [
    "# Preliminary continuum subtraction\n",
    "spectrum_contsub = np.array(spectrum) - np.median(np.array(spectrum))"
   ]
  },
  {
   "cell_type": "code",
   "execution_count": 39,
   "metadata": {},
   "outputs": [],
   "source": [
    "# fig = plt.figure(figsize = (30, 8))\n",
    "\n",
    "# plt.plot(smoothed_cube.spectral_axis.to(u.GHz), spectrum_contsub, linestyle = '-', color = 'k', linewidth = 0.75, drawstyle = 'steps-mid', \n",
    "#          label = \"Data\")\n",
    "# plt.plot((modeldata[:,0]*u.MHz).to(u.GHz), modeldata[:,1], linestyle = '--', color = 'r', linewidth = 1, drawstyle = 'steps-mid', \n",
    "#          label = \"Model\")\n",
    "# plt.legend(loc='best')\n",
    "# plt.xlabel(f\"Frequency [{smoothed_cube.spectral_axis.to(u.GHz).unit}]\")\n",
    "# plt.ylabel(f\"Brightness temperature [{spectrum.unit}]\")\n",
    "# plt.xlim(smoothed_cube.spectral_extrema.to(u.GHz).value)\n",
    "# plt.title(f\"{freq_spws[ind]} data and model comparison, $T$ = {tkin:.1f} K, $\\log_{{10}}(N_{{tot}})$ = {np.log10(Ntot):.2f}\") # y = 0.92\n",
    "# plt.show()"
   ]
  },
  {
   "cell_type": "markdown",
   "metadata": {},
   "source": [
    "### 6. Repeat, but make a model for each molecule separately"
   ]
  },
  {
   "cell_type": "code",
   "execution_count": 40,
   "metadata": {},
   "outputs": [],
   "source": [
    "import glob\n",
    "MolfitsFileNames = glob.glob(LocalPath + 'individuals/*.molfit')"
   ]
  },
  {
   "cell_type": "code",
   "execution_count": 52,
   "metadata": {},
   "outputs": [
    {
     "data": {
      "text/plain": [
       "'/blue/adamginsburg/abulatek/brick/first_results/lots_of_plotting/all/individuals/HC3Nv=0.molfit'"
      ]
     },
     "execution_count": 52,
     "metadata": {},
     "output_type": "execute_result"
    }
   ],
   "source": [
    "MolfitsFileNames[13]"
   ]
  },
  {
   "cell_type": "code",
   "execution_count": 53,
   "metadata": {},
   "outputs": [
    {
     "name": "stdout",
     "output_type": "stream",
     "text": [
      "/blue/adamginsburg/abulatek/brick/first_results/lots_of_plotting/all/individuals/HC3Nv=0.molfit\n",
      " \n",
      "Reading command line parameters .. done!\n",
      " \n",
      "Command line arguments:\n",
      "  First frequency:                  1.2673291597E+05\n",
      "  Last frequency:                   1.2860748200E+05\n",
      "  Stepsize (resolution):            1.0000000000E-01\n",
      "  BMIN:                             1.3767548341E+00\n",
      "  BMAJ:                             1.6945618869E+00\n",
      "  BPA:                              9.6322827959E+01\n",
      "  Interferrometer flag:             T\n",
      "  v_LSR:                            0.0000000000E+00\n",
      "  Background temperature flag:      T\n",
      "  Background Temperature:           0.0000000000E+00\n",
      "  Temperature Slope:                0.0000000000E+00\n",
      "  N_H:                              1.0000000000E+22\n",
      "  beta dust:                        0.0000000000E+00\n",
      "  kappa:                            0.0000000000E+00\n",
      "  NumModelPixelXX:                  100\n",
      "  NumModelPixelYY:                  100\n",
      "  Local-overlap flag:               F\n",
      "  No sub-beam flag:                 T\n",
      "  Path and name of instance file:   \"parameter.xml\"\n",
      "  Iso flag:                         T\n",
      "  Path and name of database file:   \"/orange/adamginsburg/software/XCLASS-Interface/Database/cdms_sqlite.db\"\n",
      " \n",
      " \n",
      "Reading parameters from file .. done!\n"
     ]
    },
    {
     "name": "stderr",
     "output_type": "stream",
     "text": [
      " \n",
      " \n",
      "  Error in subroutine GetmyXCLASSParameter:\n",
      "    The given molfit file contains neither a definition of a cf-flag\n",
      "    nor a definition of a distance!\n",
      " \n",
      "    Please correct the molfit file and restart the program!\n",
      " \n",
      "STOP Program aborted! Please restart the program!\n"
     ]
    }
   ],
   "source": [
    "MolfitsFileName = '/blue/adamginsburg/abulatek/brick/first_results/lots_of_plotting/all/individuals/HC3Nv=0.molfit'\n",
    "modeldata, log, TransEnergies, IntOpt, JobDir = myxclass_call(FreqMin=FreqMin, FreqMax=FreqMax)"
   ]
  },
  {
   "cell_type": "code",
   "execution_count": 41,
   "metadata": {
    "collapsed": true,
    "jupyter": {
     "outputs_hidden": true
    }
   },
   "outputs": [
    {
     "name": "stdout",
     "output_type": "stream",
     "text": [
      "/blue/adamginsburg/abulatek/brick/first_results/lots_of_plotting/all/individuals/HCNv=0.molfit\n",
      " \n",
      "Reading command line parameters .. done!\n",
      " \n",
      "Command line arguments:\n",
      "  First frequency:                  1.2673291597E+05\n",
      "  Last frequency:                   1.2860748200E+05\n",
      "  Stepsize (resolution):            1.0000000000E-01\n",
      "  BMIN:                             1.3767548341E+00\n",
      "  BMAJ:                             1.6945618869E+00\n",
      "  BPA:                              9.6322827959E+01\n",
      "  Interferrometer flag:             T\n",
      "  v_LSR:                            0.0000000000E+00\n",
      "  Background temperature flag:      T\n",
      "  Background Temperature:           0.0000000000E+00\n",
      "  Temperature Slope:                0.0000000000E+00\n",
      "  N_H:                              1.0000000000E+22\n",
      "  beta dust:                        0.0000000000E+00\n",
      "  kappa:                            0.0000000000E+00\n",
      "  NumModelPixelXX:                  100\n",
      "  NumModelPixelYY:                  100\n",
      "  Local-overlap flag:               F\n",
      "  No sub-beam flag:                 T\n",
      "  Path and name of instance file:   \"parameter.xml\"\n",
      "  Iso flag:                         T\n",
      "  Path and name of database file:   \"/orange/adamginsburg/software/XCLASS-Interface/Database/cdms_sqlite.db\"\n",
      " \n",
      " \n",
      "Reading parameters from file .. done!\n",
      "/blue/adamginsburg/abulatek/brick/first_results/lots_of_plotting/all/individuals/HDCOv=0.molfit\n"
     ]
    },
    {
     "name": "stderr",
     "output_type": "stream",
     "text": [
      " \n",
      " \n",
      "  Error in subroutine GetmyXCLASSParameter:\n",
      "    The given molfit file contains neither a definition of a cf-flag\n",
      "    nor a definition of a distance!\n",
      " \n",
      "    Please correct the molfit file and restart the program!\n",
      " \n",
      "STOP Program aborted! Please restart the program!\n"
     ]
    },
    {
     "name": "stdout",
     "output_type": "stream",
     "text": [
      " \n",
      "Reading command line parameters .. done!\n",
      " \n",
      "Command line arguments:\n",
      "  First frequency:                  1.2673291597E+05\n",
      "  Last frequency:                   1.2860748200E+05\n",
      "  Stepsize (resolution):            1.0000000000E-01\n",
      "  BMIN:                             1.3767548341E+00\n",
      "  BMAJ:                             1.6945618869E+00\n",
      "  BPA:                              9.6322827959E+01\n",
      "  Interferrometer flag:             T\n",
      "  v_LSR:                            0.0000000000E+00\n",
      "  Background temperature flag:      T\n",
      "  Background Temperature:           0.0000000000E+00\n",
      "  Temperature Slope:                0.0000000000E+00\n",
      "  N_H:                              1.0000000000E+22\n",
      "  beta dust:                        0.0000000000E+00\n",
      "  kappa:                            0.0000000000E+00\n",
      "  NumModelPixelXX:                  100\n",
      "  NumModelPixelYY:                  100\n",
      "  Local-overlap flag:               F\n",
      "  No sub-beam flag:                 T\n",
      "  Path and name of instance file:   \"parameter.xml\"\n",
      "  Iso flag:                         T\n",
      "  Path and name of database file:   \"/orange/adamginsburg/software/XCLASS-Interface/Database/cdms_sqlite.db\"\n",
      " \n",
      " \n",
      "Reading parameters from file .. done!\n",
      " \n",
      " \n",
      "Sub-beam description is NOT used!\n",
      " \n",
      " \n",
      "Do NOT take local-overlap into account!\n",
      " \n",
      " \n",
      "              Reading partition functions for all molecules from sqlite3 database .. done!\n",
      " \n",
      "                Number of entries =          1\n",
      "                Molecule in database: HDCO;v=0;\n",
      " \n",
      " \n",
      "              Reading parameters for radiative transitions for all molecules from sqlite database .. done!\n",
      " \n",
      " \n",
      "                Number of transitions for each frequency range and molecule:\n",
      " \n",
      "                Frequency range: 1.267329159726668E+05 MHz - 1.286074820031679E+05 MHz:\n",
      "                  Number of transitions for molecule \"HDCO;v=0;\":                                  23\n",
      " \n",
      " \n",
      "Compute intensity .. done!\n",
      " \n",
      "myXCLASS finished!\n",
      "/blue/adamginsburg/abulatek/brick/first_results/lots_of_plotting/all/individuals/HCO+v=0.molfit\n",
      " \n",
      "Reading command line parameters .. done!\n",
      " \n",
      "Command line arguments:\n",
      "  First frequency:                  1.2673291597E+05\n",
      "  Last frequency:                   1.2860748200E+05\n",
      "  Stepsize (resolution):            1.0000000000E-01\n",
      "  BMIN:                             1.3767548341E+00\n",
      "  BMAJ:                             1.6945618869E+00\n",
      "  BPA:                              9.6322827959E+01\n",
      "  Interferrometer flag:             T\n",
      "  v_LSR:                            0.0000000000E+00\n",
      "  Background temperature flag:      T\n",
      "  Background Temperature:           0.0000000000E+00\n",
      "  Temperature Slope:                0.0000000000E+00\n",
      "  N_H:                              1.0000000000E+22\n",
      "  beta dust:                        0.0000000000E+00\n",
      "  kappa:                            0.0000000000E+00\n",
      "  NumModelPixelXX:                  100\n",
      "  NumModelPixelYY:                  100\n",
      "  Local-overlap flag:               F\n",
      "  No sub-beam flag:                 T\n",
      "  Path and name of instance file:   \"parameter.xml\"\n",
      "  Iso flag:                         T\n",
      "  Path and name of database file:   \"/orange/adamginsburg/software/XCLASS-Interface/Database/cdms_sqlite.db\"\n",
      " \n",
      " \n",
      "Reading parameters from file .. done!\n",
      "/blue/adamginsburg/abulatek/brick/first_results/lots_of_plotting/all/individuals/13COv=0.molfit\n"
     ]
    },
    {
     "name": "stderr",
     "output_type": "stream",
     "text": [
      " \n",
      " \n",
      "  Error in subroutine GetmyXCLASSParameter:\n",
      "    The given molfit file contains neither a definition of a cf-flag\n",
      "    nor a definition of a distance!\n",
      " \n",
      "    Please correct the molfit file and restart the program!\n",
      " \n",
      "STOP Program aborted! Please restart the program!\n"
     ]
    },
    {
     "name": "stdout",
     "output_type": "stream",
     "text": [
      " \n",
      "Reading command line parameters .. done!\n",
      " \n",
      "Command line arguments:\n",
      "  First frequency:                  1.2673291597E+05\n",
      "  Last frequency:                   1.2860748200E+05\n",
      "  Stepsize (resolution):            1.0000000000E-01\n",
      "  BMIN:                             1.3767548341E+00\n",
      "  BMAJ:                             1.6945618869E+00\n",
      "  BPA:                              9.6322827959E+01\n",
      "  Interferrometer flag:             T\n",
      "  v_LSR:                            0.0000000000E+00\n",
      "  Background temperature flag:      T\n",
      "  Background Temperature:           0.0000000000E+00\n",
      "  Temperature Slope:                0.0000000000E+00\n",
      "  N_H:                              1.0000000000E+22\n",
      "  beta dust:                        0.0000000000E+00\n",
      "  kappa:                            0.0000000000E+00\n",
      "  NumModelPixelXX:                  100\n",
      "  NumModelPixelYY:                  100\n",
      "  Local-overlap flag:               F\n",
      "  No sub-beam flag:                 T\n",
      "  Path and name of instance file:   \"parameter.xml\"\n",
      "  Iso flag:                         T\n",
      "  Path and name of database file:   \"/orange/adamginsburg/software/XCLASS-Interface/Database/cdms_sqlite.db\"\n",
      " \n",
      " \n",
      "Reading parameters from file .. done!\n"
     ]
    },
    {
     "name": "stderr",
     "output_type": "stream",
     "text": [
      " \n",
      " \n",
      "  Error in subroutine GetmyXCLASSParameter:\n",
      "    The given molfit file contains neither a definition of a cf-flag\n",
      "    nor a definition of a distance!\n",
      " \n",
      "    Please correct the molfit file and restart the program!\n",
      " \n",
      "STOP Program aborted! Please restart the program!\n"
     ]
    },
    {
     "name": "stdout",
     "output_type": "stream",
     "text": [
      "/blue/adamginsburg/abulatek/brick/first_results/lots_of_plotting/all/individuals/CCCSv=0.molfit\n",
      " \n",
      "Reading command line parameters .. done!\n",
      " \n",
      "Command line arguments:\n",
      "  First frequency:                  1.2673291597E+05\n",
      "  Last frequency:                   1.2860748200E+05\n",
      "  Stepsize (resolution):            1.0000000000E-01\n",
      "  BMIN:                             1.3767548341E+00\n",
      "  BMAJ:                             1.6945618869E+00\n",
      "  BPA:                              9.6322827959E+01\n",
      "  Interferrometer flag:             T\n",
      "  v_LSR:                            0.0000000000E+00\n",
      "  Background temperature flag:      T\n",
      "  Background Temperature:           0.0000000000E+00\n",
      "  Temperature Slope:                0.0000000000E+00\n",
      "  N_H:                              1.0000000000E+22\n",
      "  beta dust:                        0.0000000000E+00\n",
      "  kappa:                            0.0000000000E+00\n",
      "  NumModelPixelXX:                  100\n",
      "  NumModelPixelYY:                  100\n",
      "  Local-overlap flag:               F\n",
      "  No sub-beam flag:                 T\n",
      "  Path and name of instance file:   \"parameter.xml\"\n",
      "  Iso flag:                         T\n",
      "  Path and name of database file:   \"/orange/adamginsburg/software/XCLASS-Interface/Database/cdms_sqlite.db\"\n",
      " \n",
      " \n",
      "Reading parameters from file .. done!\n",
      " \n",
      " \n",
      "Sub-beam description is NOT used!\n",
      " \n",
      " \n",
      "Do NOT take local-overlap into account!\n",
      " \n",
      " \n",
      "              Reading partition functions for all molecules from sqlite3 database .. done!\n",
      " \n",
      "                Number of entries =          1\n",
      "                Molecule in database: CCCS;v=0;\n",
      " \n",
      " \n",
      "              Reading parameters for radiative transitions for all molecules from sqlite database .. done!\n",
      " \n",
      " \n",
      "                Number of transitions for each frequency range and molecule:\n",
      " \n",
      "                Frequency range: 1.267329159726668E+05 MHz - 1.286074820031679E+05 MHz:\n",
      "                  Number of transitions for molecule \"CCCS;v=0;\":                                   5\n",
      " \n",
      " \n",
      "Compute intensity .. done!\n",
      " \n",
      "myXCLASS finished!\n",
      "/blue/adamginsburg/abulatek/brick/first_results/lots_of_plotting/all/individuals/NH3v=0.molfit\n",
      " \n",
      "Reading command line parameters .. done!\n",
      " \n",
      "Command line arguments:\n",
      "  First frequency:                  1.2673291597E+05\n",
      "  Last frequency:                   1.2860748200E+05\n",
      "  Stepsize (resolution):            1.0000000000E-01\n",
      "  BMIN:                             1.3767548341E+00\n",
      "  BMAJ:                             1.6945618869E+00\n",
      "  BPA:                              9.6322827959E+01\n",
      "  Interferrometer flag:             T\n",
      "  v_LSR:                            0.0000000000E+00\n",
      "  Background temperature flag:      T\n",
      "  Background Temperature:           0.0000000000E+00\n",
      "  Temperature Slope:                0.0000000000E+00\n",
      "  N_H:                              1.0000000000E+22\n",
      "  beta dust:                        0.0000000000E+00\n",
      "  kappa:                            0.0000000000E+00\n",
      "  NumModelPixelXX:                  100\n",
      "  NumModelPixelYY:                  100\n",
      "  Local-overlap flag:               F\n",
      "  No sub-beam flag:                 T\n",
      "  Path and name of instance file:   \"parameter.xml\"\n",
      "  Iso flag:                         T\n",
      "  Path and name of database file:   \"/orange/adamginsburg/software/XCLASS-Interface/Database/cdms_sqlite.db\"\n",
      " \n",
      " \n",
      "Reading parameters from file .. done!\n",
      " \n",
      " \n",
      "Sub-beam description is NOT used!\n",
      " \n",
      " \n",
      "Do NOT take local-overlap into account!\n",
      " \n",
      " \n",
      "              Reading partition functions for all molecules from sqlite3 database .. done!\n",
      " \n",
      "                Number of entries =          1\n",
      "                Molecule in database: NH3;v=0;\n",
      " \n",
      " \n",
      "              Reading parameters for radiative transitions for all molecules from sqlite database .. done!\n",
      " \n",
      " \n",
      "                Number of transitions for each frequency range and molecule:\n",
      " \n",
      "                Frequency range: 1.267329159726668E+05 MHz - 1.286074820031679E+05 MHz:\n",
      "                  Number of transitions for molecule \"NH3;v=0;\":                                    5\n",
      " \n",
      " \n",
      "Compute intensity .. done!\n",
      " \n",
      "myXCLASS finished!\n",
      "/blue/adamginsburg/abulatek/brick/first_results/lots_of_plotting/all/individuals/HNCv=0.molfit\n",
      " \n",
      "Reading command line parameters .. done!\n",
      " \n",
      "Command line arguments:\n",
      "  First frequency:                  1.2673291597E+05\n",
      "  Last frequency:                   1.2860748200E+05\n",
      "  Stepsize (resolution):            1.0000000000E-01\n",
      "  BMIN:                             1.3767548341E+00\n",
      "  BMAJ:                             1.6945618869E+00\n",
      "  BPA:                              9.6322827959E+01\n",
      "  Interferrometer flag:             T\n",
      "  v_LSR:                            0.0000000000E+00\n",
      "  Background temperature flag:      T\n",
      "  Background Temperature:           0.0000000000E+00\n",
      "  Temperature Slope:                0.0000000000E+00\n",
      "  N_H:                              1.0000000000E+22\n",
      "  beta dust:                        0.0000000000E+00\n",
      "  kappa:                            0.0000000000E+00\n",
      "  NumModelPixelXX:                  100\n",
      "  NumModelPixelYY:                  100\n",
      "  Local-overlap flag:               F\n",
      "  No sub-beam flag:                 T\n",
      "  Path and name of instance file:   \"parameter.xml\"\n",
      "  Iso flag:                         T\n",
      "  Path and name of database file:   \"/orange/adamginsburg/software/XCLASS-Interface/Database/cdms_sqlite.db\"\n",
      " \n",
      " \n",
      "Reading parameters from file .. done!\n",
      "/blue/adamginsburg/abulatek/brick/first_results/lots_of_plotting/all/individuals/NH2Dv=0.molfit\n"
     ]
    },
    {
     "name": "stderr",
     "output_type": "stream",
     "text": [
      " \n",
      " \n",
      "  Error in subroutine GetmyXCLASSParameter:\n",
      "    The given molfit file contains neither a definition of a cf-flag\n",
      "    nor a definition of a distance!\n",
      " \n",
      "    Please correct the molfit file and restart the program!\n",
      " \n",
      "STOP Program aborted! Please restart the program!\n"
     ]
    },
    {
     "name": "stdout",
     "output_type": "stream",
     "text": [
      " \n",
      "Reading command line parameters .. done!\n",
      " \n",
      "Command line arguments:\n",
      "  First frequency:                  1.2673291597E+05\n",
      "  Last frequency:                   1.2860748200E+05\n",
      "  Stepsize (resolution):            1.0000000000E-01\n",
      "  BMIN:                             1.3767548341E+00\n",
      "  BMAJ:                             1.6945618869E+00\n",
      "  BPA:                              9.6322827959E+01\n",
      "  Interferrometer flag:             T\n",
      "  v_LSR:                            0.0000000000E+00\n",
      "  Background temperature flag:      T\n",
      "  Background Temperature:           0.0000000000E+00\n",
      "  Temperature Slope:                0.0000000000E+00\n",
      "  N_H:                              1.0000000000E+22\n",
      "  beta dust:                        0.0000000000E+00\n",
      "  kappa:                            0.0000000000E+00\n",
      "  NumModelPixelXX:                  100\n",
      "  NumModelPixelYY:                  100\n",
      "  Local-overlap flag:               F\n",
      "  No sub-beam flag:                 T\n",
      "  Path and name of instance file:   \"parameter.xml\"\n",
      "  Iso flag:                         T\n",
      "  Path and name of database file:   \"/orange/adamginsburg/software/XCLASS-Interface/Database/cdms_sqlite.db\"\n",
      " \n",
      " \n",
      "Reading parameters from file .. done!\n",
      " \n",
      " \n",
      "Sub-beam description is NOT used!\n",
      " \n",
      " \n",
      "Do NOT take local-overlap into account!\n",
      " \n",
      " \n",
      "              Reading partition functions for all molecules from sqlite3 database .. done!\n",
      " \n",
      "                Number of entries =          1\n",
      "                Molecule in database: NH2D;v=0;\n",
      " \n",
      " \n",
      "              Reading parameters for radiative transitions for all molecules from sqlite database .. done!\n",
      " \n",
      " \n",
      "                Number of transitions for each frequency range and molecule:\n",
      " \n",
      "                Frequency range: 1.267329159726668E+05 MHz - 1.286074820031679E+05 MHz:\n",
      "                  Number of transitions for molecule \"NH2D;v=0;\":                                   7\n",
      " \n",
      " \n",
      "Compute intensity .. done!\n",
      " \n",
      "myXCLASS finished!\n",
      "/blue/adamginsburg/abulatek/brick/first_results/lots_of_plotting/all/individuals/HNCOv=0.molfit\n",
      " \n",
      "Reading command line parameters .. done!\n",
      " \n",
      "Command line arguments:\n",
      "  First frequency:                  1.2673291597E+05\n",
      "  Last frequency:                   1.2860748200E+05\n",
      "  Stepsize (resolution):            1.0000000000E-01\n",
      "  BMIN:                             1.3767548341E+00\n",
      "  BMAJ:                             1.6945618869E+00\n",
      "  BPA:                              9.6322827959E+01\n",
      "  Interferrometer flag:             T\n",
      "  v_LSR:                            0.0000000000E+00\n",
      "  Background temperature flag:      T\n",
      "  Background Temperature:           0.0000000000E+00\n",
      "  Temperature Slope:                0.0000000000E+00\n",
      "  N_H:                              1.0000000000E+22\n",
      "  beta dust:                        0.0000000000E+00\n",
      "  kappa:                            0.0000000000E+00\n",
      "  NumModelPixelXX:                  100\n",
      "  NumModelPixelYY:                  100\n",
      "  Local-overlap flag:               F\n",
      "  No sub-beam flag:                 T\n",
      "  Path and name of instance file:   \"parameter.xml\"\n",
      "  Iso flag:                         T\n",
      "  Path and name of database file:   \"/orange/adamginsburg/software/XCLASS-Interface/Database/cdms_sqlite.db\"\n",
      " \n",
      " \n",
      "Reading parameters from file .. done!\n",
      "/blue/adamginsburg/abulatek/brick/first_results/lots_of_plotting/all/individuals/N2H+v=0.molfit\n"
     ]
    },
    {
     "name": "stderr",
     "output_type": "stream",
     "text": [
      " \n",
      " \n",
      "  Error in subroutine GetmyXCLASSParameter:\n",
      "    The given molfit file contains neither a definition of a cf-flag\n",
      "    nor a definition of a distance!\n",
      " \n",
      "    Please correct the molfit file and restart the program!\n",
      " \n",
      "STOP Program aborted! Please restart the program!\n"
     ]
    },
    {
     "name": "stdout",
     "output_type": "stream",
     "text": [
      " \n",
      "Reading command line parameters .. done!\n",
      " \n",
      "Command line arguments:\n",
      "  First frequency:                  1.2673291597E+05\n",
      "  Last frequency:                   1.2860748200E+05\n",
      "  Stepsize (resolution):            1.0000000000E-01\n",
      "  BMIN:                             1.3767548341E+00\n",
      "  BMAJ:                             1.6945618869E+00\n",
      "  BPA:                              9.6322827959E+01\n",
      "  Interferrometer flag:             T\n",
      "  v_LSR:                            0.0000000000E+00\n",
      "  Background temperature flag:      T\n",
      "  Background Temperature:           0.0000000000E+00\n",
      "  Temperature Slope:                0.0000000000E+00\n",
      "  N_H:                              1.0000000000E+22\n",
      "  beta dust:                        0.0000000000E+00\n",
      "  kappa:                            0.0000000000E+00\n",
      "  NumModelPixelXX:                  100\n",
      "  NumModelPixelYY:                  100\n",
      "  Local-overlap flag:               F\n",
      "  No sub-beam flag:                 T\n",
      "  Path and name of instance file:   \"parameter.xml\"\n",
      "  Iso flag:                         T\n",
      "  Path and name of database file:   \"/orange/adamginsburg/software/XCLASS-Interface/Database/cdms_sqlite.db\"\n",
      " \n",
      " \n",
      "Reading parameters from file .. done!\n",
      "/blue/adamginsburg/abulatek/brick/first_results/lots_of_plotting/all/individuals/CCHv=0.molfit\n"
     ]
    },
    {
     "name": "stderr",
     "output_type": "stream",
     "text": [
      " \n",
      " \n",
      "  Error in subroutine GetmyXCLASSParameter:\n",
      "    The given molfit file contains neither a definition of a cf-flag\n",
      "    nor a definition of a distance!\n",
      " \n",
      "    Please correct the molfit file and restart the program!\n",
      " \n",
      "STOP Program aborted! Please restart the program!\n"
     ]
    },
    {
     "name": "stdout",
     "output_type": "stream",
     "text": [
      " \n",
      "Reading command line parameters .. done!\n",
      " \n",
      "Command line arguments:\n",
      "  First frequency:                  1.2673291597E+05\n",
      "  Last frequency:                   1.2860748200E+05\n",
      "  Stepsize (resolution):            1.0000000000E-01\n",
      "  BMIN:                             1.3767548341E+00\n",
      "  BMAJ:                             1.6945618869E+00\n",
      "  BPA:                              9.6322827959E+01\n",
      "  Interferrometer flag:             T\n",
      "  v_LSR:                            0.0000000000E+00\n",
      "  Background temperature flag:      T\n",
      "  Background Temperature:           0.0000000000E+00\n",
      "  Temperature Slope:                0.0000000000E+00\n",
      "  N_H:                              1.0000000000E+22\n",
      "  beta dust:                        0.0000000000E+00\n",
      "  kappa:                            0.0000000000E+00\n",
      "  NumModelPixelXX:                  100\n",
      "  NumModelPixelYY:                  100\n",
      "  Local-overlap flag:               F\n",
      "  No sub-beam flag:                 T\n",
      "  Path and name of instance file:   \"parameter.xml\"\n",
      "  Iso flag:                         T\n",
      "  Path and name of database file:   \"/orange/adamginsburg/software/XCLASS-Interface/Database/cdms_sqlite.db\"\n",
      " \n",
      " \n",
      "Reading parameters from file .. done!\n",
      "/blue/adamginsburg/abulatek/brick/first_results/lots_of_plotting/all/individuals/HOCO+v=0.molfit\n"
     ]
    },
    {
     "name": "stderr",
     "output_type": "stream",
     "text": [
      " \n",
      " \n",
      "  Error in subroutine GetmyXCLASSParameter:\n",
      "    The given molfit file contains neither a definition of a cf-flag\n",
      "    nor a definition of a distance!\n",
      " \n",
      "    Please correct the molfit file and restart the program!\n",
      " \n",
      "STOP Program aborted! Please restart the program!\n"
     ]
    },
    {
     "name": "stdout",
     "output_type": "stream",
     "text": [
      " \n",
      "Reading command line parameters .. done!\n",
      " \n",
      "Command line arguments:\n",
      "  First frequency:                  1.2673291597E+05\n",
      "  Last frequency:                   1.2860748200E+05\n",
      "  Stepsize (resolution):            1.0000000000E-01\n",
      "  BMIN:                             1.3767548341E+00\n",
      "  BMAJ:                             1.6945618869E+00\n",
      "  BPA:                              9.6322827959E+01\n",
      "  Interferrometer flag:             T\n",
      "  v_LSR:                            0.0000000000E+00\n",
      "  Background temperature flag:      T\n",
      "  Background Temperature:           0.0000000000E+00\n",
      "  Temperature Slope:                0.0000000000E+00\n",
      "  N_H:                              1.0000000000E+22\n",
      "  beta dust:                        0.0000000000E+00\n",
      "  kappa:                            0.0000000000E+00\n",
      "  NumModelPixelXX:                  100\n",
      "  NumModelPixelYY:                  100\n",
      "  Local-overlap flag:               F\n",
      "  No sub-beam flag:                 T\n",
      "  Path and name of instance file:   \"parameter.xml\"\n",
      "  Iso flag:                         T\n",
      "  Path and name of database file:   \"/orange/adamginsburg/software/XCLASS-Interface/Database/cdms_sqlite.db\"\n",
      " \n",
      " \n",
      "Reading parameters from file .. done!\n",
      " \n",
      " \n",
      "Sub-beam description is NOT used!\n",
      " \n",
      " \n",
      "Do NOT take local-overlap into account!\n",
      " \n",
      " \n",
      "              Reading partition functions for all molecules from sqlite3 database .. done!\n",
      " \n",
      "                Number of entries =          1\n",
      "                Molecule in database: HOCO+;v=0;\n",
      " \n",
      " \n",
      "              Reading parameters for radiative transitions for all molecules from sqlite database .. done!\n",
      " \n",
      " \n",
      "                Number of transitions for each frequency range and molecule:\n",
      " \n",
      "                Frequency range: 1.267329159726668E+05 MHz - 1.286074820031679E+05 MHz:\n",
      "                  Number of transitions for molecule \"HOCO+;v=0;\":                                  8\n",
      " \n",
      " \n",
      "Compute intensity .. done!\n",
      " \n",
      "myXCLASS finished!\n",
      "/blue/adamginsburg/abulatek/brick/first_results/lots_of_plotting/all/individuals/CH3CNv=0.molfit\n",
      " \n",
      "Reading command line parameters .. done!\n",
      " \n",
      "Command line arguments:\n",
      "  First frequency:                  1.2673291597E+05\n",
      "  Last frequency:                   1.2860748200E+05\n",
      "  Stepsize (resolution):            1.0000000000E-01\n",
      "  BMIN:                             1.3767548341E+00\n",
      "  BMAJ:                             1.6945618869E+00\n",
      "  BPA:                              9.6322827959E+01\n",
      "  Interferrometer flag:             T\n",
      "  v_LSR:                            0.0000000000E+00\n",
      "  Background temperature flag:      T\n",
      "  Background Temperature:           0.0000000000E+00\n",
      "  Temperature Slope:                0.0000000000E+00\n",
      "  N_H:                              1.0000000000E+22\n",
      "  beta dust:                        0.0000000000E+00\n",
      "  kappa:                            0.0000000000E+00\n",
      "  NumModelPixelXX:                  100\n",
      "  NumModelPixelYY:                  100\n",
      "  Local-overlap flag:               F\n",
      "  No sub-beam flag:                 T\n",
      "  Path and name of instance file:   \"parameter.xml\"\n",
      "  Iso flag:                         T\n",
      "  Path and name of database file:   \"/orange/adamginsburg/software/XCLASS-Interface/Database/cdms_sqlite.db\"\n",
      " \n",
      " \n",
      "Reading parameters from file .. done!\n",
      "/blue/adamginsburg/abulatek/brick/first_results/lots_of_plotting/all/individuals/HC3Nv=0.molfit\n"
     ]
    },
    {
     "name": "stderr",
     "output_type": "stream",
     "text": [
      " \n",
      " \n",
      "  Error in subroutine GetmyXCLASSParameter:\n",
      "    The given molfit file contains neither a definition of a cf-flag\n",
      "    nor a definition of a distance!\n",
      " \n",
      "    Please correct the molfit file and restart the program!\n",
      " \n",
      "STOP Program aborted! Please restart the program!\n"
     ]
    },
    {
     "name": "stdout",
     "output_type": "stream",
     "text": [
      " \n",
      "Reading command line parameters .. done!\n",
      " \n",
      "Command line arguments:\n",
      "  First frequency:                  1.2673291597E+05\n",
      "  Last frequency:                   1.2860748200E+05\n",
      "  Stepsize (resolution):            1.0000000000E-01\n",
      "  BMIN:                             1.3767548341E+00\n",
      "  BMAJ:                             1.6945618869E+00\n",
      "  BPA:                              9.6322827959E+01\n",
      "  Interferrometer flag:             T\n",
      "  v_LSR:                            0.0000000000E+00\n",
      "  Background temperature flag:      T\n",
      "  Background Temperature:           0.0000000000E+00\n",
      "  Temperature Slope:                0.0000000000E+00\n",
      "  N_H:                              1.0000000000E+22\n",
      "  beta dust:                        0.0000000000E+00\n",
      "  kappa:                            0.0000000000E+00\n",
      "  NumModelPixelXX:                  100\n",
      "  NumModelPixelYY:                  100\n",
      "  Local-overlap flag:               F\n",
      "  No sub-beam flag:                 T\n",
      "  Path and name of instance file:   \"parameter.xml\"\n",
      "  Iso flag:                         T\n",
      "  Path and name of database file:   \"/orange/adamginsburg/software/XCLASS-Interface/Database/cdms_sqlite.db\"\n",
      " \n",
      " \n",
      "Reading parameters from file .. done!\n"
     ]
    },
    {
     "name": "stderr",
     "output_type": "stream",
     "text": [
      " \n",
      " \n",
      "  Error in subroutine GetmyXCLASSParameter:\n",
      "    The given molfit file contains neither a definition of a cf-flag\n",
      "    nor a definition of a distance!\n",
      " \n",
      "    Please correct the molfit file and restart the program!\n",
      " \n",
      "STOP Program aborted! Please restart the program!\n"
     ]
    },
    {
     "name": "stdout",
     "output_type": "stream",
     "text": [
      "/blue/adamginsburg/abulatek/brick/first_results/lots_of_plotting/all/individuals/CCSv=0.molfit\n",
      " \n",
      "Reading command line parameters .. done!\n",
      " \n",
      "Command line arguments:\n",
      "  First frequency:                  1.2673291597E+05\n",
      "  Last frequency:                   1.2860748200E+05\n",
      "  Stepsize (resolution):            1.0000000000E-01\n",
      "  BMIN:                             1.3767548341E+00\n",
      "  BMAJ:                             1.6945618869E+00\n",
      "  BPA:                              9.6322827959E+01\n",
      "  Interferrometer flag:             T\n",
      "  v_LSR:                            0.0000000000E+00\n",
      "  Background temperature flag:      T\n",
      "  Background Temperature:           0.0000000000E+00\n",
      "  Temperature Slope:                0.0000000000E+00\n",
      "  N_H:                              1.0000000000E+22\n",
      "  beta dust:                        0.0000000000E+00\n",
      "  kappa:                            0.0000000000E+00\n",
      "  NumModelPixelXX:                  100\n",
      "  NumModelPixelYY:                  100\n",
      "  Local-overlap flag:               F\n",
      "  No sub-beam flag:                 T\n",
      "  Path and name of instance file:   \"parameter.xml\"\n",
      "  Iso flag:                         T\n",
      "  Path and name of database file:   \"/orange/adamginsburg/software/XCLASS-Interface/Database/cdms_sqlite.db\"\n",
      " \n",
      " \n",
      "Reading parameters from file .. done!\n",
      " \n",
      " \n",
      "Sub-beam description is NOT used!\n",
      " \n",
      " \n",
      "Do NOT take local-overlap into account!\n",
      " \n",
      " \n",
      "              Reading partition functions for all molecules from sqlite3 database .. done!\n",
      " \n",
      "                Number of entries =          1\n",
      "                Molecule in database: CCS;v=0;\n",
      " \n",
      " \n",
      "              Reading parameters for radiative transitions for all molecules from sqlite database .. done!\n",
      " \n",
      " \n",
      "                Number of transitions for each frequency range and molecule:\n",
      " \n",
      "                Frequency range: 1.267329159726668E+05 MHz - 1.286074820031679E+05 MHz:\n",
      "                  Number of transitions for molecule \"CCS;v=0;\":                                    8\n",
      " \n",
      " \n",
      "Compute intensity .. done!\n",
      " \n",
      "myXCLASS finished!\n",
      "/blue/adamginsburg/abulatek/brick/first_results/lots_of_plotting/all/individuals/COv=0.molfit\n",
      " \n",
      "Reading command line parameters .. done!\n",
      " \n",
      "Command line arguments:\n",
      "  First frequency:                  1.2673291597E+05\n",
      "  Last frequency:                   1.2860748200E+05\n",
      "  Stepsize (resolution):            1.0000000000E-01\n",
      "  BMIN:                             1.3767548341E+00\n",
      "  BMAJ:                             1.6945618869E+00\n",
      "  BPA:                              9.6322827959E+01\n",
      "  Interferrometer flag:             T\n",
      "  v_LSR:                            0.0000000000E+00\n",
      "  Background temperature flag:      T\n",
      "  Background Temperature:           0.0000000000E+00\n",
      "  Temperature Slope:                0.0000000000E+00\n",
      "  N_H:                              1.0000000000E+22\n",
      "  beta dust:                        0.0000000000E+00\n",
      "  kappa:                            0.0000000000E+00\n",
      "  NumModelPixelXX:                  100\n",
      "  NumModelPixelYY:                  100\n",
      "  Local-overlap flag:               F\n",
      "  No sub-beam flag:                 T\n",
      "  Path and name of instance file:   \"parameter.xml\"\n",
      "  Iso flag:                         T\n",
      "  Path and name of database file:   \"/orange/adamginsburg/software/XCLASS-Interface/Database/cdms_sqlite.db\"\n",
      " \n",
      " \n",
      "Reading parameters from file .. done!\n",
      "/blue/adamginsburg/abulatek/brick/first_results/lots_of_plotting/all/individuals/CH3OHv=0.molfit\n"
     ]
    },
    {
     "name": "stderr",
     "output_type": "stream",
     "text": [
      " \n",
      " \n",
      "  Error in subroutine GetmyXCLASSParameter:\n",
      "    The given molfit file contains neither a definition of a cf-flag\n",
      "    nor a definition of a distance!\n",
      " \n",
      "    Please correct the molfit file and restart the program!\n",
      " \n",
      "STOP Program aborted! Please restart the program!\n"
     ]
    },
    {
     "name": "stdout",
     "output_type": "stream",
     "text": [
      " \n",
      "Reading command line parameters .. done!\n",
      " \n",
      "Command line arguments:\n",
      "  First frequency:                  1.2673291597E+05\n",
      "  Last frequency:                   1.2860748200E+05\n",
      "  Stepsize (resolution):            1.0000000000E-01\n",
      "  BMIN:                             1.3767548341E+00\n",
      "  BMAJ:                             1.6945618869E+00\n",
      "  BPA:                              9.6322827959E+01\n",
      "  Interferrometer flag:             T\n",
      "  v_LSR:                            0.0000000000E+00\n",
      "  Background temperature flag:      T\n",
      "  Background Temperature:           0.0000000000E+00\n",
      "  Temperature Slope:                0.0000000000E+00\n",
      "  N_H:                              1.0000000000E+22\n",
      "  beta dust:                        0.0000000000E+00\n",
      "  kappa:                            0.0000000000E+00\n",
      "  NumModelPixelXX:                  100\n",
      "  NumModelPixelYY:                  100\n",
      "  Local-overlap flag:               F\n",
      "  No sub-beam flag:                 T\n",
      "  Path and name of instance file:   \"parameter.xml\"\n",
      "  Iso flag:                         T\n",
      "  Path and name of database file:   \"/orange/adamginsburg/software/XCLASS-Interface/Database/cdms_sqlite.db\"\n",
      " \n",
      " \n",
      "Reading parameters from file .. done!\n",
      " \n",
      " \n",
      "Sub-beam description is NOT used!\n",
      " \n",
      " \n",
      "Do NOT take local-overlap into account!\n",
      " \n",
      " \n",
      "              Reading partition functions for all molecules from sqlite3 database .. done!\n",
      " \n",
      "                Number of entries =          5\n",
      "                First Molecule in database: CH3OH;v=0;\n",
      "                Last Molecule in database:  CH3OH;v12=2;\n",
      " \n",
      " \n",
      "              Reading parameters for radiative transitions for all molecules from sqlite database .. done!\n",
      " \n",
      " \n",
      "                Number of transitions for each frequency range and molecule:\n",
      " \n",
      "                Frequency range: 1.267329159726668E+05 MHz - 1.286074820031679E+05 MHz:\n",
      "                  Number of transitions for molecule \"CH3OH;v=0;\":                                 95\n",
      "                  Number of transitions for molecule \"C-13-H3OH;v=0;\":                             56\n",
      "                  Number of transitions for molecule \"CH3O-18-H;v=0;\":                            105\n",
      "                  Number of transitions for molecule \"CH3OH;v12=1;\":                               68\n",
      "                  Number of transitions for molecule \"CH3OH;v12=2;\":                              143\n",
      " \n",
      " \n",
      "Compute intensity .. done!\n",
      " \n",
      "myXCLASS finished!\n",
      "/blue/adamginsburg/abulatek/brick/first_results/lots_of_plotting/all/individuals/OCSv=0.molfit\n",
      " \n",
      "Reading command line parameters .. done!\n",
      " \n",
      "Command line arguments:\n",
      "  First frequency:                  1.2673291597E+05\n",
      "  Last frequency:                   1.2860748200E+05\n",
      "  Stepsize (resolution):            1.0000000000E-01\n",
      "  BMIN:                             1.3767548341E+00\n",
      "  BMAJ:                             1.6945618869E+00\n",
      "  BPA:                              9.6322827959E+01\n",
      "  Interferrometer flag:             T\n",
      "  v_LSR:                            0.0000000000E+00\n",
      "  Background temperature flag:      T\n",
      "  Background Temperature:           0.0000000000E+00\n",
      "  Temperature Slope:                0.0000000000E+00\n",
      "  N_H:                              1.0000000000E+22\n",
      "  beta dust:                        0.0000000000E+00\n",
      "  kappa:                            0.0000000000E+00\n",
      "  NumModelPixelXX:                  100\n",
      "  NumModelPixelYY:                  100\n",
      "  Local-overlap flag:               F\n",
      "  No sub-beam flag:                 T\n",
      "  Path and name of instance file:   \"parameter.xml\"\n",
      "  Iso flag:                         T\n",
      "  Path and name of database file:   \"/orange/adamginsburg/software/XCLASS-Interface/Database/cdms_sqlite.db\"\n",
      " \n",
      " \n",
      "Reading parameters from file .. done!\n",
      "/blue/adamginsburg/abulatek/brick/first_results/lots_of_plotting/all/individuals/H2CSv=0.molfit\n"
     ]
    },
    {
     "name": "stderr",
     "output_type": "stream",
     "text": [
      " \n",
      " \n",
      "  Error in subroutine GetmyXCLASSParameter:\n",
      "    The given molfit file contains neither a definition of a cf-flag\n",
      "    nor a definition of a distance!\n",
      " \n",
      "    Please correct the molfit file and restart the program!\n",
      " \n",
      "STOP Program aborted! Please restart the program!\n"
     ]
    },
    {
     "name": "stdout",
     "output_type": "stream",
     "text": [
      " \n",
      "Reading command line parameters .. done!\n",
      " \n",
      "Command line arguments:\n",
      "  First frequency:                  1.2673291597E+05\n",
      "  Last frequency:                   1.2860748200E+05\n",
      "  Stepsize (resolution):            1.0000000000E-01\n",
      "  BMIN:                             1.3767548341E+00\n",
      "  BMAJ:                             1.6945618869E+00\n",
      "  BPA:                              9.6322827959E+01\n",
      "  Interferrometer flag:             T\n",
      "  v_LSR:                            0.0000000000E+00\n",
      "  Background temperature flag:      T\n",
      "  Background Temperature:           0.0000000000E+00\n",
      "  Temperature Slope:                0.0000000000E+00\n",
      "  N_H:                              1.0000000000E+22\n",
      "  beta dust:                        0.0000000000E+00\n",
      "  kappa:                            0.0000000000E+00\n",
      "  NumModelPixelXX:                  100\n",
      "  NumModelPixelYY:                  100\n",
      "  Local-overlap flag:               F\n",
      "  No sub-beam flag:                 T\n",
      "  Path and name of instance file:   \"parameter.xml\"\n",
      "  Iso flag:                         T\n",
      "  Path and name of database file:   \"/orange/adamginsburg/software/XCLASS-Interface/Database/cdms_sqlite.db\"\n",
      " \n",
      " \n",
      "Reading parameters from file .. done!\n"
     ]
    },
    {
     "name": "stderr",
     "output_type": "stream",
     "text": [
      " \n",
      " \n",
      "  Error in subroutine GetmyXCLASSParameter:\n",
      "    The given molfit file contains neither a definition of a cf-flag\n",
      "    nor a definition of a distance!\n",
      " \n",
      "    Please correct the molfit file and restart the program!\n",
      " \n",
      "STOP Program aborted! Please restart the program!\n"
     ]
    }
   ],
   "source": [
    "modeldata_all = []\n",
    "transenergies_all = []\n",
    "for MolfitsFileName in MolfitsFileNames:\n",
    "    print(MolfitsFileName)\n",
    "    modeldata, log, TransEnergies, IntOpt, JobDir = myxclass_call(FreqMin=FreqMin, FreqMax=FreqMax)\n",
    "    modeldata_all.append(modeldata)\n",
    "    transenergies_all.append(TransEnergies)"
   ]
  },
  {
   "cell_type": "code",
   "execution_count": 42,
   "metadata": {},
   "outputs": [],
   "source": [
    "# User-maintained color list\n",
    "colors = {'13CO;v=0;'   : ['tab:blue',   '--'],\n",
    "          'CCCS;v=0;'   : ['tab:orange', '--'],\n",
    "          'CCH;v=0;'    : ['tab:green',  '--'],\n",
    "          'CCS;v=0;'    : ['tab:red',    '--'],\n",
    "          'CH3CN;v=0;'  : ['tab:purple', '--'],\n",
    "          'CH3OH;v=0;'  : ['tab:pink',   '--'],\n",
    "          'CO;v=0;'     : ['tab:olive',  '--'],\n",
    "          'H2CS;v=0;'   : ['tab:cyan',   '--'],\n",
    "          'HC3N;v=0;'   : ['tab:blue',   '-.'],\n",
    "          'HCN;v=0;'    : ['tab:orange', '-.'],\n",
    "          'HCO+;v=0;'   : ['tab:green',  '-.'],\n",
    "          'HDCO;v=0;'   : ['tab:red',    '-.'],\n",
    "          'HNCO;v=0;'   : ['tab:purple', '-.'],\n",
    "          'HNC;v=0;'    : ['tab:pink',   '-.'],\n",
    "          'HOCO+;v=0;'  : ['tab:olive',  '-.'],\n",
    "          'N2H+;v=0;'   : ['tab:cyan',   '-.'],\n",
    "          'NH2D;v=0;'   : ['tab:blue',   ':'],\n",
    "          'NH3;v=0;'    : ['tab:orange', ':'],\n",
    "          'OCS;v=0;'    : ['tab:green',  ':'],\n",
    "          'C17O;v=0;'   : ['tab:red',    ':'],\n",
    "          'H13CO+;v=0;' : ['tab:purple', ':'],\n",
    "          '13CO;v=0;'   : ['tab:pink',   ':'],\n",
    "          'HC15N;v=0;'  : ['tab:olive',  ':'],\n",
    "          'HN13C;v=0;'  : ['tab:cyan',   ':'],\n",
    "          'C18O;v=0;'   : ['tab:blue',   (0,(3,1,1,1,1,1))],\n",
    "          #'H2COH+;v=0;' : ['tab:orange', (0,(3,1,1,1,1,1))],\n",
    "          'NH2CHO;v=0;' : ['tab:green',  (0,(3,1,1,1,1,1))],\n",
    "          'H13CN;v=0;'  : ['tab:red',    (0,(3,1,1,1,1,1))],\n",
    "         }\n",
    "# to add: C3H2, CH3OCHO, CH3OCH3, H2CO, SO, SO2, 13CS, CS, CN\n",
    "# column densities: {'CO': 1e18, '13CO': 1e17, 'H2CO': 1e16, 'CH3OH': 1e15, 'CH3OCHO': 1e14, 'CH3OCH3': }"
   ]
  },
  {
   "cell_type": "code",
   "execution_count": null,
   "metadata": {},
   "outputs": [],
   "source": []
  },
  {
   "cell_type": "code",
   "execution_count": null,
   "metadata": {},
   "outputs": [],
   "source": []
  },
  {
   "cell_type": "code",
   "execution_count": 43,
   "metadata": {},
   "outputs": [],
   "source": [
    "# fig = plt.figure(figsize = (30, 8))\n",
    "\n",
    "# for index, (modeldata, transenergies) in enumerate(zip(modeldata_all, transenergies_all)):\n",
    "#     if len(modeldata) != 0:\n",
    "#         colorname = transenergies[1][-1]\n",
    "#         molname = MolfitsFileNames[index].replace('/blue/adamginsburg/abulatek/brick/first_results/lots_of_plotting/all/individuals/', '').replace('.molfit', '')\n",
    "#         plt.plot((modeldata[:,0]*u.MHz).to(u.GHz), modeldata[:,1], colors[colorname], linewidth = 1, drawstyle = 'steps-mid', \n",
    "#                  label = molname)\n",
    "#         plt.xlabel(f\"Frequency [{(modeldata[:,0]*u.MHz).to(u.GHz).unit}]\")\n",
    "#     else:\n",
    "#         print(f\"***** Warning! {molname} was not modeled! *****\")\n",
    "# plt.legend(loc = 'best')\n",
    "# plt.ylabel(f\"Brightness temperature [{spectrum.unit}]\")\n",
    "# plt.xlim(smoothed_cube.spectral_extrema.to(u.GHz).value)\n",
    "# plt.title(f\"{freq_spws[ind]} model spectrum, $T$ = {tkin:.1f} K, $\\log_{{10}}(N_{{tot}})$ = {np.log10(Ntot):.2f}\") # y = 0.92 # NOTE: TKIN AND NTOT MAY CHANGE WHEN WE FIT !\n",
    "# plt.show()"
   ]
  },
  {
   "cell_type": "code",
   "execution_count": 44,
   "metadata": {},
   "outputs": [],
   "source": [
    "from astropy.stats import mad_std\n",
    "\n",
    "# Get MAD-estimated RMS of data spectrum\n",
    "mad_rms = mad_std(spectrum_contsub)"
   ]
  },
  {
   "cell_type": "code",
   "execution_count": 45,
   "metadata": {},
   "outputs": [],
   "source": [
    "# # Set up color and linestyle cycler\n",
    "# from cycler import cycler\n",
    "# plt.rc('axes', prop_cycle=(cycler('color', ['xkcd:azure', 'xkcd:orange', 'xkcd:teal', 'xkcd:magenta']) * cycler('linestyle', ['--', ':', '-.', (0,(3,1,1,1,1,1))])))"
   ]
  },
  {
   "cell_type": "code",
   "execution_count": 46,
   "metadata": {},
   "outputs": [
    {
     "name": "stdout",
     "output_type": "stream",
     "text": [
      "***** Warning! HCNv=0 was not modeled! *****\n",
      "***** Warning! HCO+v=0 was not modeled! *****\n",
      "***** Warning! 13COv=0 was not modeled! *****\n",
      "***** Warning! HNCv=0 was not modeled! *****\n",
      "***** Warning! HNCOv=0 was not modeled! *****\n",
      "***** Warning! N2H+v=0 was not modeled! *****\n",
      "***** Warning! CCHv=0 was not modeled! *****\n",
      "***** Warning! CH3CNv=0 was not modeled! *****\n",
      "***** Warning! HC3Nv=0 was not modeled! *****\n",
      "***** Warning! COv=0 was not modeled! *****\n",
      "***** Warning! OCSv=0 was not modeled! *****\n",
      "***** Warning! H2CSv=0 was not modeled! *****\n"
     ]
    },
    {
     "data": {
      "image/png": "[encoded data removed]",
      "text/plain": [
       "<Figure size 2160x576 with 1 Axes>"
      ]
     },
     "metadata": {
      "needs_background": "light"
     },
     "output_type": "display_data"
    }
   ],
   "source": [
    "fig = plt.figure(figsize = (30, 8))\n",
    "\n",
    "plt.plot(smoothed_cube.spectral_axis.to(u.GHz), spectrum_contsub, linestyle = '-', color = 'grey', linewidth = 1, drawstyle = 'steps-mid', \n",
    "        label = \"Data\")\n",
    "plt.axhspan(ymin = -mad_rms, ymax = mad_rms, alpha = 0.25, color = 'k', label = 'RMS level in data')\n",
    "for index, (modeldata, transenergies) in enumerate(zip(modeldata_all, transenergies_all)):\n",
    "    molname = MolfitsFileNames[index].replace('/blue/adamginsburg/abulatek/brick/first_results/lots_of_plotting/all/individuals/', '').replace('.molfit', '')\n",
    "    if len(modeldata) != 0:\n",
    "        colorname = transenergies[1][-1]\n",
    "        plt.plot((modeldata[:,0]*u.MHz).to(u.GHz), modeldata[:,1], color = colors[colorname][0], linestyle = colors[colorname][1], linewidth = 1, \n",
    "                 drawstyle = 'steps-mid', label = molname)\n",
    "    else:\n",
    "        print(f\"***** Warning! {molname} was not modeled! *****\")\n",
    "plt.legend(loc = 'best')\n",
    "plt.xlabel(f\"Frequency [{smoothed_cube.spectral_axis.to(u.GHz).unit}]\")\n",
    "plt.ylabel(f\"Brightness temperature [{spectrum.unit}]\")\n",
    "plt.xlim(smoothed_cube.spectral_extrema.to(u.GHz).value)\n",
    "# plt.xlim(137.25, 137.50)\n",
    "plt.title(f\"{freq_spws[ind]} data and model comparison, $T$ = {tkin:.1f} K, $\\log_{{10}}(N_{{tot}})$ = {np.log10(Ntot):.2f}\") # y = 0.92 # NOTE: TKIN AND NTOT MAY CHANGE WHEN WE FIT !\n",
    "plt.savefig(f\"spectra_ID/{freq_spws[ind]}.pdf\", facecolor = 'w', edgecolor = 'w', bbox_inches = 'tight') # dpi = 300\n",
    "plt.show()"
   ]
  },
  {
   "cell_type": "code",
   "execution_count": 83,
   "metadata": {},
   "outputs": [],
   "source": [
    "import sqlite3"
   ]
  },
  {
   "cell_type": "code",
   "execution_count": 84,
   "metadata": {},
   "outputs": [],
   "source": [
    "conn = sqlite3.connect('/orange/adamginsburg/software/XCLASS-Interface/Database/cdms_sqlite.db')"
   ]
  },
  {
   "cell_type": "code",
   "execution_count": 86,
   "metadata": {},
   "outputs": [
    {
     "data": {
      "text/plain": [
       "<sqlite3.Cursor at 0x2b21f12e1340>"
      ]
     },
     "execution_count": 86,
     "metadata": {},
     "output_type": "execute_result"
    }
   ],
   "source": [
    "conn.cursor()"
   ]
  },
  {
   "cell_type": "code",
   "execution_count": 92,
   "metadata": {},
   "outputs": [
    {
     "name": "stdout",
     "output_type": "stream",
     "text": [
      "[('Transitions',), ('Partitionfunctions',)]\n"
     ]
    }
   ],
   "source": [
    "cursor = conn.cursor()\n",
    "cursor.execute(\"SELECT name FROM sqlite_master WHERE type='table';\")\n",
    "print(cursor.fetchall())"
   ]
  },
  {
   "cell_type": "code",
   "execution_count": null,
   "metadata": {},
   "outputs": [],
   "source": [
    "cursor = conn.cursor()\n",
    "cursor.execute(\"SELECT * FROM Transitions\")\n",
    "cursor.description()"
   ]
  },
  {
   "cell_type": "code",
   "execution_count": null,
   "metadata": {},
   "outputs": [],
   "source": [
    "print(\"ALIVE\")"
   ]
  },
  {
   "cell_type": "code",
   "execution_count": null,
   "metadata": {},
   "outputs": [],
   "source": []
  }
 ],
 "metadata": {
  "kernelspec": {
   "display_name": "Python 3",
   "language": "python",
   "name": "python3"
  },
  "language_info": {
   "codemirror_mode": {
    "name": "ipython",
    "version": 3
   },
   "file_extension": ".py",
   "mimetype": "text/x-python",
   "name": "python",
   "nbconvert_exporter": "python",
   "pygments_lexer": "ipython3",
   "version": "3.7.0"
  }
 },
 "nbformat": 4,
 "nbformat_minor": 4
}
