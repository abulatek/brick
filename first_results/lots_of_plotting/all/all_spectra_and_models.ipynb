{
 "cells": [
  {
   "cell_type": "markdown",
   "metadata": {},
   "source": [
    "### 1. Get our data cubes from files"
   ]
  },
  {
   "cell_type": "code",
   "execution_count": 1,
   "metadata": {},
   "outputs": [],
   "source": [
    "# For parallelization, which helps to make convolution faster\n",
    "import dask\n",
    "dask.config.set(scheduler = 'threads', num_workers = 8)\n",
    "from dask.diagnostics import ProgressBar\n",
    "ProgressBar().register()\n",
    "import warnings\n",
    "warnings.filterwarnings('ignore')"
   ]
  },
  {
   "cell_type": "code",
   "execution_count": 2,
   "metadata": {},
   "outputs": [],
   "source": [
    "from astropy import units as u\n",
    "\n",
    "results = '/blue/adamginsburg/abulatek/brick/symlinks/imaging_results/'"
   ]
  },
  {
   "cell_type": "code",
   "execution_count": 3,
   "metadata": {},
   "outputs": [],
   "source": [
    "# Get names of spectral windows\n",
    "# I think these are in vaguely the right order?\n",
    "freq_spws = [\n",
    "'87_spw25',\n",
    "# '87_spw102', # duplicate of above\n",
    "'89_spw27',\n",
    "# '89_spw104', # duplicate of above\n",
    "\n",
    "'91_spw25', \n",
    "# '91_spw102', # duplicate of above\n",
    "'93_spw27',\n",
    "# '93_spw104', # duplicate of above\n",
    "'95_spw25', \n",
    "'97_spw27', \n",
    "'98_spw29',\n",
    "# '98_spw106', # duplicate of above\n",
    "# '99_spw25', # duplicate of above\n",
    "'99_spw31',  \n",
    "# '99_spw108', # duplicate of above\n",
    "\n",
    "# '101_spw27', # duplicate of above\n",
    "'102_spw23',\n",
    "'102_spw29', \n",
    "# '102_spw106', # duplicate of above\n",
    "'104_spw25', # mislabeled, should be before 103_spw31\n",
    "'103_spw31', \n",
    "# '103_spw108', # duplicate of above\n",
    "'106_spw29',\n",
    "'107_spw31',\n",
    "\n",
    "'110_spw29',\n",
    "'111_spw31',\n",
    "'112_spw27',\n",
    "'114_spw29',\n",
    "\n",
    "'127_spw65', \n",
    "'129_spw67',\n",
    "\n",
    "'130_spw105',\n",
    "'132_spw107',\n",
    "'134_spw45', \n",
    "'135_spw47',\n",
    "'137_spw85',\n",
    "'137_spw69',\n",
    "# '139_spw87', # duplicate of above\n",
    "'139_spw71',\n",
    "# '141_spw25', # duplicate of above\n",
    "\n",
    "'140_spw109',\n",
    "'142_spw111',\n",
    "'144_spw49',\n",
    "'146_spw51',\n",
    "'147_spw89',\n",
    "'149_spw91',\n",
    "\n",
    "'142_spw27', # mislabeled\n",
    "# '151_spw29', # duplicate of above\n",
    "'152_spw31',\n",
    "\n",
    "'244_spw65',\n",
    "'245_spw67',\n",
    "'247_spw105',\n",
    "'249_spw107',\n",
    "\n",
    "'250_spw25',\n",
    "'252_spw27',\n",
    "'254_spw85',\n",
    "'255_spw87',\n",
    "'257_spw45',\n",
    "'259_spw47',\n",
    "# '258_spw69', # significant overlap with above?\n",
    "'259_spw71',\n",
    "\n",
    "'261_spw109',\n",
    "'263_spw111',\n",
    "'264_spw29',\n",
    "'266_spw31',\n",
    "'268_spw89',\n",
    "\n",
    "'270_spw91',\n",
    "'271_spw49',\n",
    "'273_spw51'\n",
    "]"
   ]
  },
  {
   "cell_type": "code",
   "execution_count": 4,
   "metadata": {},
   "outputs": [],
   "source": [
    "# Only look at one cube from here on out\n",
    "ind = freq_spws.index('129_spw67')"
   ]
  },
  {
   "cell_type": "code",
   "execution_count": 5,
   "metadata": {},
   "outputs": [],
   "source": [
    "from spectral_cube import SpectralCube\n",
    "\n",
    "cube = SpectralCube.read(results+'source_ab_'+freq_spws[ind]+'_clean_2sigma_n50000_masked_3sigma_pbmask0p18.image', use_dask = True)"
   ]
  },
  {
   "cell_type": "markdown",
   "metadata": {},
   "source": [
    "### 2. Convert cube to a common beam\n",
    "\n",
    "Skipping converting all cubes to a common beam because I only want to examine one spectrum at a time."
   ]
  },
  {
   "cell_type": "code",
   "execution_count": 6,
   "metadata": {},
   "outputs": [],
   "source": [
    "cube_common_beam = cube.beams.common_beam(max_iter = 20, max_epsilon = 0.01)\n",
    "smoothed_cube = cube.convolve_to(cube_common_beam) # Convert from VaryingResolution to regular\n",
    "\n",
    "# import radio_beam\n",
    "\n",
    "# beams = []\n",
    "# for cube in smoothed_cubes:\n",
    "#     beams.append(cube.beam)\n",
    "\n",
    "# common_beam = radio_beam.commonbeam.common_manybeams_mve(radio_beam.Beams(beams = beams)) # Get common beam between all cubes\n",
    "# common_beam"
   ]
  },
  {
   "cell_type": "code",
   "execution_count": 7,
   "metadata": {},
   "outputs": [],
   "source": [
    "# resampled_cubes = []\n",
    "# for cube in smoothed_cubes:\n",
    "#     resampled_cube = cube.convolve_to(common_beam) # This cell takes almost no time; the cubes do not get convolved in this step\n",
    "#     resampled_cubes.append(resampled_cube)"
   ]
  },
  {
   "cell_type": "markdown",
   "metadata": {},
   "source": [
    "### 3. Extract spectrum and plot our data"
   ]
  },
  {
   "cell_type": "code",
   "execution_count": 8,
   "metadata": {},
   "outputs": [],
   "source": [
    "# Extract spectrum for a coordinate in central core region\n",
    "from astropy import coordinates\n",
    "from astropy import wcs\n",
    "\n",
    "crd = coordinates.SkyCoord(\"17:46:10.63 -28:42:17.8\", frame='fk5', unit=(u.h, u.deg))\n",
    "\n",
    "x, y = map(int, smoothed_cube.wcs.celestial.world_to_pixel(crd))"
   ]
  },
  {
   "cell_type": "code",
   "execution_count": 9,
   "metadata": {},
   "outputs": [],
   "source": [
    "# # Extract spectrum for brightest pixel in central core region\n",
    "# import regions\n",
    "# reg = regions.Regions.read('/blue/adamginsburg/abulatek/brick/first_results/region_temperatures/centralcoreellipse.reg')\n",
    "\n",
    "# smoothed_cube_reg = smoothed_cube.subcube_from_regions(reg)"
   ]
  },
  {
   "cell_type": "code",
   "execution_count": 10,
   "metadata": {},
   "outputs": [
    {
     "name": "stdout",
     "output_type": "stream",
     "text": [
      "[########################################] | 100% Completed | 11.06 s\n"
     ]
    }
   ],
   "source": [
    "#m0 = smoothed_cube.moment0()\n",
    "m0 = smoothed_cube[0] # HACK to make go faster"
   ]
  },
  {
   "cell_type": "code",
   "execution_count": 11,
   "metadata": {},
   "outputs": [
    {
     "ename": "ModuleNotFoundError",
     "evalue": "No module named 'regions'",
     "output_type": "error",
     "traceback": [
      "\u001b[0;31m---------------------------------------------------------------------------\u001b[0m",
      "\u001b[0;31mModuleNotFoundError\u001b[0m                       Traceback (most recent call last)",
      "Input \u001b[0;32mIn [11]\u001b[0m, in \u001b[0;36m<cell line: 2>\u001b[0;34m()\u001b[0m\n\u001b[1;32m      1\u001b[0m \u001b[38;5;66;03m# Take the mean spectrum of the outflow cavity region\u001b[39;00m\n\u001b[0;32m----> 2\u001b[0m \u001b[38;5;28;01mimport\u001b[39;00m \u001b[38;5;21;01mregions\u001b[39;00m\n\u001b[1;32m      4\u001b[0m reg \u001b[38;5;241m=\u001b[39m regions\u001b[38;5;241m.\u001b[39mRegions\u001b[38;5;241m.\u001b[39mread(\u001b[38;5;124m'\u001b[39m\u001b[38;5;124moutflow_cavity_region.reg\u001b[39m\u001b[38;5;124m'\u001b[39m)\n\u001b[1;32m      5\u001b[0m smoothed_scube \u001b[38;5;241m=\u001b[39m smoothed_cube\u001b[38;5;241m.\u001b[39msubcube_from_regions(reg)\n",
      "\u001b[0;31mModuleNotFoundError\u001b[0m: No module named 'regions'"
     ]
    }
   ],
   "source": [
    "# Take the mean spectrum of the outflow cavity region\n",
    "import regions\n",
    "\n",
    "reg = regions.Regions.read('outflow_cavity_region.reg')\n",
    "smoothed_scube = smoothed_cube.subcube_from_regions(reg)\n",
    "mean_spectrum = smoothed_scube.mean(axis = (1, 2)) #how='slice', progressbar=True"
   ]
  },
  {
   "cell_type": "code",
   "execution_count": null,
   "metadata": {},
   "outputs": [],
   "source": [
    "# THIS IS ADAM'S HACKERY\n",
    "import pyspeckit\n",
    "sp = pyspeckit.Spectrum(xarr=mean_spectrum.spectral_axis, data=mean_spectrum)\n",
    "sp.plotter()"
   ]
  },
  {
   "cell_type": "code",
   "execution_count": null,
   "metadata": {},
   "outputs": [],
   "source": [
    "sp.xarr.convert_to_unit(u.GHz)\n",
    "sp.plotter(xmin=127.32*u.GHz, xmax=127.4*u.GHz)\n",
    "sp.specfit(guesses=[0.03, 127.35, 0.001, 0.003, 127.37, 0.001])\n",
    "sp.specfit.parinfo"
   ]
  },
  {
   "cell_type": "code",
   "execution_count": null,
   "metadata": {},
   "outputs": [],
   "source": [
    "from astropy import constants"
   ]
  },
  {
   "cell_type": "code",
   "execution_count": null,
   "metadata": {},
   "outputs": [],
   "source": [
    "v1 = -(sp.specfit.parinfo['SHIFT0'] - 127.36766)/127.36766*constants.c.to(u.km/u.s)\n",
    "v2 = -(sp.specfit.parinfo['SHIFT1'] - 127.36766)/127.36766*constants.c.to(u.km/u.s)\n",
    "v1,v2"
   ]
  },
  {
   "cell_type": "code",
   "execution_count": null,
   "metadata": {},
   "outputs": [],
   "source": [
    "sp.xarr.convert_to_unit(u.GHz)\n",
    "sp.plotter(xmin=127.8*u.GHz, xmax=127.9*u.GHz)\n",
    "sp.specfit(guesses=[0.03, 127.84, 0.001, 0.003, 127.85, 0.001])\n",
    "#sp.specfit.parinfo"
   ]
  },
  {
   "cell_type": "code",
   "execution_count": null,
   "metadata": {},
   "outputs": [],
   "source": [
    "f1 = (sp.specfit.parinfo['SHIFT0'] * (1+ v1/constants.c.to(u.km/u.s)))\n",
    "f2 = (sp.specfit.parinfo['SHIFT1'] * (1+ v2/constants.c.to(u.km/u.s)))\n",
    "f1,f2"
   ]
  },
  {
   "cell_type": "code",
   "execution_count": null,
   "metadata": {},
   "outputs": [],
   "source": [
    "from astroquery.splatalogue import Splatalogue, utils\n",
    "utils.minimize_table(Splatalogue.query_lines(f1*u.GHz*(1-5/3e5), f1*(1+5/3e5)*u.GHz))"
   ]
  },
  {
   "cell_type": "code",
   "execution_count": null,
   "metadata": {},
   "outputs": [],
   "source": [
    "import matplotlib.pyplot as plt\n",
    "\n",
    "SM_SIZE = 12\n",
    "MD_SIZE = 18\n",
    "LG_SIZE = 22\n",
    "\n",
    "plt.rc('font', size = MD_SIZE)          # controls default text sizes\n",
    "plt.rc('axes', titlesize = LG_SIZE)     # fontsize of the axes title\n",
    "plt.rc('axes', labelsize = MD_SIZE)     # fontsize of the x and y labels\n",
    "plt.rc('xtick', labelsize = MD_SIZE)    # fontsize of the tick labels\n",
    "plt.rc('ytick', labelsize = MD_SIZE)    # fontsize of the tick labels\n",
    "plt.rc('legend', fontsize = SM_SIZE)    # legend fontsize\n",
    "plt.rc('figure', titlesize = LG_SIZE)   # fontsize of the figure title"
   ]
  },
  {
   "cell_type": "code",
   "execution_count": null,
   "metadata": {},
   "outputs": [],
   "source": [
    "ax = plt.subplot(projection = m0.wcs)\n",
    "plt.plot(x, y, marker = 'x', color = 'r')\n",
    "im = ax.imshow(m0.value, origin='lower', cmap='inferno')\n",
    "cbar = plt.colorbar(im)\n",
    "cbar.set_label(f'Integrated Intensity [{m0.unit}]')\n",
    "ax.set_ylabel('Declination')\n",
    "ax.set_xlabel('Right Ascension')"
   ]
  },
  {
   "cell_type": "code",
   "execution_count": null,
   "metadata": {},
   "outputs": [],
   "source": [
    "spectrum = smoothed_cube[:, y, x].to(u.K)"
   ]
  },
  {
   "cell_type": "code",
   "execution_count": null,
   "metadata": {},
   "outputs": [],
   "source": [
    "import numpy as np\n",
    "\n",
    "fig = plt.figure(figsize = (30, 8))\n",
    "\n",
    "plt.plot(smoothed_cube.spectral_axis.to(u.GHz), np.array(spectrum), linestyle = '-', color = 'k', linewidth = 1, drawstyle = 'steps-mid')\n",
    "plt.xlabel(f\"Frequency [{smoothed_cube.spectral_axis.to(u.GHz).unit}]\")\n",
    "plt.ylabel(f\"Brightness temperature [{spectrum.unit}]\")\n",
    "plt.xlim(smoothed_cube.spectral_extrema.to(u.GHz).value)\n",
    "plt.title(f\"{freq_spws[ind]} data spectrum\")\n",
    "plt.show()"
   ]
  },
  {
   "cell_type": "markdown",
   "metadata": {},
   "source": [
    "### 4. Generate XCLASS model of the same spectral window"
   ]
  },
  {
   "cell_type": "code",
   "execution_count": null,
   "metadata": {},
   "outputs": [],
   "source": [
    "# Get path of XCLASS directory\n",
    "import os\n",
    "import sys\n",
    "XCLASSRootDir = str(os.environ.get('XCLASSRootDir', '')).strip()\n",
    "XCLASSRootDir = os.path.normpath(XCLASSRootDir) + \"/\"\n",
    "\n",
    "# Extend sys.path variable\n",
    "NewPath = XCLASSRootDir + \"build_tasks/\"\n",
    "if (not NewPath in sys.path):\n",
    "    sys.path.append(NewPath)\n",
    "\n",
    "import task_myXCLASS"
   ]
  },
  {
   "cell_type": "code",
   "execution_count": null,
   "metadata": {},
   "outputs": [],
   "source": [
    "# source_size =  0.33 # total guess, but based on Dan's data? also, not used\n",
    "tkin = 151 # 7.9842254347e+01\n",
    "Ntot = 5.0e+13 # 10**N_tot # 1.5061155735e+14 # 1.0061155735e+16\n",
    "# vwidth_fwhm = 4.21\n",
    "# vwidth = vwidth_fwhm / np.sqrt(8*np.log(2))\n",
    "# vcen = 38.0\n",
    "# tbg = 0"
   ]
  },
  {
   "cell_type": "code",
   "execution_count": null,
   "metadata": {},
   "outputs": [],
   "source": [
    "# Define path and name of molfit file\n",
    "# DEFAULT MolfitsFileName = LocalPath + \"files/my_molecules.molfit\"\n",
    "LocalPath = os.getcwd() + \"/\"\n",
    "\n",
    "MolfitsFileName = LocalPath + 'my_molecules-tout.molfit'\n",
    "\n",
    "# def set_xclass_parameters(source_size=source_size, tkin=tkin, Ntot=Ntot, vwidth_fwhm=vwidth_fwhm, vcen=vcen, filename=MolfitsFileName):\n",
    "#     with open(filename, \"w\") as fh:\n",
    "#         fh.write(f\"\"\"\n",
    "# %============================================================================================================================\n",
    "# %\n",
    "# % define molecules and their components:\n",
    "# %\n",
    "# %============================================================================================================================\n",
    "# %    source size:                 T_kin:               N_tot:            V_width:                V_off:   CFFlag:    keyword:\n",
    "# %       [arcsec]:                   [K]:              [cm-2]:            [km /s]:              [km /s]:       []:         []:\n",
    "# CH3CN;v=0;           1\n",
    "#  {source_size}       {tkin}     {Ntot}     {vwidth_fwhm}    {vcen}         c\n",
    "# \"\"\")"
   ]
  },
  {
   "cell_type": "code",
   "execution_count": null,
   "metadata": {},
   "outputs": [],
   "source": [
    "# define freq. step (in MHz)\n",
    "FreqStep = 0.1\n",
    "\n",
    "# define beam minor axis length (in arsec)\n",
    "BMIN = smoothed_cube.beam.minor.to(u.arcsec).value # None\n",
    "\n",
    "# define beam major axis length (in arsec)\n",
    "BMAJ = smoothed_cube.beam.major.to(u.arcsec).value # None\n",
    "\n",
    "# define beam position angle (in degree)\n",
    "BPA = smoothed_cube.beam.pa.to(u.deg).value # None\n",
    "\n",
    "# depending on parameter \"Inter_Flag\" define beam size (in arcsec)\n",
    "# (Inter_Flag = True) or size of telescope (in m) (Inter_Flag = False)\n",
    "TelescopeSize = np.abs(BMIN**2 - BMAJ**2)**0.5 # arcsec # 1000.0 # meters\n",
    "\n",
    "# interferometric data?\n",
    "Inter_Flag = True\n",
    "\n",
    "# define red shift\n",
    "Redshift = None\n",
    "\n",
    "# BACKGROUND: describe continuum with tBack and tslope only\n",
    "t_back_flag = True\n",
    "\n",
    "# BACKGROUND: define background temperature (in K)\n",
    "tBack = 0.0\n",
    "\n",
    "# BACKGROUND: define temperature slope (dimensionless)\n",
    "tslope = 0.0\n",
    "\n",
    "# BACKGROUND: define path and name of ASCII file describing continuum as function\n",
    "#             of frequency\n",
    "BackgroundFileName = \"\"\n",
    "\n",
    "# DUST: define hydrogen column density (in cm^(-2))\n",
    "N_H = 1.e22\n",
    "\n",
    "# DUST: define spectral index for dust (dimensionless)\n",
    "beta_dust = 0.0\n",
    "\n",
    "# DUST: define kappa at 1.3 mm (cm^(2) g^(-1))\n",
    "kappa_1300 = 0.0\n",
    "\n",
    "# DUST: define path and name of ASCII file describing dust opacity as\n",
    "#       function of frequency\n",
    "DustFileName = \"\"\n",
    "\n",
    "# FREE-FREE: define electronic temperature (in K)\n",
    "Te_ff = None\n",
    "\n",
    "# FREE-FREE: define emission measure (in pc cm^(-6))\n",
    "EM_ff = None\n",
    "\n",
    "# SYNCHROTRON: define kappa of energy spectrum of electrons (electrons m^(−3) GeV^(-1))\n",
    "kappa_sync = None\n",
    "\n",
    "# SYNCHROTRON: define magnetic field (in Gauss)\n",
    "B_sync = None\n",
    "\n",
    "# SYNCHROTRON: energy spectral index (dimensionless)\n",
    "p_sync = None\n",
    "\n",
    "# SYNCHROTRON: thickness of slab (in AU)\n",
    "l_sync = None\n",
    "\n",
    "# PHEN-CONT: define phenomenological function which is used to describe\n",
    "#            the continuum\n",
    "ContPhenFuncID = None\n",
    "\n",
    "# PHEN-CONT: define first parameter for phenomenological function\n",
    "ContPhenFuncParam1 = None\n",
    "\n",
    "# PHEN-CONT: define second parameter for phenomenological function\n",
    "ContPhenFuncParam2 = None\n",
    "\n",
    "# PHEN-CONT: define third parameter for phenomenological function\n",
    "ContPhenFuncParam3 = None\n",
    "\n",
    "# PHEN-CONT: define fourth parameter for phenomenological function\n",
    "ContPhenFuncParam4 = None\n",
    "\n",
    "# PHEN-CONT: define fifth parameter for phenomenological function\n",
    "ContPhenFuncParam5 = None\n",
    "\n",
    "# use iso ratio file?\n",
    "iso_flag = True\n",
    "\n",
    "# define path and name of iso ratio file\n",
    "#DEFAULT IsoTableFileName = LocalPath + \"files/my_isonames.txt\"\n",
    "IsoTableFileName = LocalPath + \"my_isonames.txt\"\n",
    "\n",
    "# define path and name of file describing Non-LTE parameters\n",
    "CollisionFileName = \"\"\n",
    "\n",
    "# define number of pixels in x-direction (used for sub-beam description)\n",
    "NumModelPixelXX = 100\n",
    "\n",
    "# define number of pixels in y-direction (used for sub-beam description)\n",
    "NumModelPixelYY = 100\n",
    "\n",
    "# take local-overlap into account or not\n",
    "LocalOverlapFlag = False\n",
    "\n",
    "# disable sub-beam description\n",
    "NoSubBeamFlag = True\n",
    "\n",
    "# define path and name of database file\n",
    "dbFilename = \"\"\n",
    "\n",
    "# define rest freq. (in MHz)\n",
    "RestFreq = 0.0\n",
    "\n",
    "# define v_lsr (in km/s)\n",
    "vLSR = 0.0"
   ]
  },
  {
   "cell_type": "code",
   "execution_count": null,
   "metadata": {},
   "outputs": [],
   "source": [
    "import io\n",
    "from contextlib import redirect_stdout\n",
    "\n",
    "def myxclass_call(FreqMin=1e3, FreqMax=1e4, verbose=False):\n",
    "    ## call myXCLASS function\n",
    "    print(MolfitsFileName)\n",
    "    with io.StringIO() as buf, redirect_stdout(buf):\n",
    "        modeldata, log, TransEnergies, IntOpt, JobDir = task_myXCLASS.myXCLASS(\n",
    "                                                    FreqMin, FreqMax, FreqStep,\n",
    "                                                    TelescopeSize, BMIN, BMAJ,\n",
    "                                                    BPA, Inter_Flag, Redshift,\n",
    "                                                    t_back_flag, tBack, tslope,\n",
    "                                                    BackgroundFileName,\n",
    "                                                    N_H, beta_dust, kappa_1300,\n",
    "                                                    DustFileName, Te_ff, EM_ff,\n",
    "                                                    kappa_sync, B_sync, p_sync,\n",
    "                                                    l_sync, ContPhenFuncID,\n",
    "                                                    ContPhenFuncParam1,\n",
    "                                                    ContPhenFuncParam2,\n",
    "                                                    ContPhenFuncParam3,\n",
    "                                                    ContPhenFuncParam4,\n",
    "                                                    ContPhenFuncParam5,\n",
    "                                                    MolfitsFileName, iso_flag,\n",
    "                                                    IsoTableFileName,\n",
    "                                                    CollisionFileName,\n",
    "                                                    NumModelPixelXX,\n",
    "                                                    NumModelPixelYY,\n",
    "                                                    LocalOverlapFlag,\n",
    "                                                    NoSubBeamFlag,\n",
    "                                                    dbFilename,\n",
    "                                                    RestFreq, vLSR)\n",
    "        output = buf.getvalue()\n",
    "    if verbose:\n",
    "        print(output)\n",
    "        \n",
    "    return modeldata, log, TransEnergies, IntOpt, JobDir"
   ]
  },
  {
   "cell_type": "code",
   "execution_count": null,
   "metadata": {},
   "outputs": [],
   "source": [
    "# define min. freq. (in MHz)\n",
    "FreqMin = np.min(spectrum.spectral_axis.to(u.MHz)).value\n",
    "# define max. freq. (in MHz)\n",
    "FreqMax = np.max(spectrum.spectral_axis.to(u.MHz)).value"
   ]
  },
  {
   "cell_type": "code",
   "execution_count": null,
   "metadata": {},
   "outputs": [],
   "source": [
    "# # set_xclass_parameters() # The molfit file is already created, I don't want to mess with it; to run this, need to uncomment function definition a few cells ago\n",
    "# modeldata, log, TransEnergies, IntOpt, JobDir = myxclass_call(FreqMin=FreqMin, FreqMax=FreqMax)"
   ]
  },
  {
   "cell_type": "code",
   "execution_count": null,
   "metadata": {},
   "outputs": [],
   "source": [
    "# fig = plt.figure(figsize = (30, 8))\n",
    "\n",
    "# plt.plot((modeldata[:,0]*u.MHz).to(u.GHz), modeldata[:,1], linestyle = '-', color = 'r', linewidth = 1, drawstyle = 'steps-mid')\n",
    "# plt.xlabel(f\"Frequency [{(modeldata[:,0]*u.MHz).to(u.GHz).unit}]\")\n",
    "# plt.ylabel(f\"Brightness temperature [{spectrum.unit}]\")\n",
    "# plt.xlim(smoothed_cube.spectral_extrema.to(u.GHz).value)\n",
    "# plt.title(f\"{freq_spws[ind]} model spectrum, $T$ = {tkin:.1f} K, $\\log_{{10}}(N_{{tot}})$ = {np.log10(Ntot):.2f}\") # y = 0.92\n",
    "# plt.show()"
   ]
  },
  {
   "cell_type": "markdown",
   "metadata": {},
   "source": [
    "### 5. Overplot our data and the XCLASS model"
   ]
  },
  {
   "cell_type": "code",
   "execution_count": null,
   "metadata": {},
   "outputs": [],
   "source": [
    "# Preliminary continuum subtraction\n",
    "spectrum_contsub = np.array(spectrum) - np.median(np.array(spectrum))"
   ]
  },
  {
   "cell_type": "code",
   "execution_count": null,
   "metadata": {},
   "outputs": [],
   "source": [
    "# fig = plt.figure(figsize = (30, 8))\n",
    "\n",
    "# plt.plot(smoothed_cube.spectral_axis.to(u.GHz), spectrum_contsub, linestyle = '-', color = 'k', linewidth = 0.75, drawstyle = 'steps-mid', \n",
    "#          label = \"Data\")\n",
    "# plt.plot((modeldata[:,0]*u.MHz).to(u.GHz), modeldata[:,1], linestyle = '--', color = 'r', linewidth = 1, drawstyle = 'steps-mid', \n",
    "#          label = \"Model\")\n",
    "# plt.legend(loc='best')\n",
    "# plt.xlabel(f\"Frequency [{smoothed_cube.spectral_axis.to(u.GHz).unit}]\")\n",
    "# plt.ylabel(f\"Brightness temperature [{spectrum.unit}]\")\n",
    "# plt.xlim(smoothed_cube.spectral_extrema.to(u.GHz).value)\n",
    "# plt.title(f\"{freq_spws[ind]} data and model comparison, $T$ = {tkin:.1f} K, $\\log_{{10}}(N_{{tot}})$ = {np.log10(Ntot):.2f}\") # y = 0.92\n",
    "# plt.show()"
   ]
  },
  {
   "cell_type": "markdown",
   "metadata": {},
   "source": [
    "### 6. Repeat, but make a model for each molecule separately"
   ]
  },
  {
   "cell_type": "code",
   "execution_count": null,
   "metadata": {},
   "outputs": [],
   "source": [
    "import glob\n",
    "MolfitsFileNames = glob.glob(LocalPath + 'individuals/*.molfit')"
   ]
  },
  {
   "cell_type": "code",
   "execution_count": null,
   "metadata": {},
   "outputs": [],
   "source": [
    "MolfitsFileNames[13]"
   ]
  },
  {
   "cell_type": "code",
   "execution_count": null,
   "metadata": {},
   "outputs": [],
   "source": [
    "MolfitsFileName = '/blue/adamginsburg/abulatek/brick/first_results/lots_of_plotting/all/individuals/HC3Nv=0.molfit'\n",
    "modeldata, log, TransEnergies, IntOpt, JobDir = myxclass_call(FreqMin=FreqMin, FreqMax=FreqMax)"
   ]
  },
  {
   "cell_type": "code",
   "execution_count": null,
   "metadata": {},
   "outputs": [],
   "source": [
    "modeldata_all = []\n",
    "transenergies_all = []\n",
    "for MolfitsFileName in MolfitsFileNames:\n",
    "    print(MolfitsFileName)\n",
    "    modeldata, log, TransEnergies, IntOpt, JobDir = myxclass_call(FreqMin=FreqMin, FreqMax=FreqMax)\n",
    "    modeldata_all.append(modeldata)\n",
    "    transenergies_all.append(TransEnergies)"
   ]
  },
  {
   "cell_type": "code",
   "execution_count": null,
   "metadata": {},
   "outputs": [],
   "source": [
    "# User-maintained color list\n",
    "colors = {'13CO;v=0;'   : ['tab:blue',   '--'],\n",
    "          'CCCS;v=0;'   : ['tab:orange', '--'],\n",
    "          'CCH;v=0;'    : ['tab:green',  '--'],\n",
    "          'CCS;v=0;'    : ['tab:red',    '--'],\n",
    "          'CH3CN;v=0;'  : ['tab:purple', '--'],\n",
    "          'CH3OH;v=0;'  : ['tab:pink',   '--'],\n",
    "          'CO;v=0;'     : ['tab:olive',  '--'],\n",
    "          'H2CS;v=0;'   : ['tab:cyan',   '--'],\n",
    "          'HC3N;v=0;'   : ['tab:blue',   '-.'],\n",
    "          'HCN;v=0;'    : ['tab:orange', '-.'],\n",
    "          'HCO+;v=0;'   : ['tab:green',  '-.'],\n",
    "          'HDCO;v=0;'   : ['tab:red',    '-.'],\n",
    "          'HNCO;v=0;'   : ['tab:purple', '-.'],\n",
    "          'HNC;v=0;'    : ['tab:pink',   '-.'],\n",
    "          'HOCO+;v=0;'  : ['tab:olive',  '-.'],\n",
    "          'N2H+;v=0;'   : ['tab:cyan',   '-.'],\n",
    "          'NH2D;v=0;'   : ['tab:blue',   ':'],\n",
    "          'NH3;v=0;'    : ['tab:orange', ':'],\n",
    "          'OCS;v=0;'    : ['tab:green',  ':'],\n",
    "          'C17O;v=0;'   : ['tab:red',    ':'],\n",
    "          'H13CO+;v=0;' : ['tab:purple', ':'],\n",
    "          '13CO;v=0;'   : ['tab:pink',   ':'],\n",
    "          'HC15N;v=0;'  : ['tab:olive',  ':'],\n",
    "          'HN13C;v=0;'  : ['tab:cyan',   ':'],\n",
    "          'C18O;v=0;'   : ['tab:blue',   (0,(3,1,1,1,1,1))],\n",
    "          #'H2COH+;v=0;' : ['tab:orange', (0,(3,1,1,1,1,1))],\n",
    "          'NH2CHO;v=0;' : ['tab:green',  (0,(3,1,1,1,1,1))],\n",
    "          'H13CN;v=0;'  : ['tab:red',    (0,(3,1,1,1,1,1))],\n",
    "         }\n",
    "# to add: C3H2, CH3OCHO, CH3OCH3, H2CO, SO, SO2, 13CS, CS, CN\n",
    "# column densities: {'CO': 1e18, '13CO': 1e17, 'H2CO': 1e16, 'CH3OH': 1e15, 'CH3OCHO': 1e14, 'CH3OCH3': }"
   ]
  },
  {
   "cell_type": "code",
   "execution_count": null,
   "metadata": {},
   "outputs": [],
   "source": []
  },
  {
   "cell_type": "code",
   "execution_count": null,
   "metadata": {},
   "outputs": [],
   "source": []
  },
  {
   "cell_type": "code",
   "execution_count": null,
   "metadata": {},
   "outputs": [],
   "source": [
    "# fig = plt.figure(figsize = (30, 8))\n",
    "\n",
    "# for index, (modeldata, transenergies) in enumerate(zip(modeldata_all, transenergies_all)):\n",
    "#     if len(modeldata) != 0:\n",
    "#         colorname = transenergies[1][-1]\n",
    "#         molname = MolfitsFileNames[index].replace('/blue/adamginsburg/abulatek/brick/first_results/lots_of_plotting/all/individuals/', '').replace('.molfit', '')\n",
    "#         plt.plot((modeldata[:,0]*u.MHz).to(u.GHz), modeldata[:,1], colors[colorname], linewidth = 1, drawstyle = 'steps-mid', \n",
    "#                  label = molname)\n",
    "#         plt.xlabel(f\"Frequency [{(modeldata[:,0]*u.MHz).to(u.GHz).unit}]\")\n",
    "#     else:\n",
    "#         print(f\"***** Warning! {molname} was not modeled! *****\")\n",
    "# plt.legend(loc = 'best')\n",
    "# plt.ylabel(f\"Brightness temperature [{spectrum.unit}]\")\n",
    "# plt.xlim(smoothed_cube.spectral_extrema.to(u.GHz).value)\n",
    "# plt.title(f\"{freq_spws[ind]} model spectrum, $T$ = {tkin:.1f} K, $\\log_{{10}}(N_{{tot}})$ = {np.log10(Ntot):.2f}\") # y = 0.92 # NOTE: TKIN AND NTOT MAY CHANGE WHEN WE FIT !\n",
    "# plt.show()"
   ]
  },
  {
   "cell_type": "code",
   "execution_count": null,
   "metadata": {},
   "outputs": [],
   "source": [
    "from astropy.stats import mad_std\n",
    "\n",
    "# Get MAD-estimated RMS of data spectrum\n",
    "mad_rms = mad_std(spectrum_contsub)"
   ]
  },
  {
   "cell_type": "code",
   "execution_count": null,
   "metadata": {},
   "outputs": [],
   "source": [
    "# # Set up color and linestyle cycler\n",
    "# from cycler import cycler\n",
    "# plt.rc('axes', prop_cycle=(cycler('color', ['xkcd:azure', 'xkcd:orange', 'xkcd:teal', 'xkcd:magenta']) * cycler('linestyle', ['--', ':', '-.', (0,(3,1,1,1,1,1))])))"
   ]
  },
  {
   "cell_type": "code",
   "execution_count": null,
   "metadata": {},
   "outputs": [],
   "source": [
    "fig = plt.figure(figsize = (30, 8))\n",
    "\n",
    "plt.plot(smoothed_cube.spectral_axis.to(u.GHz), spectrum_contsub, linestyle = '-', color = 'grey', linewidth = 1, drawstyle = 'steps-mid', \n",
    "        label = \"Data\")\n",
    "plt.axhspan(ymin = -mad_rms, ymax = mad_rms, alpha = 0.25, color = 'k', label = 'RMS level in data')\n",
    "for index, (modeldata, transenergies) in enumerate(zip(modeldata_all, transenergies_all)):\n",
    "    molname = MolfitsFileNames[index].replace('/blue/adamginsburg/abulatek/brick/first_results/lots_of_plotting/all/individuals/', '').replace('.molfit', '')\n",
    "    if len(modeldata) != 0:\n",
    "        colorname = transenergies[1][-1]\n",
    "        plt.plot((modeldata[:,0]*u.MHz).to(u.GHz), modeldata[:,1], color = colors[colorname][0], linestyle = colors[colorname][1], linewidth = 1, \n",
    "                 drawstyle = 'steps-mid', label = molname)\n",
    "    else:\n",
    "        print(f\"***** Warning! {molname} was not modeled! *****\")\n",
    "plt.legend(loc = 'best')\n",
    "plt.xlabel(f\"Frequency [{smoothed_cube.spectral_axis.to(u.GHz).unit}]\")\n",
    "plt.ylabel(f\"Brightness temperature [{spectrum.unit}]\")\n",
    "plt.xlim(smoothed_cube.spectral_extrema.to(u.GHz).value)\n",
    "# plt.xlim(137.25, 137.50)\n",
    "plt.title(f\"{freq_spws[ind]} data and model comparison, $T$ = {tkin:.1f} K, $\\log_{{10}}(N_{{tot}})$ = {np.log10(Ntot):.2f}\") # y = 0.92 # NOTE: TKIN AND NTOT MAY CHANGE WHEN WE FIT !\n",
    "plt.savefig(f\"spectra_ID/{freq_spws[ind]}.pdf\", facecolor = 'w', edgecolor = 'w', bbox_inches = 'tight') # dpi = 300\n",
    "plt.show()"
   ]
  },
  {
   "cell_type": "code",
   "execution_count": null,
   "metadata": {},
   "outputs": [],
   "source": [
    "import sqlite3"
   ]
  },
  {
   "cell_type": "code",
   "execution_count": null,
   "metadata": {},
   "outputs": [],
   "source": [
    "conn = sqlite3.connect('/orange/adamginsburg/software/XCLASS-Interface/Database/cdms_sqlite.db')"
   ]
  },
  {
   "cell_type": "code",
   "execution_count": null,
   "metadata": {},
   "outputs": [],
   "source": [
    "conn.cursor()"
   ]
  },
  {
   "cell_type": "code",
   "execution_count": null,
   "metadata": {},
   "outputs": [],
   "source": [
    "cursor = conn.cursor()\n",
    "cursor.execute(\"SELECT name FROM sqlite_master WHERE type='table';\")\n",
    "print(cursor.fetchall())"
   ]
  },
  {
   "cell_type": "code",
   "execution_count": null,
   "metadata": {},
   "outputs": [],
   "source": [
    "cursor = conn.cursor()\n",
    "cursor.execute(\"SELECT * FROM Transitions\")\n",
    "cursor.description()"
   ]
  },
  {
   "cell_type": "code",
   "execution_count": null,
   "metadata": {},
   "outputs": [],
   "source": [
    "print(\"ALIVE\")"
   ]
  },
  {
   "cell_type": "code",
   "execution_count": null,
   "metadata": {},
   "outputs": [],
   "source": []
  }
 ],
 "metadata": {
  "kernelspec": {
   "display_name": "Python 3 (ipykernel)",
   "language": "python",
   "name": "python3"
  },
  "language_info": {
   "codemirror_mode": {
    "name": "ipython",
    "version": 3
   },
   "file_extension": ".py",
   "mimetype": "text/x-python",
   "name": "python",
   "nbconvert_exporter": "python",
   "pygments_lexer": "ipython3",
   "version": "3.9.13"
  }
 },
 "nbformat": 4,
 "nbformat_minor": 4
}
