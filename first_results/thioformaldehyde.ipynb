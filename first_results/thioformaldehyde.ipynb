{
 "cells": [
  {
   "cell_type": "code",
   "execution_count": 8,
   "metadata": {},
   "outputs": [],
   "source": [
    "# Make thioformaldehyde cubes for inspection with DS9\n",
    "from astroquery.splatalogue import Splatalogue\n",
    "from spectral_cube import SpectralCube\n",
    "from astropy import units as u"
   ]
  },
  {
   "cell_type": "code",
   "execution_count": 9,
   "metadata": {},
   "outputs": [
    {
     "data": {
      "text/html": [
       "<i>Table length=7</i>\n",
       "<table id=\"table47368415015656\" class=\"table-striped table-bordered table-condensed\">\n",
       "<thead><tr><th>Species</th><th>Chemical Name</th><th>Freq-GHz(rest frame,redshifted)</th><th>Freq Err(rest frame,redshifted)</th><th>Meas Freq-GHz(rest frame,redshifted)</th><th>Meas Freq Err(rest frame,redshifted)</th><th>Resolved QNs</th><th>CDMS/JPL Intensity</th><th>S&lt;sub&gt;ij&lt;/sub&gt;&amp;#956;&lt;sup&gt;2&lt;/sup&gt; (D&lt;sup&gt;2&lt;/sup&gt;)</th><th>S&lt;sub&gt;ij&lt;/sub&gt;</th><th>Log&lt;sub&gt;10&lt;/sub&gt; (A&lt;sub&gt;ij&lt;/sub&gt;)</th><th>Lovas/AST Intensity</th><th>E_L (cm^-1)</th><th>E_L (K)</th><th>E_U (cm^-1)</th><th>E_U (K)</th><th>Quantum Number Code</th><th>Linelist</th></tr></thead>\n",
       "<thead><tr><th>str4</th><th>str16</th><th>float64</th><th>float64</th><th>float64</th><th>float64</th><th>str17</th><th>float64</th><th>float64</th><th>float64</th><th>float64</th><th>str4</th><th>float64</th><th>float64</th><th>float64</th><th>float64</th><th>int64</th><th>str3</th></tr></thead>\n",
       "<tr><td>H2CS</td><td>Thioformaldehyde</td><td>--</td><td>--</td><td>137.36917</td><td>0.00025</td><td>4(3,2)-3(3,1)</td><td>-3.7147</td><td>14.24214</td><td>5.238</td><td>-4.79819</td><td>b</td><td>89.1451</td><td>128.25918</td><td>93.72724</td><td>134.85182</td><td>303</td><td>JPL</td></tr>\n",
       "<tr><td>H2CS</td><td>Thioformaldehyde</td><td>--</td><td>--</td><td>137.36917</td><td>0.00025</td><td>4(3,2)-3(3,1)</td><td>-3.7147</td><td>14.24214</td><td>5.238</td><td>-4.79819</td><td>b</td><td>89.1451</td><td>128.25918</td><td>93.72724</td><td>134.85182</td><td>303</td><td>JPL</td></tr>\n",
       "<tr><td>H2CS</td><td>Thioformaldehyde</td><td>--</td><td>--</td><td>137.371051</td><td>0.0003</td><td>4(0,4)-3(0,3)</td><td>-3.6615</td><td>10.84945</td><td>3.99</td><td>-4.43922</td><td>0.37</td><td>6.8745</td><td>9.89082</td><td>11.45671</td><td>16.48355</td><td>303</td><td>JPL</td></tr>\n",
       "<tr><td>H2CS</td><td>Thioformaldehyde</td><td>--</td><td>--</td><td>137.382029</td><td>0.00032</td><td>4(2,3)-3(2,2)</td><td>-3.8626</td><td>8.13826</td><td>2.993</td><td>-4.56399</td><td>0.10</td><td>43.5038</td><td>62.5919</td><td>48.08637</td><td>69.18516</td><td>303</td><td>JPL</td></tr>\n",
       "<tr><td>H2CS</td><td>Thioformaldehyde</td><td>--</td><td>--</td><td>137.41177</td><td>0.00025</td><td>4(2,2)-3(2,1)</td><td>-3.8624</td><td>8.13852</td><td>2.993</td><td>-4.56369</td><td>0.09</td><td>43.5043</td><td>62.59262</td><td>48.08786</td><td>69.18731</td><td>303</td><td>JPL</td></tr>\n",
       "<tr><td>H2CS</td><td>Thioformaldehyde</td><td>--</td><td>--</td><td>139.48341</td><td>0.00028</td><td>4(1,3)-3(1,2)</td><td>-3.2185</td><td>30.51674</td><td>11.223</td><td>-4.44732</td><td>0.17</td><td>16.1465</td><td>23.23108</td><td>20.79917</td><td>29.92519</td><td>303</td><td>JPL</td></tr>\n",
       "<tr><td>H2CS</td><td>Thioformaldehyde</td><td>142.0000259</td><td>0.000419</td><td>--</td><td>--</td><td>16(1,15)-16(1,16)</td><td>-4.9962</td><td>0.99137</td><td>0.365</td><td>-6.4766</td><td>--</td><td>162.5056</td><td>233.80796</td><td>167.24221</td><td>240.62285</td><td>303</td><td>JPL</td></tr>\n",
       "</table>"
      ],
      "text/plain": [
       "<Table length=7>\n",
       "Species  Chemical Name   ... Quantum Number Code Linelist\n",
       "  str4       str16       ...        int64          str3  \n",
       "------- ---------------- ... ------------------- --------\n",
       "   H2CS Thioformaldehyde ...                 303      JPL\n",
       "   H2CS Thioformaldehyde ...                 303      JPL\n",
       "   H2CS Thioformaldehyde ...                 303      JPL\n",
       "   H2CS Thioformaldehyde ...                 303      JPL\n",
       "   H2CS Thioformaldehyde ...                 303      JPL\n",
       "   H2CS Thioformaldehyde ...                 303      JPL\n",
       "   H2CS Thioformaldehyde ...                 303      JPL"
      ]
     },
     "execution_count": 9,
     "metadata": {},
     "output_type": "execute_result"
    }
   ],
   "source": [
    "Splatalogue.query_lines(136*u.GHz, 155*u.GHz, chemical_name='H2CS', line_lists=['JPL'], \n",
    "                        show_qn_code=True)"
   ]
  },
  {
   "cell_type": "code",
   "execution_count": 10,
   "metadata": {},
   "outputs": [
    {
     "name": "stderr",
     "output_type": "stream",
     "text": [
      "/blue/adamginsburg/abulatek/anaconda/lib/python3.7/site-packages/casa_formats_io-0.1-py3.7-linux-x86_64.egg/casa_formats_io/casa_dask.py:232: RuntimeWarning: divide by zero encountered in long_scalars\n",
      "  factors = [f for f in range(stacks[dim] + 1) if stacks[dim] % f == 0]\n",
      "WARNING: StokesWarning: Cube is a Stokes cube, returning spectral cube for I component [spectral_cube.io.core]\n"
     ]
    }
   ],
   "source": [
    "results = '/blue/adamginsburg/abulatek/brick/symlinks/imaging_results/'\n",
    "freq_spw = '137_spw69'\n",
    "fn = results+'source_ab_'+freq_spw+'_clean_2sigma_n50000_masked_3sigma_pbmask0p18.image'\n",
    "cube = SpectralCube.read(fn, format='casa_image')\n",
    "h2cscube = cube.with_spectral_unit(u.km/u.s, velocity_convention='radio', \n",
    "                                   rest_value=137.371051*u.GHz).spectral_slab(-10*u.km/u.s, 80*u.km/u.s)\n",
    "h2cscube.write('H2CS_404-303.fits')"
   ]
  },
  {
   "cell_type": "code",
   "execution_count": null,
   "metadata": {},
   "outputs": [],
   "source": []
  }
 ],
 "metadata": {
  "kernelspec": {
   "display_name": "Python 3",
   "language": "python",
   "name": "python3"
  },
  "language_info": {
   "codemirror_mode": {
    "name": "ipython",
    "version": 3
   },
   "file_extension": ".py",
   "mimetype": "text/x-python",
   "name": "python",
   "nbconvert_exporter": "python",
   "pygments_lexer": "ipython3",
   "version": "3.7.0"
  }
 },
 "nbformat": 4,
 "nbformat_minor": 2
}
