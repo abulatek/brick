{
 "cells": [
  {
   "cell_type": "markdown",
   "metadata": {},
   "source": [
    "# Synthetic Rotational Diagram\n",
    "## February 2, 2022"
   ]
  },
  {
   "cell_type": "markdown",
   "metadata": {},
   "source": [
    "This is a tutorial written by Alyssa Bulatek and Adam Ginsburg to demonstrate my rotational diagram fitting code on a synthetic spectrum generated with `pyspeckit`. It serves as a round-trip proof of concept of our rotational diagram fitting code, starting with a synthetic spectrum and a set temperature and column density, and retrieving the values from a fit to the data. [summary of tutorial, what molecule we use]\n",
    "\n",
    "[To be submitted as an astropy or pyspeckit tutorial.]"
   ]
  },
  {
   "cell_type": "markdown",
   "metadata": {},
   "source": [
    "### Imports and configuration"
   ]
  },
  {
   "cell_type": "code",
   "execution_count": 2,
   "metadata": {},
   "outputs": [],
   "source": [
    "%matplotlib inline"
   ]
  },
  {
   "cell_type": "markdown",
   "metadata": {},
   "source": [
    "## Step 1: Generate a fake spectral axis\n",
    "\n",
    "We will begin by initializing the spectral axis we want to use for our synthetic spectrum, which will be between some minimum frequency `fmin` and maximum frequency `fmax`."
   ]
  },
  {
   "cell_type": "code",
   "execution_count": 3,
   "metadata": {},
   "outputs": [],
   "source": [
    "from astropy import units as u\n",
    "\n",
    "fmin = 147.0*u.GHz\n",
    "fmax = 147.2*u.GHz"
   ]
  },
  {
   "cell_type": "code",
   "execution_count": 4,
   "metadata": {},
   "outputs": [],
   "source": [
    "import numpy as np\n",
    "\n",
    "sp_axis = np.linspace(fmin, fmax, 1000)"
   ]
  },
  {
   "cell_type": "markdown",
   "metadata": {},
   "source": [
    "## Step 2: Generate a synthetic spectrum\n",
    "\n",
    "With our fake spectral axis, we can generate a synthetic spectrum. We will begin by defining some parameters for the spectrum, i.e. a filling factor and an offset. [should say what these mean]"
   ]
  },
  {
   "cell_type": "code",
   "execution_count": 5,
   "metadata": {},
   "outputs": [],
   "source": [
    "fillingfactor = 1\n",
    "offset = 0"
   ]
  },
  {
   "cell_type": "markdown",
   "metadata": {},
   "source": [
    "Then, we'll define which molecular species we want to include in our synthetic spectrum. This could be expanded to include multiple species, but we'll just use methyl cyanide (CH3CN) for now."
   ]
  },
  {
   "cell_type": "code",
   "execution_count": 6,
   "metadata": {},
   "outputs": [],
   "source": [
    "species = 'CH3CN'"
   ]
  },
  {
   "cell_type": "markdown",
   "metadata": {},
   "source": [
    "Now, we'll get the molecular parameters for this species from Splatalogue. All of the transitions for this molecule between `fmin` and `fmax` will be considered. As an output, the function `get_molecular_parameters` will give us the frequencies, Eistein *A* values, degrees of freedom, and upper-state energies for each of the transitions in the set frequency range, as well as the partition function for that molecule."
   ]
  },
  {
   "cell_type": "code",
   "execution_count": 7,
   "metadata": {},
   "outputs": [],
   "source": [
    "import pyspeckit\n",
    "from pyspeckit.spectrum.models.lte_molecule import get_molecular_parameters\n",
    "from pyspeckit.spectrum.models import lte_molecule\n",
    "\n",
    "freqs, aij, deg, EU, partfunc = get_molecular_parameters(species, fmin = fmin, fmax = fmax)"
   ]
  },
  {
   "cell_type": "markdown",
   "metadata": {},
   "source": [
    "We will now set several parameters that describe the source, so that they can be user-configurated. These values are the central velocity `v_cen`, the velocity dispersion `v_disp`, the temperature `temp`, and the total column density `N_tot`. [can include multiple velocity components]"
   ]
  },
  {
   "cell_type": "code",
   "execution_count": 36,
   "metadata": {},
   "outputs": [],
   "source": [
    "v_cen = 50*u.km/u.s\n",
    "v_disp = 1.5*u.km/u.s\n",
    "temp = 100*u.K\n",
    "N_tot = (10**(13.69))*u.cm**-2"
   ]
  },
  {
   "cell_type": "markdown",
   "metadata": {},
   "source": [
    "Now we can generate model data that incorporates all of these transitions under the conditions we just set. The `generate_model` function takes as inputs the spectral axis we created earlier, several properties of the source (the central velocity, the velocity dispersion, the temperature, and the total column density), and the outputs from our query for molecular parameters. [want units—what are they?]"
   ]
  },
  {
   "cell_type": "code",
   "execution_count": 37,
   "metadata": {},
   "outputs": [],
   "source": [
    "mod = lte_molecule.generate_model(sp_axis, v_cen, v_disp, temp, N_tot,\n",
    "                                  freqs, aij, deg, EU, partfunc)"
   ]
  },
  {
   "cell_type": "markdown",
   "metadata": {},
   "source": [
    "We can now build a `pyspeckit.Spectrum` object using this model data and the spectral axis we generated. We can plot this spectrum: it looks like a methyl cyanide ladder!"
   ]
  },
  {
   "cell_type": "code",
   "execution_count": 38,
   "metadata": {},
   "outputs": [
    {
     "data": {
      "text/latex": [
       "$\\mathrm{K}$"
      ],
      "text/plain": [
       "Unit(\"K\")"
      ]
     },
     "execution_count": 38,
     "metadata": {},
     "output_type": "execute_result"
    }
   ],
   "source": [
    "mod_sp.unit"
   ]
  },
  {
   "cell_type": "code",
   "execution_count": 39,
   "metadata": {},
   "outputs": [],
   "source": [
    "import matplotlib.pyplot as plt\n",
    "from astropy import constants"
   ]
  },
  {
   "cell_type": "code",
   "execution_count": 63,
   "metadata": {},
   "outputs": [],
   "source": [
    "# lte_molecule.generate_model??"
   ]
  },
  {
   "cell_type": "code",
   "execution_count": 64,
   "metadata": {},
   "outputs": [
    {
     "name": "stderr",
     "output_type": "stream",
     "text": [
      "WARNING: No header given.  Creating an empty one.\n"
     ]
    },
    {
     "data": {
      "image/png": "[encoded data removed]",
      "text/plain": [
       "<Figure size 432x288 with 1 Axes>"
      ]
     },
     "metadata": {
      "needs_background": "light"
     },
     "output_type": "display_data"
    }
   ],
   "source": [
    "mod_sp = pyspeckit.Spectrum(xarr=sp_axis, data=mod, unit = u.K)\n",
    "\n",
    "mod_sp.plotter(linewidth = 1, color = 'tab:purple',\n",
    "               xlabel = f\"Frequency [{mod_sp.xarr.unit.to_string('latex_inline')}]\",\n",
    "               ylabel = f\"Brightness temperature [{mod_sp.unit.to_string('latex_inline')}]\",\n",
    "               label = f'$T$ = {temp:.1f}, $\\log_{{10}}(N_{{tot}})$ = {np.log10(N_tot.value):.2f}')\n",
    "               \n",
    "plt.xticks([147.0, 147.05, 147.1, 147.15, 147.2])\n",
    "    \n",
    "for i in range(len(freqs)): # i is the index of the loop\n",
    "    if freqs[i].to(u.GHz).value > (plt.xlim()[0] + 0.01) and freqs[i].to(u.GHz).value < (plt.xlim()[1] - 0.01):\n",
    "        kmax = len(freqs) - 1 # Maximum rotational quantum number for the ladder\n",
    "        kk = kmax - i # Get rotational quantum number of this iteration\n",
    "        shifted_freq = (freqs[kmax - kk]-(((v_cen+5*u.km/u.s)/(constants.c.to(u.km/u.s)))*freqs[kmax - kk])).to(u.GHz) # Maybe okay?\n",
    "\n",
    "        plt.text(shifted_freq.value, plt.ylim()[1]-0.1, str(kk))\n",
    "\n",
    "plt.title(f\"Synthetic CH$_3$CN Spectrum\")\n",
    "plt.legend(loc = 'lower left')\n",
    "mod_sp.plotter.savefig(f'../figures/ch3cn_synthetic_spectrum.pdf')"
   ]
  },
  {
   "cell_type": "markdown",
   "metadata": {},
   "source": [
    "## Step 3: Measure (and convert) integrated intensities\n",
    "\n",
    "Next, we'll prepare to build the rotational diagram by measuring the integrated intensities of each of the k-components of the spectrum. We will loop through each of the components, accessing the frequency, Einstein *A* value, and number of degrees of freedom for each component that we retrieved earlier. In the loop, we'll sum up the signal within some set velocity range of the center of each component, and then use the `nupper_of_kkms` function to convert the integrated intensity to an upper state column density."
   ]
  },
  {
   "cell_type": "code",
   "execution_count": 10,
   "metadata": {},
   "outputs": [],
   "source": [
    "# import warnings\n",
    "# warnings.simplefilter('ignore')"
   ]
  },
  {
   "cell_type": "code",
   "execution_count": 18,
   "metadata": {},
   "outputs": [
    {
     "name": "stdout",
     "output_type": "stream",
     "text": [
      "7\n",
      "6\n",
      "5\n",
      "4\n",
      "3\n",
      "2\n",
      "1\n",
      "0\n"
     ]
    },
    {
     "data": {
      "image/png": "[encoded data removed]",
      "text/plain": [
       "<Figure size 432x288 with 1 Axes>"
      ]
     },
     "metadata": {
      "needs_background": "light"
     },
     "output_type": "display_data"
    },
    {
     "data": {
      "image/png": "[encoded data removed]",
      "text/plain": [
       "<Figure size 432x288 with 1 Axes>"
      ]
     },
     "metadata": {
      "needs_background": "light"
     },
     "output_type": "display_data"
    },
    {
     "data": {
      "image/png": "[encoded data removed]",
      "text/plain": [
       "<Figure size 432x288 with 1 Axes>"
      ]
     },
     "metadata": {
      "needs_background": "light"
     },
     "output_type": "display_data"
    },
    {
     "data": {
      "image/png": "[encoded data removed]",
      "text/plain": [
       "<Figure size 432x288 with 1 Axes>"
      ]
     },
     "metadata": {
      "needs_background": "light"
     },
     "output_type": "display_data"
    },
    {
     "data": {
      "image/png": "[encoded data removed]",
      "text/plain": [
       "<Figure size 432x288 with 1 Axes>"
      ]
     },
     "metadata": {
      "needs_background": "light"
     },
     "output_type": "display_data"
    },
    {
     "data": {
      "image/png": "[encoded data removed]",
      "text/plain": [
       "<Figure size 432x288 with 1 Axes>"
      ]
     },
     "metadata": {
      "needs_background": "light"
     },
     "output_type": "display_data"
    },
    {
     "data": {
      "image/png": "[encoded data removed]",
      "text/plain": [
       "<Figure size 432x288 with 1 Axes>"
      ]
     },
     "metadata": {
      "needs_background": "light"
     },
     "output_type": "display_data"
    },
    {
     "data": {
      "image/png": "[encoded data removed]",
      "text/plain": [
       "<Figure size 432x288 with 1 Axes>"
      ]
     },
     "metadata": {
      "needs_background": "light"
     },
     "output_type": "display_data"
    }
   ],
   "source": [
    "import pylab as pl\n",
    "from pyspeckit.spectrum.models.lte_molecule import nupper_of_kkms\n",
    "\n",
    "log_N_upper_gs = []\n",
    "\n",
    "for freq, AA, gg in zip(freqs, aij, deg): # Loop goes low to high freq, high to low rotational index\n",
    "    # Recenter the model spectrum so the component in this iteration is at v = 0\n",
    "    mod_sp.xarr.convert_to_unit(u.km/u.s, refX = freq, velocity_convention='radio')\n",
    "    # Get spectral slice for this component, using the central velocity to recenter\n",
    "    new_sp = mod_sp.slice(v_cen - 4.5*u.km/u.s, v_cen + 4.5*u.km/u.s)\n",
    "    new_sp.plotter(figure = pl.figure())\n",
    "    # Calculate integrated intensity (sum slice and multiply by channel width)\n",
    "    slice_sum = new_sp.data.sum()*u.K\n",
    "    channel_width = np.abs(new_sp.xarr.cdelt())\n",
    "    mom0 = slice_sum*channel_width\n",
    "    # Convert the original spectrum back to frequency units\n",
    "    mod_sp.xarr.convert_to_unit(u.Hz)\n",
    "    # Calculated upper state column density from integrated intensity, convert to logscale, and export\n",
    "    N_upper = nupper_of_kkms(mom0, freq, 10**AA)\n",
    "    \n",
    "    log_N_upper_g = np.log10(N_upper.value/gg)\n",
    "    log_N_upper_gs.append(log_N_upper_g)\n",
    "    \n",
    "log_N_upper_gs = np.array(log_N_upper_gs)"
   ]
  },
  {
   "cell_type": "markdown",
   "metadata": {},
   "source": [
    "## Step 4: Fit the rotational diagram\n",
    "\n",
    "Finally, we can take the upper state column density values we just calculated and fit a line to them."
   ]
  },
  {
   "cell_type": "code",
   "execution_count": 12,
   "metadata": {},
   "outputs": [],
   "source": [
    "# Convert to natural log for fitting\n",
    "ln_N_upper_gs = np.log(10**(log_N_upper_gs))\n",
    "\n",
    "# Replace all NaNs with 0s\n",
    "ln_N_upper_gs = np.nan_to_num(ln_N_upper_gs)"
   ]
  },
  {
   "cell_type": "code",
   "execution_count": 13,
   "metadata": {},
   "outputs": [
    {
     "name": "stdout",
     "output_type": "stream",
     "text": [
      "Energies: [5.26838987e-14 3.98795720e-14 2.90402001e-14 2.01682662e-14\n",
      " 1.32657764e-14 8.33429995e-15 5.37496915e-15 4.38845933e-15]\n",
      "Column densities: [20.04222965 20.96822431 21.75356394 22.39548971 22.89299058 23.25105132\n",
      " 23.60683946 23.75966167]\n"
     ]
    }
   ],
   "source": [
    "# Note to self: do not reverse EU; we are looping over frequency now, \n",
    "# and in temperature map, we were looping over k-component index\n",
    "print(\"Energies:\", EU)\n",
    "print(\"Column densities:\", ln_N_upper_gs)"
   ]
  },
  {
   "cell_type": "markdown",
   "metadata": {},
   "source": [
    "[plot these?]"
   ]
  },
  {
   "cell_type": "markdown",
   "metadata": {},
   "source": [
    "Now we will perform a linear fit to these values. Based on how we define the `linear` function, the output of the fit will be the best-fit `slope` and the `intercept` of the line."
   ]
  },
  {
   "cell_type": "code",
   "execution_count": 14,
   "metadata": {},
   "outputs": [
    {
     "name": "stdout",
     "output_type": "stream",
     "text": [
      "[-1.03818678e-02  2.39611334e+01]\n"
     ]
    }
   ],
   "source": [
    "from scipy.optimize import curve_fit\n",
    "from astropy import constants\n",
    "\n",
    "def linear(x, m, b):\n",
    "    return m*x + b\n",
    "\n",
    "EU_converted = (EU*u.erg/constants.k_B).decompose() \n",
    "# Note to self: convert to K from ergs to do the fit, because in ergs, \n",
    "# these energies are small numbers, and that can makes the fit not work\n",
    "\n",
    "popt, pcov = curve_fit(linear, EU_converted, ln_N_upper_gs)\n",
    "slope, intercept = popt[0], popt[1]\n",
    "print(popt)"
   ]
  },
  {
   "cell_type": "code",
   "execution_count": 15,
   "metadata": {},
   "outputs": [
    {
     "data": {
      "text/plain": [
       "<matplotlib.legend.Legend at 0x2b5dfae0b438>"
      ]
     },
     "execution_count": 15,
     "metadata": {},
     "output_type": "execute_result"
    },
    {
     "data": {
      "image/png": "[encoded data removed]",
      "text/plain": [
       "<Figure size 432x288 with 1 Axes>"
      ]
     },
     "metadata": {
      "needs_background": "light"
     },
     "output_type": "display_data"
    }
   ],
   "source": [
    "# import matplotlib.pyplot as plt\n",
    "pl.plot(EU_converted, ln_N_upper_gs, 's', label = 'From spectrum')\n",
    "pl.plot(EU_converted, EU_converted.value*slope+intercept, label = 'Linear fit')\n",
    "pl.legend()"
   ]
  },
  {
   "cell_type": "markdown",
   "metadata": {},
   "source": [
    "Now, we can print the temperature and column density values we derived from the fit and compare them to the values we initially put into the spectrum."
   ]
  },
  {
   "cell_type": "code",
   "execution_count": 16,
   "metadata": {},
   "outputs": [
    {
     "name": "stdout",
     "output_type": "stream",
     "text": [
      "Temperature (from fit): 96.32178127804113 K\n",
      "Temperature (original): 100.0 K\n",
      "log10(Total column density) (from fit): 13.704955309222767\n",
      "log10(Total column density) (original): 13.69\n"
     ]
    }
   ],
   "source": [
    "temp_fit = (-1./slope)*u.K\n",
    "N_tot_fit = np.log10(np.exp(intercept)*partfunc(temp_fit))\n",
    "\n",
    "print(\"Temperature (from fit):\", temp_fit)\n",
    "print(\"Temperature (original):\", temp)\n",
    "print(\"log10(Total column density) (from fit):\", N_tot_fit)\n",
    "print(\"log10(Total column density) (original):\", np.log10(N_tot.value))"
   ]
  },
  {
   "cell_type": "code",
   "execution_count": null,
   "metadata": {},
   "outputs": [],
   "source": []
  },
  {
   "cell_type": "code",
   "execution_count": null,
   "metadata": {},
   "outputs": [],
   "source": []
  }
 ],
 "metadata": {
  "kernelspec": {
   "display_name": "Python 3",
   "language": "python",
   "name": "python3"
  },
  "language_info": {
   "codemirror_mode": {
    "name": "ipython",
    "version": 3
   },
   "file_extension": ".py",
   "mimetype": "text/x-python",
   "name": "python",
   "nbconvert_exporter": "python",
   "pygments_lexer": "ipython3",
   "version": "3.7.0"
  }
 },
 "nbformat": 4,
 "nbformat_minor": 2
}
