{
 "cells": [
  {
   "cell_type": "markdown",
   "metadata": {},
   "source": [
    "## Modeling (core)\n",
    "#### New notebook to create LTE models. Based off of all_spectra_and_models.py and related files.\n",
    "Last edited 8/17/22."
   ]
  },
  {
   "cell_type": "code",
   "execution_count": 1,
   "metadata": {},
   "outputs": [],
   "source": [
    "# For parallelization, which helps to make convolution faster\n",
    "import dask\n",
    "dask.config.set(scheduler = 'threads', num_workers = 8)\n",
    "from dask.diagnostics import ProgressBar\n",
    "ProgressBar().register()\n",
    "import warnings\n",
    "warnings.filterwarnings('ignore')"
   ]
  },
  {
   "cell_type": "markdown",
   "metadata": {},
   "source": [
    "### 1. Get our data cubes from files"
   ]
  },
  {
   "cell_type": "code",
   "execution_count": 2,
   "metadata": {},
   "outputs": [],
   "source": [
    "from astropy import units as u\n",
    "\n",
    "results = '/blue/adamginsburg/abulatek/brick/symlinks/imaging_results/'"
   ]
  },
  {
   "cell_type": "code",
   "execution_count": 3,
   "metadata": {},
   "outputs": [],
   "source": [
    "# Get names of spectral windows, copied from the \"Spectral Lines in The Brick\" Google Sheet\n",
    "freq_spws = [\n",
    "'87_spw25',\n",
    "'89_spw27',\n",
    "'91_spw25', \n",
    "'93_spw27',\n",
    "'95_spw25', \n",
    "'97_spw27',\n",
    "'98_spw29',\n",
    "'99_spw31',\n",
    "'102_spw23',\n",
    "'102_spw29',\n",
    "'103_spw31',\n",
    "'106_spw29',\n",
    "'107_spw31',\n",
    "'110_spw29',\n",
    "'111_spw31',\n",
    "'112_spw27',\n",
    "'114_spw29',\n",
    "'127_spw65', \n",
    "'129_spw67',\n",
    "'130_spw105',\n",
    "'132_spw107',\n",
    "'134_spw45', \n",
    "'135_spw47',\n",
    "'137_spw85',\n",
    "'137_spw69', \n",
    "'139_spw71',\n",
    "'140_spw109',\n",
    "'142_spw111',\n",
    "'144_spw49',\n",
    "'146_spw51',\n",
    "'147_spw89',\n",
    "'149_spw91',\n",
    "'142_spw27',  # mislabeled\n",
    "'152_spw31',\n",
    "'244_spw65',\n",
    "'245_spw67',\n",
    "'247_spw105',\n",
    "'249_spw107',\n",
    "'250_spw25',\n",
    "'252_spw27',\n",
    "'254_spw85',\n",
    "'255_spw87',\n",
    "'257_spw45',\n",
    "'258_spw69',\n",
    "'259_spw47',\n",
    "'259_spw71',\n",
    "'261_spw109',\n",
    "'263_spw111',\n",
    "'264_spw29',\n",
    "'266_spw31',\n",
    "'268_spw89',\n",
    "'270_spw91',\n",
    "'271_spw49',\n",
    "'273_spw51'\n",
    "]"
   ]
  },
  {
   "cell_type": "code",
   "execution_count": 4,
   "metadata": {},
   "outputs": [],
   "source": [
    "# Only look at one cube from here on out\n",
    "ind = freq_spws.index('146_spw51')"
   ]
  },
  {
   "cell_type": "code",
   "execution_count": 5,
   "metadata": {},
   "outputs": [],
   "source": [
    "from spectral_cube import SpectralCube\n",
    "\n",
    "cube = SpectralCube.read(results+'source_ab_'+freq_spws[ind]+'_clean_2sigma_n50000_masked_3sigma_pbmask0p18.image', use_dask = True)"
   ]
  },
  {
   "cell_type": "markdown",
   "metadata": {},
   "source": [
    "### 2. Convert cube to a common beam\n",
    "\n",
    "Skipping converting all cubes to a common beam because I only want to examine one spectrum at a time."
   ]
  },
  {
   "cell_type": "code",
   "execution_count": 6,
   "metadata": {},
   "outputs": [],
   "source": [
    "cube_common_beam = cube.beams.common_beam(max_iter = 20, max_epsilon = 0.01)\n",
    "smoothed_cube = cube.convolve_to(cube_common_beam) # Convert from VaryingResolution to regular\n",
    "\n",
    "# import radio_beam\n",
    "\n",
    "# beams = []\n",
    "# for cube in smoothed_cubes:\n",
    "#     beams.append(cube.beam)\n",
    "\n",
    "# common_beam = radio_beam.commonbeam.common_manybeams_mve(radio_beam.Beams(beams = beams)) # Get common beam between all cubes\n",
    "# common_beam"
   ]
  },
  {
   "cell_type": "code",
   "execution_count": 7,
   "metadata": {},
   "outputs": [],
   "source": [
    "# resampled_cubes = []\n",
    "# for cube in smoothed_cubes:\n",
    "#     resampled_cube = cube.convolve_to(common_beam) # This cell takes almost no time; the cubes do not get convolved in this step\n",
    "#     resampled_cubes.append(resampled_cube)"
   ]
  },
  {
   "cell_type": "markdown",
   "metadata": {},
   "source": [
    "### 3. Extract spectrum and plot our data"
   ]
  },
  {
   "cell_type": "code",
   "execution_count": 8,
   "metadata": {},
   "outputs": [],
   "source": [
    "# Extract spectrum for a coordinate in central core region\n",
    "from astropy import coordinates\n",
    "from astropy import wcs\n",
    "\n",
    "crd = coordinates.SkyCoord(\"17:46:10.63 -28:42:17.8\", frame='fk5', unit=(u.h, u.deg))\n",
    "\n",
    "x, y = map(int, smoothed_cube.wcs.celestial.world_to_pixel(crd))"
   ]
  },
  {
   "cell_type": "code",
   "execution_count": 9,
   "metadata": {},
   "outputs": [],
   "source": [
    "# m0 = smoothed_cube.moment0()\n",
    "# m0 = smoothed_cube[0] # HACK to make go faster"
   ]
  },
  {
   "cell_type": "code",
   "execution_count": 10,
   "metadata": {},
   "outputs": [],
   "source": [
    "import matplotlib.pyplot as plt\n",
    "\n",
    "SM_SIZE = 12\n",
    "MD_SIZE = 18\n",
    "LG_SIZE = 22\n",
    "\n",
    "plt.rc('font', size = MD_SIZE)          # controls default text sizes\n",
    "plt.rc('axes', titlesize = LG_SIZE)     # fontsize of the axes title\n",
    "plt.rc('axes', labelsize = MD_SIZE)     # fontsize of the x and y labels\n",
    "plt.rc('xtick', labelsize = MD_SIZE)    # fontsize of the tick labels\n",
    "plt.rc('ytick', labelsize = MD_SIZE)    # fontsize of the tick labels\n",
    "plt.rc('legend', fontsize = SM_SIZE)    # legend fontsize\n",
    "plt.rc('figure', titlesize = LG_SIZE)   # fontsize of the figure title"
   ]
  },
  {
   "cell_type": "code",
   "execution_count": 11,
   "metadata": {},
   "outputs": [],
   "source": [
    "# # Why am I plotting this?\n",
    "# ax = plt.subplot(projection = m0.wcs)\n",
    "# plt.plot(x, y, marker = 'x', color = 'r')\n",
    "# im = ax.imshow(m0.value, origin='lower', cmap='inferno')\n",
    "# cbar = plt.colorbar(im)\n",
    "# cbar.set_label(f'Integrated Intensity [{m0.unit}]')\n",
    "# ax.set_ylabel('Declination')\n",
    "# ax.set_xlabel('Right Ascension')"
   ]
  },
  {
   "cell_type": "code",
   "execution_count": 12,
   "metadata": {},
   "outputs": [
    {
     "name": "stdout",
     "output_type": "stream",
     "text": [
      "[########################################] | 100% Completed | 319.35 s\n",
      "[########################################] | 100% Completed | 315.52 s\n"
     ]
    }
   ],
   "source": [
    "spectrum = smoothed_cube[:, y, x].to(u.K)"
   ]
  },
  {
   "cell_type": "code",
   "execution_count": 13,
   "metadata": {},
   "outputs": [
    {
     "data": {
      "image/png": "[encoded data removed]",
      "text/plain": [
       "<Figure size 3000x800 with 1 Axes>"
      ]
     },
     "metadata": {},
     "output_type": "display_data"
    }
   ],
   "source": [
    "import numpy as np\n",
    "\n",
    "fig = plt.figure(figsize = (30, 8))\n",
    "\n",
    "plt.plot(smoothed_cube.spectral_axis.to(u.GHz), np.array(spectrum), linestyle = '-', color = 'k', linewidth = 1, drawstyle = 'steps-mid')\n",
    "plt.xlabel(f\"Frequency [{smoothed_cube.spectral_axis.to(u.GHz).unit}]\")\n",
    "plt.ylabel(f\"Brightness temperature [{spectrum.unit}]\")\n",
    "# plt.xlim(smoothed_cube.spectral_extrema.to(u.GHz).value)\n",
    "plt.xlim(146.4, 146.8)\n",
    "plt.title(f\"{freq_spws[ind]} data spectrum (not continuum-subtracted)\")\n",
    "plt.show()"
   ]
  },
  {
   "cell_type": "markdown",
   "metadata": {},
   "source": [
    "### 4. Generate molfit files for each molecule of interest"
   ]
  },
  {
   "cell_type": "code",
   "execution_count": 14,
   "metadata": {},
   "outputs": [
    {
     "ename": "KeyboardInterrupt",
     "evalue": "",
     "output_type": "error",
     "traceback": [
      "\u001b[0;31m---------------------------------------------------------------------------\u001b[0m",
      "\u001b[0;31mKeyboardInterrupt\u001b[0m                         Traceback (most recent call last)",
      "Input \u001b[0;32mIn [14]\u001b[0m, in \u001b[0;36m<cell line: 6>\u001b[0;34m()\u001b[0m\n\u001b[1;32m      4\u001b[0m cursor \u001b[38;5;241m=\u001b[39m conn\u001b[38;5;241m.\u001b[39mcursor()\n\u001b[1;32m      5\u001b[0m cursor\u001b[38;5;241m.\u001b[39mexecute(\u001b[38;5;124m\"\u001b[39m\u001b[38;5;124mSELECT DISTINCT T_Name FROM Transitions\u001b[39m\u001b[38;5;124m\"\u001b[39m)\n\u001b[0;32m----> 6\u001b[0m molecules \u001b[38;5;241m=\u001b[39m \u001b[43mcursor\u001b[49m\u001b[38;5;241;43m.\u001b[39;49m\u001b[43mfetchall\u001b[49m\u001b[43m(\u001b[49m\u001b[43m)\u001b[49m\n\u001b[1;32m      7\u001b[0m molecules_ \u001b[38;5;241m=\u001b[39m [x[\u001b[38;5;241m0\u001b[39m] \u001b[38;5;28;01mfor\u001b[39;00m x \u001b[38;5;129;01min\u001b[39;00m molecules]\n\u001b[1;32m      8\u001b[0m \u001b[38;5;28many\u001b[39m(\u001b[38;5;124m'\u001b[39m\u001b[38;5;124mCH2NH\u001b[39m\u001b[38;5;124m'\u001b[39m \u001b[38;5;129;01min\u001b[39;00m x \u001b[38;5;28;01mfor\u001b[39;00m x \u001b[38;5;129;01min\u001b[39;00m molecules_) \u001b[38;5;66;03m# Check for a molecule\u001b[39;00m\n",
      "\u001b[0;31mKeyboardInterrupt\u001b[0m: "
     ]
    }
   ],
   "source": [
    "# Get molecule names\n",
    "import sqlite3\n",
    "conn = sqlite3.connect('/orange/adamginsburg/software/XCLASS-Interface/Database/cdms_sqlite.db')\n",
    "cursor = conn.cursor()\n",
    "cursor.execute(\"SELECT DISTINCT T_Name FROM Transitions\")\n",
    "molecules = cursor.fetchall()\n",
    "molecules_ = [x[0] for x in molecules]\n",
    "any('CH2NH' in x for x in molecules_) # Check for a molecule\n",
    "[x[0] for x in molecules if 'HCN' in x[0]] # List all listings for a molecule"
   ]
  },
  {
   "cell_type": "code",
   "execution_count": null,
   "metadata": {},
   "outputs": [],
   "source": [
    "cmap = plt.get_cmap('tab20') # Can use cmap(0) through (cmap19) to access"
   ]
  },
  {
   "cell_type": "code",
   "execution_count": null,
   "metadata": {},
   "outputs": [],
   "source": [
    "# User-maintained molecule list (includes colors, linestyles, and column densities)\n",
    "# Colors should cycle like this: tab:blue, tab:orange, tab:green, tab:red, tab:purple, tab:pink, tab:olive, tab:cyan\n",
    "# Linestyles: --, -., :, (0,(3,1,1,1,1,1))\n",
    "default = 1\n",
    "default_Ntot = 5e13\n",
    "\n",
    "molecules = {'(CH3)2CO;v=0;': [cmap(0),  '--', default_Ntot], # XCLASS does not have?\n",
    "             'c-HCCCH;v=0;' : [cmap(1),  '--', default_Ntot],\n",
    "             'CCCS;v=0;'    : [cmap(2),  '--', default_Ntot],\n",
    "             'CCH;v=0;'     : [cmap(3),  '--', default_Ntot],\n",
    "             'CCS;v=0;'     : [cmap(4),  '--', default_Ntot],\n",
    "             'C2H5OH;v=0;'  : [cmap(5),  '--', default_Ntot],\n",
    "             'C3H2;v=0;'    : [cmap(6),  '--', default_Ntot],\n",
    "             'CH2NH;v=0;'   : [cmap(7),  '--', default_Ntot],\n",
    "             'CH3CN;v=0;'   : [cmap(8),  '--', 5e13],\n",
    "             'CH3C-13-N;v=0;' : [cmap(9),  '--', default_Ntot], # Corrected for XCLASS\n",
    "             'CH3CCH;v=0;'  : [cmap(10),  '--', default_Ntot],\n",
    "             'CH3CHO;v=0;'  : [cmap(11),  '--', default_Ntot],\n",
    "             'CH3CHO;v=1;'  : [cmap(12),  '--', default_Ntot],\n",
    "             'CH3CHO;v=2;'  : [cmap(13),  '--', default_Ntot],\n",
    "             'CH3OCHO;v=0;' : [cmap(14),  '--', 1e14],\n",
    "             'CH3OCH3;v=0;' : [cmap(15),  '--', default_Ntot],\n",
    "             'CH3OH;v=0;'   : [cmap(16),  '--', 1e15], \n",
    "             'CH3OH;v=1;'   : [cmap(17),  '--', default_Ntot],\n",
    "             'CH3OH;v=2;'   : [cmap(18),  '--', default_Ntot],\n",
    "             '13CH3OH;v=0;' : [cmap(19),  '--', default_Ntot],\n",
    "             'CH3NH2;v=0;'  : [cmap(0),  '--', default_Ntot],\n",
    "             'CO;v=0;'      : [cmap(1),  '-.', 1e18], \n",
    "             '13CO;v=0;'    : [cmap(2),  '-.', 1e17], \n",
    "             'C17O;v=0;'    : [cmap(3),  '-.', default_Ntot], \n",
    "             'C18O;v=0;'    : [cmap(4),  '-.', default_Ntot], \n",
    "             'CS;v=0;'      : [cmap(5),  '-.', default_Ntot],\n",
    "             '13CS;v=0;'    : [cmap(6),  '-.', default_Ntot],\n",
    "             'C34S;v=0;'    : [cmap(7),  '-.', default_Ntot],\n",
    "             'CN;v=0;'      : [cmap(8),  '-.', default_Ntot],\n",
    "             '13CN;v=0;'    : [cmap(9),  '-.', default_Ntot],\n",
    "             'H2CS;v=0;'    : [cmap(10),  '-.', default_Ntot], \n",
    "             'H213CS;v=0;'  : [cmap(11),  '-.', default_Ntot],\n",
    "             'H2CO;v=0;'    : [cmap(12),  '-.', 1e16],\n",
    "             'HC3N;v=0;'    : [cmap(13),  '-.', default_Ntot],\n",
    "             'H13CCCN;v=0;' : [cmap(14),  '-.', default_Ntot],\n",
    "             'HCN;v=0;'     : [cmap(15),  '-.', default_Ntot],\n",
    "             'H13CN;v=0;'   : [cmap(16),  '-.', default_Ntot],\n",
    "             'HC15N;v=0;'   : [cmap(17),  '-.', default_Ntot],\n",
    "             'DCN;v=0;'     : [cmap(18),  '-.', default_Ntot],\n",
    "             'HCO+;v=0;'    : [cmap(19),  '-.', default_Ntot],\n",
    "             'H13CO+;v=0;'  : [cmap(0),  '-.', default_Ntot],\n",
    "             'HDCO;v=0;'    : [cmap(1),  ':',  default_Ntot], \n",
    "             'HNCO;v=0;'    : [cmap(2),  ':',  default_Ntot], \n",
    "             'HNC;v=0;'     : [cmap(3),  ':',  default_Ntot], \n",
    "             'HN13C;v=0;'   : [cmap(4),  ':',  default_Ntot], \n",
    "             'HOCO+;v=0;'   : [cmap(5),  ':',  default_Ntot], \n",
    "             'N2H+;v=0;'    : [cmap(6),  ':',  default_Ntot], \n",
    "             'NH2CHO;v=0;'  : [cmap(7),  ':',  default_Ntot], \n",
    "             'NH2CN;v=0;'   : [cmap(8),  ':',  default_Ntot],\n",
    "             'NH2D;v=0;'    : [cmap(9),  ':',  default_Ntot], \n",
    "             'NH3;v=0;'     : [cmap(10),  ':',  default_Ntot], \n",
    "             'NS;v=0;'      : [cmap(11),  ':',  default_Ntot],\n",
    "             'OCS;v=0;'     : [cmap(12),  ':',  default_Ntot], \n",
    "             'O13CS;v=0'    : [cmap(13),  ':',  default_Ntot],\n",
    "             'SiO;v=0;'     : [cmap(14),  ':',  default_Ntot],\n",
    "             '29SiO;v=0;'   : [cmap(15),  ':',  default_Ntot],\n",
    "             'SiO;v=1;'     : [cmap(16),  ':',  default_Ntot],\n",
    "             'SO;v=0;'      : [cmap(17),  ':',  default_Ntot],\n",
    "             'SO2;v=0;'     : [cmap(18),  ':',  default_Ntot]\n",
    "            }"
   ]
  },
  {
   "cell_type": "code",
   "execution_count": null,
   "metadata": {},
   "outputs": [],
   "source": [
    "###### LOOP OVER MOLECULES IN THAT TABLE, GRAB NAME TO PLACE IN THE NAME PART, AND TO USE AS FILENAME, AND ALSO GRAB COLUMN DENSITY\n",
    "import os\n",
    "import sys\n",
    "\n",
    "# Define path and name of molfit file\n",
    "LocalPath = os.getcwd() + \"/\"\n",
    "\n",
    "##### MAKE SURE THIS IS THE LAYOUT I SHOULD BE USING; I THINK IT'S NOT--need ranges?\n",
    "\n",
    "def set_xclass_parameters(mol_name, source_size, tkin, Ntot, vwidth_fwhm, filename): # Removed vcen\n",
    "    with open(filename, \"w\") as fh:\n",
    "        fh.write(f\"\"\"\n",
    "%%MinNumTransitionsSQL = 1\n",
    "%%MaxNumTransitionsSQL = 0\n",
    "%%MaxElowSQL = 1000000.0\n",
    "%%MingASQL = 0.0\n",
    "%%OrderTransSQL = 1\n",
    "%            source size:  T_kin:  N_tot:  V_width:      V_off:   CFFlag:\n",
    "%            [arcsec]:     [K]:    [cm-2]: [km /s]:      [km /s]: []:\n",
    "{mol_name} 1 \n",
    "             {source_size} {tkin}  {Ntot}  {vwidth_fwhm} 20       c\n",
    "{mol_name} 1 \n",
    "             {source_size} {tkin}  {Ntot}  {vwidth_fwhm} 50       c\n",
    "\"\"\")\n",
    "\n",
    "for mol in molecules:\n",
    "    fn = LocalPath + \"molfit_files/\" + mol.replace(';','').replace('(','').replace(')','').replace('=','').replace('+','p') + \".molfit\"\n",
    "    Ntot = molecules[mol][2]\n",
    "    set_xclass_parameters(mol_name = mol, source_size = 0.33, tkin = 150, Ntot = Ntot, vwidth_fwhm = 5, filename = fn)\n",
    "### CAN INCLUDE MULTIPLE TEMPERATURE AND VELOCITY COMPONENTS, EVENTUALLY"
   ]
  },
  {
   "cell_type": "markdown",
   "metadata": {},
   "source": [
    "### 5. Generate XCLASS model of the same spectral window for separate molecules"
   ]
  },
  {
   "cell_type": "code",
   "execution_count": null,
   "metadata": {},
   "outputs": [],
   "source": [
    "# Get path of XCLASS directory\n",
    "XCLASSRootDir = str(os.environ.get('XCLASSRootDir', '')).strip()\n",
    "XCLASSRootDir = os.path.normpath(XCLASSRootDir) + \"/\"\n",
    "\n",
    "# Extend sys.path variable\n",
    "NewPath = XCLASSRootDir + \"build_tasks/\"\n",
    "if (not NewPath in sys.path):\n",
    "    sys.path.append(NewPath)\n",
    "\n",
    "import task_myXCLASS"
   ]
  },
  {
   "cell_type": "code",
   "execution_count": null,
   "metadata": {},
   "outputs": [],
   "source": [
    "# define freq. step (in MHz)\n",
    "FreqStep = 0.1\n",
    "\n",
    "# define beam minor axis length (in arsec)\n",
    "BMIN = smoothed_cube.beam.minor.to(u.arcsec).value # None\n",
    "\n",
    "# define beam major axis length (in arsec)\n",
    "BMAJ = smoothed_cube.beam.major.to(u.arcsec).value # None\n",
    "\n",
    "# define beam position angle (in degree)\n",
    "BPA = smoothed_cube.beam.pa.to(u.deg).value # None\n",
    "\n",
    "# depending on parameter \"Inter_Flag\" define beam size (in arcsec)\n",
    "# (Inter_Flag = True) or size of telescope (in m) (Inter_Flag = False)\n",
    "TelescopeSize = np.abs(BMIN**2 - BMAJ**2)**0.5 # arcsec # 1000.0 # meters\n",
    "\n",
    "# interferometric data?\n",
    "Inter_Flag = True\n",
    "\n",
    "# define red shift\n",
    "Redshift = None\n",
    "\n",
    "# BACKGROUND: describe continuum with tBack and tslope only\n",
    "t_back_flag = True\n",
    "\n",
    "# BACKGROUND: define background temperature (in K)\n",
    "tBack = 0.0\n",
    "\n",
    "# BACKGROUND: define temperature slope (dimensionless)\n",
    "tslope = 0.0\n",
    "\n",
    "# BACKGROUND: define path and name of ASCII file describing continuum as function\n",
    "#             of frequency\n",
    "BackgroundFileName = \"\"\n",
    "\n",
    "# DUST: define hydrogen column density (in cm^(-2))\n",
    "N_H = 1.e22\n",
    "\n",
    "# DUST: define spectral index for dust (dimensionless)\n",
    "beta_dust = 0.0\n",
    "\n",
    "# DUST: define kappa at 1.3 mm (cm^(2) g^(-1))\n",
    "kappa_1300 = 0.0\n",
    "\n",
    "# DUST: define path and name of ASCII file describing dust opacity as\n",
    "#       function of frequency\n",
    "DustFileName = \"\"\n",
    "\n",
    "# FREE-FREE: define electronic temperature (in K)\n",
    "Te_ff = None\n",
    "\n",
    "# FREE-FREE: define emission measure (in pc cm^(-6))\n",
    "EM_ff = None\n",
    "\n",
    "# SYNCHROTRON: define kappa of energy spectrum of electrons (electrons m^(−3) GeV^(-1))\n",
    "kappa_sync = None\n",
    "\n",
    "# SYNCHROTRON: define magnetic field (in Gauss)\n",
    "B_sync = None\n",
    "\n",
    "# SYNCHROTRON: energy spectral index (dimensionless)\n",
    "p_sync = None\n",
    "\n",
    "# SYNCHROTRON: thickness of slab (in AU)\n",
    "l_sync = None\n",
    "\n",
    "# PHEN-CONT: define phenomenological function which is used to describe\n",
    "#            the continuum\n",
    "ContPhenFuncID = None\n",
    "\n",
    "# PHEN-CONT: define first parameter for phenomenological function\n",
    "ContPhenFuncParam1 = None\n",
    "\n",
    "# PHEN-CONT: define second parameter for phenomenological function\n",
    "ContPhenFuncParam2 = None\n",
    "\n",
    "# PHEN-CONT: define third parameter for phenomenological function\n",
    "ContPhenFuncParam3 = None\n",
    "\n",
    "# PHEN-CONT: define fourth parameter for phenomenological function\n",
    "ContPhenFuncParam4 = None\n",
    "\n",
    "# PHEN-CONT: define fifth parameter for phenomenological function\n",
    "ContPhenFuncParam5 = None\n",
    "\n",
    "# use iso ratio file?\n",
    "iso_flag = True\n",
    "\n",
    "# define path and name of iso ratio file\n",
    "#DEFAULT IsoTableFileName = LocalPath + \"files/my_isonames.txt\"\n",
    "IsoTableFileName = LocalPath + \"my_isonames.txt\"\n",
    "\n",
    "# define path and name of file describing Non-LTE parameters\n",
    "CollisionFileName = \"\"\n",
    "\n",
    "# define number of pixels in x-direction (used for sub-beam description)\n",
    "NumModelPixelXX = 100\n",
    "\n",
    "# define number of pixels in y-direction (used for sub-beam description)\n",
    "NumModelPixelYY = 100\n",
    "\n",
    "# take local-overlap into account or not\n",
    "LocalOverlapFlag = False\n",
    "\n",
    "# disable sub-beam description\n",
    "NoSubBeamFlag = True\n",
    "\n",
    "# define path and name of database file\n",
    "dbFilename = \"\"\n",
    "\n",
    "# define rest freq. (in MHz)\n",
    "RestFreq = 0.0\n",
    "\n",
    "# define v_lsr (in km/s)\n",
    "vLSR = 0.0"
   ]
  },
  {
   "cell_type": "code",
   "execution_count": null,
   "metadata": {},
   "outputs": [],
   "source": [
    "import io\n",
    "from contextlib import redirect_stdout\n",
    "\n",
    "def myxclass_call(FreqMin=1e3, FreqMax=1e4, verbose=False):\n",
    "    ## call myXCLASS function\n",
    "    with io.StringIO() as buf, redirect_stdout(buf):\n",
    "        modeldata, log, TransEnergies, IntOpt, JobDir = task_myXCLASS.myXCLASS(\n",
    "                                                    FreqMin, FreqMax, FreqStep,\n",
    "                                                    TelescopeSize, BMIN, BMAJ,\n",
    "                                                    BPA, Inter_Flag, Redshift,\n",
    "                                                    t_back_flag, tBack, tslope,\n",
    "                                                    BackgroundFileName,\n",
    "                                                    N_H, beta_dust, kappa_1300,\n",
    "                                                    DustFileName, Te_ff, EM_ff,\n",
    "                                                    kappa_sync, B_sync, p_sync,\n",
    "                                                    l_sync, ContPhenFuncID,\n",
    "                                                    ContPhenFuncParam1,\n",
    "                                                    ContPhenFuncParam2,\n",
    "                                                    ContPhenFuncParam3,\n",
    "                                                    ContPhenFuncParam4,\n",
    "                                                    ContPhenFuncParam5,\n",
    "                                                    MolfitsFileName, iso_flag,\n",
    "                                                    IsoTableFileName,\n",
    "                                                    CollisionFileName,\n",
    "                                                    NumModelPixelXX,\n",
    "                                                    NumModelPixelYY,\n",
    "                                                    LocalOverlapFlag,\n",
    "                                                    NoSubBeamFlag,\n",
    "                                                    dbFilename,\n",
    "                                                    RestFreq, vLSR)\n",
    "        output = buf.getvalue()\n",
    "    if verbose:\n",
    "        print(output)\n",
    "        \n",
    "    return modeldata, log, TransEnergies, IntOpt, JobDir"
   ]
  },
  {
   "cell_type": "code",
   "execution_count": null,
   "metadata": {},
   "outputs": [],
   "source": [
    "# define min. freq. (in MHz)\n",
    "FreqMin = np.min(spectrum.spectral_axis.to(u.MHz)).value\n",
    "# define max. freq. (in MHz)\n",
    "FreqMax = np.max(spectrum.spectral_axis.to(u.MHz)).value"
   ]
  },
  {
   "cell_type": "code",
   "execution_count": null,
   "metadata": {
    "tags": []
   },
   "outputs": [],
   "source": [
    "import glob\n",
    "MolfitsFileNames = glob.glob(LocalPath + 'molfit_files/*.molfit')\n",
    "\n",
    "modeldata_all = []\n",
    "transenergies_all = []\n",
    "for MolfitsFileName in MolfitsFileNames:\n",
    "    print(MolfitsFileName)\n",
    "    modeldata, log, TransEnergies, IntOpt, JobDir = myxclass_call(FreqMin=FreqMin, FreqMax=FreqMax)\n",
    "    modeldata_all.append(modeldata)\n",
    "    transenergies_all.append(TransEnergies)"
   ]
  },
  {
   "cell_type": "code",
   "execution_count": null,
   "metadata": {},
   "outputs": [],
   "source": [
    "from astropy.stats import mad_std\n",
    "\n",
    "# Preliminary continuum subtraction\n",
    "spectrum_contsub = np.array(spectrum) - np.median(np.array(spectrum))\n",
    "\n",
    "# Get MAD-estimated RMS of data spectrum\n",
    "mad_rms = mad_std(spectrum_contsub)"
   ]
  },
  {
   "cell_type": "code",
   "execution_count": null,
   "metadata": {},
   "outputs": [],
   "source": [
    "fig = plt.figure(figsize = (30, 8))\n",
    "\n",
    "plt.plot(smoothed_cube.spectral_axis.to(u.GHz), spectrum_contsub, linestyle = '-', color = 'grey', linewidth = 1, drawstyle = 'steps-mid', \n",
    "        label = \"Data\")\n",
    "plt.axhspan(ymin = -mad_rms, ymax = mad_rms, alpha = 0.25, color = 'k', label = 'RMS level in data')\n",
    "for index, (modeldata, transenergies) in enumerate(zip(modeldata_all, transenergies_all)):\n",
    "    molname = \n",
    "#     molname = MolfitsFileNames[index].replace('/blue/adamginsburg/abulatek/brick/first_results/modeling/molfit_files/', '').replace('.molfit', '')\n",
    "    if len(modeldata) != 0:\n",
    "        colorname = transenergies[1][-1]\n",
    "        plt.plot((modeldata[:,0]*u.MHz).to(u.GHz), modeldata[:,1], color = molecules[colorname][0], linestyle = molecules[colorname][1], linewidth = 1, \n",
    "                 drawstyle = 'steps-mid', label = molname.replace('p','+').replace('v0',' v=0')\n",
    "    else:\n",
    "        print(f\"***** Warning! {molname} was not modeled! *****\")\n",
    "plt.legend(loc = 'best')\n",
    "plt.xlabel(f\"Frequency [{smoothed_cube.spectral_axis.to(u.GHz).unit}]\")\n",
    "plt.ylabel(f\"Brightness temperature [{spectrum.unit}]\")\n",
    "plt.xlim(smoothed_cube.spectral_extrema.to(u.GHz).value)\n",
    "# plt.xlim(137.25, 137.50)\n",
    "plt.title(f\"{freq_spws[ind]} data and model comparison\")\n",
    "# plt.title(f\"{freq_spws[ind]} data and model comparison, $T$ = {tkin:.1f} K, $\\log_{{10}}(N_{{tot}})$ = {np.log10(Ntot):.2f}\") # y = 0.92 # NOTE: TKIN AND NTOT MAY CHANGE WHEN WE FIT !\n",
    "plt.savefig(f\"spectra/{freq_spws[ind]}.pdf\", facecolor = 'w', edgecolor = 'w', bbox_inches = 'tight') # dpi = 300\n",
    "plt.show()"
   ]
  },
  {
   "cell_type": "code",
   "execution_count": null,
   "metadata": {},
   "outputs": [],
   "source": []
  }
 ],
 "metadata": {
  "kernelspec": {
   "display_name": "Python 3 (ipykernel)",
   "language": "python",
   "name": "python3"
  },
  "language_info": {
   "codemirror_mode": {
    "name": "ipython",
    "version": 3
   },
   "file_extension": ".py",
   "mimetype": "text/x-python",
   "name": "python",
   "nbconvert_exporter": "python",
   "pygments_lexer": "ipython3",
   "version": "3.9.13"
  }
 },
 "nbformat": 4,
 "nbformat_minor": 4
}
