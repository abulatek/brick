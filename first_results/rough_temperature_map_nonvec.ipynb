{
 "cells": [
  {
   "cell_type": "code",
   "execution_count": 12,
   "metadata": {},
   "outputs": [
    {
     "data": {
      "text/plain": [
       "'2021.04.1'"
      ]
     },
     "execution_count": 12,
     "metadata": {},
     "output_type": "execute_result"
    }
   ],
   "source": [
    "## Started on May 7, 2021 at 1 PM CT\n",
    "## Goal: don't use pyspeckit right now\n",
    "\n",
    "# Import statements\n",
    "%matplotlib inline\n",
    "from spectral_cube import SpectralCube\n",
    "from spectral_cube.dask_spectral_cube import DaskSpectralCube\n",
    "from astroquery.splatalogue import Splatalogue\n",
    "from astropy import units as u\n",
    "from astropy import constants\n",
    "from lte_modeling_tools import nupper_of_kkms\n",
    "from pylab import imshow\n",
    "import numpy as np\n",
    "from scipy.optimize import curve_fit\n",
    "import time\n",
    "import matplotlib.pyplot as plt\n",
    "import pylab as pl\n",
    "import pyspeckit\n",
    "from astropy.visualization import simple_norm\n",
    "from astropy.visualization.mpl_normalize import ImageNormalize\n",
    "from astropy.visualization import quantity_support\n",
    "quantity_support()\n",
    "\n",
    "# Check some things\n",
    "import sys\n",
    "sys.executable\n",
    "import dask\n",
    "dask.__version__ # My dask version was old but now it is updated"
   ]
  },
  {
   "cell_type": "code",
   "execution_count": 7,
   "metadata": {},
   "outputs": [
    {
     "name": "stderr",
     "output_type": "stream",
     "text": [
      "/blue/adamginsburg/abulatek/anaconda/lib/python3.7/site-packages/casa_formats_io-0.1-py3.7-linux-x86_64.egg/casa_formats_io/casa_dask.py:232: RuntimeWarning: divide by zero encountered in long_scalars\n",
      "  factors = [f for f in range(stacks[dim] + 1) if stacks[dim] % f == 0]\n",
      "WARNING: StokesWarning: Cube is a Stokes cube, returning spectral cube for I component [spectral_cube.io.core]\n",
      "WARNING: PossiblySlowWarning: This function (<function VaryingResolutionSpectralCube.to at 0x2ac453d54488>) requires loading the entire cube into memory and may therefore be slow. [spectral_cube.utils]\n"
     ]
    },
    {
     "name": "stdout",
     "output_type": "stream",
     "text": [
      "DaskVaryingResolutionSpectralCube with shape=(329, 512, 512) and unit=K and chunk size (255, 128, 128):\n",
      " n_x:    512  type_x: RA---SIN  unit_x: deg    range:   266.528130 deg:  266.560501 deg\n",
      " n_y:    512  type_y: DEC--SIN  unit_y: deg    range:   -28.719152 deg:  -28.690763 deg\n",
      " n_s:    329  type_s: FREQ      unit_s: Hz     range: 147009887391.829 Hz:147170048296.150 Hz\n"
     ]
    }
   ],
   "source": [
    "# Import cube\n",
    "results = '/blue/adamginsburg/abulatek/brick/symlinks/imaging_results/'\n",
    "freq_spw = '146_spw51'\n",
    "fn = results+'source_ab_'+freq_spw+'_clean_2sigma_n50000_masked_3sigma_pbmask0p18.image'\n",
    "cube = SpectralCube.read(fn, format='casa_image', use_dask=True) # Import cube\n",
    "freq_lo, freq_hi = 147.01*u.GHz, 147.17*u.GHz # Rough frequencies to search between\n",
    "rough_subcube = cube.spectral_slab(freq_lo, freq_hi) # Generate rough subcube from cube\n",
    "rough_subcube = rough_subcube.to(u.K) # Convert from Jy/beam to brightness temperature\n",
    "print(rough_subcube) # Print metadata about rough subcube"
   ]
  },
  {
   "cell_type": "code",
   "execution_count": 8,
   "metadata": {},
   "outputs": [
    {
     "name": "stdout",
     "output_type": "stream",
     "text": [
      "0.06657724331725512 K\n",
      "Sigma calculation: 46.701669692993164 seconds\n"
     ]
    }
   ],
   "source": [
    "# Calculate the MAD-estimated RMS value for the rough subcube (can't do on original cube)\n",
    "start = time.time()\n",
    "sigma = np.nanmedian(rough_subcube.mad_std(axis = 0))\n",
    "# sigma_subcube = sigma/np.sqrt(rough_subcube.shape[0]*rough_subcube.shape[1]*rough_subcube.shape[2])\n",
    "sigma_subcube = sigma # Try this way; root(N) slopes are... very bad (and I believe 0.05 K over 1e-6 K)\n",
    "print(sigma_subcube)\n",
    "print(\"Sigma calculation:\", time.time() - start, \"seconds\")"
   ]
  },
  {
   "cell_type": "code",
   "execution_count": 10,
   "metadata": {},
   "outputs": [
    {
     "data": {
      "text/html": [
       "<i>Table length=8</i>\n",
       "<table id=\"table47022732835864-493864\" class=\"table-striped table-bordered table-condensed\">\n",
       "<thead><tr><th>idx</th><th>Species</th><th>Chemical Name</th><th>Freq-GHz(rest frame,redshifted)</th><th>Freq Err(rest frame,redshifted)</th><th>Meas Freq-GHz(rest frame,redshifted)</th><th>Meas Freq Err(rest frame,redshifted)</th><th>Resolved QNs</th><th>CDMS/JPL Intensity</th><th>S&lt;sub&gt;ij&lt;/sub&gt;&amp;#956;&lt;sup&gt;2&lt;/sup&gt; (D&lt;sup&gt;2&lt;/sup&gt;)</th><th>S&lt;sub&gt;ij&lt;/sub&gt;</th><th>Log&lt;sub&gt;10&lt;/sub&gt; (A&lt;sub&gt;ij&lt;/sub&gt;)</th><th>Lovas/AST Intensity</th><th>E_L (cm^-1)</th><th>E_L (K)</th><th>E_U (cm^-1)</th><th>E_U (K)</th><th>Upper State Degeneracy</th><th>Quantum Number Code</th><th>Linelist</th></tr></thead>\n",
       "<tr><td>0</td><td>CH3CNv=0</td><td>Methyl Cyanide</td><td>147.0358351</td><td>1e-07</td><td>--</td><td>--</td><td>8(7)-7(7)</td><td>-3.7949</td><td>39.74307</td><td>2.58376</td><td>-4.36401</td><td>--</td><td>260.3123</td><td>374.53377</td><td>265.21689</td><td>381.59042</td><td>34.0</td><td>202</td><td>JPL</td></tr>\n",
       "<tr><td>1</td><td>CH3CNv=0</td><td>Methyl Cyanide</td><td>147.0726021</td><td>1e-07</td><td>--</td><td>--</td><td>8(6)-7(6)</td><td>-3.0883</td><td>148.38336</td><td>9.64665</td><td>-4.09259</td><td>--</td><td>195.8526</td><td>281.79004</td><td>200.75841</td><td>288.84846</td><td>68.0</td><td>202</td><td>JPL</td></tr>\n",
       "<tr><td>2</td><td>CH3CNv=0</td><td>Methyl Cyanide</td><td>147.103738</td><td>1e-07</td><td>--</td><td>--</td><td>8(5)-7(5)</td><td>-3.1316</td><td>103.33459</td><td>6.71796</td><td>-3.94843</td><td>--</td><td>141.2849</td><td>203.27878</td><td>146.19175</td><td>210.33869</td><td>34.0</td><td>202</td><td>JPL</td></tr>\n",
       "<tr><td>3</td><td>CH3CNv=0</td><td>Methyl Cyanide</td><td>147.1292302</td><td>1e-07</td><td>--</td><td>--</td><td>8(4)-7(4)</td><td>-2.9482</td><td>127.19471</td><td>8.26914</td><td>-3.85798</td><td>--</td><td>96.6217</td><td>139.01798</td><td>101.5294</td><td>146.07911</td><td>34.0</td><td>202</td><td>JPL</td></tr>\n",
       "<tr><td>4</td><td>CH3CNv=0</td><td>Methyl Cyanide</td><td>147.1490683</td><td>1e-07</td><td>--</td><td>--</td><td>8(3)-7(3)</td><td>-2.5156</td><td>291.45821</td><td>18.94819</td><td>-3.79873</td><td>--</td><td>61.8731</td><td>89.02217</td><td>66.78146</td><td>96.08426</td><td>68.0</td><td>202</td><td>JPL</td></tr>\n",
       "<tr><td>5</td><td>CH3CNv=0</td><td>Methyl Cyanide</td><td>147.1632441</td><td>2e-07</td><td>--</td><td>--</td><td>8(2)-7(2)</td><td>-2.727</td><td>158.99516</td><td>10.33654</td><td>-3.76076</td><td>--</td><td>37.047</td><td>53.30272</td><td>41.95584</td><td>60.36548</td><td>34.0</td><td>202</td><td>JPL</td></tr>\n",
       "<tr><td>6</td><td>CH3CNv=0</td><td>Methyl Cyanide</td><td>147.1717519</td><td>2e-07</td><td>--</td><td>--</td><td>8(1)-7(1)</td><td>-2.6748</td><td>166.91824</td><td>10.85164</td><td>-3.73957</td><td>--</td><td>22.1491</td><td>31.86782</td><td>27.05822</td><td>38.931</td><td>34.0</td><td>202</td><td>JPL</td></tr>\n",
       "<tr><td>7</td><td>CH3CNv=0</td><td>Methyl Cyanide</td><td>147.1745883</td><td>2e-07</td><td>--</td><td>--</td><td>8(0)-7(0)</td><td>-2.6575</td><td>169.60673</td><td>11.02642</td><td>-3.7326</td><td>--</td><td>17.1828</td><td>24.72238</td><td>22.09202</td><td>31.78569</td><td>34.0</td><td>202</td><td>JPL</td></tr>\n",
       "</table><style>table.dataTable {clear: both; width: auto !important; margin: 0 !important;}\n",
       ".dataTables_info, .dataTables_length, .dataTables_filter, .dataTables_paginate{\n",
       "display: inline-block; margin-right: 1em; }\n",
       ".paginate_button { margin-right: 5px; }\n",
       "</style>\n",
       "<script>\n",
       "\n",
       "var astropy_sort_num = function(a, b) {\n",
       "    var a_num = parseFloat(a);\n",
       "    var b_num = parseFloat(b);\n",
       "\n",
       "    if (isNaN(a_num) && isNaN(b_num))\n",
       "        return ((a < b) ? -1 : ((a > b) ? 1 : 0));\n",
       "    else if (!isNaN(a_num) && !isNaN(b_num))\n",
       "        return ((a_num < b_num) ? -1 : ((a_num > b_num) ? 1 : 0));\n",
       "    else\n",
       "        return isNaN(a_num) ? -1 : 1;\n",
       "}\n",
       "\n",
       "require.config({paths: {\n",
       "    datatables: 'https://cdn.datatables.net/1.10.12/js/jquery.dataTables.min'\n",
       "}});\n",
       "require([\"datatables\"], function(){\n",
       "    console.log(\"$('#table47022732835864-493864').dataTable()\");\n",
       "    \n",
       "jQuery.extend( jQuery.fn.dataTableExt.oSort, {\n",
       "    \"optionalnum-asc\": astropy_sort_num,\n",
       "    \"optionalnum-desc\": function (a,b) { return -astropy_sort_num(a, b); }\n",
       "});\n",
       "\n",
       "    $('#table47022732835864-493864').dataTable({\n",
       "        order: [],\n",
       "        pageLength: 50,\n",
       "        lengthMenu: [[10, 25, 50, 100, 500, 1000, -1], [10, 25, 50, 100, 500, 1000, 'All']],\n",
       "        pagingType: \"full_numbers\",\n",
       "        columnDefs: [{targets: [0, 3, 4, 5, 6, 8, 9, 10, 11, 12, 13, 14, 15, 16, 17, 18], type: \"optionalnum\"}]\n",
       "    });\n",
       "});\n",
       "</script>\n"
      ],
      "text/plain": [
       "<IPython.core.display.HTML object>"
      ]
     },
     "execution_count": 10,
     "metadata": {},
     "output_type": "execute_result"
    }
   ],
   "source": [
    "# List lines in this wavelength region, with tolerance for velocity shifts\n",
    "tbl = Splatalogue.query_lines(freq_lo-0.1*u.GHz, freq_hi+0.1*u.GHz, \n",
    "                              chemical_name='CH3CN',\n",
    "                              energy_max=500, # more lines w/ max energy > 140\n",
    "                              energy_type='eu_k',\n",
    "                              line_lists=['JPL'],\n",
    "                              show_upper_degeneracy=True, \n",
    "                              show_qn_code=True)\n",
    "\n",
    "tbl_trimmed = tbl[tbl['Quantum Number Code']==202]\n",
    "# tbl_trimmed = tbl_trimmed[::-1]\n",
    "\n",
    "# Retrieve values for later use\n",
    "line_freqs = tbl_trimmed['Freq-GHz(rest frame,redshifted)'].data\n",
    "line_names = tbl_trimmed['Resolved QNs'].data\n",
    "einstein_A_coefficients = tbl_trimmed['Log<sub>10</sub> (A<sub>ij</sub>)'].data\n",
    "E_upper = tbl_trimmed['E_U (K)'].data\n",
    "g = tbl_trimmed['Upper State Degeneracy'].data\n",
    "\n",
    "tbl_trimmed.show_in_notebook()"
   ]
  },
  {
   "cell_type": "code",
   "execution_count": 16,
   "metadata": {},
   "outputs": [
    {
     "ename": "ValueError",
     "evalue": "For DaskVaryingResolutionSpectralCube's, use hdulist instead of hdu.",
     "output_type": "error",
     "traceback": [
      "\u001b[0;31m---------------------------------------------------------------------------\u001b[0m",
      "\u001b[0;31mValueError\u001b[0m                                Traceback (most recent call last)",
      "\u001b[0;32m<ipython-input-16-dd3f48d1ac5d>\u001b[0m in \u001b[0;36m<module>\u001b[0;34m()\u001b[0m\n\u001b[0;32m----> 1\u001b[0;31m \u001b[0mpcube\u001b[0m \u001b[0;34m=\u001b[0m \u001b[0mpyspeckit\u001b[0m\u001b[0;34m.\u001b[0m\u001b[0mCube\u001b[0m\u001b[0;34m(\u001b[0m\u001b[0mcube\u001b[0m \u001b[0;34m=\u001b[0m \u001b[0mrough_subcube\u001b[0m\u001b[0;34m)\u001b[0m\u001b[0;34m\u001b[0m\u001b[0m\n\u001b[0m",
      "\u001b[0;32m/blue/adamginsburg/abulatek/anaconda/lib/python3.7/site-packages/pyspeckit/cubes/SpectralCube.py\u001b[0m in \u001b[0;36m__init__\u001b[0;34m(self, filename, cube, xarr, xunit, errorcube, header, x0, y0, maskmap, **kwargs)\u001b[0m\n\u001b[1;32m    119\u001b[0m             \u001b[0;32mif\u001b[0m \u001b[0mhasattr\u001b[0m\u001b[0;34m(\u001b[0m\u001b[0mcube\u001b[0m\u001b[0;34m,\u001b[0m \u001b[0;34m'spectral_axis'\u001b[0m\u001b[0;34m)\u001b[0m\u001b[0;34m:\u001b[0m\u001b[0;34m\u001b[0m\u001b[0m\n\u001b[1;32m    120\u001b[0m                 \u001b[0;31m# Load from a SpectralCube instance\u001b[0m\u001b[0;34m\u001b[0m\u001b[0;34m\u001b[0m\u001b[0m\n\u001b[0;32m--> 121\u001b[0;31m                 \u001b[0mself\u001b[0m\u001b[0;34m.\u001b[0m\u001b[0mcube\u001b[0m \u001b[0;34m=\u001b[0m \u001b[0mcube\u001b[0m\u001b[0;34m.\u001b[0m\u001b[0mhdu\u001b[0m\u001b[0;34m.\u001b[0m\u001b[0mdata\u001b[0m\u001b[0;34m\u001b[0m\u001b[0m\n\u001b[0m\u001b[1;32m    122\u001b[0m                 if (cube.unit in ('undefined', units.dimensionless_unscaled)\n\u001b[1;32m    123\u001b[0m                     and 'BUNIT' in cube._meta):\n",
      "\u001b[0;32m/blue/adamginsburg/abulatek/spectral-cube/spectral_cube/spectral_cube.py\u001b[0m in \u001b[0;36m__getattribute__\u001b[0;34m(self, attrname)\u001b[0m\n\u001b[1;32m   3908\u001b[0m             \u001b[0;32mreturn\u001b[0m \u001b[0mself\u001b[0m\u001b[0;34m.\u001b[0m\u001b[0m_handle_beam_areas_wrapper\u001b[0m\u001b[0;34m(\u001b[0m\u001b[0morigfunc\u001b[0m\u001b[0;34m)\u001b[0m\u001b[0;34m\u001b[0m\u001b[0m\n\u001b[1;32m   3909\u001b[0m         \u001b[0;32melse\u001b[0m\u001b[0;34m:\u001b[0m\u001b[0;34m\u001b[0m\u001b[0m\n\u001b[0;32m-> 3910\u001b[0;31m             \u001b[0;32mreturn\u001b[0m \u001b[0msuper\u001b[0m\u001b[0;34m(\u001b[0m\u001b[0mVRSC\u001b[0m\u001b[0;34m,\u001b[0m \u001b[0mself\u001b[0m\u001b[0;34m)\u001b[0m\u001b[0;34m.\u001b[0m\u001b[0m__getattribute__\u001b[0m\u001b[0;34m(\u001b[0m\u001b[0mattrname\u001b[0m\u001b[0;34m)\u001b[0m\u001b[0;34m\u001b[0m\u001b[0m\n\u001b[0m\u001b[1;32m   3911\u001b[0m \u001b[0;34m\u001b[0m\u001b[0m\n\u001b[1;32m   3912\u001b[0m     \u001b[0;34m@\u001b[0m\u001b[0mproperty\u001b[0m\u001b[0;34m\u001b[0m\u001b[0m\n",
      "\u001b[0;32m/blue/adamginsburg/abulatek/spectral-cube/spectral_cube/dask_spectral_cube.py\u001b[0m in \u001b[0;36mhdu\u001b[0;34m(self)\u001b[0m\n\u001b[1;32m   1370\u001b[0m     \u001b[0;34m@\u001b[0m\u001b[0mproperty\u001b[0m\u001b[0;34m\u001b[0m\u001b[0m\n\u001b[1;32m   1371\u001b[0m     \u001b[0;32mdef\u001b[0m \u001b[0mhdu\u001b[0m\u001b[0;34m(\u001b[0m\u001b[0mself\u001b[0m\u001b[0;34m)\u001b[0m\u001b[0;34m:\u001b[0m\u001b[0;34m\u001b[0m\u001b[0m\n\u001b[0;32m-> 1372\u001b[0;31m         raise ValueError(\"For DaskVaryingResolutionSpectralCube's, use hdulist \"\n\u001b[0m\u001b[1;32m   1373\u001b[0m                          \"instead of hdu.\")\n\u001b[1;32m   1374\u001b[0m \u001b[0;34m\u001b[0m\u001b[0m\n",
      "\u001b[0;31mValueError\u001b[0m: For DaskVaryingResolutionSpectralCube's, use hdulist instead of hdu."
     ]
    }
   ],
   "source": [
    "pcube = pyspeckit.Cube(cube = rough_subcube)"
   ]
  },
  {
   "cell_type": "code",
   "execution_count": null,
   "metadata": {},
   "outputs": [],
   "source": []
  }
 ],
 "metadata": {
  "kernelspec": {
   "display_name": "Python 3",
   "language": "python",
   "name": "python3"
  },
  "language_info": {
   "codemirror_mode": {
    "name": "ipython",
    "version": 3
   },
   "file_extension": ".py",
   "mimetype": "text/x-python",
   "name": "python",
   "nbconvert_exporter": "python",
   "pygments_lexer": "ipython3",
   "version": "3.7.0"
  }
 },
 "nbformat": 4,
 "nbformat_minor": 4
}
