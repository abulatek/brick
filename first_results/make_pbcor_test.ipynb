{
 "cells": [
  {
   "cell_type": "code",
   "execution_count": 28,
   "metadata": {},
   "outputs": [],
   "source": [
    "# Import statements\n",
    "import glob\n",
    "from spectral_cube import SpectralCube\n",
    "import astropy.units as u\n",
    "import os"
   ]
  },
  {
   "cell_type": "code",
   "execution_count": 24,
   "metadata": {},
   "outputs": [],
   "source": [
    "# Ignore warnings\n",
    "import warnings\n",
    "warnings.filterwarnings('ignore')"
   ]
  },
  {
   "cell_type": "code",
   "execution_count": 2,
   "metadata": {},
   "outputs": [],
   "source": [
    "# Use dask for parallelization\n",
    "dask = True\n",
    "\n",
    "if dask:\n",
    "    from dask.diagnostics import ProgressBar\n",
    "    pbar = ProgressBar()\n",
    "    pbar.register()"
   ]
  },
  {
   "cell_type": "code",
   "execution_count": 3,
   "metadata": {},
   "outputs": [
    {
     "name": "stderr",
     "output_type": "stream",
     "text": [
      "/blue/adamginsburg/abulatek/anaconda/lib/python3.7/site-packages/casa_formats_io-0.1-py3.7-linux-x86_64.egg/casa_formats_io/casa_dask.py:232: RuntimeWarning: divide by zero encountered in long_scalars\n",
      "  factors = [f for f in range(stacks[dim] + 1) if stacks[dim] % f == 0]\n",
      "WARNING: BeamWarning: No beam information found in CASA image. [spectral_cube.io.casa_image]\n",
      "WARNING: StokesWarning: Cube is a Stokes cube, returning spectral cube for I component [spectral_cube.io.core]\n",
      "/blue/adamginsburg/abulatek/anaconda/lib/python3.7/site-packages/casa_formats_io-0.1-py3.7-linux-x86_64.egg/casa_formats_io/casa_dask.py:232: RuntimeWarning: divide by zero encountered in long_scalars\n",
      "  factors = [f for f in range(stacks[dim] + 1) if stacks[dim] % f == 0]\n",
      "WARNING: StokesWarning: Cube is a Stokes cube, returning spectral cube for I component [spectral_cube.io.core]\n"
     ]
    }
   ],
   "source": [
    "# Get a cube and the pb file for that cube\n",
    "freq_spw = '273_spw51'\n",
    "pb_fn = glob.glob(f\"/blue/adamginsburg/abulatek/brick/symlinks/imaging_results/source_ab*{freq_spw}*clean*.pb\")\n",
    "cube_fn = glob.glob(f\"/blue/adamginsburg/abulatek/brick/symlinks/imaging_results/source_ab*{freq_spw}*clean*.image\") # We need the units of this... and no one knows why\n",
    "pb = SpectralCube.read(pb_fn[0], format = 'casa_image')\n",
    "cube = SpectralCube.read(cube_fn[0], format = 'casa_image')"
   ]
  },
  {
   "cell_type": "code",
   "execution_count": 4,
   "metadata": {},
   "outputs": [
    {
     "data": {
      "text/plain": [
       "DaskVaryingResolutionSpectralCube with shape=(3840, 512, 512) and unit=Jy / beam and chunk size (128, 256, 512):\n",
       " n_x:    512  type_x: RA---SIN  unit_x: deg    range:   266.528130 deg:  266.560501 deg\n",
       " n_y:    512  type_y: DEC--SIN  unit_y: deg    range:   -28.719152 deg:  -28.690763 deg\n",
       " n_s:   3840  type_s: FREQ      unit_s: Hz     range: 273010861630.481 Hz:274885343259.334 Hz"
      ]
     },
     "execution_count": 4,
     "metadata": {},
     "output_type": "execute_result"
    }
   ],
   "source": [
    "cube"
   ]
  },
  {
   "cell_type": "code",
   "execution_count": 5,
   "metadata": {},
   "outputs": [
    {
     "data": {
      "text/plain": [
       "DaskSpectralCube with shape=(3840, 512, 512) and chunk size (128, 256, 512):\n",
       " n_x:    512  type_x: RA---SIN  unit_x: deg    range:   266.528130 deg:  266.560501 deg\n",
       " n_y:    512  type_y: DEC--SIN  unit_y: deg    range:   -28.719152 deg:  -28.690763 deg\n",
       " n_s:   3840  type_s: FREQ      unit_s: Hz     range: 273010861630.481 Hz:274885343259.334 Hz"
      ]
     },
     "execution_count": 5,
     "metadata": {},
     "output_type": "execute_result"
    }
   ],
   "source": [
    "pb"
   ]
  },
  {
   "cell_type": "code",
   "execution_count": 16,
   "metadata": {},
   "outputs": [],
   "source": [
    "# Use division to correct the cube, and deal with the units issue\n",
    "cube_pbcor = cube.unitless/(pb.unitless)\n",
    "cube_pbcor_unit = cube_pbcor * (u.Jy/u.beam)"
   ]
  },
  {
   "cell_type": "code",
   "execution_count": 17,
   "metadata": {},
   "outputs": [
    {
     "data": {
      "text/plain": [
       "DaskVaryingResolutionSpectralCube with shape=(3840, 512, 512) and unit=Jy / beam and chunk size (128, 256, 512):\n",
       " n_x:    512  type_x: RA---SIN  unit_x: deg    range:   266.528130 deg:  266.560501 deg\n",
       " n_y:    512  type_y: DEC--SIN  unit_y: deg    range:   -28.719152 deg:  -28.690763 deg\n",
       " n_s:   3840  type_s: FREQ      unit_s: Hz     range: 273010861630.481 Hz:274885343259.334 Hz"
      ]
     },
     "execution_count": 17,
     "metadata": {},
     "output_type": "execute_result"
    }
   ],
   "source": [
    "cube_pbcor_unit"
   ]
  },
  {
   "cell_type": "code",
   "execution_count": 21,
   "metadata": {},
   "outputs": [
    {
     "data": {
      "text/plain": [
       "'/blue/adamginsburg/abulatek/brick/symlinks/imaging_results/source_ab_273_spw51_clean_2sigma_n50000_masked_3sigma_pbmask0p18.pbcor.image'"
      ]
     },
     "execution_count": 21,
     "metadata": {},
     "output_type": "execute_result"
    }
   ],
   "source": [
    "outfile = cube_fn[0].replace(\".image\",\".pbcor.image\")\n",
    "outfile"
   ]
  },
  {
   "cell_type": "code",
   "execution_count": 33,
   "metadata": {},
   "outputs": [],
   "source": [
    "if not os.path.exists(outfile):\n",
    "    cube_pbcor_unit.write(outfile, format='fits')  "
   ]
  },
  {
   "cell_type": "code",
   "execution_count": null,
   "metadata": {},
   "outputs": [],
   "source": []
  }
 ],
 "metadata": {
  "kernelspec": {
   "display_name": "Python 3",
   "language": "python",
   "name": "python3"
  },
  "language_info": {
   "codemirror_mode": {
    "name": "ipython",
    "version": 3
   },
   "file_extension": ".py",
   "mimetype": "text/x-python",
   "name": "python",
   "nbconvert_exporter": "python",
   "pygments_lexer": "ipython3",
   "version": "3.7.0"
  }
 },
 "nbformat": 4,
 "nbformat_minor": 2
}
