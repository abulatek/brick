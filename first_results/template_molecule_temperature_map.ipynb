{
 "cells": [
  {
   "cell_type": "code",
   "execution_count": 2,
   "metadata": {},
   "outputs": [],
   "source": [
    "# Make methyl cyanide temperature maps using a template molecule for masking\n",
    "from astroquery.splatalogue import Splatalogue\n",
    "from spectral_cube import SpectralCube\n",
    "from astropy import units as u\n",
    "import matplotlib.pyplot as plt\n",
    "import numpy as np\n",
    "import scipy.ndimage as nd\n",
    "from dask.diagnostics import ProgressBar"
   ]
  },
  {
   "cell_type": "code",
   "execution_count": 3,
   "metadata": {},
   "outputs": [],
   "source": [
    "def get_noise_map(cube_noise):\n",
    "    cube_sclip = cube_noise.sigma_clip_spectrally(3) # Clip values above 3-sigma \n",
    "    mad_std_spectrum_sclip = cube_sclip.mad_std(axis=(1, 2))\n",
    "    plt.plot(mad_std_spectrum_sclip.spectral_axis.value, mad_std_spectrum_sclip.value, \n",
    "             drawstyle='steps-mid')\n",
    "    plt.xlabel('Velocity (km/s)')\n",
    "    plt.ylabel(r' Noise standard deviation $\\sigma$ (K)')\n",
    "    plt.ylim([0., 0.30]) # Best to extend the range to 0.\n",
    "    plt.axhline(0.25, linestyle='--', color='k', linewidth=3, label='A priori noise expectation')\n",
    "    plt.legend(frameon=True)\n",
    "    mad_std_map_sclip = cube_sclip.mad_std(axis=0) # Calculate sigma along the spectral dimension\n",
    "    return mad_std_map_sclip\n",
    "\n",
    "def get_signal_mask_scipy(cube_signal, mad_std_map_sclip):\n",
    "    '''Please pass an already-masked cube to cube_signal'''\n",
    "    # Make a low and high mask\n",
    "    low_snr_mask = (cube_signal > 3 * mad_std_map_sclip).include()\n",
    "    high_snr_mask = (cube_signal > 10 * mad_std_map_sclip).include()\n",
    "    low_snr_mask = low_snr_mask.compute() # We need to convert from a dask array to a numpy array.\n",
    "    high_snr_mask = high_snr_mask.compute()\n",
    "    # Find connected structures\n",
    "    structure = np.ones((3, 3, 3), dtype=bool)\n",
    "    low_snr_mask_labels, num_labels = nd.label(low_snr_mask, structure=structure)\n",
    "    print(f\"Initial number of regions found: {num_labels}\")\n",
    "    # From the labels, count the number of pixels within each label.\n",
    "    num_pixels_in_high_snr_mask = nd.sum(high_snr_mask,\n",
    "                                         labels=low_snr_mask_labels,\n",
    "                                         index=range(1, num_labels + 1)) # +1 offset for mask labels\n",
    "    # Repeat for the high signal mask.\n",
    "    num_pixels_in_low_snr_mask = nd.sum(low_snr_mask,\n",
    "                                        labels=low_snr_mask_labels,\n",
    "                                        index=range(1, num_labels + 1)) # +1 offset for mask labels\n",
    "    # To preserve the low_snr_mask, we will create a new signal mask where we will remove \n",
    "    # regions that do not pass the criteria.\n",
    "    signal_mask = low_snr_mask\n",
    "    low_min_pixels = 40\n",
    "    high_min_pixels = 10\n",
    "    for num, (high_pix_num, low_pix_num) in enumerate(zip(num_pixels_in_high_snr_mask, \n",
    "                                                          num_pixels_in_low_snr_mask)):\n",
    "        if high_pix_num >= high_min_pixels and low_pix_num >= low_min_pixels:\n",
    "            # This region passes the criteria. Keep it in the mask.\n",
    "            continue\n",
    "        # Remove regions that do not pass the criteria.\n",
    "        # NOTE: enumerate will start with 0, but the mask labels start at 1\n",
    "        # We apply a +1 offset to `num` to account for this.\n",
    "        signal_mask[low_snr_mask_labels == num + 1] = False\n",
    "    signal_mask_labels, num_labels = nd.label(signal_mask,\n",
    "                                              structure=structure)\n",
    "    print(f\"Final number of regions found: {num_labels}\")\n",
    "    signal_mask = nd.binary_dilation(signal_mask, structure=structure, iterations=1)\n",
    "    return signal_mask"
   ]
  },
  {
   "cell_type": "code",
   "execution_count": 4,
   "metadata": {},
   "outputs": [
    {
     "name": "stderr",
     "output_type": "stream",
     "text": [
      "/blue/adamginsburg/abulatek/anaconda/lib/python3.7/site-packages/casa_formats_io-0.1-py3.7-linux-x86_64.egg/casa_formats_io/casa_dask.py:232: RuntimeWarning: divide by zero encountered in long_scalars\n",
      "  factors = [f for f in range(stacks[dim] + 1) if stacks[dim] % f == 0]\n"
     ]
    },
    {
     "name": "stdout",
     "output_type": "stream",
     "text": [
      "(85, 512, 512)\n"
     ]
    },
    {
     "name": "stderr",
     "output_type": "stream",
     "text": [
      "WARNING: StokesWarning: Cube is a Stokes cube, returning spectral cube for I component [spectral_cube.io.core]\n"
     ]
    }
   ],
   "source": [
    "# Get template molecule cube\n",
    "results = '/blue/adamginsburg/abulatek/brick/symlinks/imaging_results/'\n",
    "freq_spw = '135_spw47'\n",
    "fn = results+'source_ab_'+freq_spw+'_clean_2sigma_n50000_masked_3sigma_pbmask0p18.image'\n",
    "cube = SpectralCube.read(fn, format='casa_image')\n",
    "h2cscube = cube.with_spectral_unit(u.km/u.s, velocity_convention='radio', \n",
    "                                   rest_value=135.297811*u.GHz).spectral_slab(-10*u.km/u.s, \n",
    "                                                                              80*u.km/u.s)\n",
    "print(h2cscube.shape)\n",
    "h2cssubcube = h2cscube.spectral_slab(-10*u.km/u.s, 30*u.km/u.s)"
   ]
  },
  {
   "cell_type": "code",
   "execution_count": 5,
   "metadata": {},
   "outputs": [
    {
     "name": "stdout",
     "output_type": "stream",
     "text": [
      "Initial number of regions found: 1229\n",
      "Final number of regions found: 4\n"
     ]
    },
    {
     "data": {
      "image/png": "[encoded data removed]",
      "text/plain": [
       "<Figure size 432x288 with 1 Axes>"
      ]
     },
     "metadata": {
      "needs_background": "light"
     },
     "output_type": "display_data"
    }
   ],
   "source": [
    "# Make signal mask out of template molecule cube\n",
    "mad_std_map_sclip = get_noise_map(h2cssubcube) # Get noise map\n",
    "plain_mask = h2cssubcube >= 3 * mad_std_map_sclip # Get plain 3sigma mask\n",
    "plain_masked_slab = h2cssubcube.with_mask(plain_mask) # Mask the template molecule cube\n",
    "signal_mask = get_signal_mask_scipy(plain_masked_slab, mad_std_map_sclip)"
   ]
  },
  {
   "cell_type": "code",
   "execution_count": 6,
   "metadata": {},
   "outputs": [
    {
     "name": "stderr",
     "output_type": "stream",
     "text": [
      "/blue/adamginsburg/abulatek/anaconda/lib/python3.7/site-packages/casa_formats_io-0.1-py3.7-linux-x86_64.egg/casa_formats_io/casa_dask.py:232: RuntimeWarning: divide by zero encountered in long_scalars\n",
      "  factors = [f for f in range(stacks[dim] + 1) if stacks[dim] % f == 0]\n"
     ]
    },
    {
     "name": "stdout",
     "output_type": "stream",
     "text": [
      "(91, 512, 512)\n"
     ]
    },
    {
     "name": "stderr",
     "output_type": "stream",
     "text": [
      "WARNING: StokesWarning: Cube is a Stokes cube, returning spectral cube for I component [spectral_cube.io.core]\n"
     ]
    }
   ],
   "source": [
    "# Get methyl cyanide cube for each K-component\n",
    "results = '/blue/adamginsburg/abulatek/brick/symlinks/imaging_results/'\n",
    "freq_spw = '146_spw51'\n",
    "fn = results+'source_ab_'+freq_spw+'_clean_2sigma_n50000_masked_3sigma_pbmask0p18.image'\n",
    "cube = SpectralCube.read(fn, format='casa_image')\n",
    "ch3cncube = cube.with_spectral_unit(u.km/u.s, velocity_convention='radio', \n",
    "                                   rest_value=147.1632441*u.GHz).spectral_slab(-10*u.km/u.s, \n",
    "                                                                               80*u.km/u.s)\n",
    "print(ch3cncube.shape)\n",
    "ch3cnsubcube = ch3cncube.spectral_slab(-10*u.km/u.s, 30*u.km/u.s)"
   ]
  },
  {
   "cell_type": "code",
   "execution_count": 7,
   "metadata": {},
   "outputs": [],
   "source": [
    "# Regrid methyl cyanide subcube to match H2CS subcube\n",
    "ch3cnsubcube_commonbeam = ch3cnsubcube.convolve_to(ch3cnsubcube.beams.common_beam())\n",
    "ch3cnsubcube_regrid = ch3cnsubcube_commonbeam.spectral_interpolate(h2cssubcube.spectral_axis)\n",
    "# print(ch3cnsubcube_regrid.spectral_axis - h2cssubcube.spectral_axis)"
   ]
  },
  {
   "cell_type": "code",
   "execution_count": null,
   "metadata": {},
   "outputs": [],
   "source": [
    "# Apply signal mask from template molecule to methyl cyanide K-components\n",
    "## Also don't forget about continuum subtraction\n",
    "ch3cnsubcube_regrid.with_mask(signal_mask).write('CH3CN_82-72_masked.fits', overwrite=True)\n",
    "masked_cube.rechunk()\n",
    "\n",
    "# subcube_regrid.with_mask(mask, tolerance=1000)\n",
    "# subcube_regrid.with_mask(mask.include())\n",
    "# mask.include()\n",
    "# mask = (h2cscube > 5*u.mJy/u.beam).include().compute()\n",
    "# subcube_regrid.with_mask(mask)\n",
    "# #subcube_regrid.with_mask(mask).write('\n",
    "# get_ipython().run_line_magic('history', '')\n",
    "# subcube_regrid.with_mask(mask).write('CH3CN_8(0)-7(0)_masked.fits')\n",
    "# masked_subcube_regrid = subcube_regrid.with_mask(mask)\n",
    "# masked_subcube_regrid.write('CH3CN_8(0)-7(0)_masked.fits', overwrite=True)\n",
    "# masked_subcube_regrid\n",
    "# masked_subcube_regrid.rechunk()\n",
    "# masked_subcube_regrid.rechunk().write('CH3CN_8(0)-7(0)_masked.fits', overwrite=True)\n",
    "\n",
    "\n",
    "# ch3cnK0 = SpectralCube.read('./thioformaldehyde/H2CS_303-202.fits')\n",
    "# ch3cnK0\n",
    "# ch3cnK0_rg = ch3cnK0.convolve_to(h2cscubes.beams.common_beam()).spectral_interpolate(h2cscube.spectral_axis)\n",
    "# ch3cnK0_rg.with_mask(mask)\n",
    "# ch3cnK0 = SpectralCube.read('CH3CN_8(0)-7(0).fits')\n",
    "# ch3cnK0_rg = ch3cnK0.convolve_to(h2cscubes.beams.common_beam()).spectral_interpolate(h2cscube.spectral_axis)\n",
    "# h2cscube\n",
    "# ch3cnK0_rg = ch3cnK0.convolve_to(h2cscube.beams.common_beam()).spectral_interpolate(h2cscube.spectral_axis)\n",
    "# ch3cnK0_rg\n",
    "# ch3cnK0_rg.with_mask(mask).write('CH3CN_8(0)-7(0)_masked.fits', overwrite=True)\n",
    "# #cube = SpectralCube.read('../imaging_results/source_ab_137_spw69_clean_2sigma_n50000_masked_3sigma_pbmask0p18.image')\n",
    "# ch3cnK0_dask_cube = SpectralCube.read('../imaging_results/source_ab_146_spw51_clean_2sigma_n50000_masked_3sigma_pbmask0p18.image').with_spect\n",
    "# ral_unit(u.km/u.s, velocity_convention='radio', rest_value=147.1745883*u.GHz)\n",
    "# ch3cnK0_dask_cube = SpectralCube.read('../imaging_results/source_ab_146_spw51_clean_2sigma_n50000_masked_3sigma_pbmask0p18.image').with_spect\n",
    "# ral_unit(u.km/u.s, velocity_convention='radio', rest_value=147.1745883*u.GHz)\n",
    "# ch3cnK0_dc_rg = ch3cnK0_dask_cube.convolve_to(h2cscubes.beams.common_beam()).spectral_interpolate(h2cscube.spectral_axis)\n",
    "# ch3cnK0_dask_cube = SpectralCube.read('../imaging_results/source_ab_146_spw51_clean_2sigma_n50000_masked_3sigma_pbmask0p18.image').with_spect\n",
    "# ral_unit(u.km/u.s, velocity_convention='radio', rest_value=147.1745883*u.GHz)\n",
    "# ch3cnK0_dc_rg = ch3cnK0_dask_cube.convolve_to(h2cscube.beams.common_beam()).spectral_interpolate(h2cscube.spectral_axis)\n",
    "# # the above is very fast b/c it was lazy\n",
    "# ch3cnK0_dask_cube = SpectralCube.read('../imaging_results/source_ab_146_spw51_clean_2sigma_n50000_masked_3sigma_pbmask0p18.image').with_spectral_unit(u.km/u.s, velocity_convention='radio', rest_value=147.1745883*u.GHz).spectral_slab(-10*u.km/u.s, 80*u.km/u.s)\n",
    "# ch3cnK0_dc_rg = ch3cnK0_dask_cube.convolve_to(h2cscube.beams.common_beam()).spectral_interpolate(h2cscube.spectral_axis)\n",
    "# # the above is very fast b/c it was lazy\n",
    "# ch3cnK0_dc_rg\n",
    "# ch3cnK0_dc_rg._data\n",
    "# mch3cnK0_dc_rg = ch3cnK0_dc_rg.with_mask(mask)\n",
    "# with ProgressBar():\n",
    "#     mch3cnK0_dc_rg.write('TEST.fits')"
   ]
  },
  {
   "cell_type": "code",
   "execution_count": null,
   "metadata": {},
   "outputs": [],
   "source": [
    "masked_cube = SpectralCube.read('CH3CN_82-72_masked.fits')"
   ]
  },
  {
   "cell_type": "code",
   "execution_count": null,
   "metadata": {},
   "outputs": [],
   "source": [
    "# Make moment maps from cube for each individual K-component\n",
    "masked_moment0 = masked_cube.moment0() # masked_cubes[n]\n",
    "\n",
    "ax = plt.subplot(projection=masked_moment0.wcs)\n",
    "im = ax.imshow(masked_moment0.value, origin='lower', cmap='inferno')\n",
    "cbar = plt.colorbar(im)\n",
    "cbar.set_label('Integrated Intensity (K km/s)')\n",
    "ax.set_ylabel('Declination')\n",
    "ax.set_xlabel('Right Ascension')"
   ]
  },
  {
   "cell_type": "code",
   "execution_count": null,
   "metadata": {},
   "outputs": [],
   "source": [
    "masked_moment1 = masked_cube.moment1() # masked_cubes[n]\n",
    "\n",
    "ax = plt.subplot(projection=masked_moment1.wcs)\n",
    "im = ax.imshow(masked_moment1.value, origin='lower', cmap='coolwarm')\n",
    "cbar = plt.colorbar(im)\n",
    "cbar.set_label('Centroid (km/s)')\n",
    "\n",
    "ax.set_ylabel('Declination')\n",
    "ax.set_xlabel('Right Ascension')"
   ]
  },
  {
   "cell_type": "code",
   "execution_count": null,
   "metadata": {},
   "outputs": [],
   "source": [
    "# use mom0 maps to make temperature map woo!!"
   ]
  }
 ],
 "metadata": {
  "kernelspec": {
   "display_name": "Python 3",
   "language": "python",
   "name": "python3"
  },
  "language_info": {
   "codemirror_mode": {
    "name": "ipython",
    "version": 3
   },
   "file_extension": ".py",
   "mimetype": "text/x-python",
   "name": "python",
   "nbconvert_exporter": "python",
   "pygments_lexer": "ipython3",
   "version": "3.7.0"
  }
 },
 "nbformat": 4,
 "nbformat_minor": 2
}
