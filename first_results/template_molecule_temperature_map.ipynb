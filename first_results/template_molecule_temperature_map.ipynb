{
 "cells": [
  {
   "cell_type": "markdown",
   "metadata": {},
   "source": [
    "# Template Molecule-based Temperature Map\n",
    "\n",
    "This uses the \"Cube Reprojection and Signal Masking Tutorial\" (public version available [here](https://gist.github.com/abulatek/cc1cd9e62a04c7b5487f3a45d9633823)) written by Adam Ginsburg, Eric Koch, Tom Robitaille, and Erik Rosolowsky and adapted by Alyssa Bulatek. It uses an H2CS cube to create a signal mask for a rung of a CH3CN ladder (which has a more complicated velocity structure), putting both cubes on the same velocity grid in the process.\n",
    "\n",
    "## Navigation\n",
    "\n",
    "1. [Access the data](#1.-Access-the-data)\n",
    "2. [Find lines in cubes](#2.-Find-lines-in-cubes)\n",
    "3. [Convert cube spectral axes from frequency to velocity](#3.-Convert-cube-spectral-axes-from-frequency-to-velocity)\n",
    "4. [Spectral Interpolation](#4.-Spectral-Interpolation)\n",
    "5. [Spatial Smoothing](#5.-Spatial-Smoothing)\n",
    "6. [Reprojection](#6.-Reprojection)\n",
    "7. [Signal Masking](#7.-Signal-Masking)\n",
    "8. [Moment Maps](#8.-Moment-Maps)\n",
    "9. [Masking Outliers](#9.-Masking-Outliers)"
   ]
  },
  {
   "cell_type": "markdown",
   "metadata": {},
   "source": [
    "## 1. Access the data"
   ]
  },
  {
   "cell_type": "code",
   "execution_count": 1,
   "metadata": {},
   "outputs": [],
   "source": [
    "%matplotlib inline\n",
    "from spectral_cube import SpectralCube\n",
    "from astropy import units as u\n",
    "results = '/blue/adamginsburg/abulatek/brick/symlinks/imaging_results/'"
   ]
  },
  {
   "cell_type": "markdown",
   "metadata": {},
   "source": [
    "First, we'll get the template molecule cube (H2CS)."
   ]
  },
  {
   "cell_type": "code",
   "execution_count": 2,
   "metadata": {},
   "outputs": [
    {
     "name": "stderr",
     "output_type": "stream",
     "text": [
      "/blue/adamginsburg/abulatek/anaconda/lib/python3.7/site-packages/casa_formats_io-0.1-py3.7-linux-x86_64.egg/casa_formats_io/casa_dask.py:232: RuntimeWarning: divide by zero encountered in long_scalars\n",
      "  factors = [f for f in range(stacks[dim] + 1) if stacks[dim] % f == 0]\n",
      "WARNING: StokesWarning: Cube is a Stokes cube, returning spectral cube for I component [spectral_cube.io.core]\n"
     ]
    }
   ],
   "source": [
    "# Get H2CS (template molecule) cube\n",
    "freq_spw = '135_spw47'\n",
    "fn = results+'source_ab_'+freq_spw+'_clean_2sigma_n50000_masked_3sigma_pbmask0p18.image'\n",
    "h2cscube = SpectralCube.read(fn, format='casa_image')"
   ]
  },
  {
   "cell_type": "markdown",
   "metadata": {},
   "source": [
    "Then, we'll get the target molecule cube (CH3CN)."
   ]
  },
  {
   "cell_type": "code",
   "execution_count": 45,
   "metadata": {},
   "outputs": [
    {
     "name": "stderr",
     "output_type": "stream",
     "text": [
      "/blue/adamginsburg/abulatek/anaconda/lib/python3.7/site-packages/casa_formats_io-0.1-py3.7-linux-x86_64.egg/casa_formats_io/casa_dask.py:232: RuntimeWarning: divide by zero encountered in long_scalars\n",
      "  factors = [f for f in range(stacks[dim] + 1) if stacks[dim] % f == 0]\n",
      "WARNING: StokesWarning: Cube is a Stokes cube, returning spectral cube for I component [spectral_cube.io.core]\n"
     ]
    }
   ],
   "source": [
    "# Get methyl cyanide (target molecule) cube for one K-component\n",
    "freq_spw = '146_spw51'\n",
    "fn = results+'source_ab_'+freq_spw+'_clean_2sigma_n50000_masked_3sigma_pbmask0p18.image'\n",
    "ch3cncube = SpectralCube.read(fn, format='casa_image')"
   ]
  },
  {
   "cell_type": "markdown",
   "metadata": {},
   "source": [
    "## 2. Find lines in cubes\n",
    "We'll use Splatalogue to list the lines within the frequency ranges of each cube to confirm that we're covering the lines we want to cover."
   ]
  },
  {
   "cell_type": "code",
   "execution_count": 46,
   "metadata": {},
   "outputs": [
    {
     "name": "stderr",
     "output_type": "stream",
     "text": [
      "WARNING: ExperimentalImplementationWarning: The line-finding routine is experimental.  Please report bugs on the Issues page: https://github.com/radio-astro-tools/spectral-cube/issues [spectral_cube.spectral_cube]\n"
     ]
    },
    {
     "data": {
      "text/html": [
       "<i>Table length=1</i>\n",
       "<table id=\"table47973545811808-124978\" class=\"table-striped table-bordered table-condensed\">\n",
       "<thead><tr><th>idx</th><th>Species</th><th>Chemical Name</th><th>Freq-GHz(rest frame,redshifted)</th><th>Freq Err(rest frame,redshifted)</th><th>Meas Freq-GHz(rest frame,redshifted)</th><th>Meas Freq Err(rest frame,redshifted)</th><th>Resolved QNs</th><th>CDMS/JPL Intensity</th><th>S&lt;sub&gt;ij&lt;/sub&gt;&amp;#956;&lt;sup&gt;2&lt;/sup&gt; (D&lt;sup&gt;2&lt;/sup&gt;)</th><th>S&lt;sub&gt;ij&lt;/sub&gt;</th><th>Log&lt;sub&gt;10&lt;/sub&gt; (A&lt;sub&gt;ij&lt;/sub&gt;)</th><th>Lovas/AST Intensity</th><th>E_L (cm^-1)</th><th>E_L (K)</th><th>E_U (cm^-1)</th><th>E_U (K)</th><th>Upper State Degeneracy</th><th>Linelist</th></tr></thead>\n",
       "<tr><td>0</td><td>H2CS</td><td>Thioformaldehyde</td><td>--</td><td>--</td><td>135.297811</td><td>0.00025</td><td>4(1,4)-3(1,3)</td><td>-3.2444</td><td>30.5155</td><td>11.222</td><td>-4.48704</td><td>0.64</td><td>15.937</td><td>22.92966</td><td>20.45005</td><td>29.42289</td><td>27.0</td><td>JPL</td></tr>\n",
       "</table><style>table.dataTable {clear: both; width: auto !important; margin: 0 !important;}\n",
       ".dataTables_info, .dataTables_length, .dataTables_filter, .dataTables_paginate{\n",
       "display: inline-block; margin-right: 1em; }\n",
       ".paginate_button { margin-right: 5px; }\n",
       "</style>\n",
       "<script>\n",
       "\n",
       "var astropy_sort_num = function(a, b) {\n",
       "    var a_num = parseFloat(a);\n",
       "    var b_num = parseFloat(b);\n",
       "\n",
       "    if (isNaN(a_num) && isNaN(b_num))\n",
       "        return ((a < b) ? -1 : ((a > b) ? 1 : 0));\n",
       "    else if (!isNaN(a_num) && !isNaN(b_num))\n",
       "        return ((a_num < b_num) ? -1 : ((a_num > b_num) ? 1 : 0));\n",
       "    else\n",
       "        return isNaN(a_num) ? -1 : 1;\n",
       "}\n",
       "\n",
       "require.config({paths: {\n",
       "    datatables: 'https://cdn.datatables.net/1.10.12/js/jquery.dataTables.min'\n",
       "}});\n",
       "require([\"datatables\"], function(){\n",
       "    console.log(\"$('#table47973545811808-124978').dataTable()\");\n",
       "    \n",
       "jQuery.extend( jQuery.fn.dataTableExt.oSort, {\n",
       "    \"optionalnum-asc\": astropy_sort_num,\n",
       "    \"optionalnum-desc\": function (a,b) { return -astropy_sort_num(a, b); }\n",
       "});\n",
       "\n",
       "    $('#table47973545811808-124978').dataTable({\n",
       "        order: [],\n",
       "        pageLength: 50,\n",
       "        lengthMenu: [[10, 25, 50, 100, 500, 1000, -1], [10, 25, 50, 100, 500, 1000, 'All']],\n",
       "        pagingType: \"full_numbers\",\n",
       "        columnDefs: [{targets: [0, 3, 4, 5, 6, 8, 9, 10, 11, 12, 13, 14, 15, 16, 17], type: \"optionalnum\"}]\n",
       "    });\n",
       "});\n",
       "</script>\n"
      ],
      "text/plain": [
       "<IPython.core.display.HTML object>"
      ]
     },
     "execution_count": 46,
     "metadata": {},
     "output_type": "execute_result"
    }
   ],
   "source": [
    "from astroquery.splatalogue import Splatalogue\n",
    "h2cscube.find_lines(chemical_name='H2CS', line_lists=['JPL'], \n",
    "                    show_upper_degeneracy=True).show_in_notebook()"
   ]
  },
  {
   "cell_type": "code",
   "execution_count": 42,
   "metadata": {},
   "outputs": [
    {
     "name": "stderr",
     "output_type": "stream",
     "text": [
      "WARNING: ExperimentalImplementationWarning: The line-finding routine is experimental.  Please report bugs on the Issues page: https://github.com/radio-astro-tools/spectral-cube/issues [spectral_cube.spectral_cube]\n"
     ]
    },
    {
     "ename": "UnitConversionError",
     "evalue": "'km / s' (speed/velocity) and 'GHz' (frequency) are not convertible",
     "output_type": "error",
     "traceback": [
      "\u001b[0;31m---------------------------------------------------------------------------\u001b[0m",
      "\u001b[0;31mUnitConversionError\u001b[0m                       Traceback (most recent call last)",
      "\u001b[0;32m<ipython-input-42-695e9e281635>\u001b[0m in \u001b[0;36m<module>\u001b[0;34m()\u001b[0m\n\u001b[1;32m      1\u001b[0m ch3cntbl = ch3cncube.find_lines(chemical_name='CH3CN', line_lists=['JPL'], \n\u001b[0;32m----> 2\u001b[0;31m                                 show_upper_degeneracy=True, show_qn_code=True)\n\u001b[0m\u001b[1;32m      3\u001b[0m \u001b[0mch3cntbl\u001b[0m \u001b[0;34m=\u001b[0m \u001b[0mch3cntbl\u001b[0m\u001b[0;34m[\u001b[0m\u001b[0mch3cntbl\u001b[0m\u001b[0;34m[\u001b[0m\u001b[0;34m'Quantum Number Code'\u001b[0m\u001b[0;34m]\u001b[0m \u001b[0;34m==\u001b[0m \u001b[0;36m202\u001b[0m\u001b[0;34m]\u001b[0m\u001b[0;34m\u001b[0m\u001b[0m\n\u001b[1;32m      4\u001b[0m \u001b[0mch3cntbl\u001b[0m \u001b[0;34m=\u001b[0m \u001b[0mch3cntbl\u001b[0m\u001b[0;34m[\u001b[0m\u001b[0;34m:\u001b[0m\u001b[0;34m:\u001b[0m\u001b[0;34m-\u001b[0m\u001b[0;36m1\u001b[0m\u001b[0;34m]\u001b[0m\u001b[0;34m\u001b[0m\u001b[0m\n\u001b[1;32m      5\u001b[0m \u001b[0mch3cntbl\u001b[0m\u001b[0;34m.\u001b[0m\u001b[0mshow_in_notebook\u001b[0m\u001b[0;34m(\u001b[0m\u001b[0;34m)\u001b[0m\u001b[0;34m\u001b[0m\u001b[0m\n",
      "\u001b[0;32m/blue/adamginsburg/abulatek/spectral-cube/spectral_cube/spectral_cube.py\u001b[0m in \u001b[0;36mfind_lines\u001b[0;34m(self, velocity_offset, velocity_convention, rest_value, **kwargs)\u001b[0m\n\u001b[1;32m   2530\u001b[0m                                                                velocity_convention(rest_value))\n\u001b[1;32m   2531\u001b[0m         \u001b[0;32melse\u001b[0m\u001b[0;34m:\u001b[0m\u001b[0;34m\u001b[0m\u001b[0m\n\u001b[0;32m-> 2532\u001b[0;31m             \u001b[0mspectral_axis\u001b[0m \u001b[0;34m=\u001b[0m \u001b[0mself\u001b[0m\u001b[0;34m.\u001b[0m\u001b[0mspectral_axis\u001b[0m\u001b[0;34m.\u001b[0m\u001b[0mto\u001b[0m\u001b[0;34m(\u001b[0m\u001b[0mu\u001b[0m\u001b[0;34m.\u001b[0m\u001b[0mGHz\u001b[0m\u001b[0;34m)\u001b[0m\u001b[0;34m\u001b[0m\u001b[0m\n\u001b[0m\u001b[1;32m   2533\u001b[0m \u001b[0;34m\u001b[0m\u001b[0m\n\u001b[1;32m   2534\u001b[0m         \u001b[0mnumin\u001b[0m\u001b[0;34m,\u001b[0m\u001b[0mnumax\u001b[0m \u001b[0;34m=\u001b[0m \u001b[0mspectral_axis\u001b[0m\u001b[0;34m.\u001b[0m\u001b[0mmin\u001b[0m\u001b[0;34m(\u001b[0m\u001b[0;34m)\u001b[0m\u001b[0;34m,\u001b[0m \u001b[0mspectral_axis\u001b[0m\u001b[0;34m.\u001b[0m\u001b[0mmax\u001b[0m\u001b[0;34m(\u001b[0m\u001b[0;34m)\u001b[0m\u001b[0;34m\u001b[0m\u001b[0m\n",
      "\u001b[0;32m/blue/adamginsburg/abulatek/astropy/astropy/units/quantity.py\u001b[0m in \u001b[0;36mto\u001b[0;34m(self, unit, equivalencies, copy)\u001b[0m\n\u001b[1;32m    724\u001b[0m             \u001b[0;31m# Avoid using to_value to ensure that we make a copy. We also\u001b[0m\u001b[0;34m\u001b[0m\u001b[0;34m\u001b[0m\u001b[0m\n\u001b[1;32m    725\u001b[0m             \u001b[0;31m# don't want to slow down this method (esp. the scalar case).\u001b[0m\u001b[0;34m\u001b[0m\u001b[0;34m\u001b[0m\u001b[0m\n\u001b[0;32m--> 726\u001b[0;31m             \u001b[0mvalue\u001b[0m \u001b[0;34m=\u001b[0m \u001b[0mself\u001b[0m\u001b[0;34m.\u001b[0m\u001b[0m_to_value\u001b[0m\u001b[0;34m(\u001b[0m\u001b[0munit\u001b[0m\u001b[0;34m,\u001b[0m \u001b[0mequivalencies\u001b[0m\u001b[0;34m)\u001b[0m\u001b[0;34m\u001b[0m\u001b[0m\n\u001b[0m\u001b[1;32m    727\u001b[0m         \u001b[0;32melse\u001b[0m\u001b[0;34m:\u001b[0m\u001b[0;34m\u001b[0m\u001b[0m\n\u001b[1;32m    728\u001b[0m             \u001b[0;31m# to_value only copies if necessary\u001b[0m\u001b[0;34m\u001b[0m\u001b[0;34m\u001b[0m\u001b[0m\n",
      "\u001b[0;32m/blue/adamginsburg/abulatek/astropy/astropy/units/quantity.py\u001b[0m in \u001b[0;36m_to_value\u001b[0;34m(self, unit, equivalencies)\u001b[0m\n\u001b[1;32m    689\u001b[0m             \u001b[0mequivalencies\u001b[0m \u001b[0;34m=\u001b[0m \u001b[0mself\u001b[0m\u001b[0;34m.\u001b[0m\u001b[0m_equivalencies\u001b[0m\u001b[0;34m\u001b[0m\u001b[0m\n\u001b[1;32m    690\u001b[0m         return self.unit.to(unit, self.view(np.ndarray),\n\u001b[0;32m--> 691\u001b[0;31m                             equivalencies=equivalencies)\n\u001b[0m\u001b[1;32m    692\u001b[0m \u001b[0;34m\u001b[0m\u001b[0m\n\u001b[1;32m    693\u001b[0m     \u001b[0;32mdef\u001b[0m \u001b[0mto\u001b[0m\u001b[0;34m(\u001b[0m\u001b[0mself\u001b[0m\u001b[0;34m,\u001b[0m \u001b[0munit\u001b[0m\u001b[0;34m,\u001b[0m \u001b[0mequivalencies\u001b[0m\u001b[0;34m=\u001b[0m\u001b[0;34m[\u001b[0m\u001b[0;34m]\u001b[0m\u001b[0;34m,\u001b[0m \u001b[0mcopy\u001b[0m\u001b[0;34m=\u001b[0m\u001b[0;32mTrue\u001b[0m\u001b[0;34m)\u001b[0m\u001b[0;34m:\u001b[0m\u001b[0;34m\u001b[0m\u001b[0m\n",
      "\u001b[0;32m/blue/adamginsburg/abulatek/astropy/astropy/units/core.py\u001b[0m in \u001b[0;36mto\u001b[0;34m(self, other, value, equivalencies)\u001b[0m\n\u001b[1;32m   1132\u001b[0m         \u001b[0;32melse\u001b[0m\u001b[0;34m:\u001b[0m\u001b[0;34m\u001b[0m\u001b[0m\n\u001b[1;32m   1133\u001b[0m             return self._get_converter(Unit(other),\n\u001b[0;32m-> 1134\u001b[0;31m                                        equivalencies=equivalencies)(value)\n\u001b[0m\u001b[1;32m   1135\u001b[0m \u001b[0;34m\u001b[0m\u001b[0m\n\u001b[1;32m   1136\u001b[0m     \u001b[0;32mdef\u001b[0m \u001b[0min_units\u001b[0m\u001b[0;34m(\u001b[0m\u001b[0mself\u001b[0m\u001b[0;34m,\u001b[0m \u001b[0mother\u001b[0m\u001b[0;34m,\u001b[0m \u001b[0mvalue\u001b[0m\u001b[0;34m=\u001b[0m\u001b[0;36m1.0\u001b[0m\u001b[0;34m,\u001b[0m \u001b[0mequivalencies\u001b[0m\u001b[0;34m=\u001b[0m\u001b[0;34m[\u001b[0m\u001b[0;34m]\u001b[0m\u001b[0;34m)\u001b[0m\u001b[0;34m:\u001b[0m\u001b[0;34m\u001b[0m\u001b[0m\n",
      "\u001b[0;32m/blue/adamginsburg/abulatek/astropy/astropy/units/core.py\u001b[0m in \u001b[0;36m_get_converter\u001b[0;34m(self, other, equivalencies)\u001b[0m\n\u001b[1;32m   1062\u001b[0m                             \u001b[0;32mpass\u001b[0m\u001b[0;34m\u001b[0m\u001b[0m\n\u001b[1;32m   1063\u001b[0m \u001b[0;34m\u001b[0m\u001b[0m\n\u001b[0;32m-> 1064\u001b[0;31m             \u001b[0;32mraise\u001b[0m \u001b[0mexc\u001b[0m\u001b[0;34m\u001b[0m\u001b[0m\n\u001b[0m\u001b[1;32m   1065\u001b[0m \u001b[0;34m\u001b[0m\u001b[0m\n\u001b[1;32m   1066\u001b[0m     \u001b[0;32mdef\u001b[0m \u001b[0m_to\u001b[0m\u001b[0;34m(\u001b[0m\u001b[0mself\u001b[0m\u001b[0;34m,\u001b[0m \u001b[0mother\u001b[0m\u001b[0;34m)\u001b[0m\u001b[0;34m:\u001b[0m\u001b[0;34m\u001b[0m\u001b[0m\n",
      "\u001b[0;32m/blue/adamginsburg/abulatek/astropy/astropy/units/core.py\u001b[0m in \u001b[0;36m_get_converter\u001b[0;34m(self, other, equivalencies)\u001b[0m\n\u001b[1;32m   1048\u001b[0m         \u001b[0;32mtry\u001b[0m\u001b[0;34m:\u001b[0m\u001b[0;34m\u001b[0m\u001b[0m\n\u001b[1;32m   1049\u001b[0m             return self._apply_equivalencies(\n\u001b[0;32m-> 1050\u001b[0;31m                 self, other, self._normalize_equivalencies(equivalencies))\n\u001b[0m\u001b[1;32m   1051\u001b[0m         \u001b[0;32mexcept\u001b[0m \u001b[0mUnitsError\u001b[0m \u001b[0;32mas\u001b[0m \u001b[0mexc\u001b[0m\u001b[0;34m:\u001b[0m\u001b[0;34m\u001b[0m\u001b[0m\n\u001b[1;32m   1052\u001b[0m             \u001b[0;31m# Last hope: maybe other knows how to do it?\u001b[0m\u001b[0;34m\u001b[0m\u001b[0;34m\u001b[0m\u001b[0m\n",
      "\u001b[0;32m/blue/adamginsburg/abulatek/astropy/astropy/units/core.py\u001b[0m in \u001b[0;36m_apply_equivalencies\u001b[0;34m(self, unit, other, equivalencies)\u001b[0m\n\u001b[1;32m   1024\u001b[0m \u001b[0;34m\u001b[0m\u001b[0m\n\u001b[1;32m   1025\u001b[0m         raise UnitConversionError(\n\u001b[0;32m-> 1026\u001b[0;31m             f\"{unit_str} and {other_str} are not convertible\")\n\u001b[0m\u001b[1;32m   1027\u001b[0m \u001b[0;34m\u001b[0m\u001b[0m\n\u001b[1;32m   1028\u001b[0m     \u001b[0;32mdef\u001b[0m \u001b[0m_get_converter\u001b[0m\u001b[0;34m(\u001b[0m\u001b[0mself\u001b[0m\u001b[0;34m,\u001b[0m \u001b[0mother\u001b[0m\u001b[0;34m,\u001b[0m \u001b[0mequivalencies\u001b[0m\u001b[0;34m=\u001b[0m\u001b[0;34m[\u001b[0m\u001b[0;34m]\u001b[0m\u001b[0;34m)\u001b[0m\u001b[0;34m:\u001b[0m\u001b[0;34m\u001b[0m\u001b[0m\n",
      "\u001b[0;31mUnitConversionError\u001b[0m: 'km / s' (speed/velocity) and 'GHz' (frequency) are not convertible"
     ]
    }
   ],
   "source": [
    "ch3cntbl = ch3cncube.find_lines(chemical_name='CH3CN', line_lists=['JPL'], \n",
    "                                show_upper_degeneracy=True, show_qn_code=True)\n",
    "ch3cntbl = ch3cntbl[ch3cntbl['Quantum Number Code'] == 202]\n",
    "ch3cntbl = ch3cntbl[::-1]\n",
    "ch3cntbl.show_in_notebook()"
   ]
  },
  {
   "cell_type": "markdown",
   "metadata": {},
   "source": [
    "## 3. Convert cube spectral axes from frequency to velocity\n",
    "Here, we convert the spectral axis of each cube from frequency to velocity, using the rest frequency of each line (which we can see in the step above) to do the conversion."
   ]
  },
  {
   "cell_type": "code",
   "execution_count": 6,
   "metadata": {},
   "outputs": [
    {
     "name": "stdout",
     "output_type": "stream",
     "text": [
      "DaskVaryingResolutionSpectralCube with shape=(85, 512, 512) and unit=Jy / beam and chunk size (68, 256, 512):\n",
      " n_x:    512  type_x: RA---SIN  unit_x: deg    range:   266.528130 deg:  266.560501 deg\n",
      " n_y:    512  type_y: DEC--SIN  unit_y: deg    range:   -28.719152 deg:  -28.690763 deg\n",
      " n_s:     85  type_s: VRAD      unit_s: km / s  range:      -10.425 km / s:      80.460 km / s\n"
     ]
    }
   ],
   "source": [
    "h2cscube = h2cscube.with_spectral_unit(u.km/u.s, velocity_convention='radio', \n",
    "                                       rest_value=135.297811*u.GHz).spectral_slab(-10*u.km/u.s, \n",
    "                                                                                  80*u.km/u.s)\n",
    "print(h2cscube)\n",
    "h2cssubcube = h2cscube.spectral_slab(-10*u.km/u.s, 30*u.km/u.s)"
   ]
  },
  {
   "cell_type": "code",
   "execution_count": 7,
   "metadata": {},
   "outputs": [
    {
     "name": "stdout",
     "output_type": "stream",
     "text": [
      "DaskVaryingResolutionSpectralCube with shape=(91, 512, 512) and unit=Jy / beam and chunk size (48, 256, 512):\n",
      " n_x:    512  type_x: RA---SIN  unit_x: deg    range:   266.528130 deg:  266.560501 deg\n",
      " n_y:    512  type_y: DEC--SIN  unit_y: deg    range:   -28.719152 deg:  -28.690763 deg\n",
      " n_s:     91  type_s: VRAD      unit_s: km / s  range:       -9.882 km / s:      79.643 km / s\n"
     ]
    }
   ],
   "source": [
    "ch3cncube = ch3cncube.with_spectral_unit(u.km/u.s, velocity_convention='radio', \n",
    "                                         rest_value=147.1632441*u.GHz).spectral_slab(-10*u.km/u.s, \n",
    "                                                                                     80*u.km/u.s)\n",
    "print(ch3cncube)\n",
    "ch3cnsubcube = ch3cncube.spectral_slab(-10*u.km/u.s, 30*u.km/u.s)"
   ]
  },
  {
   "cell_type": "markdown",
   "metadata": {},
   "source": [
    "*DO THE SAME FOR THE HIGH-VELOCITY COMPONENTS!*"
   ]
  },
  {
   "cell_type": "markdown",
   "metadata": {},
   "source": [
    "### 3.1. Do some quicklooks of the peak intensity to see what we expect to see"
   ]
  },
  {
   "cell_type": "code",
   "execution_count": 8,
   "metadata": {},
   "outputs": [],
   "source": [
    "h2cssubcube.max(axis=0).quicklook()\n",
    "# This first quicklook has to be re-run, as it doesn't run the first time (not sure why)"
   ]
  },
  {
   "cell_type": "code",
   "execution_count": 9,
   "metadata": {},
   "outputs": [
    {
     "data": {
      "image/png": "[encoded data removed]",
      "text/plain": [
       "<Figure size 432x288 with 1 Axes>"
      ]
     },
     "metadata": {
      "needs_background": "light"
     },
     "output_type": "display_data"
    }
   ],
   "source": [
    "ch3cnsubcube.max(axis=0).quicklook()"
   ]
  },
  {
   "cell_type": "markdown",
   "metadata": {},
   "source": [
    "## 4. Spectral Interpolation\n",
    "First of all, we need to convert these cubes from `VaryingResolutionSpectralCubes` to `SpectralCubes`. First, we'll compare the beam sizes of the cubes."
   ]
  },
  {
   "cell_type": "code",
   "execution_count": 10,
   "metadata": {},
   "outputs": [
    {
     "data": {
      "text/plain": [
       "(<Beams [5.54782914e-11, 5.54786541e-11, 5.54790393e-11, 5.54794101e-11,\n",
       "         5.54797749e-11, 5.54801437e-11, 5.54804993e-11, 5.54808641e-11,\n",
       "         5.54812227e-11, 5.54815853e-11, 5.54819695e-11, 5.54823343e-11,\n",
       "         5.54827113e-11, 5.54830658e-11, 5.54834461e-11, 5.54838098e-11,\n",
       "         5.54841798e-11, 5.54845547e-11, 5.54849266e-11, 5.54852862e-11,\n",
       "         5.54856530e-11, 5.54860146e-11, 5.54863998e-11, 5.54867451e-11,\n",
       "         5.54871243e-11, 5.54874675e-11, 5.54878567e-11, 5.54882113e-11,\n",
       "         5.54885853e-11, 5.54889633e-11, 5.54893137e-11, 5.54896959e-11,\n",
       "         5.54900586e-11, 5.54904131e-11, 5.54907831e-11, 5.54911520e-11,\n",
       "         5.54915250e-11, 5.54918918e-11] sr>,\n",
       " <Beams [4.77485232e-11, 4.77482410e-11, 4.77479491e-11, 4.77476668e-11,\n",
       "         4.77473722e-11, 4.77470975e-11, 4.77468056e-11, 4.77465271e-11,\n",
       "         4.77462401e-11, 4.77459654e-11, 4.77456677e-11, 4.77453940e-11,\n",
       "         4.77451097e-11, 4.77448349e-11, 4.77445602e-11, 4.77442598e-11,\n",
       "         4.77439728e-11, 4.77436819e-11, 4.77433798e-11, 4.77430965e-11,\n",
       "         4.77428198e-11, 4.77425289e-11, 4.77422477e-11, 4.77419483e-11,\n",
       "         4.77416592e-11, 4.77413732e-11, 4.77410841e-11, 4.77407998e-11,\n",
       "         4.77405117e-11, 4.77402069e-11, 4.77399284e-11, 4.77396318e-11,\n",
       "         4.77393506e-11, 4.77390635e-11, 4.77387792e-11, 4.77384960e-11,\n",
       "         4.77381966e-11, 4.77379229e-11, 4.77376342e-11, 4.77373499e-11,\n",
       "         4.77370526e-11] sr>)"
      ]
     },
     "execution_count": 10,
     "metadata": {},
     "output_type": "execute_result"
    }
   ],
   "source": [
    "h2cssubcube.beams, ch3cnsubcube.beams"
   ]
  },
  {
   "cell_type": "markdown",
   "metadata": {},
   "source": [
    "Now, we'll smooth each cube to the common beam for that cube."
   ]
  },
  {
   "cell_type": "code",
   "execution_count": 11,
   "metadata": {},
   "outputs": [
    {
     "data": {
      "text/plain": [
       "(Beam: BMAJ=1.621724247932434 arcsec BMIN=1.2848083972930908 arcsec BPA=-84.60916900634766 deg,\n",
       " Beam: BMAJ=1.5110125541687012 arcsec BMIN=1.1865272521972656 arcsec BPA=-81.83100128173828 deg)"
      ]
     },
     "execution_count": 11,
     "metadata": {},
     "output_type": "execute_result"
    }
   ],
   "source": [
    "h2cssubcube_common_beam = h2cssubcube.beams.common_beam()\n",
    "h2cssubcube_b = h2cssubcube.convolve_to(h2cssubcube_common_beam)\n",
    "ch3cnsubcube_common_beam = ch3cnsubcube.beams.common_beam()\n",
    "ch3cnsubcube_b = ch3cnsubcube.convolve_to(ch3cnsubcube_common_beam)\n",
    "h2cssubcube_b.beam, ch3cnsubcube_b.beam"
   ]
  },
  {
   "cell_type": "markdown",
   "metadata": {},
   "source": [
    "Now, we must match the spectral resolution of the template and target cubes. To begin, we'll convert the spectral axis units back to km/s from m/s. The `b` stands for beam (since we're doing some beam smoothing)."
   ]
  },
  {
   "cell_type": "code",
   "execution_count": 12,
   "metadata": {},
   "outputs": [
    {
     "data": {
      "text/plain": [
       "(DaskSpectralCube with shape=(38, 512, 512) and unit=Jy / beam and chunk size (38, 512, 512):\n",
       "  n_x:    512  type_x: RA---SIN  unit_x: deg    range:   266.528130 deg:  266.560501 deg\n",
       "  n_y:    512  type_y: DEC--SIN  unit_y: deg    range:   -28.719152 deg:  -28.690763 deg\n",
       "  n_s:     38  type_s: VRAD      unit_s: km / s  range:      -10.425 km / s:      29.607 km / s,\n",
       " DaskSpectralCube with shape=(41, 512, 512) and unit=Jy / beam and chunk size (41, 512, 512):\n",
       "  n_x:    512  type_x: RA---SIN  unit_x: deg    range:   266.528130 deg:  266.560501 deg\n",
       "  n_y:    512  type_y: DEC--SIN  unit_y: deg    range:   -28.719152 deg:  -28.690763 deg\n",
       "  n_s:     41  type_s: VRAD      unit_s: km / s  range:       -9.882 km / s:      29.907 km / s)"
      ]
     },
     "execution_count": 12,
     "metadata": {},
     "output_type": "execute_result"
    }
   ],
   "source": [
    "# This might not be the neatest way to do this\n",
    "h2cssubcube_b = h2cssubcube_b.with_spectral_unit(u.km/u.s)\n",
    "ch3cnsubcube_b = ch3cnsubcube_b.with_spectral_unit(u.km/u.s)\n",
    "h2cssubcube_b, ch3cnsubcube_b"
   ]
  },
  {
   "cell_type": "markdown",
   "metadata": {},
   "source": [
    "We'll start by printing the spectral resolutions for each cube to compare them."
   ]
  },
  {
   "cell_type": "code",
   "execution_count": 13,
   "metadata": {},
   "outputs": [
    {
     "data": {
      "text/plain": [
       "(<Quantity 1.08196348 km / s>, <Quantity 0.99472726 km / s>)"
      ]
     },
     "execution_count": 13,
     "metadata": {},
     "output_type": "execute_result"
    }
   ],
   "source": [
    "import numpy as np\n",
    "velocity_res_1 = np.diff(h2cssubcube_b.spectral_axis)[0]\n",
    "velocity_res_2 = np.diff(ch3cnsubcube_b.spectral_axis)[0]\n",
    "np.abs(velocity_res_1), np.abs(velocity_res_2)"
   ]
  },
  {
   "cell_type": "markdown",
   "metadata": {},
   "source": [
    "Since the channel width of the H2CS (template) cube is larger, we'll smooth the resolution of the CH3CN (target) cube to the broader resolution. We will do this by smoothing with a Gaussian with an appropriate FWHM."
   ]
  },
  {
   "cell_type": "code",
   "execution_count": 14,
   "metadata": {},
   "outputs": [
    {
     "data": {
      "text/latex": [
       "$0.42563206 \\; \\mathrm{\\frac{km}{s}}$"
      ],
      "text/plain": [
       "<Quantity 0.42563206 km / s>"
      ]
     },
     "execution_count": 14,
     "metadata": {},
     "output_type": "execute_result"
    }
   ],
   "source": [
    "fwhm_gaussian = (velocity_res_1**2 - velocity_res_2**2)**0.5\n",
    "fwhm_gaussian"
   ]
  },
  {
   "cell_type": "code",
   "execution_count": 15,
   "metadata": {},
   "outputs": [],
   "source": [
    "from astropy.convolution import Gaussian1DKernel\n",
    "fwhm_to_sigma = np.sqrt(8*np.log(2))\n",
    "# We want the kernel in pixel units, so we force to km/s and take the value\n",
    "spectral_smoothing_kernel = Gaussian1DKernel(stddev=fwhm_gaussian.to(u.km/u.s).value / fwhm_to_sigma)"
   ]
  },
  {
   "cell_type": "markdown",
   "metadata": {},
   "source": [
    "Now, we will cut the cubes so they only cover a common velocity range (essentially cutting the larger cube down to the smaller cube, but this is a general way to do that in case they overlap incompletely). Since we're working with subcubes, the difference isn't too great (and we expect the boundaries after the cut to be not exactly the same between cubes, since the velocity grid is still different). The `c` stands for \"cutout.\""
   ]
  },
  {
   "cell_type": "code",
   "execution_count": 16,
   "metadata": {},
   "outputs": [
    {
     "data": {
      "text/plain": [
       "(DaskSpectralCube with shape=(37, 512, 512) and unit=Jy / beam and chunk size (37, 512, 512):\n",
       "  n_x:    512  type_x: RA---SIN  unit_x: deg    range:   266.528130 deg:  266.560501 deg\n",
       "  n_y:    512  type_y: DEC--SIN  unit_y: deg    range:   -28.719152 deg:  -28.690763 deg\n",
       "  n_s:     37  type_s: VRAD      unit_s: km / s  range:       -9.343 km / s:      29.607 km / s,\n",
       " DaskSpectralCube with shape=(41, 512, 512) and unit=Jy / beam and chunk size (41, 512, 512):\n",
       "  n_x:    512  type_x: RA---SIN  unit_x: deg    range:   266.528130 deg:  266.560501 deg\n",
       "  n_y:    512  type_y: DEC--SIN  unit_y: deg    range:   -28.719152 deg:  -28.690763 deg\n",
       "  n_s:     41  type_s: VRAD      unit_s: km / s  range:       -9.882 km / s:      29.907 km / s)"
      ]
     },
     "execution_count": 16,
     "metadata": {},
     "output_type": "execute_result"
    }
   ],
   "source": [
    "vel_lo = np.max([h2cssubcube_b.spectral_axis.min().value, \n",
    "                 ch3cnsubcube_b.spectral_axis.min().value])*u.km/u.s\n",
    "vel_hi = np.min([h2cssubcube_b.spectral_axis.max().value, \n",
    "                 ch3cnsubcube_b.spectral_axis.max().value])*u.km/u.s\n",
    "\n",
    "h2cssubcube_bc = h2cssubcube_b.spectral_slab(vel_lo, vel_hi)\n",
    "ch3cnsubcube_bc = ch3cnsubcube_b.spectral_slab(vel_lo, vel_hi)\n",
    "h2cssubcube_bc, ch3cnsubcube_bc"
   ]
  },
  {
   "cell_type": "markdown",
   "metadata": {},
   "source": [
    "We then smooth with the kernel.  Note that this is doing 512*512 = 262144 smoothing operations on a length-41 spectrum: it will take a little time. The `spec` stands for \"spectral interpolation.\""
   ]
  },
  {
   "cell_type": "code",
   "execution_count": 17,
   "metadata": {},
   "outputs": [],
   "source": [
    "ch3cnsubcube_bc_spec = ch3cnsubcube_bc.spectral_smooth(spectral_smoothing_kernel)"
   ]
  },
  {
   "cell_type": "markdown",
   "metadata": {},
   "source": [
    "Now that we've done spectral smoothing, we can resample the spectrum."
   ]
  },
  {
   "cell_type": "code",
   "execution_count": 18,
   "metadata": {},
   "outputs": [
    {
     "data": {
      "text/plain": [
       "DaskSpectralCube with shape=(37, 512, 512) and unit=Jy / beam and chunk size (37, 1, 1):\n",
       " n_x:    512  type_x: RA---SIN  unit_x: deg    range:   266.528130 deg:  266.560501 deg\n",
       " n_y:    512  type_y: DEC--SIN  unit_y: deg    range:   -28.719152 deg:  -28.690763 deg\n",
       " n_s:     37  type_s: VRAD      unit_s: km / s  range:       -9.343 km / s:      29.607 km / s"
      ]
     },
     "execution_count": 18,
     "metadata": {},
     "output_type": "execute_result"
    }
   ],
   "source": [
    "ch3cnsubcube_bc_spec_resample = ch3cnsubcube_bc_spec.spectral_interpolate(h2cssubcube_bc.spectral_axis)\n",
    "ch3cnsubcube_bc_spec_resample"
   ]
  },
  {
   "cell_type": "markdown",
   "metadata": {},
   "source": [
    "## 5. Spatial Smoothing\n",
    "Now that we've done spectral smoothing, we have to spatially smooth, because we'll resample the data spatially too. Finally, we'll convolve both cubes to a common beam that matches the larger beam size."
   ]
  },
  {
   "cell_type": "code",
   "execution_count": 19,
   "metadata": {},
   "outputs": [
    {
     "data": {
      "text/plain": [
       "(Beam: BMAJ=1.621724247932434 arcsec BMIN=1.2848083972930908 arcsec BPA=-84.60916900634766 deg,\n",
       " Beam: BMAJ=1.5110125541687012 arcsec BMIN=1.1865272521972656 arcsec BPA=-81.83100128173828 deg)"
      ]
     },
     "execution_count": 19,
     "metadata": {},
     "output_type": "execute_result"
    }
   ],
   "source": [
    "h2cssubcube_bc.beam, ch3cnsubcube_bc_spec_resample.beam"
   ]
  },
  {
   "cell_type": "markdown",
   "metadata": {},
   "source": [
    "The H2CS (template) cube has the larger beam, so we'll smooth the CH3CN (target) cube to its resolution. First, calculate the common beam:"
   ]
  },
  {
   "cell_type": "code",
   "execution_count": 20,
   "metadata": {},
   "outputs": [
    {
     "data": {
      "text/latex": [
       "Beam: BMAJ=$1.621724247932434^{''}$ BMIN=$1.2848083972930908^{''}$ BPA=$-84.60916900634766^\\circ$"
      ],
      "text/plain": [
       "Beam: BMAJ=1.621724247932434 arcsec BMIN=1.2848083972930908 arcsec BPA=-84.60916900634766 deg"
      ]
     },
     "execution_count": 20,
     "metadata": {},
     "output_type": "execute_result"
    }
   ],
   "source": [
    "import radio_beam\n",
    "common_beam = radio_beam.commonbeam.common_2beams(radio_beam.Beams(beams=[h2cssubcube_bc.beam, \n",
    "                                                                          ch3cnsubcube_bc_spec_resample.beam]))\n",
    "common_beam"
   ]
  },
  {
   "cell_type": "markdown",
   "metadata": {},
   "source": [
    "Now, we'll convolve the CH3CN beam to match the larger H2CS beam. We'll convert to Kelvin to ensure the units are preserved. The `spat` stands for \"spatial smoothing.\""
   ]
  },
  {
   "cell_type": "code",
   "execution_count": 21,
   "metadata": {},
   "outputs": [
    {
     "name": "stderr",
     "output_type": "stream",
     "text": [
      "WARNING: PossiblySlowWarning: This function (<function BaseSpectralCube.to at 0x2ba1b56ee048>) requires loading the entire cube into memory and may therefore be slow. [spectral_cube.utils]\n",
      "WARNING: nan_treatment='interpolate', however, NaN values detected post convolution. A contiguous region of NaN values, larger than the kernel size, are present in the input array. Increase the kernel size to avoid this. [astropy.convolution.convolve]\n"
     ]
    },
    {
     "data": {
      "text/plain": [
       "DaskSpectralCube with shape=(37, 512, 512) and unit=K and chunk size (37, 512, 512):\n",
       " n_x:    512  type_x: RA---SIN  unit_x: deg    range:   266.528130 deg:  266.560501 deg\n",
       " n_y:    512  type_y: DEC--SIN  unit_y: deg    range:   -28.719152 deg:  -28.690763 deg\n",
       " n_s:     37  type_s: VRAD      unit_s: km / s  range:       -9.343 km / s:      29.607 km / s"
      ]
     },
     "execution_count": 21,
     "metadata": {},
     "output_type": "execute_result"
    }
   ],
   "source": [
    "ch3cnsubcube_bc_spec_resample_spat = ch3cnsubcube_bc_spec_resample.to(u.K).convolve_to(common_beam)\n",
    "ch3cnsubcube_bc_spec_resample_spat\n",
    "# This takes a long time, and has a new warning:\n",
    "# WARNING: nan_treatment='interpolate', however, NaN values detected post convolution.\n",
    "# A contiguous region of NaN values, larger than the kernel size, are present in the input array. \n",
    "# Increase the kernel size to avoid this. [astropy.convolution.convolve]"
   ]
  },
  {
   "cell_type": "markdown",
   "metadata": {},
   "source": [
    "## 6. Reprojection\n",
    "Now, we can reproject one cube onto the other."
   ]
  },
  {
   "cell_type": "code",
   "execution_count": 22,
   "metadata": {},
   "outputs": [
    {
     "name": "stdout",
     "output_type": "stream",
     "text": [
      "4.3.dev1788+ga3263b6\n",
      "0.8.dev31+g9f8ec7b\n"
     ]
    }
   ],
   "source": [
    "import astropy\n",
    "print(astropy.__version__)\n",
    "import reproject\n",
    "print(reproject.__version__)\n",
    "# Need development version of astropy\n",
    "# 4.3.dev1788+ga3263b6 works for me"
   ]
  },
  {
   "cell_type": "code",
   "execution_count": 24,
   "metadata": {},
   "outputs": [
    {
     "name": "stderr",
     "output_type": "stream",
     "text": [
      "WARNING: PossiblySlowWarning: This function (<function BaseSpectralCube.reproject at 0x2ba1b56ee1e0>) requires loading the entire cube into memory and may therefore be slow. [spectral_cube.utils]\n",
      "WARNING: nan_treatment='interpolate', however, NaN values detected post convolution. A contiguous region of NaN values, larger than the kernel size, are present in the input array. Increase the kernel size to avoid this. [astropy.convolution.convolve]\n",
      "WARNING: nan_treatment='interpolate', however, NaN values detected post convolution. A contiguous region of NaN values, larger than the kernel size, are present in the input array. Increase the kernel size to avoid this. [astropy.convolution.convolve]\n",
      "WARNING: nan_treatment='interpolate', however, NaN values detected post convolution. A contiguous region of NaN values, larger than the kernel size, are present in the input array. Increase the kernel size to avoid this. [astropy.convolution.convolve]\n",
      "WARNING: nan_treatment='interpolate', however, NaN values detected post convolution. A contiguous region of NaN values, larger than the kernel size, are present in the input array. Increase the kernel size to avoid this. [astropy.convolution.convolve]\n"
     ]
    },
    {
     "data": {
      "text/plain": [
       "DaskSpectralCube with shape=(37, 512, 512) and unit=K and chunk size (37, 512, 512):\n",
       " n_x:    512  type_x: RA---SIN  unit_x: deg    range:   266.528130 deg:  266.560501 deg\n",
       " n_y:    512  type_y: DEC--SIN  unit_y: deg    range:   -28.719152 deg:  -28.690763 deg\n",
       " n_s:     37  type_s: VRAD      unit_s: km / s  range:       -9.343 km / s:      29.607 km / s"
      ]
     },
     "execution_count": 24,
     "metadata": {},
     "output_type": "execute_result"
    }
   ],
   "source": [
    "ch3cnsubcube_bc_reproj = ch3cnsubcube_bc_spec_resample_spat.reproject(h2cssubcube_bc.header)\n",
    "ch3cnsubcube_bc_reproj\n",
    "# This is currently taking a longgggg time to run, which is a sign that something went wrong"
   ]
  },
  {
   "cell_type": "markdown",
   "metadata": {},
   "source": [
    "These two cubes are now on an identical grid, and can be directly compared:"
   ]
  },
  {
   "cell_type": "code",
   "execution_count": 25,
   "metadata": {},
   "outputs": [
    {
     "data": {
      "text/plain": [
       "(DaskSpectralCube with shape=(37, 512, 512) and unit=K and chunk size (37, 512, 512):\n",
       "  n_x:    512  type_x: RA---SIN  unit_x: deg    range:   266.528130 deg:  266.560501 deg\n",
       "  n_y:    512  type_y: DEC--SIN  unit_y: deg    range:   -28.719152 deg:  -28.690763 deg\n",
       "  n_s:     37  type_s: VRAD      unit_s: km / s  range:       -9.343 km / s:      29.607 km / s,\n",
       " DaskSpectralCube with shape=(37, 512, 512) and unit=Jy / beam and chunk size (37, 512, 512):\n",
       "  n_x:    512  type_x: RA---SIN  unit_x: deg    range:   266.528130 deg:  266.560501 deg\n",
       "  n_y:    512  type_y: DEC--SIN  unit_y: deg    range:   -28.719152 deg:  -28.690763 deg\n",
       "  n_s:     37  type_s: VRAD      unit_s: km / s  range:       -9.343 km / s:      29.607 km / s)"
      ]
     },
     "execution_count": 25,
     "metadata": {},
     "output_type": "execute_result"
    }
   ],
   "source": [
    "ch3cnsubcube_bc_reproj, h2cssubcube_bc"
   ]
  },
  {
   "cell_type": "markdown",
   "metadata": {},
   "source": [
    "These spectra can now be overplotted as they are in the same unit with the same beam."
   ]
  },
  {
   "cell_type": "code",
   "execution_count": 26,
   "metadata": {},
   "outputs": [
    {
     "data": {
      "image/png": "[encoded data removed]",
      "text/plain": [
       "<Figure size 432x288 with 1 Axes>"
      ]
     },
     "metadata": {
      "needs_background": "light"
     },
     "output_type": "display_data"
    }
   ],
   "source": [
    "h2cssubcube_bc[:,256,256].to(u.K).with_spectral_unit(u.km/u.s).quicklook()\n",
    "ch3cnsubcube_bc_reproj[:,256,256].quicklook()"
   ]
  },
  {
   "cell_type": "markdown",
   "metadata": {},
   "source": [
    "### Do a quick continuum subtraction\n",
    "Since we're focusing on spectral line emission, we'll perform continuum subtraction on each cube, and rename the cubes while we're at it (the `f` stands for \"final\")."
   ]
  },
  {
   "cell_type": "code",
   "execution_count": 27,
   "metadata": {},
   "outputs": [
    {
     "name": "stderr",
     "output_type": "stream",
     "text": [
      "WARNING: PossiblySlowWarning: This function (<function BaseSpectralCube._apply_everywhere at 0x2ba1b56e9d08>) requires loading the entire cube into memory and may therefore be slow. [spectral_cube.utils]\n",
      "WARNING: PossiblySlowWarning: This function (<function BaseSpectralCube._apply_everywhere at 0x2ba1b56e9d08>) requires loading the entire cube into memory and may therefore be slow. [spectral_cube.utils]\n"
     ]
    }
   ],
   "source": [
    "med1 = h2cssubcube_bc.median(axis=0)  \n",
    "h2cssubcube_f = h2cssubcube_bc - med1\n",
    "med2 = ch3cnsubcube_bc_reproj.median(axis=0)  \n",
    "ch3cnsubcube_f_reproj = ch3cnsubcube_bc_reproj - med2"
   ]
  },
  {
   "cell_type": "markdown",
   "metadata": {},
   "source": [
    "## 7. Signal Masking\n",
    "We'll now use the template molecule, H2CS, to mask the target molecule, CH3CN. This is useful because CH3CN has a complicated multi-component velocity structure (and thus the rungs of the ladder overlap). H2CS a similar morphology on the sky, so we can use that to grab the matching component of the CH3CN velocity structure.\n",
    "\n",
    "First, we'll estimate the noise throughout the template H2CS cube by using a signal-resistant measurement of the standard deviation (called the median absolute deviation [MAD] standard deviation). We'll sigma-clip the cube first at 3 sigma and plot the spectrum to look for where the noise is least affected by signal."
   ]
  },
  {
   "cell_type": "code",
   "execution_count": 28,
   "metadata": {},
   "outputs": [
    {
     "data": {
      "image/png": "[encoded data removed]",
      "text/plain": [
       "<Figure size 432x288 with 1 Axes>"
      ]
     },
     "metadata": {
      "needs_background": "light"
     },
     "output_type": "display_data"
    }
   ],
   "source": [
    "import matplotlib.pyplot as plt\n",
    "# Make signal mask out of template molecule cube, in noise-free area (should be flat)\n",
    "h2cs_sclip = h2cssubcube_f.sigma_clip_spectrally(3)\n",
    "mad_std_spectrum_sclip = h2cs_sclip.mad_std(axis=(1, 2))\n",
    "plt.plot(mad_std_spectrum_sclip.spectral_axis.value, mad_std_spectrum_sclip.value, \n",
    "         drawstyle='steps-mid')\n",
    "plt.xlabel('Velocity (km/s)')\n",
    "plt.ylabel('Noise standard deviation $\\sigma$ (K)')\n",
    "plt.show()"
   ]
  },
  {
   "cell_type": "markdown",
   "metadata": {},
   "source": [
    "The noise estimate here varies slightly as a function of velocity (though the extent of the *y*-axis is not too great), but we can try to use the spectrum between about -7 and 7 km/s (which seems marginally flatter) to estimate the noise map."
   ]
  },
  {
   "cell_type": "code",
   "execution_count": 29,
   "metadata": {},
   "outputs": [
    {
     "data": {
      "image/png": "[encoded data removed]",
      "text/plain": [
       "<Figure size 432x288 with 1 Axes>"
      ]
     },
     "metadata": {
      "needs_background": "light"
     },
     "output_type": "display_data"
    }
   ],
   "source": [
    "h2cs_sclip_cut = h2cs_sclip.spectral_slab(-7*u.km/u.s, 7*u.km/u.s)\n",
    "mad_std_spectrum_sclip_cut = h2cs_sclip_cut.mad_std(axis=(1, 2))\n",
    "plt.plot(mad_std_spectrum_sclip_cut.spectral_axis.value, mad_std_spectrum_sclip_cut.value, \n",
    "         drawstyle='steps-mid')\n",
    "plt.xlabel('Velocity (km/s)')\n",
    "plt.ylabel(r' Noise standard deviation $\\sigma$ (K)')\n",
    "mad_std_map_sclip = h2cs_sclip.mad_std(axis=0) # Calculate sigma along the spectral dimension"
   ]
  },
  {
   "cell_type": "markdown",
   "metadata": {},
   "source": [
    "Now, we'll create a \"plain mask\" where we mask the template cube and only keep pixels that are at or above 3 sigma (where sigma is given on a pixel-by-pixel basis by the noise map we just created)."
   ]
  },
  {
   "cell_type": "code",
   "execution_count": 30,
   "metadata": {},
   "outputs": [],
   "source": [
    "plain_mask = h2cssubcube_f >= 3 * mad_std_map_sclip # Get plain 3sigma mask\n",
    "plain_masked_slab = h2cssubcube_f.with_mask(plain_mask) # Mask the template molecule cube"
   ]
  },
  {
   "cell_type": "markdown",
   "metadata": {},
   "source": [
    "Then, we'll apply that mask to the template molecule cube and create a more sophisticated \"signal mask\" from that cube, which takes into account the fact that connected regions of signal are more likely to be real than an individual high-sigma pixel."
   ]
  },
  {
   "cell_type": "code",
   "execution_count": 49,
   "metadata": {},
   "outputs": [
    {
     "name": "stdout",
     "output_type": "stream",
     "text": [
      "Initial number of regions found: 1330\n",
      "Final number of regions found: 5\n"
     ]
    }
   ],
   "source": [
    "import scipy.ndimage as nd\n",
    "# Make a low and high mask\n",
    "low_snr_mask = (plain_masked_slab > 3 * mad_std_map_sclip).include()\n",
    "high_snr_mask = (plain_masked_slab > 10 * mad_std_map_sclip).include()\n",
    "low_snr_mask = low_snr_mask.compute() # Don't need this for this tutorial\n",
    "high_snr_mask = high_snr_mask.compute() # Don't need this for this tutorial\n",
    "# Find connected structures\n",
    "structure = np.ones((3, 3, 3), dtype=bool)\n",
    "low_snr_mask_labels, num_labels = nd.label(low_snr_mask, structure=structure)\n",
    "print(f\"Initial number of regions found: {num_labels}\")\n",
    "# From the labels, count the number of pixels within each label.\n",
    "num_pixels_in_high_snr_mask = nd.sum(high_snr_mask,\n",
    "                                     labels=low_snr_mask_labels,\n",
    "                                     index=range(1, num_labels + 1)) # +1 offset for mask labels\n",
    "# Repeat for the high signal mask.\n",
    "num_pixels_in_low_snr_mask = nd.sum(low_snr_mask,\n",
    "                                    labels=low_snr_mask_labels,\n",
    "                                    index=range(1, num_labels + 1)) # +1 offset for mask labels\n",
    "# To preserve the low_snr_mask, we will create a new signal mask where we will remove \n",
    "# regions that do not pass the criteria.\n",
    "signal_mask = low_snr_mask\n",
    "low_min_pixels = 40\n",
    "high_min_pixels = 10\n",
    "for num, (high_pix_num, low_pix_num) in enumerate(zip(num_pixels_in_high_snr_mask, \n",
    "                                                      num_pixels_in_low_snr_mask)):\n",
    "    if high_pix_num >= high_min_pixels and low_pix_num >= low_min_pixels:\n",
    "        # This region passes the criteria. Keep it in the mask.\n",
    "        continue\n",
    "    # Remove regions that do not pass the criteria.\n",
    "    # NOTE: enumerate will start with 0, but the mask labels start at 1\n",
    "    # We apply a +1 offset to `num` to account for this.\n",
    "    signal_mask[low_snr_mask_labels == num + 1] = False\n",
    "signal_mask_labels, num_labels = nd.label(signal_mask,\n",
    "                                          structure=structure)\n",
    "print(f\"Final number of regions found: {num_labels}\")\n",
    "signal_mask = nd.binary_dilation(signal_mask, structure=structure, iterations=1)"
   ]
  },
  {
   "cell_type": "markdown",
   "metadata": {},
   "source": [
    "Finally, we'll apply the signal mask we just created using the template molecule cube (which has a mask at each velocity step) to the target molecule cube."
   ]
  },
  {
   "cell_type": "code",
   "execution_count": 50,
   "metadata": {},
   "outputs": [],
   "source": [
    "masked_cube = ch3cnsubcube_f_reproj.with_mask(signal_mask)\n",
    "# We can write the masked cube to a file and look at it in DS9, but this is optional:\n",
    "# masked_cube.write('masked_target_cube.fits', overwrite=True)\n",
    "# masked_cube = SpectralCube.read('masked_target_cube.fits')"
   ]
  },
  {
   "cell_type": "markdown",
   "metadata": {},
   "source": [
    "## 8. Moment Maps\n",
    "First, we'll create some initial moment maps of the target molecule using the cube we just masked."
   ]
  },
  {
   "cell_type": "code",
   "execution_count": 51,
   "metadata": {},
   "outputs": [
    {
     "data": {
      "image/png": "[encoded data removed]",
      "text/plain": [
       "<Figure size 432x288 with 2 Axes>"
      ]
     },
     "metadata": {
      "needs_background": "light"
     },
     "output_type": "display_data"
    }
   ],
   "source": [
    "masked_moment0 = masked_cube.moment0()\n",
    "\n",
    "ax = plt.subplot(projection=masked_moment0.wcs)\n",
    "im = ax.imshow(masked_moment0.value, origin='lower', cmap='inferno')\n",
    "cbar = plt.colorbar(im)\n",
    "cbar.set_label('Integrated Intensity (K km/s)')\n",
    "ax.set_ylabel('Declination')\n",
    "ax.set_xlabel('Right Ascension')"
   ]
  },
  {
   "cell_type": "code",
   "execution_count": 52,
   "metadata": {},
   "outputs": [
    {
     "data": {
      "image/png": "[encoded data removed]",
      "text/plain": [
       "<Figure size 432x288 with 2 Axes>"
      ]
     },
     "metadata": {
      "needs_background": "light"
     },
     "output_type": "display_data"
    }
   ],
   "source": [
    "masked_moment1 = masked_cube.moment1()\n",
    "\n",
    "ax = plt.subplot(projection=masked_moment1.wcs)\n",
    "im = ax.imshow(masked_moment1.value, origin='lower', cmap='coolwarm')\n",
    "cbar = plt.colorbar(im)\n",
    "cbar.set_label('Centroid (km/s)')\n",
    "\n",
    "ax.set_ylabel('Declination')\n",
    "ax.set_xlabel('Right Ascension')"
   ]
  },
  {
   "cell_type": "markdown",
   "metadata": {},
   "source": [
    "The color bar on the moment 1 map is skewed due to the presence of at least one outlier pixel with a large negative velocity."
   ]
  },
  {
   "cell_type": "markdown",
   "metadata": {},
   "source": [
    "## 9. Masking Outliers\n",
    "At the moment, to get a better idea of the velocity structure of the target molecule, we can mask the outliers by masking pixels with a moment 0 value less than some threshold, which can cause moment 1 values to blow up since the moment 0 value appears in the denominator of the moment 1 value."
   ]
  },
  {
   "cell_type": "code",
   "execution_count": 53,
   "metadata": {},
   "outputs": [
    {
     "data": {
      "text/plain": [
       "<matplotlib.image.AxesImage at 0x2bad5d6098d0>"
      ]
     },
     "execution_count": 53,
     "metadata": {},
     "output_type": "execute_result"
    },
    {
     "data": {
      "image/png": "[encoded data removed]",
      "text/plain": [
       "<Figure size 432x288 with 1 Axes>"
      ]
     },
     "metadata": {
      "needs_background": "light"
     },
     "output_type": "display_data"
    }
   ],
   "source": [
    "from pylab import imshow\n",
    "v_thresh = 1000\n",
    "masked_moment1 = masked_cube.moment1()\n",
    "masked_moment1_outliers = (masked_moment1 > v_thresh*u.km/u.s)|(masked_moment1 < -v_thresh*u.km/u.s)\n",
    "imshow(masked_moment1_outliers, origin='lower') \n",
    "# Clumps of outliers might mean they're real, just outside of vel range"
   ]
  },
  {
   "cell_type": "markdown",
   "metadata": {},
   "source": [
    "We can look at a spectrum of an outlier pixel individually and check neighboring spectra."
   ]
  },
  {
   "cell_type": "code",
   "execution_count": 54,
   "metadata": {},
   "outputs": [
    {
     "name": "stdout",
     "output_type": "stream",
     "text": [
      "-18746.778036838812 km / s\n"
     ]
    },
    {
     "data": {
      "text/plain": [
       "Text(0,0.5,'Intensity (K)')"
      ]
     },
     "execution_count": 54,
     "metadata": {},
     "output_type": "execute_result"
    },
    {
     "data": {
      "image/png": "[encoded data removed]",
      "text/plain": [
       "<Figure size 432x288 with 1 Axes>"
      ]
     },
     "metadata": {
      "needs_background": "light"
     },
     "output_type": "display_data"
    }
   ],
   "source": [
    "max_vel_coord = np.unravel_index(np.nanargmin(masked_moment1), masked_moment1.shape)\n",
    "spectrum = masked_cube[:, max_vel_coord[0], max_vel_coord[1]]\n",
    "print(masked_moment1[max_vel_coord[0], max_vel_coord[1]])\n",
    "plt.plot(spectrum.spectral_axis, spectrum.value, drawstyle='steps-mid')\n",
    "plt.xlabel('Velocity (km/s)')\n",
    "plt.ylabel('Intensity (K)')"
   ]
  },
  {
   "cell_type": "markdown",
   "metadata": {},
   "source": [
    "Now, we'll remove outliers by removing all pixels with moment 0 values less than a threshold value."
   ]
  },
  {
   "cell_type": "code",
   "execution_count": 55,
   "metadata": {},
   "outputs": [
    {
     "name": "stdout",
     "output_type": "stream",
     "text": [
      "Found 818 good pixels\n"
     ]
    }
   ],
   "source": [
    "mom0 = masked_cube.moment0()\n",
    "mom0_mask = mom0 > 1.*u.K*u.km/u.s # Mask pixels with mom0 less than threshold\n",
    "print(f\"Found {mom0_mask.sum()} good pixels\")\n",
    "masked_cube_no_outliers = masked_cube.with_mask(mom0_mask)"
   ]
  },
  {
   "cell_type": "markdown",
   "metadata": {},
   "source": [
    "We'll make more final moment maps now."
   ]
  },
  {
   "cell_type": "code",
   "execution_count": 56,
   "metadata": {},
   "outputs": [
    {
     "data": {
      "image/png": "[encoded data removed]",
      "text/plain": [
       "<Figure size 432x288 with 2 Axes>"
      ]
     },
     "metadata": {
      "needs_background": "light"
     },
     "output_type": "display_data"
    }
   ],
   "source": [
    "masked_moment0 = masked_cube_no_outliers.moment0()\n",
    "\n",
    "ax = plt.subplot(projection=masked_moment0.wcs)\n",
    "im = ax.imshow(masked_moment0.value, origin='lower', cmap='inferno')\n",
    "cbar = plt.colorbar(im)\n",
    "cbar.set_label('Integrated Intensity (K km/s)')\n",
    "ax.set_ylabel('Declination')\n",
    "ax.set_xlabel('Right Ascension')"
   ]
  },
  {
   "cell_type": "code",
   "execution_count": 57,
   "metadata": {},
   "outputs": [
    {
     "data": {
      "image/png": "[encoded data removed]",
      "text/plain": [
       "<Figure size 432x288 with 2 Axes>"
      ]
     },
     "metadata": {
      "needs_background": "light"
     },
     "output_type": "display_data"
    }
   ],
   "source": [
    "masked_moment1 = masked_cube_no_outliers.moment1()\n",
    "\n",
    "ax = plt.subplot(projection=masked_moment1.wcs)\n",
    "im = ax.imshow(masked_moment1.value, origin='lower', cmap='coolwarm')\n",
    "cbar = plt.colorbar(im)\n",
    "cbar.set_label('Centroid (km/s)')\n",
    "\n",
    "ax.set_ylabel('Declination')\n",
    "ax.set_xlabel('Right Ascension')"
   ]
  },
  {
   "cell_type": "markdown",
   "metadata": {},
   "source": [
    "The velocity structure is more visible here with the outliers removed."
   ]
  },
  {
   "cell_type": "markdown",
   "metadata": {},
   "source": [
    "### Addendum: collapse masked cube along spatial axes to make PV projections"
   ]
  },
  {
   "cell_type": "code",
   "execution_count": null,
   "metadata": {},
   "outputs": [],
   "source": [
    "masked_cube_no_outliers.shape # (75, 250, 250)\n",
    "collapse1 = masked_cube_no_outliers.sum(axis = 1) # Collapse along one spatial axis\n",
    "collapse2 = masked_cube_no_outliers.sum(axis = 2) # Collapse along the other spatial axis"
   ]
  },
  {
   "cell_type": "code",
   "execution_count": null,
   "metadata": {},
   "outputs": [],
   "source": [
    "imshow(collapse1.value, origin='lower')"
   ]
  },
  {
   "cell_type": "code",
   "execution_count": null,
   "metadata": {},
   "outputs": [],
   "source": [
    "imshow(collapse2.value, origin='lower')"
   ]
  },
  {
   "cell_type": "code",
   "execution_count": null,
   "metadata": {},
   "outputs": [],
   "source": [
    "# Some leftover code from going over this with Adam\n",
    "# Log file is located here: \n",
    "# /orange/adamginsburg/brick_alma_linesurvey/2019.1.00092.S/imaging_results/ipython_log_2021-06-21.py\n",
    "\n",
    "# subcube_regrid.with_mask(mask, tolerance=1000)\n",
    "# subcube_regrid.with_mask(mask.include())\n",
    "# mask.include()\n",
    "# mask = (h2cscube > 5*u.mJy/u.beam).include().compute()\n",
    "# subcube_regrid.with_mask(mask)\n",
    "# #subcube_regrid.with_mask(mask).write('\n",
    "# get_ipython().run_line_magic('history', '')\n",
    "# subcube_regrid.with_mask(mask).write('CH3CN_8(0)-7(0)_masked.fits')\n",
    "# masked_subcube_regrid = subcube_regrid.with_mask(mask)\n",
    "# masked_subcube_regrid.write('CH3CN_8(0)-7(0)_masked.fits', overwrite=True)\n",
    "# masked_subcube_regrid\n",
    "# masked_subcube_regrid.rechunk()\n",
    "# masked_subcube_regrid.rechunk().write('CH3CN_8(0)-7(0)_masked.fits', overwrite=True)\n",
    "\n",
    "# ch3cnK0 = SpectralCube.read('./thioformaldehyde/H2CS_303-202.fits')\n",
    "# ch3cnK0\n",
    "# ch3cnK0_rg = ch3cnK0.convolve_to(h2cscubes.beams.common_beam()).spectral_interpolate(h2cscube.spectral_axis)\n",
    "# ch3cnK0_rg.with_mask(mask)\n",
    "# ch3cnK0 = SpectralCube.read('CH3CN_8(0)-7(0).fits')\n",
    "# ch3cnK0_rg = ch3cnK0.convolve_to(h2cscubes.beams.common_beam()).spectral_interpolate(h2cscube.spectral_axis)\n",
    "# h2cscube\n",
    "# ch3cnK0_rg = ch3cnK0.convolve_to(h2cscube.beams.common_beam()).spectral_interpolate(h2cscube.spectral_axis)\n",
    "# ch3cnK0_rg\n",
    "# ch3cnK0_rg.with_mask(mask).write('CH3CN_8(0)-7(0)_masked.fits', overwrite=True)\n",
    "# #cube = SpectralCube.read('../imaging_results/source_ab_137_spw69_clean_2sigma_n50000_masked_3sigma_pbmask0p18.image')\n",
    "# ch3cnK0_dask_cube = SpectralCube.read('../imaging_results/source_ab_146_spw51_clean_2sigma_n50000_masked_3sigma_pbmask0p18.image').with_spect\n",
    "# ral_unit(u.km/u.s, velocity_convention='radio', rest_value=147.1745883*u.GHz)\n",
    "# ch3cnK0_dask_cube = SpectralCube.read('../imaging_results/source_ab_146_spw51_clean_2sigma_n50000_masked_3sigma_pbmask0p18.image').with_spect\n",
    "# ral_unit(u.km/u.s, velocity_convention='radio', rest_value=147.1745883*u.GHz)\n",
    "# ch3cnK0_dc_rg = ch3cnK0_dask_cube.convolve_to(h2cscubes.beams.common_beam()).spectral_interpolate(h2cscube.spectral_axis)\n",
    "# ch3cnK0_dask_cube = SpectralCube.read('../imaging_results/source_ab_146_spw51_clean_2sigma_n50000_masked_3sigma_pbmask0p18.image').with_spect\n",
    "# ral_unit(u.km/u.s, velocity_convention='radio', rest_value=147.1745883*u.GHz)\n",
    "# ch3cnK0_dc_rg = ch3cnK0_dask_cube.convolve_to(h2cscube.beams.common_beam()).spectral_interpolate(h2cscube.spectral_axis)\n",
    "# # the above is very fast b/c it was lazy\n",
    "# ch3cnK0_dask_cube = SpectralCube.read('../imaging_results/source_ab_146_spw51_clean_2sigma_n50000_masked_3sigma_pbmask0p18.image').with_spectral_unit(u.km/u.s, velocity_convention='radio', rest_value=147.1745883*u.GHz).spectral_slab(-10*u.km/u.s, 80*u.km/u.s)\n",
    "# ch3cnK0_dc_rg = ch3cnK0_dask_cube.convolve_to(h2cscube.beams.common_beam()).spectral_interpolate(h2cscube.spectral_axis)\n",
    "# # the above is very fast b/c it was lazy\n",
    "# ch3cnK0_dc_rg\n",
    "# ch3cnK0_dc_rg._data\n",
    "# mch3cnK0_dc_rg = ch3cnK0_dc_rg.with_mask(mask)\n",
    "# with ProgressBar():\n",
    "#     mch3cnK0_dc_rg.write('TEST.fits')"
   ]
  },
  {
   "cell_type": "markdown",
   "metadata": {},
   "source": [
    "## 10. Get masked cube for each rung of CH3CN ladder"
   ]
  },
  {
   "cell_type": "code",
   "execution_count": null,
   "metadata": {},
   "outputs": [],
   "source": []
  },
  {
   "cell_type": "markdown",
   "metadata": {},
   "source": [
    "## 11. Make per-pixel rotational diagrams"
   ]
  },
  {
   "cell_type": "code",
   "execution_count": null,
   "metadata": {},
   "outputs": [],
   "source": [
    "# Need moment 0, moment 1, noise map for each rung\n",
    "# Need error on moment zero map, which is noise map times channel width (since these are no longer\n",
    "# VaryingResolutionSpectralCubes, this should be constant throughout the subcube)"
   ]
  },
  {
   "cell_type": "code",
   "execution_count": 41,
   "metadata": {},
   "outputs": [
    {
     "data": {
      "text/html": [
       "<div><i>Table length=8</i>\n",
       "<table id=\"table47973545605440\" class=\"table-striped table-bordered table-condensed\">\n",
       "<thead><tr><th>Species</th><th>Chemical Name</th><th>Freq-GHz(rest frame,redshifted)</th><th>Freq Err(rest frame,redshifted)</th><th>Meas Freq-GHz(rest frame,redshifted)</th><th>Meas Freq Err(rest frame,redshifted)</th><th>Resolved QNs</th><th>CDMS/JPL Intensity</th><th>S&lt;sub&gt;ij&lt;/sub&gt;&amp;#956;&lt;sup&gt;2&lt;/sup&gt; (D&lt;sup&gt;2&lt;/sup&gt;)</th><th>S&lt;sub&gt;ij&lt;/sub&gt;</th><th>Log&lt;sub&gt;10&lt;/sub&gt; (A&lt;sub&gt;ij&lt;/sub&gt;)</th><th>Lovas/AST Intensity</th><th>E_L (cm^-1)</th><th>E_L (K)</th><th>E_U (cm^-1)</th><th>E_U (K)</th><th>Quantum Number Code</th><th>Linelist</th></tr></thead>\n",
       "<thead><tr><th>str9</th><th>str14</th><th>float64</th><th>float64</th><th>int64</th><th>int64</th><th>str15</th><th>float64</th><th>float64</th><th>float64</th><th>float64</th><th>int64</th><th>float64</th><th>float64</th><th>float64</th><th>float64</th><th>int64</th><th>str3</th></tr></thead>\n",
       "<tr><td>CH3CNv=0</td><td>Methyl Cyanide</td><td>147.1745883</td><td>2e-07</td><td>--</td><td>--</td><td>8(0)-7(0)</td><td>-2.6575</td><td>169.60673</td><td>11.02642</td><td>-3.7326</td><td>--</td><td>17.1828</td><td>24.72238</td><td>22.09202</td><td>31.78569</td><td>202</td><td>JPL</td></tr>\n",
       "<tr><td>CH3CNv=0</td><td>Methyl Cyanide</td><td>147.1717519</td><td>2e-07</td><td>--</td><td>--</td><td>8(1)-7(1)</td><td>-2.6748</td><td>166.91824</td><td>10.85164</td><td>-3.73957</td><td>--</td><td>22.1491</td><td>31.86782</td><td>27.05822</td><td>38.931</td><td>202</td><td>JPL</td></tr>\n",
       "<tr><td>CH3CNv=0</td><td>Methyl Cyanide</td><td>147.1632441</td><td>2e-07</td><td>--</td><td>--</td><td>8(2)-7(2)</td><td>-2.727</td><td>158.99516</td><td>10.33654</td><td>-3.76076</td><td>--</td><td>37.047</td><td>53.30272</td><td>41.95584</td><td>60.36548</td><td>202</td><td>JPL</td></tr>\n",
       "<tr><td>CH3CNv=0</td><td>Methyl Cyanide</td><td>147.1490683</td><td>1e-07</td><td>--</td><td>--</td><td>8(3)-7(3)</td><td>-2.5156</td><td>291.45821</td><td>18.94819</td><td>-3.79873</td><td>--</td><td>61.8731</td><td>89.02217</td><td>66.78146</td><td>96.08426</td><td>202</td><td>JPL</td></tr>\n",
       "<tr><td>CH3CNv=0</td><td>Methyl Cyanide</td><td>147.1292302</td><td>1e-07</td><td>--</td><td>--</td><td>8(4)-7(4)</td><td>-2.9482</td><td>127.19471</td><td>8.26914</td><td>-3.85798</td><td>--</td><td>96.6217</td><td>139.01798</td><td>101.5294</td><td>146.07911</td><td>202</td><td>JPL</td></tr>\n",
       "<tr><td>CH3CNv=0</td><td>Methyl Cyanide</td><td>147.103738</td><td>1e-07</td><td>--</td><td>--</td><td>8(5)-7(5)</td><td>-3.1316</td><td>103.33459</td><td>6.71796</td><td>-3.94843</td><td>--</td><td>141.2849</td><td>203.27878</td><td>146.19175</td><td>210.33869</td><td>202</td><td>JPL</td></tr>\n",
       "<tr><td>CH3CNv=0</td><td>Methyl Cyanide</td><td>147.0726021</td><td>1e-07</td><td>--</td><td>--</td><td>8(6)-7(6)</td><td>-3.0883</td><td>148.38336</td><td>9.64665</td><td>-4.09259</td><td>--</td><td>195.8526</td><td>281.79004</td><td>200.75841</td><td>288.84846</td><td>202</td><td>JPL</td></tr>\n",
       "<tr><td>CH3CNv=0</td><td>Methyl Cyanide</td><td>147.0358351</td><td>1e-07</td><td>--</td><td>--</td><td>8(7)-7(7)</td><td>-3.7949</td><td>39.74307</td><td>2.58376</td><td>-4.36401</td><td>--</td><td>260.3123</td><td>374.53377</td><td>265.21689</td><td>381.59042</td><td>202</td><td>JPL</td></tr>\n",
       "</table></div>"
      ],
      "text/plain": [
       "<Table length=8>\n",
       "Species  Chemical Name  ... Quantum Number Code Linelist\n",
       "  str9       str14      ...        int64          str3  \n",
       "-------- -------------- ... ------------------- --------\n",
       "CH3CNv=0 Methyl Cyanide ...                 202      JPL\n",
       "CH3CNv=0 Methyl Cyanide ...                 202      JPL\n",
       "CH3CNv=0 Methyl Cyanide ...                 202      JPL\n",
       "CH3CNv=0 Methyl Cyanide ...                 202      JPL\n",
       "CH3CNv=0 Methyl Cyanide ...                 202      JPL\n",
       "CH3CNv=0 Methyl Cyanide ...                 202      JPL\n",
       "CH3CNv=0 Methyl Cyanide ...                 202      JPL\n",
       "CH3CNv=0 Methyl Cyanide ...                 202      JPL"
      ]
     },
     "execution_count": 41,
     "metadata": {},
     "output_type": "execute_result"
    }
   ],
   "source": [
    "# Retrieve needed values from methyl cyanide cube table\n",
    "ch3cntbl"
   ]
  },
  {
   "cell_type": "code",
   "execution_count": null,
   "metadata": {},
   "outputs": [],
   "source": [
    "# Calculate upper state column density from integrated line intensity\n",
    "N_upper = nupper_of_kkms(mom0_map, shifted_line_freqs[i], 10**(einstein_A_coefficients[i]))\n",
    "\n",
    "# left off here..."
   ]
  },
  {
   "cell_type": "markdown",
   "metadata": {},
   "source": [
    "## 12. Convert rotational diagrams to temperature maps"
   ]
  },
  {
   "cell_type": "code",
   "execution_count": null,
   "metadata": {},
   "outputs": [],
   "source": []
  }
 ],
 "metadata": {
  "kernelspec": {
   "display_name": "Python 3",
   "language": "python",
   "name": "python3"
  },
  "language_info": {
   "codemirror_mode": {
    "name": "ipython",
    "version": 3
   },
   "file_extension": ".py",
   "mimetype": "text/x-python",
   "name": "python",
   "nbconvert_exporter": "python",
   "pygments_lexer": "ipython3",
   "version": "3.7.0"
  }
 },
 "nbformat": 4,
 "nbformat_minor": 2
}
