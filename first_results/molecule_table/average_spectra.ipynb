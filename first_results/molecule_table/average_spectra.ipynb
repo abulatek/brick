{
 "cells": [
  {
   "cell_type": "code",
   "execution_count": null,
   "id": "e676efe4-20a7-4ec6-b285-ac9cc1a9c74d",
   "metadata": {},
   "outputs": [],
   "source": [
    "### This script was used to extract spectra from NON-continuum-subtracted smoothed cubes; \n",
    "### see average_spectra.py for a script that was used to extract spectra from contsub cubes."
   ]
  },
  {
   "cell_type": "code",
   "execution_count": 2,
   "id": "579514d5-f568-4a4c-bf53-79d1ef41e913",
   "metadata": {},
   "outputs": [
    {
     "name": "stderr",
     "output_type": "stream",
     "text": [
      "make: *** No targets specified and no makefile found.  Stop.\n"
     ]
    }
   ],
   "source": [
    "# Package imports\n",
    "import matplotlib.pyplot as plt\n",
    "plt.rcParams['figure.facecolor'] = 'w'\n",
    "from astropy import coordinates, units as u\n",
    "import warnings\n",
    "warnings.filterwarnings('ignore')\n",
    "from astropy import log\n",
    "log.setLevel('ERROR')\n",
    "from spectral_cube import SpectralCube\n",
    "import numpy as np\n",
    "\n",
    "# My functions\n",
    "from mol_model import fetch_cubes, model_and_plot, list_mol_tags, get_cubes_from_mask\n",
    "\n",
    "results = '/blue/adamginsburg/abulatek/brick/symlinks/smoothed_cubes_K/'\n",
    "avg_spectra_core_loc = '/blue/adamginsburg/abulatek/brick/symlinks/smoothed_cubes_K/avg_spectra_core/'\n",
    "avg_spectra_frown_loc = '/blue/adamginsburg/abulatek/brick/symlinks/smoothed_cubes_K/avg_spectra_frown/'"
   ]
  },
  {
   "cell_type": "code",
   "execution_count": 3,
   "id": "7cc0cac2-a12c-451d-a3f4-a7f314b24c0d",
   "metadata": {},
   "outputs": [],
   "source": [
    "# Get list of all cubes\n",
    "import glob\n",
    "cubefns = glob.glob(f\"{results}/source_ab_*.image.commonbeam.K.fits\")"
   ]
  },
  {
   "cell_type": "code",
   "execution_count": 4,
   "id": "e80c36c8-1e20-45e3-b8e1-6e8ddc42c819",
   "metadata": {},
   "outputs": [],
   "source": [
    "# Get all cubes in order\n",
    "cubes = []\n",
    "for fn in cubefns:\n",
    "    molcube = SpectralCube.read(fn, format='fits')\n",
    "    cubes.append(molcube)\n",
    "# Reorder cubes from lowest to highest frequency\n",
    "lowestfreqs = [np.min(molcube.spectral_axis).value for molcube in cubes]\n",
    "correct_order = np.argsort(lowestfreqs)\n",
    "cubes_inorder = [cubes[i] for i in correct_order]"
   ]
  },
  {
   "cell_type": "code",
   "execution_count": 4,
   "id": "8868aec6-cb21-4d3d-9c34-694124820485",
   "metadata": {},
   "outputs": [],
   "source": [
    "# Set coordinate of central source\n",
    "crd = coordinates.SkyCoord(\"17:46:10.6339473267 -28:42:17.9807702398\", frame='icrs', unit=(u.h, u.deg))"
   ]
  },
  {
   "cell_type": "code",
   "execution_count": 5,
   "id": "95767660-9542-40e4-853a-052e88d60805",
   "metadata": {},
   "outputs": [],
   "source": [
    "# Get all spectra in order for central source coordinate\n",
    "spectra = []\n",
    "for molcube in cubes_inorder:\n",
    "    # Extract spectrum from provided coordinate\n",
    "    x,y = map(int, molcube.wcs.celestial.world_to_pixel(crd))\n",
    "    data_sp = molcube[:, y, x]\n",
    "    # Continuum-subtract the spectrum\n",
    "    data_sp_contsub = data_sp - np.median(data_sp)\n",
    "    spectra.append(data_sp_contsub)"
   ]
  },
  {
   "cell_type": "code",
   "execution_count": 7,
   "id": "00a1e62f-28e4-4cdf-b8fb-3ef56ef76a39",
   "metadata": {},
   "outputs": [],
   "source": [
    "# Save spectra for central source coordinate\n",
    "for spectrum in spectra:\n",
    "    fn = f\"spectrum_{np.min(spectrum.spectral_axis).value}_{np.max(spectrum.spectral_axis).value}.fits\"\n",
    "    spectrum.write(avg_spectra_core_loc+fn, format='fits')"
   ]
  },
  {
   "cell_type": "code",
   "execution_count": 5,
   "id": "457e7e0e-ebdf-4012-bbb2-e86a0108f544",
   "metadata": {},
   "outputs": [
    {
     "data": {
      "image/png": "[encoded data removed]",
      "text/plain": [
       "<Figure size 640x480 with 1 Axes>"
      ]
     },
     "metadata": {},
     "output_type": "display_data"
    }
   ],
   "source": [
    "# Get subcubes based on mask\n",
    "cubes_inorder_masked = get_cubes_from_mask(\"diffuse_regions.fits\", 1, cubes_inorder, plot_region=True)"
   ]
  },
  {
   "cell_type": "code",
   "execution_count": 6,
   "id": "9c5686a8-2bc3-464b-8c7b-a8bac54e65dc",
   "metadata": {},
   "outputs": [],
   "source": [
    "# Get all spectra in order for frown region\n",
    "spectra_reg = []\n",
    "for molcube in cubes_inorder_masked:\n",
    "    # Extract spectrum from the subcube made from the mask\n",
    "    data_sp_reg = molcube.mean(axis=(1,2), how='slice')\n",
    "    # Continuum-subtract the spectrum\n",
    "    data_sp_reg_contsub = data_sp_reg - np.median(data_sp_reg)\n",
    "    spectra_reg.append(data_sp_reg_contsub)"
   ]
  },
  {
   "cell_type": "code",
   "execution_count": 8,
   "id": "30f992a0-5dc9-47d6-8a2d-1b898190d010",
   "metadata": {},
   "outputs": [],
   "source": [
    "# Save spectra for frown region\n",
    "for spectrum in spectra_reg:\n",
    "    fn = f\"spectrum_{np.min(spectrum.spectral_axis).value}_{np.max(spectrum.spectral_axis).value}.fits\"\n",
    "    spectrum.write(avg_spectra_frown_loc+fn, format='fits')"
   ]
  },
  {
   "cell_type": "markdown",
   "id": "a3be5ce5-8c86-4711-9d7a-90b892903142",
   "metadata": {},
   "source": []
  }
 ],
 "metadata": {
  "kernelspec": {
   "display_name": "Python 3 (ipykernel)",
   "language": "python",
   "name": "python3"
  },
  "language_info": {
   "codemirror_mode": {
    "name": "ipython",
    "version": 3
   },
   "file_extension": ".py",
   "mimetype": "text/x-python",
   "name": "python",
   "nbconvert_exporter": "python",
   "pygments_lexer": "ipython3",
   "version": "3.9.13"
  }
 },
 "nbformat": 4,
 "nbformat_minor": 5
}
