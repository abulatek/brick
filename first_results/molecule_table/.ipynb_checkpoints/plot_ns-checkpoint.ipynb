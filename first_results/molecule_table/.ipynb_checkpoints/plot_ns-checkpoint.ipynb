{
 "cells": [
  {
   "cell_type": "code",
   "execution_count": 9,
   "id": "2b0f0c92-5d9a-4b52-a177-d8be3e558cb9",
   "metadata": {},
   "outputs": [],
   "source": [
    "# Package imports\n",
    "import numpy as np\n",
    "import matplotlib.pyplot as plt\n",
    "plt.rcParams['figure.facecolor'] = 'w'\n",
    "from astropy import log, constants, coordinates, units as u\n",
    "import warnings\n",
    "warnings.filterwarnings('ignore')\n",
    "log.setLevel('ERROR')\n",
    "\n",
    "# My functions\n",
    "from mol_model import fetch_cubes, model_and_plot, list_mol_tags, get_cubes_from_mask, plot_mom0s\n",
    "\n",
    "results = '/blue/adamginsburg/abulatek/brick/symlinks/imaging_results/contsub_smoothed_cubes_K/'"
   ]
  },
  {
   "cell_type": "code",
   "execution_count": 10,
   "id": "5e1bc695-c2ea-44ed-a780-eb15374ebd56",
   "metadata": {
    "tags": []
   },
   "outputs": [],
   "source": [
    "# Get list of all cubes\n",
    "import glob\n",
    "cubefns = glob.glob(f\"{results}/source_ab_*.image.commonbeam.contsub.K.fits\")"
   ]
  },
  {
   "cell_type": "code",
   "execution_count": 11,
   "id": "57418bbf-e1e4-4c40-92b4-723b4d4d72e9",
   "metadata": {},
   "outputs": [],
   "source": [
    "# Set coordinate of central source\n",
    "crd = coordinates.SkyCoord(\"17:46:10.6339473267 -28:42:17.9807702398\", frame='icrs', unit=(u.h, u.deg))"
   ]
  },
  {
   "cell_type": "code",
   "execution_count": 12,
   "id": "932d468f-574b-4acd-b095-21144e0fabaa",
   "metadata": {},
   "outputs": [
    {
     "name": "stdout",
     "output_type": "stream",
     "text": [
      "    FREQ     ERR    LGINT   DR  ELO   GUP  TAG   QNFMT   QN'     QN\"  \n",
      "    MHz      MHz   MHz nm2     1 / cm                                 \n",
      "----------- ------ ------- --- ------ --- ------ ----- ------- -------\n",
      " 115153.935   0.03 -3.3824   2 3.0738   8 -46010   814 3 1-1 4 2 1 1 3\n",
      " 115156.812   0.02  -3.583   2  3.075   6 -46010   814 3 1-1 3 2 1 1 2\n",
      " 115162.982   0.03 -3.8084   2 3.0757   4 -46010   814 3 1-1 2 2 1 1 1\n",
      "115185.3068 0.0196 -4.3032   2  3.075   4  46010   814 3 1-1 2 2 1 1 2\n",
      "115191.4473 0.0234 -4.3032   2 3.0738   6  46010   814 3 1-1 3 2 1 1 3\n",
      "115219.9278  0.037 -5.6834   2 3.0738   4  46010   814 3 1-1 2 2 1 1 3\n",
      "115443.2414 0.0151 -5.6805   2 3.1026   4  46010   814 3 1 1 2 2 1-1 3\n",
      " 115489.412   0.01 -4.3003   2 3.1026   6 -46010   814 3 1 1 3 2 1-1 3\n",
      " 115524.603  0.035 -4.3003   2 3.0999   4 -46010   814 3 1 1 2 2 1-1 2\n",
      " 115556.253  0.015 -3.3795   2 3.1026   8 -46010   814 3 1 1 4 2 1-1 3\n",
      " 115570.763  0.025 -3.5801   2 3.0999   6 -46010   814 3 1 1 3 2 1-1 2\n",
      " 115571.954  0.015 -3.8054   2 3.0984   4 -46010   814 3 1 1 2 2 1-1 1\n",
      "    FREQ     ERR    LGINT   DR   ELO    GUP  TAG   QNFMT   QN'     QN\"  \n",
      "    MHz      MHz   MHz nm2      1 / cm                                  \n",
      "----------- ------ ------- --- -------- --- ------ ----- ------- -------\n",
      "255569.4937 0.1193  -6.548   2 240.7711  10  46010   814 6 2 1 5 5 2-1 6\n",
      "255569.5958 0.0993  -6.548   2 240.7711  10  46010   814 6 2-1 5 5 2 1 6\n",
      "255581.2692 0.1093 -4.4689   2 240.7711  12  46010   814 6 2 1 6 5 2-1 6\n",
      "255581.3822 0.0976 -4.4689   2 240.7711  12  46010   814 6 2-1 6 5 2 1 6\n",
      "255588.5443 0.1161 -4.4689   2 240.7704  10  46010   814 6 2 1 5 5 2-1 5\n",
      "255588.6908 0.1042 -4.4689   2 240.7704  10  46010   814 6 2-1 5 5 2 1 5\n",
      " 255596.896   0.03 -2.9212   2 240.7711  14 -46010   814 6 2 1 7 5 2-1 6\n",
      " 255596.896   0.03 -2.9212   2 240.7711  14 -46010   814 6 2-1 7 5 2 1 6\n",
      " 255600.379  0.015 -3.0027   2 240.7704  12 -46010   814 6 2 1 6 5 2-1 5\n",
      " 255600.379  0.015 -3.0027   2 240.7704  12 -46010   814 6 2-1 6 5 2 1 5\n",
      " 255602.964  0.015 -3.0851   2   240.77  10 -46010   814 6 2 1 5 5 2-1 4\n",
      " 255602.964  0.015 -3.0851   2   240.77  10 -46010   814 6 2-1 5 5 2 1 4\n",
      "    FREQ     ERR    LGINT   DR   ELO   GUP  TAG   QNFMT   QN'     QN\"  \n",
      "    MHz      MHz   MHz nm2      1 / cm                                 \n",
      "----------- ------ ------- --- ------- --- ------ ----- ------- -------\n",
      " 253606.019 0.0301 -3.9843   2 19.2159  10  46010   814 6 1 1 5 5 1-1 5\n",
      "253609.9858 0.0226 -3.9843   2 19.2145  12  46010   814 6 1 1 6 5 1-1 6\n",
      "253645.3121 0.0363 -6.0635   2 19.2145  10  46010   814 6 1 1 5 5 1-1 6\n",
      " 253868.116 0.0188 -6.0623   2 19.2835  10  46010   814 6 1-1 5 5 1 1 6\n",
      " 253913.173  0.025 -3.9831   2 19.2835  12 -46010   814 6 1-1 6 5 1 1 6\n",
      " 253925.462   0.05 -3.9831   2 19.2815  10 -46010   814 6 1-1 5 5 1 1 5\n",
      " 253968.393   0.02 -2.4354   2 19.2835  14 -46010   814 6 1-1 7 5 1 1 6\n",
      " 253970.581  0.015  -2.517   2 19.2815  12 -46010   814 6 1-1 6 5 1 1 5\n",
      " 253970.581  0.015 -2.5993   2   19.28  10 -46010   814 6 1-1 5 5 1 1 4\n",
      "    FREQ     ERR    LGINT   DR   ELO   GUP  TAG   QNFMT   QN'     QN\"  \n",
      "    MHz      MHz   MHz nm2      1 / cm                                 \n",
      "----------- ------ ------- --- ------- --- ------ ----- ------- -------\n",
      " 253570.476   0.04 -2.4366   2 19.2145  14 -46010   814 6 1 1 7 5 1-1 6\n",
      " 253570.476   0.04 -2.5182   2 19.2159  12 -46010   814 6 1 1 6 5 1-1 5\n",
      " 253572.148  0.035 -2.6005   2  19.217  10 -46010   814 6 1 1 5 5 1-1 4\n",
      " 253606.019 0.0301 -3.9843   2 19.2159  10  46010   814 6 1 1 5 5 1-1 5\n",
      "253609.9858 0.0226 -3.9843   2 19.2145  12  46010   814 6 1 1 6 5 1-1 6\n",
      "253645.3121 0.0363 -6.0635   2 19.2145  10  46010   814 6 1 1 5 5 1-1 6\n",
      "\n",
      "*** NOTE: Make sure you are capturing the cubes and tables into different variables!\n"
     ]
    }
   ],
   "source": [
    "# Get only the cubes that have our line of interest in them\n",
    "mol_tag = 46010 # 46515\n",
    "cubes, tbl = fetch_cubes(cubefns, catalog='JPL', mol_name_pyspeckit=None, mol_tag_pyspeckit=mol_tag, parse_loc=False, ret_tbl=True)"
   ]
  },
  {
   "cell_type": "code",
   "execution_count": null,
   "id": "28744a06-7ee0-411b-a0b2-d386cdef41c1",
   "metadata": {},
   "outputs": [],
   "source": [
    "# Generate the model and plot the model and data spectra\n",
    "model_and_plot(cubes, temp = 11., N_tot = 5.0e+13, v_cen = 41.*u.km/u.s, v_disp = 1.5*u.km/u.s,\n",
    "               mol_name_pyspeckit=None, mol_tag_pyspeckit=mol_tag, catalog='JPL', fig_width=20, fig_height=25, \n",
    "               nrows=3, ncols=5, parse_loc=False, line_by_line=True, name_for_plot=f'NS', extr_type=\"coord\", crd=crd, \n",
    "               show_2_sigma=True)"
   ]
  },
  {
   "cell_type": "code",
   "execution_count": null,
   "id": "16bea67c-4d71-4747-8fa7-3b018b61346c",
   "metadata": {},
   "outputs": [],
   "source": [
    "# Get subcubes based on mask\n",
    "cubes_masked = get_cubes_from_mask(\"diffuse_regions.fits\", 1, cubes, plot_region=False)"
   ]
  },
  {
   "cell_type": "code",
   "execution_count": null,
   "id": "9d0826b2-00e4-4031-a970-8050a046d4c7",
   "metadata": {},
   "outputs": [],
   "source": [
    "# Generate the model and plot the model and data spectra\n",
    "freqs = model_and_plot(cubes_masked, temp = 6., N_tot = 1.5e+14, v_cen = 12.*u.km/u.s, v_disp = 3.*u.km/u.s,\n",
    "                       mol_name_pyspeckit=None, mol_tag_pyspeckit=mol_tag, catalog='JPL', fig_width=20, fig_height=25, \n",
    "                       nrows=3, ncols=5, parse_loc=False, line_by_line=True, name_for_plot=f'NS', extr_type=\"reg\",\n",
    "                       show_2_sigma=True, return_freqs=True)"
   ]
  },
  {
   "cell_type": "code",
   "execution_count": null,
   "id": "c7075a19-1a35-41be-bf96-e79b0ca962b4",
   "metadata": {},
   "outputs": [],
   "source": [
    "# Plot moment maps\n",
    "plot_mom0s(cubes, freqs, v_cen=41*u.km/u.s, fig_width=10, fig_height=8, nrows=3, ncols=5, name_for_plot=f'NS')"
   ]
  },
  {
   "cell_type": "code",
   "execution_count": null,
   "id": "a0afd8f7-5d93-4035-bace-9f432ea91ef1",
   "metadata": {},
   "outputs": [],
   "source": [
    "# Plot moment maps\n",
    "plot_mom0s(cubes, freqs, v_cen=12*u.km/u.s, fig_width=10, fig_height=8, nrows=3, ncols=5, name_for_plot=f'NS')"
   ]
  },
  {
   "cell_type": "code",
   "execution_count": null,
   "id": "e3461e97-b9f6-43a5-af90-5b5bee94da1c",
   "metadata": {},
   "outputs": [],
   "source": []
  }
 ],
 "metadata": {
  "kernelspec": {
   "display_name": "Python 3 (ipykernel)",
   "language": "python",
   "name": "python3"
  },
  "language_info": {
   "codemirror_mode": {
    "name": "ipython",
    "version": 3
   },
   "file_extension": ".py",
   "mimetype": "text/x-python",
   "name": "python",
   "nbconvert_exporter": "python",
   "pygments_lexer": "ipython3",
   "version": "3.9.13"
  }
 },
 "nbformat": 4,
 "nbformat_minor": 5
}
