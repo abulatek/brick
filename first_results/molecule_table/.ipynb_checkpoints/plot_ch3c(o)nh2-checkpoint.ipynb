{
 "cells": [
  {
   "cell_type": "code",
   "execution_count": 1,
   "id": "2b0f0c92-5d9a-4b52-a177-d8be3e558cb9",
   "metadata": {},
   "outputs": [
    {
     "name": "stderr",
     "output_type": "stream",
     "text": [
      "make: *** No targets specified and no makefile found.  Stop.\n"
     ]
    }
   ],
   "source": [
    "# Package imports\n",
    "import numpy as np\n",
    "import matplotlib.pyplot as plt\n",
    "plt.rcParams['figure.facecolor'] = 'w'\n",
    "from astropy import log, constants, coordinates, units as u\n",
    "import warnings\n",
    "warnings.filterwarnings('ignore')\n",
    "log.setLevel('ERROR')\n",
    "\n",
    "# My functions\n",
    "from mol_model import fetch_cubes, model_and_plot, list_mol_tags, get_cubes_from_mask, plot_mom0s\n",
    "\n",
    "results = '/blue/adamginsburg/abulatek/brick/symlinks/imaging_results/contsub_smoothed_cubes_K/'"
   ]
  },
  {
   "cell_type": "code",
   "execution_count": 2,
   "id": "5e1bc695-c2ea-44ed-a780-eb15374ebd56",
   "metadata": {
    "tags": []
   },
   "outputs": [],
   "source": [
    "# Get list of all cubes\n",
    "import glob\n",
    "cubefns = glob.glob(f\"{results}/source_ab_*.image.commonbeam.contsub.K.fits\")"
   ]
  },
  {
   "cell_type": "code",
   "execution_count": 3,
   "id": "57418bbf-e1e4-4c40-92b4-723b4d4d72e9",
   "metadata": {},
   "outputs": [],
   "source": [
    "# Set coordinate of central source\n",
    "crd = coordinates.SkyCoord(\"17:46:10.6339473267 -28:42:17.9807702398\", frame='icrs', unit=(u.h, u.deg))"
   ]
  },
  {
   "cell_type": "code",
   "execution_count": 4,
   "id": "ac252471-e84e-4006-855a-d2c175bba3a4",
   "metadata": {
    "tags": []
   },
   "outputs": [
    {
     "name": "stdout",
     "output_type": "stream",
     "text": [
      "[]\n",
      "\n",
      "*** NOTE: Make sure you are capturing the cubes and tables into different variables!\n"
     ]
    }
   ],
   "source": [
    "# Get only the cubes that have our line of interest in them\n",
    "mol_tag = 59518\n",
    "catalog = 'CDMS'\n",
    "mol_str = f'null'\n",
    "cubes, tbl = fetch_cubes(cubefns, catalog=catalog, mol_name_pyspeckit=None, mol_tag_pyspeckit=mol_tag, parse_loc=False, ret_tbl=True)"
   ]
  },
  {
   "cell_type": "code",
   "execution_count": null,
   "id": "eea3c6f9-3621-4bff-9591-61dd32fc6f58",
   "metadata": {},
   "outputs": [],
   "source": [
    "# Generate the model and plot the model and data spectra\n",
    "model_and_plot(cubes, temp = 50., N_tot = 2.9e+13, v_cen = 40.*u.km/u.s, v_disp = 1.5*u.km/u.s,\n",
    "               mol_name_pyspeckit=None, mol_tag_pyspeckit=mol_tag, catalog=catalog, fig_width=20, fig_height=25,\n",
    "               nrows=8, ncols=5, parse_loc=False, line_by_line=True, name_for_plot=mol_str, extr_type=\"coord\", crd=crd,\n",
    "               show_2_sigma=True, LGINT_cutoff=-5)"
   ]
  },
  {
   "cell_type": "code",
   "execution_count": null,
   "id": "71f7454a-63d5-40fd-8377-841a6b52d684",
   "metadata": {},
   "outputs": [],
   "source": [
    "# Get subcubes based on mask\n",
    "cubes_masked = get_cubes_from_mask(\"diffuse_regions.fits\", 1, cubes, plot_region=False)"
   ]
  },
  {
   "cell_type": "code",
   "execution_count": null,
   "id": "68b4877e-8426-4b00-8f06-bb0505584be5",
   "metadata": {},
   "outputs": [],
   "source": [
    "# Generate the model and plot the model and data spectra\n",
    "freqs = model_and_plot(cubes_masked, temp = 50., N_tot = 2.0e+13, v_cen = 12.*u.km/u.s, v_disp = 3.*u.km/u.s,\n",
    "                       mol_name_pyspeckit=None, mol_tag_pyspeckit=mol_tag, catalog=catalog, fig_width=20, fig_height=25,\n",
    "                       nrows=8, ncols=5, parse_loc=False, line_by_line=True, name_for_plot=mol_str,\n",
    "                       extr_type=\"reg\", show_2_sigma=True, return_freqs=True, LGINT_cutoff=-5)"
   ]
  },
  {
   "cell_type": "code",
   "execution_count": null,
   "id": "05cbc767-a631-440f-8184-7412fd032b48",
   "metadata": {},
   "outputs": [],
   "source": [
    "# Plot moment maps\n",
    "plot_mom0s(cubes, freqs, v_cen=40.*u.km/u.s, fig_width=10, fig_height=8, nrows=3, ncols=4, name_for_plot=mol_str)"
   ]
  },
  {
   "cell_type": "code",
   "execution_count": null,
   "id": "0d8241e4-028c-4f86-83e4-10e15bd902a1",
   "metadata": {},
   "outputs": [],
   "source": [
    "# Plot moment maps\n",
    "plot_mom0s(cubes, freqs, v_cen=12.*u.km/u.s, fig_width=10, fig_height=8, nrows=3, ncols=4, name_for_plot=mol_str)"
   ]
  },
  {
   "cell_type": "code",
   "execution_count": null,
   "id": "e3d368e1-3988-4a00-aa2a-b6e87217f49a",
   "metadata": {},
   "outputs": [],
   "source": []
  }
 ],
 "metadata": {
  "kernelspec": {
   "display_name": "Python 3 (ipykernel)",
   "language": "python",
   "name": "python3"
  },
  "language_info": {
   "codemirror_mode": {
    "name": "ipython",
    "version": 3
   },
   "file_extension": ".py",
   "mimetype": "text/x-python",
   "name": "python",
   "nbconvert_exporter": "python",
   "pygments_lexer": "ipython3",
   "version": "3.9.13"
  }
 },
 "nbformat": 4,
 "nbformat_minor": 5
}
