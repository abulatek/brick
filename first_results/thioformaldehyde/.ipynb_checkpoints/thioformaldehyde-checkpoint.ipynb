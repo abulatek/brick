{
 "cells": [
  {
   "cell_type": "code",
   "execution_count": 36,
   "metadata": {},
   "outputs": [],
   "source": [
    "# Make thioformaldehyde (H2CS) cubes for inspection with DS9\n",
    "from astroquery.splatalogue import Splatalogue\n",
    "from spectral_cube import SpectralCube\n",
    "from astropy import units as u\n",
    "import matplotlib.pyplot as plt\n",
    "import numpy as np\n",
    "import scipy.ndimage as nd"
   ]
  },
  {
   "cell_type": "markdown",
   "metadata": {},
   "source": [
    "### Use Splatalogue to query H2CS lines in Bands 3 and 4, then Band 6 (observed)"
   ]
  },
  {
   "cell_type": "code",
   "execution_count": 7,
   "metadata": {},
   "outputs": [
    {
     "data": {
      "text/html": [
       "<i>Table length=12</i>\n",
       "<table id=\"table46945653852424-932167\" class=\"table-striped table-bordered table-condensed\">\n",
       "<thead><tr><th>idx</th><th>Species</th><th>Chemical Name</th><th>Freq-GHz(rest frame,redshifted)</th><th>Freq Err(rest frame,redshifted)</th><th>Meas Freq-GHz(rest frame,redshifted)</th><th>Meas Freq Err(rest frame,redshifted)</th><th>Resolved QNs</th><th>CDMS/JPL Intensity</th><th>S&lt;sub&gt;ij&lt;/sub&gt;&amp;#956;&lt;sup&gt;2&lt;/sup&gt; (D&lt;sup&gt;2&lt;/sup&gt;)</th><th>S&lt;sub&gt;ij&lt;/sub&gt;</th><th>Log&lt;sub&gt;10&lt;/sub&gt; (A&lt;sub&gt;ij&lt;/sub&gt;)</th><th>Lovas/AST Intensity</th><th>E_L (cm^-1)</th><th>E_L (K)</th><th>E_U (cm^-1)</th><th>E_U (K)</th><th>Quantum Number Code</th><th>Linelist</th></tr></thead>\n",
       "<tr><td>0</td><td>H2CS</td><td>Thioformaldehyde</td><td>--</td><td>--</td><td>101.47762</td><td>0.00012</td><td>3(1,3)-2(1,2)</td><td>-3.6341</td><td>21.69902</td><td>7.98</td><td>-4.90073</td><td>0.49</td><td>12.5521</td><td>18.05957</td><td>15.93703</td><td>22.9297</td><td>303</td><td>JPL</td></tr>\n",
       "<tr><td>1</td><td>H2CS</td><td>Thioformaldehyde</td><td>--</td><td>--</td><td>103.03999</td><td>0.0001</td><td>3(2,2)-2(2,1)</td><td>-4.3594</td><td>4.52097</td><td>1.663</td><td>-5.08492</td><td>0.2</td><td>40.0668</td><td>57.64686</td><td>43.50384</td><td>62.59197</td><td>303</td><td>JPL</td></tr>\n",
       "<tr><td>2</td><td>H2CS</td><td>Thioformaldehyde</td><td>--</td><td>--</td><td>103.04022</td><td>0.00015</td><td>3(0,3)-2(0,2)</td><td>-4.0278</td><td>8.13836</td><td>2.993</td><td>-4.82961</td><td>0.2</td><td>3.4374</td><td>4.94562</td><td>6.87445</td><td>9.89075</td><td>303</td><td>JPL</td></tr>\n",
       "<tr><td>3</td><td>H2CS</td><td>Thioformaldehyde</td><td>--</td><td>--</td><td>103.05181</td><td>0.00028</td><td>3(2,1)-2(2,0)</td><td>-4.3593</td><td>4.52098</td><td>1.663</td><td>-5.08476</td><td>0.13</td><td>40.0669</td><td>57.647</td><td>43.50434</td><td>62.59268</td><td>303</td><td>JPL</td></tr>\n",
       "<tr><td>4</td><td>H2CS</td><td>Thioformaldehyde</td><td>--</td><td>--</td><td>104.61704</td><td>7e-05</td><td>3(1,2)-2(1,1)</td><td>-3.6079</td><td>21.70215</td><td>7.981</td><td>-4.86098</td><td>0.77</td><td>12.6568</td><td>18.21021</td><td>16.14645</td><td>23.231</td><td>303</td><td>JPL</td></tr>\n",
       "<tr><td>5</td><td>H2CS</td><td>Thioformaldehyde</td><td>--</td><td>--</td><td>135.297811</td><td>0.00025</td><td>4(1,4)-3(1,3)</td><td>-3.2444</td><td>30.5155</td><td>11.222</td><td>-4.48704</td><td>0.64</td><td>15.937</td><td>22.92966</td><td>20.45005</td><td>29.42289</td><td>303</td><td>JPL</td></tr>\n",
       "<tr><td>6</td><td>H2CS</td><td>Thioformaldehyde</td><td>--</td><td>--</td><td>137.36917</td><td>0.00025</td><td>4(3,2)-3(3,1)</td><td>-3.7147</td><td>14.24214</td><td>5.238</td><td>-4.79819</td><td>b</td><td>89.1451</td><td>128.25918</td><td>93.72724</td><td>134.85182</td><td>303</td><td>JPL</td></tr>\n",
       "<tr><td>7</td><td>H2CS</td><td>Thioformaldehyde</td><td>--</td><td>--</td><td>137.36917</td><td>0.00025</td><td>4(3,2)-3(3,1)</td><td>-3.7147</td><td>14.24214</td><td>5.238</td><td>-4.79819</td><td>b</td><td>89.1451</td><td>128.25918</td><td>93.72724</td><td>134.85182</td><td>303</td><td>JPL</td></tr>\n",
       "<tr><td>8</td><td>H2CS</td><td>Thioformaldehyde</td><td>--</td><td>--</td><td>137.371051</td><td>0.0003</td><td>4(0,4)-3(0,3)</td><td>-3.6615</td><td>10.84945</td><td>3.99</td><td>-4.43922</td><td>0.37</td><td>6.8745</td><td>9.89082</td><td>11.45671</td><td>16.48355</td><td>303</td><td>JPL</td></tr>\n",
       "<tr><td>9</td><td>H2CS</td><td>Thioformaldehyde</td><td>--</td><td>--</td><td>137.382029</td><td>0.00032</td><td>4(2,3)-3(2,2)</td><td>-3.8626</td><td>8.13826</td><td>2.993</td><td>-4.56399</td><td>0.10</td><td>43.5038</td><td>62.5919</td><td>48.08637</td><td>69.18516</td><td>303</td><td>JPL</td></tr>\n",
       "<tr><td>10</td><td>H2CS</td><td>Thioformaldehyde</td><td>--</td><td>--</td><td>137.41177</td><td>0.00025</td><td>4(2,2)-3(2,1)</td><td>-3.8624</td><td>8.13852</td><td>2.993</td><td>-4.56369</td><td>0.09</td><td>43.5043</td><td>62.59262</td><td>48.08786</td><td>69.18731</td><td>303</td><td>JPL</td></tr>\n",
       "<tr><td>11</td><td>H2CS</td><td>Thioformaldehyde</td><td>--</td><td>--</td><td>139.48341</td><td>0.00028</td><td>4(1,3)-3(1,2)</td><td>-3.2185</td><td>30.51674</td><td>11.223</td><td>-4.44732</td><td>0.17</td><td>16.1465</td><td>23.23108</td><td>20.79917</td><td>29.92519</td><td>303</td><td>JPL</td></tr>\n",
       "</table><style>table.dataTable {clear: both; width: auto !important; margin: 0 !important;}\n",
       ".dataTables_info, .dataTables_length, .dataTables_filter, .dataTables_paginate{\n",
       "display: inline-block; margin-right: 1em; }\n",
       ".paginate_button { margin-right: 5px; }\n",
       "</style>\n",
       "<script>\n",
       "\n",
       "var astropy_sort_num = function(a, b) {\n",
       "    var a_num = parseFloat(a);\n",
       "    var b_num = parseFloat(b);\n",
       "\n",
       "    if (isNaN(a_num) && isNaN(b_num))\n",
       "        return ((a < b) ? -1 : ((a > b) ? 1 : 0));\n",
       "    else if (!isNaN(a_num) && !isNaN(b_num))\n",
       "        return ((a_num < b_num) ? -1 : ((a_num > b_num) ? 1 : 0));\n",
       "    else\n",
       "        return isNaN(a_num) ? -1 : 1;\n",
       "}\n",
       "\n",
       "require.config({paths: {\n",
       "    datatables: 'https://cdn.datatables.net/1.10.12/js/jquery.dataTables.min'\n",
       "}});\n",
       "require([\"datatables\"], function(){\n",
       "    console.log(\"$('#table46945653852424-932167').dataTable()\");\n",
       "    \n",
       "jQuery.extend( jQuery.fn.dataTableExt.oSort, {\n",
       "    \"optionalnum-asc\": astropy_sort_num,\n",
       "    \"optionalnum-desc\": function (a,b) { return -astropy_sort_num(a, b); }\n",
       "});\n",
       "\n",
       "    $('#table46945653852424-932167').dataTable({\n",
       "        order: [],\n",
       "        pageLength: 50,\n",
       "        lengthMenu: [[10, 25, 50, 100, 500, 1000, -1], [10, 25, 50, 100, 500, 1000, 'All']],\n",
       "        pagingType: \"full_numbers\",\n",
       "        columnDefs: [{targets: [0, 3, 4, 5, 6, 8, 9, 10, 11, 13, 14, 15, 16, 17], type: \"optionalnum\"}]\n",
       "    });\n",
       "});\n",
       "</script>\n"
      ],
      "text/plain": [
       "<IPython.core.display.HTML object>"
      ]
     },
     "execution_count": 7,
     "metadata": {},
     "output_type": "execute_result"
    }
   ],
   "source": [
    "tbl = Splatalogue.query_lines(85*u.GHz, 155*u.GHz, chemical_name=' H2CS ', line_lists=['JPL'],\n",
    "                              energy_max=150, energy_type='eu_k', show_qn_code=True)\n",
    "tbl.show_in_notebook()"
   ]
  },
  {
   "cell_type": "code",
   "execution_count": 8,
   "metadata": {},
   "outputs": [
    {
     "data": {
      "text/html": [
       "<i>Table length=8</i>\n",
       "<table id=\"table46945661815104-962258\" class=\"table-striped table-bordered table-condensed\">\n",
       "<thead><tr><th>idx</th><th>Species</th><th>Chemical Name</th><th>Freq-GHz(rest frame,redshifted)</th><th>Freq Err(rest frame,redshifted)</th><th>Meas Freq-GHz(rest frame,redshifted)</th><th>Meas Freq Err(rest frame,redshifted)</th><th>Resolved QNs</th><th>CDMS/JPL Intensity</th><th>S&lt;sub&gt;ij&lt;/sub&gt;&amp;#956;&lt;sup&gt;2&lt;/sup&gt; (D&lt;sup&gt;2&lt;/sup&gt;)</th><th>S&lt;sub&gt;ij&lt;/sub&gt;</th><th>Log&lt;sub&gt;10&lt;/sub&gt; (A&lt;sub&gt;ij&lt;/sub&gt;)</th><th>Lovas/AST Intensity</th><th>E_L (cm^-1)</th><th>E_L (K)</th><th>E_U (cm^-1)</th><th>E_U (K)</th><th>Quantum Number Code</th><th>Linelist</th></tr></thead>\n",
       "<tr><td>0</td><td>H2CS</td><td>Thioformaldehyde</td><td>--</td><td>--</td><td>240.26632</td><td>0.0004</td><td>7(0,7)-6(0,6)</td><td>-2.9722</td><td>18.98681</td><td>6.982</td><td>-3.68963</td><td>0.55</td><td>24.0546</td><td>34.609</td><td>32.06902</td><td>46.1399</td><td>303</td><td>JPL</td></tr>\n",
       "<tr><td>1</td><td>H2CS</td><td>Thioformaldehyde</td><td>--</td><td>--</td><td>240.38175</td><td>0.00034</td><td>7(2,6)-6(2,5)</td><td>-3.085</td><td>17.4397</td><td>6.414</td><td>-3.72591</td><td>0.16</td><td>60.6875</td><td>87.31527</td><td>68.70577</td><td>98.85171</td><td>303</td><td>JPL</td></tr>\n",
       "<tr><td>2</td><td>H2CS</td><td>Thioformaldehyde</td><td>240.5482286</td><td>0.0001704</td><td>--</td><td>--</td><td>7(2,5)-6(2,4)</td><td>-3.0845</td><td>17.43644</td><td>6.412</td><td>-3.72509</td><td>0.16</td><td>60.6945</td><td>87.32534</td><td>68.71833</td><td>98.86977</td><td>303</td><td>JPL</td></tr>\n",
       "<tr><td>3</td><td>H2CS</td><td>Thioformaldehyde</td><td>--</td><td>--</td><td>244.04784</td><td>0.00059</td><td>7(1,6)-6(1,5)</td><td>-2.5104</td><td>55.8065</td><td>20.523</td><td>-3.67817</td><td>0.91</td><td>33.5928</td><td>48.33227</td><td>41.73336</td><td>60.04465</td><td>303</td><td>JPL</td></tr>\n",
       "<tr><td>4</td><td>H2CS</td><td>Thioformaldehyde</td><td>270.5207397</td><td>0.0003169</td><td>--</td><td>--</td><td>8(1,8)-7(1,7)</td><td>-2.3767</td><td>64.08661</td><td>23.568</td><td>-3.53827</td><td>--</td><td>40.7563</td><td>58.63889</td><td>49.7799</td><td>71.62176</td><td>303</td><td>JPL</td></tr>\n",
       "<tr><td>5</td><td>H2CS</td><td>Thioformaldehyde</td><td>274.5208698</td><td>0.0003318</td><td>--</td><td>--</td><td>8(0,8)-7(0,7)</td><td>-2.8163</td><td>21.70009</td><td>7.98</td><td>-3.51233</td><td>--</td><td>32.069</td><td>46.13987</td><td>41.22603</td><td>59.31472</td><td>303</td><td>JPL</td></tr>\n",
       "<tr><td>6</td><td>H2CS</td><td>Thioformaldehyde</td><td>274.7020548</td><td>0.0002753</td><td>--</td><td>--</td><td>8(2,7)-7(2,6)</td><td>-2.9201</td><td>20.34243</td><td>7.481</td><td>-3.53953</td><td>--</td><td>68.7058</td><td>98.85175</td><td>77.86887</td><td>112.0353</td><td>303</td><td>JPL</td></tr>\n",
       "<tr><td>7</td><td>H2CS</td><td>Thioformaldehyde</td><td>274.952473</td><td>0.0002755</td><td>--</td><td>--</td><td>8(2,6)-7(2,5)</td><td>-2.9193</td><td>20.34446</td><td>7.482</td><td>-3.5383</td><td>--</td><td>68.7183</td><td>98.86974</td><td>77.88973</td><td>112.0653</td><td>303</td><td>JPL</td></tr>\n",
       "</table><style>table.dataTable {clear: both; width: auto !important; margin: 0 !important;}\n",
       ".dataTables_info, .dataTables_length, .dataTables_filter, .dataTables_paginate{\n",
       "display: inline-block; margin-right: 1em; }\n",
       ".paginate_button { margin-right: 5px; }\n",
       "</style>\n",
       "<script>\n",
       "\n",
       "var astropy_sort_num = function(a, b) {\n",
       "    var a_num = parseFloat(a);\n",
       "    var b_num = parseFloat(b);\n",
       "\n",
       "    if (isNaN(a_num) && isNaN(b_num))\n",
       "        return ((a < b) ? -1 : ((a > b) ? 1 : 0));\n",
       "    else if (!isNaN(a_num) && !isNaN(b_num))\n",
       "        return ((a_num < b_num) ? -1 : ((a_num > b_num) ? 1 : 0));\n",
       "    else\n",
       "        return isNaN(a_num) ? -1 : 1;\n",
       "}\n",
       "\n",
       "require.config({paths: {\n",
       "    datatables: 'https://cdn.datatables.net/1.10.12/js/jquery.dataTables.min'\n",
       "}});\n",
       "require([\"datatables\"], function(){\n",
       "    console.log(\"$('#table46945661815104-962258').dataTable()\");\n",
       "    \n",
       "jQuery.extend( jQuery.fn.dataTableExt.oSort, {\n",
       "    \"optionalnum-asc\": astropy_sort_num,\n",
       "    \"optionalnum-desc\": function (a,b) { return -astropy_sort_num(a, b); }\n",
       "});\n",
       "\n",
       "    $('#table46945661815104-962258').dataTable({\n",
       "        order: [],\n",
       "        pageLength: 50,\n",
       "        lengthMenu: [[10, 25, 50, 100, 500, 1000, -1], [10, 25, 50, 100, 500, 1000, 'All']],\n",
       "        pagingType: \"full_numbers\",\n",
       "        columnDefs: [{targets: [0, 3, 4, 5, 6, 8, 9, 10, 11, 12, 13, 14, 15, 16, 17], type: \"optionalnum\"}]\n",
       "    });\n",
       "});\n",
       "</script>\n"
      ],
      "text/plain": [
       "<IPython.core.display.HTML object>"
      ]
     },
     "execution_count": 8,
     "metadata": {},
     "output_type": "execute_result"
    }
   ],
   "source": [
    "tbl = Splatalogue.query_lines(239.9*u.GHz, 275*u.GHz, chemical_name=' H2CS ', line_lists=['JPL'], \n",
    "                              energy_max=150, energy_type='eu_k', show_qn_code=True)\n",
    "tbl.show_in_notebook()"
   ]
  },
  {
   "cell_type": "markdown",
   "metadata": {},
   "source": [
    "### Extract cubes from around each of the lines we detect in mean spectra"
   ]
  },
  {
   "cell_type": "code",
   "execution_count": 5,
   "metadata": {},
   "outputs": [
    {
     "name": "stderr",
     "output_type": "stream",
     "text": [
      "/blue/adamginsburg/abulatek/anaconda/lib/python3.7/site-packages/casa_formats_io-0.1-py3.7-linux-x86_64.egg/casa_formats_io/casa_dask.py:232: RuntimeWarning: divide by zero encountered in long_scalars\n",
      "  factors = [f for f in range(stacks[dim] + 1) if stacks[dim] % f == 0]\n",
      "WARNING: StokesWarning: Cube is a Stokes cube, returning spectral cube for I component [spectral_cube.io.core]\n"
     ]
    },
    {
     "ename": "OSError",
     "evalue": "File 'H2CS_404-303.fits' already exists.",
     "output_type": "error",
     "traceback": [
      "\u001b[0;31m---------------------------------------------------------------------------\u001b[0m",
      "\u001b[0;31mOSError\u001b[0m                                   Traceback (most recent call last)",
      "\u001b[0;32m<ipython-input-5-f2fb6c397512>\u001b[0m in \u001b[0;36m<module>\u001b[0;34m()\u001b[0m\n\u001b[1;32m      5\u001b[0m h2cscube = cube.with_spectral_unit(u.km/u.s, velocity_convention='radio', \n\u001b[1;32m      6\u001b[0m                                    rest_value=137.371051*u.GHz).spectral_slab(-10*u.km/u.s, 80*u.km/u.s)\n\u001b[0;32m----> 7\u001b[0;31m \u001b[0mh2cscube\u001b[0m\u001b[0;34m.\u001b[0m\u001b[0mwrite\u001b[0m\u001b[0;34m(\u001b[0m\u001b[0;34m'H2CS_404-303.fits'\u001b[0m\u001b[0;34m)\u001b[0m\u001b[0;34m\u001b[0m\u001b[0m\n\u001b[0m",
      "\u001b[0;32m/blue/adamginsburg/abulatek/anaconda/lib/python3.7/site-packages/spectral_cube-0.0.0-py3.7.egg/spectral_cube/dask_spectral_cube.py\u001b[0m in \u001b[0;36mwrite\u001b[0;34m(self, *args, **kwargs)\u001b[0m\n\u001b[1;32m   1366\u001b[0m     \u001b[0;32mdef\u001b[0m \u001b[0mwrite\u001b[0m\u001b[0;34m(\u001b[0m\u001b[0mself\u001b[0m\u001b[0;34m,\u001b[0m \u001b[0;34m*\u001b[0m\u001b[0margs\u001b[0m\u001b[0;34m,\u001b[0m \u001b[0;34m**\u001b[0m\u001b[0mkwargs\u001b[0m\u001b[0;34m)\u001b[0m\u001b[0;34m:\u001b[0m\u001b[0;34m\u001b[0m\u001b[0m\n\u001b[1;32m   1367\u001b[0m         \u001b[0;32mwith\u001b[0m \u001b[0mdask\u001b[0m\u001b[0;34m.\u001b[0m\u001b[0mconfig\u001b[0m\u001b[0;34m.\u001b[0m\u001b[0mset\u001b[0m\u001b[0;34m(\u001b[0m\u001b[0;34m**\u001b[0m\u001b[0mself\u001b[0m\u001b[0;34m.\u001b[0m\u001b[0m_scheduler_kwargs\u001b[0m\u001b[0;34m)\u001b[0m\u001b[0;34m:\u001b[0m\u001b[0;34m\u001b[0m\u001b[0m\n\u001b[0;32m-> 1368\u001b[0;31m             \u001b[0msuper\u001b[0m\u001b[0;34m(\u001b[0m\u001b[0;34m)\u001b[0m\u001b[0;34m.\u001b[0m\u001b[0mwrite\u001b[0m\u001b[0;34m(\u001b[0m\u001b[0;34m*\u001b[0m\u001b[0margs\u001b[0m\u001b[0;34m,\u001b[0m \u001b[0;34m**\u001b[0m\u001b[0mkwargs\u001b[0m\u001b[0;34m)\u001b[0m\u001b[0;34m\u001b[0m\u001b[0m\n\u001b[0m\u001b[1;32m   1369\u001b[0m \u001b[0;34m\u001b[0m\u001b[0m\n\u001b[1;32m   1370\u001b[0m     \u001b[0;34m@\u001b[0m\u001b[0mproperty\u001b[0m\u001b[0;34m\u001b[0m\u001b[0m\n",
      "\u001b[0;32m/blue/adamginsburg/abulatek/anaconda/lib/python3.7/site-packages/spectral_cube-0.0.0-py3.7.egg/spectral_cube/io/core.py\u001b[0m in \u001b[0;36m__call__\u001b[0;34m(self, serialize_method, *args, **kwargs)\u001b[0m\n\u001b[1;32m    129\u001b[0m \u001b[0;34m\u001b[0m\u001b[0m\n\u001b[1;32m    130\u001b[0m     \u001b[0;32mdef\u001b[0m \u001b[0m__call__\u001b[0m\u001b[0;34m(\u001b[0m\u001b[0mself\u001b[0m\u001b[0;34m,\u001b[0m \u001b[0;34m*\u001b[0m\u001b[0margs\u001b[0m\u001b[0;34m,\u001b[0m \u001b[0mserialize_method\u001b[0m\u001b[0;34m=\u001b[0m\u001b[0;32mNone\u001b[0m\u001b[0;34m,\u001b[0m \u001b[0;34m**\u001b[0m\u001b[0mkwargs\u001b[0m\u001b[0;34m)\u001b[0m\u001b[0;34m:\u001b[0m\u001b[0;34m\u001b[0m\u001b[0m\n\u001b[0;32m--> 131\u001b[0;31m         \u001b[0mregistry\u001b[0m\u001b[0;34m.\u001b[0m\u001b[0mwrite\u001b[0m\u001b[0;34m(\u001b[0m\u001b[0mself\u001b[0m\u001b[0;34m.\u001b[0m\u001b[0m_instance\u001b[0m\u001b[0;34m,\u001b[0m \u001b[0;34m*\u001b[0m\u001b[0margs\u001b[0m\u001b[0;34m,\u001b[0m \u001b[0;34m**\u001b[0m\u001b[0mkwargs\u001b[0m\u001b[0;34m)\u001b[0m\u001b[0;34m\u001b[0m\u001b[0m\n\u001b[0m\u001b[1;32m    132\u001b[0m \u001b[0;34m\u001b[0m\u001b[0m\n\u001b[1;32m    133\u001b[0m \u001b[0;34m\u001b[0m\u001b[0m\n",
      "\u001b[0;32m/blue/adamginsburg/abulatek/anaconda/lib/python3.7/site-packages/astropy/io/registry.py\u001b[0m in \u001b[0;36mwrite\u001b[0;34m(data, format, *args, **kwargs)\u001b[0m\n\u001b[1;32m    561\u001b[0m \u001b[0;34m\u001b[0m\u001b[0m\n\u001b[1;32m    562\u001b[0m     \u001b[0mwriter\u001b[0m \u001b[0;34m=\u001b[0m \u001b[0mget_writer\u001b[0m\u001b[0;34m(\u001b[0m\u001b[0mformat\u001b[0m\u001b[0;34m,\u001b[0m \u001b[0mdata\u001b[0m\u001b[0;34m.\u001b[0m\u001b[0m__class__\u001b[0m\u001b[0;34m)\u001b[0m\u001b[0;34m\u001b[0m\u001b[0m\n\u001b[0;32m--> 563\u001b[0;31m     \u001b[0mwriter\u001b[0m\u001b[0;34m(\u001b[0m\u001b[0mdata\u001b[0m\u001b[0;34m,\u001b[0m \u001b[0;34m*\u001b[0m\u001b[0margs\u001b[0m\u001b[0;34m,\u001b[0m \u001b[0;34m**\u001b[0m\u001b[0mkwargs\u001b[0m\u001b[0;34m)\u001b[0m\u001b[0;34m\u001b[0m\u001b[0m\n\u001b[0m\u001b[1;32m    564\u001b[0m \u001b[0;34m\u001b[0m\u001b[0m\n\u001b[1;32m    565\u001b[0m \u001b[0;34m\u001b[0m\u001b[0m\n",
      "\u001b[0;32m/blue/adamginsburg/abulatek/anaconda/lib/python3.7/site-packages/spectral_cube-0.0.0-py3.7.egg/spectral_cube/io/fits.py\u001b[0m in \u001b[0;36mwrite_fits_cube\u001b[0;34m(cube, filename, overwrite, include_origin_notes)\u001b[0m\n\u001b[1;32m    235\u001b[0m                                                         date=now))\n\u001b[1;32m    236\u001b[0m         \u001b[0;32mtry\u001b[0m\u001b[0;34m:\u001b[0m\u001b[0;34m\u001b[0m\u001b[0m\n\u001b[0;32m--> 237\u001b[0;31m             \u001b[0mhdulist\u001b[0m\u001b[0;34m.\u001b[0m\u001b[0mwriteto\u001b[0m\u001b[0;34m(\u001b[0m\u001b[0mfilename\u001b[0m\u001b[0;34m,\u001b[0m \u001b[0moverwrite\u001b[0m\u001b[0;34m=\u001b[0m\u001b[0moverwrite\u001b[0m\u001b[0;34m)\u001b[0m\u001b[0;34m\u001b[0m\u001b[0m\n\u001b[0m\u001b[1;32m    238\u001b[0m         \u001b[0;32mexcept\u001b[0m \u001b[0mTypeError\u001b[0m\u001b[0;34m:\u001b[0m\u001b[0;34m\u001b[0m\u001b[0m\n\u001b[1;32m    239\u001b[0m             \u001b[0mhdulist\u001b[0m\u001b[0;34m.\u001b[0m\u001b[0mwriteto\u001b[0m\u001b[0;34m(\u001b[0m\u001b[0mfilename\u001b[0m\u001b[0;34m,\u001b[0m \u001b[0mclobber\u001b[0m\u001b[0;34m=\u001b[0m\u001b[0moverwrite\u001b[0m\u001b[0;34m)\u001b[0m\u001b[0;34m\u001b[0m\u001b[0m\n",
      "\u001b[0;32m/blue/adamginsburg/abulatek/anaconda/lib/python3.7/site-packages/astropy/utils/decorators.py\u001b[0m in \u001b[0;36mwrapper\u001b[0;34m(*args, **kwargs)\u001b[0m\n\u001b[1;32m    533\u001b[0m                     \u001b[0mwarnings\u001b[0m\u001b[0;34m.\u001b[0m\u001b[0mwarn\u001b[0m\u001b[0;34m(\u001b[0m\u001b[0mmessage\u001b[0m\u001b[0;34m,\u001b[0m \u001b[0mwarning_type\u001b[0m\u001b[0;34m,\u001b[0m \u001b[0mstacklevel\u001b[0m\u001b[0;34m=\u001b[0m\u001b[0;36m2\u001b[0m\u001b[0;34m)\u001b[0m\u001b[0;34m\u001b[0m\u001b[0m\n\u001b[1;32m    534\u001b[0m \u001b[0;34m\u001b[0m\u001b[0m\n\u001b[0;32m--> 535\u001b[0;31m             \u001b[0;32mreturn\u001b[0m \u001b[0mfunction\u001b[0m\u001b[0;34m(\u001b[0m\u001b[0;34m*\u001b[0m\u001b[0margs\u001b[0m\u001b[0;34m,\u001b[0m \u001b[0;34m**\u001b[0m\u001b[0mkwargs\u001b[0m\u001b[0;34m)\u001b[0m\u001b[0;34m\u001b[0m\u001b[0m\n\u001b[0m\u001b[1;32m    536\u001b[0m \u001b[0;34m\u001b[0m\u001b[0m\n\u001b[1;32m    537\u001b[0m         \u001b[0;32mreturn\u001b[0m \u001b[0mwrapper\u001b[0m\u001b[0;34m\u001b[0m\u001b[0m\n",
      "\u001b[0;32m/blue/adamginsburg/abulatek/anaconda/lib/python3.7/site-packages/astropy/io/fits/hdu/hdulist.py\u001b[0m in \u001b[0;36mwriteto\u001b[0;34m(self, fileobj, output_verify, overwrite, checksum)\u001b[0m\n\u001b[1;32m    931\u001b[0m         \u001b[0;31m# This can accept an open file object that's open to write only, or in\u001b[0m\u001b[0;34m\u001b[0m\u001b[0;34m\u001b[0m\u001b[0m\n\u001b[1;32m    932\u001b[0m         \u001b[0;31m# append/update modes but only if the file doesn't exist.\u001b[0m\u001b[0;34m\u001b[0m\u001b[0;34m\u001b[0m\u001b[0m\n\u001b[0;32m--> 933\u001b[0;31m         \u001b[0mfileobj\u001b[0m \u001b[0;34m=\u001b[0m \u001b[0m_File\u001b[0m\u001b[0;34m(\u001b[0m\u001b[0mfileobj\u001b[0m\u001b[0;34m,\u001b[0m \u001b[0mmode\u001b[0m\u001b[0;34m=\u001b[0m\u001b[0mmode\u001b[0m\u001b[0;34m,\u001b[0m \u001b[0moverwrite\u001b[0m\u001b[0;34m=\u001b[0m\u001b[0moverwrite\u001b[0m\u001b[0;34m)\u001b[0m\u001b[0;34m\u001b[0m\u001b[0m\n\u001b[0m\u001b[1;32m    934\u001b[0m         \u001b[0mhdulist\u001b[0m \u001b[0;34m=\u001b[0m \u001b[0mself\u001b[0m\u001b[0;34m.\u001b[0m\u001b[0mfromfile\u001b[0m\u001b[0;34m(\u001b[0m\u001b[0mfileobj\u001b[0m\u001b[0;34m)\u001b[0m\u001b[0;34m\u001b[0m\u001b[0m\n\u001b[1;32m    935\u001b[0m         \u001b[0;32mtry\u001b[0m\u001b[0;34m:\u001b[0m\u001b[0;34m\u001b[0m\u001b[0m\n",
      "\u001b[0;32m/blue/adamginsburg/abulatek/anaconda/lib/python3.7/site-packages/astropy/utils/decorators.py\u001b[0m in \u001b[0;36mwrapper\u001b[0;34m(*args, **kwargs)\u001b[0m\n\u001b[1;32m    533\u001b[0m                     \u001b[0mwarnings\u001b[0m\u001b[0;34m.\u001b[0m\u001b[0mwarn\u001b[0m\u001b[0;34m(\u001b[0m\u001b[0mmessage\u001b[0m\u001b[0;34m,\u001b[0m \u001b[0mwarning_type\u001b[0m\u001b[0;34m,\u001b[0m \u001b[0mstacklevel\u001b[0m\u001b[0;34m=\u001b[0m\u001b[0;36m2\u001b[0m\u001b[0;34m)\u001b[0m\u001b[0;34m\u001b[0m\u001b[0m\n\u001b[1;32m    534\u001b[0m \u001b[0;34m\u001b[0m\u001b[0m\n\u001b[0;32m--> 535\u001b[0;31m             \u001b[0;32mreturn\u001b[0m \u001b[0mfunction\u001b[0m\u001b[0;34m(\u001b[0m\u001b[0;34m*\u001b[0m\u001b[0margs\u001b[0m\u001b[0;34m,\u001b[0m \u001b[0;34m**\u001b[0m\u001b[0mkwargs\u001b[0m\u001b[0;34m)\u001b[0m\u001b[0;34m\u001b[0m\u001b[0m\n\u001b[0m\u001b[1;32m    536\u001b[0m \u001b[0;34m\u001b[0m\u001b[0m\n\u001b[1;32m    537\u001b[0m         \u001b[0;32mreturn\u001b[0m \u001b[0mwrapper\u001b[0m\u001b[0;34m\u001b[0m\u001b[0m\n",
      "\u001b[0;32m/blue/adamginsburg/abulatek/anaconda/lib/python3.7/site-packages/astropy/io/fits/file.py\u001b[0m in \u001b[0;36m__init__\u001b[0;34m(self, fileobj, mode, memmap, overwrite, cache)\u001b[0m\n\u001b[1;32m    173\u001b[0m             \u001b[0mself\u001b[0m\u001b[0;34m.\u001b[0m\u001b[0m_open_fileobj\u001b[0m\u001b[0;34m(\u001b[0m\u001b[0mfileobj\u001b[0m\u001b[0;34m,\u001b[0m \u001b[0mmode\u001b[0m\u001b[0;34m,\u001b[0m \u001b[0moverwrite\u001b[0m\u001b[0;34m)\u001b[0m\u001b[0;34m\u001b[0m\u001b[0m\n\u001b[1;32m    174\u001b[0m         \u001b[0;32melif\u001b[0m \u001b[0misinstance\u001b[0m\u001b[0;34m(\u001b[0m\u001b[0mfileobj\u001b[0m\u001b[0;34m,\u001b[0m \u001b[0;34m(\u001b[0m\u001b[0mstr\u001b[0m\u001b[0;34m,\u001b[0m \u001b[0mbytes\u001b[0m\u001b[0;34m)\u001b[0m\u001b[0;34m)\u001b[0m\u001b[0;34m:\u001b[0m\u001b[0;34m\u001b[0m\u001b[0m\n\u001b[0;32m--> 175\u001b[0;31m             \u001b[0mself\u001b[0m\u001b[0;34m.\u001b[0m\u001b[0m_open_filename\u001b[0m\u001b[0;34m(\u001b[0m\u001b[0mfileobj\u001b[0m\u001b[0;34m,\u001b[0m \u001b[0mmode\u001b[0m\u001b[0;34m,\u001b[0m \u001b[0moverwrite\u001b[0m\u001b[0;34m)\u001b[0m\u001b[0;34m\u001b[0m\u001b[0m\n\u001b[0m\u001b[1;32m    176\u001b[0m         \u001b[0;32melse\u001b[0m\u001b[0;34m:\u001b[0m\u001b[0;34m\u001b[0m\u001b[0m\n\u001b[1;32m    177\u001b[0m             \u001b[0mself\u001b[0m\u001b[0;34m.\u001b[0m\u001b[0m_open_filelike\u001b[0m\u001b[0;34m(\u001b[0m\u001b[0mfileobj\u001b[0m\u001b[0;34m,\u001b[0m \u001b[0mmode\u001b[0m\u001b[0;34m,\u001b[0m \u001b[0moverwrite\u001b[0m\u001b[0;34m)\u001b[0m\u001b[0;34m\u001b[0m\u001b[0m\n",
      "\u001b[0;32m/blue/adamginsburg/abulatek/anaconda/lib/python3.7/site-packages/astropy/io/fits/file.py\u001b[0m in \u001b[0;36m_open_filename\u001b[0;34m(self, filename, mode, overwrite)\u001b[0m\n\u001b[1;32m    551\u001b[0m \u001b[0;34m\u001b[0m\u001b[0m\n\u001b[1;32m    552\u001b[0m         \u001b[0;32mif\u001b[0m \u001b[0mmode\u001b[0m \u001b[0;34m==\u001b[0m \u001b[0;34m'ostream'\u001b[0m\u001b[0;34m:\u001b[0m\u001b[0;34m\u001b[0m\u001b[0m\n\u001b[0;32m--> 553\u001b[0;31m             \u001b[0mself\u001b[0m\u001b[0;34m.\u001b[0m\u001b[0m_overwrite_existing\u001b[0m\u001b[0;34m(\u001b[0m\u001b[0moverwrite\u001b[0m\u001b[0;34m,\u001b[0m \u001b[0;32mNone\u001b[0m\u001b[0;34m,\u001b[0m \u001b[0;32mTrue\u001b[0m\u001b[0;34m)\u001b[0m\u001b[0;34m\u001b[0m\u001b[0m\n\u001b[0m\u001b[1;32m    554\u001b[0m \u001b[0;34m\u001b[0m\u001b[0m\n\u001b[1;32m    555\u001b[0m         \u001b[0;32mif\u001b[0m \u001b[0mos\u001b[0m\u001b[0;34m.\u001b[0m\u001b[0mpath\u001b[0m\u001b[0;34m.\u001b[0m\u001b[0mexists\u001b[0m\u001b[0;34m(\u001b[0m\u001b[0mself\u001b[0m\u001b[0;34m.\u001b[0m\u001b[0mname\u001b[0m\u001b[0;34m)\u001b[0m\u001b[0;34m:\u001b[0m\u001b[0;34m\u001b[0m\u001b[0m\n",
      "\u001b[0;32m/blue/adamginsburg/abulatek/anaconda/lib/python3.7/site-packages/astropy/io/fits/file.py\u001b[0m in \u001b[0;36m_overwrite_existing\u001b[0;34m(self, overwrite, fileobj, closed)\u001b[0m\n\u001b[1;32m    441\u001b[0m                     \u001b[0mos\u001b[0m\u001b[0;34m.\u001b[0m\u001b[0mremove\u001b[0m\u001b[0;34m(\u001b[0m\u001b[0mself\u001b[0m\u001b[0;34m.\u001b[0m\u001b[0mname\u001b[0m\u001b[0;34m)\u001b[0m\u001b[0;34m\u001b[0m\u001b[0m\n\u001b[1;32m    442\u001b[0m             \u001b[0;32melse\u001b[0m\u001b[0;34m:\u001b[0m\u001b[0;34m\u001b[0m\u001b[0m\n\u001b[0;32m--> 443\u001b[0;31m                 \u001b[0;32mraise\u001b[0m \u001b[0mOSError\u001b[0m\u001b[0;34m(\u001b[0m\u001b[0;34mf\"File {self.name!r} already exists.\"\u001b[0m\u001b[0;34m)\u001b[0m\u001b[0;34m\u001b[0m\u001b[0m\n\u001b[0m\u001b[1;32m    444\u001b[0m \u001b[0;34m\u001b[0m\u001b[0m\n\u001b[1;32m    445\u001b[0m     \u001b[0;32mdef\u001b[0m \u001b[0m_try_read_compressed\u001b[0m\u001b[0;34m(\u001b[0m\u001b[0mself\u001b[0m\u001b[0;34m,\u001b[0m \u001b[0mobj_or_name\u001b[0m\u001b[0;34m,\u001b[0m \u001b[0mmagic\u001b[0m\u001b[0;34m,\u001b[0m \u001b[0mmode\u001b[0m\u001b[0;34m,\u001b[0m \u001b[0mext\u001b[0m\u001b[0;34m=\u001b[0m\u001b[0;34m''\u001b[0m\u001b[0;34m)\u001b[0m\u001b[0;34m:\u001b[0m\u001b[0;34m\u001b[0m\u001b[0m\n",
      "\u001b[0;31mOSError\u001b[0m: File 'H2CS_404-303.fits' already exists."
     ]
    }
   ],
   "source": [
    "results = '/blue/adamginsburg/abulatek/brick/symlinks/imaging_results/'\n",
    "freq_spw = '137_spw69'\n",
    "fn = results+'source_ab_'+freq_spw+'_clean_2sigma_n50000_masked_3sigma_pbmask0p18.image'\n",
    "cube = SpectralCube.read(fn, format='casa_image')\n",
    "h2cscube = cube.with_spectral_unit(u.km/u.s, velocity_convention='radio', \n",
    "                                   rest_value=137.371051*u.GHz).spectral_slab(-10*u.km/u.s, 80*u.km/u.s)\n",
    "h2cscube.write('H2CS_404-303.fits')"
   ]
  },
  {
   "cell_type": "code",
   "execution_count": null,
   "metadata": {},
   "outputs": [],
   "source": [
    "results = '/blue/adamginsburg/abulatek/brick/symlinks/imaging_results/'\n",
    "freq_spw = '102_spw29'\n",
    "fn = results+'source_ab_'+freq_spw+'_clean_2sigma_n50000_masked_3sigma_pbmask0p18.image'\n",
    "cube = SpectralCube.read(fn, format='casa_image')\n",
    "h2cscube = cube.with_spectral_unit(u.km/u.s, velocity_convention='radio', \n",
    "                                   rest_value=103.04022*u.GHz).spectral_slab(-10*u.km/u.s, 80*u.km/u.s)\n",
    "h2cscube.write('H2CS_303-202.fits')"
   ]
  },
  {
   "cell_type": "code",
   "execution_count": null,
   "metadata": {},
   "outputs": [],
   "source": [
    "results = '/blue/adamginsburg/abulatek/brick/symlinks/imaging_results/'\n",
    "freq_spw = '102_spw23'\n",
    "fn = results+'source_ab_'+freq_spw+'_clean_2sigma_n50000_masked_3sigma_pbmask0p18.image'\n",
    "cube = SpectralCube.read(fn, format='casa_image')\n",
    "h2cscube = cube.with_spectral_unit(u.km/u.s, velocity_convention='radio', \n",
    "                                   rest_value=101.47762*u.GHz).spectral_slab(-10*u.km/u.s, 80*u.km/u.s)\n",
    "h2cscube.write('H2CS_313-212.fits')"
   ]
  },
  {
   "cell_type": "code",
   "execution_count": null,
   "metadata": {},
   "outputs": [],
   "source": [
    "results = '/blue/adamginsburg/abulatek/brick/symlinks/imaging_results/'\n",
    "freq_spw = '103_spw31'\n",
    "fn = results+'source_ab_'+freq_spw+'_clean_2sigma_n50000_masked_3sigma_pbmask0p18.image'\n",
    "cube = SpectralCube.read(fn, format='casa_image')\n",
    "h2cscube = cube.with_spectral_unit(u.km/u.s, velocity_convention='radio', \n",
    "                                   rest_value=104.61704*u.GHz).spectral_slab(-10*u.km/u.s, 80*u.km/u.s)\n",
    "h2cscube.write('H2CS_312-211.fits')"
   ]
  },
  {
   "cell_type": "code",
   "execution_count": null,
   "metadata": {},
   "outputs": [],
   "source": [
    "results = '/blue/adamginsburg/abulatek/brick/symlinks/imaging_results/'\n",
    "freq_spw = '135_spw47'\n",
    "fn = results+'source_ab_'+freq_spw+'_clean_2sigma_n50000_masked_3sigma_pbmask0p18.image'\n",
    "cube = SpectralCube.read(fn, format='casa_image')\n",
    "h2cscube = cube.with_spectral_unit(u.km/u.s, velocity_convention='radio', \n",
    "                                   rest_value=135.297811*u.GHz).spectral_slab(-10*u.km/u.s, 80*u.km/u.s)\n",
    "h2cscube.write('H2CS_414-313.fits')"
   ]
  },
  {
   "cell_type": "code",
   "execution_count": null,
   "metadata": {},
   "outputs": [],
   "source": [
    "results = '/blue/adamginsburg/abulatek/brick/symlinks/imaging_results/'\n",
    "freq_spw = '139_spw71'\n",
    "fn = results+'source_ab_'+freq_spw+'_clean_2sigma_n50000_masked_3sigma_pbmask0p18.image'\n",
    "cube = SpectralCube.read(fn, format='casa_image')\n",
    "h2cscube = cube.with_spectral_unit(u.km/u.s, velocity_convention='radio', \n",
    "                                   rest_value=139.48341*u.GHz).spectral_slab(-10*u.km/u.s, 80*u.km/u.s)\n",
    "h2cscube.write('H2CS_413-312.fits')"
   ]
  },
  {
   "cell_type": "markdown",
   "metadata": {},
   "source": [
    "### Make moment maps out of each of these subcubes"
   ]
  },
  {
   "cell_type": "code",
   "execution_count": 25,
   "metadata": {},
   "outputs": [],
   "source": [
    "def get_noise_map(cube_noise):\n",
    "    cube_sclip = cube_noise.sigma_clip_spectrally(3) # Clip values above 3-sigma \n",
    "    mad_std_spectrum_sclip = cube_sclip.mad_std(axis=(1, 2))\n",
    "    plt.plot(mad_std_spectrum_sclip.spectral_axis.value, mad_std_spectrum_sclip.value, \n",
    "             drawstyle='steps-mid')\n",
    "    plt.xlabel('Velocity (km/s)')\n",
    "    plt.ylabel(r' Noise standard deviation $\\sigma$ (K)')\n",
    "    plt.ylim([0., 0.30]) # Best to extend the range to 0.\n",
    "    plt.axhline(0.25, linestyle='--', color='k', linewidth=3, label='A priori noise expectation')\n",
    "    plt.legend(frameon=True)\n",
    "    mad_std_map_sclip = cube_sclip.mad_std(axis=0) # Calculate sigma along the spectral dimension\n",
    "    return mad_std_map_sclip\n",
    "\n",
    "def get_signal_mask_scipy(cube_signal, mad_std_map_sclip):\n",
    "    '''Please pass an already-masked cube to cube_signal'''\n",
    "    # Make a low and high mask\n",
    "    low_snr_mask = (cube_signal > 3 * mad_std_map_sclip).include()\n",
    "    high_snr_mask = (cube_signal > 10 * mad_std_map_sclip).include()\n",
    "    low_snr_mask = low_snr_mask.compute() # We need to convert from a dask array to a numpy array.\n",
    "    high_snr_mask = high_snr_mask.compute()\n",
    "    # Find connected structures\n",
    "    structure = np.ones((3, 3, 3), dtype=bool)\n",
    "    low_snr_mask_labels, num_labels = nd.label(low_snr_mask, structure=structure)\n",
    "    print(f\"Initial number of regions found: {num_labels}\")\n",
    "    # From the labels, count the number of pixels within each label.\n",
    "    num_pixels_in_high_snr_mask = nd.sum(high_snr_mask,\n",
    "                                         labels=low_snr_mask_labels,\n",
    "                                         index=range(1, num_labels + 1)) # +1 offset for mask labels\n",
    "    # Repeat for the high signal mask.\n",
    "    num_pixels_in_low_snr_mask = nd.sum(low_snr_mask,\n",
    "                                        labels=low_snr_mask_labels,\n",
    "                                        index=range(1, num_labels + 1)) # +1 offset for mask labels\n",
    "    # To preserve the low_snr_mask, we will create a new signal mask where we will remove \n",
    "    # regions that do not pass the criteria.\n",
    "    signal_mask = low_snr_mask\n",
    "    low_min_pixels = 40\n",
    "    high_min_pixels = 10\n",
    "    for num, (high_pix_num, low_pix_num) in enumerate(zip(num_pixels_in_high_snr_mask, \n",
    "                                                          num_pixels_in_low_snr_mask)):\n",
    "        if high_pix_num >= high_min_pixels and low_pix_num >= low_min_pixels:\n",
    "            # This region passes the criteria. Keep it in the mask.\n",
    "            continue\n",
    "        # Remove regions that do not pass the criteria.\n",
    "        # NOTE: enumerate will start with 0, but the mask labels start at 1\n",
    "        # We apply a +1 offset to `num` to account for this.\n",
    "        signal_mask[low_snr_mask_labels == num + 1] = False\n",
    "    signal_mask_labels, num_labels = nd.label(signal_mask,\n",
    "                                              structure=structure)\n",
    "    print(f\"Final number of regions found: {num_labels}\")\n",
    "    signal_mask = nd.binary_dilation(signal_mask, structure=structure, iterations=1)\n",
    "    return signal_mask"
   ]
  },
  {
   "cell_type": "code",
   "execution_count": 31,
   "metadata": {},
   "outputs": [
    {
     "data": {
      "text/plain": [
       "DaskVaryingResolutionSpectralCube with shape=(86, 512, 512) and unit=Jy / beam and chunk size (86, 512, 512):\n",
       " n_x:    512  type_x: RA---SIN  unit_x: deg    range:   266.528130 deg:  266.560501 deg\n",
       " n_y:    512  type_y: DEC--SIN  unit_y: deg    range:   -28.719152 deg:  -28.690763 deg\n",
       " n_s:     86  type_s: VRAD      unit_s: km / s  range:      -10.386 km / s:      80.192 km / s"
      ]
     },
     "execution_count": 31,
     "metadata": {},
     "output_type": "execute_result"
    }
   ],
   "source": [
    "# Get overall cube\n",
    "cube = SpectralCube.read('H2CS_404-303.fits', use_dask=True)\n",
    "cube"
   ]
  },
  {
   "cell_type": "code",
   "execution_count": 32,
   "metadata": {},
   "outputs": [
    {
     "data": {
      "image/png": "[encoded data removed]",
      "text/plain": [
       "<Figure size 432x288 with 1 Axes>"
      ]
     },
     "metadata": {
      "needs_background": "light"
     },
     "output_type": "display_data"
    }
   ],
   "source": [
    "# Get noise map\n",
    "mad_std_map_sclip = get_noise_map(cube)"
   ]
  },
  {
   "cell_type": "code",
   "execution_count": 33,
   "metadata": {},
   "outputs": [],
   "source": [
    "plain_mask = cube >= 3 * mad_std_map_sclip\n",
    "plain_masked_slab = cube.with_mask(plain_mask)"
   ]
  },
  {
   "cell_type": "code",
   "execution_count": null,
   "metadata": {},
   "outputs": [
    {
     "name": "stdout",
     "output_type": "stream",
     "text": [
      "Initial number of regions found: 1725\n"
     ]
    }
   ],
   "source": [
    "signal_mask = get_signal_mask_scipy(plain_masked_slab, mad_std_map_sclip)\n",
    "masked_cube = plain_masked_slab.with_mask(signal_mask)"
   ]
  },
  {
   "cell_type": "code",
   "execution_count": null,
   "metadata": {},
   "outputs": [],
   "source": [
    "masked_moment0 = masked_cube.moment0() # masked_cubes[n]\n",
    "\n",
    "ax = plt.subplot(projection=masked_moment0.wcs)\n",
    "im = ax.imshow(masked_moment0.value, origin='lower', cmap='inferno')\n",
    "cbar = plt.colorbar(im)\n",
    "cbar.set_label('Integrated Intensity (K km/s)')\n",
    "ax.set_ylabel('Declination')\n",
    "ax.set_xlabel('Right Ascension')"
   ]
  },
  {
   "cell_type": "code",
   "execution_count": null,
   "metadata": {},
   "outputs": [],
   "source": [
    "masked_moment1 = masked_cube.moment1() # masked_cubes[n]\n",
    "\n",
    "ax = plt.subplot(projection=masked_moment1.wcs)\n",
    "im = ax.imshow(masked_moment1.value, origin='lower', cmap='coolwarm')\n",
    "cbar = plt.colorbar(im)\n",
    "cbar.set_label('Centroid (km/s)')\n",
    "\n",
    "ax.set_ylabel('Declination')\n",
    "ax.set_xlabel('Right Ascension')"
   ]
  }
 ],
 "metadata": {
  "kernelspec": {
   "display_name": "Python 3",
   "language": "python",
   "name": "python3"
  },
  "language_info": {
   "codemirror_mode": {
    "name": "ipython",
    "version": 3
   },
   "file_extension": ".py",
   "mimetype": "text/x-python",
   "name": "python",
   "nbconvert_exporter": "python",
   "pygments_lexer": "ipython3",
   "version": "3.7.0"
  }
 },
 "nbformat": 4,
 "nbformat_minor": 2
}
