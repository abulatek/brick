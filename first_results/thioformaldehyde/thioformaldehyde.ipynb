{
 "cells": [
  {
   "cell_type": "code",
   "execution_count": 1,
   "metadata": {},
   "outputs": [],
   "source": [
    "# Make thioformaldehyde (H2CS) cubes for inspection with DS9\n",
    "from astroquery.splatalogue import Splatalogue\n",
    "from spectral_cube import SpectralCube\n",
    "from astropy import units as u\n",
    "import matplotlib.pyplot as plt\n",
    "import numpy as np\n",
    "import scipy.ndimage as nd"
   ]
  },
  {
   "cell_type": "markdown",
   "metadata": {},
   "source": [
    "### Use Splatalogue to query H2CS lines in Bands 3 and 4, then Band 6 (observed)"
   ]
  },
  {
   "cell_type": "code",
   "execution_count": 2,
   "metadata": {},
   "outputs": [
    {
     "data": {
      "text/html": [
       "<i>Table length=12</i>\n",
       "<table id=\"table47319293667312-195706\" class=\"table-striped table-bordered table-condensed\">\n",
       "<thead><tr><th>idx</th><th>Species</th><th>Chemical Name</th><th>Freq-GHz(rest frame,redshifted)</th><th>Freq Err(rest frame,redshifted)</th><th>Meas Freq-GHz(rest frame,redshifted)</th><th>Meas Freq Err(rest frame,redshifted)</th><th>Resolved QNs</th><th>CDMS/JPL Intensity</th><th>S&lt;sub&gt;ij&lt;/sub&gt;&amp;#956;&lt;sup&gt;2&lt;/sup&gt; (D&lt;sup&gt;2&lt;/sup&gt;)</th><th>S&lt;sub&gt;ij&lt;/sub&gt;</th><th>Log&lt;sub&gt;10&lt;/sub&gt; (A&lt;sub&gt;ij&lt;/sub&gt;)</th><th>Lovas/AST Intensity</th><th>E_L (cm^-1)</th><th>E_L (K)</th><th>E_U (cm^-1)</th><th>E_U (K)</th><th>Quantum Number Code</th><th>Linelist</th></tr></thead>\n",
       "<tr><td>0</td><td>H2CS</td><td>Thioformaldehyde</td><td>--</td><td>--</td><td>101.47762</td><td>0.00012</td><td>3(1,3)-2(1,2)</td><td>-3.6341</td><td>21.69902</td><td>7.98</td><td>-4.90073</td><td>0.49</td><td>12.5521</td><td>18.05957</td><td>15.93703</td><td>22.9297</td><td>303</td><td>JPL</td></tr>\n",
       "<tr><td>1</td><td>H2CS</td><td>Thioformaldehyde</td><td>--</td><td>--</td><td>103.03999</td><td>0.0001</td><td>3(2,2)-2(2,1)</td><td>-4.3594</td><td>4.52097</td><td>1.663</td><td>-5.08492</td><td>0.2</td><td>40.0668</td><td>57.64686</td><td>43.50384</td><td>62.59197</td><td>303</td><td>JPL</td></tr>\n",
       "<tr><td>2</td><td>H2CS</td><td>Thioformaldehyde</td><td>--</td><td>--</td><td>103.04022</td><td>0.00015</td><td>3(0,3)-2(0,2)</td><td>-4.0278</td><td>8.13836</td><td>2.993</td><td>-4.82961</td><td>0.2</td><td>3.4374</td><td>4.94562</td><td>6.87445</td><td>9.89075</td><td>303</td><td>JPL</td></tr>\n",
       "<tr><td>3</td><td>H2CS</td><td>Thioformaldehyde</td><td>--</td><td>--</td><td>103.05181</td><td>0.00028</td><td>3(2,1)-2(2,0)</td><td>-4.3593</td><td>4.52098</td><td>1.663</td><td>-5.08476</td><td>0.13</td><td>40.0669</td><td>57.647</td><td>43.50434</td><td>62.59268</td><td>303</td><td>JPL</td></tr>\n",
       "<tr><td>4</td><td>H2CS</td><td>Thioformaldehyde</td><td>--</td><td>--</td><td>104.61704</td><td>7e-05</td><td>3(1,2)-2(1,1)</td><td>-3.6079</td><td>21.70215</td><td>7.981</td><td>-4.86098</td><td>0.77</td><td>12.6568</td><td>18.21021</td><td>16.14645</td><td>23.231</td><td>303</td><td>JPL</td></tr>\n",
       "<tr><td>5</td><td>H2CS</td><td>Thioformaldehyde</td><td>--</td><td>--</td><td>135.297811</td><td>0.00025</td><td>4(1,4)-3(1,3)</td><td>-3.2444</td><td>30.5155</td><td>11.222</td><td>-4.48704</td><td>0.64</td><td>15.937</td><td>22.92966</td><td>20.45005</td><td>29.42289</td><td>303</td><td>JPL</td></tr>\n",
       "<tr><td>6</td><td>H2CS</td><td>Thioformaldehyde</td><td>--</td><td>--</td><td>137.36917</td><td>0.00025</td><td>4(3,2)-3(3,1)</td><td>-3.7147</td><td>14.24214</td><td>5.238</td><td>-4.79819</td><td>b</td><td>89.1451</td><td>128.25918</td><td>93.72724</td><td>134.85182</td><td>303</td><td>JPL</td></tr>\n",
       "<tr><td>7</td><td>H2CS</td><td>Thioformaldehyde</td><td>--</td><td>--</td><td>137.36917</td><td>0.00025</td><td>4(3,2)-3(3,1)</td><td>-3.7147</td><td>14.24214</td><td>5.238</td><td>-4.79819</td><td>b</td><td>89.1451</td><td>128.25918</td><td>93.72724</td><td>134.85182</td><td>303</td><td>JPL</td></tr>\n",
       "<tr><td>8</td><td>H2CS</td><td>Thioformaldehyde</td><td>--</td><td>--</td><td>137.371051</td><td>0.0003</td><td>4(0,4)-3(0,3)</td><td>-3.6615</td><td>10.84945</td><td>3.99</td><td>-4.43922</td><td>0.37</td><td>6.8745</td><td>9.89082</td><td>11.45671</td><td>16.48355</td><td>303</td><td>JPL</td></tr>\n",
       "<tr><td>9</td><td>H2CS</td><td>Thioformaldehyde</td><td>--</td><td>--</td><td>137.382029</td><td>0.00032</td><td>4(2,3)-3(2,2)</td><td>-3.8626</td><td>8.13826</td><td>2.993</td><td>-4.56399</td><td>0.10</td><td>43.5038</td><td>62.5919</td><td>48.08637</td><td>69.18516</td><td>303</td><td>JPL</td></tr>\n",
       "<tr><td>10</td><td>H2CS</td><td>Thioformaldehyde</td><td>--</td><td>--</td><td>137.41177</td><td>0.00025</td><td>4(2,2)-3(2,1)</td><td>-3.8624</td><td>8.13852</td><td>2.993</td><td>-4.56369</td><td>0.09</td><td>43.5043</td><td>62.59262</td><td>48.08786</td><td>69.18731</td><td>303</td><td>JPL</td></tr>\n",
       "<tr><td>11</td><td>H2CS</td><td>Thioformaldehyde</td><td>--</td><td>--</td><td>139.48341</td><td>0.00028</td><td>4(1,3)-3(1,2)</td><td>-3.2185</td><td>30.51674</td><td>11.223</td><td>-4.44732</td><td>0.17</td><td>16.1465</td><td>23.23108</td><td>20.79917</td><td>29.92519</td><td>303</td><td>JPL</td></tr>\n",
       "</table><style>table.dataTable {clear: both; width: auto !important; margin: 0 !important;}\n",
       ".dataTables_info, .dataTables_length, .dataTables_filter, .dataTables_paginate{\n",
       "display: inline-block; margin-right: 1em; }\n",
       ".paginate_button { margin-right: 5px; }\n",
       "</style>\n",
       "<script>\n",
       "\n",
       "var astropy_sort_num = function(a, b) {\n",
       "    var a_num = parseFloat(a);\n",
       "    var b_num = parseFloat(b);\n",
       "\n",
       "    if (isNaN(a_num) && isNaN(b_num))\n",
       "        return ((a < b) ? -1 : ((a > b) ? 1 : 0));\n",
       "    else if (!isNaN(a_num) && !isNaN(b_num))\n",
       "        return ((a_num < b_num) ? -1 : ((a_num > b_num) ? 1 : 0));\n",
       "    else\n",
       "        return isNaN(a_num) ? -1 : 1;\n",
       "}\n",
       "\n",
       "require.config({paths: {\n",
       "    datatables: 'https://cdn.datatables.net/1.10.12/js/jquery.dataTables.min'\n",
       "}});\n",
       "require([\"datatables\"], function(){\n",
       "    console.log(\"$('#table47319293667312-195706').dataTable()\");\n",
       "    \n",
       "jQuery.extend( jQuery.fn.dataTableExt.oSort, {\n",
       "    \"optionalnum-asc\": astropy_sort_num,\n",
       "    \"optionalnum-desc\": function (a,b) { return -astropy_sort_num(a, b); }\n",
       "});\n",
       "\n",
       "    $('#table47319293667312-195706').dataTable({\n",
       "        order: [],\n",
       "        pageLength: 50,\n",
       "        lengthMenu: [[10, 25, 50, 100, 500, 1000, -1], [10, 25, 50, 100, 500, 1000, 'All']],\n",
       "        pagingType: \"full_numbers\",\n",
       "        columnDefs: [{targets: [0, 3, 4, 5, 6, 8, 9, 10, 11, 13, 14, 15, 16, 17], type: \"optionalnum\"}]\n",
       "    });\n",
       "});\n",
       "</script>\n"
      ],
      "text/plain": [
       "<IPython.core.display.HTML object>"
      ]
     },
     "execution_count": 2,
     "metadata": {},
     "output_type": "execute_result"
    }
   ],
   "source": [
    "tbl = Splatalogue.query_lines(85*u.GHz, 155*u.GHz, chemical_name=' H2CS ', line_lists=['JPL'],\n",
    "                              energy_max=150, energy_type='eu_k', show_qn_code=True)\n",
    "tbl.show_in_notebook()"
   ]
  },
  {
   "cell_type": "code",
   "execution_count": 3,
   "metadata": {},
   "outputs": [
    {
     "data": {
      "text/html": [
       "<i>Table length=8</i>\n",
       "<table id=\"table47319293396696-362765\" class=\"table-striped table-bordered table-condensed\">\n",
       "<thead><tr><th>idx</th><th>Species</th><th>Chemical Name</th><th>Freq-GHz(rest frame,redshifted)</th><th>Freq Err(rest frame,redshifted)</th><th>Meas Freq-GHz(rest frame,redshifted)</th><th>Meas Freq Err(rest frame,redshifted)</th><th>Resolved QNs</th><th>CDMS/JPL Intensity</th><th>S&lt;sub&gt;ij&lt;/sub&gt;&amp;#956;&lt;sup&gt;2&lt;/sup&gt; (D&lt;sup&gt;2&lt;/sup&gt;)</th><th>S&lt;sub&gt;ij&lt;/sub&gt;</th><th>Log&lt;sub&gt;10&lt;/sub&gt; (A&lt;sub&gt;ij&lt;/sub&gt;)</th><th>Lovas/AST Intensity</th><th>E_L (cm^-1)</th><th>E_L (K)</th><th>E_U (cm^-1)</th><th>E_U (K)</th><th>Quantum Number Code</th><th>Linelist</th></tr></thead>\n",
       "<tr><td>0</td><td>H2CS</td><td>Thioformaldehyde</td><td>--</td><td>--</td><td>240.26632</td><td>0.0004</td><td>7(0,7)-6(0,6)</td><td>-2.9722</td><td>18.98681</td><td>6.982</td><td>-3.68963</td><td>0.55</td><td>24.0546</td><td>34.609</td><td>32.06902</td><td>46.1399</td><td>303</td><td>JPL</td></tr>\n",
       "<tr><td>1</td><td>H2CS</td><td>Thioformaldehyde</td><td>--</td><td>--</td><td>240.38175</td><td>0.00034</td><td>7(2,6)-6(2,5)</td><td>-3.085</td><td>17.4397</td><td>6.414</td><td>-3.72591</td><td>0.16</td><td>60.6875</td><td>87.31527</td><td>68.70577</td><td>98.85171</td><td>303</td><td>JPL</td></tr>\n",
       "<tr><td>2</td><td>H2CS</td><td>Thioformaldehyde</td><td>240.5482286</td><td>0.0001704</td><td>--</td><td>--</td><td>7(2,5)-6(2,4)</td><td>-3.0845</td><td>17.43644</td><td>6.412</td><td>-3.72509</td><td>0.16</td><td>60.6945</td><td>87.32534</td><td>68.71833</td><td>98.86977</td><td>303</td><td>JPL</td></tr>\n",
       "<tr><td>3</td><td>H2CS</td><td>Thioformaldehyde</td><td>--</td><td>--</td><td>244.04784</td><td>0.00059</td><td>7(1,6)-6(1,5)</td><td>-2.5104</td><td>55.8065</td><td>20.523</td><td>-3.67817</td><td>0.91</td><td>33.5928</td><td>48.33227</td><td>41.73336</td><td>60.04465</td><td>303</td><td>JPL</td></tr>\n",
       "<tr><td>4</td><td>H2CS</td><td>Thioformaldehyde</td><td>270.5207397</td><td>0.0003169</td><td>--</td><td>--</td><td>8(1,8)-7(1,7)</td><td>-2.3767</td><td>64.08661</td><td>23.568</td><td>-3.53827</td><td>--</td><td>40.7563</td><td>58.63889</td><td>49.7799</td><td>71.62176</td><td>303</td><td>JPL</td></tr>\n",
       "<tr><td>5</td><td>H2CS</td><td>Thioformaldehyde</td><td>274.5208698</td><td>0.0003318</td><td>--</td><td>--</td><td>8(0,8)-7(0,7)</td><td>-2.8163</td><td>21.70009</td><td>7.98</td><td>-3.51233</td><td>--</td><td>32.069</td><td>46.13987</td><td>41.22603</td><td>59.31472</td><td>303</td><td>JPL</td></tr>\n",
       "<tr><td>6</td><td>H2CS</td><td>Thioformaldehyde</td><td>274.7020548</td><td>0.0002753</td><td>--</td><td>--</td><td>8(2,7)-7(2,6)</td><td>-2.9201</td><td>20.34243</td><td>7.481</td><td>-3.53953</td><td>--</td><td>68.7058</td><td>98.85175</td><td>77.86887</td><td>112.0353</td><td>303</td><td>JPL</td></tr>\n",
       "<tr><td>7</td><td>H2CS</td><td>Thioformaldehyde</td><td>274.952473</td><td>0.0002755</td><td>--</td><td>--</td><td>8(2,6)-7(2,5)</td><td>-2.9193</td><td>20.34446</td><td>7.482</td><td>-3.5383</td><td>--</td><td>68.7183</td><td>98.86974</td><td>77.88973</td><td>112.0653</td><td>303</td><td>JPL</td></tr>\n",
       "</table><style>table.dataTable {clear: both; width: auto !important; margin: 0 !important;}\n",
       ".dataTables_info, .dataTables_length, .dataTables_filter, .dataTables_paginate{\n",
       "display: inline-block; margin-right: 1em; }\n",
       ".paginate_button { margin-right: 5px; }\n",
       "</style>\n",
       "<script>\n",
       "\n",
       "var astropy_sort_num = function(a, b) {\n",
       "    var a_num = parseFloat(a);\n",
       "    var b_num = parseFloat(b);\n",
       "\n",
       "    if (isNaN(a_num) && isNaN(b_num))\n",
       "        return ((a < b) ? -1 : ((a > b) ? 1 : 0));\n",
       "    else if (!isNaN(a_num) && !isNaN(b_num))\n",
       "        return ((a_num < b_num) ? -1 : ((a_num > b_num) ? 1 : 0));\n",
       "    else\n",
       "        return isNaN(a_num) ? -1 : 1;\n",
       "}\n",
       "\n",
       "require.config({paths: {\n",
       "    datatables: 'https://cdn.datatables.net/1.10.12/js/jquery.dataTables.min'\n",
       "}});\n",
       "require([\"datatables\"], function(){\n",
       "    console.log(\"$('#table47319293396696-362765').dataTable()\");\n",
       "    \n",
       "jQuery.extend( jQuery.fn.dataTableExt.oSort, {\n",
       "    \"optionalnum-asc\": astropy_sort_num,\n",
       "    \"optionalnum-desc\": function (a,b) { return -astropy_sort_num(a, b); }\n",
       "});\n",
       "\n",
       "    $('#table47319293396696-362765').dataTable({\n",
       "        order: [],\n",
       "        pageLength: 50,\n",
       "        lengthMenu: [[10, 25, 50, 100, 500, 1000, -1], [10, 25, 50, 100, 500, 1000, 'All']],\n",
       "        pagingType: \"full_numbers\",\n",
       "        columnDefs: [{targets: [0, 3, 4, 5, 6, 8, 9, 10, 11, 12, 13, 14, 15, 16, 17], type: \"optionalnum\"}]\n",
       "    });\n",
       "});\n",
       "</script>\n"
      ],
      "text/plain": [
       "<IPython.core.display.HTML object>"
      ]
     },
     "execution_count": 3,
     "metadata": {},
     "output_type": "execute_result"
    }
   ],
   "source": [
    "tbl = Splatalogue.query_lines(239.9*u.GHz, 275*u.GHz, chemical_name=' H2CS ', line_lists=['JPL'], \n",
    "                              energy_max=150, energy_type='eu_k', show_qn_code=True)\n",
    "tbl.show_in_notebook()"
   ]
  },
  {
   "cell_type": "markdown",
   "metadata": {},
   "source": [
    "### Extract cubes from around each of the lines we detect in mean spectra"
   ]
  },
  {
   "cell_type": "code",
   "execution_count": 4,
   "metadata": {},
   "outputs": [
    {
     "name": "stderr",
     "output_type": "stream",
     "text": [
      "/blue/adamginsburg/abulatek/anaconda/lib/python3.7/site-packages/casa_formats_io-0.1-py3.7-linux-x86_64.egg/casa_formats_io/casa_dask.py:232: RuntimeWarning: divide by zero encountered in long_scalars\n",
      "  factors = [f for f in range(stacks[dim] + 1) if stacks[dim] % f == 0]\n",
      "WARNING: StokesWarning: Cube is a Stokes cube, returning spectral cube for I component [spectral_cube.io.core]\n"
     ]
    }
   ],
   "source": [
    "results = '/blue/adamginsburg/abulatek/brick/symlinks/imaging_results/'\n",
    "freq_spw = '137_spw69'\n",
    "fn = results+'source_ab_'+freq_spw+'_clean_2sigma_n50000_masked_3sigma_pbmask0p18.image'\n",
    "cube = SpectralCube.read(fn, format='casa_image')\n",
    "h2cscube = cube.with_spectral_unit(u.km/u.s, velocity_convention='radio', \n",
    "                                   rest_value=137.371051*u.GHz).spectral_slab(-10*u.km/u.s, 80*u.km/u.s)\n",
    "# h2cscube.write('H2CS_404-303.fits')"
   ]
  },
  {
   "cell_type": "code",
   "execution_count": 5,
   "metadata": {},
   "outputs": [
    {
     "name": "stderr",
     "output_type": "stream",
     "text": [
      "/blue/adamginsburg/abulatek/anaconda/lib/python3.7/site-packages/casa_formats_io-0.1-py3.7-linux-x86_64.egg/casa_formats_io/casa_dask.py:232: RuntimeWarning: divide by zero encountered in long_scalars\n",
      "  factors = [f for f in range(stacks[dim] + 1) if stacks[dim] % f == 0]\n",
      "WARNING: StokesWarning: Cube is a Stokes cube, returning spectral cube for I component [spectral_cube.io.core]\n"
     ]
    }
   ],
   "source": [
    "results = '/blue/adamginsburg/abulatek/brick/symlinks/imaging_results/'\n",
    "freq_spw = '102_spw29'\n",
    "fn = results+'source_ab_'+freq_spw+'_clean_2sigma_n50000_masked_3sigma_pbmask0p18.image'\n",
    "cube = SpectralCube.read(fn, format='casa_image')\n",
    "h2cscube = cube.with_spectral_unit(u.km/u.s, velocity_convention='radio', \n",
    "                                   rest_value=103.04022*u.GHz).spectral_slab(-10*u.km/u.s, 80*u.km/u.s)\n",
    "# h2cscube.write('H2CS_303-202.fits')"
   ]
  },
  {
   "cell_type": "code",
   "execution_count": 6,
   "metadata": {},
   "outputs": [
    {
     "name": "stderr",
     "output_type": "stream",
     "text": [
      "/blue/adamginsburg/abulatek/anaconda/lib/python3.7/site-packages/casa_formats_io-0.1-py3.7-linux-x86_64.egg/casa_formats_io/casa_dask.py:232: RuntimeWarning: divide by zero encountered in long_scalars\n",
      "  factors = [f for f in range(stacks[dim] + 1) if stacks[dim] % f == 0]\n",
      "WARNING: StokesWarning: Cube is a Stokes cube, returning spectral cube for I component [spectral_cube.io.core]\n"
     ]
    }
   ],
   "source": [
    "results = '/blue/adamginsburg/abulatek/brick/symlinks/imaging_results/'\n",
    "freq_spw = '102_spw23'\n",
    "fn = results+'source_ab_'+freq_spw+'_clean_2sigma_n50000_masked_3sigma_pbmask0p18.image'\n",
    "cube = SpectralCube.read(fn, format='casa_image')\n",
    "h2cscube = cube.with_spectral_unit(u.km/u.s, velocity_convention='radio', \n",
    "                                   rest_value=101.47762*u.GHz).spectral_slab(-10*u.km/u.s, 80*u.km/u.s)\n",
    "# h2cscube.write('H2CS_313-212.fits')"
   ]
  },
  {
   "cell_type": "code",
   "execution_count": 7,
   "metadata": {},
   "outputs": [
    {
     "name": "stderr",
     "output_type": "stream",
     "text": [
      "/blue/adamginsburg/abulatek/anaconda/lib/python3.7/site-packages/casa_formats_io-0.1-py3.7-linux-x86_64.egg/casa_formats_io/casa_dask.py:232: RuntimeWarning: divide by zero encountered in long_scalars\n",
      "  factors = [f for f in range(stacks[dim] + 1) if stacks[dim] % f == 0]\n",
      "WARNING: StokesWarning: Cube is a Stokes cube, returning spectral cube for I component [spectral_cube.io.core]\n"
     ]
    }
   ],
   "source": [
    "results = '/blue/adamginsburg/abulatek/brick/symlinks/imaging_results/'\n",
    "freq_spw = '103_spw31'\n",
    "fn = results+'source_ab_'+freq_spw+'_clean_2sigma_n50000_masked_3sigma_pbmask0p18.image'\n",
    "cube = SpectralCube.read(fn, format='casa_image')\n",
    "h2cscube = cube.with_spectral_unit(u.km/u.s, velocity_convention='radio', \n",
    "                                   rest_value=104.61704*u.GHz).spectral_slab(-10*u.km/u.s, 80*u.km/u.s)\n",
    "# h2cscube.write('H2CS_312-211.fits')"
   ]
  },
  {
   "cell_type": "code",
   "execution_count": 8,
   "metadata": {},
   "outputs": [
    {
     "name": "stderr",
     "output_type": "stream",
     "text": [
      "/blue/adamginsburg/abulatek/anaconda/lib/python3.7/site-packages/casa_formats_io-0.1-py3.7-linux-x86_64.egg/casa_formats_io/casa_dask.py:232: RuntimeWarning: divide by zero encountered in long_scalars\n",
      "  factors = [f for f in range(stacks[dim] + 1) if stacks[dim] % f == 0]\n",
      "WARNING: StokesWarning: Cube is a Stokes cube, returning spectral cube for I component [spectral_cube.io.core]\n"
     ]
    }
   ],
   "source": [
    "results = '/blue/adamginsburg/abulatek/brick/symlinks/imaging_results/'\n",
    "freq_spw = '135_spw47'\n",
    "fn = results+'source_ab_'+freq_spw+'_clean_2sigma_n50000_masked_3sigma_pbmask0p18.image'\n",
    "cube = SpectralCube.read(fn, format='casa_image')\n",
    "h2cscube = cube.with_spectral_unit(u.km/u.s, velocity_convention='radio', \n",
    "                                   rest_value=135.297811*u.GHz).spectral_slab(-10*u.km/u.s, 80*u.km/u.s)\n",
    "# h2cscube.write('H2CS_414-313.fits')"
   ]
  },
  {
   "cell_type": "code",
   "execution_count": 9,
   "metadata": {},
   "outputs": [
    {
     "name": "stderr",
     "output_type": "stream",
     "text": [
      "/blue/adamginsburg/abulatek/anaconda/lib/python3.7/site-packages/casa_formats_io-0.1-py3.7-linux-x86_64.egg/casa_formats_io/casa_dask.py:232: RuntimeWarning: divide by zero encountered in long_scalars\n",
      "  factors = [f for f in range(stacks[dim] + 1) if stacks[dim] % f == 0]\n",
      "WARNING: StokesWarning: Cube is a Stokes cube, returning spectral cube for I component [spectral_cube.io.core]\n"
     ]
    }
   ],
   "source": [
    "results = '/blue/adamginsburg/abulatek/brick/symlinks/imaging_results/'\n",
    "freq_spw = '139_spw71'\n",
    "fn = results+'source_ab_'+freq_spw+'_clean_2sigma_n50000_masked_3sigma_pbmask0p18.image'\n",
    "cube = SpectralCube.read(fn, format='casa_image')\n",
    "h2cscube = cube.with_spectral_unit(u.km/u.s, velocity_convention='radio', \n",
    "                                   rest_value=139.48341*u.GHz).spectral_slab(-10*u.km/u.s, 80*u.km/u.s)\n",
    "# h2cscube.write('H2CS_413-312.fits')"
   ]
  },
  {
   "cell_type": "markdown",
   "metadata": {},
   "source": [
    "### Do one for NH2D"
   ]
  },
  {
   "cell_type": "code",
   "execution_count": 10,
   "metadata": {},
   "outputs": [
    {
     "data": {
      "text/html": [
       "<i>Table length=6</i>\n",
       "<table id=\"table47319296910952-399479\" class=\"table-striped table-bordered table-condensed\">\n",
       "<thead><tr><th>idx</th><th>Species</th><th>Chemical Name</th><th>Freq-GHz(rest frame,redshifted)</th><th>Freq Err(rest frame,redshifted)</th><th>Meas Freq-GHz(rest frame,redshifted)</th><th>Meas Freq Err(rest frame,redshifted)</th><th>Resolved QNs</th><th>CDMS/JPL Intensity</th><th>S&lt;sub&gt;ij&lt;/sub&gt;&amp;#956;&lt;sup&gt;2&lt;/sup&gt; (D&lt;sup&gt;2&lt;/sup&gt;)</th><th>S&lt;sub&gt;ij&lt;/sub&gt;</th><th>Log&lt;sub&gt;10&lt;/sub&gt; (A&lt;sub&gt;ij&lt;/sub&gt;)</th><th>Lovas/AST Intensity</th><th>E_L (cm^-1)</th><th>E_L (K)</th><th>E_U (cm^-1)</th><th>E_U (K)</th><th>Quantum Number Code</th><th>Linelist</th></tr></thead>\n",
       "<tr><td>0</td><td>NH2D</td><td>Ammonia</td><td>--</td><td>--</td><td>85.9247829</td><td>1e-05</td><td>1(1,1)0s-1(0,1)0a,F=0-1</td><td>-4.4119</td><td>3.1778</td><td>0.0</td><td>-4.62958</td><td>--</td><td>11.5063</td><td>16.5549</td><td>14.37244</td><td>20.67862</td><td>1405</td><td>JPL</td></tr>\n",
       "<tr><td>1</td><td>NH2D</td><td>Ammonia</td><td>--</td><td>--</td><td>85.9257031</td><td>1e-05</td><td>1(1,1)0s-1(0,1)0a,F=2-1</td><td>-4.315</td><td>3.97208</td><td>0.0</td><td>-5.23165</td><td>--</td><td>11.5063</td><td>16.5549</td><td>14.37247</td><td>20.67866</td><td>1405</td><td>JPL</td></tr>\n",
       "<tr><td>2</td><td>NH2D</td><td>Ammonia</td><td>--</td><td>--</td><td>85.9262703</td><td>1e-05</td><td>1(1,1)0s-1(0,1)0a,F=2-2</td><td>-3.8379</td><td>11.91549</td><td>0.0</td><td>-4.75455</td><td>--</td><td>11.5063</td><td>16.5549</td><td>14.37249</td><td>20.67869</td><td>1405</td><td>JPL</td></tr>\n",
       "<tr><td>3</td><td>NH2D</td><td>Ammonia</td><td>--</td><td>--</td><td>85.9263165</td><td>1e-05</td><td>1(1,1)0s-1(0,1)0a,F=1-1</td><td>-4.5369</td><td>2.38293</td><td>0.0</td><td>-5.2317</td><td>--</td><td>11.5063</td><td>16.5549</td><td>14.37249</td><td>20.67869</td><td>1405</td><td>JPL</td></tr>\n",
       "<tr><td>4</td><td>NH2D</td><td>Ammonia</td><td>--</td><td>--</td><td>85.9268837</td><td>1e-05</td><td>1(1,1)0s-1(0,1)0a,F=1-2</td><td>-4.315</td><td>3.97197</td><td>0.0</td><td>-5.00979</td><td>--</td><td>11.5063</td><td>16.5549</td><td>14.37251</td><td>20.67872</td><td>1405</td><td>JPL</td></tr>\n",
       "<tr><td>5</td><td>NH2D</td><td>Ammonia</td><td>--</td><td>--</td><td>85.9277345</td><td>1e-05</td><td>1(1,1)0s-1(0,1)0a,F=1-0</td><td>-4.4119</td><td>3.17758</td><td>0.0</td><td>-5.10669</td><td>--</td><td>11.5063</td><td>16.5549</td><td>14.37254</td><td>20.67876</td><td>1405</td><td>JPL</td></tr>\n",
       "</table><style>table.dataTable {clear: both; width: auto !important; margin: 0 !important;}\n",
       ".dataTables_info, .dataTables_length, .dataTables_filter, .dataTables_paginate{\n",
       "display: inline-block; margin-right: 1em; }\n",
       ".paginate_button { margin-right: 5px; }\n",
       "</style>\n",
       "<script>\n",
       "\n",
       "var astropy_sort_num = function(a, b) {\n",
       "    var a_num = parseFloat(a);\n",
       "    var b_num = parseFloat(b);\n",
       "\n",
       "    if (isNaN(a_num) && isNaN(b_num))\n",
       "        return ((a < b) ? -1 : ((a > b) ? 1 : 0));\n",
       "    else if (!isNaN(a_num) && !isNaN(b_num))\n",
       "        return ((a_num < b_num) ? -1 : ((a_num > b_num) ? 1 : 0));\n",
       "    else\n",
       "        return isNaN(a_num) ? -1 : 1;\n",
       "}\n",
       "\n",
       "require.config({paths: {\n",
       "    datatables: 'https://cdn.datatables.net/1.10.12/js/jquery.dataTables.min'\n",
       "}});\n",
       "require([\"datatables\"], function(){\n",
       "    console.log(\"$('#table47319296910952-399479').dataTable()\");\n",
       "    \n",
       "jQuery.extend( jQuery.fn.dataTableExt.oSort, {\n",
       "    \"optionalnum-asc\": astropy_sort_num,\n",
       "    \"optionalnum-desc\": function (a,b) { return -astropy_sort_num(a, b); }\n",
       "});\n",
       "\n",
       "    $('#table47319296910952-399479').dataTable({\n",
       "        order: [],\n",
       "        pageLength: 50,\n",
       "        lengthMenu: [[10, 25, 50, 100, 500, 1000, -1], [10, 25, 50, 100, 500, 1000, 'All']],\n",
       "        pagingType: \"full_numbers\",\n",
       "        columnDefs: [{targets: [0, 3, 4, 5, 6, 8, 9, 10, 11, 12, 13, 14, 15, 16, 17], type: \"optionalnum\"}]\n",
       "    });\n",
       "});\n",
       "</script>\n"
      ],
      "text/plain": [
       "<IPython.core.display.HTML object>"
      ]
     },
     "execution_count": 10,
     "metadata": {},
     "output_type": "execute_result"
    }
   ],
   "source": [
    "tbl = Splatalogue.query_lines(80*u.GHz, 90*u.GHz, chemical_name=' NH2D ', line_lists=['JPL'], \n",
    "                              energy_max=150, energy_type='eu_k', show_qn_code=True)\n",
    "tbl.show_in_notebook()"
   ]
  },
  {
   "cell_type": "code",
   "execution_count": 11,
   "metadata": {},
   "outputs": [
    {
     "name": "stderr",
     "output_type": "stream",
     "text": [
      "/blue/adamginsburg/abulatek/anaconda/lib/python3.7/site-packages/casa_formats_io-0.1-py3.7-linux-x86_64.egg/casa_formats_io/casa_dask.py:232: RuntimeWarning: divide by zero encountered in long_scalars\n",
      "  factors = [f for f in range(stacks[dim] + 1) if stacks[dim] % f == 0]\n",
      "WARNING: StokesWarning: Cube is a Stokes cube, returning spectral cube for I component [spectral_cube.io.core]\n"
     ]
    }
   ],
   "source": [
    "results = '/blue/adamginsburg/abulatek/brick/symlinks/imaging_results/'\n",
    "freq_spw = '87_spw25'\n",
    "fn = results+'source_ab_'+freq_spw+'_clean_2sigma_n50000_masked_3sigma_pbmask0p18.image'\n",
    "cube = SpectralCube.read(fn, format='casa_image')\n",
    "nh2dcube = cube.with_spectral_unit(u.km/u.s, velocity_convention='radio', \n",
    "                                   rest_value=85.9247829*u.GHz).spectral_slab(-10*u.km/u.s, 80*u.km/u.s)\n",
    "# nh2dcube.write('NH2D_hyperfine.fits')"
   ]
  },
  {
   "cell_type": "markdown",
   "metadata": {},
   "source": [
    "### Make moment maps out of each of these subcubes"
   ]
  },
  {
   "cell_type": "code",
   "execution_count": 12,
   "metadata": {},
   "outputs": [],
   "source": [
    "def get_noise_map(cube_noise):\n",
    "    cube_sclip = cube_noise.sigma_clip_spectrally(3) # Clip values above 3-sigma \n",
    "    mad_std_spectrum_sclip = cube_sclip.mad_std(axis=(1, 2))\n",
    "    plt.plot(mad_std_spectrum_sclip.spectral_axis.value, mad_std_spectrum_sclip.value, \n",
    "             drawstyle='steps-mid')\n",
    "    plt.xlabel('Velocity (km/s)')\n",
    "    plt.ylabel(r' Noise standard deviation $\\sigma$ (K)')\n",
    "#     plt.ylim([0., 0.30]) # Best to extend the range to 0.\n",
    "#     plt.axhline(0.25, linestyle='--', color='k', linewidth=3, label='A priori noise expectation')\n",
    "    plt.legend(frameon=True)\n",
    "    cube_sclip_slice = cube_sclip.spectral_slab(50*u.km/u.s, 80*u.km/u.s)\n",
    "    mad_std_map_sclip = cube_sclip.mad_std(axis=0) # Calculate sigma along the spectral dimension\n",
    "    return mad_std_map_sclip\n",
    "\n",
    "def get_signal_mask_scipy(cube_signal, mad_std_map_sclip):\n",
    "    '''Please pass an already-masked cube to cube_signal'''\n",
    "    # Make a low and high mask\n",
    "    low_snr_mask = (cube_signal > 3 * mad_std_map_sclip).include()\n",
    "    high_snr_mask = (cube_signal > 10 * mad_std_map_sclip).include()\n",
    "    low_snr_mask = low_snr_mask.compute() # We need to convert from a dask array to a numpy array.\n",
    "    high_snr_mask = high_snr_mask.compute()\n",
    "    # Find connected structures\n",
    "    structure = np.ones((3, 3, 3), dtype=bool)\n",
    "    low_snr_mask_labels, num_labels = nd.label(low_snr_mask, structure=structure)\n",
    "    print(f\"Initial number of regions found: {num_labels}\")\n",
    "    # From the labels, count the number of pixels within each label.\n",
    "    num_pixels_in_high_snr_mask = nd.sum(high_snr_mask,\n",
    "                                         labels=low_snr_mask_labels,\n",
    "                                         index=range(1, num_labels + 1)) # +1 offset for mask labels\n",
    "    # Repeat for the high signal mask.\n",
    "    num_pixels_in_low_snr_mask = nd.sum(low_snr_mask,\n",
    "                                        labels=low_snr_mask_labels,\n",
    "                                        index=range(1, num_labels + 1)) # +1 offset for mask labels\n",
    "    # To preserve the low_snr_mask, we will create a new signal mask where we will remove \n",
    "    # regions that do not pass the criteria.\n",
    "    signal_mask = low_snr_mask\n",
    "    low_min_pixels = 40\n",
    "    high_min_pixels = 10\n",
    "    for num, (high_pix_num, low_pix_num) in enumerate(zip(num_pixels_in_high_snr_mask, \n",
    "                                                          num_pixels_in_low_snr_mask)):\n",
    "        if high_pix_num >= high_min_pixels and low_pix_num >= low_min_pixels:\n",
    "            # This region passes the criteria. Keep it in the mask.\n",
    "            continue\n",
    "        # Remove regions that do not pass the criteria.\n",
    "        # NOTE: enumerate will start with 0, but the mask labels start at 1\n",
    "        # We apply a +1 offset to `num` to account for this.\n",
    "        signal_mask[low_snr_mask_labels == num + 1] = False\n",
    "    signal_mask_labels, num_labels = nd.label(signal_mask,\n",
    "                                              structure=structure)\n",
    "    print(f\"Final number of regions found: {num_labels}\")\n",
    "    signal_mask = nd.binary_dilation(signal_mask, structure=structure, iterations=1)\n",
    "    return signal_mask"
   ]
  },
  {
   "cell_type": "code",
   "execution_count": 13,
   "metadata": {},
   "outputs": [
    {
     "data": {
      "text/plain": [
       "DaskVaryingResolutionSpectralCube with shape=(85, 512, 512) and unit=Jy / beam and chunk size (85, 512, 512):\n",
       " n_x:    512  type_x: RA---SIN  unit_x: deg    range:   266.528130 deg:  266.560501 deg\n",
       " n_y:    512  type_y: DEC--SIN  unit_y: deg    range:   -28.719152 deg:  -28.690763 deg\n",
       " n_s:     85  type_s: VRAD      unit_s: km / s  range:      -10.425 km / s:      80.460 km / s"
      ]
     },
     "execution_count": 13,
     "metadata": {},
     "output_type": "execute_result"
    }
   ],
   "source": [
    "# Get overall cube\n",
    "cube = SpectralCube.read('H2CS_414-313.fits', use_dask=True)\n",
    "cube"
   ]
  },
  {
   "cell_type": "code",
   "execution_count": 14,
   "metadata": {},
   "outputs": [],
   "source": [
    "subcube_low = cube.spectral_slab(-10*u.km/u.s, 25*u.km/u.s)\n",
    "subcube_high = cube.spectral_slab(25*u.km/u.s, 50*u.km/u.s)"
   ]
  },
  {
   "cell_type": "code",
   "execution_count": 15,
   "metadata": {},
   "outputs": [
    {
     "name": "stderr",
     "output_type": "stream",
     "text": [
      "No handles with labels found to put in legend.\n",
      "No handles with labels found to put in legend.\n"
     ]
    },
    {
     "data": {
      "image/png": "[encoded data removed]",
      "text/plain": [
       "<Figure size 432x288 with 1 Axes>"
      ]
     },
     "metadata": {
      "needs_background": "light"
     },
     "output_type": "display_data"
    }
   ],
   "source": [
    "# Get noise map\n",
    "mad_std_map_sclip_low = get_noise_map(subcube_low)\n",
    "mad_std_map_sclip_high = get_noise_map(subcube_high)"
   ]
  },
  {
   "cell_type": "code",
   "execution_count": 16,
   "metadata": {},
   "outputs": [],
   "source": [
    "plain_mask_low = subcube_low >= 3 * mad_std_map_sclip_low\n",
    "plain_masked_slab_low = subcube_low.with_mask(plain_mask_low)\n",
    "plain_mask_high = subcube_high >= 3 * mad_std_map_sclip_high\n",
    "plain_masked_slab_high = subcube_high.with_mask(plain_mask_high)"
   ]
  },
  {
   "cell_type": "code",
   "execution_count": 17,
   "metadata": {},
   "outputs": [
    {
     "name": "stdout",
     "output_type": "stream",
     "text": [
      "Initial number of regions found: 1280\n",
      "Final number of regions found: 6\n",
      "Initial number of regions found: 1117\n",
      "Final number of regions found: 6\n"
     ]
    }
   ],
   "source": [
    "signal_mask_low = get_signal_mask_scipy(plain_masked_slab_low, mad_std_map_sclip_low)\n",
    "masked_cube_low = plain_masked_slab_low.with_mask(signal_mask_low)\n",
    "signal_mask_high = get_signal_mask_scipy(plain_masked_slab_high, mad_std_map_sclip_high)\n",
    "masked_cube_high = plain_masked_slab_high.with_mask(signal_mask_high)"
   ]
  },
  {
   "cell_type": "code",
   "execution_count": 18,
   "metadata": {},
   "outputs": [],
   "source": [
    "# masked_moment0 = masked_cube.moment0() # masked_cubes[n]\n",
    "\n",
    "# ax = plt.subplot(projection=masked_moment0.wcs)\n",
    "# im = ax.imshow(masked_moment0.value, origin='lower', cmap='inferno')\n",
    "# cbar = plt.colorbar(im)\n",
    "# cbar.set_label('Integrated Intensity (K km/s)')\n",
    "# ax.set_ylabel('Declination')\n",
    "# ax.set_xlabel('Right Ascension')"
   ]
  },
  {
   "cell_type": "code",
   "execution_count": 19,
   "metadata": {},
   "outputs": [],
   "source": [
    "# masked_moment1 = masked_cube.moment1() # masked_cubes[n]\n",
    "\n",
    "# ax = plt.subplot(projection=masked_moment1.wcs)\n",
    "# im = ax.imshow(masked_moment1.value, origin='lower', cmap='coolwarm')\n",
    "# cbar = plt.colorbar(im)\n",
    "# cbar.set_label('Centroid (km/s)')\n",
    "\n",
    "# ax.set_ylabel('Declination')\n",
    "# ax.set_xlabel('Right Ascension')"
   ]
  },
  {
   "cell_type": "code",
   "execution_count": 20,
   "metadata": {},
   "outputs": [],
   "source": [
    "# from astroquery.splatalogue import Splatalogue\n",
    "# from astropy import units as u\n",
    "# from spectral_cube import SpectralCube\n",
    "# results = '/blue/adamginsburg/abulatek/brick/symlinks/imaging_results/'\n",
    "# tbl = Splatalogue.query_lines(109*u.GHz, 111*u.GHz, chemical_name=' NH2D ', line_lists=['JPL'],\n",
    "#                               energy_max=150, energy_type='eu_k', show_qn_code=True)\n",
    "# tbl"
   ]
  },
  {
   "cell_type": "markdown",
   "metadata": {},
   "source": [
    "#### testing nh2d spectrum to compare with recent paper"
   ]
  },
  {
   "cell_type": "code",
   "execution_count": 21,
   "metadata": {},
   "outputs": [],
   "source": [
    "# freq_spw = '110_spw29'\n",
    "# fn = results+'source_ab_'+freq_spw+'_clean_2sigma_n50000_masked_3sigma_pbmask0p18.image'\n",
    "# cube = SpectralCube.read(fn, format='casa_image')\n",
    "# cube = cube.with_spectral_unit(u.km/u.s, velocity_convention='radio', \n",
    "#                                    rest_value=110.1536299*u.GHz).spectral_slab(-10*u.km/u.s, 80*u.km/u.s)\n",
    "# # cube.write('test_nh2d.fits')"
   ]
  },
  {
   "cell_type": "code",
   "execution_count": 22,
   "metadata": {},
   "outputs": [],
   "source": [
    "# cube = SpectralCube.read('test_nh2d.fits')\n",
    "# cube.max(axis=0).quicklook()"
   ]
  },
  {
   "cell_type": "code",
   "execution_count": 23,
   "metadata": {},
   "outputs": [],
   "source": [
    "# # plt.plot(cube.max(axis=0)) # this is not right but it does look cool\n",
    "# mxspec = cube.max(axis=(1,2))"
   ]
  },
  {
   "cell_type": "code",
   "execution_count": 24,
   "metadata": {},
   "outputs": [],
   "source": [
    "# import pylab as pl\n",
    "# import pyspeckit\n",
    "# kspectrum_ps = pyspeckit.Spectrum(xarr = mxspec.spectral_axis, data = mxspec.value)"
   ]
  },
  {
   "cell_type": "markdown",
   "metadata": {},
   "source": [
    "# Make a figure that includes the mom0 maps and PV projections for each of the two velocity components"
   ]
  },
  {
   "cell_type": "code",
   "execution_count": 25,
   "metadata": {},
   "outputs": [
    {
     "name": "stderr",
     "output_type": "stream",
     "text": [
      "/blue/adamginsburg/abulatek/anaconda/lib/python3.7/site-packages/radio_beam-0.3.3-py3.7.egg/radio_beam/multiple_beams.py:265: UserWarning: Do not use the average beam for convolution! Use the smallest common beam from `Beams.common_beam()`.\n",
      "  warnings.warn(\"Do not use the average beam for convolution! Use the\"\n",
      "WARNING: BeamAverageWarning: Arithmetic beam averaging is being performed.  This is not a mathematically robust operation, but is being permitted because the beams differ by <0.01 [spectral_cube.base_class]\n",
      "/blue/adamginsburg/abulatek/anaconda/lib/python3.7/site-packages/radio_beam-0.3.3-py3.7.egg/radio_beam/multiple_beams.py:265: UserWarning: Do not use the average beam for convolution! Use the smallest common beam from `Beams.common_beam()`.\n",
      "  warnings.warn(\"Do not use the average beam for convolution! Use the\"\n",
      "WARNING: BeamAverageWarning: Arithmetic beam averaging is being performed.  This is not a mathematically robust operation, but is being permitted because the beams differ by <0.01 [spectral_cube.base_class]\n"
     ]
    }
   ],
   "source": [
    "# Let's get masked moment maps for each of the cubes\n",
    "masked_moment0_low = masked_cube_low.moment0()\n",
    "masked_moment0_high = masked_cube_high.moment0()\n",
    "mom0s = [masked_moment0_low, masked_moment0_high]"
   ]
  },
  {
   "cell_type": "code",
   "execution_count": 26,
   "metadata": {},
   "outputs": [
    {
     "data": {
      "text/plain": [
       "DaskVaryingResolutionSpectralCube with shape=(34, 512, 512) and unit=Jy / beam and chunk size (34, 512, 512):\n",
       " n_x:    512  type_x: RA---SIN  unit_x: deg    range:   266.528130 deg:  266.560501 deg\n",
       " n_y:    512  type_y: DEC--SIN  unit_y: deg    range:   -28.719152 deg:  -28.690763 deg\n",
       " n_s:     34  type_s: VRAD      unit_s: km / s  range:      -10.425 km / s:      25.280 km / s"
      ]
     },
     "execution_count": 26,
     "metadata": {},
     "output_type": "execute_result"
    }
   ],
   "source": [
    "masked_cube_low.with_spectral_unit(u.km/u.s)"
   ]
  },
  {
   "cell_type": "code",
   "execution_count": 27,
   "metadata": {},
   "outputs": [
    {
     "name": "stderr",
     "output_type": "stream",
     "text": [
      "WARNING: WCSWarning: Slicing across a celestial axis results in an invalid WCS, so the celestial projection (SIN) is being removed.  The WCS indices being kept were [0 2]. [spectral_cube.wcs_utils]\n",
      "WARNING: WCSWarning: Slicing across a celestial axis results in an invalid WCS, so the celestial projection (SIN) is being removed.  The WCS indices being kept were [1 2]. [spectral_cube.wcs_utils]\n",
      "WARNING: WCSWarning: Slicing across a celestial axis results in an invalid WCS, so the celestial projection (SIN) is being removed.  The WCS indices being kept were [0 2]. [spectral_cube.wcs_utils]\n",
      "WARNING: WCSWarning: Slicing across a celestial axis results in an invalid WCS, so the celestial projection (SIN) is being removed.  The WCS indices being kept were [1 2]. [spectral_cube.wcs_utils]\n"
     ]
    }
   ],
   "source": [
    "collapse1_low = masked_cube_low.with_spectral_unit(u.km/u.s).mean(axis = 1) # Collapse along one spatial axis\n",
    "collapse2_low = masked_cube_low.with_spectral_unit(u.km/u.s).mean(axis = 2) # Collapse along the other spatial axis\n",
    "collapse1_high = masked_cube_high.with_spectral_unit(u.km/u.s).mean(axis = 1) # Collapse along one spatial axis\n",
    "collapse2_high = masked_cube_high.with_spectral_unit(u.km/u.s).mean(axis = 2) # Collapse along the other spatial axis\n",
    "collapse1s = [collapse1_low, collapse1_high]\n",
    "collapse2s = [collapse2_low, collapse2_high]"
   ]
  },
  {
   "cell_type": "markdown",
   "metadata": {},
   "source": [
    "### This is now the version I'm using as of 7/14 morning! H2CS maps/PV projections"
   ]
  },
  {
   "cell_type": "code",
   "execution_count": 28,
   "metadata": {},
   "outputs": [],
   "source": [
    "# collapse1.wcs"
   ]
  },
  {
   "cell_type": "code",
   "execution_count": 32,
   "metadata": {},
   "outputs": [
    {
     "data": {
      "image/png": "[encoded data removed]",
      "text/plain": [
       "<Figure size 720x720 with 18 Axes>"
      ]
     },
     "metadata": {
      "needs_background": "light"
     },
     "output_type": "display_data"
    },
    {
     "data": {
      "image/png": "[encoded data removed]",
      "text/plain": [
       "<Figure size 720x720 with 18 Axes>"
      ]
     },
     "metadata": {
      "needs_background": "light"
     },
     "output_type": "display_data"
    }
   ],
   "source": [
    "from mpl_toolkits.axes_grid1 import make_axes_locatable\n",
    "\n",
    "i = 0\n",
    "for i in range(len(mom0s)):\n",
    "    masked_moment0 = mom0s[i]\n",
    "    collapse1 = collapse1s[i]\n",
    "    collapse2 = collapse2s[i]\n",
    "    if i == 0:\n",
    "        plot_type = 'Low'\n",
    "    elif i == 1:\n",
    "        plot_type = 'High'\n",
    "    \n",
    "    # Initalize figure\n",
    "    fig = plt.figure(figsize = (10, 10), constrained_layout=True)\n",
    "    \n",
    "    # Plot moment 0 map\n",
    "    ax1 = plt.subplot(323, projection = masked_moment0.wcs)\n",
    "    ax1.set_aspect(1.)\n",
    "    im1 = ax1.imshow(masked_moment0.value, origin='lower', cmap='inferno', aspect='auto')\n",
    "    ax1.set_ylabel('Declination')\n",
    "    ax1.set_xlabel('Right Ascension')\n",
    "#     plt.title(f'H2CS $4(1, 4)-3(1, 3)$ Moment 0 Map ({plot_type} Velocity)')\n",
    "    ax1.tick_params(direction='in', color='#FFFFFF')\n",
    "    ax1.set_facecolor('#000000')\n",
    "    \n",
    "#     cax = plt.subplot(325)\n",
    "#     cbar = plt.colorbar(im1, cax = cax, orientation = 'horizontal')\n",
    "#     cbar.set_label('Integrated Intensity (K km/s)')\n",
    "\n",
    "    # Plot PV projection along one spatial axis (TOP LEFT)\n",
    "#     ax2 = divider.append_axes(\"top\", size=\"5%\", axes_class = ax1.Axes)\n",
    "    ax2 = plt.subplot(321, projection = collapse1.wcs, sharex = ax1)\n",
    "#     ax2 = plt.subplot(321, sharex = ax1)\n",
    "    im2 = ax2.imshow(collapse1.value, origin='lower', cmap='gray', aspect='auto')\n",
    "    ax2.coords[1].set_format_unit(u.km / u.s)\n",
    "    ax2.set_ylabel('Velocity (km/s)')\n",
    "    ax2.coords[0].set_ticklabel_visible(False)\n",
    "    ax2.tick_params(direction='in', color='#FFFFFF')\n",
    "    ax2.set_facecolor('#000000')\n",
    "\n",
    "    # Plot PV projection along the other spatial axis (BOTTOM RIGHT)\n",
    "#     ax3 = divider.append_axes(\"right\", size=\"5%\", axes_class = ax1.Axes)\n",
    "    ax3 = plt.subplot(324, projection = collapse2.wcs.sub([2,1]), sharey = ax1)\n",
    "    im3 = ax3.imshow(collapse2.T.value, origin='lower', cmap='gray', aspect='auto')\n",
    "    ax3.coords[0].set_format_unit(u.km / u.s)\n",
    "    ax3.set_xlabel('Velocity (km/s)')\n",
    "    ax3.coords[1].set_ticklabel_visible(False)\n",
    "    ax3.tick_params(direction='in', color='#FFFFFF')\n",
    "    ax3.set_facecolor('#000000')\n",
    "    \n",
    "    # Trying to remove axis labels\n",
    "#     plt.setp(ax3.get_yticklabels(), visible=False) # This didn't remove anything\n",
    "#     ax3.get_yaxis().set_visible(False) # This also didn't remove anything\n",
    "#     ax3.yaxis.set_visible(False) # Also does nothing\n",
    "#     plt.axis('off') # Not what I want, but works\n",
    "\n",
    "    # Checking axes\n",
    "#     print(f\"Moment map x limits: {ax1.get_xlim()}\")\n",
    "#     print(f\"Upper PV projection x limits: {ax2.get_xlim()}\")\n",
    "#     print(f\"Right PV projection x limits: {ax3.get_xlim()}\")\n",
    "#     print(f\"Moment map y limits: {ax1.get_ylim()}\")\n",
    "#     print(f\"Upper PV projection y limits: {ax2.get_ylim()}\")\n",
    "#     print(f\"Right PV projection y limits: {ax3.get_ylim()}\")\n",
    "\n",
    "    plt.savefig('/blue/adamginsburg/abulatek/brick/first_results/thioformaldehyde/prelim_mom0_PV_projection.pdf', bbox_inches='tight')\n",
    "    plt.show()\n",
    "    i += 1"
   ]
  },
  {
   "cell_type": "markdown",
   "metadata": {},
   "source": [
    "### Attempt 2 at plot"
   ]
  },
  {
   "cell_type": "code",
   "execution_count": null,
   "metadata": {},
   "outputs": [],
   "source": [
    "# # STILL NEED TO:\n",
    "# # Match coordinate axes\n",
    "# # Switch axis numbers and labels for PV over RA\n",
    "# # Make plot labels nice\n",
    "\n",
    "# i = 0\n",
    "# for i in range(len(mom0s)):\n",
    "#     masked_moment0 = mom0s[i]\n",
    "#     collapse1 = collapse1s[i]\n",
    "#     collapse2 = collapse2s[i]\n",
    "#     if i == 0:\n",
    "#         plot_type = 'Low'\n",
    "#     elif i == 1:\n",
    "#         plot_type = 'High'\n",
    "    \n",
    "#     # Initalize figure\n",
    "# #     plt.subplots(2, 2, figsize = (10, 10), sharex='col', sharey='row')\n",
    "#     fig = plt.figure(figsize = (10, 10)) # tight_layout = True\n",
    "    \n",
    "#     # Plot moment 0 map\n",
    "#     ax1 = fig.add_subplot(2, 2, 3, projection = masked_moment0.wcs)\n",
    "#     im1 = plt.imshow(masked_moment0.value, origin='lower',  cmap='inferno')\n",
    "#     ax1.set_ylabel('Declination')\n",
    "#     ax1.set_xlabel('Right Ascension')\n",
    "#     plt.title(f'H2CS $4(1, 4)-3(1, 3)$ Moment 0 Map ({plot_type} Velocity)')\n",
    "\n",
    "#     # Plot PV projection along one spatial axis\n",
    "#     ax2 = fig.add_subplot(2, 2, 1, projection = collapse1.wcs, sharex = ax1)\n",
    "#     im2 = plt.imshow(collapse1.value, origin='lower',  cmap='inferno', aspect='auto') # aspect='auto'\n",
    "# #     ax2.set_ylabel('Velocity')\n",
    "# #     ax2.set_xlabel('Right Ascension')\n",
    "# #     ax2.set_xticks(ax1.get_xticks())\n",
    "# #     ax2.set_xticklabels(ax1.get_xticklabels())\n",
    "#     plt.title('Position-velocity projection along dec')\n",
    "\n",
    "#     # Plot PV projection along the other spatial axis\n",
    "#     ax3 = fig.add_subplot(2, 2, 4, projection = collapse2.T.wcs, sharey = ax1)\n",
    "#     im3 = plt.imshow(collapse2.T.value, origin='lower', cmap='inferno', aspect='auto')\n",
    "# #     ax3.set_ylabel('Velocity')\n",
    "# #     ax3.set_xlabel('Declination')\n",
    "#     plt.title('Position-velocity projection along RA')\n",
    "\n",
    "#     cbar = plt.colorbar(im1)\n",
    "#     cbar.set_label('Integrated Intensity (K km/s)')\n",
    "\n",
    "#     # plt.savefig(f'/blue/adamginsburg/abulatek/brick/first_results/lineID/plots/unlabeled/{freq_spw}.pdf')\n",
    "#     plt.show()\n",
    "#     i += 1"
   ]
  },
  {
   "cell_type": "markdown",
   "metadata": {},
   "source": [
    "# Do allll that again for NH2D"
   ]
  },
  {
   "cell_type": "code",
   "execution_count": null,
   "metadata": {},
   "outputs": [],
   "source": [
    "# Get overall cube\n",
    "cube = SpectralCube.read('NH2D_hyperfine.fits', use_dask=True)\n",
    "cube"
   ]
  },
  {
   "cell_type": "code",
   "execution_count": null,
   "metadata": {},
   "outputs": [],
   "source": [
    "subcube_low = cube.spectral_slab(-10*u.km/u.s, 25*u.km/u.s)\n",
    "subcube_high = cube.spectral_slab(25*u.km/u.s, 50*u.km/u.s)"
   ]
  },
  {
   "cell_type": "code",
   "execution_count": null,
   "metadata": {},
   "outputs": [],
   "source": [
    "# Get noise map\n",
    "mad_std_map_sclip_low = get_noise_map(subcube_low)\n",
    "mad_std_map_sclip_high = get_noise_map(subcube_high)"
   ]
  },
  {
   "cell_type": "code",
   "execution_count": null,
   "metadata": {},
   "outputs": [],
   "source": [
    "plain_mask_low = subcube_low >= 3 * mad_std_map_sclip_low\n",
    "plain_masked_slab_low = subcube_low.with_mask(plain_mask_low)\n",
    "plain_mask_high = subcube_high >= 3 * mad_std_map_sclip_high\n",
    "plain_masked_slab_high = subcube_high.with_mask(plain_mask_high)"
   ]
  },
  {
   "cell_type": "code",
   "execution_count": null,
   "metadata": {},
   "outputs": [],
   "source": [
    "signal_mask_low = get_signal_mask_scipy(plain_masked_slab_low, mad_std_map_sclip_low)\n",
    "masked_cube_low = plain_masked_slab_low.with_mask(signal_mask_low)\n",
    "signal_mask_high = get_signal_mask_scipy(plain_masked_slab_high, mad_std_map_sclip_high)\n",
    "masked_cube_high = plain_masked_slab_high.with_mask(signal_mask_high)"
   ]
  },
  {
   "cell_type": "code",
   "execution_count": null,
   "metadata": {},
   "outputs": [],
   "source": [
    "# Let's get masked moment maps for each of the cubes\n",
    "masked_moment0_low = masked_cube_low.moment0()\n",
    "masked_moment0_high = masked_cube_high.moment0()\n",
    "mom0s = [masked_moment0_low, masked_moment0_high]"
   ]
  },
  {
   "cell_type": "code",
   "execution_count": null,
   "metadata": {},
   "outputs": [],
   "source": [
    "collapse1_low = masked_cube_low.mean(axis = 1) # Collapse along one spatial axis\n",
    "collapse2_low = masked_cube_low.mean(axis = 2) # Collapse along the other spatial axis\n",
    "collapse1_high = masked_cube_high.mean(axis = 1) # Collapse along one spatial axis\n",
    "collapse2_high = masked_cube_high.mean(axis = 2) # Collapse along the other spatial axis\n",
    "collapse1s = [collapse1_low, collapse1_high]\n",
    "collapse2s = [collapse2_low, collapse2_high]"
   ]
  },
  {
   "cell_type": "code",
   "execution_count": null,
   "metadata": {},
   "outputs": [],
   "source": [
    "i = 0\n",
    "for i in range(len(mom0s)):\n",
    "    masked_moment0 = mom0s[i]\n",
    "    collapse1 = collapse1s[i]\n",
    "    collapse2 = collapse2s[i]\n",
    "    if i == 0:\n",
    "        plot_type = 'Low'\n",
    "    elif i == 1:\n",
    "        plot_type = 'High'\n",
    "    \n",
    "    # Initalize figure\n",
    "    fig = plt.figure(1, figsize = (10, 10), tight_layout = False)\n",
    "\n",
    "    # Plot moment 0 map\n",
    "    ax = plt.subplot(223, projection = masked_moment0.wcs)\n",
    "    im1 = ax.imshow(masked_moment0.value, origin='lower', cmap='inferno')\n",
    "    ax.set_ylabel('Declination')\n",
    "    ax.set_xlabel('Right Ascension')\n",
    "    plt.title(f'NH2D 85 GHz Hyperfine Moment 0 Map ({plot_type} Velocity)')\n",
    "\n",
    "    # Plot PV projection along one spatial axis\n",
    "    ax = plt.subplot(221, projection = collapse1.wcs)\n",
    "    im2 = ax.imshow(collapse1.value, origin='lower', cmap='inferno', aspect='auto')\n",
    "    ax.set_ylabel('Velocity')\n",
    "    ax.set_xlabel('Right Ascension')\n",
    "    plt.title('Position-velocity projection 1')\n",
    "\n",
    "    # Plot PV projection along the other spatial axis\n",
    "    ax = plt.subplot(224, projection = collapse2.T.wcs)\n",
    "    im3 = ax.imshow(collapse2.T.value, origin='lower', cmap='inferno', aspect='auto')\n",
    "    ax.set_ylabel('Velocity')\n",
    "    ax.set_xlabel('Declination')\n",
    "    plt.title('Position-velocity projection 2')\n",
    "\n",
    "    cbar = plt.colorbar(im1)\n",
    "    cbar.set_label('Integrated Intensity (K km/s)')\n",
    "\n",
    "    # plt.savefig(f'/blue/adamginsburg/abulatek/brick/first_results/lineID/plots/unlabeled/{freq_spw}.pdf')\n",
    "    plt.show()\n",
    "    i += 1"
   ]
  },
  {
   "cell_type": "code",
   "execution_count": null,
   "metadata": {},
   "outputs": [],
   "source": []
  },
  {
   "cell_type": "code",
   "execution_count": null,
   "metadata": {},
   "outputs": [],
   "source": []
  },
  {
   "cell_type": "code",
   "execution_count": null,
   "metadata": {},
   "outputs": [],
   "source": []
  }
 ],
 "metadata": {
  "kernelspec": {
   "display_name": "Python 3",
   "language": "python",
   "name": "python3"
  },
  "language_info": {
   "codemirror_mode": {
    "name": "ipython",
    "version": 3
   },
   "file_extension": ".py",
   "mimetype": "text/x-python",
   "name": "python",
   "nbconvert_exporter": "python",
   "pygments_lexer": "ipython3",
   "version": "3.7.0"
  }
 },
 "nbformat": 4,
 "nbformat_minor": 4
}
