{
 "cells": [
  {
   "cell_type": "code",
   "execution_count": 1,
   "metadata": {},
   "outputs": [],
   "source": [
    "# Import statements\n",
    "import glob\n",
    "from spectral_cube import SpectralCube"
   ]
  },
  {
   "cell_type": "code",
   "execution_count": 33,
   "metadata": {},
   "outputs": [],
   "source": [
    "# Use dask for parallelization\n",
    "dask = True\n",
    "\n",
    "if dask:\n",
    "    from dask.diagnostics import ProgressBar\n",
    "    pbar = ProgressBar()\n",
    "    pbar.register()"
   ]
  },
  {
   "cell_type": "code",
   "execution_count": 2,
   "metadata": {},
   "outputs": [
    {
     "name": "stderr",
     "output_type": "stream",
     "text": [
      "/blue/adamginsburg/abulatek/anaconda/lib/python3.7/site-packages/casa_formats_io-0.1-py3.7-linux-x86_64.egg/casa_formats_io/casa_dask.py:232: RuntimeWarning: divide by zero encountered in long_scalars\n",
      "  factors = [f for f in range(stacks[dim] + 1) if stacks[dim] % f == 0]\n",
      "WARNING: BeamWarning: No beam information found in CASA image. [spectral_cube.io.casa_image]\n",
      "WARNING: StokesWarning: Cube is a Stokes cube, returning spectral cube for I component [spectral_cube.io.core]\n",
      "/blue/adamginsburg/abulatek/anaconda/lib/python3.7/site-packages/casa_formats_io-0.1-py3.7-linux-x86_64.egg/casa_formats_io/casa_dask.py:232: RuntimeWarning: divide by zero encountered in long_scalars\n",
      "  factors = [f for f in range(stacks[dim] + 1) if stacks[dim] % f == 0]\n",
      "WARNING: StokesWarning: Cube is a Stokes cube, returning spectral cube for I component [spectral_cube.io.core]\n"
     ]
    }
   ],
   "source": [
    "# Get the cube we're making a mask from\n",
    "freq_spw = '273_spw51'\n",
    "pb_fn = glob.glob(f\"/blue/adamginsburg/abulatek/brick/symlinks/imaging_results/source_ab*{freq_spw}*clean*.pb\")\n",
    "cube_fn = glob.glob(f\"/blue/adamginsburg/abulatek/brick/symlinks/imaging_results/source_ab*{freq_spw}*clean*.image\") # We need the units of this... and no one knows why\n",
    "pb = SpectralCube.read(pb_fn[0], format = 'casa_image')\n",
    "cube = SpectralCube.read(cube_fn[0], format = 'casa_image')"
   ]
  },
  {
   "cell_type": "code",
   "execution_count": 32,
   "metadata": {},
   "outputs": [
    {
     "name": "stdout",
     "output_type": "stream",
     "text": [
      "[########################################] | 100% Completed |  0.5s\n"
     ]
    }
   ],
   "source": [
    "# Mask the cube above a PB gain level of 0.8; ignore the unit, it's just there to make SpectralCube happy and has no interpretation\n",
    "mask = pb[-1] > 0.8 * pb.unit"
   ]
  },
  {
   "cell_type": "code",
   "execution_count": 35,
   "metadata": {},
   "outputs": [
    {
     "name": "stdout",
     "output_type": "stream",
     "text": [
      "/orange/adamginsburg/brick_alma_linesurvey/2019.1.00092.S/imaging_results\n",
      "source_ab_102_spw29_dirty.image spectra/source_ab_102_spw29_dirty.max_CROPPED.fits\n",
      "source_ab_102_spw29_dirty.image\n"
     ]
    },
    {
     "name": "stderr",
     "output_type": "stream",
     "text": [
      "/blue/adamginsburg/abulatek/anaconda/lib/python3.7/site-packages/casa_formats_io-0.1-py3.7-linux-x86_64.egg/casa_formats_io/casa_dask.py:232: RuntimeWarning: divide by zero encountered in long_scalars\n",
      "  factors = [f for f in range(stacks[dim] + 1) if stacks[dim] % f == 0]\n"
     ]
    },
    {
     "name": "stdout",
     "output_type": "stream",
     "text": [
      "DaskVaryingResolutionSpectralCube with shape=(1920, 512, 512) and unit=Jy / beam and chunk size (80, 256, 512):\n",
      " n_x:    512  type_x: RA---SIN  unit_x: deg    range:   266.528130 deg:  266.560501 deg\n",
      " n_y:    512  type_y: DEC--SIN  unit_y: deg    range:   -28.719152 deg:  -28.690763 deg\n",
      " n_s:   1920  type_s: FREQ      unit_s: Hz     range: 101549443159.977 Hz:103423216948.801 Hz\n",
      "(1920, 512, 512)\n",
      "(512, 512)\n",
      "[                                        ] | 0% Completed |  0.1s"
     ]
    },
    {
     "name": "stderr",
     "output_type": "stream",
     "text": [
      "WARNING: StokesWarning: Cube is a Stokes cube, returning spectral cube for I component [spectral_cube.io.core]\n"
     ]
    },
    {
     "name": "stdout",
     "output_type": "stream",
     "text": [
      "[########################################] | 100% Completed | 10.2s\n",
      "[########################################] | 100% Completed | 10.2s\n",
      "[########################################] | 100% Completed | 11.5s\n",
      "[########################################] | 100% Completed | 11.6s\n",
      "27.69101071357727\n",
      "source_ab_103_spw31_clean_2sigma_n50000_masked_3sigma_pbmask0p18.image spectra/source_ab_103_spw31_clean_2sigma_n50000_masked_3sigma_pbmask0p18.max_CROPPED.fits\n",
      "source_ab_103_spw31_clean_2sigma_n50000_masked_3sigma_pbmask0p18.image\n"
     ]
    },
    {
     "name": "stderr",
     "output_type": "stream",
     "text": [
      "/blue/adamginsburg/abulatek/anaconda/lib/python3.7/site-packages/casa_formats_io-0.1-py3.7-linux-x86_64.egg/casa_formats_io/casa_dask.py:232: RuntimeWarning: divide by zero encountered in long_scalars\n",
      "  factors = [f for f in range(stacks[dim] + 1) if stacks[dim] % f == 0]\n"
     ]
    },
    {
     "name": "stdout",
     "output_type": "stream",
     "text": [
      "DaskVaryingResolutionSpectralCube with shape=(1920, 512, 512) and unit=Jy / beam and chunk size (80, 256, 512):\n",
      " n_x:    512  type_x: RA---SIN  unit_x: deg    range:   266.528130 deg:  266.560501 deg\n",
      " n_y:    512  type_y: DEC--SIN  unit_y: deg    range:   -28.719152 deg:  -28.690763 deg\n",
      " n_s:   1920  type_s: FREQ      unit_s: Hz     range: 103424193100.026 Hz:105297966888.849 Hz\n",
      "(1920, 512, 512)\n",
      "(512, 512)\n",
      "[                                        ] | 0% Completed |  0.1s"
     ]
    },
    {
     "name": "stderr",
     "output_type": "stream",
     "text": [
      "WARNING: StokesWarning: Cube is a Stokes cube, returning spectral cube for I component [spectral_cube.io.core]\n"
     ]
    },
    {
     "name": "stdout",
     "output_type": "stream",
     "text": [
      "[########################################] | 100% Completed | 12.9s\n",
      "[########################################] | 100% Completed | 13.0s\n",
      "[########################################] | 100% Completed | 11.2s\n",
      "[########################################] | 100% Completed | 11.3s\n",
      "32.07532453536987\n",
      "source_ab_110_spw29_clean_2sigma_n50000_masked_3sigma_pbmask0p18.image spectra/source_ab_110_spw29_clean_2sigma_n50000_masked_3sigma_pbmask0p18.max_CROPPED.fits\n",
      "source_ab_110_spw29_clean_2sigma_n50000_masked_3sigma_pbmask0p18.image\n"
     ]
    },
    {
     "name": "stderr",
     "output_type": "stream",
     "text": [
      "/blue/adamginsburg/abulatek/anaconda/lib/python3.7/site-packages/casa_formats_io-0.1-py3.7-linux-x86_64.egg/casa_formats_io/casa_dask.py:232: RuntimeWarning: divide by zero encountered in long_scalars\n",
      "  factors = [f for f in range(stacks[dim] + 1) if stacks[dim] % f == 0]\n"
     ]
    },
    {
     "name": "stdout",
     "output_type": "stream",
     "text": [
      "DaskVaryingResolutionSpectralCube with shape=(1920, 512, 512) and unit=Jy / beam and chunk size (80, 256, 512):\n",
      " n_x:    512  type_x: RA---SIN  unit_x: deg    range:   266.528130 deg:  266.560501 deg\n",
      " n_y:    512  type_y: DEC--SIN  unit_y: deg    range:   -28.719152 deg:  -28.690763 deg\n",
      " n_s:   1920  type_s: FREQ      unit_s: Hz     range: 109548373997.542 Hz:111422149820.383 Hz\n",
      "(1920, 512, 512)\n",
      "(512, 512)\n",
      "[                                        ] | 0% Completed |  0.1s"
     ]
    },
    {
     "name": "stderr",
     "output_type": "stream",
     "text": [
      "WARNING: StokesWarning: Cube is a Stokes cube, returning spectral cube for I component [spectral_cube.io.core]\n"
     ]
    },
    {
     "name": "stdout",
     "output_type": "stream",
     "text": [
      "[########################################] | 100% Completed | 13.0s\n",
      "[########################################] | 100% Completed | 13.1s\n",
      "[########################################] | 100% Completed | 10.9s\n",
      "[########################################] | 100% Completed | 11.0s\n",
      "31.257774829864502\n",
      "source_ab_149_spw91_clean_2sigma_n50000_masked_3sigma_pbmask0p18.image spectra/source_ab_149_spw91_clean_2sigma_n50000_masked_3sigma_pbmask0p18.max_CROPPED.fits\n",
      "source_ab_149_spw91_clean_2sigma_n50000_masked_3sigma_pbmask0p18.image\n"
     ]
    },
    {
     "name": "stderr",
     "output_type": "stream",
     "text": [
      "/blue/adamginsburg/abulatek/anaconda/lib/python3.7/site-packages/casa_formats_io-0.1-py3.7-linux-x86_64.egg/casa_formats_io/casa_dask.py:232: RuntimeWarning: divide by zero encountered in long_scalars\n",
      "  factors = [f for f in range(stacks[dim] + 1) if stacks[dim] % f == 0]\n"
     ]
    },
    {
     "name": "stdout",
     "output_type": "stream",
     "text": [
      "DaskVaryingResolutionSpectralCube with shape=(3840, 512, 512) and unit=Jy / beam and chunk size (128, 256, 512):\n",
      " n_x:    512  type_x: RA---SIN  unit_x: deg    range:   266.528130 deg:  266.560501 deg\n",
      " n_y:    512  type_y: DEC--SIN  unit_y: deg    range:   -28.719152 deg:  -28.690763 deg\n",
      " n_s:   3840  type_s: FREQ      unit_s: Hz     range: 148988955184.358 Hz:150863521458.663 Hz\n",
      "(3840, 512, 512)\n",
      "(512, 512)\n",
      "[                                        ] | 0% Completed |  0.1s"
     ]
    },
    {
     "name": "stderr",
     "output_type": "stream",
     "text": [
      "WARNING: StokesWarning: Cube is a Stokes cube, returning spectral cube for I component [spectral_cube.io.core]\n"
     ]
    },
    {
     "name": "stdout",
     "output_type": "stream",
     "text": [
      "[########################################] | 100% Completed | 23.4s\n",
      "[########################################] | 100% Completed | 23.5s\n",
      "[########################################] | 100% Completed | 21.8s\n",
      "[########################################] | 100% Completed | 21.9s\n",
      "57.77927803993225\n",
      "source_ab_137_spw69_dirty.image spectra/source_ab_137_spw69_dirty.max_CROPPED.fits\n",
      "source_ab_137_spw69_dirty.image\n"
     ]
    },
    {
     "name": "stderr",
     "output_type": "stream",
     "text": [
      "/blue/adamginsburg/abulatek/anaconda/lib/python3.7/site-packages/casa_formats_io-0.1-py3.7-linux-x86_64.egg/casa_formats_io/casa_dask.py:232: RuntimeWarning: divide by zero encountered in long_scalars\n",
      "  factors = [f for f in range(stacks[dim] + 1) if stacks[dim] % f == 0]\n"
     ]
    },
    {
     "name": "stdout",
     "output_type": "stream",
     "text": [
      "DaskVaryingResolutionSpectralCube with shape=(3840, 512, 512) and unit=Jy / beam and chunk size (128, 256, 512):\n",
      " n_x:    512  type_x: RA---SIN  unit_x: deg    range:   266.528130 deg:  266.560501 deg\n",
      " n_y:    512  type_y: DEC--SIN  unit_y: deg    range:   -28.719152 deg:  -28.690763 deg\n",
      " n_s:   3840  type_s: FREQ      unit_s: Hz     range: 137150217793.050 Hz:139024783823.551 Hz\n",
      "(3840, 512, 512)\n",
      "(512, 512)\n",
      "[                                        ] | 0% Completed |  0.1s"
     ]
    },
    {
     "name": "stderr",
     "output_type": "stream",
     "text": [
      "WARNING: StokesWarning: Cube is a Stokes cube, returning spectral cube for I component [spectral_cube.io.core]\n"
     ]
    },
    {
     "name": "stdout",
     "output_type": "stream",
     "text": [
      "[########################################] | 100% Completed | 23.4s\n",
      "[########################################] | 100% Completed | 23.4s\n",
      "[########################################] | 100% Completed | 21.8s\n",
      "[########################################] | 100% Completed | 21.9s\n",
      "57.87289094924927\n",
      "source_ab_102_spw106_dirty.image spectra/source_ab_102_spw106_dirty.max_CROPPED.fits\n",
      "source_ab_102_spw106_dirty.image\n"
     ]
    },
    {
     "name": "stderr",
     "output_type": "stream",
     "text": [
      "/blue/adamginsburg/abulatek/anaconda/lib/python3.7/site-packages/casa_formats_io-0.1-py3.7-linux-x86_64.egg/casa_formats_io/casa_dask.py:232: RuntimeWarning: divide by zero encountered in long_scalars\n",
      "  factors = [f for f in range(stacks[dim] + 1) if stacks[dim] % f == 0]\n"
     ]
    },
    {
     "name": "stdout",
     "output_type": "stream",
     "text": [
      "DaskVaryingResolutionSpectralCube with shape=(1920, 512, 512) and unit=Jy / beam and chunk size (80, 256, 512):\n",
      " n_x:    512  type_x: RA---SIN  unit_x: deg    range:   266.528130 deg:  266.560501 deg\n",
      " n_y:    512  type_y: DEC--SIN  unit_y: deg    range:   -28.719152 deg:  -28.690763 deg\n",
      " n_s:   1920  type_s: FREQ      unit_s: Hz     range: 101549438071.648 Hz:103423209520.988 Hz\n",
      "(1920, 512, 512)\n",
      "(512, 512)\n",
      "[                                        ] | 0% Completed |  0.1s"
     ]
    },
    {
     "name": "stderr",
     "output_type": "stream",
     "text": [
      "WARNING: StokesWarning: Cube is a Stokes cube, returning spectral cube for I component [spectral_cube.io.core]\n"
     ]
    },
    {
     "name": "stdout",
     "output_type": "stream",
     "text": [
      "[########################################] | 100% Completed | 13.5s\n",
      "[########################################] | 100% Completed | 13.6s\n",
      "[########################################] | 100% Completed | 10.7s\n",
      "[########################################] | 100% Completed | 10.8s\n",
      "30.47761607170105\n",
      "source_ab_114_spw29_dirty.image spectra/source_ab_114_spw29_dirty.max_CROPPED.fits\n",
      "source_ab_114_spw29_dirty.image\n"
     ]
    },
    {
     "name": "stderr",
     "output_type": "stream",
     "text": [
      "/blue/adamginsburg/abulatek/anaconda/lib/python3.7/site-packages/casa_formats_io-0.1-py3.7-linux-x86_64.egg/casa_formats_io/casa_dask.py:232: RuntimeWarning: divide by zero encountered in long_scalars\n",
      "  factors = [f for f in range(stacks[dim] + 1) if stacks[dim] % f == 0]\n"
     ]
    },
    {
     "name": "stdout",
     "output_type": "stream",
     "text": [
      "DaskVaryingResolutionSpectralCube with shape=(1920, 512, 512) and unit=Jy / beam and chunk size (80, 256, 512):\n",
      " n_x:    512  type_x: RA---SIN  unit_x: deg    range:   266.528130 deg:  266.560501 deg\n",
      " n_y:    512  type_y: DEC--SIN  unit_y: deg    range:   -28.719152 deg:  -28.690763 deg\n",
      " n_s:   1920  type_s: FREQ      unit_s: Hz     range: 114039294673.062 Hz:115913071106.367 Hz\n",
      "(1920, 512, 512)\n",
      "(512, 512)\n",
      "[                                        ] | 0% Completed |  0.1s"
     ]
    },
    {
     "name": "stderr",
     "output_type": "stream",
     "text": [
      "WARNING: StokesWarning: Cube is a Stokes cube, returning spectral cube for I component [spectral_cube.io.core]\n"
     ]
    },
    {
     "name": "stdout",
     "output_type": "stream",
     "text": [
      "[########################################] | 100% Completed | 13.3s\n",
      "[########################################] | 100% Completed | 13.3s\n",
      "[########################################] | 100% Completed | 10.8s\n",
      "[########################################] | 100% Completed | 10.9s\n",
      "30.24655532836914\n",
      "source_ab_257_spw45_dirty.image spectra/source_ab_257_spw45_dirty.max_CROPPED.fits\n",
      "source_ab_257_spw45_dirty.image\n"
     ]
    },
    {
     "name": "stderr",
     "output_type": "stream",
     "text": [
      "/blue/adamginsburg/abulatek/anaconda/lib/python3.7/site-packages/casa_formats_io-0.1-py3.7-linux-x86_64.egg/casa_formats_io/casa_dask.py:232: RuntimeWarning: divide by zero encountered in long_scalars\n",
      "  factors = [f for f in range(stacks[dim] + 1) if stacks[dim] % f == 0]\n"
     ]
    },
    {
     "name": "stdout",
     "output_type": "stream",
     "text": [
      "DaskVaryingResolutionSpectralCube with shape=(3840, 512, 512) and unit=Jy / beam and chunk size (128, 256, 512):\n",
      " n_x:    512  type_x: RA---SIN  unit_x: deg    range:   266.528130 deg:  266.560501 deg\n",
      " n_y:    512  type_y: DEC--SIN  unit_y: deg    range:   -28.719152 deg:  -28.690763 deg\n",
      " n_s:   3840  type_s: FREQ      unit_s: Hz     range: 255308020805.109 Hz:257182502433.963 Hz\n",
      "(3840, 512, 512)\n",
      "(512, 512)\n",
      "[                                        ] | 0% Completed |  0.1s"
     ]
    },
    {
     "name": "stderr",
     "output_type": "stream",
     "text": [
      "WARNING: StokesWarning: Cube is a Stokes cube, returning spectral cube for I component [spectral_cube.io.core]\n"
     ]
    },
    {
     "name": "stdout",
     "output_type": "stream",
     "text": [
      "[########################################] | 100% Completed | 23.3s\n",
      "[########################################] | 100% Completed | 23.4s\n",
      "[########################################] | 100% Completed | 21.3s\n",
      "[########################################] | 100% Completed | 21.4s\n",
      "56.534358978271484\n",
      "source_ab_271_spw49_dirty.image spectra/source_ab_271_spw49_dirty.max_CROPPED.fits\n",
      "source_ab_271_spw49_dirty.image\n"
     ]
    },
    {
     "name": "stderr",
     "output_type": "stream",
     "text": [
      "/blue/adamginsburg/abulatek/anaconda/lib/python3.7/site-packages/casa_formats_io-0.1-py3.7-linux-x86_64.egg/casa_formats_io/casa_dask.py:232: RuntimeWarning: divide by zero encountered in long_scalars\n",
      "  factors = [f for f in range(stacks[dim] + 1) if stacks[dim] % f == 0]\n"
     ]
    },
    {
     "name": "stdout",
     "output_type": "stream",
     "text": [
      "DaskVaryingResolutionSpectralCube with shape=(3840, 512, 512) and unit=Jy / beam and chunk size (128, 256, 512):\n",
      " n_x:    512  type_x: RA---SIN  unit_x: deg    range:   266.528130 deg:  266.560501 deg\n",
      " n_y:    512  type_y: DEC--SIN  unit_y: deg    range:   -28.719152 deg:  -28.690763 deg\n",
      " n_s:   3840  type_s: FREQ      unit_s: Hz     range: 271307763969.477 Hz:273182245597.862 Hz\n",
      "(3840, 512, 512)\n",
      "(512, 512)\n",
      "[                                        ] | 0% Completed |  0.1s"
     ]
    },
    {
     "name": "stderr",
     "output_type": "stream",
     "text": [
      "WARNING: StokesWarning: Cube is a Stokes cube, returning spectral cube for I component [spectral_cube.io.core]\n"
     ]
    },
    {
     "name": "stdout",
     "output_type": "stream",
     "text": [
      "[########################################] | 100% Completed | 24.7s\n",
      "[########################################] | 100% Completed | 24.8s\n",
      "[########################################] | 100% Completed | 21.4s\n",
      "[########################################] | 100% Completed | 21.5s\n",
      "59.22876858711243\n",
      "source_ab_151_spw29_clean_2sigma_n50000_masked_3sigma_pbmask0p18.image spectra/source_ab_151_spw29_clean_2sigma_n50000_masked_3sigma_pbmask0p18.max_CROPPED.fits\n",
      "source_ab_151_spw29_clean_2sigma_n50000_masked_3sigma_pbmask0p18.image\n"
     ]
    },
    {
     "name": "stderr",
     "output_type": "stream",
     "text": [
      "/blue/adamginsburg/abulatek/anaconda/lib/python3.7/site-packages/casa_formats_io-0.1-py3.7-linux-x86_64.egg/casa_formats_io/casa_dask.py:232: RuntimeWarning: divide by zero encountered in long_scalars\n",
      "  factors = [f for f in range(stacks[dim] + 1) if stacks[dim] % f == 0]\n"
     ]
    },
    {
     "name": "stdout",
     "output_type": "stream",
     "text": [
      "DaskVaryingResolutionSpectralCube with shape=(3840, 512, 512) and unit=Jy / beam and chunk size (128, 256, 512):\n",
      " n_x:    512  type_x: RA---SIN  unit_x: deg    range:   266.528130 deg:  266.560501 deg\n",
      " n_y:    512  type_y: DEC--SIN  unit_y: deg    range:   -28.719152 deg:  -28.690763 deg\n",
      " n_s:   3840  type_s: FREQ      unit_s: Hz     range: 150692136091.180 Hz:152566702444.683 Hz\n",
      "(3840, 512, 512)\n",
      "(512, 512)\n",
      "[                                        ] | 0% Completed |  0.1s"
     ]
    },
    {
     "name": "stderr",
     "output_type": "stream",
     "text": [
      "WARNING: StokesWarning: Cube is a Stokes cube, returning spectral cube for I component [spectral_cube.io.core]\n"
     ]
    },
    {
     "name": "stdout",
     "output_type": "stream",
     "text": [
      "[########################################] | 100% Completed | 23.0s\n",
      "[########################################] | 100% Completed | 23.1s\n",
      "[########################################] | 100% Completed | 21.4s\n",
      "[########################################] | 100% Completed | 21.5s\n",
      "58.73762798309326\n",
      "source_ab_139_spw87_clean_2sigma_n50000_masked_3sigma_pbmask0p18.image spectra/source_ab_139_spw87_clean_2sigma_n50000_masked_3sigma_pbmask0p18.max_CROPPED.fits\n",
      "source_ab_139_spw87_clean_2sigma_n50000_masked_3sigma_pbmask0p18.image\n"
     ]
    },
    {
     "name": "stderr",
     "output_type": "stream",
     "text": [
      "/blue/adamginsburg/abulatek/anaconda/lib/python3.7/site-packages/casa_formats_io-0.1-py3.7-linux-x86_64.egg/casa_formats_io/casa_dask.py:232: RuntimeWarning: divide by zero encountered in long_scalars\n",
      "  factors = [f for f in range(stacks[dim] + 1) if stacks[dim] % f == 0]\n"
     ]
    },
    {
     "name": "stdout",
     "output_type": "stream",
     "text": [
      "DaskVaryingResolutionSpectralCube with shape=(3840, 512, 512) and unit=Jy / beam and chunk size (128, 256, 512):\n",
      " n_x:    512  type_x: RA---SIN  unit_x: deg    range:   266.528130 deg:  266.560501 deg\n",
      " n_y:    512  type_y: DEC--SIN  unit_y: deg    range:   -28.719152 deg:  -28.690763 deg\n",
      " n_s:   3840  type_s: FREQ      unit_s: Hz     range: 136988605936.479 Hz:138863172211.018 Hz\n",
      "(3840, 512, 512)\n",
      "(512, 512)\n",
      "[                                        ] | 0% Completed |  0.1s"
     ]
    },
    {
     "name": "stderr",
     "output_type": "stream",
     "text": [
      "WARNING: StokesWarning: Cube is a Stokes cube, returning spectral cube for I component [spectral_cube.io.core]\n"
     ]
    },
    {
     "name": "stdout",
     "output_type": "stream",
     "text": [
      "[########################################] | 100% Completed | 23.3s\n",
      "[########################################] | 100% Completed | 23.4s\n",
      "[########################################] | 100% Completed | 22.4s\n",
      "[########################################] | 100% Completed | 22.5s\n",
      "58.46062517166138\n",
      "source_ab_91_spw25_dirty.image spectra/source_ab_91_spw25_dirty.max_CROPPED.fits\n",
      "source_ab_91_spw25_dirty.image\n"
     ]
    },
    {
     "name": "stderr",
     "output_type": "stream",
     "text": [
      "/blue/adamginsburg/abulatek/anaconda/lib/python3.7/site-packages/casa_formats_io-0.1-py3.7-linux-x86_64.egg/casa_formats_io/casa_dask.py:232: RuntimeWarning: divide by zero encountered in long_scalars\n",
      "  factors = [f for f in range(stacks[dim] + 1) if stacks[dim] % f == 0]\n"
     ]
    },
    {
     "name": "stdout",
     "output_type": "stream",
     "text": [
      "DaskVaryingResolutionSpectralCube with shape=(1920, 512, 512) and unit=Jy / beam and chunk size (80, 256, 512):\n",
      " n_x:    512  type_x: RA---SIN  unit_x: deg    range:   266.528130 deg:  266.560501 deg\n",
      " n_y:    512  type_y: DEC--SIN  unit_y: deg    range:   -28.719152 deg:  -28.690763 deg\n",
      " n_s:   1920  type_s: FREQ      unit_s: Hz     range: 89551042503.439 Hz:91424816292.204 Hz\n",
      "(1920, 512, 512)\n",
      "(512, 512)\n",
      "[                                        ] | 0% Completed |  0.1s"
     ]
    },
    {
     "name": "stderr",
     "output_type": "stream",
     "text": [
      "WARNING: StokesWarning: Cube is a Stokes cube, returning spectral cube for I component [spectral_cube.io.core]\n"
     ]
    },
    {
     "name": "stdout",
     "output_type": "stream",
     "text": [
      "[########################################] | 100% Completed | 13.2s\n",
      "[########################################] | 100% Completed | 13.3s\n",
      "[########################################] | 100% Completed | 11.0s\n",
      "[########################################] | 100% Completed | 11.1s\n",
      "30.43984603881836\n",
      "source_ab_247_spw105_dirty.image spectra/source_ab_247_spw105_dirty.max_CROPPED.fits\n",
      "source_ab_247_spw105_dirty.image\n"
     ]
    },
    {
     "name": "stderr",
     "output_type": "stream",
     "text": [
      "/blue/adamginsburg/abulatek/anaconda/lib/python3.7/site-packages/casa_formats_io-0.1-py3.7-linux-x86_64.egg/casa_formats_io/casa_dask.py:232: RuntimeWarning: divide by zero encountered in long_scalars\n",
      "  factors = [f for f in range(stacks[dim] + 1) if stacks[dim] % f == 0]\n"
     ]
    },
    {
     "name": "stdout",
     "output_type": "stream",
     "text": [
      "DaskVaryingResolutionSpectralCube with shape=(3840, 512, 512) and unit=Jy / beam and chunk size (128, 256, 512):\n",
      " n_x:    512  type_x: RA---SIN  unit_x: deg    range:   266.528130 deg:  266.560501 deg\n",
      " n_y:    512  type_y: DEC--SIN  unit_y: deg    range:   -28.719152 deg:  -28.690763 deg\n",
      " n_s:   3840  type_s: FREQ      unit_s: Hz     range: 245089418823.116 Hz:246963900329.189 Hz\n",
      "(3840, 512, 512)\n",
      "(512, 512)\n",
      "[                                        ] | 0% Completed |  0.1s"
     ]
    },
    {
     "name": "stderr",
     "output_type": "stream",
     "text": [
      "WARNING: StokesWarning: Cube is a Stokes cube, returning spectral cube for I component [spectral_cube.io.core]\n"
     ]
    },
    {
     "name": "stdout",
     "output_type": "stream",
     "text": [
      "[########################################] | 100% Completed | 25.6s\n",
      "[########################################] | 100% Completed | 25.7s\n",
      "[########################################] | 100% Completed | 24.6s\n",
      "[########################################] | 100% Completed | 24.7s\n",
      "62.077094078063965\n",
      "source_ab_98_spw106_clean_2sigma_n50000_masked_3sigma_pbmask0p18.image spectra/source_ab_98_spw106_clean_2sigma_n50000_masked_3sigma_pbmask0p18.max_CROPPED.fits\n",
      "source_ab_98_spw106_clean_2sigma_n50000_masked_3sigma_pbmask0p18.image\n"
     ]
    },
    {
     "name": "stderr",
     "output_type": "stream",
     "text": [
      "/blue/adamginsburg/abulatek/anaconda/lib/python3.7/site-packages/casa_formats_io-0.1-py3.7-linux-x86_64.egg/casa_formats_io/casa_dask.py:232: RuntimeWarning: divide by zero encountered in long_scalars\n",
      "  factors = [f for f in range(stacks[dim] + 1) if stacks[dim] % f == 0]\n"
     ]
    },
    {
     "name": "stdout",
     "output_type": "stream",
     "text": [
      "DaskVaryingResolutionSpectralCube with shape=(1920, 512, 512) and unit=Jy / beam and chunk size (80, 256, 512):\n",
      " n_x:    512  type_x: RA---SIN  unit_x: deg    range:   266.528130 deg:  266.560501 deg\n",
      " n_y:    512  type_y: DEC--SIN  unit_y: deg    range:   -28.719152 deg:  -28.690763 deg\n",
      " n_s:   1920  type_s: FREQ      unit_s: Hz     range: 97549972351.399 Hz:99423743926.415 Hz\n",
      "(1920, 512, 512)\n",
      "(512, 512)\n",
      "[                                        ] | 0% Completed |  0.1s"
     ]
    },
    {
     "name": "stderr",
     "output_type": "stream",
     "text": [
      "WARNING: StokesWarning: Cube is a Stokes cube, returning spectral cube for I component [spectral_cube.io.core]\n"
     ]
    },
    {
     "name": "stdout",
     "output_type": "stream",
     "text": [
      "[########################################] | 100% Completed | 13.4s\n",
      "[########################################] | 100% Completed | 13.5s\n",
      "[########################################] | 100% Completed | 11.0s\n",
      "[########################################] | 100% Completed | 11.1s\n",
      "30.71686577796936\n",
      "source_ab_271_spw49_clean_2sigma_n50000_masked_3sigma_pbmask0p18.image spectra/source_ab_271_spw49_clean_2sigma_n50000_masked_3sigma_pbmask0p18.max_CROPPED.fits\n",
      "source_ab_271_spw49_clean_2sigma_n50000_masked_3sigma_pbmask0p18.image\n"
     ]
    },
    {
     "name": "stderr",
     "output_type": "stream",
     "text": [
      "/blue/adamginsburg/abulatek/anaconda/lib/python3.7/site-packages/casa_formats_io-0.1-py3.7-linux-x86_64.egg/casa_formats_io/casa_dask.py:232: RuntimeWarning: divide by zero encountered in long_scalars\n",
      "  factors = [f for f in range(stacks[dim] + 1) if stacks[dim] % f == 0]\n"
     ]
    },
    {
     "name": "stdout",
     "output_type": "stream",
     "text": [
      "DaskVaryingResolutionSpectralCube with shape=(3840, 512, 512) and unit=Jy / beam and chunk size (128, 256, 512):\n",
      " n_x:    512  type_x: RA---SIN  unit_x: deg    range:   266.528130 deg:  266.560501 deg\n",
      " n_y:    512  type_y: DEC--SIN  unit_y: deg    range:   -28.719152 deg:  -28.690763 deg\n",
      " n_s:   3840  type_s: FREQ      unit_s: Hz     range: 271307763969.477 Hz:273182245597.862 Hz\n",
      "(3840, 512, 512)\n",
      "(512, 512)\n",
      "[                                        ] | 0% Completed |  0.1s"
     ]
    },
    {
     "name": "stderr",
     "output_type": "stream",
     "text": [
      "WARNING: StokesWarning: Cube is a Stokes cube, returning spectral cube for I component [spectral_cube.io.core]\n"
     ]
    },
    {
     "name": "stdout",
     "output_type": "stream",
     "text": [
      "[########################################] | 100% Completed | 26.2s\n",
      "[########################################] | 100% Completed | 26.2s\n",
      "[########################################] | 100% Completed | 25.5s\n",
      "[########################################] | 100% Completed | 25.6s\n",
      "63.45901870727539\n",
      "source_ab_135_spw47_clean_2sigma_n50000_masked_3sigma_pbmask0p18.image spectra/source_ab_135_spw47_clean_2sigma_n50000_masked_3sigma_pbmask0p18.max_CROPPED.fits\n",
      "source_ab_135_spw47_clean_2sigma_n50000_masked_3sigma_pbmask0p18.image\n"
     ]
    },
    {
     "name": "stderr",
     "output_type": "stream",
     "text": [
      "/blue/adamginsburg/abulatek/anaconda/lib/python3.7/site-packages/casa_formats_io-0.1-py3.7-linux-x86_64.egg/casa_formats_io/casa_dask.py:232: RuntimeWarning: divide by zero encountered in long_scalars\n",
      "  factors = [f for f in range(stacks[dim] + 1) if stacks[dim] % f == 0]\n"
     ]
    },
    {
     "name": "stdout",
     "output_type": "stream",
     "text": [
      "DaskVaryingResolutionSpectralCube with shape=(3840, 512, 512) and unit=Jy / beam and chunk size (128, 256, 512):\n",
      " n_x:    512  type_x: RA---SIN  unit_x: deg    range:   266.528130 deg:  266.560501 deg\n",
      " n_y:    512  type_y: DEC--SIN  unit_y: deg    range:   -28.719152 deg:  -28.690763 deg\n",
      " n_s:   3840  type_s: FREQ      unit_s: Hz     range: 133582251086.390 Hz:135456817280.560 Hz\n",
      "(3840, 512, 512)\n",
      "(512, 512)\n",
      "[                                        ] | 0% Completed |  0.1s"
     ]
    },
    {
     "name": "stderr",
     "output_type": "stream",
     "text": [
      "WARNING: StokesWarning: Cube is a Stokes cube, returning spectral cube for I component [spectral_cube.io.core]\n"
     ]
    },
    {
     "name": "stdout",
     "output_type": "stream",
     "text": [
      "[########################################] | 100% Completed | 25.5s\n",
      "[########################################] | 100% Completed | 25.6s\n",
      "[########################################] | 100% Completed | 25.6s\n",
      "[########################################] | 100% Completed | 25.7s\n",
      "62.98441958427429\n",
      "source_ab_87_spw102_dirty.image spectra/source_ab_87_spw102_dirty.max_CROPPED.fits\n",
      "source_ab_87_spw102_dirty.image\n"
     ]
    },
    {
     "name": "stderr",
     "output_type": "stream",
     "text": [
      "/blue/adamginsburg/abulatek/anaconda/lib/python3.7/site-packages/casa_formats_io-0.1-py3.7-linux-x86_64.egg/casa_formats_io/casa_dask.py:232: RuntimeWarning: divide by zero encountered in long_scalars\n",
      "  factors = [f for f in range(stacks[dim] + 1) if stacks[dim] % f == 0]\n"
     ]
    },
    {
     "name": "stdout",
     "output_type": "stream",
     "text": [
      "DaskVaryingResolutionSpectralCube with shape=(1920, 512, 512) and unit=Jy / beam and chunk size (80, 256, 512):\n",
      " n_x:    512  type_x: RA---SIN  unit_x: deg    range:   266.528130 deg:  266.560501 deg\n",
      " n_y:    512  type_y: DEC--SIN  unit_y: deg    range:   -28.719152 deg:  -28.690763 deg\n",
      " n_s:   1920  type_s: FREQ      unit_s: Hz     range: 85551577967.789 Hz:87425349542.806 Hz\n",
      "(1920, 512, 512)\n",
      "(512, 512)\n",
      "[                                        ] | 0% Completed |  0.1s"
     ]
    },
    {
     "name": "stderr",
     "output_type": "stream",
     "text": [
      "WARNING: StokesWarning: Cube is a Stokes cube, returning spectral cube for I component [spectral_cube.io.core]\n"
     ]
    },
    {
     "name": "stdout",
     "output_type": "stream",
     "text": [
      "[########################################] | 100% Completed | 13.1s\n",
      "[########################################] | 100% Completed | 13.2s\n",
      "[########################################] | 100% Completed | 11.1s\n",
      "[########################################] | 100% Completed | 11.2s\n",
      "30.447221517562866\n",
      "source_ab_99_spw25_clean_2sigma_n50000_masked_3sigma_pbmask0p18.image spectra/source_ab_99_spw25_clean_2sigma_n50000_masked_3sigma_pbmask0p18.max_CROPPED.fits\n",
      "source_ab_99_spw25_clean_2sigma_n50000_masked_3sigma_pbmask0p18.image\n"
     ]
    },
    {
     "name": "stderr",
     "output_type": "stream",
     "text": [
      "/blue/adamginsburg/abulatek/anaconda/lib/python3.7/site-packages/casa_formats_io-0.1-py3.7-linux-x86_64.egg/casa_formats_io/casa_dask.py:232: RuntimeWarning: divide by zero encountered in long_scalars\n",
      "  factors = [f for f in range(stacks[dim] + 1) if stacks[dim] % f == 0]\n"
     ]
    },
    {
     "name": "stdout",
     "output_type": "stream",
     "text": [
      "DaskVaryingResolutionSpectralCube with shape=(1920, 512, 512) and unit=Jy / beam and chunk size (80, 256, 512):\n",
      " n_x:    512  type_x: RA---SIN  unit_x: deg    range:   266.528130 deg:  266.560501 deg\n",
      " n_y:    512  type_y: DEC--SIN  unit_y: deg    range:   -28.719152 deg:  -28.690763 deg\n",
      " n_s:   1920  type_s: FREQ      unit_s: Hz     range: 97549965867.203 Hz:99423741690.045 Hz\n",
      "(1920, 512, 512)\n",
      "(512, 512)\n",
      "[                                        ] | 0% Completed |  0.1s"
     ]
    },
    {
     "name": "stderr",
     "output_type": "stream",
     "text": [
      "WARNING: StokesWarning: Cube is a Stokes cube, returning spectral cube for I component [spectral_cube.io.core]\n"
     ]
    },
    {
     "name": "stdout",
     "output_type": "stream",
     "text": [
      "[########################################] | 100% Completed | 13.0s\n",
      "[########################################] | 100% Completed | 13.1s\n",
      "[########################################] | 100% Completed | 11.1s\n",
      "[########################################] | 100% Completed | 11.2s\n",
      "31.38684868812561\n",
      "source_ab_138_spw25_clean_2sigma.image spectra/source_ab_138_spw25_clean_2sigma.max_CROPPED.fits\n",
      "source_ab_138_spw25_clean_2sigma.image\n"
     ]
    },
    {
     "name": "stderr",
     "output_type": "stream",
     "text": [
      "/blue/adamginsburg/abulatek/anaconda/lib/python3.7/site-packages/casa_formats_io-0.1-py3.7-linux-x86_64.egg/casa_formats_io/casa_dask.py:232: RuntimeWarning: divide by zero encountered in long_scalars\n",
      "  factors = [f for f in range(stacks[dim] + 1) if stacks[dim] % f == 0]\n"
     ]
    },
    {
     "name": "stdout",
     "output_type": "stream",
     "text": [
      "DaskVaryingResolutionSpectralCube with shape=(3840, 512, 512) and unit=Jy / beam and chunk size (128, 256, 512):\n",
      " n_x:    512  type_x: RA---SIN  unit_x: deg    range:   266.528130 deg:  266.560501 deg\n",
      " n_y:    512  type_y: DEC--SIN  unit_y: deg    range:   -28.719152 deg:  -28.690763 deg\n",
      " n_s:   3840  type_s: FREQ      unit_s: Hz     range: 138691786338.613 Hz:140566352691.882 Hz\n",
      "(3840, 512, 512)\n",
      "(512, 512)\n",
      "[                                        ] | 0% Completed |  0.1s"
     ]
    },
    {
     "name": "stderr",
     "output_type": "stream",
     "text": [
      "WARNING: StokesWarning: Cube is a Stokes cube, returning spectral cube for I component [spectral_cube.io.core]\n"
     ]
    },
    {
     "name": "stdout",
     "output_type": "stream",
     "text": [
      "[########################################] | 100% Completed | 24.7s\n",
      "[########################################] | 100% Completed | 24.7s\n",
      "[########################################] | 100% Completed | 26.4s\n",
      "[########################################] | 100% Completed | 26.5s\n",
      "64.1650927066803\n",
      "source_ab_103_spw31_dirty.image spectra/source_ab_103_spw31_dirty.max_CROPPED.fits\n",
      "source_ab_103_spw31_dirty.image\n"
     ]
    },
    {
     "name": "stderr",
     "output_type": "stream",
     "text": [
      "/blue/adamginsburg/abulatek/anaconda/lib/python3.7/site-packages/casa_formats_io-0.1-py3.7-linux-x86_64.egg/casa_formats_io/casa_dask.py:232: RuntimeWarning: divide by zero encountered in long_scalars\n",
      "  factors = [f for f in range(stacks[dim] + 1) if stacks[dim] % f == 0]\n"
     ]
    },
    {
     "name": "stdout",
     "output_type": "stream",
     "text": [
      "DaskVaryingResolutionSpectralCube with shape=(1920, 512, 512) and unit=Jy / beam and chunk size (80, 256, 512):\n",
      " n_x:    512  type_x: RA---SIN  unit_x: deg    range:   266.528130 deg:  266.560501 deg\n",
      " n_y:    512  type_y: DEC--SIN  unit_y: deg    range:   -28.719152 deg:  -28.690763 deg\n",
      " n_s:   1920  type_s: FREQ      unit_s: Hz     range: 103424193100.026 Hz:105297966888.849 Hz\n",
      "(1920, 512, 512)\n",
      "(512, 512)\n",
      "[                                        ] | 0% Completed |  0.1s"
     ]
    },
    {
     "name": "stderr",
     "output_type": "stream",
     "text": [
      "WARNING: StokesWarning: Cube is a Stokes cube, returning spectral cube for I component [spectral_cube.io.core]\n"
     ]
    },
    {
     "name": "stdout",
     "output_type": "stream",
     "text": [
      "[########################################] | 100% Completed | 13.3s\n",
      "[########################################] | 100% Completed | 13.4s\n",
      "[########################################] | 100% Completed | 11.1s\n",
      "[########################################] | 100% Completed | 11.2s\n",
      "30.623313426971436\n",
      "source_ab_144_spw49_clean_2sigma_n50000_masked_3sigma_pbmask0p18.image spectra/source_ab_144_spw49_clean_2sigma_n50000_masked_3sigma_pbmask0p18.max_CROPPED.fits\n",
      "source_ab_144_spw49_clean_2sigma_n50000_masked_3sigma_pbmask0p18.image\n"
     ]
    },
    {
     "name": "stderr",
     "output_type": "stream",
     "text": [
      "/blue/adamginsburg/abulatek/anaconda/lib/python3.7/site-packages/casa_formats_io-0.1-py3.7-linux-x86_64.egg/casa_formats_io/casa_dask.py:232: RuntimeWarning: divide by zero encountered in long_scalars\n",
      "  factors = [f for f in range(stacks[dim] + 1) if stacks[dim] % f == 0]\n"
     ]
    },
    {
     "name": "stdout",
     "output_type": "stream",
     "text": [
      "DaskVaryingResolutionSpectralCube with shape=(3840, 512, 512) and unit=Jy / beam and chunk size (128, 256, 512):\n",
      " n_x:    512  type_x: RA---SIN  unit_x: deg    range:   266.528130 deg:  266.560501 deg\n",
      " n_y:    512  type_y: DEC--SIN  unit_y: deg    range:   -28.719152 deg:  -28.690763 deg\n",
      " n_s:   3840  type_s: FREQ      unit_s: Hz     range: 143879425325.871 Hz:145753991520.040 Hz\n",
      "(3840, 512, 512)\n",
      "(512, 512)\n",
      "[                                        ] | 0% Completed |  0.1s"
     ]
    },
    {
     "name": "stderr",
     "output_type": "stream",
     "text": [
      "WARNING: StokesWarning: Cube is a Stokes cube, returning spectral cube for I component [spectral_cube.io.core]\n"
     ]
    },
    {
     "name": "stdout",
     "output_type": "stream",
     "text": [
      "[########################################] | 100% Completed | 24.6s\n",
      "[########################################] | 100% Completed | 24.7s\n",
      "[########################################] | 100% Completed | 23.0s\n",
      "[########################################] | 100% Completed | 23.1s\n",
      "59.50481081008911\n",
      "source_ab_151_spw29_dirty_512.image spectra/source_ab_151_spw29_dirty_512.max_CROPPED.fits\n",
      "source_ab_151_spw29_dirty_512.image\n"
     ]
    },
    {
     "name": "stderr",
     "output_type": "stream",
     "text": [
      "/blue/adamginsburg/abulatek/anaconda/lib/python3.7/site-packages/casa_formats_io-0.1-py3.7-linux-x86_64.egg/casa_formats_io/casa_dask.py:232: RuntimeWarning: divide by zero encountered in long_scalars\n",
      "  factors = [f for f in range(stacks[dim] + 1) if stacks[dim] % f == 0]\n"
     ]
    },
    {
     "name": "stdout",
     "output_type": "stream",
     "text": [
      "DaskVaryingResolutionSpectralCube with shape=(3840, 512, 512) and unit=Jy / beam and chunk size (128, 256, 512):\n",
      " n_x:    512  type_x: RA---SIN  unit_x: deg    range:   266.528130 deg:  266.560501 deg\n",
      " n_y:    512  type_y: DEC--SIN  unit_y: deg    range:   -28.719152 deg:  -28.690763 deg\n",
      " n_s:   3840  type_s: FREQ      unit_s: Hz     range: 150692136091.180 Hz:152566702444.683 Hz\n",
      "(3840, 512, 512)\n",
      "(512, 512)\n",
      "[                                        ] | 0% Completed |  0.1s"
     ]
    },
    {
     "name": "stderr",
     "output_type": "stream",
     "text": [
      "WARNING: StokesWarning: Cube is a Stokes cube, returning spectral cube for I component [spectral_cube.io.core]\n"
     ]
    },
    {
     "name": "stdout",
     "output_type": "stream",
     "text": [
      "[########################################] | 100% Completed | 23.8s\n",
      "[########################################] | 100% Completed | 23.9s\n",
      "[########################################] | 100% Completed | 22.4s\n",
      "[########################################] | 100% Completed | 22.4s\n",
      "57.94172811508179\n",
      "source_ab_270_spw91_dirty.image spectra/source_ab_270_spw91_dirty.max_CROPPED.fits\n",
      "source_ab_270_spw91_dirty.image\n"
     ]
    },
    {
     "name": "stderr",
     "output_type": "stream",
     "text": [
      "/blue/adamginsburg/abulatek/anaconda/lib/python3.7/site-packages/casa_formats_io-0.1-py3.7-linux-x86_64.egg/casa_formats_io/casa_dask.py:232: RuntimeWarning: divide by zero encountered in long_scalars\n",
      "  factors = [f for f in range(stacks[dim] + 1) if stacks[dim] % f == 0]\n"
     ]
    },
    {
     "name": "stdout",
     "output_type": "stream",
     "text": [
      "DaskVaryingResolutionSpectralCube with shape=(3840, 512, 512) and unit=Jy / beam and chunk size (128, 256, 512):\n",
      " n_x:    512  type_x: RA---SIN  unit_x: deg    range:   266.528130 deg:  266.560501 deg\n",
      " n_y:    512  type_y: DEC--SIN  unit_y: deg    range:   -28.719152 deg:  -28.690763 deg\n",
      " n_s:   3840  type_s: FREQ      unit_s: Hz     range: 269604660476.091 Hz:271479142064.174 Hz\n",
      "(3840, 512, 512)\n",
      "(512, 512)\n",
      "[                                        ] | 0% Completed |  0.1s"
     ]
    },
    {
     "name": "stderr",
     "output_type": "stream",
     "text": [
      "WARNING: StokesWarning: Cube is a Stokes cube, returning spectral cube for I component [spectral_cube.io.core]\n"
     ]
    },
    {
     "name": "stdout",
     "output_type": "stream",
     "text": [
      "[########################################] | 100% Completed | 24.4s\n",
      "[########################################] | 100% Completed | 24.5s\n",
      "[########################################] | 100% Completed | 25.1s\n",
      "[########################################] | 100% Completed | 25.2s\n",
      "61.66902232170105\n",
      "source_ab_137_spw69_clean_2sigma_n50000_masked_3sigma_pbmask0p18.image spectra/source_ab_137_spw69_clean_2sigma_n50000_masked_3sigma_pbmask0p18.max_CROPPED.fits\n",
      "source_ab_137_spw69_clean_2sigma_n50000_masked_3sigma_pbmask0p18.image\n"
     ]
    },
    {
     "name": "stderr",
     "output_type": "stream",
     "text": [
      "/blue/adamginsburg/abulatek/anaconda/lib/python3.7/site-packages/casa_formats_io-0.1-py3.7-linux-x86_64.egg/casa_formats_io/casa_dask.py:232: RuntimeWarning: divide by zero encountered in long_scalars\n",
      "  factors = [f for f in range(stacks[dim] + 1) if stacks[dim] % f == 0]\n"
     ]
    },
    {
     "name": "stdout",
     "output_type": "stream",
     "text": [
      "DaskVaryingResolutionSpectralCube with shape=(3840, 512, 512) and unit=Jy / beam and chunk size (128, 256, 512):\n",
      " n_x:    512  type_x: RA---SIN  unit_x: deg    range:   266.528130 deg:  266.560501 deg\n",
      " n_y:    512  type_y: DEC--SIN  unit_y: deg    range:   -28.719152 deg:  -28.690763 deg\n",
      " n_s:   3840  type_s: FREQ      unit_s: Hz     range: 137150217793.050 Hz:139024783823.551 Hz\n",
      "(3840, 512, 512)\n",
      "(512, 512)\n",
      "[                                        ] | 0% Completed |  0.1s"
     ]
    },
    {
     "name": "stderr",
     "output_type": "stream",
     "text": [
      "WARNING: StokesWarning: Cube is a Stokes cube, returning spectral cube for I component [spectral_cube.io.core]\n"
     ]
    },
    {
     "name": "stdout",
     "output_type": "stream",
     "text": [
      "[########################################] | 100% Completed | 25.0s\n",
      "[########################################] | 100% Completed | 25.1s\n",
      "[########################################] | 100% Completed | 23.1s\n",
      "[########################################] | 100% Completed | 23.1s\n",
      "60.04889369010925\n",
      "source_ab_137_spw85_clean_2sigma_n50000_masked_3sigma_pbmask0p18.image spectra/source_ab_137_spw85_clean_2sigma_n50000_masked_3sigma_pbmask0p18.max_CROPPED.fits\n",
      "source_ab_137_spw85_clean_2sigma_n50000_masked_3sigma_pbmask0p18.image\n"
     ]
    },
    {
     "name": "stderr",
     "output_type": "stream",
     "text": [
      "/blue/adamginsburg/abulatek/anaconda/lib/python3.7/site-packages/casa_formats_io-0.1-py3.7-linux-x86_64.egg/casa_formats_io/casa_dask.py:232: RuntimeWarning: divide by zero encountered in long_scalars\n",
      "  factors = [f for f in range(stacks[dim] + 1) if stacks[dim] % f == 0]\n"
     ]
    },
    {
     "name": "stdout",
     "output_type": "stream",
     "text": [
      "DaskVaryingResolutionSpectralCube with shape=(3840, 512, 512) and unit=Jy / beam and chunk size (128, 256, 512):\n",
      " n_x:    512  type_x: RA---SIN  unit_x: deg    range:   266.528130 deg:  266.560501 deg\n",
      " n_y:    512  type_y: DEC--SIN  unit_y: deg    range:   -28.719152 deg:  -28.690763 deg\n",
      " n_s:   3840  type_s: FREQ      unit_s: Hz     range: 135285431368.900 Hz:137159997643.322 Hz\n",
      "(3840, 512, 512)\n",
      "(512, 512)\n",
      "[                                        ] | 0% Completed |  0.1s"
     ]
    },
    {
     "name": "stderr",
     "output_type": "stream",
     "text": [
      "WARNING: StokesWarning: Cube is a Stokes cube, returning spectral cube for I component [spectral_cube.io.core]\n"
     ]
    },
    {
     "name": "stdout",
     "output_type": "stream",
     "text": [
      "[########################################] | 100% Completed | 23.4s\n",
      "[########################################] | 100% Completed | 23.4s\n",
      "[########################################] | 100% Completed | 22.9s\n",
      "[########################################] | 100% Completed | 23.0s\n",
      "59.851595640182495\n",
      "source_ab_102_spw23_dirty.image spectra/source_ab_102_spw23_dirty.max_CROPPED.fits\n",
      "source_ab_102_spw23_dirty.image\n"
     ]
    },
    {
     "name": "stderr",
     "output_type": "stream",
     "text": [
      "/blue/adamginsburg/abulatek/anaconda/lib/python3.7/site-packages/casa_formats_io-0.1-py3.7-linux-x86_64.egg/casa_formats_io/casa_dask.py:232: RuntimeWarning: divide by zero encountered in long_scalars\n",
      "  factors = [f for f in range(stacks[dim] + 1) if stacks[dim] % f == 0]\n"
     ]
    },
    {
     "name": "stdout",
     "output_type": "stream",
     "text": [
      "DaskVaryingResolutionSpectralCube with shape=(1920, 512, 512) and unit=Jy / beam and chunk size (80, 256, 512):\n",
      " n_x:    512  type_x: RA---SIN  unit_x: deg    range:   266.528130 deg:  266.560501 deg\n",
      " n_y:    512  type_y: DEC--SIN  unit_y: deg    range:   -28.719152 deg:  -28.690763 deg\n",
      " n_s:   1920  type_s: FREQ      unit_s: Hz     range: 100208117920.653 Hz:102081894353.958 Hz\n",
      "(1920, 512, 512)\n",
      "(512, 512)\n",
      "[                                        ] | 0% Completed |  0.1s"
     ]
    },
    {
     "name": "stderr",
     "output_type": "stream",
     "text": [
      "WARNING: StokesWarning: Cube is a Stokes cube, returning spectral cube for I component [spectral_cube.io.core]\n"
     ]
    },
    {
     "name": "stdout",
     "output_type": "stream",
     "text": [
      "[########################################] | 100% Completed | 12.9s\n",
      "[########################################] | 100% Completed | 13.0s\n",
      "[########################################] | 100% Completed | 11.0s\n",
      "[########################################] | 100% Completed | 11.1s\n",
      "30.133397102355957\n",
      "source_ab_245_spw67_dirty.image spectra/source_ab_245_spw67_dirty.max_CROPPED.fits\n",
      "source_ab_245_spw67_dirty.image\n"
     ]
    },
    {
     "name": "stderr",
     "output_type": "stream",
     "text": [
      "/blue/adamginsburg/abulatek/anaconda/lib/python3.7/site-packages/casa_formats_io-0.1-py3.7-linux-x86_64.egg/casa_formats_io/casa_dask.py:232: RuntimeWarning: divide by zero encountered in long_scalars\n",
      "  factors = [f for f in range(stacks[dim] + 1) if stacks[dim] % f == 0]\n"
     ]
    },
    {
     "name": "stdout",
     "output_type": "stream",
     "text": [
      "DaskVaryingResolutionSpectralCube with shape=(3840, 512, 512) and unit=Jy / beam and chunk size (128, 256, 512):\n",
      " n_x:    512  type_x: RA---SIN  unit_x: deg    range:   266.528130 deg:  266.560501 deg\n",
      " n_y:    512  type_y: DEC--SIN  unit_y: deg    range:   -28.719152 deg:  -28.690763 deg\n",
      " n_s:   3840  type_s: FREQ      unit_s: Hz     range: 243386315918.871 Hz:245260797383.705 Hz\n",
      "(3840, 512, 512)\n",
      "(512, 512)\n",
      "[                                        ] | 0% Completed |  0.1s"
     ]
    },
    {
     "name": "stderr",
     "output_type": "stream",
     "text": [
      "WARNING: StokesWarning: Cube is a Stokes cube, returning spectral cube for I component [spectral_cube.io.core]\n"
     ]
    },
    {
     "name": "stdout",
     "output_type": "stream",
     "text": [
      "[########################################] | 100% Completed | 24.8s\n",
      "[########################################] | 100% Completed | 24.9s\n",
      "[########################################] | 100% Completed | 24.2s\n",
      "[########################################] | 100% Completed | 24.3s\n",
      "60.82282090187073\n",
      "source_ab_273_spw51_clean_2sigma_n50000_masked_3sigma_pbmask0p18.image spectra/source_ab_273_spw51_clean_2sigma_n50000_masked_3sigma_pbmask0p18.max_CROPPED.fits\n",
      "source_ab_273_spw51_clean_2sigma_n50000_masked_3sigma_pbmask0p18.image\n"
     ]
    },
    {
     "name": "stderr",
     "output_type": "stream",
     "text": [
      "/blue/adamginsburg/abulatek/anaconda/lib/python3.7/site-packages/casa_formats_io-0.1-py3.7-linux-x86_64.egg/casa_formats_io/casa_dask.py:232: RuntimeWarning: divide by zero encountered in long_scalars\n",
      "  factors = [f for f in range(stacks[dim] + 1) if stacks[dim] % f == 0]\n"
     ]
    },
    {
     "name": "stdout",
     "output_type": "stream",
     "text": [
      "DaskVaryingResolutionSpectralCube with shape=(3840, 512, 512) and unit=Jy / beam and chunk size (128, 256, 512):\n",
      " n_x:    512  type_x: RA---SIN  unit_x: deg    range:   266.528130 deg:  266.560501 deg\n",
      " n_y:    512  type_y: DEC--SIN  unit_y: deg    range:   -28.719152 deg:  -28.690763 deg\n",
      " n_s:   3840  type_s: FREQ      unit_s: Hz     range: 273010861630.481 Hz:274885343259.334 Hz\n",
      "(3840, 512, 512)\n",
      "(512, 512)\n",
      "[                                        ] | 0% Completed |  0.1s"
     ]
    },
    {
     "name": "stderr",
     "output_type": "stream",
     "text": [
      "WARNING: StokesWarning: Cube is a Stokes cube, returning spectral cube for I component [spectral_cube.io.core]\n"
     ]
    },
    {
     "name": "stdout",
     "output_type": "stream",
     "text": [
      "[########################################] | 100% Completed | 24.4s\n",
      "[########################################] | 100% Completed | 24.5s\n",
      "[########################################] | 100% Completed | 23.7s\n",
      "[########################################] | 100% Completed | 23.8s\n",
      "59.928998708724976\n",
      "source_ab_95_spw25_clean_2sigma_n50000_masked_3sigma_pbmask0p18.image spectra/source_ab_95_spw25_clean_2sigma_n50000_masked_3sigma_pbmask0p18.max_CROPPED.fits\n",
      "source_ab_95_spw25_clean_2sigma_n50000_masked_3sigma_pbmask0p18.image\n"
     ]
    },
    {
     "name": "stderr",
     "output_type": "stream",
     "text": [
      "/blue/adamginsburg/abulatek/anaconda/lib/python3.7/site-packages/casa_formats_io-0.1-py3.7-linux-x86_64.egg/casa_formats_io/casa_dask.py:232: RuntimeWarning: divide by zero encountered in long_scalars\n",
      "  factors = [f for f in range(stacks[dim] + 1) if stacks[dim] % f == 0]\n"
     ]
    },
    {
     "name": "stdout",
     "output_type": "stream",
     "text": [
      "DaskVaryingResolutionSpectralCube with shape=(1920, 512, 512) and unit=Jy / beam and chunk size (80, 256, 512):\n",
      " n_x:    512  type_x: RA---SIN  unit_x: deg    range:   266.528130 deg:  266.560501 deg\n",
      " n_y:    512  type_y: DEC--SIN  unit_y: deg    range:   -28.719152 deg:  -28.690763 deg\n",
      " n_s:   1920  type_s: FREQ      unit_s: Hz     range: 93550498100.192 Hz:95424274382.872 Hz\n",
      "(1920, 512, 512)\n",
      "(512, 512)\n",
      "[                                        ] | 0% Completed |  0.1s"
     ]
    },
    {
     "name": "stderr",
     "output_type": "stream",
     "text": [
      "WARNING: StokesWarning: Cube is a Stokes cube, returning spectral cube for I component [spectral_cube.io.core]\n"
     ]
    },
    {
     "name": "stdout",
     "output_type": "stream",
     "text": [
      "[########################################] | 100% Completed | 12.3s\n",
      "[########################################] | 100% Completed | 12.4s\n",
      "[########################################] | 100% Completed | 11.1s\n",
      "[########################################] | 100% Completed | 11.2s\n",
      "30.647897720336914\n",
      "source_ab_141_spw25_clean_2sigma_n50000_masked_3sigma_pbmask0p18.image spectra/source_ab_141_spw25_clean_2sigma_n50000_masked_3sigma_pbmask0p18.max_CROPPED.fits\n",
      "source_ab_141_spw25_clean_2sigma_n50000_masked_3sigma_pbmask0p18.image\n"
     ]
    },
    {
     "name": "stderr",
     "output_type": "stream",
     "text": [
      "/blue/adamginsburg/abulatek/anaconda/lib/python3.7/site-packages/casa_formats_io-0.1-py3.7-linux-x86_64.egg/casa_formats_io/casa_dask.py:232: RuntimeWarning: divide by zero encountered in long_scalars\n",
      "  factors = [f for f in range(stacks[dim] + 1) if stacks[dim] % f == 0]\n"
     ]
    },
    {
     "name": "stdout",
     "output_type": "stream",
     "text": [
      "DaskVaryingResolutionSpectralCube with shape=(3840, 512, 512) and unit=Jy / beam and chunk size (128, 256, 512):\n",
      " n_x:    512  type_x: RA---SIN  unit_x: deg    range:   266.528130 deg:  266.560501 deg\n",
      " n_y:    512  type_y: DEC--SIN  unit_y: deg    range:   -28.719152 deg:  -28.690763 deg\n",
      " n_s:   3840  type_s: FREQ      unit_s: Hz     range: 138691786338.613 Hz:140566352691.882 Hz\n",
      "(3840, 512, 512)\n",
      "(512, 512)\n",
      "[                                        ] | 0% Completed |  0.1s"
     ]
    },
    {
     "name": "stderr",
     "output_type": "stream",
     "text": [
      "WARNING: StokesWarning: Cube is a Stokes cube, returning spectral cube for I component [spectral_cube.io.core]\n"
     ]
    },
    {
     "name": "stdout",
     "output_type": "stream",
     "text": [
      "[########################################] | 100% Completed | 24.0s\n",
      "[########################################] | 100% Completed | 24.1s\n",
      "[########################################] | 100% Completed | 22.8s\n",
      "[########################################] | 100% Completed | 22.9s\n",
      "58.61007261276245\n",
      "source_ab_98_spw29_clean_2sigma_n50000_masked_3sigma_pbmask0p18.image spectra/source_ab_98_spw29_clean_2sigma_n50000_masked_3sigma_pbmask0p18.max_CROPPED.fits\n",
      "source_ab_98_spw29_clean_2sigma_n50000_masked_3sigma_pbmask0p18.image\n"
     ]
    },
    {
     "name": "stderr",
     "output_type": "stream",
     "text": [
      "/blue/adamginsburg/abulatek/anaconda/lib/python3.7/site-packages/casa_formats_io-0.1-py3.7-linux-x86_64.egg/casa_formats_io/casa_dask.py:232: RuntimeWarning: divide by zero encountered in long_scalars\n",
      "  factors = [f for f in range(stacks[dim] + 1) if stacks[dim] % f == 0]\n"
     ]
    },
    {
     "name": "stdout",
     "output_type": "stream",
     "text": [
      "DaskVaryingResolutionSpectralCube with shape=(1920, 512, 512) and unit=Jy / beam and chunk size (80, 256, 512):\n",
      " n_x:    512  type_x: RA---SIN  unit_x: deg    range:   266.528130 deg:  266.560501 deg\n",
      " n_y:    512  type_y: DEC--SIN  unit_y: deg    range:   -28.719152 deg:  -28.690763 deg\n",
      " n_s:   1920  type_s: FREQ      unit_s: Hz     range: 97549970835.499 Hz:99423741950.091 Hz\n",
      "(1920, 512, 512)\n",
      "(512, 512)\n",
      "[                                        ] | 0% Completed |  0.1s"
     ]
    },
    {
     "name": "stderr",
     "output_type": "stream",
     "text": [
      "WARNING: StokesWarning: Cube is a Stokes cube, returning spectral cube for I component [spectral_cube.io.core]\n"
     ]
    },
    {
     "name": "stdout",
     "output_type": "stream",
     "text": [
      "[########################################] | 100% Completed | 13.4s\n",
      "[########################################] | 100% Completed | 13.5s\n",
      "[########################################] | 100% Completed | 11.0s\n",
      "[########################################] | 100% Completed | 11.1s\n",
      "30.72486162185669\n",
      "source_ab_258_spw69_dirty.image spectra/source_ab_258_spw69_dirty.max_CROPPED.fits\n",
      "source_ab_258_spw69_dirty.image\n"
     ]
    },
    {
     "name": "stderr",
     "output_type": "stream",
     "text": [
      "/blue/adamginsburg/abulatek/anaconda/lib/python3.7/site-packages/casa_formats_io-0.1-py3.7-linux-x86_64.egg/casa_formats_io/casa_dask.py:232: RuntimeWarning: divide by zero encountered in long_scalars\n",
      "  factors = [f for f in range(stacks[dim] + 1) if stacks[dim] % f == 0]\n"
     ]
    },
    {
     "name": "stdout",
     "output_type": "stream",
     "text": [
      "DaskVaryingResolutionSpectralCube with shape=(3840, 512, 512) and unit=Jy / beam and chunk size (128, 256, 512):\n",
      " n_x:    512  type_x: RA---SIN  unit_x: deg    range:   266.528130 deg:  266.560501 deg\n",
      " n_y:    512  type_y: DEC--SIN  unit_y: deg    range:   -28.719152 deg:  -28.690763 deg\n",
      " n_s:   3840  type_s: FREQ      unit_s: Hz     range: 257682960173.154 Hz:259557441637.988 Hz\n",
      "(3840, 512, 512)\n",
      "(512, 512)\n",
      "[                                        ] | 0% Completed |  0.1s"
     ]
    },
    {
     "name": "stderr",
     "output_type": "stream",
     "text": [
      "WARNING: StokesWarning: Cube is a Stokes cube, returning spectral cube for I component [spectral_cube.io.core]\n"
     ]
    },
    {
     "name": "stdout",
     "output_type": "stream",
     "text": [
      "[########################################] | 100% Completed | 25.1s\n",
      "[########################################] | 100% Completed | 25.2s\n",
      "[########################################] | 100% Completed | 24.2s\n",
      "[########################################] | 100% Completed | 24.3s\n",
      "61.1430778503418\n",
      "source_ab_152_spw31_clean_2sigma_n50000_masked_3sigma.image spectra/source_ab_152_spw31_clean_2sigma_n50000_masked_3sigma.max_CROPPED.fits\n",
      "source_ab_152_spw31_clean_2sigma_n50000_masked_3sigma.image\n"
     ]
    },
    {
     "name": "stderr",
     "output_type": "stream",
     "text": [
      "/blue/adamginsburg/abulatek/anaconda/lib/python3.7/site-packages/casa_formats_io-0.1-py3.7-linux-x86_64.egg/casa_formats_io/casa_dask.py:232: RuntimeWarning: divide by zero encountered in long_scalars\n",
      "  factors = [f for f in range(stacks[dim] + 1) if stacks[dim] % f == 0]\n"
     ]
    },
    {
     "name": "stdout",
     "output_type": "stream",
     "text": [
      "DaskVaryingResolutionSpectralCube with shape=(3840, 512, 512) and unit=Jy / beam and chunk size (128, 256, 512):\n",
      " n_x:    512  type_x: RA---SIN  unit_x: deg    range:   266.528130 deg:  266.560501 deg\n",
      " n_y:    512  type_y: DEC--SIN  unit_y: deg    range:   -28.719152 deg:  -28.690763 deg\n",
      " n_s:   3840  type_s: FREQ      unit_s: Hz     range: 152395310730.523 Hz:154269877084.026 Hz\n",
      "(3840, 512, 512)\n",
      "(512, 512)\n",
      "[                                        ] | 0% Completed |  0.1s"
     ]
    },
    {
     "name": "stderr",
     "output_type": "stream",
     "text": [
      "WARNING: StokesWarning: Cube is a Stokes cube, returning spectral cube for I component [spectral_cube.io.core]\n"
     ]
    },
    {
     "name": "stdout",
     "output_type": "stream",
     "text": [
      "[########################################] | 100% Completed | 24.8s\n",
      "[########################################] | 100% Completed | 24.9s\n",
      "[########################################] | 100% Completed | 24.3s\n",
      "[########################################] | 100% Completed | 24.4s\n",
      "61.08619046211243\n",
      "source_ab_103_spw108_dirty.image spectra/source_ab_103_spw108_dirty.max_CROPPED.fits\n",
      "source_ab_103_spw108_dirty.image\n"
     ]
    },
    {
     "name": "stderr",
     "output_type": "stream",
     "text": [
      "/blue/adamginsburg/abulatek/anaconda/lib/python3.7/site-packages/casa_formats_io-0.1-py3.7-linux-x86_64.egg/casa_formats_io/casa_dask.py:232: RuntimeWarning: divide by zero encountered in long_scalars\n",
      "  factors = [f for f in range(stacks[dim] + 1) if stacks[dim] % f == 0]\n"
     ]
    },
    {
     "name": "stdout",
     "output_type": "stream",
     "text": [
      "DaskVaryingResolutionSpectralCube with shape=(1920, 512, 512) and unit=Jy / beam and chunk size (80, 256, 512):\n",
      " n_x:    512  type_x: RA---SIN  unit_x: deg    range:   266.528130 deg:  266.560501 deg\n",
      " n_y:    512  type_y: DEC--SIN  unit_y: deg    range:   -28.719152 deg:  -28.690763 deg\n",
      " n_s:   1920  type_s: FREQ      unit_s: Hz     range: 103424185952.197 Hz:105297957401.537 Hz\n",
      "(1920, 512, 512)\n",
      "(512, 512)\n",
      "[                                        ] | 0% Completed |  0.1s"
     ]
    },
    {
     "name": "stderr",
     "output_type": "stream",
     "text": [
      "WARNING: StokesWarning: Cube is a Stokes cube, returning spectral cube for I component [spectral_cube.io.core]\n"
     ]
    },
    {
     "name": "stdout",
     "output_type": "stream",
     "text": [
      "[########################################] | 100% Completed | 12.3s\n",
      "[########################################] | 100% Completed | 12.4s\n",
      "[########################################] | 100% Completed | 11.3s\n",
      "[########################################] | 100% Completed | 11.4s\n",
      "30.462701082229614\n",
      "source_ab_254_spw85_clean_2sigma_n50000_masked_3sigma_pbmask0p18.image spectra/source_ab_254_spw85_clean_2sigma_n50000_masked_3sigma_pbmask0p18.max_CROPPED.fits\n",
      "source_ab_254_spw85_clean_2sigma_n50000_masked_3sigma_pbmask0p18.image\n"
     ]
    },
    {
     "name": "stderr",
     "output_type": "stream",
     "text": [
      "/blue/adamginsburg/abulatek/anaconda/lib/python3.7/site-packages/casa_formats_io-0.1-py3.7-linux-x86_64.egg/casa_formats_io/casa_dask.py:232: RuntimeWarning: divide by zero encountered in long_scalars\n",
      "  factors = [f for f in range(stacks[dim] + 1) if stacks[dim] % f == 0]\n"
     ]
    },
    {
     "name": "stdout",
     "output_type": "stream",
     "text": [
      "DaskVaryingResolutionSpectralCube with shape=(3840, 512, 512) and unit=Jy / beam and chunk size (128, 256, 512):\n",
      " n_x:    512  type_x: RA---SIN  unit_x: deg    range:   266.528130 deg:  266.560501 deg\n",
      " n_y:    512  type_y: DEC--SIN  unit_y: deg    range:   -28.719152 deg:  -28.690763 deg\n",
      " n_s:   3840  type_s: FREQ      unit_s: Hz     range: 251901820033.907 Hz:253776301621.990 Hz\n",
      "(3840, 512, 512)\n",
      "(512, 512)\n",
      "[                                        ] | 0% Completed |  0.1s"
     ]
    },
    {
     "name": "stderr",
     "output_type": "stream",
     "text": [
      "WARNING: StokesWarning: Cube is a Stokes cube, returning spectral cube for I component [spectral_cube.io.core]\n"
     ]
    },
    {
     "name": "stdout",
     "output_type": "stream",
     "text": [
      "[########################################] | 100% Completed | 26.2s\n",
      "[########################################] | 100% Completed | 26.3s\n",
      "[########################################] | 100% Completed | 25.4s\n",
      "[########################################] | 100% Completed | 25.5s\n",
      "63.49986505508423\n",
      "source_ab_93_spw104_clean_2sigma_n50000_masked_3sigma_pbmask0p18.image spectra/source_ab_93_spw104_clean_2sigma_n50000_masked_3sigma_pbmask0p18.max_CROPPED.fits\n",
      "source_ab_93_spw104_clean_2sigma_n50000_masked_3sigma_pbmask0p18.image\n"
     ]
    },
    {
     "name": "stderr",
     "output_type": "stream",
     "text": [
      "/blue/adamginsburg/abulatek/anaconda/lib/python3.7/site-packages/casa_formats_io-0.1-py3.7-linux-x86_64.egg/casa_formats_io/casa_dask.py:232: RuntimeWarning: divide by zero encountered in long_scalars\n",
      "  factors = [f for f in range(stacks[dim] + 1) if stacks[dim] % f == 0]\n"
     ]
    },
    {
     "name": "stdout",
     "output_type": "stream",
     "text": [
      "DaskVaryingResolutionSpectralCube with shape=(1920, 512, 512) and unit=Jy / beam and chunk size (80, 256, 512):\n",
      " n_x:    512  type_x: RA---SIN  unit_x: deg    range:   266.528130 deg:  266.560501 deg\n",
      " n_y:    512  type_y: DEC--SIN  unit_y: deg    range:   -28.719152 deg:  -28.690763 deg\n",
      " n_s:   1920  type_s: FREQ      unit_s: Hz     range: 91425793992.267 Hz:93299565441.607 Hz\n",
      "(1920, 512, 512)\n",
      "(512, 512)\n",
      "[                                        ] | 0% Completed |  0.1s"
     ]
    },
    {
     "name": "stderr",
     "output_type": "stream",
     "text": [
      "WARNING: StokesWarning: Cube is a Stokes cube, returning spectral cube for I component [spectral_cube.io.core]\n"
     ]
    },
    {
     "name": "stdout",
     "output_type": "stream",
     "text": [
      "[########################################] | 100% Completed | 13.4s\n",
      "[########################################] | 100% Completed | 13.5s\n",
      "[########################################] | 100% Completed | 11.2s\n",
      "[########################################] | 100% Completed | 11.3s\n",
      "30.941132307052612\n",
      "source_ab_142_spw27_dirty_512.image spectra/source_ab_142_spw27_dirty_512.max_CROPPED.fits\n",
      "source_ab_142_spw27_dirty_512.image\n"
     ]
    },
    {
     "name": "stderr",
     "output_type": "stream",
     "text": [
      "/blue/adamginsburg/abulatek/anaconda/lib/python3.7/site-packages/casa_formats_io-0.1-py3.7-linux-x86_64.egg/casa_formats_io/casa_dask.py:232: RuntimeWarning: divide by zero encountered in long_scalars\n",
      "  factors = [f for f in range(stacks[dim] + 1) if stacks[dim] % f == 0]\n"
     ]
    },
    {
     "name": "stdout",
     "output_type": "stream",
     "text": [
      "DaskVaryingResolutionSpectralCube with shape=(3840, 512, 512) and unit=Jy / beam and chunk size (128, 256, 512):\n",
      " n_x:    512  type_x: RA---SIN  unit_x: deg    range:   266.528130 deg:  266.560501 deg\n",
      " n_y:    512  type_y: DEC--SIN  unit_y: deg    range:   -28.719152 deg:  -28.690763 deg\n",
      " n_s:   3840  type_s: FREQ      unit_s: Hz     range: 140394960977.722 Hz:142269527331.224 Hz\n",
      "(3840, 512, 512)\n",
      "(512, 512)\n",
      "[                                        ] | 0% Completed |  0.1s"
     ]
    },
    {
     "name": "stderr",
     "output_type": "stream",
     "text": [
      "WARNING: StokesWarning: Cube is a Stokes cube, returning spectral cube for I component [spectral_cube.io.core]\n"
     ]
    },
    {
     "name": "stdout",
     "output_type": "stream",
     "text": [
      "[########################################] | 100% Completed | 24.6s\n",
      "[########################################] | 100% Completed | 24.7s\n",
      "[########################################] | 100% Completed | 22.7s\n",
      "[########################################] | 100% Completed | 22.8s\n",
      "63.30467653274536\n",
      "source_ab_104_spw25_dirty.image spectra/source_ab_104_spw25_dirty.max_CROPPED.fits\n",
      "source_ab_104_spw25_dirty.image\n"
     ]
    },
    {
     "name": "stderr",
     "output_type": "stream",
     "text": [
      "/blue/adamginsburg/abulatek/anaconda/lib/python3.7/site-packages/casa_formats_io-0.1-py3.7-linux-x86_64.egg/casa_formats_io/casa_dask.py:232: RuntimeWarning: divide by zero encountered in long_scalars\n",
      "  factors = [f for f in range(stacks[dim] + 1) if stacks[dim] % f == 0]\n"
     ]
    },
    {
     "name": "stdout",
     "output_type": "stream",
     "text": [
      "DaskVaryingResolutionSpectralCube with shape=(1920, 512, 512) and unit=Jy / beam and chunk size (80, 256, 512):\n",
      " n_x:    512  type_x: RA---SIN  unit_x: deg    range:   266.528130 deg:  266.560501 deg\n",
      " n_y:    512  type_y: DEC--SIN  unit_y: deg    range:   -28.719152 deg:  -28.690763 deg\n",
      " n_s:   1920  type_s: FREQ      unit_s: Hz     range: 101915892799.071 Hz:103789669232.376 Hz\n",
      "(1920, 512, 512)\n",
      "(512, 512)\n",
      "[                                        ] | 0% Completed |  0.1s"
     ]
    },
    {
     "name": "stderr",
     "output_type": "stream",
     "text": [
      "WARNING: StokesWarning: Cube is a Stokes cube, returning spectral cube for I component [spectral_cube.io.core]\n"
     ]
    },
    {
     "name": "stdout",
     "output_type": "stream",
     "text": [
      "[########################################] | 100% Completed | 12.4s\n",
      "[########################################] | 100% Completed | 12.5s\n",
      "[########################################] | 100% Completed | 11.2s\n",
      "[########################################] | 100% Completed | 11.3s\n",
      "29.871034145355225\n",
      "source_ab_110_spw29_dirty.image spectra/source_ab_110_spw29_dirty.max_CROPPED.fits\n",
      "source_ab_110_spw29_dirty.image\n"
     ]
    },
    {
     "name": "stderr",
     "output_type": "stream",
     "text": [
      "/blue/adamginsburg/abulatek/anaconda/lib/python3.7/site-packages/casa_formats_io-0.1-py3.7-linux-x86_64.egg/casa_formats_io/casa_dask.py:232: RuntimeWarning: divide by zero encountered in long_scalars\n",
      "  factors = [f for f in range(stacks[dim] + 1) if stacks[dim] % f == 0]\n"
     ]
    },
    {
     "name": "stdout",
     "output_type": "stream",
     "text": [
      "DaskVaryingResolutionSpectralCube with shape=(1920, 512, 512) and unit=Jy / beam and chunk size (80, 256, 512):\n",
      " n_x:    512  type_x: RA---SIN  unit_x: deg    range:   266.528130 deg:  266.560501 deg\n",
      " n_y:    512  type_y: DEC--SIN  unit_y: deg    range:   -28.719152 deg:  -28.690763 deg\n",
      " n_s:   1920  type_s: FREQ      unit_s: Hz     range: 109548373997.542 Hz:111422149820.383 Hz\n",
      "(1920, 512, 512)\n",
      "(512, 512)\n",
      "[                                        ] | 0% Completed |  0.1s"
     ]
    },
    {
     "name": "stderr",
     "output_type": "stream",
     "text": [
      "WARNING: StokesWarning: Cube is a Stokes cube, returning spectral cube for I component [spectral_cube.io.core]\n"
     ]
    },
    {
     "name": "stdout",
     "output_type": "stream",
     "text": [
      "[########################################] | 100% Completed | 13.3s\n",
      "[########################################] | 100% Completed | 13.4s\n",
      "[########################################] | 100% Completed | 11.5s\n",
      "[########################################] | 100% Completed | 11.5s\n",
      "32.2378511428833\n",
      "source_ab_91_spw102_dirty.image spectra/source_ab_91_spw102_dirty.max_CROPPED.fits\n",
      "source_ab_91_spw102_dirty.image\n"
     ]
    },
    {
     "name": "stderr",
     "output_type": "stream",
     "text": [
      "/blue/adamginsburg/abulatek/anaconda/lib/python3.7/site-packages/casa_formats_io-0.1-py3.7-linux-x86_64.egg/casa_formats_io/casa_dask.py:232: RuntimeWarning: divide by zero encountered in long_scalars\n",
      "  factors = [f for f in range(stacks[dim] + 1) if stacks[dim] % f == 0]\n"
     ]
    },
    {
     "name": "stdout",
     "output_type": "stream",
     "text": [
      "DaskVaryingResolutionSpectralCube with shape=(1920, 512, 512) and unit=Jy / beam and chunk size (80, 256, 512):\n",
      " n_x:    512  type_x: RA---SIN  unit_x: deg    range:   266.528130 deg:  266.560501 deg\n",
      " n_y:    512  type_y: DEC--SIN  unit_y: deg    range:   -28.719152 deg:  -28.690763 deg\n",
      " n_s:   1920  type_s: FREQ      unit_s: Hz     range: 89551044065.669 Hz:91424815515.009 Hz\n",
      "(1920, 512, 512)\n",
      "(512, 512)\n",
      "[                                        ] | 0% Completed |  0.1s"
     ]
    },
    {
     "name": "stderr",
     "output_type": "stream",
     "text": [
      "WARNING: StokesWarning: Cube is a Stokes cube, returning spectral cube for I component [spectral_cube.io.core]\n"
     ]
    },
    {
     "name": "stdout",
     "output_type": "stream",
     "text": [
      "[########################################] | 100% Completed | 12.6s\n",
      "[########################################] | 100% Completed | 12.7s\n",
      "[########################################] | 100% Completed | 11.3s\n",
      "[########################################] | 100% Completed | 11.4s\n",
      "30.160064458847046\n",
      "source_ab_141_spw25_dirty.image spectra/source_ab_141_spw25_dirty.max_CROPPED.fits\n",
      "source_ab_141_spw25_dirty.image\n"
     ]
    },
    {
     "name": "stderr",
     "output_type": "stream",
     "text": [
      "/blue/adamginsburg/abulatek/anaconda/lib/python3.7/site-packages/casa_formats_io-0.1-py3.7-linux-x86_64.egg/casa_formats_io/casa_dask.py:232: RuntimeWarning: divide by zero encountered in long_scalars\n",
      "  factors = [f for f in range(stacks[dim] + 1) if stacks[dim] % f == 0]\n"
     ]
    },
    {
     "name": "stdout",
     "output_type": "stream",
     "text": [
      "DaskVaryingResolutionSpectralCube with shape=(3840, 512, 512) and unit=Jy / beam and chunk size (128, 256, 512):\n",
      " n_x:    512  type_x: RA---SIN  unit_x: deg    range:   266.528130 deg:  266.560501 deg\n",
      " n_y:    512  type_y: DEC--SIN  unit_y: deg    range:   -28.719152 deg:  -28.690763 deg\n",
      " n_s:   3840  type_s: FREQ      unit_s: Hz     range: 138691786338.613 Hz:140566352691.882 Hz\n",
      "(3840, 512, 512)\n",
      "(512, 512)\n",
      "[                                        ] | 0% Completed |  0.1s"
     ]
    },
    {
     "name": "stderr",
     "output_type": "stream",
     "text": [
      "WARNING: StokesWarning: Cube is a Stokes cube, returning spectral cube for I component [spectral_cube.io.core]\n"
     ]
    },
    {
     "name": "stdout",
     "output_type": "stream",
     "text": [
      "[########################################] | 100% Completed | 24.9s\n",
      "[########################################] | 100% Completed | 25.0s\n",
      "[########################################] | 100% Completed | 25.2s\n",
      "[########################################] | 100% Completed | 25.3s\n",
      "62.93993067741394\n",
      "source_ab_91_spw102_clean_2sigma_n50000_masked_3sigma_pbmask0p18.image spectra/source_ab_91_spw102_clean_2sigma_n50000_masked_3sigma_pbmask0p18.max_CROPPED.fits\n",
      "source_ab_91_spw102_clean_2sigma_n50000_masked_3sigma_pbmask0p18.image\n"
     ]
    },
    {
     "name": "stderr",
     "output_type": "stream",
     "text": [
      "/blue/adamginsburg/abulatek/anaconda/lib/python3.7/site-packages/casa_formats_io-0.1-py3.7-linux-x86_64.egg/casa_formats_io/casa_dask.py:232: RuntimeWarning: divide by zero encountered in long_scalars\n",
      "  factors = [f for f in range(stacks[dim] + 1) if stacks[dim] % f == 0]\n"
     ]
    },
    {
     "name": "stdout",
     "output_type": "stream",
     "text": [
      "DaskVaryingResolutionSpectralCube with shape=(1920, 512, 512) and unit=Jy / beam and chunk size (80, 256, 512):\n",
      " n_x:    512  type_x: RA---SIN  unit_x: deg    range:   266.528130 deg:  266.560501 deg\n",
      " n_y:    512  type_y: DEC--SIN  unit_y: deg    range:   -28.719152 deg:  -28.690763 deg\n",
      " n_s:   1920  type_s: FREQ      unit_s: Hz     range: 89551044065.669 Hz:91424815515.009 Hz\n",
      "(1920, 512, 512)\n",
      "(512, 512)\n",
      "[                                        ] | 0% Completed |  0.1s"
     ]
    },
    {
     "name": "stderr",
     "output_type": "stream",
     "text": [
      "WARNING: StokesWarning: Cube is a Stokes cube, returning spectral cube for I component [spectral_cube.io.core]\n"
     ]
    },
    {
     "name": "stdout",
     "output_type": "stream",
     "text": [
      "[########################################] | 100% Completed | 12.7s\n",
      "[########################################] | 100% Completed | 12.8s\n",
      "[########################################] | 100% Completed | 11.2s\n",
      "[########################################] | 100% Completed | 11.3s\n",
      "30.097033977508545\n",
      "source_ab_93_spw104_dirty.image spectra/source_ab_93_spw104_dirty.max_CROPPED.fits\n",
      "source_ab_93_spw104_dirty.image\n"
     ]
    },
    {
     "name": "stderr",
     "output_type": "stream",
     "text": [
      "/blue/adamginsburg/abulatek/anaconda/lib/python3.7/site-packages/casa_formats_io-0.1-py3.7-linux-x86_64.egg/casa_formats_io/casa_dask.py:232: RuntimeWarning: divide by zero encountered in long_scalars\n",
      "  factors = [f for f in range(stacks[dim] + 1) if stacks[dim] % f == 0]\n"
     ]
    },
    {
     "name": "stdout",
     "output_type": "stream",
     "text": [
      "DaskVaryingResolutionSpectralCube with shape=(1920, 512, 512) and unit=Jy / beam and chunk size (80, 256, 512):\n",
      " n_x:    512  type_x: RA---SIN  unit_x: deg    range:   266.528130 deg:  266.560501 deg\n",
      " n_y:    512  type_y: DEC--SIN  unit_y: deg    range:   -28.719152 deg:  -28.690763 deg\n",
      " n_s:   1920  type_s: FREQ      unit_s: Hz     range: 91425793992.267 Hz:93299565441.607 Hz\n",
      "(1920, 512, 512)\n",
      "(512, 512)\n",
      "[                                        ] | 0% Completed |  0.1s"
     ]
    },
    {
     "name": "stderr",
     "output_type": "stream",
     "text": [
      "WARNING: StokesWarning: Cube is a Stokes cube, returning spectral cube for I component [spectral_cube.io.core]\n"
     ]
    },
    {
     "name": "stdout",
     "output_type": "stream",
     "text": [
      "[########################################] | 100% Completed | 13.0s\n",
      "[########################################] | 100% Completed | 13.1s\n",
      "[########################################] | 100% Completed | 11.3s\n",
      "[########################################] | 100% Completed | 11.3s\n",
      "30.414968729019165\n",
      "source_ab_259_spw47_dirty.image spectra/source_ab_259_spw47_dirty.max_CROPPED.fits\n",
      "source_ab_259_spw47_dirty.image\n"
     ]
    },
    {
     "name": "stderr",
     "output_type": "stream",
     "text": [
      "/blue/adamginsburg/abulatek/anaconda/lib/python3.7/site-packages/casa_formats_io-0.1-py3.7-linux-x86_64.egg/casa_formats_io/casa_dask.py:232: RuntimeWarning: divide by zero encountered in long_scalars\n",
      "  factors = [f for f in range(stacks[dim] + 1) if stacks[dim] % f == 0]\n"
     ]
    },
    {
     "name": "stdout",
     "output_type": "stream",
     "text": [
      "DaskVaryingResolutionSpectralCube with shape=(3840, 512, 512) and unit=Jy / beam and chunk size (128, 256, 512):\n",
      " n_x:    512  type_x: RA---SIN  unit_x: deg    range:   266.528130 deg:  266.560501 deg\n",
      " n_y:    512  type_y: DEC--SIN  unit_y: deg    range:   -28.719152 deg:  -28.690763 deg\n",
      " n_s:   3840  type_s: FREQ      unit_s: Hz     range: 257011118466.582 Hz:258885600094.967 Hz\n",
      "(3840, 512, 512)\n",
      "(512, 512)\n",
      "[                                        ] | 0% Completed |  0.1s"
     ]
    },
    {
     "name": "stderr",
     "output_type": "stream",
     "text": [
      "WARNING: StokesWarning: Cube is a Stokes cube, returning spectral cube for I component [spectral_cube.io.core]\n"
     ]
    },
    {
     "name": "stdout",
     "output_type": "stream",
     "text": [
      "[########################################] | 100% Completed | 24.6s\n",
      "[########################################] | 100% Completed | 24.7s\n",
      "[########################################] | 100% Completed | 23.9s\n",
      "[########################################] | 100% Completed | 24.0s\n",
      "60.405431270599365\n",
      "source_ab_89_spw27_dirty.image spectra/source_ab_89_spw27_dirty.max_CROPPED.fits\n",
      "source_ab_89_spw27_dirty.image\n"
     ]
    },
    {
     "name": "stderr",
     "output_type": "stream",
     "text": [
      "/blue/adamginsburg/abulatek/anaconda/lib/python3.7/site-packages/casa_formats_io-0.1-py3.7-linux-x86_64.egg/casa_formats_io/casa_dask.py:232: RuntimeWarning: divide by zero encountered in long_scalars\n",
      "  factors = [f for f in range(stacks[dim] + 1) if stacks[dim] % f == 0]\n"
     ]
    },
    {
     "name": "stdout",
     "output_type": "stream",
     "text": [
      "DaskVaryingResolutionSpectralCube with shape=(1920, 512, 512) and unit=Jy / beam and chunk size (80, 256, 512):\n",
      " n_x:    512  type_x: RA---SIN  unit_x: deg    range:   266.528130 deg:  266.560501 deg\n",
      " n_y:    512  type_y: DEC--SIN  unit_y: deg    range:   -28.719152 deg:  -28.690763 deg\n",
      " n_s:   1920  type_s: FREQ      unit_s: Hz     range: 87426327659.823 Hz:89300098774.415 Hz\n",
      "(1920, 512, 512)\n",
      "(512, 512)\n",
      "[                                        ] | 0% Completed |  0.1s"
     ]
    },
    {
     "name": "stderr",
     "output_type": "stream",
     "text": [
      "WARNING: StokesWarning: Cube is a Stokes cube, returning spectral cube for I component [spectral_cube.io.core]\n"
     ]
    },
    {
     "name": "stdout",
     "output_type": "stream",
     "text": [
      "[########################################] | 100% Completed | 12.0s\n",
      "[########################################] | 100% Completed | 12.1s\n",
      "[########################################] | 100% Completed | 11.3s\n",
      "[########################################] | 100% Completed | 11.4s\n",
      "29.538203477859497\n",
      "source_ab_111_spw31_dirty.image spectra/source_ab_111_spw31_dirty.max_CROPPED.fits\n",
      "source_ab_111_spw31_dirty.image\n"
     ]
    },
    {
     "name": "stderr",
     "output_type": "stream",
     "text": [
      "/blue/adamginsburg/abulatek/anaconda/lib/python3.7/site-packages/casa_formats_io-0.1-py3.7-linux-x86_64.egg/casa_formats_io/casa_dask.py:232: RuntimeWarning: divide by zero encountered in long_scalars\n",
      "  factors = [f for f in range(stacks[dim] + 1) if stacks[dim] % f == 0]\n"
     ]
    },
    {
     "name": "stdout",
     "output_type": "stream",
     "text": [
      "DaskVaryingResolutionSpectralCube with shape=(1920, 512, 512) and unit=Jy / beam and chunk size (80, 256, 512):\n",
      " n_x:    512  type_x: RA---SIN  unit_x: deg    range:   266.528130 deg:  266.560501 deg\n",
      " n_y:    512  type_y: DEC--SIN  unit_y: deg    range:   -28.719152 deg:  -28.690763 deg\n",
      " n_s:   1920  type_s: FREQ      unit_s: Hz     range: 111423123916.841 Hz:113296899739.624 Hz\n",
      "(1920, 512, 512)\n",
      "(512, 512)\n",
      "[                                        ] | 0% Completed |  0.1s"
     ]
    },
    {
     "name": "stderr",
     "output_type": "stream",
     "text": [
      "WARNING: StokesWarning: Cube is a Stokes cube, returning spectral cube for I component [spectral_cube.io.core]\n"
     ]
    },
    {
     "name": "stdout",
     "output_type": "stream",
     "text": [
      "[########################################] | 100% Completed | 13.0s\n",
      "[########################################] | 100% Completed | 13.1s\n",
      "[########################################] | 100% Completed | 11.5s\n",
      "[########################################] | 100% Completed | 11.6s\n",
      "30.648325443267822\n",
      "source_ab_127_spw65_clean_2sigma_n50000_masked_3sigma_pbmask0p18.image spectra/source_ab_127_spw65_clean_2sigma_n50000_masked_3sigma_pbmask0p18.max_CROPPED.fits\n",
      "source_ab_127_spw65_clean_2sigma_n50000_masked_3sigma_pbmask0p18.image\n"
     ]
    },
    {
     "name": "stderr",
     "output_type": "stream",
     "text": [
      "/blue/adamginsburg/abulatek/anaconda/lib/python3.7/site-packages/casa_formats_io-0.1-py3.7-linux-x86_64.egg/casa_formats_io/casa_dask.py:232: RuntimeWarning: divide by zero encountered in long_scalars\n",
      "  factors = [f for f in range(stacks[dim] + 1) if stacks[dim] % f == 0]\n"
     ]
    },
    {
     "name": "stdout",
     "output_type": "stream",
     "text": [
      "DaskVaryingResolutionSpectralCube with shape=(3840, 512, 512) and unit=Jy / beam and chunk size (128, 256, 512):\n",
      " n_x:    512  type_x: RA---SIN  unit_x: deg    range:   266.528130 deg:  266.560501 deg\n",
      " n_y:    512  type_y: DEC--SIN  unit_y: deg    range:   -28.719152 deg:  -28.690763 deg\n",
      " n_s:   3840  type_s: FREQ      unit_s: Hz     range: 125087368296.224 Hz:126961934326.725 Hz\n",
      "(3840, 512, 512)\n",
      "(512, 512)\n",
      "[                                        ] | 0% Completed |  0.1s"
     ]
    },
    {
     "name": "stderr",
     "output_type": "stream",
     "text": [
      "WARNING: StokesWarning: Cube is a Stokes cube, returning spectral cube for I component [spectral_cube.io.core]\n"
     ]
    },
    {
     "name": "stdout",
     "output_type": "stream",
     "text": [
      "[########################################] | 100% Completed | 25.9s\n",
      "[########################################] | 100% Completed | 26.0s\n",
      "[########################################] | 100% Completed | 24.7s\n",
      "[########################################] | 100% Completed | 24.8s\n",
      "62.60310482978821\n",
      "source_ab_249_spw107_dirty.image spectra/source_ab_249_spw107_dirty.max_CROPPED.fits\n",
      "source_ab_249_spw107_dirty.image\n"
     ]
    },
    {
     "name": "stderr",
     "output_type": "stream",
     "text": [
      "/blue/adamginsburg/abulatek/anaconda/lib/python3.7/site-packages/casa_formats_io-0.1-py3.7-linux-x86_64.egg/casa_formats_io/casa_dask.py:232: RuntimeWarning: divide by zero encountered in long_scalars\n",
      "  factors = [f for f in range(stacks[dim] + 1) if stacks[dim] % f == 0]\n"
     ]
    },
    {
     "name": "stdout",
     "output_type": "stream",
     "text": [
      "DaskVaryingResolutionSpectralCube with shape=(3840, 512, 512) and unit=Jy / beam and chunk size (128, 256, 512):\n",
      " n_x:    512  type_x: RA---SIN  unit_x: deg    range:   266.528130 deg:  266.560501 deg\n",
      " n_y:    512  type_y: DEC--SIN  unit_y: deg    range:   -28.719152 deg:  -28.690763 deg\n",
      " n_s:   3840  type_s: FREQ      unit_s: Hz     range: 246792516372.824 Hz:248666997878.897 Hz\n",
      "(3840, 512, 512)\n",
      "(512, 512)\n",
      "[                                        ] | 0% Completed |  0.1s"
     ]
    },
    {
     "name": "stderr",
     "output_type": "stream",
     "text": [
      "WARNING: StokesWarning: Cube is a Stokes cube, returning spectral cube for I component [spectral_cube.io.core]\n"
     ]
    },
    {
     "name": "stdout",
     "output_type": "stream",
     "text": [
      "[########################################] | 100% Completed | 25.4s\n",
      "[########################################] | 100% Completed | 25.5s\n",
      "[########################################] | 100% Completed | 23.4s\n",
      "[########################################] | 100% Completed | 23.5s\n",
      "60.70397973060608\n",
      "source_ab_89_spw104_dirty.image spectra/source_ab_89_spw104_dirty.max_CROPPED.fits\n",
      "source_ab_89_spw104_dirty.image\n"
     ]
    },
    {
     "name": "stderr",
     "output_type": "stream",
     "text": [
      "/blue/adamginsburg/abulatek/anaconda/lib/python3.7/site-packages/casa_formats_io-0.1-py3.7-linux-x86_64.egg/casa_formats_io/casa_dask.py:232: RuntimeWarning: divide by zero encountered in long_scalars\n",
      "  factors = [f for f in range(stacks[dim] + 1) if stacks[dim] % f == 0]\n"
     ]
    },
    {
     "name": "stdout",
     "output_type": "stream",
     "text": [
      "DaskVaryingResolutionSpectralCube with shape=(1920, 512, 512) and unit=Jy / beam and chunk size (80, 256, 512):\n",
      " n_x:    512  type_x: RA---SIN  unit_x: deg    range:   266.528130 deg:  266.560501 deg\n",
      " n_y:    512  type_y: DEC--SIN  unit_y: deg    range:   -28.719152 deg:  -28.690763 deg\n",
      " n_s:   1920  type_s: FREQ      unit_s: Hz     range: 87426327904.684 Hz:89300099479.701 Hz\n",
      "(1920, 512, 512)\n",
      "(512, 512)\n",
      "[                                        ] | 0% Completed |  0.1s"
     ]
    },
    {
     "name": "stderr",
     "output_type": "stream",
     "text": [
      "WARNING: StokesWarning: Cube is a Stokes cube, returning spectral cube for I component [spectral_cube.io.core]\n"
     ]
    },
    {
     "name": "stdout",
     "output_type": "stream",
     "text": [
      "[########################################] | 100% Completed | 13.3s\n",
      "[########################################] | 100% Completed | 13.4s\n",
      "[########################################] | 100% Completed | 11.2s\n",
      "[########################################] | 100% Completed | 11.3s\n",
      "30.765650749206543\n",
      "source_ab_152_spw31_clean_2sigma_n10000_masked_3sigma.image spectra/source_ab_152_spw31_clean_2sigma_n10000_masked_3sigma.max_CROPPED.fits\n",
      "source_ab_152_spw31_clean_2sigma_n10000_masked_3sigma.image\n"
     ]
    },
    {
     "name": "stderr",
     "output_type": "stream",
     "text": [
      "/blue/adamginsburg/abulatek/anaconda/lib/python3.7/site-packages/casa_formats_io-0.1-py3.7-linux-x86_64.egg/casa_formats_io/casa_dask.py:232: RuntimeWarning: divide by zero encountered in long_scalars\n",
      "  factors = [f for f in range(stacks[dim] + 1) if stacks[dim] % f == 0]\n"
     ]
    },
    {
     "name": "stdout",
     "output_type": "stream",
     "text": [
      "DaskVaryingResolutionSpectralCube with shape=(3840, 512, 512) and unit=Jy / beam and chunk size (128, 256, 512):\n",
      " n_x:    512  type_x: RA---SIN  unit_x: deg    range:   266.528130 deg:  266.560501 deg\n",
      " n_y:    512  type_y: DEC--SIN  unit_y: deg    range:   -28.719152 deg:  -28.690763 deg\n",
      " n_s:   3840  type_s: FREQ      unit_s: Hz     range: 152395310730.523 Hz:154269877084.026 Hz\n",
      "(3840, 512, 512)\n",
      "(512, 512)\n",
      "[                                        ] | 0% Completed |  0.2s"
     ]
    },
    {
     "name": "stderr",
     "output_type": "stream",
     "text": [
      "WARNING: StokesWarning: Cube is a Stokes cube, returning spectral cube for I component [spectral_cube.io.core]\n"
     ]
    },
    {
     "name": "stdout",
     "output_type": "stream",
     "text": [
      "[########################################] | 100% Completed | 24.2s\n",
      "[########################################] | 100% Completed | 24.3s\n",
      "[########################################] | 100% Completed | 22.3s\n",
      "[########################################] | 100% Completed | 22.4s\n",
      "58.290871381759644\n",
      "source_ab_263_spw111_clean_2sigma_n50000_masked_3sigma_pbmask0p18.image spectra/source_ab_263_spw111_clean_2sigma_n50000_masked_3sigma_pbmask0p18.max_CROPPED.fits\n",
      "source_ab_263_spw111_clean_2sigma_n50000_masked_3sigma_pbmask0p18.image\n"
     ]
    },
    {
     "name": "stderr",
     "output_type": "stream",
     "text": [
      "/blue/adamginsburg/abulatek/anaconda/lib/python3.7/site-packages/casa_formats_io-0.1-py3.7-linux-x86_64.egg/casa_formats_io/casa_dask.py:232: RuntimeWarning: divide by zero encountered in long_scalars\n",
      "  factors = [f for f in range(stacks[dim] + 1) if stacks[dim] % f == 0]\n"
     ]
    },
    {
     "name": "stdout",
     "output_type": "stream",
     "text": [
      "DaskVaryingResolutionSpectralCube with shape=(3840, 512, 512) and unit=Jy / beam and chunk size (128, 256, 512):\n",
      " n_x:    512  type_x: RA---SIN  unit_x: deg    range:   266.528130 deg:  266.560501 deg\n",
      " n_y:    512  type_y: DEC--SIN  unit_y: deg    range:   -28.719152 deg:  -28.690763 deg\n",
      " n_s:   3840  type_s: FREQ      unit_s: Hz     range: 262792258491.345 Hz:264666739997.418 Hz\n",
      "(3840, 512, 512)\n",
      "(512, 512)\n",
      "[                                        ] | 0% Completed |  0.1s"
     ]
    },
    {
     "name": "stderr",
     "output_type": "stream",
     "text": [
      "WARNING: StokesWarning: Cube is a Stokes cube, returning spectral cube for I component [spectral_cube.io.core]\n"
     ]
    },
    {
     "name": "stdout",
     "output_type": "stream",
     "text": [
      "[########################################] | 100% Completed | 23.4s\n",
      "[########################################] | 100% Completed | 23.5s\n",
      "[########################################] | 100% Completed | 22.3s\n",
      "[########################################] | 100% Completed | 22.4s\n",
      "57.64490246772766\n",
      "source_ab_149_spw91_dirty.image spectra/source_ab_149_spw91_dirty.max_CROPPED.fits\n",
      "source_ab_149_spw91_dirty.image\n"
     ]
    },
    {
     "name": "stderr",
     "output_type": "stream",
     "text": [
      "/blue/adamginsburg/abulatek/anaconda/lib/python3.7/site-packages/casa_formats_io-0.1-py3.7-linux-x86_64.egg/casa_formats_io/casa_dask.py:232: RuntimeWarning: divide by zero encountered in long_scalars\n",
      "  factors = [f for f in range(stacks[dim] + 1) if stacks[dim] % f == 0]\n"
     ]
    },
    {
     "name": "stdout",
     "output_type": "stream",
     "text": [
      "DaskVaryingResolutionSpectralCube with shape=(3840, 512, 512) and unit=Jy / beam and chunk size (128, 256, 512):\n",
      " n_x:    512  type_x: RA---SIN  unit_x: deg    range:   266.528130 deg:  266.560501 deg\n",
      " n_y:    512  type_y: DEC--SIN  unit_y: deg    range:   -28.719152 deg:  -28.690763 deg\n",
      " n_s:   3840  type_s: FREQ      unit_s: Hz     range: 148988955184.358 Hz:150863521458.663 Hz\n",
      "(3840, 512, 512)\n",
      "(512, 512)\n",
      "[                                        ] | 0% Completed |  0.1s"
     ]
    },
    {
     "name": "stderr",
     "output_type": "stream",
     "text": [
      "WARNING: StokesWarning: Cube is a Stokes cube, returning spectral cube for I component [spectral_cube.io.core]\n"
     ]
    },
    {
     "name": "stdout",
     "output_type": "stream",
     "text": [
      "[########################################] | 100% Completed | 25.8s\n",
      "[########################################] | 100% Completed | 25.9s\n",
      "[########################################] | 100% Completed | 23.8s\n",
      "[########################################] | 100% Completed | 23.9s\n",
      "61.457772731781006\n",
      "source_ab_245_spw67_clean_2sigma_n50000_masked_3sigma_pbmask0p18.image spectra/source_ab_245_spw67_clean_2sigma_n50000_masked_3sigma_pbmask0p18.max_CROPPED.fits\n",
      "source_ab_245_spw67_clean_2sigma_n50000_masked_3sigma_pbmask0p18.image\n"
     ]
    },
    {
     "name": "stderr",
     "output_type": "stream",
     "text": [
      "/blue/adamginsburg/abulatek/anaconda/lib/python3.7/site-packages/casa_formats_io-0.1-py3.7-linux-x86_64.egg/casa_formats_io/casa_dask.py:232: RuntimeWarning: divide by zero encountered in long_scalars\n",
      "  factors = [f for f in range(stacks[dim] + 1) if stacks[dim] % f == 0]\n"
     ]
    },
    {
     "name": "stdout",
     "output_type": "stream",
     "text": [
      "DaskVaryingResolutionSpectralCube with shape=(3840, 512, 512) and unit=Jy / beam and chunk size (128, 256, 512):\n",
      " n_x:    512  type_x: RA---SIN  unit_x: deg    range:   266.528130 deg:  266.560501 deg\n",
      " n_y:    512  type_y: DEC--SIN  unit_y: deg    range:   -28.719152 deg:  -28.690763 deg\n",
      " n_s:   3840  type_s: FREQ      unit_s: Hz     range: 243386315918.871 Hz:245260797383.705 Hz\n",
      "(3840, 512, 512)\n",
      "(512, 512)\n",
      "[                                        ] | 0% Completed |  0.1s"
     ]
    },
    {
     "name": "stderr",
     "output_type": "stream",
     "text": [
      "WARNING: StokesWarning: Cube is a Stokes cube, returning spectral cube for I component [spectral_cube.io.core]\n"
     ]
    },
    {
     "name": "stdout",
     "output_type": "stream",
     "text": [
      "[########################################] | 100% Completed | 25.5s\n",
      "[########################################] | 100% Completed | 25.6s\n",
      "[########################################] | 100% Completed | 23.4s\n",
      "[########################################] | 100% Completed | 23.5s\n",
      "60.85316276550293\n",
      "source_ab_127_spw65_dirty.image spectra/source_ab_127_spw65_dirty.max_CROPPED.fits\n",
      "source_ab_127_spw65_dirty.image\n"
     ]
    },
    {
     "name": "stderr",
     "output_type": "stream",
     "text": [
      "/blue/adamginsburg/abulatek/anaconda/lib/python3.7/site-packages/casa_formats_io-0.1-py3.7-linux-x86_64.egg/casa_formats_io/casa_dask.py:232: RuntimeWarning: divide by zero encountered in long_scalars\n",
      "  factors = [f for f in range(stacks[dim] + 1) if stacks[dim] % f == 0]\n"
     ]
    },
    {
     "name": "stdout",
     "output_type": "stream",
     "text": [
      "DaskVaryingResolutionSpectralCube with shape=(3840, 512, 512) and unit=Jy / beam and chunk size (128, 256, 512):\n",
      " n_x:    512  type_x: RA---SIN  unit_x: deg    range:   266.528130 deg:  266.560501 deg\n",
      " n_y:    512  type_y: DEC--SIN  unit_y: deg    range:   -28.719152 deg:  -28.690763 deg\n",
      " n_s:   3840  type_s: FREQ      unit_s: Hz     range: 125087368296.224 Hz:126961934326.725 Hz\n",
      "(3840, 512, 512)\n",
      "(512, 512)\n",
      "[                                        ] | 0% Completed |  0.1s"
     ]
    },
    {
     "name": "stderr",
     "output_type": "stream",
     "text": [
      "WARNING: StokesWarning: Cube is a Stokes cube, returning spectral cube for I component [spectral_cube.io.core]\n"
     ]
    },
    {
     "name": "stdout",
     "output_type": "stream",
     "text": [
      "[########################################] | 100% Completed | 25.6s\n",
      "[########################################] | 100% Completed | 25.7s\n",
      "[########################################] | 100% Completed | 23.2s\n",
      "[########################################] | 100% Completed | 23.3s\n",
      "60.674076080322266\n",
      "source_ab_258_spw69_clean_2sigma_n50000_masked_3sigma_pbmask0p18.image spectra/source_ab_258_spw69_clean_2sigma_n50000_masked_3sigma_pbmask0p18.max_CROPPED.fits\n",
      "source_ab_258_spw69_clean_2sigma_n50000_masked_3sigma_pbmask0p18.image\n"
     ]
    },
    {
     "name": "stderr",
     "output_type": "stream",
     "text": [
      "/blue/adamginsburg/abulatek/anaconda/lib/python3.7/site-packages/casa_formats_io-0.1-py3.7-linux-x86_64.egg/casa_formats_io/casa_dask.py:232: RuntimeWarning: divide by zero encountered in long_scalars\n",
      "  factors = [f for f in range(stacks[dim] + 1) if stacks[dim] % f == 0]\n"
     ]
    },
    {
     "name": "stdout",
     "output_type": "stream",
     "text": [
      "DaskVaryingResolutionSpectralCube with shape=(3840, 512, 512) and unit=Jy / beam and chunk size (128, 256, 512):\n",
      " n_x:    512  type_x: RA---SIN  unit_x: deg    range:   266.528130 deg:  266.560501 deg\n",
      " n_y:    512  type_y: DEC--SIN  unit_y: deg    range:   -28.719152 deg:  -28.690763 deg\n",
      " n_s:   3840  type_s: FREQ      unit_s: Hz     range: 257682960173.154 Hz:259557441637.988 Hz\n",
      "(3840, 512, 512)\n",
      "(512, 512)\n",
      "[                                        ] | 0% Completed |  0.1s"
     ]
    },
    {
     "name": "stderr",
     "output_type": "stream",
     "text": [
      "WARNING: StokesWarning: Cube is a Stokes cube, returning spectral cube for I component [spectral_cube.io.core]\n"
     ]
    },
    {
     "name": "stdout",
     "output_type": "stream",
     "text": [
      "[########################################] | 100% Completed | 24.6s\n",
      "[########################################] | 100% Completed | 24.7s\n",
      "[########################################] | 100% Completed | 23.6s\n",
      "[########################################] | 100% Completed | 23.7s\n",
      "60.27794575691223\n",
      "source_ab_106_spw29_clean_2sigma_n50000_masked_3sigma_pbmask0p18.image spectra/source_ab_106_spw29_clean_2sigma_n50000_masked_3sigma_pbmask0p18.max_CROPPED.fits\n",
      "source_ab_106_spw29_clean_2sigma_n50000_masked_3sigma_pbmask0p18.image\n"
     ]
    },
    {
     "name": "stderr",
     "output_type": "stream",
     "text": [
      "/blue/adamginsburg/abulatek/anaconda/lib/python3.7/site-packages/casa_formats_io-0.1-py3.7-linux-x86_64.egg/casa_formats_io/casa_dask.py:232: RuntimeWarning: divide by zero encountered in long_scalars\n",
      "  factors = [f for f in range(stacks[dim] + 1) if stacks[dim] % f == 0]\n"
     ]
    },
    {
     "name": "stdout",
     "output_type": "stream",
     "text": [
      "DaskVaryingResolutionSpectralCube with shape=(1920, 512, 512) and unit=Jy / beam and chunk size (80, 256, 512):\n",
      " n_x:    512  type_x: RA---SIN  unit_x: deg    range:   266.528130 deg:  266.560501 deg\n",
      " n_y:    512  type_y: DEC--SIN  unit_y: deg    range:   -28.719152 deg:  -28.690763 deg\n",
      " n_s:   1920  type_s: FREQ      unit_s: Hz     range: 105548907965.770 Hz:107422684248.450 Hz\n",
      "(1920, 512, 512)\n",
      "(512, 512)\n",
      "[                                        ] | 0% Completed |  0.1s"
     ]
    },
    {
     "name": "stderr",
     "output_type": "stream",
     "text": [
      "WARNING: StokesWarning: Cube is a Stokes cube, returning spectral cube for I component [spectral_cube.io.core]\n"
     ]
    },
    {
     "name": "stdout",
     "output_type": "stream",
     "text": [
      "[########################################] | 100% Completed | 13.4s\n",
      "[########################################] | 100% Completed | 13.5s\n",
      "[########################################] | 100% Completed | 11.1s\n",
      "[########################################] | 100% Completed | 11.2s\n",
      "30.747371912002563\n",
      "source_ab_254_spw85_dirty.image spectra/source_ab_254_spw85_dirty.max_CROPPED.fits\n",
      "source_ab_254_spw85_dirty.image\n"
     ]
    },
    {
     "name": "stderr",
     "output_type": "stream",
     "text": [
      "/blue/adamginsburg/abulatek/anaconda/lib/python3.7/site-packages/casa_formats_io-0.1-py3.7-linux-x86_64.egg/casa_formats_io/casa_dask.py:232: RuntimeWarning: divide by zero encountered in long_scalars\n",
      "  factors = [f for f in range(stacks[dim] + 1) if stacks[dim] % f == 0]\n"
     ]
    },
    {
     "name": "stdout",
     "output_type": "stream",
     "text": [
      "DaskVaryingResolutionSpectralCube with shape=(3840, 512, 512) and unit=Jy / beam and chunk size (128, 256, 512):\n",
      " n_x:    512  type_x: RA---SIN  unit_x: deg    range:   266.528130 deg:  266.560501 deg\n",
      " n_y:    512  type_y: DEC--SIN  unit_y: deg    range:   -28.719152 deg:  -28.690763 deg\n",
      " n_s:   3840  type_s: FREQ      unit_s: Hz     range: 251901820033.907 Hz:253776301621.990 Hz\n",
      "(3840, 512, 512)\n",
      "(512, 512)\n",
      "[                                        ] | 0% Completed |  0.1s"
     ]
    },
    {
     "name": "stderr",
     "output_type": "stream",
     "text": [
      "WARNING: StokesWarning: Cube is a Stokes cube, returning spectral cube for I component [spectral_cube.io.core]\n"
     ]
    },
    {
     "name": "stdout",
     "output_type": "stream",
     "text": [
      "[########################################] | 100% Completed | 24.7s\n",
      "[########################################] | 100% Completed | 24.8s\n",
      "[########################################] | 100% Completed | 22.6s\n",
      "[########################################] | 100% Completed | 22.7s\n",
      "59.275333404541016\n",
      "source_ab_106_spw29_dirty.image spectra/source_ab_106_spw29_dirty.max_CROPPED.fits\n",
      "source_ab_106_spw29_dirty.image\n"
     ]
    },
    {
     "name": "stderr",
     "output_type": "stream",
     "text": [
      "/blue/adamginsburg/abulatek/anaconda/lib/python3.7/site-packages/casa_formats_io-0.1-py3.7-linux-x86_64.egg/casa_formats_io/casa_dask.py:232: RuntimeWarning: divide by zero encountered in long_scalars\n",
      "  factors = [f for f in range(stacks[dim] + 1) if stacks[dim] % f == 0]\n"
     ]
    },
    {
     "name": "stdout",
     "output_type": "stream",
     "text": [
      "DaskVaryingResolutionSpectralCube with shape=(1920, 512, 512) and unit=Jy / beam and chunk size (80, 256, 512):\n",
      " n_x:    512  type_x: RA---SIN  unit_x: deg    range:   266.528130 deg:  266.560501 deg\n",
      " n_y:    512  type_y: DEC--SIN  unit_y: deg    range:   -28.719152 deg:  -28.690763 deg\n",
      " n_s:   1920  type_s: FREQ      unit_s: Hz     range: 105548907965.770 Hz:107422684248.450 Hz\n",
      "(1920, 512, 512)\n",
      "(512, 512)\n",
      "[                                        ] | 0% Completed |  0.1s"
     ]
    },
    {
     "name": "stderr",
     "output_type": "stream",
     "text": [
      "WARNING: StokesWarning: Cube is a Stokes cube, returning spectral cube for I component [spectral_cube.io.core]\n"
     ]
    },
    {
     "name": "stdout",
     "output_type": "stream",
     "text": [
      "[########################################] | 100% Completed | 13.2s\n",
      "[########################################] | 100% Completed | 13.3s\n",
      "[########################################] | 100% Completed | 11.2s\n",
      "[########################################] | 100% Completed | 11.3s\n",
      "30.588091135025024\n",
      "source_ab_270_spw91_clean_2sigma_n50000_masked_3sigma_pbmask0p18.image spectra/source_ab_270_spw91_clean_2sigma_n50000_masked_3sigma_pbmask0p18.max_CROPPED.fits\n",
      "source_ab_270_spw91_clean_2sigma_n50000_masked_3sigma_pbmask0p18.image\n"
     ]
    },
    {
     "name": "stderr",
     "output_type": "stream",
     "text": [
      "/blue/adamginsburg/abulatek/anaconda/lib/python3.7/site-packages/casa_formats_io-0.1-py3.7-linux-x86_64.egg/casa_formats_io/casa_dask.py:232: RuntimeWarning: divide by zero encountered in long_scalars\n",
      "  factors = [f for f in range(stacks[dim] + 1) if stacks[dim] % f == 0]\n"
     ]
    },
    {
     "name": "stdout",
     "output_type": "stream",
     "text": [
      "DaskVaryingResolutionSpectralCube with shape=(3840, 512, 512) and unit=Jy / beam and chunk size (128, 256, 512):\n",
      " n_x:    512  type_x: RA---SIN  unit_x: deg    range:   266.528130 deg:  266.560501 deg\n",
      " n_y:    512  type_y: DEC--SIN  unit_y: deg    range:   -28.719152 deg:  -28.690763 deg\n",
      " n_s:   3840  type_s: FREQ      unit_s: Hz     range: 269604660476.091 Hz:271479142064.174 Hz\n",
      "(3840, 512, 512)\n",
      "(512, 512)\n",
      "[                                        ] | 0% Completed |  0.1s"
     ]
    },
    {
     "name": "stderr",
     "output_type": "stream",
     "text": [
      "WARNING: StokesWarning: Cube is a Stokes cube, returning spectral cube for I component [spectral_cube.io.core]\n"
     ]
    },
    {
     "name": "stdout",
     "output_type": "stream",
     "text": [
      "[########################################] | 100% Completed | 25.0s\n",
      "[########################################] | 100% Completed | 25.1s\n",
      "[########################################] | 100% Completed | 25.8s\n",
      "[########################################] | 100% Completed | 25.9s\n",
      "62.69086837768555\n",
      "source_ab_142_spw111_clean_2sigma_n50000_masked_3sigma_pbmask0p18.image spectra/source_ab_142_spw111_clean_2sigma_n50000_masked_3sigma_pbmask0p18.max_CROPPED.fits\n",
      "source_ab_142_spw111_clean_2sigma_n50000_masked_3sigma_pbmask0p18.image\n"
     ]
    },
    {
     "name": "stderr",
     "output_type": "stream",
     "text": [
      "/blue/adamginsburg/abulatek/anaconda/lib/python3.7/site-packages/casa_formats_io-0.1-py3.7-linux-x86_64.egg/casa_formats_io/casa_dask.py:232: RuntimeWarning: divide by zero encountered in long_scalars\n",
      "  factors = [f for f in range(stacks[dim] + 1) if stacks[dim] % f == 0]\n"
     ]
    },
    {
     "name": "stdout",
     "output_type": "stream",
     "text": [
      "DaskVaryingResolutionSpectralCube with shape=(3840, 512, 512) and unit=Jy / beam and chunk size (128, 256, 512):\n",
      " n_x:    512  type_x: RA---SIN  unit_x: deg    range:   266.528130 deg:  266.560501 deg\n",
      " n_y:    512  type_y: DEC--SIN  unit_y: deg    range:   -28.719152 deg:  -28.690763 deg\n",
      " n_s:   3840  type_s: FREQ      unit_s: Hz     range: 142176244661.086 Hz:144050810773.948 Hz\n",
      "(3840, 512, 512)\n",
      "(512, 512)\n",
      "[                                        ] | 0% Completed |  0.1s"
     ]
    },
    {
     "name": "stderr",
     "output_type": "stream",
     "text": [
      "WARNING: StokesWarning: Cube is a Stokes cube, returning spectral cube for I component [spectral_cube.io.core]\n"
     ]
    },
    {
     "name": "stdout",
     "output_type": "stream",
     "text": [
      "[########################################] | 100% Completed | 24.4s\n",
      "[########################################] | 100% Completed | 24.5s\n",
      "[########################################] | 100% Completed | 23.5s\n",
      "[########################################] | 100% Completed | 23.6s\n",
      "61.05950474739075\n",
      "source_ab_147_spw89_dirty.image spectra/source_ab_147_spw89_dirty.max_CROPPED.fits\n",
      "source_ab_147_spw89_dirty.image\n"
     ]
    },
    {
     "name": "stderr",
     "output_type": "stream",
     "text": [
      "/blue/adamginsburg/abulatek/anaconda/lib/python3.7/site-packages/casa_formats_io-0.1-py3.7-linux-x86_64.egg/casa_formats_io/casa_dask.py:232: RuntimeWarning: divide by zero encountered in long_scalars\n",
      "  factors = [f for f in range(stacks[dim] + 1) if stacks[dim] % f == 0]\n"
     ]
    },
    {
     "name": "stdout",
     "output_type": "stream",
     "text": [
      "DaskVaryingResolutionSpectralCube with shape=(3840, 512, 512) and unit=Jy / beam and chunk size (128, 256, 512):\n",
      " n_x:    512  type_x: RA---SIN  unit_x: deg    range:   266.528130 deg:  266.560501 deg\n",
      " n_y:    512  type_y: DEC--SIN  unit_y: deg    range:   -28.719152 deg:  -28.690763 deg\n",
      " n_s:   3840  type_s: FREQ      unit_s: Hz     range: 147285780616.662 Hz:149160346891.201 Hz\n",
      "(3840, 512, 512)\n",
      "(512, 512)\n",
      "[                                        ] | 0% Completed |  0.1s"
     ]
    },
    {
     "name": "stderr",
     "output_type": "stream",
     "text": [
      "WARNING: StokesWarning: Cube is a Stokes cube, returning spectral cube for I component [spectral_cube.io.core]\n"
     ]
    },
    {
     "name": "stdout",
     "output_type": "stream",
     "text": [
      "[########################################] | 100% Completed | 24.1s\n",
      "[########################################] | 100% Completed | 24.2s\n",
      "[########################################] | 100% Completed | 23.5s\n",
      "[########################################] | 100% Completed | 23.6s\n",
      "59.546905517578125\n",
      "source_ab_93_spw27_dirty.image spectra/source_ab_93_spw27_dirty.max_CROPPED.fits\n",
      "source_ab_93_spw27_dirty.image\n"
     ]
    },
    {
     "name": "stderr",
     "output_type": "stream",
     "text": [
      "/blue/adamginsburg/abulatek/anaconda/lib/python3.7/site-packages/casa_formats_io-0.1-py3.7-linux-x86_64.egg/casa_formats_io/casa_dask.py:232: RuntimeWarning: divide by zero encountered in long_scalars\n",
      "  factors = [f for f in range(stacks[dim] + 1) if stacks[dim] % f == 0]\n"
     ]
    },
    {
     "name": "stdout",
     "output_type": "stream",
     "text": [
      "DaskVaryingResolutionSpectralCube with shape=(1920, 512, 512) and unit=Jy / beam and chunk size (80, 256, 512):\n",
      " n_x:    512  type_x: RA---SIN  unit_x: deg    range:   266.528130 deg:  266.560501 deg\n",
      " n_y:    512  type_y: DEC--SIN  unit_y: deg    range:   -28.719152 deg:  -28.690763 deg\n",
      " n_s:   1920  type_s: FREQ      unit_s: Hz     range: 91425792724.639 Hz:93299566513.404 Hz\n",
      "(1920, 512, 512)\n",
      "(512, 512)\n",
      "[                                        ] | 0% Completed |  0.1s"
     ]
    },
    {
     "name": "stderr",
     "output_type": "stream",
     "text": [
      "WARNING: StokesWarning: Cube is a Stokes cube, returning spectral cube for I component [spectral_cube.io.core]\n"
     ]
    },
    {
     "name": "stdout",
     "output_type": "stream",
     "text": [
      "[########################################] | 100% Completed | 13.1s\n",
      "[########################################] | 100% Completed | 13.2s\n",
      "[########################################] | 100% Completed | 11.2s\n",
      "[########################################] | 100% Completed | 11.3s\n",
      "30.479974031448364\n",
      "source_ab_129_spw67_clean_2sigma_n50000_masked_3sigma_pbmask0p18.image spectra/source_ab_129_spw67_clean_2sigma_n50000_masked_3sigma_pbmask0p18.max_CROPPED.fits\n",
      "source_ab_129_spw67_clean_2sigma_n50000_masked_3sigma_pbmask0p18.image\n"
     ]
    },
    {
     "name": "stderr",
     "output_type": "stream",
     "text": [
      "/blue/adamginsburg/abulatek/anaconda/lib/python3.7/site-packages/casa_formats_io-0.1-py3.7-linux-x86_64.egg/casa_formats_io/casa_dask.py:232: RuntimeWarning: divide by zero encountered in long_scalars\n",
      "  factors = [f for f in range(stacks[dim] + 1) if stacks[dim] % f == 0]\n"
     ]
    },
    {
     "name": "stdout",
     "output_type": "stream",
     "text": [
      "DaskVaryingResolutionSpectralCube with shape=(3840, 512, 512) and unit=Jy / beam and chunk size (128, 256, 512):\n",
      " n_x:    512  type_x: RA---SIN  unit_x: deg    range:   266.528130 deg:  266.560501 deg\n",
      " n_y:    512  type_y: DEC--SIN  unit_y: deg    range:   -28.719152 deg:  -28.690763 deg\n",
      " n_s:   3840  type_s: FREQ      unit_s: Hz     range: 126732915972.667 Hz:128607482003.168 Hz\n",
      "(3840, 512, 512)\n",
      "(512, 512)\n",
      "[                                        ] | 0% Completed |  0.1s"
     ]
    },
    {
     "name": "stderr",
     "output_type": "stream",
     "text": [
      "WARNING: StokesWarning: Cube is a Stokes cube, returning spectral cube for I component [spectral_cube.io.core]\n"
     ]
    },
    {
     "name": "stdout",
     "output_type": "stream",
     "text": [
      "[########################################] | 100% Completed | 24.6s\n",
      "[########################################] | 100% Completed | 24.7s\n",
      "[########################################] | 100% Completed | 26.2s\n",
      "[########################################] | 100% Completed | 26.3s\n",
      "62.70896053314209\n",
      "source_ab_93_spw27_clean_2sigma_n50000_masked_3sigma_pbmask0p18.image spectra/source_ab_93_spw27_clean_2sigma_n50000_masked_3sigma_pbmask0p18.max_CROPPED.fits\n",
      "source_ab_93_spw27_clean_2sigma_n50000_masked_3sigma_pbmask0p18.image\n"
     ]
    },
    {
     "name": "stderr",
     "output_type": "stream",
     "text": [
      "/blue/adamginsburg/abulatek/anaconda/lib/python3.7/site-packages/casa_formats_io-0.1-py3.7-linux-x86_64.egg/casa_formats_io/casa_dask.py:232: RuntimeWarning: divide by zero encountered in long_scalars\n",
      "  factors = [f for f in range(stacks[dim] + 1) if stacks[dim] % f == 0]\n"
     ]
    },
    {
     "name": "stdout",
     "output_type": "stream",
     "text": [
      "DaskVaryingResolutionSpectralCube with shape=(1920, 512, 512) and unit=Jy / beam and chunk size (80, 256, 512):\n",
      " n_x:    512  type_x: RA---SIN  unit_x: deg    range:   266.528130 deg:  266.560501 deg\n",
      " n_y:    512  type_y: DEC--SIN  unit_y: deg    range:   -28.719152 deg:  -28.690763 deg\n",
      " n_s:   1920  type_s: FREQ      unit_s: Hz     range: 91425792724.639 Hz:93299566513.404 Hz\n",
      "(1920, 512, 512)\n",
      "(512, 512)\n",
      "[                                        ] | 0% Completed |  0.1s"
     ]
    },
    {
     "name": "stderr",
     "output_type": "stream",
     "text": [
      "WARNING: StokesWarning: Cube is a Stokes cube, returning spectral cube for I component [spectral_cube.io.core]\n"
     ]
    },
    {
     "name": "stdout",
     "output_type": "stream",
     "text": [
      "[########################################] | 100% Completed | 12.8s\n",
      "[########################################] | 100% Completed | 12.9s\n",
      "[########################################] | 100% Completed | 11.2s\n",
      "[########################################] | 100% Completed | 11.2s\n",
      "30.097659587860107\n",
      "source_ab_138_spw25_clean_2sigma_masked.image spectra/source_ab_138_spw25_clean_2sigma_masked.max_CROPPED.fits\n",
      "source_ab_138_spw25_clean_2sigma_masked.image\n"
     ]
    },
    {
     "name": "stderr",
     "output_type": "stream",
     "text": [
      "/blue/adamginsburg/abulatek/anaconda/lib/python3.7/site-packages/casa_formats_io-0.1-py3.7-linux-x86_64.egg/casa_formats_io/casa_dask.py:232: RuntimeWarning: divide by zero encountered in long_scalars\n",
      "  factors = [f for f in range(stacks[dim] + 1) if stacks[dim] % f == 0]\n"
     ]
    },
    {
     "name": "stdout",
     "output_type": "stream",
     "text": [
      "DaskVaryingResolutionSpectralCube with shape=(3840, 512, 512) and unit=Jy / beam and chunk size (128, 256, 512):\n",
      " n_x:    512  type_x: RA---SIN  unit_x: deg    range:   266.528130 deg:  266.560501 deg\n",
      " n_y:    512  type_y: DEC--SIN  unit_y: deg    range:   -28.719152 deg:  -28.690763 deg\n",
      " n_s:   3840  type_s: FREQ      unit_s: Hz     range: 138691786338.613 Hz:140566352691.882 Hz\n",
      "(3840, 512, 512)\n",
      "(512, 512)\n",
      "[                                        ] | 0% Completed |  0.1s"
     ]
    },
    {
     "name": "stderr",
     "output_type": "stream",
     "text": [
      "WARNING: StokesWarning: Cube is a Stokes cube, returning spectral cube for I component [spectral_cube.io.core]\n"
     ]
    },
    {
     "name": "stdout",
     "output_type": "stream",
     "text": [
      "[########################################] | 100% Completed | 24.3s\n",
      "[########################################] | 100% Completed | 24.3s\n",
      "[########################################] | 100% Completed | 24.2s\n",
      "[########################################] | 100% Completed | 24.3s\n",
      "60.67154288291931\n",
      "source_ab_152_spw31_clean_2sigma_n100000_masked_3sigma.image spectra/source_ab_152_spw31_clean_2sigma_n100000_masked_3sigma.max_CROPPED.fits\n",
      "source_ab_152_spw31_clean_2sigma_n100000_masked_3sigma.image\n"
     ]
    },
    {
     "name": "stderr",
     "output_type": "stream",
     "text": [
      "/blue/adamginsburg/abulatek/anaconda/lib/python3.7/site-packages/casa_formats_io-0.1-py3.7-linux-x86_64.egg/casa_formats_io/casa_dask.py:232: RuntimeWarning: divide by zero encountered in long_scalars\n",
      "  factors = [f for f in range(stacks[dim] + 1) if stacks[dim] % f == 0]\n"
     ]
    },
    {
     "name": "stdout",
     "output_type": "stream",
     "text": [
      "DaskVaryingResolutionSpectralCube with shape=(3840, 512, 512) and unit=Jy / beam and chunk size (128, 256, 512):\n",
      " n_x:    512  type_x: RA---SIN  unit_x: deg    range:   266.528130 deg:  266.560501 deg\n",
      " n_y:    512  type_y: DEC--SIN  unit_y: deg    range:   -28.719152 deg:  -28.690763 deg\n",
      " n_s:   3840  type_s: FREQ      unit_s: Hz     range: 152395310730.523 Hz:154269877084.026 Hz\n",
      "(3840, 512, 512)\n",
      "(512, 512)\n",
      "[                                        ] | 0% Completed |  0.1s"
     ]
    },
    {
     "name": "stderr",
     "output_type": "stream",
     "text": [
      "WARNING: StokesWarning: Cube is a Stokes cube, returning spectral cube for I component [spectral_cube.io.core]\n"
     ]
    },
    {
     "name": "stdout",
     "output_type": "stream",
     "text": [
      "[########################################] | 100% Completed | 25.5s\n",
      "[########################################] | 100% Completed | 25.6s\n",
      "[########################################] | 100% Completed | 26.7s\n",
      "[########################################] | 100% Completed | 26.8s\n",
      "64.18093919754028\n",
      "source_ab_146_spw51_clean_2sigma_n50000_masked_3sigma_pbmask0p18.image spectra/source_ab_146_spw51_clean_2sigma_n50000_masked_3sigma_pbmask0p18.max_CROPPED.fits\n",
      "source_ab_146_spw51_clean_2sigma_n50000_masked_3sigma_pbmask0p18.image\n"
     ]
    },
    {
     "name": "stderr",
     "output_type": "stream",
     "text": [
      "/blue/adamginsburg/abulatek/anaconda/lib/python3.7/site-packages/casa_formats_io-0.1-py3.7-linux-x86_64.egg/casa_formats_io/casa_dask.py:232: RuntimeWarning: divide by zero encountered in long_scalars\n",
      "  factors = [f for f in range(stacks[dim] + 1) if stacks[dim] % f == 0]\n"
     ]
    },
    {
     "name": "stdout",
     "output_type": "stream",
     "text": [
      "DaskVaryingResolutionSpectralCube with shape=(3840, 512, 512) and unit=Jy / beam and chunk size (128, 256, 512):\n",
      " n_x:    512  type_x: RA---SIN  unit_x: deg    range:   266.528130 deg:  266.560501 deg\n",
      " n_y:    512  type_y: DEC--SIN  unit_y: deg    range:   -28.719152 deg:  -28.690763 deg\n",
      " n_s:   3840  type_s: FREQ      unit_s: Hz     range: 145582599820.702 Hz:147457166014.871 Hz\n",
      "(3840, 512, 512)\n",
      "(512, 512)\n",
      "[                                        ] | 0% Completed |  0.1s"
     ]
    },
    {
     "name": "stderr",
     "output_type": "stream",
     "text": [
      "WARNING: StokesWarning: Cube is a Stokes cube, returning spectral cube for I component [spectral_cube.io.core]\n"
     ]
    },
    {
     "name": "stdout",
     "output_type": "stream",
     "text": [
      "[########################################] | 100% Completed | 24.7s\n",
      "[########################################] | 100% Completed | 24.8s\n",
      "[########################################] | 100% Completed | 22.7s\n",
      "[########################################] | 100% Completed | 22.8s\n",
      "59.42125082015991\n",
      "source_ab_87_spw25_clean_2sigma_n50000_masked_3sigma_pbmask0p18.image spectra/source_ab_87_spw25_clean_2sigma_n50000_masked_3sigma_pbmask0p18.max_CROPPED.fits\n",
      "source_ab_87_spw25_clean_2sigma_n50000_masked_3sigma_pbmask0p18.image\n"
     ]
    },
    {
     "name": "stderr",
     "output_type": "stream",
     "text": [
      "/blue/adamginsburg/abulatek/anaconda/lib/python3.7/site-packages/casa_formats_io-0.1-py3.7-linux-x86_64.egg/casa_formats_io/casa_dask.py:232: RuntimeWarning: divide by zero encountered in long_scalars\n",
      "  factors = [f for f in range(stacks[dim] + 1) if stacks[dim] % f == 0]\n"
     ]
    },
    {
     "name": "stdout",
     "output_type": "stream",
     "text": [
      "DaskVaryingResolutionSpectralCube with shape=(1920, 512, 512) and unit=Jy / beam and chunk size (80, 256, 512):\n",
      " n_x:    512  type_x: RA---SIN  unit_x: deg    range:   266.528130 deg:  266.560501 deg\n",
      " n_y:    512  type_y: DEC--SIN  unit_y: deg    range:   -28.719152 deg:  -28.690763 deg\n",
      " n_s:   1920  type_s: FREQ      unit_s: Hz     range: 85551577733.007 Hz:87425348847.599 Hz\n",
      "(1920, 512, 512)\n",
      "(512, 512)\n",
      "[                                        ] | 0% Completed |  0.1s"
     ]
    },
    {
     "name": "stderr",
     "output_type": "stream",
     "text": [
      "WARNING: StokesWarning: Cube is a Stokes cube, returning spectral cube for I component [spectral_cube.io.core]\n"
     ]
    },
    {
     "name": "stdout",
     "output_type": "stream",
     "text": [
      "[########################################] | 100% Completed | 12.3s\n",
      "[########################################] | 100% Completed | 12.4s\n",
      "[########################################] | 100% Completed | 11.1s\n",
      "[########################################] | 100% Completed | 11.2s\n",
      "31.427560567855835\n",
      "source_ab_259_spw71_dirty.image spectra/source_ab_259_spw71_dirty.max_CROPPED.fits\n",
      "source_ab_259_spw71_dirty.image\n"
     ]
    },
    {
     "name": "stderr",
     "output_type": "stream",
     "text": [
      "/blue/adamginsburg/abulatek/anaconda/lib/python3.7/site-packages/casa_formats_io-0.1-py3.7-linux-x86_64.egg/casa_formats_io/casa_dask.py:232: RuntimeWarning: divide by zero encountered in long_scalars\n",
      "  factors = [f for f in range(stacks[dim] + 1) if stacks[dim] % f == 0]\n"
     ]
    },
    {
     "name": "stdout",
     "output_type": "stream",
     "text": [
      "DaskVaryingResolutionSpectralCube with shape=(3840, 512, 512) and unit=Jy / beam and chunk size (128, 256, 512):\n",
      " n_x:    512  type_x: RA---SIN  unit_x: deg    range:   266.528130 deg:  266.560501 deg\n",
      " n_y:    512  type_y: DEC--SIN  unit_y: deg    range:   -28.719152 deg:  -28.690763 deg\n",
      " n_s:   3840  type_s: FREQ      unit_s: Hz     range: 259386057685.394 Hz:261260539150.228 Hz\n",
      "(3840, 512, 512)\n",
      "(512, 512)\n",
      "[                                        ] | 0% Completed |  0.1s"
     ]
    },
    {
     "name": "stderr",
     "output_type": "stream",
     "text": [
      "WARNING: StokesWarning: Cube is a Stokes cube, returning spectral cube for I component [spectral_cube.io.core]\n"
     ]
    },
    {
     "name": "stdout",
     "output_type": "stream",
     "text": [
      "[########################################] | 100% Completed | 25.3s\n",
      "[########################################] | 100% Completed | 25.3s\n",
      "[########################################] | 100% Completed | 26.3s\n",
      "[########################################] | 100% Completed | 26.4s\n",
      "64.46175384521484\n",
      "source_ab_142_spw111_dirty.image spectra/source_ab_142_spw111_dirty.max_CROPPED.fits\n",
      "source_ab_142_spw111_dirty.image\n"
     ]
    },
    {
     "name": "stderr",
     "output_type": "stream",
     "text": [
      "/blue/adamginsburg/abulatek/anaconda/lib/python3.7/site-packages/casa_formats_io-0.1-py3.7-linux-x86_64.egg/casa_formats_io/casa_dask.py:232: RuntimeWarning: divide by zero encountered in long_scalars\n",
      "  factors = [f for f in range(stacks[dim] + 1) if stacks[dim] % f == 0]\n"
     ]
    },
    {
     "name": "stdout",
     "output_type": "stream",
     "text": [
      "DaskVaryingResolutionSpectralCube with shape=(3840, 512, 512) and unit=Jy / beam and chunk size (128, 256, 512):\n",
      " n_x:    512  type_x: RA---SIN  unit_x: deg    range:   266.528130 deg:  266.560501 deg\n",
      " n_y:    512  type_y: DEC--SIN  unit_y: deg    range:   -28.719152 deg:  -28.690763 deg\n",
      " n_s:   3840  type_s: FREQ      unit_s: Hz     range: 142176244661.086 Hz:144050810773.948 Hz\n",
      "(3840, 512, 512)\n",
      "(512, 512)\n",
      "[                                        ] | 0% Completed |  0.1s"
     ]
    },
    {
     "name": "stderr",
     "output_type": "stream",
     "text": [
      "WARNING: StokesWarning: Cube is a Stokes cube, returning spectral cube for I component [spectral_cube.io.core]\n"
     ]
    },
    {
     "name": "stdout",
     "output_type": "stream",
     "text": [
      "[########################################] | 100% Completed | 24.0s\n",
      "[########################################] | 100% Completed | 24.1s\n",
      "[########################################] | 100% Completed | 22.4s\n",
      "[########################################] | 100% Completed | 22.5s\n",
      "58.491137742996216\n",
      "source_ab_114_spw29_clean_2sigma_n50000_masked_3sigma_pbmask0p18.image spectra/source_ab_114_spw29_clean_2sigma_n50000_masked_3sigma_pbmask0p18.max_CROPPED.fits\n",
      "source_ab_114_spw29_clean_2sigma_n50000_masked_3sigma_pbmask0p18.image\n"
     ]
    },
    {
     "name": "stderr",
     "output_type": "stream",
     "text": [
      "/blue/adamginsburg/abulatek/anaconda/lib/python3.7/site-packages/casa_formats_io-0.1-py3.7-linux-x86_64.egg/casa_formats_io/casa_dask.py:232: RuntimeWarning: divide by zero encountered in long_scalars\n",
      "  factors = [f for f in range(stacks[dim] + 1) if stacks[dim] % f == 0]\n"
     ]
    },
    {
     "name": "stdout",
     "output_type": "stream",
     "text": [
      "DaskVaryingResolutionSpectralCube with shape=(1920, 512, 512) and unit=Jy / beam and chunk size (80, 256, 512):\n",
      " n_x:    512  type_x: RA---SIN  unit_x: deg    range:   266.528130 deg:  266.560501 deg\n",
      " n_y:    512  type_y: DEC--SIN  unit_y: deg    range:   -28.719152 deg:  -28.690763 deg\n",
      " n_s:   1920  type_s: FREQ      unit_s: Hz     range: 114039294673.062 Hz:115913071106.367 Hz\n",
      "(1920, 512, 512)\n",
      "(512, 512)\n",
      "[                                        ] | 0% Completed |  0.1s"
     ]
    },
    {
     "name": "stderr",
     "output_type": "stream",
     "text": [
      "WARNING: StokesWarning: Cube is a Stokes cube, returning spectral cube for I component [spectral_cube.io.core]\n"
     ]
    },
    {
     "name": "stdout",
     "output_type": "stream",
     "text": [
      "[########################################] | 100% Completed | 13.1s\n",
      "[########################################] | 100% Completed | 13.2s\n",
      "[########################################] | 100% Completed | 11.3s\n",
      "[########################################] | 100% Completed | 11.4s\n",
      "32.46156597137451\n",
      "source_ab_152_spw31_clean_2sigma_n50000_masked_3sigma_pbmask0p18.image spectra/source_ab_152_spw31_clean_2sigma_n50000_masked_3sigma_pbmask0p18.max_CROPPED.fits\n",
      "source_ab_152_spw31_clean_2sigma_n50000_masked_3sigma_pbmask0p18.image\n"
     ]
    },
    {
     "name": "stderr",
     "output_type": "stream",
     "text": [
      "/blue/adamginsburg/abulatek/anaconda/lib/python3.7/site-packages/casa_formats_io-0.1-py3.7-linux-x86_64.egg/casa_formats_io/casa_dask.py:232: RuntimeWarning: divide by zero encountered in long_scalars\n",
      "  factors = [f for f in range(stacks[dim] + 1) if stacks[dim] % f == 0]\n"
     ]
    },
    {
     "name": "stdout",
     "output_type": "stream",
     "text": [
      "DaskVaryingResolutionSpectralCube with shape=(3840, 512, 512) and unit=Jy / beam and chunk size (128, 256, 512):\n",
      " n_x:    512  type_x: RA---SIN  unit_x: deg    range:   266.528130 deg:  266.560501 deg\n",
      " n_y:    512  type_y: DEC--SIN  unit_y: deg    range:   -28.719152 deg:  -28.690763 deg\n",
      " n_s:   3840  type_s: FREQ      unit_s: Hz     range: 152395310730.523 Hz:154269877084.026 Hz\n",
      "(3840, 512, 512)\n",
      "(512, 512)\n",
      "[                                        ] | 0% Completed |  0.1s"
     ]
    },
    {
     "name": "stderr",
     "output_type": "stream",
     "text": [
      "WARNING: StokesWarning: Cube is a Stokes cube, returning spectral cube for I component [spectral_cube.io.core]\n"
     ]
    },
    {
     "name": "stdout",
     "output_type": "stream",
     "text": [
      "[########################################] | 100% Completed | 25.6s\n",
      "[########################################] | 100% Completed | 25.7s\n",
      "[########################################] | 100% Completed | 24.2s\n",
      "[########################################] | 100% Completed | 24.3s\n",
      "61.83602690696716\n",
      "source_ab_135_spw47_dirty.image spectra/source_ab_135_spw47_dirty.max_CROPPED.fits\n",
      "source_ab_135_spw47_dirty.image\n"
     ]
    },
    {
     "name": "stderr",
     "output_type": "stream",
     "text": [
      "/blue/adamginsburg/abulatek/anaconda/lib/python3.7/site-packages/casa_formats_io-0.1-py3.7-linux-x86_64.egg/casa_formats_io/casa_dask.py:232: RuntimeWarning: divide by zero encountered in long_scalars\n",
      "  factors = [f for f in range(stacks[dim] + 1) if stacks[dim] % f == 0]\n"
     ]
    },
    {
     "name": "stdout",
     "output_type": "stream",
     "text": [
      "DaskVaryingResolutionSpectralCube with shape=(3840, 512, 512) and unit=Jy / beam and chunk size (128, 256, 512):\n",
      " n_x:    512  type_x: RA---SIN  unit_x: deg    range:   266.528130 deg:  266.560501 deg\n",
      " n_y:    512  type_y: DEC--SIN  unit_y: deg    range:   -28.719152 deg:  -28.690763 deg\n",
      " n_s:   3840  type_s: FREQ      unit_s: Hz     range: 133582251086.390 Hz:135456817280.560 Hz\n",
      "(3840, 512, 512)\n",
      "(512, 512)\n",
      "[                                        ] | 0% Completed |  0.1s"
     ]
    },
    {
     "name": "stderr",
     "output_type": "stream",
     "text": [
      "WARNING: StokesWarning: Cube is a Stokes cube, returning spectral cube for I component [spectral_cube.io.core]\n"
     ]
    },
    {
     "name": "stdout",
     "output_type": "stream",
     "text": [
      "[########################################] | 100% Completed | 25.7s\n",
      "[########################################] | 100% Completed | 25.8s\n",
      "[########################################] | 100% Completed | 23.6s\n",
      "[########################################] | 100% Completed | 23.7s\n",
      "61.326005697250366\n",
      "source_ab_261_spw109_dirty.image spectra/source_ab_261_spw109_dirty.max_CROPPED.fits\n",
      "source_ab_261_spw109_dirty.image\n"
     ]
    },
    {
     "name": "stderr",
     "output_type": "stream",
     "text": [
      "/blue/adamginsburg/abulatek/anaconda/lib/python3.7/site-packages/casa_formats_io-0.1-py3.7-linux-x86_64.egg/casa_formats_io/casa_dask.py:232: RuntimeWarning: divide by zero encountered in long_scalars\n",
      "  factors = [f for f in range(stacks[dim] + 1) if stacks[dim] % f == 0]\n"
     ]
    },
    {
     "name": "stdout",
     "output_type": "stream",
     "text": [
      "DaskVaryingResolutionSpectralCube with shape=(3840, 512, 512) and unit=Jy / beam and chunk size (128, 256, 512):\n",
      " n_x:    512  type_x: RA---SIN  unit_x: deg    range:   266.528130 deg:  266.560501 deg\n",
      " n_y:    512  type_y: DEC--SIN  unit_y: deg    range:   -28.719152 deg:  -28.690763 deg\n",
      " n_s:   3840  type_s: FREQ      unit_s: Hz     range: 261089160941.636 Hz:262963642447.709 Hz\n",
      "(3840, 512, 512)\n",
      "(512, 512)\n",
      "[                                        ] | 0% Completed |  0.1s"
     ]
    },
    {
     "name": "stderr",
     "output_type": "stream",
     "text": [
      "WARNING: StokesWarning: Cube is a Stokes cube, returning spectral cube for I component [spectral_cube.io.core]\n"
     ]
    },
    {
     "name": "stdout",
     "output_type": "stream",
     "text": [
      "[########################################] | 100% Completed | 25.5s\n",
      "[########################################] | 100% Completed | 25.6s\n",
      "[########################################] | 100% Completed | 25.1s\n",
      "[########################################] | 100% Completed | 25.2s\n",
      "62.63919997215271\n",
      "source_ab_252_spw27_dirty.image spectra/source_ab_252_spw27_dirty.max_CROPPED.fits\n",
      "source_ab_252_spw27_dirty.image\n"
     ]
    },
    {
     "name": "stderr",
     "output_type": "stream",
     "text": [
      "/blue/adamginsburg/abulatek/anaconda/lib/python3.7/site-packages/casa_formats_io-0.1-py3.7-linux-x86_64.egg/casa_formats_io/casa_dask.py:232: RuntimeWarning: divide by zero encountered in long_scalars\n",
      "  factors = [f for f in range(stacks[dim] + 1) if stacks[dim] % f == 0]\n"
     ]
    },
    {
     "name": "stdout",
     "output_type": "stream",
     "text": [
      "DaskVaryingResolutionSpectralCube with shape=(3840, 512, 512) and unit=Jy / beam and chunk size (128, 256, 512):\n",
      " n_x:    512  type_x: RA---SIN  unit_x: deg    range:   266.528130 deg:  266.560501 deg\n",
      " n_y:    512  type_y: DEC--SIN  unit_y: deg    range:   -28.719152 deg:  -28.690763 deg\n",
      " n_s:   3840  type_s: FREQ      unit_s: Hz     range: 250198716959.327 Hz:252073198506.639 Hz\n",
      "(3840, 512, 512)\n",
      "(512, 512)\n",
      "[                                        ] | 0% Completed |  0.1s"
     ]
    },
    {
     "name": "stderr",
     "output_type": "stream",
     "text": [
      "WARNING: StokesWarning: Cube is a Stokes cube, returning spectral cube for I component [spectral_cube.io.core]\n"
     ]
    },
    {
     "name": "stdout",
     "output_type": "stream",
     "text": [
      "[########################################] | 100% Completed | 25.5s\n",
      "[########################################] | 100% Completed | 25.6s\n",
      "[########################################] | 100% Completed | 22.4s\n",
      "[########################################] | 100% Completed | 22.5s\n",
      "59.837807178497314\n",
      "source_ab_250_spw25_dirty.image spectra/source_ab_250_spw25_dirty.max_CROPPED.fits\n",
      "source_ab_250_spw25_dirty.image\n"
     ]
    },
    {
     "name": "stderr",
     "output_type": "stream",
     "text": [
      "/blue/adamginsburg/abulatek/anaconda/lib/python3.7/site-packages/casa_formats_io-0.1-py3.7-linux-x86_64.egg/casa_formats_io/casa_dask.py:232: RuntimeWarning: divide by zero encountered in long_scalars\n",
      "  factors = [f for f in range(stacks[dim] + 1) if stacks[dim] % f == 0]\n"
     ]
    },
    {
     "name": "stdout",
     "output_type": "stream",
     "text": [
      "DaskVaryingResolutionSpectralCube with shape=(3840, 512, 512) and unit=Jy / beam and chunk size (128, 256, 512):\n",
      " n_x:    512  type_x: RA---SIN  unit_x: deg    range:   266.528130 deg:  266.560501 deg\n",
      " n_y:    512  type_y: DEC--SIN  unit_y: deg    range:   -28.719152 deg:  -28.690763 deg\n",
      " n_s:   3840  type_s: FREQ      unit_s: Hz     range: 248495619372.267 Hz:250370100919.579 Hz\n",
      "(3840, 512, 512)\n",
      "(512, 512)\n",
      "[                                        ] | 0% Completed |  0.1s"
     ]
    },
    {
     "name": "stderr",
     "output_type": "stream",
     "text": [
      "WARNING: StokesWarning: Cube is a Stokes cube, returning spectral cube for I component [spectral_cube.io.core]\n"
     ]
    },
    {
     "name": "stdout",
     "output_type": "stream",
     "text": [
      "[########################################] | 100% Completed | 25.1s\n",
      "[########################################] | 100% Completed | 25.2s\n",
      "[########################################] | 100% Completed | 23.3s\n",
      "[########################################] | 100% Completed | 23.4s\n",
      "60.287577629089355\n",
      "source_ab_89_spw27_clean_2sigma_n50000_masked_3sigma_pbmask0p18.image spectra/source_ab_89_spw27_clean_2sigma_n50000_masked_3sigma_pbmask0p18.max_CROPPED.fits\n",
      "source_ab_89_spw27_clean_2sigma_n50000_masked_3sigma_pbmask0p18.image\n"
     ]
    },
    {
     "name": "stderr",
     "output_type": "stream",
     "text": [
      "/blue/adamginsburg/abulatek/anaconda/lib/python3.7/site-packages/casa_formats_io-0.1-py3.7-linux-x86_64.egg/casa_formats_io/casa_dask.py:232: RuntimeWarning: divide by zero encountered in long_scalars\n",
      "  factors = [f for f in range(stacks[dim] + 1) if stacks[dim] % f == 0]\n"
     ]
    },
    {
     "name": "stdout",
     "output_type": "stream",
     "text": [
      "DaskVaryingResolutionSpectralCube with shape=(1920, 512, 512) and unit=Jy / beam and chunk size (80, 256, 512):\n",
      " n_x:    512  type_x: RA---SIN  unit_x: deg    range:   266.528130 deg:  266.560501 deg\n",
      " n_y:    512  type_y: DEC--SIN  unit_y: deg    range:   -28.719152 deg:  -28.690763 deg\n",
      " n_s:   1920  type_s: FREQ      unit_s: Hz     range: 87426327659.823 Hz:89300098774.415 Hz\n",
      "(1920, 512, 512)\n",
      "(512, 512)\n",
      "[                                        ] | 0% Completed |  0.1s"
     ]
    },
    {
     "name": "stderr",
     "output_type": "stream",
     "text": [
      "WARNING: StokesWarning: Cube is a Stokes cube, returning spectral cube for I component [spectral_cube.io.core]\n"
     ]
    },
    {
     "name": "stdout",
     "output_type": "stream",
     "text": [
      "[########################################] | 100% Completed | 13.2s\n",
      "[########################################] | 100% Completed | 13.3s\n",
      "[########################################] | 100% Completed | 11.2s\n",
      "[########################################] | 100% Completed | 11.3s\n",
      "30.71468949317932\n",
      "source_ab_138_spw25_dirty_512.image spectra/source_ab_138_spw25_dirty_512.max_CROPPED.fits\n",
      "source_ab_138_spw25_dirty_512.image\n"
     ]
    },
    {
     "name": "stderr",
     "output_type": "stream",
     "text": [
      "/blue/adamginsburg/abulatek/anaconda/lib/python3.7/site-packages/casa_formats_io-0.1-py3.7-linux-x86_64.egg/casa_formats_io/casa_dask.py:232: RuntimeWarning: divide by zero encountered in long_scalars\n",
      "  factors = [f for f in range(stacks[dim] + 1) if stacks[dim] % f == 0]\n"
     ]
    },
    {
     "name": "stdout",
     "output_type": "stream",
     "text": [
      "DaskVaryingResolutionSpectralCube with shape=(3840, 512, 512) and unit=Jy / beam and chunk size (128, 256, 512):\n",
      " n_x:    512  type_x: RA---SIN  unit_x: deg    range:   266.528130 deg:  266.560501 deg\n",
      " n_y:    512  type_y: DEC--SIN  unit_y: deg    range:   -28.719152 deg:  -28.690763 deg\n",
      " n_s:   3840  type_s: FREQ      unit_s: Hz     range: 138691786338.613 Hz:140566352691.882 Hz\n",
      "(3840, 512, 512)\n",
      "(512, 512)\n",
      "[                                        ] | 0% Completed |  0.1s"
     ]
    },
    {
     "name": "stderr",
     "output_type": "stream",
     "text": [
      "WARNING: StokesWarning: Cube is a Stokes cube, returning spectral cube for I component [spectral_cube.io.core]\n"
     ]
    },
    {
     "name": "stdout",
     "output_type": "stream",
     "text": [
      "[########################################] | 100% Completed | 25.4s\n",
      "[########################################] | 100% Completed | 25.5s\n",
      "[########################################] | 100% Completed | 22.4s\n",
      "[########################################] | 100% Completed | 22.5s\n",
      "60.043113708496094\n",
      "source_ab_102_spw29_clean_2sigma_n50000_masked_3sigma_pbmask0p18.image spectra/source_ab_102_spw29_clean_2sigma_n50000_masked_3sigma_pbmask0p18.max_CROPPED.fits\n",
      "source_ab_102_spw29_clean_2sigma_n50000_masked_3sigma_pbmask0p18.image\n"
     ]
    },
    {
     "name": "stderr",
     "output_type": "stream",
     "text": [
      "/blue/adamginsburg/abulatek/anaconda/lib/python3.7/site-packages/casa_formats_io-0.1-py3.7-linux-x86_64.egg/casa_formats_io/casa_dask.py:232: RuntimeWarning: divide by zero encountered in long_scalars\n",
      "  factors = [f for f in range(stacks[dim] + 1) if stacks[dim] % f == 0]\n"
     ]
    },
    {
     "name": "stdout",
     "output_type": "stream",
     "text": [
      "DaskVaryingResolutionSpectralCube with shape=(1920, 512, 512) and unit=Jy / beam and chunk size (80, 256, 512):\n",
      " n_x:    512  type_x: RA---SIN  unit_x: deg    range:   266.528130 deg:  266.560501 deg\n",
      " n_y:    512  type_y: DEC--SIN  unit_y: deg    range:   -28.719152 deg:  -28.690763 deg\n",
      " n_s:   1920  type_s: FREQ      unit_s: Hz     range: 101549443159.977 Hz:103423216948.801 Hz\n",
      "(1920, 512, 512)\n",
      "(512, 512)\n",
      "[                                        ] | 0% Completed |  0.1s"
     ]
    },
    {
     "name": "stderr",
     "output_type": "stream",
     "text": [
      "WARNING: StokesWarning: Cube is a Stokes cube, returning spectral cube for I component [spectral_cube.io.core]\n"
     ]
    },
    {
     "name": "stdout",
     "output_type": "stream",
     "text": [
      "[########################################] | 100% Completed | 12.9s\n",
      "[########################################] | 100% Completed | 13.0s\n",
      "[########################################] | 100% Completed | 11.2s\n",
      "[########################################] | 100% Completed | 11.3s\n",
      "30.59236788749695\n",
      "source_ab_101_spw27_clean_2sigma_n50000_masked_3sigma_pbmask0p18.image spectra/source_ab_101_spw27_clean_2sigma_n50000_masked_3sigma_pbmask0p18.max_CROPPED.fits\n",
      "source_ab_101_spw27_clean_2sigma_n50000_masked_3sigma_pbmask0p18.image\n"
     ]
    },
    {
     "name": "stderr",
     "output_type": "stream",
     "text": [
      "/blue/adamginsburg/abulatek/anaconda/lib/python3.7/site-packages/casa_formats_io-0.1-py3.7-linux-x86_64.egg/casa_formats_io/casa_dask.py:232: RuntimeWarning: divide by zero encountered in long_scalars\n",
      "  factors = [f for f in range(stacks[dim] + 1) if stacks[dim] % f == 0]\n"
     ]
    },
    {
     "name": "stdout",
     "output_type": "stream",
     "text": [
      "DaskVaryingResolutionSpectralCube with shape=(1920, 512, 512) and unit=Jy / beam and chunk size (80, 256, 512):\n",
      " n_x:    512  type_x: RA---SIN  unit_x: deg    range:   266.528130 deg:  266.560501 deg\n",
      " n_y:    512  type_y: DEC--SIN  unit_y: deg    range:   -28.719152 deg:  -28.690763 deg\n",
      " n_s:   1920  type_s: FREQ      unit_s: Hz     range: 99424718123.536 Hz:101298493946.319 Hz\n",
      "(1920, 512, 512)\n",
      "(512, 512)\n",
      "[                                        ] | 0% Completed |  0.2s"
     ]
    },
    {
     "name": "stderr",
     "output_type": "stream",
     "text": [
      "WARNING: StokesWarning: Cube is a Stokes cube, returning spectral cube for I component [spectral_cube.io.core]\n"
     ]
    },
    {
     "name": "stdout",
     "output_type": "stream",
     "text": [
      "[########################################] | 100% Completed | 13.3s\n",
      "[########################################] | 100% Completed | 13.3s\n",
      "[########################################] | 100% Completed | 11.6s\n",
      "[########################################] | 100% Completed | 11.7s\n",
      "31.421464920043945\n",
      "source_ab_95_spw25_dirty.image spectra/source_ab_95_spw25_dirty.max_CROPPED.fits\n",
      "source_ab_95_spw25_dirty.image\n"
     ]
    },
    {
     "name": "stderr",
     "output_type": "stream",
     "text": [
      "/blue/adamginsburg/abulatek/anaconda/lib/python3.7/site-packages/casa_formats_io-0.1-py3.7-linux-x86_64.egg/casa_formats_io/casa_dask.py:232: RuntimeWarning: divide by zero encountered in long_scalars\n",
      "  factors = [f for f in range(stacks[dim] + 1) if stacks[dim] % f == 0]\n"
     ]
    },
    {
     "name": "stdout",
     "output_type": "stream",
     "text": [
      "DaskVaryingResolutionSpectralCube with shape=(1920, 512, 512) and unit=Jy / beam and chunk size (80, 256, 512):\n",
      " n_x:    512  type_x: RA---SIN  unit_x: deg    range:   266.528130 deg:  266.560501 deg\n",
      " n_y:    512  type_y: DEC--SIN  unit_y: deg    range:   -28.719152 deg:  -28.690763 deg\n",
      " n_s:   1920  type_s: FREQ      unit_s: Hz     range: 93550498100.192 Hz:95424274382.872 Hz\n",
      "(1920, 512, 512)\n",
      "(512, 512)\n",
      "[                                        ] | 0% Completed |  0.1s"
     ]
    },
    {
     "name": "stderr",
     "output_type": "stream",
     "text": [
      "WARNING: StokesWarning: Cube is a Stokes cube, returning spectral cube for I component [spectral_cube.io.core]\n"
     ]
    },
    {
     "name": "stdout",
     "output_type": "stream",
     "text": [
      "[########################################] | 100% Completed | 13.8s\n",
      "[########################################] | 100% Completed | 13.9s\n",
      "[########################################] | 100% Completed | 11.5s\n",
      "[########################################] | 100% Completed | 11.6s\n",
      "31.59572958946228\n",
      "source_ab_132_spw107_clean_2sigma_n50000_masked_3sigma_pbmask0p18.image spectra/source_ab_132_spw107_clean_2sigma_n50000_masked_3sigma_pbmask0p18.max_CROPPED.fits\n",
      "source_ab_132_spw107_clean_2sigma_n50000_masked_3sigma_pbmask0p18.image\n"
     ]
    },
    {
     "name": "stderr",
     "output_type": "stream",
     "text": [
      "/blue/adamginsburg/abulatek/anaconda/lib/python3.7/site-packages/casa_formats_io-0.1-py3.7-linux-x86_64.egg/casa_formats_io/casa_dask.py:232: RuntimeWarning: divide by zero encountered in long_scalars\n",
      "  factors = [f for f in range(stacks[dim] + 1) if stacks[dim] % f == 0]\n"
     ]
    },
    {
     "name": "stdout",
     "output_type": "stream",
     "text": [
      "DaskVaryingResolutionSpectralCube with shape=(3840, 512, 512) and unit=Jy / beam and chunk size (128, 256, 512):\n",
      " n_x:    512  type_x: RA---SIN  unit_x: deg    range:   266.528130 deg:  266.560501 deg\n",
      " n_y:    512  type_y: DEC--SIN  unit_y: deg    range:   -28.719152 deg:  -28.690763 deg\n",
      " n_s:   3840  type_s: FREQ      unit_s: Hz     range: 130175896447.388 Hz:132050462560.367 Hz\n",
      "(3840, 512, 512)\n",
      "(512, 512)\n",
      "[                                        ] | 0% Completed |  0.1s"
     ]
    },
    {
     "name": "stderr",
     "output_type": "stream",
     "text": [
      "WARNING: StokesWarning: Cube is a Stokes cube, returning spectral cube for I component [spectral_cube.io.core]\n"
     ]
    },
    {
     "name": "stdout",
     "output_type": "stream",
     "text": [
      "[########################################] | 100% Completed | 25.1s\n",
      "[########################################] | 100% Completed | 25.2s\n",
      "[########################################] | 100% Completed | 26.9s\n",
      "[########################################] | 100% Completed | 27.0s\n",
      "64.01760911941528\n",
      "source_ab_249_spw107_clean_2sigma_n50000_masked_3sigma_pbmask0p18.image spectra/source_ab_249_spw107_clean_2sigma_n50000_masked_3sigma_pbmask0p18.max_CROPPED.fits\n",
      "source_ab_249_spw107_clean_2sigma_n50000_masked_3sigma_pbmask0p18.image\n"
     ]
    },
    {
     "name": "stderr",
     "output_type": "stream",
     "text": [
      "/blue/adamginsburg/abulatek/anaconda/lib/python3.7/site-packages/casa_formats_io-0.1-py3.7-linux-x86_64.egg/casa_formats_io/casa_dask.py:232: RuntimeWarning: divide by zero encountered in long_scalars\n",
      "  factors = [f for f in range(stacks[dim] + 1) if stacks[dim] % f == 0]\n"
     ]
    },
    {
     "name": "stdout",
     "output_type": "stream",
     "text": [
      "DaskVaryingResolutionSpectralCube with shape=(3840, 512, 512) and unit=Jy / beam and chunk size (128, 256, 512):\n",
      " n_x:    512  type_x: RA---SIN  unit_x: deg    range:   266.528130 deg:  266.560501 deg\n",
      " n_y:    512  type_y: DEC--SIN  unit_y: deg    range:   -28.719152 deg:  -28.690763 deg\n",
      " n_s:   3840  type_s: FREQ      unit_s: Hz     range: 246792516372.824 Hz:248666997878.897 Hz\n",
      "(3840, 512, 512)\n",
      "(512, 512)\n",
      "[                                        ] | 0% Completed |  0.1s"
     ]
    },
    {
     "name": "stderr",
     "output_type": "stream",
     "text": [
      "WARNING: StokesWarning: Cube is a Stokes cube, returning spectral cube for I component [spectral_cube.io.core]\n"
     ]
    },
    {
     "name": "stdout",
     "output_type": "stream",
     "text": [
      "[########################################] | 100% Completed | 24.4s\n",
      "[########################################] | 100% Completed | 24.5s\n",
      "[########################################] | 100% Completed | 22.4s\n",
      "[########################################] | 100% Completed | 22.5s\n",
      "58.840635776519775\n",
      "source_ab_112_spw27_clean_2sigma_n50000_masked_3sigma_pbmask0p18.image spectra/source_ab_112_spw27_clean_2sigma_n50000_masked_3sigma_pbmask0p18.max_CROPPED.fits\n",
      "source_ab_112_spw27_clean_2sigma_n50000_masked_3sigma_pbmask0p18.image\n"
     ]
    },
    {
     "name": "stderr",
     "output_type": "stream",
     "text": [
      "/blue/adamginsburg/abulatek/anaconda/lib/python3.7/site-packages/casa_formats_io-0.1-py3.7-linux-x86_64.egg/casa_formats_io/casa_dask.py:232: RuntimeWarning: divide by zero encountered in long_scalars\n",
      "  factors = [f for f in range(stacks[dim] + 1) if stacks[dim] % f == 0]\n"
     ]
    },
    {
     "name": "stdout",
     "output_type": "stream",
     "text": [
      "DaskVaryingResolutionSpectralCube with shape=(1920, 512, 512) and unit=Jy / beam and chunk size (80, 256, 512):\n",
      " n_x:    512  type_x: RA---SIN  unit_x: deg    range:   266.528130 deg:  266.560501 deg\n",
      " n_y:    512  type_y: DEC--SIN  unit_y: deg    range:   -28.719152 deg:  -28.690763 deg\n",
      " n_s:   1920  type_s: FREQ      unit_s: Hz     range: 112222994100.672 Hz:114096770533.977 Hz\n",
      "(1920, 512, 512)\n",
      "(512, 512)\n",
      "[                                        ] | 0% Completed |  0.1s"
     ]
    },
    {
     "name": "stderr",
     "output_type": "stream",
     "text": [
      "WARNING: StokesWarning: Cube is a Stokes cube, returning spectral cube for I component [spectral_cube.io.core]\n"
     ]
    },
    {
     "name": "stdout",
     "output_type": "stream",
     "text": [
      "[########################################] | 100% Completed | 13.1s\n",
      "[########################################] | 100% Completed | 13.1s\n",
      "[########################################] | 100% Completed | 11.2s\n",
      "[########################################] | 100% Completed | 11.3s\n",
      "30.575003385543823\n",
      "source_ab_264_spw29_clean_2sigma_n50000_masked_3sigma_pbmask0p18.image spectra/source_ab_264_spw29_clean_2sigma_n50000_masked_3sigma_pbmask0p18.max_CROPPED.fits\n",
      "source_ab_264_spw29_clean_2sigma_n50000_masked_3sigma_pbmask0p18.image\n"
     ]
    },
    {
     "name": "stderr",
     "output_type": "stream",
     "text": [
      "/blue/adamginsburg/abulatek/anaconda/lib/python3.7/site-packages/casa_formats_io-0.1-py3.7-linux-x86_64.egg/casa_formats_io/casa_dask.py:232: RuntimeWarning: divide by zero encountered in long_scalars\n",
      "  factors = [f for f in range(stacks[dim] + 1) if stacks[dim] % f == 0]\n"
     ]
    },
    {
     "name": "stdout",
     "output_type": "stream",
     "text": [
      "DaskVaryingResolutionSpectralCube with shape=(3840, 512, 512) and unit=Jy / beam and chunk size (128, 256, 512):\n",
      " n_x:    512  type_x: RA---SIN  unit_x: deg    range:   266.528130 deg:  266.560501 deg\n",
      " n_y:    512  type_y: DEC--SIN  unit_y: deg    range:   -28.719152 deg:  -28.690763 deg\n",
      " n_s:   3840  type_s: FREQ      unit_s: Hz     range: 264495361841.814 Hz:266369843389.126 Hz\n",
      "(3840, 512, 512)\n",
      "(512, 512)\n",
      "[                                        ] | 0% Completed |  0.1s"
     ]
    },
    {
     "name": "stderr",
     "output_type": "stream",
     "text": [
      "WARNING: StokesWarning: Cube is a Stokes cube, returning spectral cube for I component [spectral_cube.io.core]\n"
     ]
    },
    {
     "name": "stdout",
     "output_type": "stream",
     "text": [
      "[########################################] | 100% Completed | 25.5s\n",
      "[########################################] | 100% Completed | 25.6s\n",
      "[########################################] | 100% Completed | 27.1s\n",
      "[########################################] | 100% Completed | 27.2s\n",
      "64.80124092102051\n",
      "source_ab_244_spw65_dirty.image spectra/source_ab_244_spw65_dirty.max_CROPPED.fits\n",
      "source_ab_244_spw65_dirty.image\n"
     ]
    },
    {
     "name": "stderr",
     "output_type": "stream",
     "text": [
      "/blue/adamginsburg/abulatek/anaconda/lib/python3.7/site-packages/casa_formats_io-0.1-py3.7-linux-x86_64.egg/casa_formats_io/casa_dask.py:232: RuntimeWarning: divide by zero encountered in long_scalars\n",
      "  factors = [f for f in range(stacks[dim] + 1) if stacks[dim] % f == 0]\n"
     ]
    },
    {
     "name": "stdout",
     "output_type": "stream",
     "text": [
      "DaskVaryingResolutionSpectralCube with shape=(3840, 512, 512) and unit=Jy / beam and chunk size (128, 256, 512):\n",
      " n_x:    512  type_x: RA---SIN  unit_x: deg    range:   266.528130 deg:  266.560501 deg\n",
      " n_y:    512  type_y: DEC--SIN  unit_y: deg    range:   -28.719152 deg:  -28.690763 deg\n",
      " n_s:   3840  type_s: FREQ      unit_s: Hz     range: 241683218406.631 Hz:243557699871.464 Hz\n",
      "(3840, 512, 512)\n",
      "(512, 512)\n",
      "[                                        ] | 0% Completed |  0.1s"
     ]
    },
    {
     "name": "stderr",
     "output_type": "stream",
     "text": [
      "WARNING: StokesWarning: Cube is a Stokes cube, returning spectral cube for I component [spectral_cube.io.core]\n"
     ]
    },
    {
     "name": "stdout",
     "output_type": "stream",
     "text": [
      "[########################################] | 100% Completed | 24.8s\n",
      "[########################################] | 100% Completed | 24.9s\n",
      "[########################################] | 100% Completed | 24.8s\n",
      "[########################################] | 100% Completed | 24.9s\n",
      "62.92895317077637\n",
      "source_ab_111_spw31_clean_2sigma_n50000_masked_3sigma_pbmask0p18.image spectra/source_ab_111_spw31_clean_2sigma_n50000_masked_3sigma_pbmask0p18.max_CROPPED.fits\n",
      "source_ab_111_spw31_clean_2sigma_n50000_masked_3sigma_pbmask0p18.image\n"
     ]
    },
    {
     "name": "stderr",
     "output_type": "stream",
     "text": [
      "/blue/adamginsburg/abulatek/anaconda/lib/python3.7/site-packages/casa_formats_io-0.1-py3.7-linux-x86_64.egg/casa_formats_io/casa_dask.py:232: RuntimeWarning: divide by zero encountered in long_scalars\n",
      "  factors = [f for f in range(stacks[dim] + 1) if stacks[dim] % f == 0]\n"
     ]
    },
    {
     "name": "stdout",
     "output_type": "stream",
     "text": [
      "DaskVaryingResolutionSpectralCube with shape=(1920, 512, 512) and unit=Jy / beam and chunk size (80, 256, 512):\n",
      " n_x:    512  type_x: RA---SIN  unit_x: deg    range:   266.528130 deg:  266.560501 deg\n",
      " n_y:    512  type_y: DEC--SIN  unit_y: deg    range:   -28.719152 deg:  -28.690763 deg\n",
      " n_s:   1920  type_s: FREQ      unit_s: Hz     range: 111423123916.841 Hz:113296899739.624 Hz\n",
      "(1920, 512, 512)\n",
      "(512, 512)\n",
      "[                                        ] | 0% Completed |  0.1s"
     ]
    },
    {
     "name": "stderr",
     "output_type": "stream",
     "text": [
      "WARNING: StokesWarning: Cube is a Stokes cube, returning spectral cube for I component [spectral_cube.io.core]\n"
     ]
    },
    {
     "name": "stdout",
     "output_type": "stream",
     "text": [
      "[########################################] | 100% Completed | 12.4s\n",
      "[########################################] | 100% Completed | 12.4s\n",
      "[########################################] | 100% Completed | 11.2s\n",
      "[########################################] | 100% Completed | 11.3s\n",
      "29.827760934829712\n",
      "source_ab_255_spw87_dirty.image spectra/source_ab_255_spw87_dirty.max_CROPPED.fits\n",
      "source_ab_255_spw87_dirty.image\n"
     ]
    },
    {
     "name": "stderr",
     "output_type": "stream",
     "text": [
      "/blue/adamginsburg/abulatek/anaconda/lib/python3.7/site-packages/casa_formats_io-0.1-py3.7-linux-x86_64.egg/casa_formats_io/casa_dask.py:232: RuntimeWarning: divide by zero encountered in long_scalars\n",
      "  factors = [f for f in range(stacks[dim] + 1) if stacks[dim] % f == 0]\n"
     ]
    },
    {
     "name": "stdout",
     "output_type": "stream",
     "text": [
      "DaskVaryingResolutionSpectralCube with shape=(3840, 512, 512) and unit=Jy / beam and chunk size (128, 256, 512):\n",
      " n_x:    512  type_x: RA---SIN  unit_x: deg    range:   266.528130 deg:  266.560501 deg\n",
      " n_y:    512  type_y: DEC--SIN  unit_y: deg    range:   -28.719152 deg:  -28.690763 deg\n",
      " n_s:   3840  type_s: FREQ      unit_s: Hz     range: 253604917658.067 Hz:255479399246.150 Hz\n",
      "(3840, 512, 512)\n",
      "(512, 512)\n",
      "[                                        ] | 0% Completed |  0.1s"
     ]
    },
    {
     "name": "stderr",
     "output_type": "stream",
     "text": [
      "WARNING: StokesWarning: Cube is a Stokes cube, returning spectral cube for I component [spectral_cube.io.core]\n"
     ]
    },
    {
     "name": "stdout",
     "output_type": "stream",
     "text": [
      "[########################################] | 100% Completed | 26.1s\n",
      "[########################################] | 100% Completed | 26.2s\n",
      "[########################################] | 100% Completed | 24.5s\n",
      "[########################################] | 100% Completed | 24.6s\n",
      "63.29374170303345\n",
      "source_ab_87_spw102_clean_2sigma_n50000_masked_3sigma_pbmask0p18.image spectra/source_ab_87_spw102_clean_2sigma_n50000_masked_3sigma_pbmask0p18.max_CROPPED.fits\n",
      "source_ab_87_spw102_clean_2sigma_n50000_masked_3sigma_pbmask0p18.image\n"
     ]
    },
    {
     "name": "stderr",
     "output_type": "stream",
     "text": [
      "/blue/adamginsburg/abulatek/anaconda/lib/python3.7/site-packages/casa_formats_io-0.1-py3.7-linux-x86_64.egg/casa_formats_io/casa_dask.py:232: RuntimeWarning: divide by zero encountered in long_scalars\n",
      "  factors = [f for f in range(stacks[dim] + 1) if stacks[dim] % f == 0]\n"
     ]
    },
    {
     "name": "stdout",
     "output_type": "stream",
     "text": [
      "DaskVaryingResolutionSpectralCube with shape=(1920, 512, 512) and unit=Jy / beam and chunk size (80, 256, 512):\n",
      " n_x:    512  type_x: RA---SIN  unit_x: deg    range:   266.528130 deg:  266.560501 deg\n",
      " n_y:    512  type_y: DEC--SIN  unit_y: deg    range:   -28.719152 deg:  -28.690763 deg\n",
      " n_s:   1920  type_s: FREQ      unit_s: Hz     range: 85551577967.789 Hz:87425349542.806 Hz\n",
      "(1920, 512, 512)\n",
      "(512, 512)\n",
      "[                                        ] | 0% Completed |  0.1s"
     ]
    },
    {
     "name": "stderr",
     "output_type": "stream",
     "text": [
      "WARNING: StokesWarning: Cube is a Stokes cube, returning spectral cube for I component [spectral_cube.io.core]\n"
     ]
    },
    {
     "name": "stdout",
     "output_type": "stream",
     "text": [
      "[########################################] | 100% Completed | 13.2s\n",
      "[########################################] | 100% Completed | 13.3s\n",
      "[########################################] | 100% Completed | 11.2s\n",
      "[########################################] | 100% Completed | 11.3s\n",
      "30.655227661132812\n",
      "source_ab_263_spw111_dirty.image spectra/source_ab_263_spw111_dirty.max_CROPPED.fits\n",
      "source_ab_263_spw111_dirty.image\n"
     ]
    },
    {
     "name": "stderr",
     "output_type": "stream",
     "text": [
      "/blue/adamginsburg/abulatek/anaconda/lib/python3.7/site-packages/casa_formats_io-0.1-py3.7-linux-x86_64.egg/casa_formats_io/casa_dask.py:232: RuntimeWarning: divide by zero encountered in long_scalars\n",
      "  factors = [f for f in range(stacks[dim] + 1) if stacks[dim] % f == 0]\n"
     ]
    },
    {
     "name": "stdout",
     "output_type": "stream",
     "text": [
      "DaskVaryingResolutionSpectralCube with shape=(3840, 512, 512) and unit=Jy / beam and chunk size (128, 256, 512):\n",
      " n_x:    512  type_x: RA---SIN  unit_x: deg    range:   266.528130 deg:  266.560501 deg\n",
      " n_y:    512  type_y: DEC--SIN  unit_y: deg    range:   -28.719152 deg:  -28.690763 deg\n",
      " n_s:   3840  type_s: FREQ      unit_s: Hz     range: 262792258491.345 Hz:264666739997.418 Hz\n",
      "(3840, 512, 512)\n",
      "(512, 512)\n",
      "[                                        ] | 0% Completed |  0.1s"
     ]
    },
    {
     "name": "stderr",
     "output_type": "stream",
     "text": [
      "WARNING: StokesWarning: Cube is a Stokes cube, returning spectral cube for I component [spectral_cube.io.core]\n"
     ]
    },
    {
     "name": "stdout",
     "output_type": "stream",
     "text": [
      "[########################################] | 100% Completed | 24.8s\n",
      "[########################################] | 100% Completed | 24.8s\n",
      "[########################################] | 100% Completed | 23.1s\n",
      "[########################################] | 100% Completed | 23.2s\n",
      "59.82901096343994\n",
      "source_ab_261_spw109_clean_2sigma_n50000_masked_3sigma_pbmask0p18.image spectra/source_ab_261_spw109_clean_2sigma_n50000_masked_3sigma_pbmask0p18.max_CROPPED.fits\n",
      "source_ab_261_spw109_clean_2sigma_n50000_masked_3sigma_pbmask0p18.image\n"
     ]
    },
    {
     "name": "stderr",
     "output_type": "stream",
     "text": [
      "/blue/adamginsburg/abulatek/anaconda/lib/python3.7/site-packages/casa_formats_io-0.1-py3.7-linux-x86_64.egg/casa_formats_io/casa_dask.py:232: RuntimeWarning: divide by zero encountered in long_scalars\n",
      "  factors = [f for f in range(stacks[dim] + 1) if stacks[dim] % f == 0]\n"
     ]
    },
    {
     "name": "stdout",
     "output_type": "stream",
     "text": [
      "DaskVaryingResolutionSpectralCube with shape=(3840, 512, 512) and unit=Jy / beam and chunk size (128, 256, 512):\n",
      " n_x:    512  type_x: RA---SIN  unit_x: deg    range:   266.528130 deg:  266.560501 deg\n",
      " n_y:    512  type_y: DEC--SIN  unit_y: deg    range:   -28.719152 deg:  -28.690763 deg\n",
      " n_s:   3840  type_s: FREQ      unit_s: Hz     range: 261089160941.636 Hz:262963642447.709 Hz\n",
      "(3840, 512, 512)\n",
      "(512, 512)\n",
      "[                                        ] | 0% Completed |  0.1s"
     ]
    },
    {
     "name": "stderr",
     "output_type": "stream",
     "text": [
      "WARNING: StokesWarning: Cube is a Stokes cube, returning spectral cube for I component [spectral_cube.io.core]\n"
     ]
    },
    {
     "name": "stdout",
     "output_type": "stream",
     "text": [
      "[########################################] | 100% Completed | 24.4s\n",
      "[########################################] | 100% Completed | 24.5s\n",
      "[########################################] | 100% Completed | 22.4s\n",
      "[########################################] | 100% Completed | 22.5s\n",
      "58.9217734336853\n",
      "source_ab_102_spw23_clean_2sigma_n50000_masked_3sigma_pbmask0p18.image spectra/source_ab_102_spw23_clean_2sigma_n50000_masked_3sigma_pbmask0p18.max_CROPPED.fits\n",
      "source_ab_102_spw23_clean_2sigma_n50000_masked_3sigma_pbmask0p18.image\n"
     ]
    },
    {
     "name": "stderr",
     "output_type": "stream",
     "text": [
      "/blue/adamginsburg/abulatek/anaconda/lib/python3.7/site-packages/casa_formats_io-0.1-py3.7-linux-x86_64.egg/casa_formats_io/casa_dask.py:232: RuntimeWarning: divide by zero encountered in long_scalars\n",
      "  factors = [f for f in range(stacks[dim] + 1) if stacks[dim] % f == 0]\n"
     ]
    },
    {
     "name": "stdout",
     "output_type": "stream",
     "text": [
      "DaskVaryingResolutionSpectralCube with shape=(1920, 512, 512) and unit=Jy / beam and chunk size (80, 256, 512):\n",
      " n_x:    512  type_x: RA---SIN  unit_x: deg    range:   266.528130 deg:  266.560501 deg\n",
      " n_y:    512  type_y: DEC--SIN  unit_y: deg    range:   -28.719152 deg:  -28.690763 deg\n",
      " n_s:   1920  type_s: FREQ      unit_s: Hz     range: 100208117920.653 Hz:102081894353.958 Hz\n",
      "(1920, 512, 512)\n",
      "(512, 512)\n",
      "[                                        ] | 0% Completed |  0.1s"
     ]
    },
    {
     "name": "stderr",
     "output_type": "stream",
     "text": [
      "WARNING: StokesWarning: Cube is a Stokes cube, returning spectral cube for I component [spectral_cube.io.core]\n"
     ]
    },
    {
     "name": "stdout",
     "output_type": "stream",
     "text": [
      "[########################################] | 100% Completed | 12.3s\n",
      "[########################################] | 100% Completed | 12.3s\n",
      "[########################################] | 100% Completed | 11.3s\n",
      "[########################################] | 100% Completed | 11.4s\n",
      "29.821785926818848\n",
      "source_ab_112_spw27_dirty.image spectra/source_ab_112_spw27_dirty.max_CROPPED.fits\n",
      "source_ab_112_spw27_dirty.image\n"
     ]
    },
    {
     "name": "stderr",
     "output_type": "stream",
     "text": [
      "/blue/adamginsburg/abulatek/anaconda/lib/python3.7/site-packages/casa_formats_io-0.1-py3.7-linux-x86_64.egg/casa_formats_io/casa_dask.py:232: RuntimeWarning: divide by zero encountered in long_scalars\n",
      "  factors = [f for f in range(stacks[dim] + 1) if stacks[dim] % f == 0]\n"
     ]
    },
    {
     "name": "stdout",
     "output_type": "stream",
     "text": [
      "DaskVaryingResolutionSpectralCube with shape=(1920, 512, 512) and unit=Jy / beam and chunk size (80, 256, 512):\n",
      " n_x:    512  type_x: RA---SIN  unit_x: deg    range:   266.528130 deg:  266.560501 deg\n",
      " n_y:    512  type_y: DEC--SIN  unit_y: deg    range:   -28.719152 deg:  -28.690763 deg\n",
      " n_s:   1920  type_s: FREQ      unit_s: Hz     range: 112222994100.672 Hz:114096770533.977 Hz\n",
      "(1920, 512, 512)\n",
      "(512, 512)\n",
      "[                                        ] | 0% Completed |  0.1s"
     ]
    },
    {
     "name": "stderr",
     "output_type": "stream",
     "text": [
      "WARNING: StokesWarning: Cube is a Stokes cube, returning spectral cube for I component [spectral_cube.io.core]\n"
     ]
    },
    {
     "name": "stdout",
     "output_type": "stream",
     "text": [
      "[########################################] | 100% Completed | 14.0s\n",
      "[########################################] | 100% Completed | 14.1s\n",
      "[########################################] | 100% Completed | 11.3s\n",
      "[########################################] | 100% Completed | 11.4s\n",
      "31.59425687789917\n",
      "source_ab_98_spw106_dirty.image spectra/source_ab_98_spw106_dirty.max_CROPPED.fits\n",
      "source_ab_98_spw106_dirty.image\n"
     ]
    },
    {
     "name": "stderr",
     "output_type": "stream",
     "text": [
      "/blue/adamginsburg/abulatek/anaconda/lib/python3.7/site-packages/casa_formats_io-0.1-py3.7-linux-x86_64.egg/casa_formats_io/casa_dask.py:232: RuntimeWarning: divide by zero encountered in long_scalars\n",
      "  factors = [f for f in range(stacks[dim] + 1) if stacks[dim] % f == 0]\n"
     ]
    },
    {
     "name": "stdout",
     "output_type": "stream",
     "text": [
      "DaskVaryingResolutionSpectralCube with shape=(1920, 512, 512) and unit=Jy / beam and chunk size (80, 256, 512):\n",
      " n_x:    512  type_x: RA---SIN  unit_x: deg    range:   266.528130 deg:  266.560501 deg\n",
      " n_y:    512  type_y: DEC--SIN  unit_y: deg    range:   -28.719152 deg:  -28.690763 deg\n",
      " n_s:   1920  type_s: FREQ      unit_s: Hz     range: 97549972351.399 Hz:99423743926.415 Hz\n",
      "(1920, 512, 512)\n",
      "(512, 512)\n",
      "[                                        ] | 0% Completed |  0.1s"
     ]
    },
    {
     "name": "stderr",
     "output_type": "stream",
     "text": [
      "WARNING: StokesWarning: Cube is a Stokes cube, returning spectral cube for I component [spectral_cube.io.core]\n"
     ]
    },
    {
     "name": "stdout",
     "output_type": "stream",
     "text": [
      "[########################################] | 100% Completed | 13.7s\n",
      "[########################################] | 100% Completed | 13.8s\n",
      "[########################################] | 100% Completed | 11.5s\n",
      "[########################################] | 100% Completed | 11.5s\n",
      "31.975003957748413\n",
      "source_ab_130_spw105_clean_2sigma_n50000_masked_3sigma_pbmask0p18.image spectra/source_ab_130_spw105_clean_2sigma_n50000_masked_3sigma_pbmask0p18.max_CROPPED.fits\n",
      "source_ab_130_spw105_clean_2sigma_n50000_masked_3sigma_pbmask0p18.image\n"
     ]
    },
    {
     "name": "stderr",
     "output_type": "stream",
     "text": [
      "/blue/adamginsburg/abulatek/anaconda/lib/python3.7/site-packages/casa_formats_io-0.1-py3.7-linux-x86_64.egg/casa_formats_io/casa_dask.py:232: RuntimeWarning: divide by zero encountered in long_scalars\n",
      "  factors = [f for f in range(stacks[dim] + 1) if stacks[dim] % f == 0]\n"
     ]
    },
    {
     "name": "stdout",
     "output_type": "stream",
     "text": [
      "DaskVaryingResolutionSpectralCube with shape=(3840, 512, 512) and unit=Jy / beam and chunk size (128, 256, 512):\n",
      " n_x:    512  type_x: RA---SIN  unit_x: deg    range:   266.528130 deg:  266.560501 deg\n",
      " n_y:    512  type_y: DEC--SIN  unit_y: deg    range:   -28.719152 deg:  -28.690763 deg\n",
      " n_s:   3840  type_s: FREQ      unit_s: Hz     range: 128472722026.468 Hz:130347288139.448 Hz\n",
      "(3840, 512, 512)\n",
      "(512, 512)\n",
      "[                                        ] | 0% Completed |  0.2s"
     ]
    },
    {
     "name": "stderr",
     "output_type": "stream",
     "text": [
      "WARNING: StokesWarning: Cube is a Stokes cube, returning spectral cube for I component [spectral_cube.io.core]\n"
     ]
    },
    {
     "name": "stdout",
     "output_type": "stream",
     "text": [
      "[########################################] | 100% Completed | 25.2s\n",
      "[########################################] | 100% Completed | 25.3s\n",
      "[########################################] | 100% Completed | 24.6s\n",
      "[########################################] | 100% Completed | 24.7s\n",
      "61.78405737876892\n",
      "source_ab_87_spw25_dirty.image spectra/source_ab_87_spw25_dirty.max_CROPPED.fits\n",
      "source_ab_87_spw25_dirty.image\n"
     ]
    },
    {
     "name": "stderr",
     "output_type": "stream",
     "text": [
      "/blue/adamginsburg/abulatek/anaconda/lib/python3.7/site-packages/casa_formats_io-0.1-py3.7-linux-x86_64.egg/casa_formats_io/casa_dask.py:232: RuntimeWarning: divide by zero encountered in long_scalars\n",
      "  factors = [f for f in range(stacks[dim] + 1) if stacks[dim] % f == 0]\n"
     ]
    },
    {
     "name": "stdout",
     "output_type": "stream",
     "text": [
      "DaskVaryingResolutionSpectralCube with shape=(1920, 512, 512) and unit=Jy / beam and chunk size (80, 256, 512):\n",
      " n_x:    512  type_x: RA---SIN  unit_x: deg    range:   266.528130 deg:  266.560501 deg\n",
      " n_y:    512  type_y: DEC--SIN  unit_y: deg    range:   -28.719152 deg:  -28.690763 deg\n",
      " n_s:   1920  type_s: FREQ      unit_s: Hz     range: 85551577733.007 Hz:87425348847.599 Hz\n",
      "(1920, 512, 512)\n",
      "(512, 512)\n",
      "[                                        ] | 0% Completed |  0.1s"
     ]
    },
    {
     "name": "stderr",
     "output_type": "stream",
     "text": [
      "WARNING: StokesWarning: Cube is a Stokes cube, returning spectral cube for I component [spectral_cube.io.core]\n"
     ]
    },
    {
     "name": "stdout",
     "output_type": "stream",
     "text": [
      "[########################################] | 100% Completed | 12.7s\n",
      "[########################################] | 100% Completed | 12.7s\n",
      "[########################################] | 100% Completed | 11.3s\n",
      "[########################################] | 100% Completed | 11.4s\n",
      "30.33227038383484\n",
      "source_ab_266_spw31_dirty.image spectra/source_ab_266_spw31_dirty.max_CROPPED.fits\n",
      "source_ab_266_spw31_dirty.image\n"
     ]
    },
    {
     "name": "stderr",
     "output_type": "stream",
     "text": [
      "/blue/adamginsburg/abulatek/anaconda/lib/python3.7/site-packages/casa_formats_io-0.1-py3.7-linux-x86_64.egg/casa_formats_io/casa_dask.py:232: RuntimeWarning: divide by zero encountered in long_scalars\n",
      "  factors = [f for f in range(stacks[dim] + 1) if stacks[dim] % f == 0]\n"
     ]
    },
    {
     "name": "stdout",
     "output_type": "stream",
     "text": [
      "DaskVaryingResolutionSpectralCube with shape=(3840, 512, 512) and unit=Jy / beam and chunk size (128, 256, 512):\n",
      " n_x:    512  type_x: RA---SIN  unit_x: deg    range:   266.528130 deg:  266.560501 deg\n",
      " n_y:    512  type_y: DEC--SIN  unit_y: deg    range:   -28.719152 deg:  -28.690763 deg\n",
      " n_s:   3840  type_s: FREQ      unit_s: Hz     range: 266198459428.874 Hz:268072940976.186 Hz\n",
      "(3840, 512, 512)\n",
      "(512, 512)\n",
      "[                                        ] | 0% Completed |  0.2s"
     ]
    },
    {
     "name": "stderr",
     "output_type": "stream",
     "text": [
      "WARNING: StokesWarning: Cube is a Stokes cube, returning spectral cube for I component [spectral_cube.io.core]\n"
     ]
    },
    {
     "name": "stdout",
     "output_type": "stream",
     "text": [
      "[########################################] | 100% Completed | 25.1s\n",
      "[########################################] | 100% Completed | 25.2s\n",
      "[########################################] | 100% Completed | 25.0s\n",
      "[########################################] | 100% Completed | 25.1s\n",
      "62.20708703994751\n",
      "source_ab_144_spw49_dirty.image spectra/source_ab_144_spw49_dirty.max_CROPPED.fits\n",
      "source_ab_144_spw49_dirty.image\n"
     ]
    },
    {
     "name": "stderr",
     "output_type": "stream",
     "text": [
      "/blue/adamginsburg/abulatek/anaconda/lib/python3.7/site-packages/casa_formats_io-0.1-py3.7-linux-x86_64.egg/casa_formats_io/casa_dask.py:232: RuntimeWarning: divide by zero encountered in long_scalars\n",
      "  factors = [f for f in range(stacks[dim] + 1) if stacks[dim] % f == 0]\n"
     ]
    },
    {
     "name": "stdout",
     "output_type": "stream",
     "text": [
      "DaskVaryingResolutionSpectralCube with shape=(3840, 512, 512) and unit=Jy / beam and chunk size (128, 256, 512):\n",
      " n_x:    512  type_x: RA---SIN  unit_x: deg    range:   266.528130 deg:  266.560501 deg\n",
      " n_y:    512  type_y: DEC--SIN  unit_y: deg    range:   -28.719152 deg:  -28.690763 deg\n",
      " n_s:   3840  type_s: FREQ      unit_s: Hz     range: 143879425325.871 Hz:145753991520.040 Hz\n",
      "(3840, 512, 512)\n",
      "(512, 512)\n",
      "[                                        ] | 0% Completed |  0.1s"
     ]
    },
    {
     "name": "stderr",
     "output_type": "stream",
     "text": [
      "WARNING: StokesWarning: Cube is a Stokes cube, returning spectral cube for I component [spectral_cube.io.core]\n"
     ]
    },
    {
     "name": "stdout",
     "output_type": "stream",
     "text": [
      "[########################################] | 100% Completed | 24.5s\n",
      "[########################################] | 100% Completed | 24.6s\n",
      "[########################################] | 100% Completed | 22.4s\n",
      "[########################################] | 100% Completed | 22.5s\n",
      "58.942612409591675\n",
      "source_ab_259_spw71_clean_2sigma_n50000_masked_3sigma_pbmask0p18.image spectra/source_ab_259_spw71_clean_2sigma_n50000_masked_3sigma_pbmask0p18.max_CROPPED.fits\n",
      "source_ab_259_spw71_clean_2sigma_n50000_masked_3sigma_pbmask0p18.image\n"
     ]
    },
    {
     "name": "stderr",
     "output_type": "stream",
     "text": [
      "/blue/adamginsburg/abulatek/anaconda/lib/python3.7/site-packages/casa_formats_io-0.1-py3.7-linux-x86_64.egg/casa_formats_io/casa_dask.py:232: RuntimeWarning: divide by zero encountered in long_scalars\n",
      "  factors = [f for f in range(stacks[dim] + 1) if stacks[dim] % f == 0]\n"
     ]
    },
    {
     "name": "stdout",
     "output_type": "stream",
     "text": [
      "DaskVaryingResolutionSpectralCube with shape=(3840, 512, 512) and unit=Jy / beam and chunk size (128, 256, 512):\n",
      " n_x:    512  type_x: RA---SIN  unit_x: deg    range:   266.528130 deg:  266.560501 deg\n",
      " n_y:    512  type_y: DEC--SIN  unit_y: deg    range:   -28.719152 deg:  -28.690763 deg\n",
      " n_s:   3840  type_s: FREQ      unit_s: Hz     range: 259386057685.394 Hz:261260539150.228 Hz\n",
      "(3840, 512, 512)\n",
      "(512, 512)\n",
      "[                                        ] | 0% Completed |  0.1s"
     ]
    },
    {
     "name": "stderr",
     "output_type": "stream",
     "text": [
      "WARNING: StokesWarning: Cube is a Stokes cube, returning spectral cube for I component [spectral_cube.io.core]\n"
     ]
    },
    {
     "name": "stdout",
     "output_type": "stream",
     "text": [
      "[########################################] | 100% Completed | 24.4s\n",
      "[########################################] | 100% Completed | 24.5s\n",
      "[########################################] | 100% Completed | 22.3s\n",
      "[########################################] | 100% Completed | 22.4s\n",
      "58.64860796928406\n",
      "source_ab_252_spw27_clean_2sigma_n50000_masked_3sigma_pbmask0p18.image spectra/source_ab_252_spw27_clean_2sigma_n50000_masked_3sigma_pbmask0p18.max_CROPPED.fits\n",
      "source_ab_252_spw27_clean_2sigma_n50000_masked_3sigma_pbmask0p18.image\n"
     ]
    },
    {
     "name": "stderr",
     "output_type": "stream",
     "text": [
      "/blue/adamginsburg/abulatek/anaconda/lib/python3.7/site-packages/casa_formats_io-0.1-py3.7-linux-x86_64.egg/casa_formats_io/casa_dask.py:232: RuntimeWarning: divide by zero encountered in long_scalars\n",
      "  factors = [f for f in range(stacks[dim] + 1) if stacks[dim] % f == 0]\n"
     ]
    },
    {
     "name": "stdout",
     "output_type": "stream",
     "text": [
      "DaskVaryingResolutionSpectralCube with shape=(3840, 512, 512) and unit=Jy / beam and chunk size (128, 256, 512):\n",
      " n_x:    512  type_x: RA---SIN  unit_x: deg    range:   266.528130 deg:  266.560501 deg\n",
      " n_y:    512  type_y: DEC--SIN  unit_y: deg    range:   -28.719152 deg:  -28.690763 deg\n",
      " n_s:   3840  type_s: FREQ      unit_s: Hz     range: 250198716959.327 Hz:252073198506.639 Hz\n",
      "(3840, 512, 512)\n",
      "(512, 512)\n",
      "[                                        ] | 0% Completed |  0.1s"
     ]
    },
    {
     "name": "stderr",
     "output_type": "stream",
     "text": [
      "WARNING: StokesWarning: Cube is a Stokes cube, returning spectral cube for I component [spectral_cube.io.core]\n"
     ]
    },
    {
     "name": "stdout",
     "output_type": "stream",
     "text": [
      "[########################################] | 100% Completed | 26.0s\n",
      "[########################################] | 100% Completed | 26.1s\n",
      "[########################################] | 100% Completed | 27.9s\n",
      "[########################################] | 100% Completed | 28.0s\n",
      "65.94474864006042\n",
      "source_ab_97_spw27_dirty.image spectra/source_ab_97_spw27_dirty.max_CROPPED.fits\n",
      "source_ab_97_spw27_dirty.image\n"
     ]
    },
    {
     "name": "stderr",
     "output_type": "stream",
     "text": [
      "/blue/adamginsburg/abulatek/anaconda/lib/python3.7/site-packages/casa_formats_io-0.1-py3.7-linux-x86_64.egg/casa_formats_io/casa_dask.py:232: RuntimeWarning: divide by zero encountered in long_scalars\n",
      "  factors = [f for f in range(stacks[dim] + 1) if stacks[dim] % f == 0]\n"
     ]
    },
    {
     "name": "stdout",
     "output_type": "stream",
     "text": [
      "DaskVaryingResolutionSpectralCube with shape=(1920, 512, 512) and unit=Jy / beam and chunk size (80, 256, 512):\n",
      " n_x:    512  type_x: RA---SIN  unit_x: deg    range:   266.528130 deg:  266.560501 deg\n",
      " n_y:    512  type_y: DEC--SIN  unit_y: deg    range:   -28.719152 deg:  -28.690763 deg\n",
      " n_s:   1920  type_s: FREQ      unit_s: Hz     range: 95425250816.553 Hz:97299027099.234 Hz\n",
      "(1920, 512, 512)\n",
      "(512, 512)\n",
      "[                                        ] | 0% Completed |  0.1s"
     ]
    },
    {
     "name": "stderr",
     "output_type": "stream",
     "text": [
      "WARNING: StokesWarning: Cube is a Stokes cube, returning spectral cube for I component [spectral_cube.io.core]\n"
     ]
    },
    {
     "name": "stdout",
     "output_type": "stream",
     "text": [
      "[########################################] | 100% Completed | 12.8s\n",
      "[########################################] | 100% Completed | 12.9s\n",
      "[########################################] | 100% Completed | 11.4s\n",
      "[########################################] | 100% Completed | 11.4s\n",
      "30.451639890670776\n",
      "source_ab_99_spw31_clean_2sigma_n50000_masked_3sigma_pbmask0p18.image spectra/source_ab_99_spw31_clean_2sigma_n50000_masked_3sigma_pbmask0p18.max_CROPPED.fits\n",
      "source_ab_99_spw31_clean_2sigma_n50000_masked_3sigma_pbmask0p18.image\n"
     ]
    },
    {
     "name": "stderr",
     "output_type": "stream",
     "text": [
      "/blue/adamginsburg/abulatek/anaconda/lib/python3.7/site-packages/casa_formats_io-0.1-py3.7-linux-x86_64.egg/casa_formats_io/casa_dask.py:232: RuntimeWarning: divide by zero encountered in long_scalars\n",
      "  factors = [f for f in range(stacks[dim] + 1) if stacks[dim] % f == 0]\n"
     ]
    },
    {
     "name": "stdout",
     "output_type": "stream",
     "text": [
      "DaskVaryingResolutionSpectralCube with shape=(1920, 512, 512) and unit=Jy / beam and chunk size (80, 256, 512):\n",
      " n_x:    512  type_x: RA---SIN  unit_x: deg    range:   266.528130 deg:  266.560501 deg\n",
      " n_y:    512  type_y: DEC--SIN  unit_y: deg    range:   -28.719152 deg:  -28.690763 deg\n",
      " n_s:   1920  type_s: FREQ      unit_s: Hz     range: 99424718381.121 Hz:101298489495.713 Hz\n",
      "(1920, 512, 512)\n",
      "(512, 512)\n",
      "[                                        ] | 0% Completed |  0.1s"
     ]
    },
    {
     "name": "stderr",
     "output_type": "stream",
     "text": [
      "WARNING: StokesWarning: Cube is a Stokes cube, returning spectral cube for I component [spectral_cube.io.core]\n"
     ]
    },
    {
     "name": "stdout",
     "output_type": "stream",
     "text": [
      "[########################################] | 100% Completed | 13.9s\n",
      "[########################################] | 100% Completed | 14.0s\n",
      "[########################################] | 100% Completed | 11.5s\n",
      "[########################################] | 100% Completed | 11.6s\n",
      "31.620522022247314\n",
      "source_ab_266_spw31_clean_2sigma_n50000_masked_3sigma_pbmask0p18.image spectra/source_ab_266_spw31_clean_2sigma_n50000_masked_3sigma_pbmask0p18.max_CROPPED.fits\n",
      "source_ab_266_spw31_clean_2sigma_n50000_masked_3sigma_pbmask0p18.image\n"
     ]
    },
    {
     "name": "stderr",
     "output_type": "stream",
     "text": [
      "/blue/adamginsburg/abulatek/anaconda/lib/python3.7/site-packages/casa_formats_io-0.1-py3.7-linux-x86_64.egg/casa_formats_io/casa_dask.py:232: RuntimeWarning: divide by zero encountered in long_scalars\n",
      "  factors = [f for f in range(stacks[dim] + 1) if stacks[dim] % f == 0]\n"
     ]
    },
    {
     "name": "stdout",
     "output_type": "stream",
     "text": [
      "DaskVaryingResolutionSpectralCube with shape=(3840, 512, 512) and unit=Jy / beam and chunk size (128, 256, 512):\n",
      " n_x:    512  type_x: RA---SIN  unit_x: deg    range:   266.528130 deg:  266.560501 deg\n",
      " n_y:    512  type_y: DEC--SIN  unit_y: deg    range:   -28.719152 deg:  -28.690763 deg\n",
      " n_s:   3840  type_s: FREQ      unit_s: Hz     range: 266198459428.874 Hz:268072940976.186 Hz\n",
      "(3840, 512, 512)\n",
      "(512, 512)\n",
      "[                                        ] | 0% Completed |  0.1s"
     ]
    },
    {
     "name": "stderr",
     "output_type": "stream",
     "text": [
      "WARNING: StokesWarning: Cube is a Stokes cube, returning spectral cube for I component [spectral_cube.io.core]\n"
     ]
    },
    {
     "name": "stdout",
     "output_type": "stream",
     "text": [
      "[########################################] | 100% Completed | 25.2s\n",
      "[########################################] | 100% Completed | 25.3s\n",
      "[########################################] | 100% Completed | 22.9s\n",
      "[########################################] | 100% Completed | 23.0s\n",
      "60.04816794395447\n",
      "source_ab_259_spw47_clean_2sigma_n50000_masked_3sigma_pbmask0p18.image spectra/source_ab_259_spw47_clean_2sigma_n50000_masked_3sigma_pbmask0p18.max_CROPPED.fits\n",
      "source_ab_259_spw47_clean_2sigma_n50000_masked_3sigma_pbmask0p18.image\n"
     ]
    },
    {
     "name": "stderr",
     "output_type": "stream",
     "text": [
      "/blue/adamginsburg/abulatek/anaconda/lib/python3.7/site-packages/casa_formats_io-0.1-py3.7-linux-x86_64.egg/casa_formats_io/casa_dask.py:232: RuntimeWarning: divide by zero encountered in long_scalars\n",
      "  factors = [f for f in range(stacks[dim] + 1) if stacks[dim] % f == 0]\n"
     ]
    },
    {
     "name": "stdout",
     "output_type": "stream",
     "text": [
      "DaskVaryingResolutionSpectralCube with shape=(3840, 512, 512) and unit=Jy / beam and chunk size (128, 256, 512):\n",
      " n_x:    512  type_x: RA---SIN  unit_x: deg    range:   266.528130 deg:  266.560501 deg\n",
      " n_y:    512  type_y: DEC--SIN  unit_y: deg    range:   -28.719152 deg:  -28.690763 deg\n",
      " n_s:   3840  type_s: FREQ      unit_s: Hz     range: 257011118466.582 Hz:258885600094.967 Hz\n",
      "(3840, 512, 512)\n",
      "(512, 512)\n",
      "[                                        ] | 0% Completed |  0.1s"
     ]
    },
    {
     "name": "stderr",
     "output_type": "stream",
     "text": [
      "WARNING: StokesWarning: Cube is a Stokes cube, returning spectral cube for I component [spectral_cube.io.core]\n"
     ]
    },
    {
     "name": "stdout",
     "output_type": "stream",
     "text": [
      "[########################################] | 100% Completed | 25.1s\n",
      "[########################################] | 100% Completed | 25.2s\n",
      "[########################################] | 100% Completed | 25.3s\n",
      "[########################################] | 100% Completed | 25.4s\n",
      "62.47788119316101\n",
      "source_ab_137_spw85_dirty.image spectra/source_ab_137_spw85_dirty.max_CROPPED.fits\n",
      "source_ab_137_spw85_dirty.image\n"
     ]
    },
    {
     "name": "stderr",
     "output_type": "stream",
     "text": [
      "/blue/adamginsburg/abulatek/anaconda/lib/python3.7/site-packages/casa_formats_io-0.1-py3.7-linux-x86_64.egg/casa_formats_io/casa_dask.py:232: RuntimeWarning: divide by zero encountered in long_scalars\n",
      "  factors = [f for f in range(stacks[dim] + 1) if stacks[dim] % f == 0]\n"
     ]
    },
    {
     "name": "stdout",
     "output_type": "stream",
     "text": [
      "DaskVaryingResolutionSpectralCube with shape=(3840, 512, 512) and unit=Jy / beam and chunk size (128, 256, 512):\n",
      " n_x:    512  type_x: RA---SIN  unit_x: deg    range:   266.528130 deg:  266.560501 deg\n",
      " n_y:    512  type_y: DEC--SIN  unit_y: deg    range:   -28.719152 deg:  -28.690763 deg\n",
      " n_s:   3840  type_s: FREQ      unit_s: Hz     range: 135285431368.900 Hz:137159997643.322 Hz\n",
      "(3840, 512, 512)\n",
      "(512, 512)\n",
      "[                                        ] | 0% Completed |  0.1s"
     ]
    },
    {
     "name": "stderr",
     "output_type": "stream",
     "text": [
      "WARNING: StokesWarning: Cube is a Stokes cube, returning spectral cube for I component [spectral_cube.io.core]\n"
     ]
    },
    {
     "name": "stdout",
     "output_type": "stream",
     "text": [
      "[########################################] | 100% Completed | 25.2s\n",
      "[########################################] | 100% Completed | 25.3s\n",
      "[########################################] | 100% Completed | 22.3s\n",
      "[########################################] | 100% Completed | 22.4s\n",
      "59.67683506011963\n",
      "source_ab_132_spw107_dirty.image spectra/source_ab_132_spw107_dirty.max_CROPPED.fits\n",
      "source_ab_132_spw107_dirty.image\n"
     ]
    },
    {
     "name": "stderr",
     "output_type": "stream",
     "text": [
      "/blue/adamginsburg/abulatek/anaconda/lib/python3.7/site-packages/casa_formats_io-0.1-py3.7-linux-x86_64.egg/casa_formats_io/casa_dask.py:232: RuntimeWarning: divide by zero encountered in long_scalars\n",
      "  factors = [f for f in range(stacks[dim] + 1) if stacks[dim] % f == 0]\n"
     ]
    },
    {
     "name": "stdout",
     "output_type": "stream",
     "text": [
      "DaskVaryingResolutionSpectralCube with shape=(3840, 512, 512) and unit=Jy / beam and chunk size (128, 256, 512):\n",
      " n_x:    512  type_x: RA---SIN  unit_x: deg    range:   266.528130 deg:  266.560501 deg\n",
      " n_y:    512  type_y: DEC--SIN  unit_y: deg    range:   -28.719152 deg:  -28.690763 deg\n",
      " n_s:   3840  type_s: FREQ      unit_s: Hz     range: 130175896447.388 Hz:132050462560.367 Hz\n",
      "(3840, 512, 512)\n",
      "(512, 512)\n",
      "[                                        ] | 0% Completed |  0.1s"
     ]
    },
    {
     "name": "stderr",
     "output_type": "stream",
     "text": [
      "WARNING: StokesWarning: Cube is a Stokes cube, returning spectral cube for I component [spectral_cube.io.core]\n"
     ]
    },
    {
     "name": "stdout",
     "output_type": "stream",
     "text": [
      "[########################################] | 100% Completed | 25.4s\n",
      "[########################################] | 100% Completed | 25.5s\n",
      "[########################################] | 100% Completed | 24.3s\n",
      "[########################################] | 100% Completed | 24.4s\n",
      "61.814502477645874\n",
      "source_ab_98_spw29_dirty.image spectra/source_ab_98_spw29_dirty.max_CROPPED.fits\n",
      "source_ab_98_spw29_dirty.image\n"
     ]
    },
    {
     "name": "stderr",
     "output_type": "stream",
     "text": [
      "/blue/adamginsburg/abulatek/anaconda/lib/python3.7/site-packages/casa_formats_io-0.1-py3.7-linux-x86_64.egg/casa_formats_io/casa_dask.py:232: RuntimeWarning: divide by zero encountered in long_scalars\n",
      "  factors = [f for f in range(stacks[dim] + 1) if stacks[dim] % f == 0]\n"
     ]
    },
    {
     "name": "stdout",
     "output_type": "stream",
     "text": [
      "DaskVaryingResolutionSpectralCube with shape=(1920, 512, 512) and unit=Jy / beam and chunk size (80, 256, 512):\n",
      " n_x:    512  type_x: RA---SIN  unit_x: deg    range:   266.528130 deg:  266.560501 deg\n",
      " n_y:    512  type_y: DEC--SIN  unit_y: deg    range:   -28.719152 deg:  -28.690763 deg\n",
      " n_s:   1920  type_s: FREQ      unit_s: Hz     range: 97549970835.499 Hz:99423741950.091 Hz\n",
      "(1920, 512, 512)\n",
      "(512, 512)\n",
      "[                                        ] | 0% Completed |  0.1s"
     ]
    },
    {
     "name": "stderr",
     "output_type": "stream",
     "text": [
      "WARNING: StokesWarning: Cube is a Stokes cube, returning spectral cube for I component [spectral_cube.io.core]\n"
     ]
    },
    {
     "name": "stdout",
     "output_type": "stream",
     "text": [
      "[########################################] | 100% Completed | 13.5s\n",
      "[########################################] | 100% Completed | 13.6s\n",
      "[########################################] | 100% Completed | 11.3s\n",
      "[########################################] | 100% Completed | 11.3s\n",
      "31.002735376358032\n",
      "source_ab_264_spw29_dirty.image spectra/source_ab_264_spw29_dirty.max_CROPPED.fits\n",
      "source_ab_264_spw29_dirty.image\n"
     ]
    },
    {
     "name": "stderr",
     "output_type": "stream",
     "text": [
      "/blue/adamginsburg/abulatek/anaconda/lib/python3.7/site-packages/casa_formats_io-0.1-py3.7-linux-x86_64.egg/casa_formats_io/casa_dask.py:232: RuntimeWarning: divide by zero encountered in long_scalars\n",
      "  factors = [f for f in range(stacks[dim] + 1) if stacks[dim] % f == 0]\n"
     ]
    },
    {
     "name": "stdout",
     "output_type": "stream",
     "text": [
      "DaskVaryingResolutionSpectralCube with shape=(3840, 512, 512) and unit=Jy / beam and chunk size (128, 256, 512):\n",
      " n_x:    512  type_x: RA---SIN  unit_x: deg    range:   266.528130 deg:  266.560501 deg\n",
      " n_y:    512  type_y: DEC--SIN  unit_y: deg    range:   -28.719152 deg:  -28.690763 deg\n",
      " n_s:   3840  type_s: FREQ      unit_s: Hz     range: 264495361841.814 Hz:266369843389.126 Hz\n",
      "(3840, 512, 512)\n",
      "(512, 512)\n",
      "[                                        ] | 0% Completed |  0.1s"
     ]
    },
    {
     "name": "stderr",
     "output_type": "stream",
     "text": [
      "WARNING: StokesWarning: Cube is a Stokes cube, returning spectral cube for I component [spectral_cube.io.core]\n"
     ]
    },
    {
     "name": "stdout",
     "output_type": "stream",
     "text": [
      "[########################################] | 100% Completed | 26.2s\n",
      "[########################################] | 100% Completed | 26.3s\n",
      "[########################################] | 100% Completed | 26.7s\n",
      "[########################################] | 100% Completed | 26.8s\n",
      "64.81522917747498\n",
      "source_ab_99_spw108_clean_2sigma_n50000_masked_3sigma_pbmask0p18.image spectra/source_ab_99_spw108_clean_2sigma_n50000_masked_3sigma_pbmask0p18.max_CROPPED.fits\n",
      "source_ab_99_spw108_clean_2sigma_n50000_masked_3sigma_pbmask0p18.image\n"
     ]
    },
    {
     "name": "stderr",
     "output_type": "stream",
     "text": [
      "/blue/adamginsburg/abulatek/anaconda/lib/python3.7/site-packages/casa_formats_io-0.1-py3.7-linux-x86_64.egg/casa_formats_io/casa_dask.py:232: RuntimeWarning: divide by zero encountered in long_scalars\n",
      "  factors = [f for f in range(stacks[dim] + 1) if stacks[dim] % f == 0]\n"
     ]
    },
    {
     "name": "stdout",
     "output_type": "stream",
     "text": [
      "DaskVaryingResolutionSpectralCube with shape=(1920, 512, 512) and unit=Jy / beam and chunk size (80, 256, 512):\n",
      " n_x:    512  type_x: RA---SIN  unit_x: deg    range:   266.528130 deg:  266.560501 deg\n",
      " n_y:    512  type_y: DEC--SIN  unit_y: deg    range:   -28.719152 deg:  -28.690763 deg\n",
      " n_s:   1920  type_s: FREQ      unit_s: Hz     range: 99424720357.704 Hz:101298491932.779 Hz\n",
      "(1920, 512, 512)\n",
      "(512, 512)\n",
      "[                                        ] | 0% Completed |  0.1s"
     ]
    },
    {
     "name": "stderr",
     "output_type": "stream",
     "text": [
      "WARNING: StokesWarning: Cube is a Stokes cube, returning spectral cube for I component [spectral_cube.io.core]\n"
     ]
    },
    {
     "name": "stdout",
     "output_type": "stream",
     "text": [
      "[########################################] | 100% Completed | 13.5s\n",
      "[########################################] | 100% Completed | 13.6s\n",
      "[########################################] | 100% Completed | 11.3s\n",
      "[########################################] | 100% Completed | 11.4s\n",
      "31.211030960083008\n",
      "source_ab_129_spw67_dirty.image spectra/source_ab_129_spw67_dirty.max_CROPPED.fits\n",
      "source_ab_129_spw67_dirty.image\n"
     ]
    },
    {
     "name": "stderr",
     "output_type": "stream",
     "text": [
      "/blue/adamginsburg/abulatek/anaconda/lib/python3.7/site-packages/casa_formats_io-0.1-py3.7-linux-x86_64.egg/casa_formats_io/casa_dask.py:232: RuntimeWarning: divide by zero encountered in long_scalars\n",
      "  factors = [f for f in range(stacks[dim] + 1) if stacks[dim] % f == 0]\n"
     ]
    },
    {
     "name": "stdout",
     "output_type": "stream",
     "text": [
      "DaskVaryingResolutionSpectralCube with shape=(3840, 512, 512) and unit=Jy / beam and chunk size (128, 256, 512):\n",
      " n_x:    512  type_x: RA---SIN  unit_x: deg    range:   266.528130 deg:  266.560501 deg\n",
      " n_y:    512  type_y: DEC--SIN  unit_y: deg    range:   -28.719152 deg:  -28.690763 deg\n",
      " n_s:   3840  type_s: FREQ      unit_s: Hz     range: 126732915972.667 Hz:128607482003.168 Hz\n",
      "(3840, 512, 512)\n",
      "(512, 512)\n",
      "[                                        ] | 0% Completed |  0.1s"
     ]
    },
    {
     "name": "stderr",
     "output_type": "stream",
     "text": [
      "WARNING: StokesWarning: Cube is a Stokes cube, returning spectral cube for I component [spectral_cube.io.core]\n"
     ]
    },
    {
     "name": "stdout",
     "output_type": "stream",
     "text": [
      "[########################################] | 100% Completed | 25.3s\n",
      "[########################################] | 100% Completed | 25.4s\n",
      "[########################################] | 100% Completed | 24.5s\n",
      "[########################################] | 100% Completed | 24.6s\n",
      "63.27232575416565\n",
      "source_ab_140_spw109_dirty.image spectra/source_ab_140_spw109_dirty.max_CROPPED.fits\n",
      "source_ab_140_spw109_dirty.image\n"
     ]
    },
    {
     "name": "stderr",
     "output_type": "stream",
     "text": [
      "/blue/adamginsburg/abulatek/anaconda/lib/python3.7/site-packages/casa_formats_io-0.1-py3.7-linux-x86_64.egg/casa_formats_io/casa_dask.py:232: RuntimeWarning: divide by zero encountered in long_scalars\n",
      "  factors = [f for f in range(stacks[dim] + 1) if stacks[dim] % f == 0]\n"
     ]
    },
    {
     "name": "stdout",
     "output_type": "stream",
     "text": [
      "DaskVaryingResolutionSpectralCube with shape=(3840, 512, 512) and unit=Jy / beam and chunk size (128, 256, 512):\n",
      " n_x:    512  type_x: RA---SIN  unit_x: deg    range:   266.528130 deg:  266.560501 deg\n",
      " n_y:    512  type_y: DEC--SIN  unit_y: deg    range:   -28.719152 deg:  -28.690763 deg\n",
      " n_s:   3840  type_s: FREQ      unit_s: Hz     range: 140473070240.166 Hz:142347636353.263 Hz\n",
      "(3840, 512, 512)\n",
      "(512, 512)\n",
      "[                                        ] | 0% Completed |  0.1s"
     ]
    },
    {
     "name": "stderr",
     "output_type": "stream",
     "text": [
      "WARNING: StokesWarning: Cube is a Stokes cube, returning spectral cube for I component [spectral_cube.io.core]\n"
     ]
    },
    {
     "name": "stdout",
     "output_type": "stream",
     "text": [
      "[########################################] | 100% Completed | 25.4s\n",
      "[########################################] | 100% Completed | 25.5s\n",
      "[########################################] | 100% Completed | 25.0s\n",
      "[########################################] | 100% Completed | 25.1s\n",
      "62.61888098716736\n",
      "source_ab_257_spw45_clean_2sigma_n50000_masked_3sigma_pbmask0p18.image spectra/source_ab_257_spw45_clean_2sigma_n50000_masked_3sigma_pbmask0p18.max_CROPPED.fits\n",
      "source_ab_257_spw45_clean_2sigma_n50000_masked_3sigma_pbmask0p18.image\n"
     ]
    },
    {
     "name": "stderr",
     "output_type": "stream",
     "text": [
      "/blue/adamginsburg/abulatek/anaconda/lib/python3.7/site-packages/casa_formats_io-0.1-py3.7-linux-x86_64.egg/casa_formats_io/casa_dask.py:232: RuntimeWarning: divide by zero encountered in long_scalars\n",
      "  factors = [f for f in range(stacks[dim] + 1) if stacks[dim] % f == 0]\n"
     ]
    },
    {
     "name": "stdout",
     "output_type": "stream",
     "text": [
      "DaskVaryingResolutionSpectralCube with shape=(3840, 512, 512) and unit=Jy / beam and chunk size (128, 256, 512):\n",
      " n_x:    512  type_x: RA---SIN  unit_x: deg    range:   266.528130 deg:  266.560501 deg\n",
      " n_y:    512  type_y: DEC--SIN  unit_y: deg    range:   -28.719152 deg:  -28.690763 deg\n",
      " n_s:   3840  type_s: FREQ      unit_s: Hz     range: 255308020805.109 Hz:257182502433.963 Hz\n",
      "(3840, 512, 512)\n",
      "(512, 512)\n",
      "[                                        ] | 0% Completed |  0.1s"
     ]
    },
    {
     "name": "stderr",
     "output_type": "stream",
     "text": [
      "WARNING: StokesWarning: Cube is a Stokes cube, returning spectral cube for I component [spectral_cube.io.core]\n"
     ]
    },
    {
     "name": "stdout",
     "output_type": "stream",
     "text": [
      "[########################################] | 100% Completed | 24.6s\n",
      "[########################################] | 100% Completed | 24.7s\n",
      "[########################################] | 100% Completed | 22.4s\n",
      "[########################################] | 100% Completed | 22.5s\n",
      "59.08675146102905\n",
      "source_ab_89_spw104_clean_2sigma_n50000_masked_3sigma_pbmask0p18.image spectra/source_ab_89_spw104_clean_2sigma_n50000_masked_3sigma_pbmask0p18.max_CROPPED.fits\n",
      "source_ab_89_spw104_clean_2sigma_n50000_masked_3sigma_pbmask0p18.image\n"
     ]
    },
    {
     "name": "stderr",
     "output_type": "stream",
     "text": [
      "/blue/adamginsburg/abulatek/anaconda/lib/python3.7/site-packages/casa_formats_io-0.1-py3.7-linux-x86_64.egg/casa_formats_io/casa_dask.py:232: RuntimeWarning: divide by zero encountered in long_scalars\n",
      "  factors = [f for f in range(stacks[dim] + 1) if stacks[dim] % f == 0]\n"
     ]
    },
    {
     "name": "stdout",
     "output_type": "stream",
     "text": [
      "DaskVaryingResolutionSpectralCube with shape=(1920, 512, 512) and unit=Jy / beam and chunk size (80, 256, 512):\n",
      " n_x:    512  type_x: RA---SIN  unit_x: deg    range:   266.528130 deg:  266.560501 deg\n",
      " n_y:    512  type_y: DEC--SIN  unit_y: deg    range:   -28.719152 deg:  -28.690763 deg\n",
      " n_s:   1920  type_s: FREQ      unit_s: Hz     range: 87426327904.684 Hz:89300099479.701 Hz\n",
      "(1920, 512, 512)\n",
      "(512, 512)\n",
      "[                                        ] | 0% Completed |  0.1s"
     ]
    },
    {
     "name": "stderr",
     "output_type": "stream",
     "text": [
      "WARNING: StokesWarning: Cube is a Stokes cube, returning spectral cube for I component [spectral_cube.io.core]\n"
     ]
    },
    {
     "name": "stdout",
     "output_type": "stream",
     "text": [
      "[########################################] | 100% Completed | 13.5s\n",
      "[########################################] | 100% Completed | 13.6s\n",
      "[########################################] | 100% Completed | 11.2s\n",
      "[########################################] | 100% Completed | 11.3s\n",
      "31.102142810821533\n",
      "source_ab_244_spw65_clean_2sigma_n50000_masked_3sigma_pbmask0p18.image spectra/source_ab_244_spw65_clean_2sigma_n50000_masked_3sigma_pbmask0p18.max_CROPPED.fits\n",
      "source_ab_244_spw65_clean_2sigma_n50000_masked_3sigma_pbmask0p18.image\n"
     ]
    },
    {
     "name": "stderr",
     "output_type": "stream",
     "text": [
      "/blue/adamginsburg/abulatek/anaconda/lib/python3.7/site-packages/casa_formats_io-0.1-py3.7-linux-x86_64.egg/casa_formats_io/casa_dask.py:232: RuntimeWarning: divide by zero encountered in long_scalars\n",
      "  factors = [f for f in range(stacks[dim] + 1) if stacks[dim] % f == 0]\n"
     ]
    },
    {
     "name": "stdout",
     "output_type": "stream",
     "text": [
      "DaskVaryingResolutionSpectralCube with shape=(3840, 512, 512) and unit=Jy / beam and chunk size (128, 256, 512):\n",
      " n_x:    512  type_x: RA---SIN  unit_x: deg    range:   266.528130 deg:  266.560501 deg\n",
      " n_y:    512  type_y: DEC--SIN  unit_y: deg    range:   -28.719152 deg:  -28.690763 deg\n",
      " n_s:   3840  type_s: FREQ      unit_s: Hz     range: 241683218406.631 Hz:243557699871.464 Hz\n",
      "(3840, 512, 512)\n",
      "(512, 512)\n",
      "[                                        ] | 0% Completed |  0.1s"
     ]
    },
    {
     "name": "stderr",
     "output_type": "stream",
     "text": [
      "WARNING: StokesWarning: Cube is a Stokes cube, returning spectral cube for I component [spectral_cube.io.core]\n"
     ]
    },
    {
     "name": "stdout",
     "output_type": "stream",
     "text": [
      "[########################################] | 100% Completed | 26.3s\n",
      "[########################################] | 100% Completed | 26.4s\n",
      "[########################################] | 100% Completed | 25.4s\n",
      "[########################################] | 100% Completed | 25.5s\n",
      "63.76436185836792\n",
      "source_ab_104_spw25_clean_2sigma_n50000_masked_3sigma_pbmask0p18.image spectra/source_ab_104_spw25_clean_2sigma_n50000_masked_3sigma_pbmask0p18.max_CROPPED.fits\n",
      "source_ab_104_spw25_clean_2sigma_n50000_masked_3sigma_pbmask0p18.image\n"
     ]
    },
    {
     "name": "stderr",
     "output_type": "stream",
     "text": [
      "/blue/adamginsburg/abulatek/anaconda/lib/python3.7/site-packages/casa_formats_io-0.1-py3.7-linux-x86_64.egg/casa_formats_io/casa_dask.py:232: RuntimeWarning: divide by zero encountered in long_scalars\n",
      "  factors = [f for f in range(stacks[dim] + 1) if stacks[dim] % f == 0]\n"
     ]
    },
    {
     "name": "stdout",
     "output_type": "stream",
     "text": [
      "DaskVaryingResolutionSpectralCube with shape=(1920, 512, 512) and unit=Jy / beam and chunk size (80, 256, 512):\n",
      " n_x:    512  type_x: RA---SIN  unit_x: deg    range:   266.528130 deg:  266.560501 deg\n",
      " n_y:    512  type_y: DEC--SIN  unit_y: deg    range:   -28.719152 deg:  -28.690763 deg\n",
      " n_s:   1920  type_s: FREQ      unit_s: Hz     range: 101915892799.071 Hz:103789669232.376 Hz\n",
      "(1920, 512, 512)\n",
      "(512, 512)\n",
      "[                                        ] | 0% Completed |  0.1s"
     ]
    },
    {
     "name": "stderr",
     "output_type": "stream",
     "text": [
      "WARNING: StokesWarning: Cube is a Stokes cube, returning spectral cube for I component [spectral_cube.io.core]\n"
     ]
    },
    {
     "name": "stdout",
     "output_type": "stream",
     "text": [
      "[########################################] | 100% Completed | 13.7s\n",
      "[########################################] | 100% Completed | 13.8s\n",
      "[########################################] | 100% Completed | 11.3s\n",
      "[########################################] | 100% Completed | 11.4s\n",
      "31.350502967834473\n",
      "source_ab_101_spw27_dirty.image spectra/source_ab_101_spw27_dirty.max_CROPPED.fits\n",
      "source_ab_101_spw27_dirty.image\n"
     ]
    },
    {
     "name": "stderr",
     "output_type": "stream",
     "text": [
      "/blue/adamginsburg/abulatek/anaconda/lib/python3.7/site-packages/casa_formats_io-0.1-py3.7-linux-x86_64.egg/casa_formats_io/casa_dask.py:232: RuntimeWarning: divide by zero encountered in long_scalars\n",
      "  factors = [f for f in range(stacks[dim] + 1) if stacks[dim] % f == 0]\n"
     ]
    },
    {
     "name": "stdout",
     "output_type": "stream",
     "text": [
      "DaskVaryingResolutionSpectralCube with shape=(1920, 512, 512) and unit=Jy / beam and chunk size (80, 256, 512):\n",
      " n_x:    512  type_x: RA---SIN  unit_x: deg    range:   266.528130 deg:  266.560501 deg\n",
      " n_y:    512  type_y: DEC--SIN  unit_y: deg    range:   -28.719152 deg:  -28.690763 deg\n",
      " n_s:   1920  type_s: FREQ      unit_s: Hz     range: 99424718123.536 Hz:101298493946.319 Hz\n",
      "(1920, 512, 512)\n",
      "(512, 512)\n",
      "[                                        ] | 0% Completed |  0.1s"
     ]
    },
    {
     "name": "stderr",
     "output_type": "stream",
     "text": [
      "WARNING: StokesWarning: Cube is a Stokes cube, returning spectral cube for I component [spectral_cube.io.core]\n"
     ]
    },
    {
     "name": "stdout",
     "output_type": "stream",
     "text": [
      "[########################################] | 100% Completed | 13.8s\n",
      "[########################################] | 100% Completed | 13.9s\n",
      "[########################################] | 100% Completed | 11.5s\n",
      "[########################################] | 100% Completed | 11.6s\n",
      "31.63650941848755\n",
      "source_ab_99_spw31_dirty.image spectra/source_ab_99_spw31_dirty.max_CROPPED.fits\n",
      "source_ab_99_spw31_dirty.image\n"
     ]
    },
    {
     "name": "stderr",
     "output_type": "stream",
     "text": [
      "/blue/adamginsburg/abulatek/anaconda/lib/python3.7/site-packages/casa_formats_io-0.1-py3.7-linux-x86_64.egg/casa_formats_io/casa_dask.py:232: RuntimeWarning: divide by zero encountered in long_scalars\n",
      "  factors = [f for f in range(stacks[dim] + 1) if stacks[dim] % f == 0]\n"
     ]
    },
    {
     "name": "stdout",
     "output_type": "stream",
     "text": [
      "DaskVaryingResolutionSpectralCube with shape=(1920, 512, 512) and unit=Jy / beam and chunk size (80, 256, 512):\n",
      " n_x:    512  type_x: RA---SIN  unit_x: deg    range:   266.528130 deg:  266.560501 deg\n",
      " n_y:    512  type_y: DEC--SIN  unit_y: deg    range:   -28.719152 deg:  -28.690763 deg\n",
      " n_s:   1920  type_s: FREQ      unit_s: Hz     range: 99424718381.121 Hz:101298489495.713 Hz\n",
      "(1920, 512, 512)\n",
      "(512, 512)\n",
      "[                                        ] | 0% Completed |  0.1s"
     ]
    },
    {
     "name": "stderr",
     "output_type": "stream",
     "text": [
      "WARNING: StokesWarning: Cube is a Stokes cube, returning spectral cube for I component [spectral_cube.io.core]\n"
     ]
    },
    {
     "name": "stdout",
     "output_type": "stream",
     "text": [
      "[########################################] | 100% Completed | 13.7s\n",
      "[########################################] | 100% Completed | 13.8s\n",
      "[########################################] | 100% Completed | 11.6s\n",
      "[########################################] | 100% Completed | 11.7s\n",
      "31.56413221359253\n",
      "source_ab_152_spw31_dirty_512.image spectra/source_ab_152_spw31_dirty_512.max_CROPPED.fits\n",
      "source_ab_152_spw31_dirty_512.image\n"
     ]
    },
    {
     "name": "stderr",
     "output_type": "stream",
     "text": [
      "/blue/adamginsburg/abulatek/anaconda/lib/python3.7/site-packages/casa_formats_io-0.1-py3.7-linux-x86_64.egg/casa_formats_io/casa_dask.py:232: RuntimeWarning: divide by zero encountered in long_scalars\n",
      "  factors = [f for f in range(stacks[dim] + 1) if stacks[dim] % f == 0]\n"
     ]
    },
    {
     "name": "stdout",
     "output_type": "stream",
     "text": [
      "DaskVaryingResolutionSpectralCube with shape=(3840, 512, 512) and unit=Jy / beam and chunk size (128, 256, 512):\n",
      " n_x:    512  type_x: RA---SIN  unit_x: deg    range:   266.528130 deg:  266.560501 deg\n",
      " n_y:    512  type_y: DEC--SIN  unit_y: deg    range:   -28.719152 deg:  -28.690763 deg\n",
      " n_s:   3840  type_s: FREQ      unit_s: Hz     range: 152395310730.523 Hz:154269877084.026 Hz\n",
      "(3840, 512, 512)\n",
      "(512, 512)\n",
      "[                                        ] | 0% Completed |  0.1s"
     ]
    },
    {
     "name": "stderr",
     "output_type": "stream",
     "text": [
      "WARNING: StokesWarning: Cube is a Stokes cube, returning spectral cube for I component [spectral_cube.io.core]\n"
     ]
    },
    {
     "name": "stdout",
     "output_type": "stream",
     "text": [
      "[########################################] | 100% Completed | 25.5s\n",
      "[########################################] | 100% Completed | 25.6s\n",
      "[########################################] | 100% Completed | 23.0s\n",
      "[########################################] | 100% Completed | 23.1s\n",
      "60.40658187866211\n",
      "source_ab_134_spw45_clean_2sigma_n50000_masked_3sigma_pbmask0p18.image spectra/source_ab_134_spw45_clean_2sigma_n50000_masked_3sigma_pbmask0p18.max_CROPPED.fits\n",
      "source_ab_134_spw45_clean_2sigma_n50000_masked_3sigma_pbmask0p18.image\n"
     ]
    },
    {
     "name": "stderr",
     "output_type": "stream",
     "text": [
      "/blue/adamginsburg/abulatek/anaconda/lib/python3.7/site-packages/casa_formats_io-0.1-py3.7-linux-x86_64.egg/casa_formats_io/casa_dask.py:232: RuntimeWarning: divide by zero encountered in long_scalars\n",
      "  factors = [f for f in range(stacks[dim] + 1) if stacks[dim] % f == 0]\n"
     ]
    },
    {
     "name": "stdout",
     "output_type": "stream",
     "text": [
      "DaskVaryingResolutionSpectralCube with shape=(3840, 512, 512) and unit=Jy / beam and chunk size (128, 256, 512):\n",
      " n_x:    512  type_x: RA---SIN  unit_x: deg    range:   266.528130 deg:  266.560501 deg\n",
      " n_y:    512  type_y: DEC--SIN  unit_y: deg    range:   -28.719152 deg:  -28.690763 deg\n",
      " n_s:   3840  type_s: FREQ      unit_s: Hz     range: 131879076591.442 Hz:133753642785.728 Hz\n",
      "(3840, 512, 512)\n",
      "(512, 512)\n",
      "[                                        ] | 0% Completed |  0.2s"
     ]
    },
    {
     "name": "stderr",
     "output_type": "stream",
     "text": [
      "WARNING: StokesWarning: Cube is a Stokes cube, returning spectral cube for I component [spectral_cube.io.core]\n"
     ]
    },
    {
     "name": "stdout",
     "output_type": "stream",
     "text": [
      "[########################################] | 100% Completed | 25.5s\n",
      "[########################################] | 100% Completed | 25.6s\n",
      "[########################################] | 100% Completed | 22.6s\n",
      "[########################################] | 100% Completed | 22.6s\n",
      "60.10751795768738\n",
      "source_ab_107_spw31_dirty.image spectra/source_ab_107_spw31_dirty.max_CROPPED.fits\n",
      "source_ab_107_spw31_dirty.image\n"
     ]
    },
    {
     "name": "stderr",
     "output_type": "stream",
     "text": [
      "/blue/adamginsburg/abulatek/anaconda/lib/python3.7/site-packages/casa_formats_io-0.1-py3.7-linux-x86_64.egg/casa_formats_io/casa_dask.py:232: RuntimeWarning: divide by zero encountered in long_scalars\n",
      "  factors = [f for f in range(stacks[dim] + 1) if stacks[dim] % f == 0]\n"
     ]
    },
    {
     "name": "stdout",
     "output_type": "stream",
     "text": [
      "DaskVaryingResolutionSpectralCube with shape=(1920, 512, 512) and unit=Jy / beam and chunk size (80, 256, 512):\n",
      " n_x:    512  type_x: RA---SIN  unit_x: deg    range:   266.528130 deg:  266.560501 deg\n",
      " n_y:    512  type_y: DEC--SIN  unit_y: deg    range:   -28.719152 deg:  -28.690763 deg\n",
      " n_s:   1920  type_s: FREQ      unit_s: Hz     range: 107423657897.262 Hz:109297434179.942 Hz\n",
      "(1920, 512, 512)\n",
      "(512, 512)\n",
      "[                                        ] | 0% Completed |  0.1s"
     ]
    },
    {
     "name": "stderr",
     "output_type": "stream",
     "text": [
      "WARNING: StokesWarning: Cube is a Stokes cube, returning spectral cube for I component [spectral_cube.io.core]\n"
     ]
    },
    {
     "name": "stdout",
     "output_type": "stream",
     "text": [
      "[########################################] | 100% Completed | 13.8s\n",
      "[########################################] | 100% Completed | 13.9s\n",
      "[########################################] | 100% Completed | 11.5s\n",
      "[########################################] | 100% Completed | 11.6s\n",
      "31.7468683719635\n",
      "source_ab_139_spw87_dirty.image spectra/source_ab_139_spw87_dirty.max_CROPPED.fits\n",
      "source_ab_139_spw87_dirty.image\n"
     ]
    },
    {
     "name": "stderr",
     "output_type": "stream",
     "text": [
      "/blue/adamginsburg/abulatek/anaconda/lib/python3.7/site-packages/casa_formats_io-0.1-py3.7-linux-x86_64.egg/casa_formats_io/casa_dask.py:232: RuntimeWarning: divide by zero encountered in long_scalars\n",
      "  factors = [f for f in range(stacks[dim] + 1) if stacks[dim] % f == 0]\n"
     ]
    },
    {
     "name": "stdout",
     "output_type": "stream",
     "text": [
      "DaskVaryingResolutionSpectralCube with shape=(3840, 512, 512) and unit=Jy / beam and chunk size (128, 256, 512):\n",
      " n_x:    512  type_x: RA---SIN  unit_x: deg    range:   266.528130 deg:  266.560501 deg\n",
      " n_y:    512  type_y: DEC--SIN  unit_y: deg    range:   -28.719152 deg:  -28.690763 deg\n",
      " n_s:   3840  type_s: FREQ      unit_s: Hz     range: 136988605936.479 Hz:138863172211.018 Hz\n",
      "(3840, 512, 512)\n",
      "(512, 512)\n",
      "[                                        ] | 0% Completed |  0.1s"
     ]
    },
    {
     "name": "stderr",
     "output_type": "stream",
     "text": [
      "WARNING: StokesWarning: Cube is a Stokes cube, returning spectral cube for I component [spectral_cube.io.core]\n"
     ]
    },
    {
     "name": "stdout",
     "output_type": "stream",
     "text": [
      "[########################################] | 100% Completed | 26.0s\n",
      "[########################################] | 100% Completed | 26.1s\n",
      "[########################################] | 100% Completed | 27.4s\n",
      "[########################################] | 100% Completed | 27.5s\n",
      "65.71344947814941\n",
      "source_ab_268_spw89_dirty.image spectra/source_ab_268_spw89_dirty.max_CROPPED.fits\n",
      "source_ab_268_spw89_dirty.image\n"
     ]
    },
    {
     "name": "stderr",
     "output_type": "stream",
     "text": [
      "/blue/adamginsburg/abulatek/anaconda/lib/python3.7/site-packages/casa_formats_io-0.1-py3.7-linux-x86_64.egg/casa_formats_io/casa_dask.py:232: RuntimeWarning: divide by zero encountered in long_scalars\n",
      "  factors = [f for f in range(stacks[dim] + 1) if stacks[dim] % f == 0]\n"
     ]
    },
    {
     "name": "stdout",
     "output_type": "stream",
     "text": [
      "DaskVaryingResolutionSpectralCube with shape=(3840, 512, 512) and unit=Jy / beam and chunk size (128, 256, 512):\n",
      " n_x:    512  type_x: RA---SIN  unit_x: deg    range:   266.528130 deg:  266.560501 deg\n",
      " n_y:    512  type_y: DEC--SIN  unit_y: deg    range:   -28.719152 deg:  -28.690763 deg\n",
      " n_s:   3840  type_s: FREQ      unit_s: Hz     range: 267901562851.931 Hz:269776044440.248 Hz\n",
      "(3840, 512, 512)\n",
      "(512, 512)\n",
      "[                                        ] | 0% Completed |  0.1s"
     ]
    },
    {
     "name": "stderr",
     "output_type": "stream",
     "text": [
      "WARNING: StokesWarning: Cube is a Stokes cube, returning spectral cube for I component [spectral_cube.io.core]\n"
     ]
    },
    {
     "name": "stdout",
     "output_type": "stream",
     "text": [
      "[########################################] | 100% Completed | 24.8s\n",
      "[########################################] | 100% Completed | 24.9s\n",
      "[########################################] | 100% Completed | 22.7s\n",
      "[########################################] | 100% Completed | 22.8s\n",
      "59.57795238494873\n",
      "source_ab_250_spw25_clean_2sigma_n50000_masked_3sigma_pbmask0p18.image spectra/source_ab_250_spw25_clean_2sigma_n50000_masked_3sigma_pbmask0p18.max_CROPPED.fits\n",
      "source_ab_250_spw25_clean_2sigma_n50000_masked_3sigma_pbmask0p18.image\n"
     ]
    },
    {
     "name": "stderr",
     "output_type": "stream",
     "text": [
      "/blue/adamginsburg/abulatek/anaconda/lib/python3.7/site-packages/casa_formats_io-0.1-py3.7-linux-x86_64.egg/casa_formats_io/casa_dask.py:232: RuntimeWarning: divide by zero encountered in long_scalars\n",
      "  factors = [f for f in range(stacks[dim] + 1) if stacks[dim] % f == 0]\n"
     ]
    },
    {
     "name": "stdout",
     "output_type": "stream",
     "text": [
      "DaskVaryingResolutionSpectralCube with shape=(3840, 512, 512) and unit=Jy / beam and chunk size (128, 256, 512):\n",
      " n_x:    512  type_x: RA---SIN  unit_x: deg    range:   266.528130 deg:  266.560501 deg\n",
      " n_y:    512  type_y: DEC--SIN  unit_y: deg    range:   -28.719152 deg:  -28.690763 deg\n",
      " n_s:   3840  type_s: FREQ      unit_s: Hz     range: 248495619372.267 Hz:250370100919.579 Hz\n",
      "(3840, 512, 512)\n",
      "(512, 512)\n",
      "[                                        ] | 0% Completed |  0.1s"
     ]
    },
    {
     "name": "stderr",
     "output_type": "stream",
     "text": [
      "WARNING: StokesWarning: Cube is a Stokes cube, returning spectral cube for I component [spectral_cube.io.core]\n"
     ]
    },
    {
     "name": "stdout",
     "output_type": "stream",
     "text": [
      "[########################################] | 100% Completed | 24.7s\n",
      "[########################################] | 100% Completed | 24.8s\n",
      "[########################################] | 100% Completed | 24.9s\n",
      "[########################################] | 100% Completed | 25.0s\n",
      "61.736499547958374\n",
      "source_ab_102_spw106_clean_2sigma_n50000_masked_3sigma_pbmask0p18.image spectra/source_ab_102_spw106_clean_2sigma_n50000_masked_3sigma_pbmask0p18.max_CROPPED.fits\n",
      "source_ab_102_spw106_clean_2sigma_n50000_masked_3sigma_pbmask0p18.image\n"
     ]
    },
    {
     "name": "stderr",
     "output_type": "stream",
     "text": [
      "/blue/adamginsburg/abulatek/anaconda/lib/python3.7/site-packages/casa_formats_io-0.1-py3.7-linux-x86_64.egg/casa_formats_io/casa_dask.py:232: RuntimeWarning: divide by zero encountered in long_scalars\n",
      "  factors = [f for f in range(stacks[dim] + 1) if stacks[dim] % f == 0]\n"
     ]
    },
    {
     "name": "stdout",
     "output_type": "stream",
     "text": [
      "DaskVaryingResolutionSpectralCube with shape=(1920, 512, 512) and unit=Jy / beam and chunk size (80, 256, 512):\n",
      " n_x:    512  type_x: RA---SIN  unit_x: deg    range:   266.528130 deg:  266.560501 deg\n",
      " n_y:    512  type_y: DEC--SIN  unit_y: deg    range:   -28.719152 deg:  -28.690763 deg\n",
      " n_s:   1920  type_s: FREQ      unit_s: Hz     range: 101549438071.648 Hz:103423209520.988 Hz\n",
      "(1920, 512, 512)\n",
      "(512, 512)\n",
      "[                                        ] | 0% Completed |  0.1s"
     ]
    },
    {
     "name": "stderr",
     "output_type": "stream",
     "text": [
      "WARNING: StokesWarning: Cube is a Stokes cube, returning spectral cube for I component [spectral_cube.io.core]\n"
     ]
    },
    {
     "name": "stdout",
     "output_type": "stream",
     "text": [
      "[########################################] | 100% Completed | 13.3s\n",
      "[########################################] | 100% Completed | 13.4s\n",
      "[########################################] | 100% Completed | 11.3s\n",
      "[########################################] | 100% Completed | 11.4s\n",
      "30.99154305458069\n",
      "source_ab_147_spw89_clean_2sigma_n50000_masked_3sigma_pbmask0p18.image spectra/source_ab_147_spw89_clean_2sigma_n50000_masked_3sigma_pbmask0p18.max_CROPPED.fits\n",
      "source_ab_147_spw89_clean_2sigma_n50000_masked_3sigma_pbmask0p18.image\n"
     ]
    },
    {
     "name": "stderr",
     "output_type": "stream",
     "text": [
      "/blue/adamginsburg/abulatek/anaconda/lib/python3.7/site-packages/casa_formats_io-0.1-py3.7-linux-x86_64.egg/casa_formats_io/casa_dask.py:232: RuntimeWarning: divide by zero encountered in long_scalars\n",
      "  factors = [f for f in range(stacks[dim] + 1) if stacks[dim] % f == 0]\n"
     ]
    },
    {
     "name": "stdout",
     "output_type": "stream",
     "text": [
      "DaskVaryingResolutionSpectralCube with shape=(3840, 512, 512) and unit=Jy / beam and chunk size (128, 256, 512):\n",
      " n_x:    512  type_x: RA---SIN  unit_x: deg    range:   266.528130 deg:  266.560501 deg\n",
      " n_y:    512  type_y: DEC--SIN  unit_y: deg    range:   -28.719152 deg:  -28.690763 deg\n",
      " n_s:   3840  type_s: FREQ      unit_s: Hz     range: 147285780616.662 Hz:149160346891.201 Hz\n",
      "(3840, 512, 512)\n",
      "(512, 512)\n",
      "[                                        ] | 0% Completed |  0.1s"
     ]
    },
    {
     "name": "stderr",
     "output_type": "stream",
     "text": [
      "WARNING: StokesWarning: Cube is a Stokes cube, returning spectral cube for I component [spectral_cube.io.core]\n"
     ]
    },
    {
     "name": "stdout",
     "output_type": "stream",
     "text": [
      "[########################################] | 100% Completed | 25.2s\n",
      "[########################################] | 100% Completed | 25.3s\n",
      "[########################################] | 100% Completed | 27.9s\n",
      "[########################################] | 100% Completed | 28.0s\n",
      "65.07358074188232\n",
      "source_ab_142_spw27_clean_2sigma_n50000_masked_3sigma_pbmask0p18.image spectra/source_ab_142_spw27_clean_2sigma_n50000_masked_3sigma_pbmask0p18.max_CROPPED.fits\n",
      "source_ab_142_spw27_clean_2sigma_n50000_masked_3sigma_pbmask0p18.image\n"
     ]
    },
    {
     "name": "stderr",
     "output_type": "stream",
     "text": [
      "/blue/adamginsburg/abulatek/anaconda/lib/python3.7/site-packages/casa_formats_io-0.1-py3.7-linux-x86_64.egg/casa_formats_io/casa_dask.py:232: RuntimeWarning: divide by zero encountered in long_scalars\n",
      "  factors = [f for f in range(stacks[dim] + 1) if stacks[dim] % f == 0]\n"
     ]
    },
    {
     "name": "stdout",
     "output_type": "stream",
     "text": [
      "DaskVaryingResolutionSpectralCube with shape=(3840, 512, 512) and unit=Jy / beam and chunk size (128, 256, 512):\n",
      " n_x:    512  type_x: RA---SIN  unit_x: deg    range:   266.528130 deg:  266.560501 deg\n",
      " n_y:    512  type_y: DEC--SIN  unit_y: deg    range:   -28.719152 deg:  -28.690763 deg\n",
      " n_s:   3840  type_s: FREQ      unit_s: Hz     range: 150692136091.180 Hz:152566702444.683 Hz\n",
      "(3840, 512, 512)\n",
      "(512, 512)\n",
      "[                                        ] | 0% Completed |  0.1s"
     ]
    },
    {
     "name": "stderr",
     "output_type": "stream",
     "text": [
      "WARNING: StokesWarning: Cube is a Stokes cube, returning spectral cube for I component [spectral_cube.io.core]\n"
     ]
    },
    {
     "name": "stdout",
     "output_type": "stream",
     "text": [
      "[########################################] | 100% Completed | 25.3s\n",
      "[########################################] | 100% Completed | 25.4s\n",
      "[########################################] | 100% Completed | 24.5s\n",
      "[########################################] | 100% Completed | 24.6s\n",
      "62.63206720352173\n",
      "source_ab_146_spw51_dirty.image spectra/source_ab_146_spw51_dirty.max_CROPPED.fits\n",
      "source_ab_146_spw51_dirty.image\n"
     ]
    },
    {
     "name": "stderr",
     "output_type": "stream",
     "text": [
      "/blue/adamginsburg/abulatek/anaconda/lib/python3.7/site-packages/casa_formats_io-0.1-py3.7-linux-x86_64.egg/casa_formats_io/casa_dask.py:232: RuntimeWarning: divide by zero encountered in long_scalars\n",
      "  factors = [f for f in range(stacks[dim] + 1) if stacks[dim] % f == 0]\n"
     ]
    },
    {
     "name": "stdout",
     "output_type": "stream",
     "text": [
      "DaskVaryingResolutionSpectralCube with shape=(3840, 512, 512) and unit=Jy / beam and chunk size (128, 256, 512):\n",
      " n_x:    512  type_x: RA---SIN  unit_x: deg    range:   266.528130 deg:  266.560501 deg\n",
      " n_y:    512  type_y: DEC--SIN  unit_y: deg    range:   -28.719152 deg:  -28.690763 deg\n",
      " n_s:   3840  type_s: FREQ      unit_s: Hz     range: 145582599820.702 Hz:147457166014.871 Hz\n",
      "(3840, 512, 512)\n",
      "(512, 512)\n",
      "[                                        ] | 0% Completed |  0.1s"
     ]
    },
    {
     "name": "stderr",
     "output_type": "stream",
     "text": [
      "WARNING: StokesWarning: Cube is a Stokes cube, returning spectral cube for I component [spectral_cube.io.core]\n"
     ]
    },
    {
     "name": "stdout",
     "output_type": "stream",
     "text": [
      "[########################################] | 100% Completed | 24.0s\n",
      "[########################################] | 100% Completed | 24.1s\n",
      "[########################################] | 100% Completed | 24.3s\n",
      "[########################################] | 100% Completed | 24.4s\n",
      "62.256786584854126\n",
      "source_ab_139_spw71_dirty.image spectra/source_ab_139_spw71_dirty.max_CROPPED.fits\n",
      "source_ab_139_spw71_dirty.image\n"
     ]
    },
    {
     "name": "stderr",
     "output_type": "stream",
     "text": [
      "/blue/adamginsburg/abulatek/anaconda/lib/python3.7/site-packages/casa_formats_io-0.1-py3.7-linux-x86_64.egg/casa_formats_io/casa_dask.py:232: RuntimeWarning: divide by zero encountered in long_scalars\n",
      "  factors = [f for f in range(stacks[dim] + 1) if stacks[dim] % f == 0]\n"
     ]
    },
    {
     "name": "stdout",
     "output_type": "stream",
     "text": [
      "DaskVaryingResolutionSpectralCube with shape=(3840, 512, 512) and unit=Jy / beam and chunk size (128, 256, 512):\n",
      " n_x:    512  type_x: RA---SIN  unit_x: deg    range:   266.528130 deg:  266.560501 deg\n",
      " n_y:    512  type_y: DEC--SIN  unit_y: deg    range:   -28.719152 deg:  -28.690763 deg\n",
      " n_s:   3840  type_s: FREQ      unit_s: Hz     range: 138733263658.628 Hz:140607829689.246 Hz\n",
      "(3840, 512, 512)\n",
      "(512, 512)\n",
      "[                                        ] | 0% Completed |  0.2s"
     ]
    },
    {
     "name": "stderr",
     "output_type": "stream",
     "text": [
      "WARNING: StokesWarning: Cube is a Stokes cube, returning spectral cube for I component [spectral_cube.io.core]\n"
     ]
    },
    {
     "name": "stdout",
     "output_type": "stream",
     "text": [
      "[########################################] | 100% Completed | 25.6s\n",
      "[########################################] | 100% Completed | 25.7s\n",
      "[########################################] | 100% Completed | 26.0s\n",
      "[########################################] | 100% Completed | 26.1s\n",
      "63.71187424659729\n",
      "source_ab_91_spw25_clean_2sigma_n50000_masked_3sigma_pbmask0p18.image spectra/source_ab_91_spw25_clean_2sigma_n50000_masked_3sigma_pbmask0p18.max_CROPPED.fits\n",
      "source_ab_91_spw25_clean_2sigma_n50000_masked_3sigma_pbmask0p18.image\n"
     ]
    },
    {
     "name": "stderr",
     "output_type": "stream",
     "text": [
      "/blue/adamginsburg/abulatek/anaconda/lib/python3.7/site-packages/casa_formats_io-0.1-py3.7-linux-x86_64.egg/casa_formats_io/casa_dask.py:232: RuntimeWarning: divide by zero encountered in long_scalars\n",
      "  factors = [f for f in range(stacks[dim] + 1) if stacks[dim] % f == 0]\n"
     ]
    },
    {
     "name": "stdout",
     "output_type": "stream",
     "text": [
      "DaskVaryingResolutionSpectralCube with shape=(1920, 512, 512) and unit=Jy / beam and chunk size (80, 256, 512):\n",
      " n_x:    512  type_x: RA---SIN  unit_x: deg    range:   266.528130 deg:  266.560501 deg\n",
      " n_y:    512  type_y: DEC--SIN  unit_y: deg    range:   -28.719152 deg:  -28.690763 deg\n",
      " n_s:   1920  type_s: FREQ      unit_s: Hz     range: 89551042503.439 Hz:91424816292.204 Hz\n",
      "(1920, 512, 512)\n",
      "(512, 512)\n",
      "[                                        ] | 0% Completed |  0.1s"
     ]
    },
    {
     "name": "stderr",
     "output_type": "stream",
     "text": [
      "WARNING: StokesWarning: Cube is a Stokes cube, returning spectral cube for I component [spectral_cube.io.core]\n"
     ]
    },
    {
     "name": "stdout",
     "output_type": "stream",
     "text": [
      "[########################################] | 100% Completed | 14.0s\n",
      "[########################################] | 100% Completed | 14.1s\n",
      "[########################################] | 100% Completed | 11.3s\n",
      "[########################################] | 100% Completed | 11.4s\n",
      "31.711363792419434\n",
      "source_ab_97_spw27_clean_2sigma_n50000_masked_3sigma_pbmask0p18.image spectra/source_ab_97_spw27_clean_2sigma_n50000_masked_3sigma_pbmask0p18.max_CROPPED.fits\n",
      "source_ab_97_spw27_clean_2sigma_n50000_masked_3sigma_pbmask0p18.image\n"
     ]
    },
    {
     "name": "stderr",
     "output_type": "stream",
     "text": [
      "/blue/adamginsburg/abulatek/anaconda/lib/python3.7/site-packages/casa_formats_io-0.1-py3.7-linux-x86_64.egg/casa_formats_io/casa_dask.py:232: RuntimeWarning: divide by zero encountered in long_scalars\n",
      "  factors = [f for f in range(stacks[dim] + 1) if stacks[dim] % f == 0]\n"
     ]
    },
    {
     "name": "stdout",
     "output_type": "stream",
     "text": [
      "DaskVaryingResolutionSpectralCube with shape=(1920, 512, 512) and unit=Jy / beam and chunk size (80, 256, 512):\n",
      " n_x:    512  type_x: RA---SIN  unit_x: deg    range:   266.528130 deg:  266.560501 deg\n",
      " n_y:    512  type_y: DEC--SIN  unit_y: deg    range:   -28.719152 deg:  -28.690763 deg\n",
      " n_s:   1920  type_s: FREQ      unit_s: Hz     range: 95425250816.553 Hz:97299027099.234 Hz\n",
      "(1920, 512, 512)\n",
      "(512, 512)\n",
      "[                                        ] | 0% Completed |  0.1s"
     ]
    },
    {
     "name": "stderr",
     "output_type": "stream",
     "text": [
      "WARNING: StokesWarning: Cube is a Stokes cube, returning spectral cube for I component [spectral_cube.io.core]\n"
     ]
    },
    {
     "name": "stdout",
     "output_type": "stream",
     "text": [
      "[########################################] | 100% Completed | 13.1s\n",
      "[########################################] | 100% Completed | 13.2s\n",
      "[########################################] | 100% Completed | 11.3s\n",
      "[########################################] | 100% Completed | 11.4s\n",
      "30.610536575317383\n",
      "source_ab_255_spw87_clean_2sigma_n50000_masked_3sigma_pbmask0p18.image spectra/source_ab_255_spw87_clean_2sigma_n50000_masked_3sigma_pbmask0p18.max_CROPPED.fits\n",
      "source_ab_255_spw87_clean_2sigma_n50000_masked_3sigma_pbmask0p18.image\n"
     ]
    },
    {
     "name": "stderr",
     "output_type": "stream",
     "text": [
      "/blue/adamginsburg/abulatek/anaconda/lib/python3.7/site-packages/casa_formats_io-0.1-py3.7-linux-x86_64.egg/casa_formats_io/casa_dask.py:232: RuntimeWarning: divide by zero encountered in long_scalars\n",
      "  factors = [f for f in range(stacks[dim] + 1) if stacks[dim] % f == 0]\n"
     ]
    },
    {
     "name": "stdout",
     "output_type": "stream",
     "text": [
      "DaskVaryingResolutionSpectralCube with shape=(3840, 512, 512) and unit=Jy / beam and chunk size (128, 256, 512):\n",
      " n_x:    512  type_x: RA---SIN  unit_x: deg    range:   266.528130 deg:  266.560501 deg\n",
      " n_y:    512  type_y: DEC--SIN  unit_y: deg    range:   -28.719152 deg:  -28.690763 deg\n",
      " n_s:   3840  type_s: FREQ      unit_s: Hz     range: 253604917658.067 Hz:255479399246.150 Hz\n",
      "(3840, 512, 512)\n",
      "(512, 512)\n",
      "[                                        ] | 0% Completed |  0.1s"
     ]
    },
    {
     "name": "stderr",
     "output_type": "stream",
     "text": [
      "WARNING: StokesWarning: Cube is a Stokes cube, returning spectral cube for I component [spectral_cube.io.core]\n"
     ]
    },
    {
     "name": "stdout",
     "output_type": "stream",
     "text": [
      "[########################################] | 100% Completed | 25.5s\n",
      "[########################################] | 100% Completed | 25.6s\n",
      "[########################################] | 100% Completed | 26.4s\n",
      "[########################################] | 100% Completed | 26.5s\n",
      "63.92898178100586\n",
      "source_ab_103_spw108_clean_2sigma_n50000_masked_3sigma_pbmask0p18.image spectra/source_ab_103_spw108_clean_2sigma_n50000_masked_3sigma_pbmask0p18.max_CROPPED.fits\n",
      "source_ab_103_spw108_clean_2sigma_n50000_masked_3sigma_pbmask0p18.image\n"
     ]
    },
    {
     "name": "stderr",
     "output_type": "stream",
     "text": [
      "/blue/adamginsburg/abulatek/anaconda/lib/python3.7/site-packages/casa_formats_io-0.1-py3.7-linux-x86_64.egg/casa_formats_io/casa_dask.py:232: RuntimeWarning: divide by zero encountered in long_scalars\n",
      "  factors = [f for f in range(stacks[dim] + 1) if stacks[dim] % f == 0]\n"
     ]
    },
    {
     "name": "stdout",
     "output_type": "stream",
     "text": [
      "DaskVaryingResolutionSpectralCube with shape=(1920, 512, 512) and unit=Jy / beam and chunk size (80, 256, 512):\n",
      " n_x:    512  type_x: RA---SIN  unit_x: deg    range:   266.528130 deg:  266.560501 deg\n",
      " n_y:    512  type_y: DEC--SIN  unit_y: deg    range:   -28.719152 deg:  -28.690763 deg\n",
      " n_s:   1920  type_s: FREQ      unit_s: Hz     range: 103424185952.197 Hz:105297957401.537 Hz\n",
      "(1920, 512, 512)\n",
      "(512, 512)\n",
      "[                                        ] | 0% Completed |  0.1s"
     ]
    },
    {
     "name": "stderr",
     "output_type": "stream",
     "text": [
      "WARNING: StokesWarning: Cube is a Stokes cube, returning spectral cube for I component [spectral_cube.io.core]\n"
     ]
    },
    {
     "name": "stdout",
     "output_type": "stream",
     "text": [
      "[########################################] | 100% Completed | 12.9s\n",
      "[########################################] | 100% Completed | 13.0s\n",
      "[########################################] | 100% Completed | 11.4s\n",
      "[########################################] | 100% Completed | 11.5s\n",
      "30.5319766998291\n",
      "source_ab_247_spw105_clean_2sigma_n50000_masked_3sigma_pbmask0p18.image spectra/source_ab_247_spw105_clean_2sigma_n50000_masked_3sigma_pbmask0p18.max_CROPPED.fits\n",
      "source_ab_247_spw105_clean_2sigma_n50000_masked_3sigma_pbmask0p18.image\n"
     ]
    },
    {
     "name": "stderr",
     "output_type": "stream",
     "text": [
      "/blue/adamginsburg/abulatek/anaconda/lib/python3.7/site-packages/casa_formats_io-0.1-py3.7-linux-x86_64.egg/casa_formats_io/casa_dask.py:232: RuntimeWarning: divide by zero encountered in long_scalars\n",
      "  factors = [f for f in range(stacks[dim] + 1) if stacks[dim] % f == 0]\n"
     ]
    },
    {
     "name": "stdout",
     "output_type": "stream",
     "text": [
      "DaskVaryingResolutionSpectralCube with shape=(3840, 512, 512) and unit=Jy / beam and chunk size (128, 256, 512):\n",
      " n_x:    512  type_x: RA---SIN  unit_x: deg    range:   266.528130 deg:  266.560501 deg\n",
      " n_y:    512  type_y: DEC--SIN  unit_y: deg    range:   -28.719152 deg:  -28.690763 deg\n",
      " n_s:   3840  type_s: FREQ      unit_s: Hz     range: 245089418823.116 Hz:246963900329.189 Hz\n",
      "(3840, 512, 512)\n",
      "(512, 512)\n",
      "[                                        ] | 0% Completed |  0.1s"
     ]
    },
    {
     "name": "stderr",
     "output_type": "stream",
     "text": [
      "WARNING: StokesWarning: Cube is a Stokes cube, returning spectral cube for I component [spectral_cube.io.core]\n"
     ]
    },
    {
     "name": "stdout",
     "output_type": "stream",
     "text": [
      "[########################################] | 100% Completed | 25.3s\n",
      "[########################################] | 100% Completed | 25.3s\n",
      "[########################################] | 100% Completed | 26.7s\n",
      "[########################################] | 100% Completed | 26.8s\n",
      "63.984172105789185\n",
      "source_ab_107_spw31_clean_2sigma_n50000_masked_3sigma_pbmask0p18.image spectra/source_ab_107_spw31_clean_2sigma_n50000_masked_3sigma_pbmask0p18.max_CROPPED.fits\n",
      "source_ab_107_spw31_clean_2sigma_n50000_masked_3sigma_pbmask0p18.image\n"
     ]
    },
    {
     "name": "stderr",
     "output_type": "stream",
     "text": [
      "/blue/adamginsburg/abulatek/anaconda/lib/python3.7/site-packages/casa_formats_io-0.1-py3.7-linux-x86_64.egg/casa_formats_io/casa_dask.py:232: RuntimeWarning: divide by zero encountered in long_scalars\n",
      "  factors = [f for f in range(stacks[dim] + 1) if stacks[dim] % f == 0]\n"
     ]
    },
    {
     "name": "stdout",
     "output_type": "stream",
     "text": [
      "DaskVaryingResolutionSpectralCube with shape=(1920, 512, 512) and unit=Jy / beam and chunk size (80, 256, 512):\n",
      " n_x:    512  type_x: RA---SIN  unit_x: deg    range:   266.528130 deg:  266.560501 deg\n",
      " n_y:    512  type_y: DEC--SIN  unit_y: deg    range:   -28.719152 deg:  -28.690763 deg\n",
      " n_s:   1920  type_s: FREQ      unit_s: Hz     range: 107423657897.262 Hz:109297434179.942 Hz\n",
      "(1920, 512, 512)\n",
      "(512, 512)\n",
      "[                                        ] | 0% Completed |  0.1s"
     ]
    },
    {
     "name": "stderr",
     "output_type": "stream",
     "text": [
      "WARNING: StokesWarning: Cube is a Stokes cube, returning spectral cube for I component [spectral_cube.io.core]\n"
     ]
    },
    {
     "name": "stdout",
     "output_type": "stream",
     "text": [
      "[########################################] | 100% Completed | 13.3s\n",
      "[########################################] | 100% Completed | 13.4s\n",
      "[########################################] | 100% Completed | 11.2s\n",
      "[########################################] | 100% Completed | 11.3s\n",
      "31.943584442138672\n",
      "source_ab_99_spw25_dirty.image spectra/source_ab_99_spw25_dirty.max_CROPPED.fits\n",
      "source_ab_99_spw25_dirty.image\n"
     ]
    },
    {
     "name": "stderr",
     "output_type": "stream",
     "text": [
      "/blue/adamginsburg/abulatek/anaconda/lib/python3.7/site-packages/casa_formats_io-0.1-py3.7-linux-x86_64.egg/casa_formats_io/casa_dask.py:232: RuntimeWarning: divide by zero encountered in long_scalars\n",
      "  factors = [f for f in range(stacks[dim] + 1) if stacks[dim] % f == 0]\n"
     ]
    },
    {
     "name": "stdout",
     "output_type": "stream",
     "text": [
      "DaskVaryingResolutionSpectralCube with shape=(1920, 512, 512) and unit=Jy / beam and chunk size (80, 256, 512):\n",
      " n_x:    512  type_x: RA---SIN  unit_x: deg    range:   266.528130 deg:  266.560501 deg\n",
      " n_y:    512  type_y: DEC--SIN  unit_y: deg    range:   -28.719152 deg:  -28.690763 deg\n",
      " n_s:   1920  type_s: FREQ      unit_s: Hz     range: 97549965867.203 Hz:99423741690.045 Hz\n",
      "(1920, 512, 512)\n",
      "(512, 512)\n",
      "[                                        ] | 0% Completed |  0.1s"
     ]
    },
    {
     "name": "stderr",
     "output_type": "stream",
     "text": [
      "WARNING: StokesWarning: Cube is a Stokes cube, returning spectral cube for I component [spectral_cube.io.core]\n"
     ]
    },
    {
     "name": "stdout",
     "output_type": "stream",
     "text": [
      "[########################################] | 100% Completed | 13.5s\n",
      "[########################################] | 100% Completed | 13.6s\n",
      "[########################################] | 100% Completed | 11.6s\n",
      "[########################################] | 100% Completed | 11.7s\n",
      "32.083858251571655\n",
      "source_ab_138_spw25_clean_2sigma_masked_3sigma.image spectra/source_ab_138_spw25_clean_2sigma_masked_3sigma.max_CROPPED.fits\n",
      "source_ab_138_spw25_clean_2sigma_masked_3sigma.image\n"
     ]
    },
    {
     "name": "stderr",
     "output_type": "stream",
     "text": [
      "/blue/adamginsburg/abulatek/anaconda/lib/python3.7/site-packages/casa_formats_io-0.1-py3.7-linux-x86_64.egg/casa_formats_io/casa_dask.py:232: RuntimeWarning: divide by zero encountered in long_scalars\n",
      "  factors = [f for f in range(stacks[dim] + 1) if stacks[dim] % f == 0]\n"
     ]
    },
    {
     "name": "stdout",
     "output_type": "stream",
     "text": [
      "DaskVaryingResolutionSpectralCube with shape=(3840, 512, 512) and unit=Jy / beam and chunk size (128, 256, 512):\n",
      " n_x:    512  type_x: RA---SIN  unit_x: deg    range:   266.528130 deg:  266.560501 deg\n",
      " n_y:    512  type_y: DEC--SIN  unit_y: deg    range:   -28.719152 deg:  -28.690763 deg\n",
      " n_s:   3840  type_s: FREQ      unit_s: Hz     range: 138691786338.613 Hz:140566352691.882 Hz\n",
      "(3840, 512, 512)\n",
      "(512, 512)\n",
      "[                                        ] | 0% Completed |  0.1s"
     ]
    },
    {
     "name": "stderr",
     "output_type": "stream",
     "text": [
      "WARNING: StokesWarning: Cube is a Stokes cube, returning spectral cube for I component [spectral_cube.io.core]\n"
     ]
    },
    {
     "name": "stdout",
     "output_type": "stream",
     "text": [
      "[########################################] | 100% Completed | 25.4s\n",
      "[########################################] | 100% Completed | 25.5s\n",
      "[########################################] | 100% Completed | 23.4s\n",
      "[########################################] | 100% Completed | 23.4s\n",
      "60.739176988601685\n",
      "source_ab_99_spw108_dirty.image spectra/source_ab_99_spw108_dirty.max_CROPPED.fits\n",
      "source_ab_99_spw108_dirty.image\n"
     ]
    },
    {
     "name": "stderr",
     "output_type": "stream",
     "text": [
      "/blue/adamginsburg/abulatek/anaconda/lib/python3.7/site-packages/casa_formats_io-0.1-py3.7-linux-x86_64.egg/casa_formats_io/casa_dask.py:232: RuntimeWarning: divide by zero encountered in long_scalars\n",
      "  factors = [f for f in range(stacks[dim] + 1) if stacks[dim] % f == 0]\n"
     ]
    },
    {
     "name": "stdout",
     "output_type": "stream",
     "text": [
      "DaskVaryingResolutionSpectralCube with shape=(1920, 512, 512) and unit=Jy / beam and chunk size (80, 256, 512):\n",
      " n_x:    512  type_x: RA---SIN  unit_x: deg    range:   266.528130 deg:  266.560501 deg\n",
      " n_y:    512  type_y: DEC--SIN  unit_y: deg    range:   -28.719152 deg:  -28.690763 deg\n",
      " n_s:   1920  type_s: FREQ      unit_s: Hz     range: 99424720357.704 Hz:101298491932.779 Hz\n",
      "(1920, 512, 512)\n",
      "(512, 512)\n",
      "[                                        ] | 0% Completed |  0.1s"
     ]
    },
    {
     "name": "stderr",
     "output_type": "stream",
     "text": [
      "WARNING: StokesWarning: Cube is a Stokes cube, returning spectral cube for I component [spectral_cube.io.core]\n"
     ]
    },
    {
     "name": "stdout",
     "output_type": "stream",
     "text": [
      "[########################################] | 100% Completed | 13.7s\n",
      "[########################################] | 100% Completed | 13.8s\n",
      "[########################################] | 100% Completed | 11.3s\n",
      "[########################################] | 100% Completed | 11.4s\n",
      "31.336050510406494\n",
      "source_ab_140_spw109_clean_2sigma_n50000_masked_3sigma_pbmask0p18.image spectra/source_ab_140_spw109_clean_2sigma_n50000_masked_3sigma_pbmask0p18.max_CROPPED.fits\n",
      "source_ab_140_spw109_clean_2sigma_n50000_masked_3sigma_pbmask0p18.image\n"
     ]
    },
    {
     "name": "stderr",
     "output_type": "stream",
     "text": [
      "/blue/adamginsburg/abulatek/anaconda/lib/python3.7/site-packages/casa_formats_io-0.1-py3.7-linux-x86_64.egg/casa_formats_io/casa_dask.py:232: RuntimeWarning: divide by zero encountered in long_scalars\n",
      "  factors = [f for f in range(stacks[dim] + 1) if stacks[dim] % f == 0]\n"
     ]
    },
    {
     "name": "stdout",
     "output_type": "stream",
     "text": [
      "DaskVaryingResolutionSpectralCube with shape=(3840, 512, 512) and unit=Jy / beam and chunk size (128, 256, 512):\n",
      " n_x:    512  type_x: RA---SIN  unit_x: deg    range:   266.528130 deg:  266.560501 deg\n",
      " n_y:    512  type_y: DEC--SIN  unit_y: deg    range:   -28.719152 deg:  -28.690763 deg\n",
      " n_s:   3840  type_s: FREQ      unit_s: Hz     range: 140473070240.166 Hz:142347636353.263 Hz\n",
      "(3840, 512, 512)\n",
      "(512, 512)\n",
      "[                                        ] | 0% Completed |  0.2s"
     ]
    },
    {
     "name": "stderr",
     "output_type": "stream",
     "text": [
      "WARNING: StokesWarning: Cube is a Stokes cube, returning spectral cube for I component [spectral_cube.io.core]\n"
     ]
    },
    {
     "name": "stdout",
     "output_type": "stream",
     "text": [
      "[########################################] | 100% Completed | 25.3s\n",
      "[########################################] | 100% Completed | 25.3s\n",
      "[########################################] | 100% Completed | 26.4s\n",
      "[########################################] | 100% Completed | 26.4s\n",
      "63.602120876312256\n",
      "source_ab_139_spw71_clean_2sigma_n50000_masked_3sigma_pbmask0p18.image spectra/source_ab_139_spw71_clean_2sigma_n50000_masked_3sigma_pbmask0p18.max_CROPPED.fits\n",
      "source_ab_139_spw71_clean_2sigma_n50000_masked_3sigma_pbmask0p18.image\n"
     ]
    },
    {
     "name": "stderr",
     "output_type": "stream",
     "text": [
      "/blue/adamginsburg/abulatek/anaconda/lib/python3.7/site-packages/casa_formats_io-0.1-py3.7-linux-x86_64.egg/casa_formats_io/casa_dask.py:232: RuntimeWarning: divide by zero encountered in long_scalars\n",
      "  factors = [f for f in range(stacks[dim] + 1) if stacks[dim] % f == 0]\n"
     ]
    },
    {
     "name": "stdout",
     "output_type": "stream",
     "text": [
      "DaskVaryingResolutionSpectralCube with shape=(3840, 512, 512) and unit=Jy / beam and chunk size (128, 256, 512):\n",
      " n_x:    512  type_x: RA---SIN  unit_x: deg    range:   266.528130 deg:  266.560501 deg\n",
      " n_y:    512  type_y: DEC--SIN  unit_y: deg    range:   -28.719152 deg:  -28.690763 deg\n",
      " n_s:   3840  type_s: FREQ      unit_s: Hz     range: 138733263658.628 Hz:140607829689.246 Hz\n",
      "(3840, 512, 512)\n",
      "(512, 512)\n",
      "[                                        ] | 0% Completed |  0.1s"
     ]
    },
    {
     "name": "stderr",
     "output_type": "stream",
     "text": [
      "WARNING: StokesWarning: Cube is a Stokes cube, returning spectral cube for I component [spectral_cube.io.core]\n"
     ]
    },
    {
     "name": "stdout",
     "output_type": "stream",
     "text": [
      "[########################################] | 100% Completed | 25.9s\n",
      "[########################################] | 100% Completed | 26.0s\n",
      "[########################################] | 100% Completed | 26.3s\n",
      "[########################################] | 100% Completed | 26.4s\n",
      "64.26328444480896\n",
      "source_ab_138_spw25_clean_2sigma_masked_2sigma.image spectra/source_ab_138_spw25_clean_2sigma_masked_2sigma.max_CROPPED.fits\n",
      "source_ab_138_spw25_clean_2sigma_masked_2sigma.image\n"
     ]
    },
    {
     "name": "stderr",
     "output_type": "stream",
     "text": [
      "/blue/adamginsburg/abulatek/anaconda/lib/python3.7/site-packages/casa_formats_io-0.1-py3.7-linux-x86_64.egg/casa_formats_io/casa_dask.py:232: RuntimeWarning: divide by zero encountered in long_scalars\n",
      "  factors = [f for f in range(stacks[dim] + 1) if stacks[dim] % f == 0]\n"
     ]
    },
    {
     "name": "stdout",
     "output_type": "stream",
     "text": [
      "DaskVaryingResolutionSpectralCube with shape=(3840, 512, 512) and unit=Jy / beam and chunk size (128, 256, 512):\n",
      " n_x:    512  type_x: RA---SIN  unit_x: deg    range:   266.528130 deg:  266.560501 deg\n",
      " n_y:    512  type_y: DEC--SIN  unit_y: deg    range:   -28.719152 deg:  -28.690763 deg\n",
      " n_s:   3840  type_s: FREQ      unit_s: Hz     range: 138691786338.613 Hz:140566352691.882 Hz\n",
      "(3840, 512, 512)\n",
      "(512, 512)\n",
      "[                                        ] | 0% Completed |  0.1s"
     ]
    },
    {
     "name": "stderr",
     "output_type": "stream",
     "text": [
      "WARNING: StokesWarning: Cube is a Stokes cube, returning spectral cube for I component [spectral_cube.io.core]\n"
     ]
    },
    {
     "name": "stdout",
     "output_type": "stream",
     "text": [
      "[########################################] | 100% Completed | 25.6s\n",
      "[########################################] | 100% Completed | 25.7s\n",
      "[########################################] | 100% Completed | 23.2s\n",
      "[########################################] | 100% Completed | 23.3s\n",
      "62.53446698188782\n",
      "source_ab_130_spw105_dirty.image spectra/source_ab_130_spw105_dirty.max_CROPPED.fits\n",
      "source_ab_130_spw105_dirty.image\n"
     ]
    },
    {
     "name": "stderr",
     "output_type": "stream",
     "text": [
      "/blue/adamginsburg/abulatek/anaconda/lib/python3.7/site-packages/casa_formats_io-0.1-py3.7-linux-x86_64.egg/casa_formats_io/casa_dask.py:232: RuntimeWarning: divide by zero encountered in long_scalars\n",
      "  factors = [f for f in range(stacks[dim] + 1) if stacks[dim] % f == 0]\n"
     ]
    },
    {
     "name": "stdout",
     "output_type": "stream",
     "text": [
      "DaskVaryingResolutionSpectralCube with shape=(3840, 512, 512) and unit=Jy / beam and chunk size (128, 256, 512):\n",
      " n_x:    512  type_x: RA---SIN  unit_x: deg    range:   266.528130 deg:  266.560501 deg\n",
      " n_y:    512  type_y: DEC--SIN  unit_y: deg    range:   -28.719152 deg:  -28.690763 deg\n",
      " n_s:   3840  type_s: FREQ      unit_s: Hz     range: 128472722026.468 Hz:130347288139.448 Hz\n",
      "(3840, 512, 512)\n",
      "(512, 512)\n",
      "[                                        ] | 0% Completed |  0.1s"
     ]
    },
    {
     "name": "stderr",
     "output_type": "stream",
     "text": [
      "WARNING: StokesWarning: Cube is a Stokes cube, returning spectral cube for I component [spectral_cube.io.core]\n"
     ]
    },
    {
     "name": "stdout",
     "output_type": "stream",
     "text": [
      "[########################################] | 100% Completed | 24.5s\n",
      "[########################################] | 100% Completed | 24.6s\n",
      "[########################################] | 100% Completed | 23.5s\n",
      "[########################################] | 100% Completed | 23.6s\n",
      "60.13656306266785\n",
      "source_ab_273_spw51_dirty.image spectra/source_ab_273_spw51_dirty.max_CROPPED.fits\n",
      "source_ab_273_spw51_dirty.image\n"
     ]
    },
    {
     "name": "stderr",
     "output_type": "stream",
     "text": [
      "/blue/adamginsburg/abulatek/anaconda/lib/python3.7/site-packages/casa_formats_io-0.1-py3.7-linux-x86_64.egg/casa_formats_io/casa_dask.py:232: RuntimeWarning: divide by zero encountered in long_scalars\n",
      "  factors = [f for f in range(stacks[dim] + 1) if stacks[dim] % f == 0]\n"
     ]
    },
    {
     "name": "stdout",
     "output_type": "stream",
     "text": [
      "DaskVaryingResolutionSpectralCube with shape=(3840, 512, 512) and unit=Jy / beam and chunk size (128, 256, 512):\n",
      " n_x:    512  type_x: RA---SIN  unit_x: deg    range:   266.528130 deg:  266.560501 deg\n",
      " n_y:    512  type_y: DEC--SIN  unit_y: deg    range:   -28.719152 deg:  -28.690763 deg\n",
      " n_s:   3840  type_s: FREQ      unit_s: Hz     range: 273010861630.481 Hz:274885343259.334 Hz\n",
      "(3840, 512, 512)\n",
      "(512, 512)\n",
      "[                                        ] | 0% Completed |  0.2s"
     ]
    },
    {
     "name": "stderr",
     "output_type": "stream",
     "text": [
      "WARNING: StokesWarning: Cube is a Stokes cube, returning spectral cube for I component [spectral_cube.io.core]\n"
     ]
    },
    {
     "name": "stdout",
     "output_type": "stream",
     "text": [
      "[########################################] | 100% Completed | 25.6s\n",
      "[########################################] | 100% Completed | 25.7s\n",
      "[########################################] | 100% Completed | 24.6s\n",
      "[########################################] | 100% Completed | 24.7s\n",
      "64.03021907806396\n",
      "source_ab_268_spw89_clean_2sigma_n50000_masked_3sigma_pbmask0p18.image spectra/source_ab_268_spw89_clean_2sigma_n50000_masked_3sigma_pbmask0p18.max_CROPPED.fits\n",
      "source_ab_268_spw89_clean_2sigma_n50000_masked_3sigma_pbmask0p18.image\n"
     ]
    },
    {
     "name": "stderr",
     "output_type": "stream",
     "text": [
      "/blue/adamginsburg/abulatek/anaconda/lib/python3.7/site-packages/casa_formats_io-0.1-py3.7-linux-x86_64.egg/casa_formats_io/casa_dask.py:232: RuntimeWarning: divide by zero encountered in long_scalars\n",
      "  factors = [f for f in range(stacks[dim] + 1) if stacks[dim] % f == 0]\n"
     ]
    },
    {
     "name": "stdout",
     "output_type": "stream",
     "text": [
      "DaskVaryingResolutionSpectralCube with shape=(3840, 512, 512) and unit=Jy / beam and chunk size (128, 256, 512):\n",
      " n_x:    512  type_x: RA---SIN  unit_x: deg    range:   266.528130 deg:  266.560501 deg\n",
      " n_y:    512  type_y: DEC--SIN  unit_y: deg    range:   -28.719152 deg:  -28.690763 deg\n",
      " n_s:   3840  type_s: FREQ      unit_s: Hz     range: 267901562851.931 Hz:269776044440.248 Hz\n",
      "(3840, 512, 512)\n",
      "(512, 512)\n",
      "[                                        ] | 0% Completed |  0.1s"
     ]
    },
    {
     "name": "stderr",
     "output_type": "stream",
     "text": [
      "WARNING: StokesWarning: Cube is a Stokes cube, returning spectral cube for I component [spectral_cube.io.core]\n"
     ]
    },
    {
     "name": "stdout",
     "output_type": "stream",
     "text": [
      "[########################################] | 100% Completed | 25.5s\n",
      "[########################################] | 100% Completed | 25.6s\n",
      "[########################################] | 100% Completed | 26.4s\n",
      "[########################################] | 100% Completed | 26.5s\n",
      "63.99330711364746\n",
      "source_ab_134_spw45_dirty.image spectra/source_ab_134_spw45_dirty.max_CROPPED.fits\n",
      "source_ab_134_spw45_dirty.image\n"
     ]
    },
    {
     "name": "stderr",
     "output_type": "stream",
     "text": [
      "/blue/adamginsburg/abulatek/anaconda/lib/python3.7/site-packages/casa_formats_io-0.1-py3.7-linux-x86_64.egg/casa_formats_io/casa_dask.py:232: RuntimeWarning: divide by zero encountered in long_scalars\n",
      "  factors = [f for f in range(stacks[dim] + 1) if stacks[dim] % f == 0]\n"
     ]
    },
    {
     "name": "stdout",
     "output_type": "stream",
     "text": [
      "DaskVaryingResolutionSpectralCube with shape=(3840, 512, 512) and unit=Jy / beam and chunk size (128, 256, 512):\n",
      " n_x:    512  type_x: RA---SIN  unit_x: deg    range:   266.528130 deg:  266.560501 deg\n",
      " n_y:    512  type_y: DEC--SIN  unit_y: deg    range:   -28.719152 deg:  -28.690763 deg\n",
      " n_s:   3840  type_s: FREQ      unit_s: Hz     range: 131879076591.442 Hz:133753642785.728 Hz\n",
      "(3840, 512, 512)\n",
      "(512, 512)\n",
      "[                                        ] | 0% Completed |  0.1s"
     ]
    },
    {
     "name": "stderr",
     "output_type": "stream",
     "text": [
      "WARNING: StokesWarning: Cube is a Stokes cube, returning spectral cube for I component [spectral_cube.io.core]\n"
     ]
    },
    {
     "name": "stdout",
     "output_type": "stream",
     "text": [
      "[########################################] | 100% Completed | 15.5s\n",
      "[########################################] | 100% Completed | 15.6s\n",
      "[########################################] | 100% Completed | 14.7s\n",
      "[########################################] | 100% Completed | 14.8s\n",
      "41.99548149108887\n"
     ]
    }
   ],
   "source": [
    "# Stolen partially from makemask.py; mask cubes and extract spectra\n",
    "import time\n",
    "import os\n",
    "from spectral_cube.dask_spectral_cube import DaskSpectralCube\n",
    "\n",
    "os.chdir(\"/blue/adamginsburg/abulatek/brick/symlinks/imaging_results/\")\n",
    "print(os.getcwd())\n",
    "\n",
    "for suffix in (\"image.pbcor.fits\", \"image\"):\n",
    "    for fn in glob.glob(f\"source_ab*{suffix}\"):\n",
    "        t0 = time.time()\n",
    "        outf_ = fn.replace(suffix,\"max_CROPPED.fits\")\n",
    "        outfn = f'spectra/{outf_}'\n",
    "        print(fn, outfn)\n",
    "        if not os.path.exists(outfn):\n",
    "            if not dask:\n",
    "                cube = SpectralCube.read(fn)\n",
    "                print(cube)\n",
    "                cube_masked = cube.with_mask(mask)\n",
    "                mxspec = cube_masked.max(axis=(1,2), how='slice', progressbar=True)\n",
    "                meanspec = cube_masked.mean(axis=(1,2), how='slice', progressbar=True)\n",
    "                \n",
    "            else:\n",
    "                print(fn)\n",
    "                cube = DaskSpectralCube.read(fn.replace(\".fits\", \"\"), format='casa_image')\n",
    "                print(cube)\n",
    "                print(cube.shape)\n",
    "                print(mask.shape)\n",
    "                cube_masked = cube.with_mask(mask)\n",
    "                mxspec = cube_masked.max(axis=(1,2))\n",
    "                meanspec = cube_masked.mean(axis=(1,2))\n",
    "\n",
    "            mxspec.write(outfn, overwrite=True)\n",
    "            meanspec.write(outfn.replace(\"max\", \"mean\"))\n",
    "            print(time.time() - t0)"
   ]
  },
  {
   "cell_type": "code",
   "execution_count": null,
   "metadata": {},
   "outputs": [],
   "source": []
  }
 ],
 "metadata": {
  "kernelspec": {
   "display_name": "Python 3 (ipykernel)",
   "language": "python",
   "name": "python3"
  },
  "language_info": {
   "codemirror_mode": {
    "name": "ipython",
    "version": 3
   },
   "file_extension": ".py",
   "mimetype": "text/x-python",
   "name": "python",
   "nbconvert_exporter": "python",
   "pygments_lexer": "ipython3",
   "version": "3.9.13"
  }
 },
 "nbformat": 4,
 "nbformat_minor": 4
}
