{
 "cells": [
  {
   "cell_type": "markdown",
   "metadata": {},
   "source": [
    "# Cube Reprojection and Signal Masking Tutorial\n",
    "\n",
    "This tutorial shows how to take two spectral cubes observed toward the same part of the sky, but different frequencies, and put them onto the same grid. Then, we use one spectral cube to mask the other, which is helpful for situations where the velocity structure of one cube is more complicated than the other."
   ]
  },
  {
   "cell_type": "markdown",
   "metadata": {},
   "source": [
    "## Index \n",
    "\n",
    " * [Step 1: Download](#Step-1:-Download-the-data)\n",
    " * [Step 2: Open files, collect metadata](#Step-2:-Load-the-cubes)\n",
    " * [Step 3: Convert to velocity](#Step-3:-Convert-cubes-from-frequency-to-velocity)\n",
    " * [Step 4: Spectral Interpolation](#Step-4.-Spectral-Interpolation)\n",
    " * [Step 5: Spatial Smoothing](#Step-5.-Spatial-Smoothing)\n",
    " * [Step 6: Reprojection](#Step-6.-Reprojection)\n",
    " * [Step 7: Signal Masking](#Step-7.-Signal-Masking)\n",
    " * [Step 8: Masking Outliers](#Step-8.-Masking-Outliers)\n",
    " \n",
    " \n",
    "In this example, we do spectral smoothing and interpolation (step 4) before spatial smoothing and interpolation (step 5), but if you have a varying-resolution cube (with a different beam size for each channel), you have to do spatial smoothing first."
   ]
  },
  {
   "cell_type": "markdown",
   "metadata": {},
   "source": [
    "## Step 1: Download the data\n",
    "\n",
    "(you might not have to do this step, since you may already have data)"
   ]
  },
  {
   "cell_type": "code",
   "execution_count": 1,
   "metadata": {},
   "outputs": [],
   "source": [
    "import numpy as np\n",
    "from astropy.utils.data import download_file"
   ]
  },
  {
   "cell_type": "code",
   "execution_count": 2,
   "metadata": {},
   "outputs": [
    {
     "data": {
      "text/plain": [
       "'/home/abulatek/.astropy/cache/download/url/33718a6f64d8a437fe89bff80278ca22/contents'"
      ]
     },
     "execution_count": 2,
     "metadata": {},
     "output_type": "execute_result"
    }
   ],
   "source": [
    "filename_1 = download_file(\"https://almascience.nrao.edu/dataPortal/member.uid___A001_X1465_X3a33.BrickMaser_sci.spw71.cube.I.manual.image.pbcor.fits\",\n",
    "                           cache=True)\n",
    "filename_1"
   ]
  },
  {
   "cell_type": "code",
   "execution_count": 3,
   "metadata": {},
   "outputs": [
    {
     "data": {
      "text/plain": [
       "'/home/abulatek/.astropy/cache/download/url/391fb3a562ec7b94842f7b6e2a55c67e/contents'"
      ]
     },
     "execution_count": 3,
     "metadata": {},
     "output_type": "execute_result"
    }
   ],
   "source": [
    "filename_2 = download_file(\"https://almascience.nrao.edu/dataPortal/member.uid___A001_X87d_X141.a_sma1_sci.spw27.cube.I.pbcor.fits\",\n",
    "                          cache=True)\n",
    "filename_2"
   ]
  },
  {
   "cell_type": "markdown",
   "metadata": {},
   "source": [
    "## Step 2: Load the cubes"
   ]
  },
  {
   "cell_type": "code",
   "execution_count": 4,
   "metadata": {},
   "outputs": [],
   "source": [
    "from spectral_cube import SpectralCube"
   ]
  },
  {
   "cell_type": "code",
   "execution_count": 5,
   "metadata": {},
   "outputs": [
    {
     "name": "stderr",
     "output_type": "stream",
     "text": [
      "WARNING: StokesWarning: Cube is a Stokes cube, returning spectral cube for I component [spectral_cube.io.core]\n"
     ]
    },
    {
     "data": {
      "text/plain": [
       "SpectralCube with shape=(75, 250, 250) and unit=Jy / beam:\n",
       " n_x:    250  type_x: RA---SIN  unit_x: deg    range:   266.534072 deg:  266.554577 deg\n",
       " n_y:    250  type_y: DEC--SIN  unit_y: deg    range:   -28.713958 deg:  -28.695975 deg\n",
       " n_s:     75  type_s: FREQ      unit_s: Hz     range: 139434992275.503 Hz:139503942362.300 Hz"
      ]
     },
     "execution_count": 5,
     "metadata": {},
     "output_type": "execute_result"
    }
   ],
   "source": [
    "cube1 = SpectralCube.read(filename_1)\n",
    "cube1"
   ]
  },
  {
   "cell_type": "code",
   "execution_count": 6,
   "metadata": {},
   "outputs": [
    {
     "name": "stderr",
     "output_type": "stream",
     "text": [
      "WARNING: StokesWarning: Cube is a Stokes cube, returning spectral cube for I component [spectral_cube.io.core]\n"
     ]
    },
    {
     "data": {
      "text/plain": [
       "SpectralCube with shape=(478, 420, 420) and unit=Jy / beam:\n",
       " n_x:    420  type_x: RA---SIN  unit_x: deg    range:   266.537002 deg:  266.551600 deg\n",
       " n_y:    420  type_y: DEC--SIN  unit_y: deg    range:   -28.711371 deg:  -28.698569 deg\n",
       " n_s:    478  type_s: FREQ      unit_s: Hz     range: 216957714464.027 Hz:217190639088.700 Hz"
      ]
     },
     "execution_count": 6,
     "metadata": {},
     "output_type": "execute_result"
    }
   ],
   "source": [
    "cube2 = SpectralCube.read(filename_2)\n",
    "cube2"
   ]
  },
  {
   "cell_type": "markdown",
   "metadata": {},
   "source": [
    "The cubes are at different frequencies - 139 and 89 GHz.\n",
    "\n",
    "The first cube covers the H2CS 4(1,3)-3(1,2) line at 139.483699\tGHz.\n",
    "\n",
    "The second covers SiO v=5-4 at 217.104984 GHz"
   ]
  },
  {
   "cell_type": "code",
   "execution_count": 7,
   "metadata": {},
   "outputs": [
    {
     "name": "stderr",
     "output_type": "stream",
     "text": [
      "WARNING: ExperimentalImplementationWarning: The line-finding routine is experimental.  Please report bugs on the Issues page: https://github.com/radio-astro-tools/spectral-cube/issues [spectral_cube.spectral_cube]\n"
     ]
    },
    {
     "data": {
      "text/html": [
       "<i>Table length=4</i>\n",
       "<table id=\"table47086075943792-550947\" class=\"table-striped table-bordered table-condensed\">\n",
       "<thead><tr><th>idx</th><th>Species</th><th>Chemical Name</th><th>Freq-GHz(rest frame,redshifted)</th><th>Freq Err(rest frame,redshifted)</th><th>Meas Freq-GHz(rest frame,redshifted)</th><th>Meas Freq Err(rest frame,redshifted)</th><th>Resolved QNs</th><th>CDMS/JPL Intensity</th><th>S&lt;sub&gt;ij&lt;/sub&gt;&amp;#956;&lt;sup&gt;2&lt;/sup&gt; (D&lt;sup&gt;2&lt;/sup&gt;)</th><th>S&lt;sub&gt;ij&lt;/sub&gt;</th><th>Log&lt;sub&gt;10&lt;/sub&gt; (A&lt;sub&gt;ij&lt;/sub&gt;)</th><th>Lovas/AST Intensity</th><th>E_L (cm^-1)</th><th>E_L (K)</th><th>E_U (cm^-1)</th><th>E_U (K)</th><th>Linelist</th></tr></thead>\n",
       "<tr><td>0</td><td>H2CS</td><td>Thioformaldehyde</td><td>--</td><td>--</td><td>139.48341</td><td>0.00028</td><td>4(1,3)-3(1,2)</td><td>-3.2185</td><td>30.51674</td><td>11.223</td><td>-4.44732</td><td>0.17</td><td>16.1465</td><td>23.23108</td><td>20.79917</td><td>29.92519</td><td>JPL</td></tr>\n",
       "<tr><td>1</td><td>H2CS</td><td>Thioformaldehyde</td><td>--</td><td>--</td><td>139.4836816</td><td>5e-05</td><td>4(1,3)-3(1,2)</td><td>-3.2182</td><td>30.59661</td><td>11.251</td><td>-4.44619</td><td>--</td><td>16.1329</td><td>23.21151</td><td>20.78557</td><td>29.90563</td><td>CDMS</td></tr>\n",
       "<tr><td>2</td><td>H2CS</td><td>Thioformaldehyde</td><td>139.483699</td><td>1.7e-05</td><td>139.483741</td><td>2.4e-05</td><td>4(1,3)-3(1,2)</td><td>0.0</td><td>30.59472</td><td>3.75</td><td>-3.94426</td><td>0.17</td><td>16.133</td><td>23.21165</td><td>20.78568</td><td>29.90578</td><td>SLAIM</td></tr>\n",
       "<tr><td>3</td><td>H2CS</td><td>Thioformaldehyde</td><td>139.483699</td><td>1.7e-05</td><td>--</td><td>--</td><td>4(1,3)-3(1,2)</td><td>0.0</td><td>0.0</td><td>0.0</td><td>0.0</td><td>0.17</td><td>0.0</td><td>0.0</td><td>0.0</td><td>0.0</td><td>Lovas</td></tr>\n",
       "</table><style>table.dataTable {clear: both; width: auto !important; margin: 0 !important;}\n",
       ".dataTables_info, .dataTables_length, .dataTables_filter, .dataTables_paginate{\n",
       "display: inline-block; margin-right: 1em; }\n",
       ".paginate_button { margin-right: 5px; }\n",
       "</style>\n",
       "<script>\n",
       "\n",
       "var astropy_sort_num = function(a, b) {\n",
       "    var a_num = parseFloat(a);\n",
       "    var b_num = parseFloat(b);\n",
       "\n",
       "    if (isNaN(a_num) && isNaN(b_num))\n",
       "        return ((a < b) ? -1 : ((a > b) ? 1 : 0));\n",
       "    else if (!isNaN(a_num) && !isNaN(b_num))\n",
       "        return ((a_num < b_num) ? -1 : ((a_num > b_num) ? 1 : 0));\n",
       "    else\n",
       "        return isNaN(a_num) ? -1 : 1;\n",
       "}\n",
       "\n",
       "require.config({paths: {\n",
       "    datatables: 'https://cdn.datatables.net/1.10.12/js/jquery.dataTables.min'\n",
       "}});\n",
       "require([\"datatables\"], function(){\n",
       "    console.log(\"$('#table47086075943792-550947').dataTable()\");\n",
       "    \n",
       "jQuery.extend( jQuery.fn.dataTableExt.oSort, {\n",
       "    \"optionalnum-asc\": astropy_sort_num,\n",
       "    \"optionalnum-desc\": function (a,b) { return -astropy_sort_num(a, b); }\n",
       "});\n",
       "\n",
       "    $('#table47086075943792-550947').dataTable({\n",
       "        order: [],\n",
       "        pageLength: 50,\n",
       "        lengthMenu: [[10, 25, 50, 100, 500, 1000, -1], [10, 25, 50, 100, 500, 1000, 'All']],\n",
       "        pagingType: \"full_numbers\",\n",
       "        columnDefs: [{targets: [0, 3, 4, 5, 6, 8, 9, 10, 11, 12, 13, 14, 15, 16], type: \"optionalnum\"}]\n",
       "    });\n",
       "});\n",
       "</script>\n"
      ],
      "text/plain": [
       "<IPython.core.display.HTML object>"
      ]
     },
     "execution_count": 7,
     "metadata": {},
     "output_type": "execute_result"
    }
   ],
   "source": [
    "cube1.find_lines(chemical_name=' H2CS ').show_in_notebook()"
   ]
  },
  {
   "cell_type": "code",
   "execution_count": 8,
   "metadata": {},
   "outputs": [
    {
     "name": "stderr",
     "output_type": "stream",
     "text": [
      "WARNING: ExperimentalImplementationWarning: The line-finding routine is experimental.  Please report bugs on the Issues page: https://github.com/radio-astro-tools/spectral-cube/issues [spectral_cube.spectral_cube]\n"
     ]
    },
    {
     "data": {
      "text/html": [
       "<i>Table length=6</i>\n",
       "<table id=\"table47086075944576-612211\" class=\"table-striped table-bordered table-condensed\">\n",
       "<thead><tr><th>idx</th><th>Species</th><th>Chemical Name</th><th>Freq-GHz(rest frame,redshifted)</th><th>Freq Err(rest frame,redshifted)</th><th>Meas Freq-GHz(rest frame,redshifted)</th><th>Meas Freq Err(rest frame,redshifted)</th><th>Resolved QNs</th><th>CDMS/JPL Intensity</th><th>S&lt;sub&gt;ij&lt;/sub&gt;&amp;#956;&lt;sup&gt;2&lt;/sup&gt; (D&lt;sup&gt;2&lt;/sup&gt;)</th><th>S&lt;sub&gt;ij&lt;/sub&gt;</th><th>Log&lt;sub&gt;10&lt;/sub&gt; (A&lt;sub&gt;ij&lt;/sub&gt;)</th><th>Lovas/AST Intensity</th><th>E_L (cm^-1)</th><th>E_L (K)</th><th>E_U (cm^-1)</th><th>E_U (K)</th><th>Linelist</th></tr></thead>\n",
       "<tr><td>0</td><td>SiO,v=0-10</td><td>Silicon monoxide (global fit)</td><td>--</td><td>--</td><td>217.104919</td><td>2e-06</td><td>J=5-4,v=0-0</td><td>-1.3211</td><td>47.9909</td><td>0.0</td><td>-3.28429</td><td>--</td><td>14.4843</td><td>20.83981</td><td>21.72614</td><td>31.25927</td><td>CDMS</td></tr>\n",
       "<tr><td>1</td><td>SiOv=0</td><td>Silicon Monoxide</td><td>--</td><td>--</td><td>217.10498</td><td>8e-05</td><td>5-4</td><td>-1.3211</td><td>47.99147</td><td>5.0</td><td>-3.28429</td><td>1.6</td><td>14.4843</td><td>20.83956</td><td>21.72614</td><td>31.25889</td><td>CDMS</td></tr>\n",
       "<tr><td>2</td><td>SiOv=0</td><td>Silicon Monoxide</td><td>--</td><td>--</td><td>217.10498</td><td>5e-05</td><td>5-4</td><td>-1.3199</td><td>47.9911</td><td>5.0</td><td>-3.28429</td><td>1.6</td><td>14.4843</td><td>20.83956</td><td>21.72614</td><td>31.25889</td><td>CDMS</td></tr>\n",
       "<tr><td>3</td><td>SiOv=0</td><td>Silicon Monoxide</td><td>--</td><td>--</td><td>217.10498</td><td>8e-05</td><td>5-4</td><td>-1.3166</td><td>48.14651</td><td>5.0</td><td>-3.28288</td><td>1.6</td><td>14.4843</td><td>20.83956</td><td>21.72614</td><td>31.25889</td><td>JPL</td></tr>\n",
       "<tr><td>4</td><td>SiOv=0</td><td>Silicon Monoxide</td><td>217.104984</td><td>1.4e-05</td><td>--</td><td>--</td><td>5-4</td><td>0.0</td><td>0.0</td><td>0.0</td><td>0.0</td><td>1.6</td><td>0.0</td><td>0.0</td><td>0.0</td><td>0.0</td><td>Lovas</td></tr>\n",
       "<tr><td>5</td><td>SiOv=0</td><td>Silicon Monoxide</td><td>217.104984</td><td>1.4e-05</td><td>217.10498</td><td>0.0001</td><td>5-4</td><td>0.0</td><td>47.6849</td><td>5.0</td><td>-3.28706</td><td>--</td><td>14.484</td><td>20.83913</td><td>21.72584</td><td>31.25846</td><td>SLAIM</td></tr>\n",
       "</table><style>table.dataTable {clear: both; width: auto !important; margin: 0 !important;}\n",
       ".dataTables_info, .dataTables_length, .dataTables_filter, .dataTables_paginate{\n",
       "display: inline-block; margin-right: 1em; }\n",
       ".paginate_button { margin-right: 5px; }\n",
       "</style>\n",
       "<script>\n",
       "\n",
       "var astropy_sort_num = function(a, b) {\n",
       "    var a_num = parseFloat(a);\n",
       "    var b_num = parseFloat(b);\n",
       "\n",
       "    if (isNaN(a_num) && isNaN(b_num))\n",
       "        return ((a < b) ? -1 : ((a > b) ? 1 : 0));\n",
       "    else if (!isNaN(a_num) && !isNaN(b_num))\n",
       "        return ((a_num < b_num) ? -1 : ((a_num > b_num) ? 1 : 0));\n",
       "    else\n",
       "        return isNaN(a_num) ? -1 : 1;\n",
       "}\n",
       "\n",
       "require.config({paths: {\n",
       "    datatables: 'https://cdn.datatables.net/1.10.12/js/jquery.dataTables.min'\n",
       "}});\n",
       "require([\"datatables\"], function(){\n",
       "    console.log(\"$('#table47086075944576-612211').dataTable()\");\n",
       "    \n",
       "jQuery.extend( jQuery.fn.dataTableExt.oSort, {\n",
       "    \"optionalnum-asc\": astropy_sort_num,\n",
       "    \"optionalnum-desc\": function (a,b) { return -astropy_sort_num(a, b); }\n",
       "});\n",
       "\n",
       "    $('#table47086075944576-612211').dataTable({\n",
       "        order: [],\n",
       "        pageLength: 50,\n",
       "        lengthMenu: [[10, 25, 50, 100, 500, 1000, -1], [10, 25, 50, 100, 500, 1000, 'All']],\n",
       "        pagingType: \"full_numbers\",\n",
       "        columnDefs: [{targets: [0, 3, 4, 5, 6, 8, 9, 10, 11, 12, 13, 14, 15, 16], type: \"optionalnum\"}]\n",
       "    });\n",
       "});\n",
       "</script>\n"
      ],
      "text/plain": [
       "<IPython.core.display.HTML object>"
      ]
     },
     "execution_count": 8,
     "metadata": {},
     "output_type": "execute_result"
    }
   ],
   "source": [
    "cube2.find_lines(chemical_name='SiO').show_in_notebook()"
   ]
  },
  {
   "cell_type": "markdown",
   "metadata": {},
   "source": [
    "## Step 3: Convert cubes from frequency to velocity"
   ]
  },
  {
   "cell_type": "code",
   "execution_count": 9,
   "metadata": {},
   "outputs": [],
   "source": [
    "from astropy import units as u"
   ]
  },
  {
   "cell_type": "code",
   "execution_count": 10,
   "metadata": {},
   "outputs": [
    {
     "data": {
      "text/plain": [
       "['/blue/adamginsburg/abulatek/spectral-cube/spectral_cube']"
      ]
     },
     "execution_count": 10,
     "metadata": {},
     "output_type": "execute_result"
    }
   ],
   "source": [
    "from spectral_cube import SpectralCube\n",
    "import spectral_cube\n",
    "spectral_cube.__version__\n",
    "spectral_cube.__path__"
   ]
  },
  {
   "cell_type": "code",
   "execution_count": 11,
   "metadata": {},
   "outputs": [
    {
     "data": {
      "text/plain": [
       "SpectralCube with shape=(75, 250, 250) and unit=Jy / beam:\n",
       " n_x:    250  type_x: RA---SIN  unit_x: deg    range:   266.534072 deg:  266.554577 deg\n",
       " n_y:    250  type_y: DEC--SIN  unit_y: deg    range:   -28.713958 deg:  -28.695975 deg\n",
       " n_s:     75  type_s: VRAD      unit_s: km / s  range:      -43.509 km / s:     104.685 km / s"
      ]
     },
     "execution_count": 11,
     "metadata": {},
     "output_type": "execute_result"
    }
   ],
   "source": [
    "cube1vel = cube1.with_spectral_unit(u.km/u.s, velocity_convention='radio', rest_value=139.483699*u.GHz)\n",
    "cube1vel"
   ]
  },
  {
   "cell_type": "code",
   "execution_count": 12,
   "metadata": {},
   "outputs": [
    {
     "data": {
      "text/plain": [
       "SpectralCube with shape=(478, 420, 420) and unit=Jy / beam:\n",
       " n_x:    420  type_x: RA---SIN  unit_x: deg    range:   266.537002 deg:  266.551600 deg\n",
       " n_y:    420  type_y: DEC--SIN  unit_y: deg    range:   -28.711371 deg:  -28.698569 deg\n",
       " n_s:    478  type_s: VRAD      unit_s: km / s  range:     -118.278 km / s:     203.359 km / s"
      ]
     },
     "execution_count": 12,
     "metadata": {},
     "output_type": "execute_result"
    }
   ],
   "source": [
    "cube2vel = cube2.with_spectral_unit(u.km/u.s, velocity_convention='radio', rest_value=217.104984*u.GHz)\n",
    "cube2vel"
   ]
  },
  {
   "cell_type": "markdown",
   "metadata": {},
   "source": [
    "From the shape of the cube, we can see the H2CS cube is narrower in velocity, so we'll use that as the target spectral reprojection (otherwise, we would have empty velocity channels on either side of the smaller cube that would be getting reprojected).  However, the SiO cube is the smaller footprint on the sky."
   ]
  },
  {
   "cell_type": "markdown",
   "metadata": {},
   "source": [
    "### Do some quicklooks of the peak intensity to see what we expect to see:"
   ]
  },
  {
   "cell_type": "code",
   "execution_count": 13,
   "metadata": {},
   "outputs": [
    {
     "name": "stderr",
     "output_type": "stream",
     "text": [
      "WARNING: PossiblySlowWarning: This function (<function BaseSpectralCube.max at 0x2ad2fedd49d8>) requires loading the entire cube into memory and may therefore be slow. [spectral_cube.utils]\n",
      "/blue/adamginsburg/abulatek/spectral-cube/spectral_cube/spectral_cube.py:443: RuntimeWarning: All-NaN slice encountered\n",
      "  **kwargs)\n"
     ]
    }
   ],
   "source": [
    "cube1.max(axis=0).quicklook()"
   ]
  },
  {
   "cell_type": "code",
   "execution_count": 14,
   "metadata": {},
   "outputs": [
    {
     "name": "stderr",
     "output_type": "stream",
     "text": [
      "WARNING: PossiblySlowWarning: This function (<function BaseSpectralCube.max at 0x2ad2fedd49d8>) requires loading the entire cube into memory and may therefore be slow. [spectral_cube.utils]\n",
      "/blue/adamginsburg/abulatek/spectral-cube/spectral_cube/spectral_cube.py:443: RuntimeWarning: All-NaN slice encountered\n",
      "  **kwargs)\n"
     ]
    },
    {
     "data": {
      "image/png": "[encoded data removed]",
      "text/plain": [
       "<Figure size 432x288 with 1 Axes>"
      ]
     },
     "metadata": {
      "needs_background": "light"
     },
     "output_type": "display_data"
    }
   ],
   "source": [
    "cube2.max(axis=0).quicklook()"
   ]
  },
  {
   "cell_type": "markdown",
   "metadata": {},
   "source": [
    "# Step 4. Spectral Interpolation\n",
    "\n",
    "We can do the spatial or spectral step first.  In this case, we choose spectral.\n",
    "\n",
    "We need to match resolution:"
   ]
  },
  {
   "cell_type": "code",
   "execution_count": 15,
   "metadata": {},
   "outputs": [
    {
     "data": {
      "text/plain": [
       "(<Quantity 2.00262828 km / s>, <Quantity 0.67429189 km / s>)"
      ]
     },
     "execution_count": 15,
     "metadata": {},
     "output_type": "execute_result"
    }
   ],
   "source": [
    "velocity_res_1 = np.diff(cube1vel.spectral_axis)[0]\n",
    "velocity_res_2 = np.diff(cube2vel.spectral_axis)[0]\n",
    "velocity_res_1, velocity_res_2"
   ]
  },
  {
   "cell_type": "markdown",
   "metadata": {},
   "source": [
    "Cube1, our H2CS cube, has broader channels.  We want to smooth cube2 to that channel width before doing the spatial reprojection.\n",
    "\n",
    "To do this, we'll smooth with a Gaussian with an appropriate FWHM:"
   ]
  },
  {
   "cell_type": "code",
   "execution_count": 16,
   "metadata": {},
   "outputs": [
    {
     "data": {
      "text/latex": [
       "$1.8856963 \\; \\mathrm{\\frac{km}{s}}$"
      ],
      "text/plain": [
       "<Quantity 1.88569628 km / s>"
      ]
     },
     "execution_count": 16,
     "metadata": {},
     "output_type": "execute_result"
    }
   ],
   "source": [
    "fwhm_gaussian = (velocity_res_1**2 - velocity_res_2**2)**0.5\n",
    "fwhm_gaussian"
   ]
  },
  {
   "cell_type": "code",
   "execution_count": 17,
   "metadata": {},
   "outputs": [],
   "source": [
    "from astropy.convolution import Gaussian1DKernel\n",
    "fwhm_to_sigma = np.sqrt(8*np.log(2))\n",
    "# we want the kernel in pixel units, so we force to km/s and take the value\n",
    "spectral_smoothing_kernel = Gaussian1DKernel(stddev=fwhm_gaussian.to(u.km/u.s).value / fwhm_to_sigma)"
   ]
  },
  {
   "cell_type": "markdown",
   "metadata": {},
   "source": [
    "Then, let's cut down to the same spectral coverage:"
   ]
  },
  {
   "cell_type": "code",
   "execution_count": 18,
   "metadata": {},
   "outputs": [
    {
     "data": {
      "text/plain": [
       "(SpectralCube with shape=(75, 250, 250) and unit=Jy / beam:\n",
       "  n_x:    250  type_x: RA---SIN  unit_x: deg    range:   266.534072 deg:  266.554577 deg\n",
       "  n_y:    250  type_y: DEC--SIN  unit_y: deg    range:   -28.713958 deg:  -28.695975 deg\n",
       "  n_s:     75  type_s: VRAD      unit_s: km / s  range:      -43.509 km / s:     104.685 km / s,\n",
       " SpectralCube with shape=(221, 420, 420) and unit=Jy / beam:\n",
       "  n_x:    420  type_x: RA---SIN  unit_x: deg    range:   266.537002 deg:  266.551600 deg\n",
       "  n_y:    420  type_y: DEC--SIN  unit_y: deg    range:   -28.711371 deg:  -28.698569 deg\n",
       "  n_s:    221  type_s: VRAD      unit_s: km / s  range:      -43.432 km / s:     104.913 km / s)"
      ]
     },
     "execution_count": 18,
     "metadata": {},
     "output_type": "execute_result"
    }
   ],
   "source": [
    "cube2vel_cutout = cube2vel.spectral_slab(cube1vel.spectral_axis.min(), cube1vel.spectral_axis.max())\n",
    "cube1vel, cube2vel_cutout"
   ]
  },
  {
   "cell_type": "markdown",
   "metadata": {},
   "source": [
    "We then smooth with the kernel.  Note that this is doing 420x420 = 176400 smoothing operations on a length-221 spectrum: it will take a little time"
   ]
  },
  {
   "cell_type": "code",
   "execution_count": 19,
   "metadata": {},
   "outputs": [
    {
     "name": "stderr",
     "output_type": "stream",
     "text": [
      "WARNING: nan_treatment='interpolate', however, NaN values detected post convolution. A contiguous region of NaN values, larger than the kernel size, are present in the input array. Increase the kernel size to avoid this. [astropy.convolution.convolve]\n"
     ]
    }
   ],
   "source": [
    "cube2vel_smooth = cube2vel_cutout.spectral_smooth(spectral_smoothing_kernel)"
   ]
  },
  {
   "cell_type": "markdown",
   "metadata": {},
   "source": [
    "Now that we've done spectral smoothing, we can resample the spectrum:"
   ]
  },
  {
   "cell_type": "code",
   "execution_count": 20,
   "metadata": {},
   "outputs": [
    {
     "name": "stderr",
     "output_type": "stream",
     "text": [
      "WARNING: SmoothingWarning: Input grid has too small a spacing. The data should be smoothed prior to resampling. [spectral_cube.spectral_cube]\n"
     ]
    },
    {
     "data": {
      "text/plain": [
       "SpectralCube with shape=(75, 420, 420) and unit=Jy / beam:\n",
       " n_x:    420  type_x: RA---SIN  unit_x: deg    range:   266.537002 deg:  266.551600 deg\n",
       " n_y:    420  type_y: DEC--SIN  unit_y: deg    range:   -28.711371 deg:  -28.698569 deg\n",
       " n_s:     75  type_s: VRAD      unit_s: km / s  range:      -43.509 km / s:     104.685 km / s"
      ]
     },
     "execution_count": 20,
     "metadata": {},
     "output_type": "execute_result"
    }
   ],
   "source": [
    "cube2vel_spectralresample = cube2vel_smooth.spectral_interpolate(cube1vel.spectral_axis)\n",
    "cube2vel_spectralresample"
   ]
  },
  {
   "cell_type": "markdown",
   "metadata": {},
   "source": [
    "# Step 5. Spatial Smoothing"
   ]
  },
  {
   "cell_type": "markdown",
   "metadata": {},
   "source": [
    "Now that we've done spectral smoothing, we have to spatially smooth, because we're going to resample the data spatially too"
   ]
  },
  {
   "cell_type": "code",
   "execution_count": 21,
   "metadata": {},
   "outputs": [
    {
     "data": {
      "text/plain": [
       "(Beam: BMAJ=1.29719604986604 arcsec BMIN=1.04247149438736 arcsec BPA=82.95313553702 deg,\n",
       " Beam: BMAJ=0.8935712308515601 arcsec BMIN=0.6649610689789199 arcsec BPA=85.81119797802 deg)"
      ]
     },
     "execution_count": 21,
     "metadata": {},
     "output_type": "execute_result"
    }
   ],
   "source": [
    "cube1vel.beam, cube2vel_spectralresample.beam"
   ]
  },
  {
   "cell_type": "markdown",
   "metadata": {},
   "source": [
    "cube1 again has the larger beam, so we'll smooth cube2 to its resolution"
   ]
  },
  {
   "cell_type": "markdown",
   "metadata": {},
   "source": [
    "#### Aside: mixed beams \n",
    "\n",
    "If cube1 and cube2 had different sized beams, but neither was clearly larger, we would have to convolve _both_ to a [common beam](https://radio-beam.readthedocs.io/en/latest/commonbeam.html#finding-the-smallest-common-beam).\n",
    "\n",
    "In this case, it's redundant and we could have just used cube1's beam, but this is the more general approach:"
   ]
  },
  {
   "cell_type": "code",
   "execution_count": 22,
   "metadata": {},
   "outputs": [
    {
     "data": {
      "text/latex": [
       "Beam: BMAJ=$1.29719604986604^{''}$ BMIN=$1.04247149438736^{''}$ BPA=$82.95313553702^\\circ$"
      ],
      "text/plain": [
       "Beam: BMAJ=1.29719604986604 arcsec BMIN=1.04247149438736 arcsec BPA=82.95313553702 deg"
      ]
     },
     "execution_count": 22,
     "metadata": {},
     "output_type": "execute_result"
    }
   ],
   "source": [
    "import radio_beam\n",
    "common_beam = radio_beam.commonbeam.common_2beams(radio_beam.Beams(beams=[cube1vel.beam, cube2vel.beam]))\n",
    "common_beam"
   ]
  },
  {
   "cell_type": "markdown",
   "metadata": {},
   "source": [
    "We convert to Kelvin to ensure the units are preserved"
   ]
  },
  {
   "cell_type": "code",
   "execution_count": 23,
   "metadata": {},
   "outputs": [
    {
     "name": "stderr",
     "output_type": "stream",
     "text": [
      "WARNING: PossiblySlowWarning: This function (<function BaseSpectralCube.to at 0x2ad2fedda730>) requires loading the entire cube into memory and may therefore be slow. [spectral_cube.utils]\n",
      "WARNING: PossiblySlowWarning: This function (<function BaseSpectralCube.convolve_to at 0x2ad2feddc1e0>) requires loading the entire cube into memory and may therefore be slow. [spectral_cube.utils]\n"
     ]
    },
    {
     "data": {
      "text/plain": [
       "SpectralCube with shape=(75, 420, 420) and unit=K:\n",
       " n_x:    420  type_x: RA---SIN  unit_x: deg    range:   266.537002 deg:  266.551600 deg\n",
       " n_y:    420  type_y: DEC--SIN  unit_y: deg    range:   -28.711371 deg:  -28.698569 deg\n",
       " n_s:     75  type_s: VRAD      unit_s: km / s  range:      -43.509 km / s:     104.685 km / s"
      ]
     },
     "execution_count": 23,
     "metadata": {},
     "output_type": "execute_result"
    }
   ],
   "source": [
    "cube2vel_spatialspectralsmooth = cube2vel_spectralresample.to(u.K).convolve_to(common_beam)\n",
    "cube2vel_spatialspectralsmooth"
   ]
  },
  {
   "cell_type": "markdown",
   "metadata": {},
   "source": [
    "# Step 6. Reprojection\n",
    "Now, finally, we can do the reproject step:"
   ]
  },
  {
   "cell_type": "code",
   "execution_count": 24,
   "metadata": {},
   "outputs": [
    {
     "name": "stdout",
     "output_type": "stream",
     "text": [
      "4.3.dev1788+ga3263b6\n",
      "0.8.dev31+g9f8ec7b\n"
     ]
    }
   ],
   "source": [
    "import astropy\n",
    "print(astropy.__version__)\n",
    "import reproject\n",
    "print(reproject.__version__)\n",
    "# Need development version of astropy\n",
    "# 4.3.dev1788+ga3263b6 works for me"
   ]
  },
  {
   "cell_type": "code",
   "execution_count": 25,
   "metadata": {},
   "outputs": [
    {
     "name": "stderr",
     "output_type": "stream",
     "text": [
      "WARNING: PossiblySlowWarning: This function (<function BaseSpectralCube.reproject at 0x2ad2fedda8c8>) requires loading the entire cube into memory and may therefore be slow. [spectral_cube.utils]\n"
     ]
    },
    {
     "data": {
      "text/plain": [
       "SpectralCube with shape=(75, 250, 250) and unit=K:\n",
       " n_x:    250  type_x: RA---SIN  unit_x: deg    range:   266.534072 deg:  266.554577 deg\n",
       " n_y:    250  type_y: DEC--SIN  unit_y: deg    range:   -28.713958 deg:  -28.695975 deg\n",
       " n_s:     75  type_s: VRAD      unit_s: km / s  range:      -43.509 km / s:     104.685 km / s"
      ]
     },
     "execution_count": 25,
     "metadata": {},
     "output_type": "execute_result"
    }
   ],
   "source": [
    "cube2vel_reproj = cube2vel_spatialspectralsmooth.reproject(cube1vel.header)\n",
    "cube2vel_reproj "
   ]
  },
  {
   "cell_type": "markdown",
   "metadata": {},
   "source": [
    "These two cubes are now on an identical grid, and can be directly compared:"
   ]
  },
  {
   "cell_type": "code",
   "execution_count": 26,
   "metadata": {},
   "outputs": [
    {
     "data": {
      "text/plain": [
       "(SpectralCube with shape=(75, 250, 250) and unit=K:\n",
       "  n_x:    250  type_x: RA---SIN  unit_x: deg    range:   266.534072 deg:  266.554577 deg\n",
       "  n_y:    250  type_y: DEC--SIN  unit_y: deg    range:   -28.713958 deg:  -28.695975 deg\n",
       "  n_s:     75  type_s: VRAD      unit_s: km / s  range:      -43.509 km / s:     104.685 km / s,\n",
       " SpectralCube with shape=(75, 250, 250) and unit=Jy / beam:\n",
       "  n_x:    250  type_x: RA---SIN  unit_x: deg    range:   266.534072 deg:  266.554577 deg\n",
       "  n_y:    250  type_y: DEC--SIN  unit_y: deg    range:   -28.713958 deg:  -28.695975 deg\n",
       "  n_s:     75  type_s: VRAD      unit_s: km / s  range:      -43.509 km / s:     104.685 km / s)"
      ]
     },
     "execution_count": 26,
     "metadata": {},
     "output_type": "execute_result"
    }
   ],
   "source": [
    "cube2vel_reproj, cube1vel"
   ]
  },
  {
   "cell_type": "markdown",
   "metadata": {},
   "source": [
    "These spectra can now be overplotted as they are in the same unit with the same beam."
   ]
  },
  {
   "cell_type": "code",
   "execution_count": 27,
   "metadata": {},
   "outputs": [
    {
     "data": {
      "image/png": "[encoded data removed]",
      "text/plain": [
       "<Figure size 432x288 with 1 Axes>"
      ]
     },
     "metadata": {
      "needs_background": "light"
     },
     "output_type": "display_data"
    }
   ],
   "source": [
    "cube1vel[:,125,125].to(u.K).with_spectral_unit(u.km/u.s).quicklook()\n",
    "cube2vel_reproj[:,125,125].quicklook()"
   ]
  },
  {
   "cell_type": "markdown",
   "metadata": {},
   "source": [
    "# Step 7. Signal Masking\n",
    "Use one of the molecules, H2CS, to mask the other one, SiO.  This can be useful if SiO has complicated multi-component velocity structure, but H2CS a similar morphology on the sky and we want to use that to grab the matching component of the SiO velocity structure."
   ]
  },
  {
   "cell_type": "code",
   "execution_count": 28,
   "metadata": {},
   "outputs": [],
   "source": [
    "import matplotlib.pyplot as plt"
   ]
  },
  {
   "cell_type": "code",
   "execution_count": 29,
   "metadata": {},
   "outputs": [],
   "source": [
    "def get_noise_map(cube_noise):\n",
    "    cube_sclip = cube_noise.sigma_clip_spectrally(3) # Clip values above 3-sigma \n",
    "    mad_std_spectrum_sclip = cube_sclip.mad_std(axis=(1, 2))\n",
    "    plt.plot(mad_std_spectrum_sclip.spectral_axis.value, mad_std_spectrum_sclip.value, \n",
    "             drawstyle='steps-mid')\n",
    "    plt.xlabel('Velocity (km/s)')\n",
    "    plt.ylabel(r' Noise standard deviation $\\sigma$ (K)')\n",
    "    plt.ylim([0., 0.30]) # Best to extend the range to 0.\n",
    "    plt.axhline(0.25, linestyle='--', color='k', linewidth=3, label='A priori noise expectation')\n",
    "    plt.legend(frameon=True)\n",
    "    mad_std_map_sclip = cube_sclip.mad_std(axis=0) # Calculate sigma along the spectral dimension\n",
    "    return mad_std_map_sclip\n",
    "\n",
    "def get_signal_mask_scipy(cube_signal, mad_std_map_sclip, dask_compute = False):\n",
    "    '''Please pass an already-masked cube to cube_signal. If you get an error, try setting\n",
    "    dask_compute = True'''\n",
    "    import scipy.ndimage as nd\n",
    "    # Make a low and high mask\n",
    "    low_snr_mask = (cube_signal > 3 * mad_std_map_sclip).include()\n",
    "    high_snr_mask = (cube_signal > 10 * mad_std_map_sclip).include()\n",
    "    if dask_compute == True: # Don't need this for this tutorial\n",
    "        low_snr_mask = low_snr_mask.compute() # We need to convert from a dask array to a numpy array.\n",
    "        high_snr_mask = high_snr_mask.compute()\n",
    "    # Find connected structures\n",
    "    structure = np.ones((3, 3, 3), dtype=bool)\n",
    "    low_snr_mask_labels, num_labels = nd.label(low_snr_mask, structure=structure)\n",
    "    print(f\"Initial number of regions found: {num_labels}\")\n",
    "    # From the labels, count the number of pixels within each label.\n",
    "    num_pixels_in_high_snr_mask = nd.sum(high_snr_mask,\n",
    "                                         labels=low_snr_mask_labels,\n",
    "                                         index=range(1, num_labels + 1)) # +1 offset for mask labels\n",
    "    # Repeat for the high signal mask.\n",
    "    num_pixels_in_low_snr_mask = nd.sum(low_snr_mask,\n",
    "                                        labels=low_snr_mask_labels,\n",
    "                                        index=range(1, num_labels + 1)) # +1 offset for mask labels\n",
    "    # To preserve the low_snr_mask, we will create a new signal mask where we will remove \n",
    "    # regions that do not pass the criteria.\n",
    "    signal_mask = low_snr_mask\n",
    "    low_min_pixels = 40\n",
    "    high_min_pixels = 10\n",
    "    for num, (high_pix_num, low_pix_num) in enumerate(zip(num_pixels_in_high_snr_mask, \n",
    "                                                          num_pixels_in_low_snr_mask)):\n",
    "        if high_pix_num >= high_min_pixels and low_pix_num >= low_min_pixels:\n",
    "            # This region passes the criteria. Keep it in the mask.\n",
    "            continue\n",
    "        # Remove regions that do not pass the criteria.\n",
    "        # NOTE: enumerate will start with 0, but the mask labels start at 1\n",
    "        # We apply a +1 offset to `num` to account for this.\n",
    "        signal_mask[low_snr_mask_labels == num + 1] = False\n",
    "    signal_mask_labels, num_labels = nd.label(signal_mask,\n",
    "                                              structure=structure)\n",
    "    print(f\"Final number of regions found: {num_labels}\")\n",
    "    signal_mask = nd.binary_dilation(signal_mask, structure=structure, iterations=1)\n",
    "    return signal_mask"
   ]
  },
  {
   "cell_type": "code",
   "execution_count": 30,
   "metadata": {},
   "outputs": [
    {
     "name": "stderr",
     "output_type": "stream",
     "text": [
      "WARNING: Input data contains invalid values (NaNs or infs), which were automatically clipped. [astropy.stats.sigma_clipping]\n",
      "WARNING: PossiblySlowWarning: This function (<function BaseSpectralCube.mad_std at 0x2ad2fedd4840>) requires loading the entire cube into memory and may therefore be slow. [spectral_cube.utils]\n",
      "WARNING: PossiblySlowWarning: This function (<function BaseSpectralCube.mad_std at 0x2ad2fedd4840>) requires loading the entire cube into memory and may therefore be slow. [spectral_cube.utils]\n",
      "/blue/adamginsburg/abulatek/anaconda/lib/python3.7/site-packages/numpy/lib/nanfunctions.py:1114: RuntimeWarning: All-NaN slice encountered\n",
      "  overwrite_input=overwrite_input)\n"
     ]
    },
    {
     "name": "stdout",
     "output_type": "stream",
     "text": [
      "Initial number of regions found: 2884\n",
      "Final number of regions found: 4\n"
     ]
    },
    {
     "data": {
      "image/png": "[encoded data removed]",
      "text/plain": [
       "<Figure size 432x288 with 1 Axes>"
      ]
     },
     "metadata": {
      "needs_background": "light"
     },
     "output_type": "display_data"
    }
   ],
   "source": [
    "# Make signal mask out of template molecule cube\n",
    "mad_std_map_sclip = get_noise_map(cube1vel) # Get noise map (from cube w/ signal in it, not super ideal)\n",
    "# Plot should be flat\n",
    "plain_mask = cube1vel >= 3 * mad_std_map_sclip # Get plain 3sigma mask\n",
    "plain_masked_slab = cube1vel.with_mask(plain_mask) # Mask the template molecule cube\n",
    "signal_mask = get_signal_mask_scipy(plain_masked_slab, mad_std_map_sclip)"
   ]
  },
  {
   "cell_type": "code",
   "execution_count": 31,
   "metadata": {},
   "outputs": [],
   "source": [
    "# Apply signal mask from template molecule to target molecule\n",
    "## This might run really slowly... hopefully not\n",
    "masked_cube = cube2vel_reproj.with_mask(signal_mask)\n",
    "# masked_cube.write('masked_target_cube.fits', overwrite=True) # We can write the masked cube to a file\n",
    "# masked_cube = SpectralCube.read('masked_target_cube.fits') # and look at it in DS9"
   ]
  },
  {
   "cell_type": "code",
   "execution_count": 32,
   "metadata": {},
   "outputs": [
    {
     "data": {
      "image/png": "[encoded data removed]",
      "text/plain": [
       "<Figure size 432x288 with 2 Axes>"
      ]
     },
     "metadata": {
      "needs_background": "light"
     },
     "output_type": "display_data"
    }
   ],
   "source": [
    "# Make moment maps from the target cube\n",
    "masked_moment0 = masked_cube.moment0()\n",
    "\n",
    "ax = plt.subplot(projection=masked_moment0.wcs)\n",
    "im = ax.imshow(masked_moment0.value, origin='lower', cmap='inferno')\n",
    "cbar = plt.colorbar(im)\n",
    "cbar.set_label('Integrated Intensity (K km/s)')\n",
    "ax.set_ylabel('Declination')\n",
    "ax.set_xlabel('Right Ascension')"
   ]
  },
  {
   "cell_type": "code",
   "execution_count": 33,
   "metadata": {},
   "outputs": [
    {
     "name": "stderr",
     "output_type": "stream",
     "text": [
      "/blue/adamginsburg/abulatek/spectral-cube/spectral_cube/_moments.py:169: RuntimeWarning: invalid value encountered in true_divide\n",
      "  np.nansum(data, axis=axis))\n"
     ]
    },
    {
     "data": {
      "image/png": "[encoded data removed]",
      "text/plain": [
       "<Figure size 432x288 with 2 Axes>"
      ]
     },
     "metadata": {
      "needs_background": "light"
     },
     "output_type": "display_data"
    }
   ],
   "source": [
    "masked_moment1 = masked_cube.moment1()\n",
    "\n",
    "ax = plt.subplot(projection=masked_moment1.wcs)\n",
    "im = ax.imshow(masked_moment1.value, origin='lower', cmap='coolwarm')\n",
    "cbar = plt.colorbar(im)\n",
    "cbar.set_label('Centroid (km/s)')\n",
    "\n",
    "ax.set_ylabel('Declination')\n",
    "ax.set_xlabel('Right Ascension')"
   ]
  },
  {
   "cell_type": "markdown",
   "metadata": {},
   "source": [
    "The color bar on the moment 1 map is skewed due to the presence of at least one outlier pixel with a large negative velocity."
   ]
  },
  {
   "cell_type": "markdown",
   "metadata": {},
   "source": [
    "# Step 8. Masking Outliers\n",
    "\n",
    "At the moment, to get a better idea of the velocity structure of the target molecule, we can mask the outliers by masking pixels with a moment 0 value less than some threshold, which can cause moment 1 values to blow up since the moment 0 value appears in the denominator of the moment 1 value."
   ]
  },
  {
   "cell_type": "code",
   "execution_count": 34,
   "metadata": {},
   "outputs": [],
   "source": [
    "def find_outliers(masked_cube, v_thresh):\n",
    "    from pylab import imshow\n",
    "    masked_moment1 = masked_cube.moment1()\n",
    "    masked_moment1_outliers = (masked_moment1 > v_thresh*u.km/u.s)|(masked_moment1 < -v_thresh*u.km/u.s)\n",
    "    imshow(masked_moment1_outliers, origin='lower') \n",
    "    # Clumps of outliers might mean they're real, just outside of vel range\n",
    "    \n",
    "def remove_outliers(masked_cube):\n",
    "    '''Remove outliers based on mom0 map after-the-fact'''\n",
    "    mom0 = masked_cube.moment0()\n",
    "    mom0_mask = mom0 > 1.*u.K*u.km/u.s # Mask pixels with mom0 less than threshold\n",
    "    print(f\"Found {mom0_mask.sum()} good pixels\")\n",
    "    masked_cube_no_outliers = masked_cube.with_mask(mom0_mask)\n",
    "    return masked_cube_no_outliers"
   ]
  },
  {
   "cell_type": "code",
   "execution_count": 35,
   "metadata": {},
   "outputs": [
    {
     "name": "stderr",
     "output_type": "stream",
     "text": [
      "/blue/adamginsburg/abulatek/spectral-cube/spectral_cube/_moments.py:169: RuntimeWarning: invalid value encountered in true_divide\n",
      "  np.nansum(data, axis=axis))\n"
     ]
    },
    {
     "data": {
      "image/png": "[encoded data removed]",
      "text/plain": [
       "<Figure size 432x288 with 1 Axes>"
      ]
     },
     "metadata": {
      "needs_background": "light"
     },
     "output_type": "display_data"
    }
   ],
   "source": [
    "# Look for outliers\n",
    "find_outliers(masked_cube, 1000)"
   ]
  },
  {
   "cell_type": "code",
   "execution_count": 36,
   "metadata": {},
   "outputs": [
    {
     "name": "stdout",
     "output_type": "stream",
     "text": [
      "53.224936062725135 km / s\n"
     ]
    },
    {
     "data": {
      "text/plain": [
       "Text(0,0.5,'Intensity (K)')"
      ]
     },
     "execution_count": 36,
     "metadata": {},
     "output_type": "execute_result"
    },
    {
     "data": {
      "image/png": "[encoded data removed]",
      "text/plain": [
       "<Figure size 432x288 with 1 Axes>"
      ]
     },
     "metadata": {
      "needs_background": "light"
     },
     "output_type": "display_data"
    }
   ],
   "source": [
    "# Look at spectra of outliers individually, can check neighboring spectra here too\n",
    "max_vel_coord = np.unravel_index(np.nanargmin(masked_moment1), masked_moment1.shape)\n",
    "spectrum = masked_cube[:, max_vel_coord[0]-1, max_vel_coord[1]-1]\n",
    "print(masked_moment1[max_vel_coord[0]-1, max_vel_coord[1]-1])\n",
    "plt.plot(spectrum.spectral_axis, spectrum.value, drawstyle='steps-mid')\n",
    "plt.xlabel('Velocity (km/s)')\n",
    "plt.ylabel('Intensity (K)')"
   ]
  },
  {
   "cell_type": "code",
   "execution_count": 37,
   "metadata": {},
   "outputs": [
    {
     "name": "stdout",
     "output_type": "stream",
     "text": [
      "Found 3300 good pixels\n"
     ]
    }
   ],
   "source": [
    "# Remove outliers\n",
    "masked_cube_no_outliers = remove_outliers(masked_cube)"
   ]
  },
  {
   "cell_type": "code",
   "execution_count": 38,
   "metadata": {},
   "outputs": [
    {
     "data": {
      "image/png": "[encoded data removed]",
      "text/plain": [
       "<Figure size 432x288 with 2 Axes>"
      ]
     },
     "metadata": {
      "needs_background": "light"
     },
     "output_type": "display_data"
    }
   ],
   "source": [
    "# Make moment maps from the target cube with outliers removed\n",
    "masked_moment0 = masked_cube_no_outliers.moment0()\n",
    "\n",
    "ax = plt.subplot(projection=masked_moment0.wcs)\n",
    "im = ax.imshow(masked_moment0.value, origin='lower', cmap='inferno')\n",
    "cbar = plt.colorbar(im)\n",
    "cbar.set_label('Integrated Intensity (K km/s)')\n",
    "ax.set_ylabel('Declination')\n",
    "ax.set_xlabel('Right Ascension')"
   ]
  },
  {
   "cell_type": "code",
   "execution_count": 39,
   "metadata": {},
   "outputs": [
    {
     "name": "stderr",
     "output_type": "stream",
     "text": [
      "/blue/adamginsburg/abulatek/spectral-cube/spectral_cube/_moments.py:169: RuntimeWarning: invalid value encountered in true_divide\n",
      "  np.nansum(data, axis=axis))\n"
     ]
    },
    {
     "data": {
      "image/png": "[encoded data removed]",
      "text/plain": [
       "<Figure size 432x288 with 2 Axes>"
      ]
     },
     "metadata": {
      "needs_background": "light"
     },
     "output_type": "display_data"
    }
   ],
   "source": [
    "masked_moment1 = masked_cube_no_outliers.moment1()\n",
    "\n",
    "ax = plt.subplot(projection=masked_moment1.wcs)\n",
    "im = ax.imshow(masked_moment1.value, origin='lower', cmap='coolwarm')\n",
    "cbar = plt.colorbar(im)\n",
    "cbar.set_label('Centroid (km/s)')\n",
    "\n",
    "ax.set_ylabel('Declination')\n",
    "ax.set_xlabel('Right Ascension')"
   ]
  },
  {
   "cell_type": "markdown",
   "metadata": {},
   "source": [
    "The velocity structure is more visible here with the outliers removed."
   ]
  }
 ],
 "metadata": {
  "kernelspec": {
   "display_name": "Python 3",
   "language": "python",
   "name": "python3"
  },
  "language_info": {
   "codemirror_mode": {
    "name": "ipython",
    "version": 3
   },
   "file_extension": ".py",
   "mimetype": "text/x-python",
   "name": "python",
   "nbconvert_exporter": "python",
   "pygments_lexer": "ipython3",
   "version": "3.7.0"
  }
 },
 "nbformat": 4,
 "nbformat_minor": 5
}
