{
 "cells": [
  {
   "cell_type": "code",
   "execution_count": 1,
   "metadata": {},
   "outputs": [],
   "source": [
    "# Import statements and filename definitions\n",
    "from astroquery.splatalogue import Splatalogue, utils\n",
    "from astropy import units as u\n",
    "from astropy import table\n",
    "from full_spectrum_plot import plot_spectrum, plot_spectrum_line_ids\n",
    "from spectral_ids import line_ids\n",
    "results = '/blue/adamginsburg/abulatek/brick/symlinks/imaging_results/spectra/'\n",
    "\n",
    "import pyspeckit"
   ]
  },
  {
   "cell_type": "code",
   "execution_count": 2,
   "metadata": {},
   "outputs": [
    {
     "name": "stderr",
     "output_type": "stream",
     "text": [
      "Warning: 'partition' will ignore the 'mask' of the MaskedArray.\n"
     ]
    },
    {
     "name": "stdout",
     "output_type": "stream",
     "text": [
      "INFO: Left region selection unchanged.  xminpix, xmaxpix: 0,3 [pyspeckit.spectrum.interactive]\n",
      "INFO: Left region selection unchanged.  xminpix, xmaxpix: 0,3 [pyspeckit.spectrum.interactive]\n",
      "INFO: Left region selection unchanged.  xminpix, xmaxpix: 0,3 [pyspeckit.spectrum.interactive]\n",
      "INFO: Left region selection unchanged.  xminpix, xmaxpix: 0,1 [pyspeckit.spectrum.interactive]\n",
      "INFO: Renormalizing data by factor 7.765429e-01 to improve fitting procedure [pyspeckit.spectrum.fitters]\n",
      "ERROR: number of parameters must not exceed data\n"
     ]
    },
    {
     "name": "stderr",
     "output_type": "stream",
     "text": [
      "Warning: 'partition' will ignore the 'mask' of the MaskedArray.\n",
      "WARNING: Frequency 86.09154408338178 GHz had no hits [spectral_ids]\n",
      "Warning: 'partition' will ignore the 'mask' of the MaskedArray.\n"
     ]
    },
    {
     "name": "stdout",
     "output_type": "stream",
     "text": [
      "INFO: Left region selection unchanged.  xminpix, xmaxpix: 0,1 [pyspeckit.spectrum.interactive]\n",
      "INFO: Renormalizing data by factor 7.833852e-01 to improve fitting procedure [pyspeckit.spectrum.fitters]\n",
      "ERROR: number of parameters must not exceed data\n",
      "INFO: Left region selection unchanged.  xminpix, xmaxpix: 0,3 [pyspeckit.spectrum.interactive]\n",
      "INFO: Left region selection unchanged.  xminpix, xmaxpix: 0,5 [pyspeckit.spectrum.interactive]\n",
      "INFO: Left region selection unchanged.  xminpix, xmaxpix: 0,4 [pyspeckit.spectrum.interactive]\n",
      "INFO: Left region selection unchanged.  xminpix, xmaxpix: 0,2 [pyspeckit.spectrum.interactive]\n",
      "ERROR: number of parameters must not exceed data\n",
      "INFO: Left region selection unchanged.  xminpix, xmaxpix: 0,12 [pyspeckit.spectrum.interactive]\n",
      "INFO: Left region selection unchanged.  xminpix, xmaxpix: 0,11 [pyspeckit.spectrum.interactive]\n",
      "INFO: Left region selection unchanged.  xminpix, xmaxpix: 0,2 [pyspeckit.spectrum.interactive]\n",
      "ERROR: number of parameters must not exceed data\n",
      "INFO: Left region selection unchanged.  xminpix, xmaxpix: 0,4 [pyspeckit.spectrum.interactive]\n"
     ]
    },
    {
     "name": "stderr",
     "output_type": "stream",
     "text": [
      "WARNING: Frequency 86.3175878629691 GHz had no hits [spectral_ids]\n",
      "WARNING: Frequency 86.32775067674396 GHz had no hits [spectral_ids]\n",
      "WARNING: Frequency 86.34026479770975 GHz had no hits [spectral_ids]\n",
      "Warning: 'partition' will ignore the 'mask' of the MaskedArray.\n",
      "Warning: 'partition' will ignore the 'mask' of the MaskedArray.\n"
     ]
    },
    {
     "name": "stdout",
     "output_type": "stream",
     "text": [
      "INFO: Left region selection unchanged.  xminpix, xmaxpix: 0,1 [pyspeckit.spectrum.interactive]\n",
      "INFO: Renormalizing data by factor 7.190570e-01 to improve fitting procedure [pyspeckit.spectrum.fitters]\n",
      "ERROR: number of parameters must not exceed data\n",
      "INFO: Left region selection unchanged.  xminpix, xmaxpix: 0,1 [pyspeckit.spectrum.interactive]\n",
      "INFO: Renormalizing data by factor 7.807148e-01 to improve fitting procedure [pyspeckit.spectrum.fitters]\n",
      "ERROR: number of parameters must not exceed data\n",
      "INFO: Left region selection unchanged.  xminpix, xmaxpix: 0,1 [pyspeckit.spectrum.interactive]\n",
      "INFO: Renormalizing data by factor 7.135940e-01 to improve fitting procedure [pyspeckit.spectrum.fitters]\n",
      "ERROR: number of parameters must not exceed data\n",
      "INFO: Left region selection unchanged.  xminpix, xmaxpix: 0,34 [pyspeckit.spectrum.interactive]\n",
      "INFO: Left region selection unchanged.  xminpix, xmaxpix: 0,8 [pyspeckit.spectrum.interactive]\n"
     ]
    },
    {
     "name": "stderr",
     "output_type": "stream",
     "text": [
      "Warning: 'partition' will ignore the 'mask' of the MaskedArray.\n"
     ]
    },
    {
     "name": "stdout",
     "output_type": "stream",
     "text": [
      "INFO: Left region selection unchanged.  xminpix, xmaxpix: 0,8 [pyspeckit.spectrum.interactive]\n",
      "INFO: Left region selection unchanged.  xminpix, xmaxpix: 0,1 [pyspeckit.spectrum.interactive]\n",
      "INFO: Renormalizing data by factor 8.180610e-01 to improve fitting procedure [pyspeckit.spectrum.fitters]\n",
      "ERROR: number of parameters must not exceed data\n",
      "INFO: Left region selection unchanged.  xminpix, xmaxpix: 0,27 [pyspeckit.spectrum.interactive]\n"
     ]
    },
    {
     "name": "stderr",
     "output_type": "stream",
     "text": [
      "Warning: 'partition' will ignore the 'mask' of the MaskedArray.\n"
     ]
    },
    {
     "name": "stdout",
     "output_type": "stream",
     "text": [
      "INFO: Left region selection unchanged.  xminpix, xmaxpix: 0,14 [pyspeckit.spectrum.interactive]\n",
      "       Species             ChemicalName              QNs              Freq    log10_Aij    EU_K      TotalIntensity     PeakIntensity            RMS              Velocity     \n",
      "                                                                                                         km / s                                                    km / s      \n",
      "---------------------- ------------------- ----------------------- ---------- --------- ---------- ------------------ ------------------ ------------------- ------------------\n",
      "              29SiOv=0    Silicon Monoxide                     2-1  85.759188       0.0        0.0  8.538689026665532 0.9628277855905476 0.05593264404806506  8.556376018357692\n",
      "          CH2CHCNv11=2       Vinyl Cyanide           9(6,*)-8(6,*)  85.917187       0.0        0.0  9.110824467290264 1.0916941741176995 0.05593264404806506  8.881408948370087\n",
      "            CH3OCHOv=0      Methyl Formate          7(6,1)-6(6,0)E  85.919086  -5.60917   40.43509  9.110824467290264 1.0916941741176995 0.05593264404806506 15.507282644754282\n",
      "                  NH2D             Ammonia 1(1,1)0s-1(0,1)0a,F=0-1  85.924747       0.0        0.0  9.110824467290264 1.0916941741176995 0.05593264404806506  35.25755689359191\n",
      "UnidentifiedTransition        UNIDENTIFIED               U-85935.1    85.9351       0.0        0.0  9.110824467290264 1.0916941741176995 0.05593264404806506  71.37069688167857\n",
      "                   CCS  Thioxoethenylidene             N=7-6,J=6-5  86.181391  -4.55632   23.34532  2.651072011917446  0.783385203381875 0.05593264404806506  71.38241217596571\n",
      "               CH3OCH3      Dimethyl ether         2(2,0)-2(1,1)EA   86.22567  -5.47152    8.35749 12.339709689185522  1.505196960299142 0.05593264404806506   65.8210299394347\n",
      "                SiOv=1    Silicon Monoxide                     2-1   86.24337  -4.53713 1775.33934  46.04157823944978 5.0345770618711265 0.05593264404806506 34.552449495088545\n",
      "           CH3CH2CNv=0       Ethyl Cyanide           8(1,8)-7(0,7)  86.745317       0.0        0.0  6.678681805173849 1.0221336958250309 0.05593264404806506 37.301013961597654\n",
      "                H13CO+           Formylium  J=1-0,F1=1/2-1/2,F=1-1 86.7542619  -5.14556    4.16352  6.678681805173849 1.0221336958250309 0.05593264404806506  68.20762125676413\n",
      "                CH2DCN      Methyl cyanide           5(3,3)-4(3,2)  86.824595       0.0        0.0  94.39682241956992 1.7867558238315475 0.05593264404806506 24.581224256761182\n",
      "         CH3SH,vt&le;2    Methyl Mercaptan           13(3)-14(2)A+   86.83148       0.0        0.0  94.39682241956992 1.7867558238315475 0.05593264404806506  48.35027473937497\n",
      "                SiOv=0    Silicon Monoxide                     2-1   86.84696  -4.53354    6.25203  199.7381859750498  4.022427248144295 0.05593264404806506 12.888865035728086\n",
      "                 HN13C Hydrogen Isocyanide             J=1-0,F=0-1  87.090735       0.0        0.0  31.49477280185779 1.5340443378864872 0.05593264404806506 35.686774808809105\n",
      "                CCHv=0             Ethynyl   N=1-0,J=3/2-1/2,F=1-1  87.284105  -6.58637    4.19111 2.7684190323849784 0.8180609568438589 0.05593264404806506  41.40781828634328\n",
      "            13CH3CH2CN       Ethyl Cyanide          10(6,*)-9(6,*)  87.386018       0.0        0.0 44.568900880076114 1.2674554218762806 0.05593264404806506  32.06770837118608\n",
      "None\n",
      "       Species            Freq         Velocity     \n",
      "                                        km / s      \n",
      "---------------------- ---------- ------------------\n",
      "              29SiOv=0  85.759188  8.556376018357692\n",
      "          CH2CHCNv11=2  85.917187  8.881408948370087\n",
      "            CH3OCHOv=0  85.919086 15.507282644754282\n",
      "                  NH2D  85.924747  35.25755689359191\n",
      "UnidentifiedTransition    85.9351  71.37069688167857\n",
      "                   CCS  86.181391  71.38241217596571\n",
      "               CH3OCH3   86.22567   65.8210299394347\n",
      "                SiOv=1   86.24337 34.552449495088545\n",
      "           CH3CH2CNv=0  86.745317 37.301013961597654\n",
      "                H13CO+ 86.7542619  68.20762125676413\n",
      "                CH2DCN  86.824595 24.581224256761182\n",
      "         CH3SH,vt&le;2   86.83148  48.35027473937497\n",
      "                SiOv=0   86.84696 12.888865035728086\n",
      "                 HN13C  87.090735 35.686774808809105\n",
      "                CCHv=0  87.284105  41.40781828634328\n",
      "            13CH3CH2CN  87.386018  32.06770837118608\n"
     ]
    },
    {
     "name": "stderr",
     "output_type": "stream",
     "text": [
      "Warning: 'partition' will ignore the 'mask' of the MaskedArray.\n"
     ]
    },
    {
     "ename": "KeyboardInterrupt",
     "evalue": "",
     "output_type": "error",
     "traceback": [
      "\u001b[0;31m---------------------------------------------------------------------------\u001b[0m",
      "\u001b[0;31mKeyboardInterrupt\u001b[0m                         Traceback (most recent call last)",
      "\u001b[0;32m<ipython-input-2-493a918f4c07>\u001b[0m in \u001b[0;36m<module>\u001b[0;34m()\u001b[0m\n\u001b[1;32m      9\u001b[0m     \u001b[0mall_max_ids\u001b[0m\u001b[0;34m.\u001b[0m\u001b[0mappend\u001b[0m\u001b[0;34m(\u001b[0m\u001b[0mmax_ids\u001b[0m\u001b[0;34m)\u001b[0m\u001b[0;34m\u001b[0m\u001b[0m\n\u001b[1;32m     10\u001b[0m     \u001b[0;31m# Identify lines in mean spectrum\u001b[0m\u001b[0;34m\u001b[0m\u001b[0;34m\u001b[0m\u001b[0m\n\u001b[0;32m---> 11\u001b[0;31m     \u001b[0mmean_ids\u001b[0m \u001b[0;34m=\u001b[0m \u001b[0mline_ids\u001b[0m\u001b[0;34m(\u001b[0m\u001b[0mmean_fn\u001b[0m\u001b[0;34m)\u001b[0m\u001b[0;34m\u001b[0m\u001b[0m\n\u001b[0m\u001b[1;32m     12\u001b[0m     \u001b[0mall_mean_ids\u001b[0m\u001b[0;34m.\u001b[0m\u001b[0mappend\u001b[0m\u001b[0;34m(\u001b[0m\u001b[0mmean_ids\u001b[0m\u001b[0;34m)\u001b[0m\u001b[0;34m\u001b[0m\u001b[0m\n",
      "\u001b[0;32m/blue/adamginsburg/abulatek/brick_linesurvey/spectral_ids.py\u001b[0m in \u001b[0;36mline_ids\u001b[0;34m(fn)\u001b[0m\n\u001b[1;32m     46\u001b[0m     \u001b[0mdetections\u001b[0m \u001b[0;34m=\u001b[0m \u001b[0;34m(\u001b[0m\u001b[0msp\u001b[0m\u001b[0;34m.\u001b[0m\u001b[0mdata\u001b[0m\u001b[0;34m-\u001b[0m\u001b[0mmed\u001b[0m\u001b[0;34m)\u001b[0m \u001b[0;34m>\u001b[0m \u001b[0;36m5\u001b[0m\u001b[0;34m*\u001b[0m\u001b[0mmad\u001b[0m\u001b[0;34m\u001b[0m\u001b[0m\n\u001b[1;32m     47\u001b[0m \u001b[0;34m\u001b[0m\u001b[0m\n\u001b[0;32m---> 48\u001b[0;31m     \u001b[0mlabels\u001b[0m\u001b[0;34m,\u001b[0m \u001b[0mct\u001b[0m \u001b[0;34m=\u001b[0m \u001b[0mlabel\u001b[0m\u001b[0;34m(\u001b[0m\u001b[0mdetections\u001b[0m\u001b[0;34m)\u001b[0m\u001b[0;34m\u001b[0m\u001b[0m\n\u001b[0m\u001b[1;32m     49\u001b[0m \u001b[0;34m\u001b[0m\u001b[0m\n\u001b[1;32m     50\u001b[0m     \u001b[0;32mfor\u001b[0m \u001b[0mlabelid\u001b[0m \u001b[0;32min\u001b[0m \u001b[0mrange\u001b[0m\u001b[0;34m(\u001b[0m\u001b[0;36m1\u001b[0m\u001b[0;34m,\u001b[0m\u001b[0mct\u001b[0m\u001b[0;34m+\u001b[0m\u001b[0;36m1\u001b[0m\u001b[0;34m)\u001b[0m\u001b[0;34m:\u001b[0m\u001b[0;34m\u001b[0m\u001b[0m\n",
      "\u001b[0;32m/blue/adamginsburg/abulatek/anaconda/lib/python3.7/site-packages/scipy/ndimage/measurements.py\u001b[0m in \u001b[0;36mlabel\u001b[0;34m(input, structure, output)\u001b[0m\n\u001b[1;32m    186\u001b[0m \u001b[0;34m\u001b[0m\u001b[0m\n\u001b[1;32m    187\u001b[0m     \u001b[0;32mtry\u001b[0m\u001b[0;34m:\u001b[0m\u001b[0;34m\u001b[0m\u001b[0m\n\u001b[0;32m--> 188\u001b[0;31m         \u001b[0mmax_label\u001b[0m \u001b[0;34m=\u001b[0m \u001b[0m_ni_label\u001b[0m\u001b[0;34m.\u001b[0m\u001b[0m_label\u001b[0m\u001b[0;34m(\u001b[0m\u001b[0minput\u001b[0m\u001b[0;34m,\u001b[0m \u001b[0mstructure\u001b[0m\u001b[0;34m,\u001b[0m \u001b[0moutput\u001b[0m\u001b[0;34m)\u001b[0m\u001b[0;34m\u001b[0m\u001b[0m\n\u001b[0m\u001b[1;32m    189\u001b[0m     \u001b[0;32mexcept\u001b[0m \u001b[0m_ni_label\u001b[0m\u001b[0;34m.\u001b[0m\u001b[0mNeedMoreBits\u001b[0m\u001b[0;34m:\u001b[0m\u001b[0;34m\u001b[0m\u001b[0m\n\u001b[1;32m    190\u001b[0m         \u001b[0;31m# Make another attempt with enough bits, then try to cast to the\u001b[0m\u001b[0;34m\u001b[0m\u001b[0;34m\u001b[0m\u001b[0m\n",
      "\u001b[0;32m_ni_label.pyx\u001b[0m in \u001b[0;36m_ni_label._label\u001b[0;34m()\u001b[0m\n",
      "\u001b[0;32m_ni_label.pyx\u001b[0m in \u001b[0;36m_ni_label._label\u001b[0;34m()\u001b[0m\n",
      "\u001b[0;32m<__array_function__ internals>\u001b[0m in \u001b[0;36mall\u001b[0;34m(*args, **kwargs)\u001b[0m\n",
      "\u001b[0;31mKeyboardInterrupt\u001b[0m: "
     ]
    }
   ],
   "source": [
    "# Fit lines in spectral windows in Band 3 with the greatest line density\n",
    "all_max_ids = []\n",
    "all_mean_ids = []\n",
    "for freq_spw in ['87_spw25','102_spw106']:\n",
    "    max_fn = results+'source_ab_'+freq_spw+'_clean_2sigma_n50000_masked_3sigma_pbmask0p18.max.fits'\n",
    "    mean_fn = results+'source_ab_'+freq_spw+'_clean_2sigma_n50000_masked_3sigma_pbmask0p18.mean.fits'\n",
    "    # Identify lines in max spectrum\n",
    "    max_ids = line_ids(max_fn)\n",
    "    all_max_ids.append(max_ids)\n",
    "    # Identify lines in mean spectrum\n",
    "    mean_ids = line_ids(mean_fn)\n",
    "    all_mean_ids.append(mean_ids)"
   ]
  },
  {
   "cell_type": "code",
   "execution_count": null,
   "metadata": {},
   "outputs": [],
   "source": [
    "# Give names to each set of line identifications\n",
    "max_ids_87_spw25 = all_max_ids[0]\n",
    "mean_ids_87_spw25 = all_mean_ids[0]\n",
    "max_ids_102_spw106 = all_max_ids[1]\n",
    "mean_ids_102_spw106 = all_mean_ids[1]"
   ]
  },
  {
   "cell_type": "code",
   "execution_count": null,
   "metadata": {},
   "outputs": [],
   "source": [
    "# Only keep likely lines, denoted by L\n",
    "max_ids_87_spw25_L = max_ids_87_spw25[[0,5,7,9,12,13,14]]\n",
    "mean_ids_87_spw25_L = mean_ids_87_spw25[[2,3,4,7,]]\n",
    "max_ids_102_spw106_L = max_ids_102_spw106[[2,3,4,5,6,7]] # 4, 5, 6 are \"either-or\"\n",
    "mean_ids_102_spw106_L = mean_ids_102_spw106[[0,1,2,3,5]] # 2, 3 are \"either-or\""
   ]
  },
  {
   "cell_type": "code",
   "execution_count": null,
   "metadata": {},
   "outputs": [],
   "source": [
    "# Plot curated list of IDs\n",
    "curated_max_ids = [max_ids_87_spw25_L,max_ids_102_spw106_L]\n",
    "curated_mean_ids = [mean_ids_87_spw25_L,mean_ids_102_spw106_L]\n",
    "i = 0\n",
    "for freq_spw in ['87_spw25','102_spw106']:\n",
    "    max_fn = results+'source_ab_'+freq_spw+'_clean_2sigma_n50000_masked_3sigma_pbmask0p18.max.fits'\n",
    "    mean_fn = results+'source_ab_'+freq_spw+'_clean_2sigma_n50000_masked_3sigma_pbmask0p18.mean.fits'\n",
    "    # Plot lines in max spectrum\n",
    "    plot_spectrum_line_ids(max_fn, curated_max_ids[i])\n",
    "    # Plot lines in mean spectrum\n",
    "    plot_spectrum_line_ids(mean_fn, curated_mean_ids[i])\n",
    "    i += 1"
   ]
  },
  {
   "cell_type": "code",
   "execution_count": null,
   "metadata": {},
   "outputs": [],
   "source": [
    "# Calculate spectral resolution of our spectra\n",
    "freq_spw = '87_spw25'\n",
    "fn = results+'source_ab_'+freq_spw+'_clean_2sigma_n50000_masked_3sigma_pbmask0p18.max.fits'\n",
    "sp = pyspeckit.Spectrum(fn)\n",
    "sp.xarr[2]-sp.xarr[1]"
   ]
  },
  {
   "cell_type": "code",
   "execution_count": null,
   "metadata": {},
   "outputs": [],
   "source": []
  }
 ],
 "metadata": {
  "kernelspec": {
   "display_name": "Python 3",
   "language": "python",
   "name": "python3"
  },
  "language_info": {
   "codemirror_mode": {
    "name": "ipython",
    "version": 3
   },
   "file_extension": ".py",
   "mimetype": "text/x-python",
   "name": "python",
   "nbconvert_exporter": "python",
   "pygments_lexer": "ipython3",
   "version": "3.7.0"
  }
 },
 "nbformat": 4,
 "nbformat_minor": 2
}
