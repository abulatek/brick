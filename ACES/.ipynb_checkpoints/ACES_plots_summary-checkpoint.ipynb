{
 "cells": [
  {
   "cell_type": "code",
   "execution_count": 1,
   "metadata": {},
   "outputs": [],
   "source": [
    "# Import statements and filename definitions\n",
    "%matplotlib inline\n",
    "from astropy import table\n",
    "import numpy as np\n",
    "import matplotlib.pyplot as plt\n",
    "from astropy import units as u\n",
    "import pyspeckit\n",
    "from radio_beam import Beams\n",
    "\n",
    "from full_spectrum_plot import plot_spectrum, plot_spectrum_line_ids\n",
    "from spectral_ids import line_ids, jtok_factors\n",
    "results = '/blue/adamginsburg/abulatek/brick/symlinks/imaging_results/'"
   ]
  },
  {
   "cell_type": "code",
   "execution_count": 2,
   "metadata": {},
   "outputs": [
    {
     "name": "stdout",
     "output_type": "stream",
     "text": [
      "------------------------------------------------\n",
      "---------------- 87_spw25\n",
      "------------------------------------------------\n"
     ]
    },
    {
     "name": "stderr",
     "output_type": "stream",
     "text": [
      "Warning: 'partition' will ignore the 'mask' of the MaskedArray.\n"
     ]
    },
    {
     "name": "stdout",
     "output_type": "stream",
     "text": [
      "INFO: Left region selection unchanged.  xminpix, xmaxpix: 0,3 [pyspeckit.spectrum.interactive]\n",
      "INFO: Left region selection unchanged.  xminpix, xmaxpix: 0,3 [pyspeckit.spectrum.interactive]\n",
      "INFO: Left region selection unchanged.  xminpix, xmaxpix: 0,3 [pyspeckit.spectrum.interactive]\n",
      "INFO: Left region selection unchanged.  xminpix, xmaxpix: 0,1 [pyspeckit.spectrum.interactive]\n",
      "INFO: Renormalizing data by factor 7.765429e-01 to improve fitting procedure [pyspeckit.spectrum.fitters]\n",
      "ERROR: number of parameters must not exceed data\n",
      "INFO: Left region selection unchanged.  xminpix, xmaxpix: 0,1 [pyspeckit.spectrum.interactive]\n",
      "INFO: Renormalizing data by factor 7.833852e-01 to improve fitting procedure [pyspeckit.spectrum.fitters]\n",
      "ERROR: number of parameters must not exceed data\n",
      "INFO: Left region selection unchanged.  xminpix, xmaxpix: 0,3 [pyspeckit.spectrum.interactive]\n",
      "INFO: Left region selection unchanged.  xminpix, xmaxpix: 0,5 [pyspeckit.spectrum.interactive]\n"
     ]
    },
    {
     "name": "stderr",
     "output_type": "stream",
     "text": [
      "Warning: 'partition' will ignore the 'mask' of the MaskedArray.\n",
      "WARNING: Frequency 86.09154408338178 GHz had no hits [spectral_ids]\n",
      "Warning: 'partition' will ignore the 'mask' of the MaskedArray.\n"
     ]
    },
    {
     "name": "stdout",
     "output_type": "stream",
     "text": [
      "INFO: Left region selection unchanged.  xminpix, xmaxpix: 0,4 [pyspeckit.spectrum.interactive]\n",
      "INFO: Left region selection unchanged.  xminpix, xmaxpix: 0,2 [pyspeckit.spectrum.interactive]\n",
      "ERROR: number of parameters must not exceed data\n",
      "INFO: Left region selection unchanged.  xminpix, xmaxpix: 0,12 [pyspeckit.spectrum.interactive]\n",
      "INFO: Left region selection unchanged.  xminpix, xmaxpix: 0,11 [pyspeckit.spectrum.interactive]\n",
      "INFO: Left region selection unchanged.  xminpix, xmaxpix: 0,2 [pyspeckit.spectrum.interactive]\n",
      "ERROR: number of parameters must not exceed data\n",
      "INFO: Left region selection unchanged.  xminpix, xmaxpix: 0,4 [pyspeckit.spectrum.interactive]\n"
     ]
    },
    {
     "name": "stderr",
     "output_type": "stream",
     "text": [
      "WARNING: Frequency 86.3175878629691 GHz had no hits [spectral_ids]\n",
      "WARNING: Frequency 86.32775067674396 GHz had no hits [spectral_ids]\n",
      "WARNING: Frequency 86.34026479770975 GHz had no hits [spectral_ids]\n",
      "Warning: 'partition' will ignore the 'mask' of the MaskedArray.\n",
      "Warning: 'partition' will ignore the 'mask' of the MaskedArray.\n"
     ]
    },
    {
     "name": "stdout",
     "output_type": "stream",
     "text": [
      "INFO: Left region selection unchanged.  xminpix, xmaxpix: 0,1 [pyspeckit.spectrum.interactive]\n",
      "INFO: Renormalizing data by factor 7.190570e-01 to improve fitting procedure [pyspeckit.spectrum.fitters]\n",
      "ERROR: number of parameters must not exceed data\n",
      "INFO: Left region selection unchanged.  xminpix, xmaxpix: 0,1 [pyspeckit.spectrum.interactive]\n",
      "INFO: Renormalizing data by factor 7.807148e-01 to improve fitting procedure [pyspeckit.spectrum.fitters]\n",
      "ERROR: number of parameters must not exceed data\n",
      "INFO: Left region selection unchanged.  xminpix, xmaxpix: 0,1 [pyspeckit.spectrum.interactive]\n",
      "INFO: Renormalizing data by factor 7.135940e-01 to improve fitting procedure [pyspeckit.spectrum.fitters]\n",
      "ERROR: number of parameters must not exceed data\n",
      "INFO: Left region selection unchanged.  xminpix, xmaxpix: 0,34 [pyspeckit.spectrum.interactive]\n",
      "INFO: Left region selection unchanged.  xminpix, xmaxpix: 0,8 [pyspeckit.spectrum.interactive]\n",
      "INFO: Left region selection unchanged.  xminpix, xmaxpix: 0,8 [pyspeckit.spectrum.interactive]\n",
      "INFO: Left region selection unchanged.  xminpix, xmaxpix: 0,1 [pyspeckit.spectrum.interactive]\n",
      "INFO: Renormalizing data by factor 8.180610e-01 to improve fitting procedure [pyspeckit.spectrum.fitters]\n",
      "ERROR: number of parameters must not exceed data\n",
      "INFO: Left region selection unchanged.  xminpix, xmaxpix: 0,27 [pyspeckit.spectrum.interactive]\n"
     ]
    },
    {
     "name": "stderr",
     "output_type": "stream",
     "text": [
      "Warning: 'partition' will ignore the 'mask' of the MaskedArray.\n",
      "Warning: 'partition' will ignore the 'mask' of the MaskedArray.\n"
     ]
    },
    {
     "name": "stdout",
     "output_type": "stream",
     "text": [
      "INFO: Left region selection unchanged.  xminpix, xmaxpix: 0,14 [pyspeckit.spectrum.interactive]\n",
      "       Species             ChemicalName              QNs              Freq    log10_Aij    EU_K      TotalIntensity     PeakIntensity            RMS              Velocity     \n",
      "                                                                                                         km / s                                                    km / s      \n",
      "---------------------- ------------------- ----------------------- ---------- --------- ---------- ------------------ ------------------ ------------------- ------------------\n",
      "              29SiOv=0    Silicon Monoxide                     2-1  85.759188       0.0        0.0  8.538689026665532 0.9628277855905476 0.05593264404806506  8.556376018357692\n",
      "          CH2CHCNv11=2       Vinyl Cyanide           9(6,*)-8(6,*)  85.917187       0.0        0.0  9.110824467290264 1.0916941741176995 0.05593264404806506  8.881408948370087\n",
      "            CH3OCHOv=0      Methyl Formate          7(6,1)-6(6,0)E  85.919086  -5.60917   40.43509  9.110824467290264 1.0916941741176995 0.05593264404806506 15.507282644754282\n",
      "                  NH2D             Ammonia 1(1,1)0s-1(0,1)0a,F=0-1  85.924747       0.0        0.0  9.110824467290264 1.0916941741176995 0.05593264404806506  35.25755689359191\n",
      "UnidentifiedTransition        UNIDENTIFIED               U-85935.1    85.9351       0.0        0.0  9.110824467290264 1.0916941741176995 0.05593264404806506  71.37069688167857\n",
      "                   CCS  Thioxoethenylidene             N=7-6,J=6-5  86.181391  -4.55632   23.34532  2.651072011917446  0.783385203381875 0.05593264404806506  71.38241217596571\n",
      "               CH3OCH3      Dimethyl ether         2(2,0)-2(1,1)EA   86.22567  -5.47152    8.35749 12.339709689185522  1.505196960299142 0.05593264404806506   65.8210299394347\n",
      "                SiOv=1    Silicon Monoxide                     2-1   86.24337  -4.53713 1775.33934  46.04157823944978 5.0345770618711265 0.05593264404806506 34.552449495088545\n",
      "           CH3CH2CNv=0       Ethyl Cyanide           8(1,8)-7(0,7)  86.745317       0.0        0.0  6.678681805173849 1.0221336958250309 0.05593264404806506 37.301013961597654\n",
      "                H13CO+           Formylium  J=1-0,F1=1/2-1/2,F=1-1 86.7542619  -5.14556    4.16352  6.678681805173849 1.0221336958250309 0.05593264404806506  68.20762125676413\n",
      "                CH2DCN      Methyl cyanide           5(3,3)-4(3,2)  86.824595       0.0        0.0  94.39682241956992 1.7867558238315475 0.05593264404806506 24.581224256761182\n",
      "         CH3SH,vt&le;2    Methyl Mercaptan           13(3)-14(2)A+   86.83148       0.0        0.0  94.39682241956992 1.7867558238315475 0.05593264404806506  48.35027473937497\n",
      "                SiOv=0    Silicon Monoxide                     2-1   86.84696  -4.53354    6.25203  199.7381859750498  4.022427248144295 0.05593264404806506 12.888865035728086\n",
      "                 HN13C Hydrogen Isocyanide             J=1-0,F=0-1  87.090735       0.0        0.0  31.49477280185779 1.5340443378864872 0.05593264404806506 35.686774808809105\n",
      "                CCHv=0             Ethynyl   N=1-0,J=3/2-1/2,F=1-1  87.284105  -6.58637    4.19111 2.7684190323849784 0.8180609568438589 0.05593264404806506  41.40781828634328\n",
      "            13CH3CH2CN       Ethyl Cyanide          10(6,*)-9(6,*)  87.386018       0.0        0.0 44.568900880076114 1.2674554218762806 0.05593264404806506  32.06770837118608\n",
      "None\n",
      "       Species            Freq         Velocity     \n",
      "                                        km / s      \n",
      "---------------------- ---------- ------------------\n",
      "              29SiOv=0  85.759188  8.556376018357692\n",
      "          CH2CHCNv11=2  85.917187  8.881408948370087\n",
      "            CH3OCHOv=0  85.919086 15.507282644754282\n",
      "                  NH2D  85.924747  35.25755689359191\n",
      "UnidentifiedTransition    85.9351  71.37069688167857\n",
      "                   CCS  86.181391  71.38241217596571\n",
      "               CH3OCH3   86.22567   65.8210299394347\n",
      "                SiOv=1   86.24337 34.552449495088545\n",
      "           CH3CH2CNv=0  86.745317 37.301013961597654\n",
      "                H13CO+ 86.7542619  68.20762125676413\n",
      "                CH2DCN  86.824595 24.581224256761182\n",
      "         CH3SH,vt&le;2   86.83148  48.35027473937497\n",
      "                SiOv=0   86.84696 12.888865035728086\n",
      "                 HN13C  87.090735 35.686774808809105\n",
      "                CCHv=0  87.284105  41.40781828634328\n",
      "            13CH3CH2CN  87.386018  32.06770837118608\n"
     ]
    },
    {
     "name": "stderr",
     "output_type": "stream",
     "text": [
      "Warning: 'partition' will ignore the 'mask' of the MaskedArray.\n",
      "WARNING: gnorm=0.   wa2=[0. 0. 0.] [pyspeckit.mpfit.mpfit]\n"
     ]
    },
    {
     "name": "stdout",
     "output_type": "stream",
     "text": [
      "INFO: Left region selection unchanged.  xminpix, xmaxpix: 0,3 [pyspeckit.spectrum.interactive]\n",
      "INFO: Left region selection unchanged.  xminpix, xmaxpix: 0,21 [pyspeckit.spectrum.interactive]\n",
      "INFO: Left region selection unchanged.  xminpix, xmaxpix: 0,4 [pyspeckit.spectrum.interactive]\n"
     ]
    },
    {
     "name": "stderr",
     "output_type": "stream",
     "text": [
      "WARNING: Frequency 86.33417068188987 GHz had no hits [spectral_ids]\n",
      "Warning: 'partition' will ignore the 'mask' of the MaskedArray.\n"
     ]
    },
    {
     "name": "stdout",
     "output_type": "stream",
     "text": [
      "INFO: Left region selection unchanged.  xminpix, xmaxpix: 0,23 [pyspeckit.spectrum.interactive]\n",
      "INFO: Left region selection unchanged.  xminpix, xmaxpix: 0,16 [pyspeckit.spectrum.interactive]\n",
      "INFO: Left region selection unchanged.  xminpix, xmaxpix: 0,1 [pyspeckit.spectrum.interactive]\n",
      "INFO: Renormalizing data by factor 4.057002e-03 to improve fitting procedure [pyspeckit.spectrum.fitters]\n",
      "ERROR: number of parameters must not exceed data\n",
      "INFO: Left region selection unchanged.  xminpix, xmaxpix: 0,19 [pyspeckit.spectrum.interactive]\n",
      "INFO: Left region selection unchanged.  xminpix, xmaxpix: 0,13 [pyspeckit.spectrum.interactive]\n",
      "       Species             ChemicalName             QNs              Freq    log10_Aij   EU_K      TotalIntensity        PeakIntensity              RMS               Velocity     \n",
      "                                                                                                       km / s                                                          km / s      \n",
      "---------------------- ------------------- ---------------------- ---------- --------- -------- -------------------- --------------------- --------------------- ------------------\n",
      "UnidentifiedTransition        UNIDENTIFIED                U-86317     86.317       0.0      0.0 0.042848300682254224 0.0047591278874693915 0.0006484675985783301  14.54916149703779\n",
      "           CH3CH2CNv=0       Ethyl Cyanide          8(1,8)-7(0,7)  86.745317       0.0      0.0   0.0536892931411184  0.004818643346776931 0.0006484675985783301  6.872075788936542\n",
      "                H13CO+           Formylium J=1-0,F1=1/2-1/2,F=1-1 86.7542619  -5.14556  4.16352   0.0536892931411184  0.004818643346776931 0.0006484675985783301  37.78182049548892\n",
      "                SiOv=0    Silicon Monoxide                    2-1   86.84696  -4.53354  6.25203    2.117188178070361  0.047688583767718014 0.0006484675985783301 21.333984248338908\n",
      "                 HN13C Hydrogen Isocyanide            J=1-0,F=0-1  87.090735       0.0      0.0   0.5578051752650742  0.017138260974136225 0.0006484675985783301 17.119427377104895\n",
      "                  D2CS    Thioformaldehyde          3(1,2)-2(1,1)  87.302662  -5.04726 14.72595  0.01372939489284223  0.004057002134265001 0.0006484675985783301 1.1794227077958774\n",
      "            CH2CHCNv=0       Vinyl Cyanide          9(1,8)-8(1,7)  87.312815       0.0      0.0  0.01372939489284223  0.004057002134265001 0.0006484675985783301  36.04006545990511\n",
      "                CCHv=0             Ethynyl  N=1-0,J=3/2-1/2,F=2-1  87.316898  -5.81605  4.19268  0.01372939489284223  0.004057002134265001 0.0006484675985783301  50.05688789014094\n",
      "            13CH3CH2CN       Ethyl Cyanide         10(9,*)-9(9,*)  87.410324       0.0      0.0   0.2623894392300561   0.01000841990644867 0.0006484675985783301   55.1032842923258\n",
      "None\n",
      "       Species            Freq         Velocity     \n",
      "                                        km / s      \n",
      "---------------------- ---------- ------------------\n",
      "UnidentifiedTransition     86.317  14.54916149703779\n",
      "           CH3CH2CNv=0  86.745317  6.872075788936542\n",
      "                H13CO+ 86.7542619  37.78182049548892\n",
      "                SiOv=0   86.84696 21.333984248338908\n",
      "                 HN13C  87.090735 17.119427377104895\n",
      "                  D2CS  87.302662 1.1794227077958774\n",
      "            CH2CHCNv=0  87.312815  36.04006545990511\n",
      "                CCHv=0  87.316898  50.05688789014094\n",
      "            13CH3CH2CN  87.410324   55.1032842923258\n",
      "------------------------------------------------\n",
      "---------------- 87_spw102\n",
      "------------------------------------------------\n"
     ]
    },
    {
     "name": "stderr",
     "output_type": "stream",
     "text": [
      "Warning: 'partition' will ignore the 'mask' of the MaskedArray.\n"
     ]
    },
    {
     "name": "stdout",
     "output_type": "stream",
     "text": [
      "INFO: Left region selection unchanged.  xminpix, xmaxpix: 0,2 [pyspeckit.spectrum.interactive]\n",
      "ERROR: number of parameters must not exceed data\n",
      "INFO: Left region selection unchanged.  xminpix, xmaxpix: 0,5 [pyspeckit.spectrum.interactive]\n",
      "INFO: Left region selection unchanged.  xminpix, xmaxpix: 0,2 [pyspeckit.spectrum.interactive]\n",
      "ERROR: number of parameters must not exceed data\n",
      "INFO: Left region selection unchanged.  xminpix, xmaxpix: 0,3 [pyspeckit.spectrum.interactive]\n",
      "INFO: Left region selection unchanged.  xminpix, xmaxpix: 0,1 [pyspeckit.spectrum.interactive]\n",
      "INFO: Renormalizing data by factor 7.360039e-01 to improve fitting procedure [pyspeckit.spectrum.fitters]\n",
      "ERROR: number of parameters must not exceed data\n",
      "INFO: Left region selection unchanged.  xminpix, xmaxpix: 0,2 [pyspeckit.spectrum.interactive]\n",
      "ERROR: number of parameters must not exceed data\n",
      "INFO: Left region selection unchanged.  xminpix, xmaxpix: 0,3 [pyspeckit.spectrum.interactive]\n"
     ]
    },
    {
     "name": "stderr",
     "output_type": "stream",
     "text": [
      "Warning: 'partition' will ignore the 'mask' of the MaskedArray.\n",
      "WARNING: Frequency 86.09203266647212 GHz had no hits [spectral_ids]\n"
     ]
    },
    {
     "name": "stdout",
     "output_type": "stream",
     "text": [
      "INFO: Left region selection unchanged.  xminpix, xmaxpix: 0,5 [pyspeckit.spectrum.interactive]\n",
      "INFO: Left region selection unchanged.  xminpix, xmaxpix: 0,3 [pyspeckit.spectrum.interactive]\n",
      "INFO: Left region selection unchanged.  xminpix, xmaxpix: 0,1 [pyspeckit.spectrum.interactive]\n",
      "INFO: Renormalizing data by factor 8.733748e-01 to improve fitting procedure [pyspeckit.spectrum.fitters]\n",
      "ERROR: number of parameters must not exceed data\n",
      "INFO: Left region selection unchanged.  xminpix, xmaxpix: 0,25 [pyspeckit.spectrum.interactive]\n"
     ]
    },
    {
     "name": "stderr",
     "output_type": "stream",
     "text": [
      "Warning: 'partition' will ignore the 'mask' of the MaskedArray.\n",
      "WARNING: Frequency 86.31807650160306 GHz had no hits [spectral_ids]\n",
      "WARNING: Frequency 86.33538308102248 GHz had no hits [spectral_ids]\n"
     ]
    },
    {
     "name": "stdout",
     "output_type": "stream",
     "text": [
      "INFO: Left region selection unchanged.  xminpix, xmaxpix: 0,3 [pyspeckit.spectrum.interactive]\n",
      "INFO: Left region selection unchanged.  xminpix, xmaxpix: 0,8 [pyspeckit.spectrum.interactive]\n",
      "INFO: Left region selection unchanged.  xminpix, xmaxpix: 0,2 [pyspeckit.spectrum.interactive]\n",
      "ERROR: number of parameters must not exceed data\n",
      "INFO: Left region selection unchanged.  xminpix, xmaxpix: 0,32 [pyspeckit.spectrum.interactive]\n",
      "INFO: Left region selection unchanged.  xminpix, xmaxpix: 0,17 [pyspeckit.spectrum.interactive]\n",
      "INFO: Left region selection unchanged.  xminpix, xmaxpix: 0,19 [pyspeckit.spectrum.interactive]\n",
      "INFO: Left region selection unchanged.  xminpix, xmaxpix: 0,6 [pyspeckit.spectrum.interactive]\n",
      "INFO: Left region selection unchanged.  xminpix, xmaxpix: 0,14 [pyspeckit.spectrum.interactive]\n",
      "       Species             ChemicalName              QNs              Freq    log10_Aij    EU_K      TotalIntensity     PeakIntensity            RMS              Velocity     \n",
      "                                                                                                         km / s                                                    km / s      \n",
      "---------------------- ------------------- ----------------------- ---------- --------- ---------- ------------------ ------------------ ------------------- ------------------\n",
      "UnidentifiedTransition        UNIDENTIFIED               U-85468.3    85.4683       0.0        0.0 13.783574212294866 0.9065730283042128 0.05326205022285738 31.800640056208586\n",
      "              29SiOv=0    Silicon Monoxide                     2-1  85.759188       0.0        0.0  5.265093604040198 0.7870555332292801 0.05326205022285738 37.960791753922166\n",
      "          CH2CHCNv11=2       Vinyl Cyanide           9(6,*)-8(6,*)  85.917187       0.0        0.0  7.032751749108901 1.1883569196997585 0.05326205022285738  9.996276016827409\n",
      "            CH3OCHOv=0      Methyl Formate          7(6,1)-6(6,0)E  85.919086  -5.60917   40.43509  7.032751749108901 1.1883569196997585 0.05326205022285738 16.622125072207357\n",
      "                  NH2D             Ammonia 1(1,1)0s-1(0,1)0a,F=0-1  85.924747       0.0        0.0  7.032751749108901 1.1883569196997585 0.05326205022285738 36.372325871623225\n",
      "              HC15Nv=0    Hydrogen Cyanide                     1-0  86.054961  -4.62943    4.12996  2.490728385387586 0.7360038786327754 0.05326205022285738 5.2164295653206745\n",
      "               CH3OCH3      Dimethyl ether         2(2,0)-2(1,1)EA   86.22567  -5.47152    8.35749  13.35450348313659  1.647799681805618 0.05326205022285738  70.36841978084229\n",
      "                SiOv=1    Silicon Monoxide                     2-1   86.24337  -4.53713 1775.33934  48.35352480601711  5.207043941192271 0.05326205022285738   34.5050009532707\n",
      "           CH3CH2CNv=0       Ethyl Cyanide           8(1,8)-7(0,7)  86.745317       0.0        0.0  9.657188288181436 1.0920672799412392 0.05326205022285738 31.043928256440303\n",
      "                H13CO+           Formylium  J=1-0,F1=1/2-1/2,F=1-1 86.7542619  -5.14556    4.16352  9.657188288181436 1.0920672799412392 0.05326205022285738  61.95118069577259\n",
      "                SiOv=0    Silicon Monoxide                     2-1   86.84696  -4.53354    6.25203 194.34698938740206 3.7608566035049664 0.05326205022285738  7.863897371297875\n",
      "                 HN13C Hydrogen Isocyanide             J=1-0,F=0-1  87.090735       0.0        0.0  74.41074111147229 2.1226242681988094 0.05326205022285738   24.5686478215698\n",
      "            CH2CHCNv=0       Vinyl Cyanide           9(1,8)-8(1,7)  87.312815       0.0        0.0  75.67469698332917 1.9016111285296293 0.05326205022285738  24.16952469300545\n",
      "                CCHv=0             Ethynyl   N=1-0,J=3/2-1/2,F=2-1  87.316898  -5.81605    4.19268  75.67469698332917 1.9016111285296293 0.05326205022285738 38.186902198135854\n",
      "            13CH3CH2CN       Ethyl Cyanide          10(9,*)-9(9,*)  87.410324       0.0        0.0 47.321709141315964 1.3734797672423327 0.05326205022285738 50.647863036083855\n",
      "None\n",
      "       Species            Freq         Velocity     \n",
      "                                        km / s      \n",
      "---------------------- ---------- ------------------\n",
      "UnidentifiedTransition    85.4683 31.800640056208586\n",
      "              29SiOv=0  85.759188 37.960791753922166\n",
      "          CH2CHCNv11=2  85.917187  9.996276016827409\n",
      "            CH3OCHOv=0  85.919086 16.622125072207357\n",
      "                  NH2D  85.924747 36.372325871623225\n",
      "              HC15Nv=0  86.054961 5.2164295653206745\n",
      "               CH3OCH3   86.22567  70.36841978084229\n",
      "                SiOv=1   86.24337   34.5050009532707\n",
      "           CH3CH2CNv=0  86.745317 31.043928256440303\n",
      "                H13CO+ 86.7542619  61.95118069577259\n",
      "                SiOv=0   86.84696  7.863897371297875\n",
      "                 HN13C  87.090735   24.5686478215698\n",
      "            CH2CHCNv=0  87.312815  24.16952469300545\n",
      "                CCHv=0  87.316898 38.186902198135854\n",
      "            13CH3CH2CN  87.410324 50.647863036083855\n"
     ]
    },
    {
     "name": "stderr",
     "output_type": "stream",
     "text": [
      "Warning: 'partition' will ignore the 'mask' of the MaskedArray.\n",
      "WARNING: gnorm=0.   wa2=[0. 0. 0.] [pyspeckit.mpfit.mpfit]\n"
     ]
    },
    {
     "name": "stdout",
     "output_type": "stream",
     "text": [
      "INFO: Left region selection unchanged.  xminpix, xmaxpix: 0,20 [pyspeckit.spectrum.interactive]\n",
      "INFO: Left region selection unchanged.  xminpix, xmaxpix: 0,2 [pyspeckit.spectrum.interactive]\n",
      "ERROR: number of parameters must not exceed data\n"
     ]
    },
    {
     "name": "stderr",
     "output_type": "stream",
     "text": [
      "WARNING: Frequency 86.33396492652211 GHz had no hits [spectral_ids]\n"
     ]
    },
    {
     "name": "stdout",
     "output_type": "stream",
     "text": [
      "INFO: Left region selection unchanged.  xminpix, xmaxpix: 0,23 [pyspeckit.spectrum.interactive]\n",
      "INFO: Left region selection unchanged.  xminpix, xmaxpix: 0,14 [pyspeckit.spectrum.interactive]\n"
     ]
    },
    {
     "name": "stderr",
     "output_type": "stream",
     "text": [
      "WARNING: Frequency 87.41811773747847 GHz had no hits [spectral_ids]\n"
     ]
    },
    {
     "name": "stdout",
     "output_type": "stream",
     "text": [
      "INFO: Left region selection unchanged.  xminpix, xmaxpix: 0,16 [pyspeckit.spectrum.interactive]\n",
      "INFO: Left region selection unchanged.  xminpix, xmaxpix: 0,2 [pyspeckit.spectrum.interactive]\n",
      "ERROR: number of parameters must not exceed data\n",
      "INFO: Left region selection unchanged.  xminpix, xmaxpix: 0,3 [pyspeckit.spectrum.interactive]\n",
      "INFO: Left region selection unchanged.  xminpix, xmaxpix: 0,8 [pyspeckit.spectrum.interactive]\n",
      "       Species           ChemicalName            QNs              Freq    log10_Aij   EU_K     TotalIntensity       PeakIntensity              RMS               Velocity     \n",
      "                                                                                                   km / s                                                         km / s      \n",
      "---------------------- ---------------- ---------------------- ---------- --------- ------- -------------------- -------------------- --------------------- ------------------\n",
      "           CH3CH2CNv=0    Ethyl Cyanide          8(1,8)-7(0,7)  86.745317       0.0     0.0 0.023653602894563024 0.004067588903788666 0.0005994349380333719 3.5536615492627286\n",
      "                H13CO+        Formylium J=1-0,F1=1/2-1/2,F=1-1 86.7542619  -5.14556 4.16352 0.023653602894563024 0.004067588903788666 0.0005994349380333719  34.46374840481024\n",
      "                SiOv=0 Silicon Monoxide                    2-1   86.84696  -4.53354 6.25203   2.0788476267025113  0.05020023191282069 0.0005994349380333719 20.138293494436997\n",
      "            CH2CHCNv=0    Vinyl Cyanide          9(1,8)-8(1,7)  87.312815       0.0     0.0   0.5818131629048676   0.0204265008135755 0.0005994349380333719 15.614982461765528\n",
      "                CCHv=0          Ethynyl  N=1-0,J=3/2-1/2,F=2-1  87.316898  -5.81605 4.19268   0.5818131629048676   0.0204265008135755 0.0005994349380333719  29.63275998335013\n",
      "UnidentifiedTransition     UNIDENTIFIED                U-87323     87.323       0.0     0.0   0.5818131629048676   0.0204265008135755 0.0005994349380333719 50.579735689797815\n",
      "            13CH3CH2CN    Ethyl Cyanide         10(9,*)-9(9,*)  87.410324       0.0     0.0  0.06763421891942345 0.008674998596583331 0.0005994349380333719  57.83734156982349\n",
      "None\n",
      "       Species            Freq         Velocity     \n",
      "                                        km / s      \n",
      "---------------------- ---------- ------------------\n",
      "           CH3CH2CNv=0  86.745317 3.5536615492627286\n",
      "                H13CO+ 86.7542619  34.46374840481024\n",
      "                SiOv=0   86.84696 20.138293494436997\n",
      "            CH2CHCNv=0  87.312815 15.614982461765528\n",
      "                CCHv=0  87.316898  29.63275998335013\n",
      "UnidentifiedTransition     87.323 50.579735689797815\n",
      "            13CH3CH2CN  87.410324  57.83734156982349\n",
      "------------------------------------------------\n",
      "---------------- 89_spw27\n",
      "------------------------------------------------\n"
     ]
    },
    {
     "name": "stderr",
     "output_type": "stream",
     "text": [
      "Warning: 'partition' will ignore the 'mask' of the MaskedArray.\n",
      "Warning: 'partition' will ignore the 'mask' of the MaskedArray.\n"
     ]
    },
    {
     "name": "stdout",
     "output_type": "stream",
     "text": [
      "INFO: Left region selection unchanged.  xminpix, xmaxpix: 0,1 [pyspeckit.spectrum.interactive]\n",
      "INFO: Renormalizing data by factor 8.916574e-01 to improve fitting procedure [pyspeckit.spectrum.fitters]\n",
      "ERROR: number of parameters must not exceed data\n",
      "INFO: Left region selection unchanged.  xminpix, xmaxpix: 0,6 [pyspeckit.spectrum.interactive]\n",
      "INFO: Left region selection unchanged.  xminpix, xmaxpix: 0,6 [pyspeckit.spectrum.interactive]\n",
      "INFO: Left region selection unchanged.  xminpix, xmaxpix: 0,7 [pyspeckit.spectrum.interactive]\n",
      "INFO: Left region selection unchanged.  xminpix, xmaxpix: 0,24 [pyspeckit.spectrum.interactive]\n",
      "INFO: Left region selection unchanged.  xminpix, xmaxpix: 0,10 [pyspeckit.spectrum.interactive]\n",
      "INFO: Left region selection unchanged.  xminpix, xmaxpix: 0,55 [pyspeckit.spectrum.interactive]\n",
      "INFO: Left region selection unchanged.  xminpix, xmaxpix: 0,2 [pyspeckit.spectrum.interactive]\n",
      "ERROR: number of parameters must not exceed data\n",
      "INFO: Left region selection unchanged.  xminpix, xmaxpix: 0,1 [pyspeckit.spectrum.interactive]\n",
      "INFO: Renormalizing data by factor 7.372174e-01 to improve fitting procedure [pyspeckit.spectrum.fitters]\n",
      "ERROR: number of parameters must not exceed data\n"
     ]
    },
    {
     "name": "stderr",
     "output_type": "stream",
     "text": [
      "Warning: 'partition' will ignore the 'mask' of the MaskedArray.\n",
      "Warning: 'partition' will ignore the 'mask' of the MaskedArray.\n"
     ]
    },
    {
     "name": "stdout",
     "output_type": "stream",
     "text": [
      "INFO: Left region selection unchanged.  xminpix, xmaxpix: 0,1 [pyspeckit.spectrum.interactive]\n",
      "INFO: Renormalizing data by factor 7.585789e-01 to improve fitting procedure [pyspeckit.spectrum.fitters]\n",
      "ERROR: number of parameters must not exceed data\n",
      "INFO: Left region selection unchanged.  xminpix, xmaxpix: 0,30 [pyspeckit.spectrum.interactive]\n",
      "INFO: Left region selection unchanged.  xminpix, xmaxpix: 0,2 [pyspeckit.spectrum.interactive]\n",
      "ERROR: number of parameters must not exceed data\n",
      "       Species             ChemicalName                QNs                Freq    log10_Aij   EU_K     TotalIntensity     PeakIntensity            RMS              Velocity     \n",
      "                                                                                                           km / s                                                    km / s      \n",
      "---------------------- ------------------- --------------------------- ---------- --------- -------- ------------------ ------------------ ------------------- ------------------\n",
      "                CCHv=0             Ethynyl       N=1-0,J=1/2-1/2,F=1-0  87.446512  -6.42386  4.19675 2.9534584041421637 0.8916573987909522 0.05798479010278622  39.07043282424146\n",
      "                NH2CHO           Formamide         4(1,3)-3(1,2),F=4-4 87.8485326  -5.57073 13.52444  17.96645019601389 1.0865496661130811 0.05798479010278622  38.99212469969046\n",
      "               HC5Nv=0      Cyanobutadiyne                     J=33-32   87.86363       0.0      0.0    21.386227595467 1.2701371461479571 0.05798479010278622  60.50494310133934\n",
      "                   C6H   1,3,5-Hexatriynyl J=63/2-61/2,&Omega;=1/2,l=f  87.921593  -3.92274 90.68566  33.88858184098496 2.9134703239200483 0.05798479010278622   56.7985509051315\n",
      "               HNCOv=0      Isocyanic Acid         4(0,4)-3(0,3),F=3-3 87.9243509  -6.62871  10.5494  33.88858184098496 2.9134703239200483 0.05798479010278622  66.20028053669128\n",
      "              Si34Sv=0 Silicon monosulfide                         5-4 88.2858282  -4.96018 12.71123   30.7724134695579  1.228487976482296 0.05798479010278622   4.45098215914056\n",
      "UnidentifiedTransition        UNIDENTIFIED                     U-88292     88.292       0.0      0.0   30.7724134695579  1.228487976482296 0.05798479010278622 25.406806262275158\n",
      "                HCNv=0    Hydrogen Cyanide                 J=1-0,F=1-1 88.6304157       0.0      0.0 453.60314893664025  8.055022738524231 0.05798479010278622 43.193065738923316\n",
      "            CH313CH2CN       Ethyl Cyanide              10(5,*)-9(5,*)  89.129913       0.0      0.0 5.4085486397938105 0.8252071926849268 0.05798479010278622  7.246082738063295\n",
      "            CH3CH213CN       Ethyl Cyanide              10(4,7)-9(4,6)  89.142905       0.0      0.0 5.4085486397938105 0.8252071926849268 0.05798479010278622  50.93783221860995\n",
      "               HCO+v=0           Formylium                         1-0 89.1885247  -4.37813  4.28035  209.2476128755439  4.032284728626076 0.05798479010278622  41.02629301013197\n",
      "None\n",
      "       Species            Freq         Velocity     \n",
      "                                        km / s      \n",
      "---------------------- ---------- ------------------\n",
      "                CCHv=0  87.446512  39.07043282424146\n",
      "                NH2CHO 87.8485326  38.99212469969046\n",
      "               HC5Nv=0   87.86363  60.50494310133934\n",
      "                   C6H  87.921593   56.7985509051315\n",
      "               HNCOv=0 87.9243509  66.20028053669128\n",
      "              Si34Sv=0 88.2858282   4.45098215914056\n",
      "UnidentifiedTransition     88.292 25.406806262275158\n",
      "                HCNv=0 88.6304157 43.193065738923316\n",
      "            CH313CH2CN  89.129913  7.246082738063295\n",
      "            CH3CH213CN  89.142905  50.93783221860995\n",
      "               HCO+v=0 89.1885247  41.02629301013197\n"
     ]
    },
    {
     "name": "stderr",
     "output_type": "stream",
     "text": [
      "WARNING: Frequency 89.1931795784547 GHz had no hits [spectral_ids]\n",
      "Warning: 'partition' will ignore the 'mask' of the MaskedArray.\n"
     ]
    },
    {
     "name": "stdout",
     "output_type": "stream",
     "text": [
      "INFO: Left region selection unchanged.  xminpix, xmaxpix: 0,5 [pyspeckit.spectrum.interactive]\n",
      "INFO: Left region selection unchanged.  xminpix, xmaxpix: 0,2 [pyspeckit.spectrum.interactive]\n",
      "ERROR: number of parameters must not exceed data\n"
     ]
    },
    {
     "name": "stderr",
     "output_type": "stream",
     "text": [
      "WARNING: Frequency 87.89940848578425 GHz had no hits [spectral_ids]\n",
      "Warning: 'partition' will ignore the 'mask' of the MaskedArray.\n"
     ]
    },
    {
     "name": "stdout",
     "output_type": "stream",
     "text": [
      "INFO: Left region selection unchanged.  xminpix, xmaxpix: 0,19 [pyspeckit.spectrum.interactive]\n",
      "INFO: Left region selection unchanged.  xminpix, xmaxpix: 0,1 [pyspeckit.spectrum.interactive]\n",
      "INFO: Renormalizing data by factor 3.117186e-03 to improve fitting procedure [pyspeckit.spectrum.fitters]\n",
      "ERROR: number of parameters must not exceed data\n",
      "INFO: Left region selection unchanged.  xminpix, xmaxpix: 0,8 [pyspeckit.spectrum.interactive]\n"
     ]
    },
    {
     "name": "stderr",
     "output_type": "stream",
     "text": [
      "WARNING: Frequency 88.60448108990158 GHz had no hits [spectral_ids]\n",
      "Warning: 'partition' will ignore the 'mask' of the MaskedArray.\n",
      "Warning: 'partition' will ignore the 'mask' of the MaskedArray.\n"
     ]
    },
    {
     "name": "stdout",
     "output_type": "stream",
     "text": [
      "INFO: Left region selection unchanged.  xminpix, xmaxpix: 0,28 [pyspeckit.spectrum.interactive]\n",
      "INFO: Left region selection unchanged.  xminpix, xmaxpix: 0,1 [pyspeckit.spectrum.interactive]\n",
      "INFO: Renormalizing data by factor 3.382016e-03 to improve fitting procedure [pyspeckit.spectrum.fitters]\n",
      "ERROR: number of parameters must not exceed data\n",
      "INFO: Left region selection unchanged.  xminpix, xmaxpix: 0,1 [pyspeckit.spectrum.interactive]\n",
      "INFO: Renormalizing data by factor 3.127091e-03 to improve fitting procedure [pyspeckit.spectrum.fitters]\n",
      "ERROR: number of parameters must not exceed data\n",
      "INFO: Left region selection unchanged.  xminpix, xmaxpix: 0,6 [pyspeckit.spectrum.interactive]\n"
     ]
    },
    {
     "name": "stderr",
     "output_type": "stream",
     "text": [
      "WARNING: Frequency 89.16193702320872 GHz had no hits [spectral_ids]\n"
     ]
    },
    {
     "name": "stdout",
     "output_type": "stream",
     "text": [
      "INFO: Left region selection unchanged.  xminpix, xmaxpix: 0,16 [pyspeckit.spectrum.interactive]\n",
      " Species      ChemicalName               QNs                Freq    log10_Aij   EU_K      TotalIntensity        PeakIntensity              RMS               Velocity     \n",
      "                                                                                              km / s                                                          km / s      \n",
      "---------- ----------------- --------------------------- ---------- --------- -------- -------------------- --------------------- --------------------- ------------------\n",
      "    NH2CHO         Formamide         4(1,3)-3(1,2),F=4-4 87.8485326  -5.57073 13.52444  0.08894623716563489  0.007045451806948974 0.0006400262598213728   28.3694818836631\n",
      "       C6H 1,3,5-Hexatriynyl J=63/2-61/2,&Omega;=1/2,l=f  87.921593  -3.92274 90.68566    6.247557953524812    0.2020111131092124 0.0006400262598213728 10.448934122962891\n",
      "   HNCOv=0    Isocyanic Acid         4(0,4)-3(0,3),F=3-3 87.9243509  -6.62871  10.5494    6.247557953524812    0.2020111131092124 0.0006400262598213728 19.852117590767296\n",
      "H13CCCNv=0    Cyanoacetylene                J=10-9,F=9-8 88.1667826  -4.75847 23.27255 0.010325130149467199 0.0031171858314781287 0.0006400262598213728  30.97020170598443\n",
      "    HCNv=0  Hydrogen Cyanide                 J=1-0,F=1-1 88.6304157       0.0      0.0    8.287155554721132   0.33454127545843654 0.0006400262598213728 39.418747259906716\n",
      "    CH3NH2       Methylamine         2(0)B1-1(0)B2,F=1-0  88.668502  -6.92689  6.67972  0.01120233261503308  0.003382015722958068 0.0006400262598213728  23.63051039870414\n",
      "CH3CH213CN     Ethyl Cyanide              10(4,7)-9(4,6)  89.142905       0.0      0.0 0.010357937982248043  0.003127090608466458 0.0006400262598213728  36.16077350600829\n",
      "   HCO+v=0         Formylium                         1-0 89.1885247  -4.37813  4.28035    3.660536881006903     0.142499552513457 0.0006400262598213728  41.72107438347853\n",
      "None\n",
      " Species      Freq         Velocity     \n",
      "                            km / s      \n",
      "---------- ---------- ------------------\n",
      "    NH2CHO 87.8485326   28.3694818836631\n",
      "       C6H  87.921593 10.448934122962891\n",
      "   HNCOv=0 87.9243509 19.852117590767296\n",
      "H13CCCNv=0 88.1667826  30.97020170598443\n",
      "    HCNv=0 88.6304157 39.418747259906716\n",
      "    CH3NH2  88.668502  23.63051039870414\n",
      "CH3CH213CN  89.142905  36.16077350600829\n",
      "   HCO+v=0 89.1885247  41.72107438347853\n",
      "------------------------------------------------\n",
      "---------------- 89_spw104\n",
      "------------------------------------------------\n"
     ]
    },
    {
     "name": "stderr",
     "output_type": "stream",
     "text": [
      "Warning: 'partition' will ignore the 'mask' of the MaskedArray.\n",
      "Warning: 'partition' will ignore the 'mask' of the MaskedArray.\n"
     ]
    },
    {
     "name": "stdout",
     "output_type": "stream",
     "text": [
      "INFO: Left region selection unchanged.  xminpix, xmaxpix: 0,1 [pyspeckit.spectrum.interactive]\n",
      "INFO: Renormalizing data by factor 7.668724e-01 to improve fitting procedure [pyspeckit.spectrum.fitters]\n",
      "ERROR: number of parameters must not exceed data\n",
      "INFO: Left region selection unchanged.  xminpix, xmaxpix: 0,5 [pyspeckit.spectrum.interactive]\n",
      "INFO: Left region selection unchanged.  xminpix, xmaxpix: 0,8 [pyspeckit.spectrum.interactive]\n",
      "INFO: Left region selection unchanged.  xminpix, xmaxpix: 0,1 [pyspeckit.spectrum.interactive]\n",
      "INFO: Renormalizing data by factor 7.400611e-01 to improve fitting procedure [pyspeckit.spectrum.fitters]\n",
      "ERROR: number of parameters must not exceed data\n",
      "INFO: Left region selection unchanged.  xminpix, xmaxpix: 0,7 [pyspeckit.spectrum.interactive]\n"
     ]
    },
    {
     "name": "stderr",
     "output_type": "stream",
     "text": [
      "Warning: 'partition' will ignore the 'mask' of the MaskedArray.\n"
     ]
    },
    {
     "name": "stdout",
     "output_type": "stream",
     "text": [
      "INFO: Left region selection unchanged.  xminpix, xmaxpix: 0,24 [pyspeckit.spectrum.interactive]\n",
      "INFO: Left region selection unchanged.  xminpix, xmaxpix: 0,1 [pyspeckit.spectrum.interactive]\n",
      "INFO: Renormalizing data by factor 7.954626e-01 to improve fitting procedure [pyspeckit.spectrum.fitters]\n",
      "ERROR: number of parameters must not exceed data\n",
      "INFO: Left region selection unchanged.  xminpix, xmaxpix: 0,10 [pyspeckit.spectrum.interactive]\n"
     ]
    },
    {
     "name": "stderr",
     "output_type": "stream",
     "text": [
      "Warning: 'partition' will ignore the 'mask' of the MaskedArray.\n",
      "WARNING: Frequency 88.57171626738656 GHz had no hits [spectral_ids]\n",
      "Warning: 'partition' will ignore the 'mask' of the MaskedArray.\n"
     ]
    },
    {
     "name": "stdout",
     "output_type": "stream",
     "text": [
      "INFO: Left region selection unchanged.  xminpix, xmaxpix: 0,1 [pyspeckit.spectrum.interactive]\n",
      "INFO: Renormalizing data by factor 7.421887e-01 to improve fitting procedure [pyspeckit.spectrum.fitters]\n",
      "ERROR: number of parameters must not exceed data\n",
      "INFO: Left region selection unchanged.  xminpix, xmaxpix: 0,56 [pyspeckit.spectrum.interactive]\n",
      "INFO: Left region selection unchanged.  xminpix, xmaxpix: 0,4 [pyspeckit.spectrum.interactive]\n"
     ]
    },
    {
     "name": "stderr",
     "output_type": "stream",
     "text": [
      "WARNING: gnorm=0.   wa2=[0. 0. 0.] [pyspeckit.mpfit.mpfit]\n",
      "Warning: 'partition' will ignore the 'mask' of the MaskedArray.\n",
      "Warning: 'partition' will ignore the 'mask' of the MaskedArray.\n"
     ]
    },
    {
     "name": "stdout",
     "output_type": "stream",
     "text": [
      "INFO: Left region selection unchanged.  xminpix, xmaxpix: 0,1 [pyspeckit.spectrum.interactive]\n",
      "INFO: Renormalizing data by factor 8.828769e-01 to improve fitting procedure [pyspeckit.spectrum.fitters]\n",
      "ERROR: number of parameters must not exceed data\n",
      "INFO: Left region selection unchanged.  xminpix, xmaxpix: 0,1 [pyspeckit.spectrum.interactive]\n",
      "INFO: Renormalizing data by factor 8.422890e-01 to improve fitting procedure [pyspeckit.spectrum.fitters]\n",
      "ERROR: number of parameters must not exceed data\n",
      "INFO: Left region selection unchanged.  xminpix, xmaxpix: 0,2 [pyspeckit.spectrum.interactive]\n",
      "ERROR: number of parameters must not exceed data\n",
      "INFO: Left region selection unchanged.  xminpix, xmaxpix: 0,30 [pyspeckit.spectrum.interactive]\n",
      "INFO: Left region selection unchanged.  xminpix, xmaxpix: 0,1 [pyspeckit.spectrum.interactive]\n",
      "INFO: Renormalizing data by factor 7.780942e-01 to improve fitting procedure [pyspeckit.spectrum.fitters]\n",
      "ERROR: number of parameters must not exceed data\n",
      "INFO: Left region selection unchanged.  xminpix, xmaxpix: 0,2 [pyspeckit.spectrum.interactive]\n",
      "ERROR: number of parameters must not exceed data\n",
      "  Species      ChemicalName               QNs                Freq    log10_Aij   EU_K     TotalIntensity     PeakIntensity            RMS               Velocity     \n",
      "                                                                                              km / s                                                     km / s      \n",
      "----------- ----------------- --------------------------- ---------- --------- -------- ------------------ ------------------ -------------------- ------------------\n",
      "     CCHv=0           Ethynyl       N=1-0,J=1/2-1/2,F=1-0  87.446512  -6.42386  4.19675 2.5401306277776605 0.7668723921887902 0.054806617917447016  39.06958596252986\n",
      "     NH2CHO         Formamide         4(1,3)-3(1,2),F=4-4 87.8485326  -5.57073 13.52444 16.635373165630405 1.1306443883092283 0.054806617917447016  38.20932630987004\n",
      "    HC5Nv=0    Cyanobutadiyne                     J=33-32   87.86363       0.0      0.0 30.849954510997097  1.701848374768983 0.054806617917447016  60.49996114819569\n",
      "       HCCN    Cyanomethylene                 N=4-3,J=4-3  87.890195       0.0      0.0 2.4513228308618733  0.740061075116719 0.054806617917447016 16.865313726866916\n",
      "    HNCOv=0    Isocyanic Acid               4(2,3)-3(2,2)  87.898416       0.0      0.0 2.4513228308618733  0.740061075116719 0.054806617917447016  44.90285137113344\n",
      "        C6H 1,3,5-Hexatriynyl J=63/2-61/2,&Omega;=1/2,l=f  87.921593  -3.92274 90.68566  34.67368446216461 2.4435755354458313 0.054806617917447016   57.9049828774729\n",
      " H13CCCNv=0    Cyanoacetylene                J=10-9,F=9-8 88.1667826  -4.75847 23.27255  2.634830537162976 0.7954625541498369 0.054806617917447016  40.92920063985518\n",
      "CH3OHvt=0-2          Methanol         15(3,13)-14(4,10)++  88.594809       0.0      0.0  2.458370109802132  0.742188667926411 0.054806617917447016  38.61004985087033\n",
      "     HCNv=0  Hydrogen Cyanide                 J=1-0,F=1-1 88.6304157       0.0      0.0  534.7581505165826 7.9225422145070175 0.054806617917447016  43.07219794393401\n",
      " CH313CH2CN     Ethyl Cyanide              10(5,*)-9(5,*)  89.129913       0.0      0.0 12.125647094198937 1.0924091500784485 0.054806617917447016  4.029484597067053\n",
      " CH3CH213CN     Ethyl Cyanide              10(4,7)-9(4,6)  89.142905       0.0      0.0 12.125647094198937 1.0924091500784485 0.054806617917447016  47.72170287592186\n",
      "    HCO+v=0         Formylium                         1-0 89.1885247  -4.37813  4.28035 247.62003328266516  4.792411852758183 0.054806617917447016  40.22720859879051\n",
      "None\n",
      "  Species      Freq         Velocity     \n",
      "                             km / s      \n",
      "----------- ---------- ------------------\n",
      "     CCHv=0  87.446512  39.06958596252986\n",
      "     NH2CHO 87.8485326  38.20932630987004\n",
      "    HC5Nv=0   87.86363  60.49996114819569\n",
      "       HCCN  87.890195 16.865313726866916\n",
      "    HNCOv=0  87.898416  44.90285137113344\n",
      "        C6H  87.921593   57.9049828774729\n",
      " H13CCCNv=0 88.1667826  40.92920063985518\n",
      "CH3OHvt=0-2  88.594809  38.61004985087033\n",
      "     HCNv=0 88.6304157  43.07219794393401\n",
      " CH313CH2CN  89.129913  4.029484597067053\n",
      " CH3CH213CN  89.142905  47.72170287592186\n",
      "    HCO+v=0 89.1885247  40.22720859879051\n"
     ]
    },
    {
     "name": "stderr",
     "output_type": "stream",
     "text": [
      "Warning: 'partition' will ignore the 'mask' of the MaskedArray.\n",
      "WARNING: Frequency 89.18878631682875 GHz had no hits [spectral_ids]\n",
      "WARNING: Frequency 89.19318025746846 GHz had no hits [spectral_ids]\n",
      "Warning: 'partition' will ignore the 'mask' of the MaskedArray.\n",
      "Warning: 'partition' will ignore the 'mask' of the MaskedArray.\n"
     ]
    },
    {
     "name": "stdout",
     "output_type": "stream",
     "text": [
      "INFO: Left region selection unchanged.  xminpix, xmaxpix: 0,1 [pyspeckit.spectrum.interactive]\n",
      "INFO: Renormalizing data by factor 2.645807e-03 to improve fitting procedure [pyspeckit.spectrum.fitters]\n",
      "ERROR: number of parameters must not exceed data\n",
      "INFO: Left region selection unchanged.  xminpix, xmaxpix: 0,2 [pyspeckit.spectrum.interactive]\n",
      "ERROR: number of parameters must not exceed data\n",
      "INFO: Left region selection unchanged.  xminpix, xmaxpix: 0,2 [pyspeckit.spectrum.interactive]\n",
      "ERROR: number of parameters must not exceed data\n",
      "INFO: Left region selection unchanged.  xminpix, xmaxpix: 0,1 [pyspeckit.spectrum.interactive]\n",
      "INFO: Renormalizing data by factor 7.579558e-03 to improve fitting procedure [pyspeckit.spectrum.fitters]\n",
      "ERROR: number of parameters must not exceed data\n",
      "INFO: Left region selection unchanged.  xminpix, xmaxpix: 0,13 [pyspeckit.spectrum.interactive]\n"
     ]
    },
    {
     "name": "stderr",
     "output_type": "stream",
     "text": [
      "Warning: 'partition' will ignore the 'mask' of the MaskedArray.\n",
      "Warning: 'partition' will ignore the 'mask' of the MaskedArray.\n"
     ]
    },
    {
     "name": "stdout",
     "output_type": "stream",
     "text": [
      "INFO: Left region selection unchanged.  xminpix, xmaxpix: 0,1 [pyspeckit.spectrum.interactive]\n",
      "INFO: Renormalizing data by factor 2.978067e-03 to improve fitting procedure [pyspeckit.spectrum.fitters]\n",
      "ERROR: number of parameters must not exceed data\n",
      "INFO: Left region selection unchanged.  xminpix, xmaxpix: 0,8 [pyspeckit.spectrum.interactive]\n",
      "INFO: Left region selection unchanged.  xminpix, xmaxpix: 0,3 [pyspeckit.spectrum.interactive]\n"
     ]
    },
    {
     "name": "stderr",
     "output_type": "stream",
     "text": [
      "WARNING: Frequency 88.60294907056397 GHz had no hits [spectral_ids]\n"
     ]
    },
    {
     "name": "stdout",
     "output_type": "stream",
     "text": [
      "INFO: Left region selection unchanged.  xminpix, xmaxpix: 0,10 [pyspeckit.spectrum.interactive]\n",
      "INFO: Left region selection unchanged.  xminpix, xmaxpix: 0,4 [pyspeckit.spectrum.interactive]\n",
      "INFO: Left region selection unchanged.  xminpix, xmaxpix: 0,2 [pyspeckit.spectrum.interactive]\n",
      "ERROR: number of parameters must not exceed data\n",
      "INFO: Left region selection unchanged.  xminpix, xmaxpix: 0,5 [pyspeckit.spectrum.interactive]\n",
      "INFO: Left region selection unchanged.  xminpix, xmaxpix: 0,10 [pyspeckit.spectrum.interactive]\n"
     ]
    },
    {
     "name": "stderr",
     "output_type": "stream",
     "text": [
      "WARNING: Frequency 88.63563801185391 GHz had no hits [spectral_ids]\n",
      "WARNING: Frequency 89.16369910986245 GHz had no hits [spectral_ids]\n",
      "Warning: 'partition' will ignore the 'mask' of the MaskedArray.\n"
     ]
    },
    {
     "name": "stdout",
     "output_type": "stream",
     "text": [
      "INFO: Left region selection unchanged.  xminpix, xmaxpix: 0,1 [pyspeckit.spectrum.interactive]\n",
      "INFO: Renormalizing data by factor 4.281579e-03 to improve fitting procedure [pyspeckit.spectrum.fitters]\n",
      "ERROR: number of parameters must not exceed data\n",
      "INFO: Left region selection unchanged.  xminpix, xmaxpix: 0,1 [pyspeckit.spectrum.interactive]\n",
      "INFO: Renormalizing data by factor 2.709170e-03 to improve fitting procedure [pyspeckit.spectrum.fitters]\n",
      "ERROR: number of parameters must not exceed data\n",
      " Species        ChemicalName                 QNs                Freq    log10_Aij   EU_K      TotalIntensity        PeakIntensity              RMS               Velocity    \n",
      "                                                                                                  km / s                                                          km / s     \n",
      "---------- --------------------- --------------------------- ---------- --------- -------- -------------------- --------------------- --------------------- -----------------\n",
      "    CCHv=0               Ethynyl       N=1-0,J=1/2-1/2,F=1-0  87.446512  -6.42386  4.19675 0.008763774262107978   0.00264580744765287 0.0005614361211716597 35.72209137653663\n",
      "   AlClv=0 Aluminum Monochloride   J=6-5,F1=11/2-11/2,F2=6-7 87.4574298  -8.56109 14.69093 0.008763774262107978   0.00264580744765287 0.0005614361211716597 73.14240087782952\n",
      "    NH2CHO             Formamide         4(1,3)-3(1,2),F=4-4 87.8485326  -5.57073 13.52444 0.026306397677207025  0.004301087315650956 0.0005614361211716597 32.97427725639788\n",
      "   HC5Nv=0        Cyanobutadiyne                     J=33-32   87.86363       0.0      0.0  0.03008256420890241 0.0049421623602528475 0.0005614361211716597 74.48643254868836\n",
      "       C6H     1,3,5-Hexatriynyl J=63/2-61/2,&Omega;=1/2,l=f  87.921593  -3.92274 90.68566  0.02510595942208768  0.007579557897404445 0.0005614361211716597 37.35469676802489\n",
      "   HNCOv=0        Isocyanic Acid         4(0,4)-3(0,3),F=3-3 87.9243509  -6.62871  10.5494  0.02510595942208768  0.007579557897404445 0.0005614361211716597 46.75703628984575\n",
      "H13CCCNv=0        Cyanoacetylene                J=10-9,F=9-8 88.1667826  -4.75847 23.27255 0.009864324764354499 0.0029780666579285074 0.0005614361211716597 34.28890557965818\n",
      "    HCNv=0      Hydrogen Cyanide                 J=1-0,F=1-1 88.6304157       0.0      0.0 0.049929071306616946  0.006790319189091392 0.0005614361211716597 58.82501895919796\n",
      "   HCO+v=0             Formylium                         1-0 89.1885247  -4.37813  4.28035   1.1756329287900829   0.06394698171459244 0.0005614361211716597 45.50498408066558\n",
      "None\n",
      " Species      Freq         Velocity    \n",
      "                            km / s     \n",
      "---------- ---------- -----------------\n",
      "    CCHv=0  87.446512 35.72209137653663\n",
      "   AlClv=0 87.4574298 73.14240087782952\n",
      "    NH2CHO 87.8485326 32.97427725639788\n",
      "   HC5Nv=0   87.86363 74.48643254868836\n",
      "       C6H  87.921593 37.35469676802489\n",
      "   HNCOv=0 87.9243509 46.75703628984575\n",
      "H13CCCNv=0 88.1667826 34.28890557965818\n",
      "    HCNv=0 88.6304157 58.82501895919796\n",
      "   HCO+v=0 89.1885247 45.50498408066558\n",
      "------------------------------------------------\n",
      "---------------- 91_spw25\n",
      "------------------------------------------------\n"
     ]
    },
    {
     "name": "stderr",
     "output_type": "stream",
     "text": [
      "Warning: 'partition' will ignore the 'mask' of the MaskedArray.\n",
      "WARNING: Frequency 89.19171561058855 GHz had no hits [spectral_ids]\n",
      "Warning: 'partition' will ignore the 'mask' of the MaskedArray.\n"
     ]
    },
    {
     "name": "stdout",
     "output_type": "stream",
     "text": [
      "INFO: Left region selection unchanged.  xminpix, xmaxpix: 0,1 [pyspeckit.spectrum.interactive]\n",
      "INFO: Renormalizing data by factor 4.605231e-01 to improve fitting procedure [pyspeckit.spectrum.fitters]\n",
      "ERROR: number of parameters must not exceed data\n"
     ]
    },
    {
     "name": "stderr",
     "output_type": "stream",
     "text": [
      "Warning: 'partition' will ignore the 'mask' of the MaskedArray.\n",
      "WARNING: gnorm=0.   wa2=[0. 0. 0.] [pyspeckit.mpfit.mpfit]\n"
     ]
    },
    {
     "name": "stdout",
     "output_type": "stream",
     "text": [
      "INFO: Left region selection unchanged.  xminpix, xmaxpix: 0,13 [pyspeckit.spectrum.interactive]\n",
      "INFO: Left region selection unchanged.  xminpix, xmaxpix: 0,3 [pyspeckit.spectrum.interactive]\n"
     ]
    },
    {
     "name": "stderr",
     "output_type": "stream",
     "text": [
      "WARNING: gnorm=0.   wa2=[0. 0. 0.] [pyspeckit.mpfit.mpfit]\n"
     ]
    },
    {
     "name": "stdout",
     "output_type": "stream",
     "text": [
      "INFO: Left region selection unchanged.  xminpix, xmaxpix: 0,2 [pyspeckit.spectrum.interactive]\n",
      "ERROR: number of parameters must not exceed data\n",
      "INFO: Left region selection unchanged.  xminpix, xmaxpix: 0,4 [pyspeckit.spectrum.interactive]\n",
      "INFO: Left region selection unchanged.  xminpix, xmaxpix: 0,3 [pyspeckit.spectrum.interactive]\n",
      "INFO: Left region selection unchanged.  xminpix, xmaxpix: 0,1 [pyspeckit.spectrum.interactive]\n",
      "INFO: Renormalizing data by factor 5.718411e-01 to improve fitting procedure [pyspeckit.spectrum.fitters]\n",
      "ERROR: number of parameters must not exceed data\n",
      "INFO: Left region selection unchanged.  xminpix, xmaxpix: 0,41 [pyspeckit.spectrum.interactive]\n"
     ]
    },
    {
     "name": "stderr",
     "output_type": "stream",
     "text": [
      "Warning: 'partition' will ignore the 'mask' of the MaskedArray.\n"
     ]
    },
    {
     "name": "stdout",
     "output_type": "stream",
     "text": [
      "INFO: Left region selection unchanged.  xminpix, xmaxpix: 0,1 [pyspeckit.spectrum.interactive]\n"
     ]
    },
    {
     "name": "stderr",
     "output_type": "stream",
     "text": [
      "Warning: 'partition' will ignore the 'mask' of the MaskedArray.\n"
     ]
    },
    {
     "name": "stdout",
     "output_type": "stream",
     "text": [
      "INFO: Renormalizing data by factor 4.598853e-01 to improve fitting procedure [pyspeckit.spectrum.fitters]\n",
      "ERROR: number of parameters must not exceed data\n",
      "INFO: Left region selection unchanged.  xminpix, xmaxpix: 0,32 [pyspeckit.spectrum.interactive]\n",
      "       Species             ChemicalName                QNs                Freq    log10_Aij    EU_K     TotalIntensity     PeakIntensity           RMS              Velocity     \n",
      "                                                                                                            km / s                                                   km / s      \n",
      "---------------------- ------------------- --------------------------- ---------- --------- --------- ------------------ ------------------ ------------------ ------------------\n",
      "UnidentifiedTransition        UNIDENTIFIED                   U-89814.7    89.8147       0.0       0.0 1.4895864659026172 0.4605230891515259 0.0327279555599153  39.18005140232561\n",
      "            t-CH3CH2OH       trans-Ethanol               4(1,4)-3(0,3)  90.117593       0.0       0.0  25.18762841658379 0.7008071206426081 0.0327279555599153  32.12302026588685\n",
      "                   C6H   1,3,5-Hexatriynyl J=65/2-63/2,&Omega;=3/2,l=f  90.121406       0.0       0.0  25.18762841658379 0.7008071206426081 0.0327279555599153  44.80575800830381\n",
      "               HC5Nv=0      Cyanobutadiyne                     J=34-33   90.52589       0.0       0.0  4.664086853092244 0.4916773587818234 0.0327279555599153 15.386177825260075\n",
      "           CH3CH2CNv=0       Ethyl Cyanide           23(3,20)-23(2,21)  90.530939       0.0       0.0  4.664086853092244 0.4916773587818234 0.0327279555599153  32.10504158994555\n",
      "            HC13CCNv=0      Cyanoacetylene                J=10-9,F=9-8 90.5930338  -4.72312  23.91299 3.2606803396516484 0.5120775485279145 0.0327279555599153  37.61556585220443\n",
      "            HCC13CNv=0      Cyanoacetylene                      J=10-9  90.601777  -4.24108  23.91528 3.2606803396516484 0.5120775485279145 0.0327279555599153  66.54233335224579\n",
      "                HNCv=0 Hydrogen Isocyanide                       J=1-0  90.663562  -4.57028   4.35114  289.7523256103309  4.716617101752011 0.0327279555599153 27.275968193046424\n",
      "               HC3Nv=0      Cyanoacetylene                J=10-9,F=9-8 90.9789838  -4.71759  24.01482 280.08589480387514  7.506829061347804 0.0327279555599153 20.328032440524346\n",
      "              HC3Nv5=1      Cyanoacetylene                 J=10-9,l=1e   90.98697  -4.24402 978.22601 280.08589480387514  7.506829061347804 0.0327279555599153  46.63993385177445\n",
      "None\n",
      "       Species            Freq         Velocity     \n",
      "                                        km / s      \n",
      "---------------------- ---------- ------------------\n",
      "UnidentifiedTransition    89.8147  39.18005140232561\n",
      "            t-CH3CH2OH  90.117593  32.12302026588685\n",
      "                   C6H  90.121406  44.80575800830381\n",
      "               HC5Nv=0   90.52589 15.386177825260075\n",
      "           CH3CH2CNv=0  90.530939  32.10504158994555\n",
      "            HC13CCNv=0 90.5930338  37.61556585220443\n",
      "            HCC13CNv=0  90.601777  66.54233335224579\n",
      "                HNCv=0  90.663562 27.275968193046424\n",
      "               HC3Nv=0 90.9789838 20.328032440524346\n",
      "              HC3Nv5=1   90.98697  46.63993385177445\n"
     ]
    },
    {
     "name": "stderr",
     "output_type": "stream",
     "text": [
      "Warning: 'partition' will ignore the 'mask' of the MaskedArray.\n"
     ]
    },
    {
     "name": "stdout",
     "output_type": "stream",
     "text": [
      "INFO: Left region selection unchanged.  xminpix, xmaxpix: 0,2 [pyspeckit.spectrum.interactive]\n",
      "ERROR: number of parameters must not exceed data\n",
      "INFO: Left region selection unchanged.  xminpix, xmaxpix: 0,3 [pyspeckit.spectrum.interactive]\n",
      "INFO: Left region selection unchanged.  xminpix, xmaxpix: 0,5 [pyspeckit.spectrum.interactive]\n",
      "INFO: Left region selection unchanged.  xminpix, xmaxpix: 0,22 [pyspeckit.spectrum.interactive]\n",
      "INFO: Left region selection unchanged.  xminpix, xmaxpix: 0,19 [pyspeckit.spectrum.interactive]\n",
      "       Species             ChemicalName                QNs                Freq    log10_Aij    EU_K      TotalIntensity       PeakIntensity              RMS               Velocity     \n",
      "                                                                                                             km / s                                                         km / s      \n",
      "---------------------- ------------------- --------------------------- ---------- --------- --------- -------------------- -------------------- --------------------- ------------------\n",
      "            t-CH3CH2OH       trans-Ethanol               4(1,4)-3(0,3)  90.117593       0.0       0.0 0.028584074690043586 0.005125991550997505 0.0004346712433356827  34.83780160885376\n",
      "                   C6H   1,3,5-Hexatriynyl J=65/2-63/2,&Omega;=3/2,l=f  90.121406       0.0       0.0 0.028584074690043586 0.005125991550997505 0.0004346712433356827 47.520424489977266\n",
      "UnidentifiedTransition        UNIDENTIFIED                   U-90128.5    90.1285       0.0       0.0 0.028584074690043586 0.005125991550997505 0.0004346712433356827  71.11330118451278\n",
      "                HNCv=0 Hydrogen Isocyanide                       J=1-0  90.663562  -4.57028   4.35114  0.08218625141558675 0.006786381032279486 0.0004346712433356827  71.71820921084279\n",
      "               HC3Nv=0      Cyanoacetylene                J=10-9,F=9-8 90.9789838  -4.71759  24.01482    6.416783472971967  0.21110243716718521 0.0004346712433356827  24.64708701796832\n",
      "              HC3Nv5=1      Cyanoacetylene                 J=10-9,l=1e   90.98697  -4.24402 978.22601    6.416783472971967  0.21110243716718521 0.0004346712433356827  50.95860933280862\n",
      "None\n",
      "       Species            Freq         Velocity     \n",
      "                                        km / s      \n",
      "---------------------- ---------- ------------------\n",
      "            t-CH3CH2OH  90.117593  34.83780160885376\n",
      "                   C6H  90.121406 47.520424489977266\n",
      "UnidentifiedTransition    90.1285  71.11330118451278\n",
      "                HNCv=0  90.663562  71.71820921084279\n",
      "               HC3Nv=0 90.9789838  24.64708701796832\n",
      "              HC3Nv5=1   90.98697  50.95860933280862\n",
      "------------------------------------------------\n",
      "---------------- 91_spw102\n",
      "------------------------------------------------\n"
     ]
    },
    {
     "name": "stderr",
     "output_type": "stream",
     "text": [
      "Warning: 'partition' will ignore the 'mask' of the MaskedArray.\n"
     ]
    },
    {
     "name": "stdout",
     "output_type": "stream",
     "text": [
      "INFO: Left region selection unchanged.  xminpix, xmaxpix: 0,4 [pyspeckit.spectrum.interactive]\n",
      "INFO: Left region selection unchanged.  xminpix, xmaxpix: 0,8 [pyspeckit.spectrum.interactive]\n",
      "INFO: Left region selection unchanged.  xminpix, xmaxpix: 0,1 [pyspeckit.spectrum.interactive]\n",
      "INFO: Renormalizing data by factor 6.798763e-01 to improve fitting procedure [pyspeckit.spectrum.fitters]\n",
      "ERROR: number of parameters must not exceed data\n",
      "INFO: Left region selection unchanged.  xminpix, xmaxpix: 0,5 [pyspeckit.spectrum.interactive]\n"
     ]
    },
    {
     "name": "stderr",
     "output_type": "stream",
     "text": [
      "Warning: 'partition' will ignore the 'mask' of the MaskedArray.\n"
     ]
    },
    {
     "name": "stdout",
     "output_type": "stream",
     "text": [
      "INFO: Left region selection unchanged.  xminpix, xmaxpix: 0,2 [pyspeckit.spectrum.interactive]\n",
      "ERROR: number of parameters must not exceed data\n",
      "INFO: Left region selection unchanged.  xminpix, xmaxpix: 0,37 [pyspeckit.spectrum.interactive]\n",
      "INFO: Left region selection unchanged.  xminpix, xmaxpix: 0,1 [pyspeckit.spectrum.interactive]\n",
      "INFO: Renormalizing data by factor 5.870179e-01 to improve fitting procedure [pyspeckit.spectrum.fitters]\n",
      "ERROR: number of parameters must not exceed data\n"
     ]
    },
    {
     "name": "stderr",
     "output_type": "stream",
     "text": [
      "Warning: 'partition' will ignore the 'mask' of the MaskedArray.\n"
     ]
    },
    {
     "name": "stdout",
     "output_type": "stream",
     "text": [
      "INFO: Left region selection unchanged.  xminpix, xmaxpix: 0,1 [pyspeckit.spectrum.interactive]\n",
      "INFO: Renormalizing data by factor 6.015391e-01 to improve fitting procedure [pyspeckit.spectrum.fitters]\n",
      "ERROR: number of parameters must not exceed data\n",
      "INFO: Left region selection unchanged.  xminpix, xmaxpix: 0,1 [pyspeckit.spectrum.interactive]\n",
      "INFO: Renormalizing data by factor 5.270740e-01 to improve fitting procedure [pyspeckit.spectrum.fitters]\n",
      "ERROR: number of parameters must not exceed data\n",
      "INFO: Left region selection unchanged.  xminpix, xmaxpix: 0,1 [pyspeckit.spectrum.interactive]\n",
      "INFO: Renormalizing data by factor 6.599882e-01 to improve fitting procedure [pyspeckit.spectrum.fitters]\n",
      "ERROR: number of parameters must not exceed data\n"
     ]
    },
    {
     "name": "stderr",
     "output_type": "stream",
     "text": [
      "Warning: 'partition' will ignore the 'mask' of the MaskedArray.\n",
      "Warning: 'partition' will ignore the 'mask' of the MaskedArray.\n",
      "Warning: 'partition' will ignore the 'mask' of the MaskedArray.\n"
     ]
    },
    {
     "name": "stdout",
     "output_type": "stream",
     "text": [
      "INFO: Left region selection unchanged.  xminpix, xmaxpix: 0,3 [pyspeckit.spectrum.interactive]\n",
      "INFO: Left region selection unchanged.  xminpix, xmaxpix: 0,25 [pyspeckit.spectrum.interactive]\n",
      "       Species             ChemicalName                QNs                Freq    log10_Aij    EU_K     TotalIntensity     PeakIntensity            RMS               Velocity     \n",
      "                                                                                                            km / s                                                     km / s      \n",
      "---------------------- ------------------- --------------------------- ---------- --------- --------- ------------------ ------------------ -------------------- ------------------\n",
      "            t-CH3CH2OH       trans-Ethanol               4(1,4)-3(0,3)  90.117593       0.0       0.0  9.703904354542255 0.9030369942690661 0.032221554953013556  42.22081650592864\n",
      "                   C6H   1,3,5-Hexatriynyl J=65/2-63/2,&Omega;=3/2,l=f  90.121406       0.0       0.0  9.703904354542255 0.9030369942690661 0.032221554953013556  54.90312701469744\n",
      "UnidentifiedTransition        UNIDENTIFIED                   U-90128.5    90.1285       0.0       0.0  17.08878456041612  0.743821776586819 0.032221554953013556 48.822503882469796\n",
      "            HC13CCNv=0      Cyanoacetylene                J=10-9,F=9-8 90.5930338  -4.72312  23.91299 2.1990932391497813 0.6798762605707598 0.032221554953013556  39.23026798010327\n",
      "            HCC13CNv=0      Cyanoacetylene                      J=10-9  90.601777  -4.24108  23.91528 2.1990932391497813 0.6798762605707598 0.032221554953013556  68.15687965909882\n",
      "                HNCv=0 Hydrogen Isocyanide                       J=1-0  90.663562  -4.57028   4.35114    279.68155196494  4.772739397439312 0.032221554953013556 27.298369970534452\n",
      "                   CCS  Thioxoethenylidene                 N=7-6,J=7-6  90.686381  -4.48258  26.11591 1.8987383198117878 0.5870179061507821 0.032221554953013556 47.583681659899405\n",
      "               HC3Nv=0      Cyanoacetylene                J=10-9,F=9-8 90.9789838  -4.71759  24.01482  8.815546839996575 1.0634354611613466 0.032221554953013556  73.28069856036188\n",
      "              HC3Nv5=1      Cyanoacetylene                 J=10-9,l=1e   90.98697  -4.24402 978.22601 246.23330946358823  6.209341273711729 0.032221554953013556 44.396736257534236\n",
      "None\n",
      "       Species            Freq         Velocity     \n",
      "                                        km / s      \n",
      "---------------------- ---------- ------------------\n",
      "            t-CH3CH2OH  90.117593  42.22081650592864\n",
      "                   C6H  90.121406  54.90312701469744\n",
      "UnidentifiedTransition    90.1285 48.822503882469796\n",
      "            HC13CCNv=0 90.5930338  39.23026798010327\n",
      "            HCC13CNv=0  90.601777  68.15687965909882\n",
      "                HNCv=0  90.663562 27.298369970534452\n",
      "                   CCS  90.686381 47.583681659899405\n",
      "               HC3Nv=0 90.9789838  73.28069856036188\n",
      "              HC3Nv5=1   90.98697 44.396736257534236\n"
     ]
    },
    {
     "name": "stderr",
     "output_type": "stream",
     "text": [
      "Warning: 'partition' will ignore the 'mask' of the MaskedArray.\n",
      "Warning: 'partition' will ignore the 'mask' of the MaskedArray.\n"
     ]
    },
    {
     "name": "stdout",
     "output_type": "stream",
     "text": [
      "INFO: Left region selection unchanged.  xminpix, xmaxpix: 0,2 [pyspeckit.spectrum.interactive]\n",
      "ERROR: number of parameters must not exceed data\n",
      "INFO: Left region selection unchanged.  xminpix, xmaxpix: 0,1 [pyspeckit.spectrum.interactive]\n",
      "INFO: Renormalizing data by factor 4.297222e-03 to improve fitting procedure [pyspeckit.spectrum.fitters]\n",
      "ERROR: number of parameters must not exceed data\n",
      "INFO: Left region selection unchanged.  xminpix, xmaxpix: 0,2 [pyspeckit.spectrum.interactive]\n",
      "ERROR: number of parameters must not exceed data\n"
     ]
    },
    {
     "name": "stderr",
     "output_type": "stream",
     "text": [
      "WARNING: Frequency 90.63537089969321 GHz had no hits [spectral_ids]\n"
     ]
    },
    {
     "name": "stdout",
     "output_type": "stream",
     "text": [
      "INFO: Left region selection unchanged.  xminpix, xmaxpix: 0,21 [pyspeckit.spectrum.interactive]\n",
      "INFO: Left region selection unchanged.  xminpix, xmaxpix: 0,2 [pyspeckit.spectrum.interactive]\n",
      "ERROR: number of parameters must not exceed data\n",
      "INFO: Left region selection unchanged.  xminpix, xmaxpix: 0,19 [pyspeckit.spectrum.interactive]\n",
      "       Species             ChemicalName                QNs                Freq    log10_Aij    EU_K      TotalIntensity       PeakIntensity              RMS               Velocity     \n",
      "                                                                                                             km / s                                                         km / s      \n",
      "---------------------- ------------------- --------------------------- ---------- --------- --------- ------------------- --------------------- --------------------- ------------------\n",
      "            t-CH3CH2OH       trans-Ethanol               4(1,4)-3(0,3)  90.117593       0.0       0.0 0.02900743298346862 0.0052971343164101466 0.0007495847724953908  31.58663938508475\n",
      "                   C6H   1,3,5-Hexatriynyl J=65/2-63/2,&Omega;=3/2,l=f  90.121406       0.0       0.0 0.02900743298346862 0.0052971343164101466 0.0007495847724953908  44.26939982155842\n",
      "UnidentifiedTransition        UNIDENTIFIED                   U-90128.5    90.1285       0.0       0.0 0.02900743298346862 0.0052971343164101466 0.0007495847724953908  67.86253240373212\n",
      "                HNCv=0 Hydrogen Isocyanide                       J=1-0  90.663562  -4.57028   4.35114   5.084485610483548   0.20315407968989668 0.0007495847724953908  42.33876292440848\n",
      "                   CCS  Thioxoethenylidene                 N=7-6,J=7-6  90.686381  -4.48258  26.11591 0.02361422930789648  0.003752332551154907 0.0007495847724953908  55.65343542624764\n",
      "               HC3Nv=0      Cyanoacetylene                J=10-9,F=9-8 90.9789838  -4.71759  24.01482   4.975072367941759   0.13845705600087002 0.0007495847724953908 23.009353035657906\n",
      "              HC3Nv5=1      Cyanoacetylene                 J=10-9,l=1e   90.98697  -4.24402 978.22601   4.975072367941759   0.13845705600087002 0.0007495847724953908  49.32101909933531\n",
      "None\n",
      "       Species            Freq         Velocity     \n",
      "                                        km / s      \n",
      "---------------------- ---------- ------------------\n",
      "            t-CH3CH2OH  90.117593  31.58663938508475\n",
      "                   C6H  90.121406  44.26939982155842\n",
      "UnidentifiedTransition    90.1285  67.86253240373212\n",
      "                HNCv=0  90.663562  42.33876292440848\n",
      "                   CCS  90.686381  55.65343542624764\n",
      "               HC3Nv=0 90.9789838 23.009353035657906\n",
      "              HC3Nv5=1   90.98697  49.32101909933531\n",
      "------------------------------------------------\n",
      "---------------- 93_spw27\n",
      "------------------------------------------------\n"
     ]
    },
    {
     "name": "stderr",
     "output_type": "stream",
     "text": [
      "Warning: 'partition' will ignore the 'mask' of the MaskedArray.\n",
      "Warning: 'partition' will ignore the 'mask' of the MaskedArray.\n"
     ]
    },
    {
     "name": "stdout",
     "output_type": "stream",
     "text": [
      "INFO: Left region selection unchanged.  xminpix, xmaxpix: 0,1 [pyspeckit.spectrum.interactive]\n",
      "INFO: Renormalizing data by factor 4.979547e-01 to improve fitting procedure [pyspeckit.spectrum.fitters]\n",
      "ERROR: number of parameters must not exceed data\n",
      "INFO: Left region selection unchanged.  xminpix, xmaxpix: 0,7 [pyspeckit.spectrum.interactive]\n",
      "INFO: Left region selection unchanged.  xminpix, xmaxpix: 0,1 [pyspeckit.spectrum.interactive]\n",
      "INFO: Renormalizing data by factor 5.032296e-01 to improve fitting procedure [pyspeckit.spectrum.fitters]\n",
      "ERROR: number of parameters must not exceed data\n"
     ]
    },
    {
     "name": "stderr",
     "output_type": "stream",
     "text": [
      "Warning: 'partition' will ignore the 'mask' of the MaskedArray.\n",
      "Warning: 'partition' will ignore the 'mask' of the MaskedArray.\n",
      "Warning: 'partition' will ignore the 'mask' of the MaskedArray.\n"
     ]
    },
    {
     "name": "stdout",
     "output_type": "stream",
     "text": [
      "INFO: Left region selection unchanged.  xminpix, xmaxpix: 0,1 [pyspeckit.spectrum.interactive]\n",
      "INFO: Renormalizing data by factor 5.059061e-01 to improve fitting procedure [pyspeckit.spectrum.fitters]\n",
      "ERROR: number of parameters must not exceed data\n",
      "INFO: Left region selection unchanged.  xminpix, xmaxpix: 0,1 [pyspeckit.spectrum.interactive]\n",
      "INFO: Renormalizing data by factor 5.387100e-01 to improve fitting procedure [pyspeckit.spectrum.fitters]\n",
      "ERROR: number of parameters must not exceed data\n",
      "INFO: Left region selection unchanged.  xminpix, xmaxpix: 0,1 [pyspeckit.spectrum.interactive]\n",
      "INFO: Renormalizing data by factor 5.027557e-01 to improve fitting procedure [pyspeckit.spectrum.fitters]\n"
     ]
    },
    {
     "name": "stderr",
     "output_type": "stream",
     "text": [
      "Warning: 'partition' will ignore the 'mask' of the MaskedArray.\n",
      "WARNING: Frequency 91.9550190891573 GHz had no hits [spectral_ids]\n"
     ]
    },
    {
     "name": "stdout",
     "output_type": "stream",
     "text": [
      "ERROR: number of parameters must not exceed data\n",
      "INFO: Left region selection unchanged.  xminpix, xmaxpix: 0,34 [pyspeckit.spectrum.interactive]\n",
      "INFO: Left region selection unchanged.  xminpix, xmaxpix: 0,1 [pyspeckit.spectrum.interactive]\n",
      "INFO: Renormalizing data by factor 5.922848e-01 to improve fitting procedure [pyspeckit.spectrum.fitters]\n",
      "ERROR: number of parameters must not exceed data\n",
      "INFO: Left region selection unchanged.  xminpix, xmaxpix: 0,14 [pyspeckit.spectrum.interactive]\n"
     ]
    },
    {
     "name": "stderr",
     "output_type": "stream",
     "text": [
      "Warning: 'partition' will ignore the 'mask' of the MaskedArray.\n",
      "WARNING: Frequency 93.00749163392084 GHz had no hits [spectral_ids]\n"
     ]
    },
    {
     "name": "stdout",
     "output_type": "stream",
     "text": [
      "INFO: Left region selection unchanged.  xminpix, xmaxpix: 0,37 [pyspeckit.spectrum.interactive]\n",
      "INFO: Left region selection unchanged.  xminpix, xmaxpix: 0,1 [pyspeckit.spectrum.interactive]\n",
      "INFO: Renormalizing data by factor 4.951129e-01 to improve fitting procedure [pyspeckit.spectrum.fitters]\n",
      "ERROR: number of parameters must not exceed data\n",
      "       Species                     ChemicalName                          QNs                 Freq    log10_Aij    EU_K     TotalIntensity     PeakIntensity           RMS             Velocity     \n",
      "                                                                                                                               km / s                                                  km / s      \n",
      "---------------------- ------------------------------------ ----------------------------- ---------- --------- --------- ------------------ ------------------ ----------------- ------------------\n",
      "UnidentifiedTransition                         UNIDENTIFIED                       U-91541     91.541       0.0       0.0  1.577968446800576 0.4979547488182412 0.035061826374251  9.554833984241046\n",
      "           CH3CH2CNv=0                        Ethyl Cyanide                10(1,9)-9(1,8)  91.549117       0.0       0.0  1.577968446800576 0.4979547488182412 0.035061826374251  36.13442213033021\n",
      "           (CH3)2COv=0                              Acetone               8(1,7)-7(2,6)AA  91.659108       0.0       0.0 12.642617096908449 0.6787921214753955 0.035061826374251  28.81452748193767\n",
      "                 c-C3H                   Cyclopropenylidyne 2(1,2)-1(1,1),J=3/2-1/2,F=1-0  91.692752  -5.05195   4.40384  1.603165460826701 0.5059060946235319 0.035061826374251  55.55779466137924\n",
      "                c-SiC3 3-Silanetetrayl-1,2-Propadienylidene                 8(0,8)-7(0,7)  91.844796       0.0       0.0  1.707117577165607 0.5387099508005156 0.035061826374251  3.558560945121718\n",
      "                  CCCS         3-Thioxo-1,2-Propadieylidene                         16-15  92.488488       0.0       0.0 1.8768908071970978 0.5922847775264879 0.035061826374251    23.246834835672\n",
      "               13CSv=0                   Carbon Monosulfide               J=2-1,F=3/2-3/2 92.4942167  -5.62819   6.65859 1.8768908071970978 0.5922847775264879 0.035061826374251  41.81327002771564\n",
      "               N2H+v=0                          Diazenylium            J=1-0,F1=1-1,F=0-1  93.171621       0.0       0.0 306.18479368763013  5.507306601714715 0.035061826374251 15.511670106115009\n",
      "               HC5Nv=0                       Cyanobutadiyne                       J=35-34  93.188125       0.0       0.0 306.18479368763013  5.507306601714715 0.035061826374251  68.60339957516334\n",
      "           CH3OHvt=0-2                             Methanol             1(0,1)-2(1,2)vt=1   93.19662   -5.3774 302.89223 1.5689628264952549 0.4951128723496838 0.035061826374251  45.75981685713101\n",
      "None\n",
      "       Species            Freq         Velocity     \n",
      "                                        km / s      \n",
      "---------------------- ---------- ------------------\n",
      "UnidentifiedTransition     91.541  9.554833984241046\n",
      "           CH3CH2CNv=0  91.549117  36.13442213033021\n",
      "           (CH3)2COv=0  91.659108  28.81452748193767\n",
      "                 c-C3H  91.692752  55.55779466137924\n",
      "                c-SiC3  91.844796  3.558560945121718\n",
      "                  CCCS  92.488488    23.246834835672\n",
      "               13CSv=0 92.4942167  41.81327002771564\n",
      "               N2H+v=0  93.171621 15.511670106115009\n",
      "               HC5Nv=0  93.188125  68.60339957516334\n",
      "           CH3OHvt=0-2   93.19662  45.75981685713101\n"
     ]
    },
    {
     "name": "stderr",
     "output_type": "stream",
     "text": [
      "Warning: 'partition' will ignore the 'mask' of the MaskedArray.\n",
      "Warning: 'partition' will ignore the 'mask' of the MaskedArray.\n",
      "WARNING: Frequency 91.96056591779129 GHz had no hits [spectral_ids]\n"
     ]
    },
    {
     "name": "stdout",
     "output_type": "stream",
     "text": [
      "INFO: Left region selection unchanged.  xminpix, xmaxpix: 0,5 [pyspeckit.spectrum.interactive]\n",
      "INFO: Left region selection unchanged.  xminpix, xmaxpix: 0,3 [pyspeckit.spectrum.interactive]\n"
     ]
    },
    {
     "name": "stderr",
     "output_type": "stream",
     "text": [
      "WARNING: Frequency 91.97003230003094 GHz had no hits [spectral_ids]\n",
      "WARNING: Frequency 91.97621127265755 GHz had no hits [spectral_ids]\n",
      "WARNING: gnorm=0.   wa2=[0. 0. 0.] [pyspeckit.mpfit.mpfit]\n",
      "Warning: 'partition' will ignore the 'mask' of the MaskedArray.\n"
     ]
    },
    {
     "name": "stdout",
     "output_type": "stream",
     "text": [
      "INFO: Left region selection unchanged.  xminpix, xmaxpix: 0,15 [pyspeckit.spectrum.interactive]\n",
      "INFO: Left region selection unchanged.  xminpix, xmaxpix: 0,6 [pyspeckit.spectrum.interactive]\n",
      "INFO: Left region selection unchanged.  xminpix, xmaxpix: 0,1 [pyspeckit.spectrum.interactive]\n",
      "INFO: Renormalizing data by factor 2.826999e-03 to improve fitting procedure [pyspeckit.spectrum.fitters]\n",
      "ERROR: number of parameters must not exceed data\n",
      "INFO: Left region selection unchanged.  xminpix, xmaxpix: 0,24 [pyspeckit.spectrum.interactive]\n",
      "Species         ChemicalName                QNs            Freq    log10_Aij   EU_K     TotalIntensity        PeakIntensity              RMS               Velocity     \n",
      "                                                                                            km / s                                                          km / s      \n",
      "------- ---------------------------- ------------------ ---------- --------- ------- -------------------- --------------------- --------------------- ------------------\n",
      "   CCCS 3-Thioxo-1,2-Propadieylidene              16-15  92.488488       0.0     0.0  0.06815997338548936  0.005244197990221127 0.0005187845231926323  9.102167412416224\n",
      "13CSv=0           Carbon Monosulfide    J=2-1,F=3/2-3/2 92.4942167  -5.62819 6.65859  0.06815997338548936  0.005244197990221127 0.0005187845231926323 27.669478665246775\n",
      "N2H+v=0                  Diazenylium J=1-0,F1=1-1,F=0-1  93.171621       0.0     0.0 0.008958473718447386 0.0028269985621759744 0.0005187845231926323  59.58853871464095\n",
      "None\n",
      "Species    Freq         Velocity     \n",
      "                         km / s      \n",
      "------- ---------- ------------------\n",
      "   CCCS  92.488488  9.102167412416224\n",
      "13CSv=0 92.4942167 27.669478665246775\n",
      "N2H+v=0  93.171621  59.58853871464095\n",
      "------------------------------------------------\n",
      "---------------- 93_spw104\n",
      "------------------------------------------------\n"
     ]
    },
    {
     "name": "stderr",
     "output_type": "stream",
     "text": [
      "Warning: 'partition' will ignore the 'mask' of the MaskedArray.\n",
      "Warning: 'partition' will ignore the 'mask' of the MaskedArray.\n",
      "Warning: 'partition' will ignore the 'mask' of the MaskedArray.\n"
     ]
    },
    {
     "name": "stdout",
     "output_type": "stream",
     "text": [
      "INFO: Left region selection unchanged.  xminpix, xmaxpix: 0,1 [pyspeckit.spectrum.interactive]\n",
      "INFO: Renormalizing data by factor 6.111059e-01 to improve fitting procedure [pyspeckit.spectrum.fitters]\n",
      "ERROR: number of parameters must not exceed data\n",
      "INFO: Left region selection unchanged.  xminpix, xmaxpix: 0,1 [pyspeckit.spectrum.interactive]\n",
      "INFO: Renormalizing data by factor 5.271835e-01 to improve fitting procedure [pyspeckit.spectrum.fitters]\n",
      "ERROR: number of parameters must not exceed data\n",
      "INFO: Left region selection unchanged.  xminpix, xmaxpix: 0,6 [pyspeckit.spectrum.interactive]\n"
     ]
    },
    {
     "name": "stderr",
     "output_type": "stream",
     "text": [
      "WARNING: Frequency 91.95913110105361 GHz had no hits [spectral_ids]\n",
      "Warning: 'partition' will ignore the 'mask' of the MaskedArray.\n"
     ]
    },
    {
     "name": "stdout",
     "output_type": "stream",
     "text": [
      "INFO: Left region selection unchanged.  xminpix, xmaxpix: 0,27 [pyspeckit.spectrum.interactive]\n",
      "INFO: Left region selection unchanged.  xminpix, xmaxpix: 0,5 [pyspeckit.spectrum.interactive]\n",
      "INFO: Left region selection unchanged.  xminpix, xmaxpix: 0,1 [pyspeckit.spectrum.interactive]\n",
      "INFO: Renormalizing data by factor 5.463023e-01 to improve fitting procedure [pyspeckit.spectrum.fitters]\n",
      "ERROR: number of parameters must not exceed data\n",
      "INFO: Left region selection unchanged.  xminpix, xmaxpix: 0,4 [pyspeckit.spectrum.interactive]\n",
      "INFO: Left region selection unchanged.  xminpix, xmaxpix: 0,3 [pyspeckit.spectrum.interactive]\n"
     ]
    },
    {
     "name": "stderr",
     "output_type": "stream",
     "text": [
      "WARNING: gnorm=0.   wa2=[0. 0. 0.] [pyspeckit.mpfit.mpfit]\n",
      "WARNING: Frequency 92.49500083985964 GHz had no hits [spectral_ids]\n"
     ]
    },
    {
     "name": "stdout",
     "output_type": "stream",
     "text": [
      "INFO: Left region selection unchanged.  xminpix, xmaxpix: 0,37 [pyspeckit.spectrum.interactive]\n",
      "       Species                     ChemicalName                    QNs            Freq    log10_Aij   EU_K    TotalIntensity     PeakIntensity            RMS               Velocity     \n",
      "                                                                                                                  km / s                                                     km / s      \n",
      "---------------------- ------------------------------------ ------------------ ---------- --------- ------- ------------------ ------------------ -------------------- ------------------\n",
      "                c-SiC3 3-Silanetetrayl-1,2-Propadienylidene      8(0,8)-7(0,7)  91.844796       0.0     0.0  1.936530744105545 0.6111059357116254 0.031631328871565605  3.556126369209212\n",
      "UnidentifiedTransition                         UNIDENTIFIED            U-91848     91.848       0.0     0.0  1.936530744105545 0.6111059357116254 0.031631328871565605   14.0138787601389\n",
      "           CH3CH2CNv=0                        Ethyl Cyanide  13(2,12)-13(1,13)  92.000901       0.0     0.0 101.24026596750687 2.1707742680477047 0.031631328871565605  68.99067111364303\n",
      "                  CCCS         3-Thioxo-1,2-Propadieylidene              16-15  92.488488       0.0     0.0   10.5478521338267 0.7507334776848905 0.031631328871565605   16.2985931033368\n",
      "               13CSv=0                   Carbon Monosulfide    J=2-1,F=3/2-3/2 92.4942167  -5.62819 6.65859   10.5478521338267 0.7507334776848905 0.031631328871565605  34.86545864004232\n",
      "               N2H+v=0                          Diazenylium J=1-0,F1=1-1,F=0-1  93.171621       0.0     0.0 277.28502417272176  4.842987812652956 0.031631328871565605 15.246964967331037\n",
      "               HC5Nv=0                       Cyanobutadiyne            J=35-34  93.188125       0.0     0.0 277.28502417272176  4.842987812652956 0.031631328871565605  68.33874131674754\n",
      "None\n",
      "       Species            Freq         Velocity     \n",
      "                                        km / s      \n",
      "---------------------- ---------- ------------------\n",
      "                c-SiC3  91.844796  3.556126369209212\n",
      "UnidentifiedTransition     91.848   14.0138787601389\n",
      "           CH3CH2CNv=0  92.000901  68.99067111364303\n",
      "                  CCCS  92.488488   16.2985931033368\n",
      "               13CSv=0 92.4942167  34.86545864004232\n",
      "               N2H+v=0  93.171621 15.246964967331037\n",
      "               HC5Nv=0  93.188125  68.33874131674754\n"
     ]
    },
    {
     "name": "stderr",
     "output_type": "stream",
     "text": [
      "Warning: 'partition' will ignore the 'mask' of the MaskedArray.\n",
      "WARNING: Frequency 91.96136649876183 GHz had no hits [spectral_ids]\n"
     ]
    },
    {
     "name": "stdout",
     "output_type": "stream",
     "text": [
      "INFO: Left region selection unchanged.  xminpix, xmaxpix: 0,2 [pyspeckit.spectrum.interactive]\n",
      "ERROR: number of parameters must not exceed data\n",
      "INFO: Left region selection unchanged.  xminpix, xmaxpix: 0,18 [pyspeckit.spectrum.interactive]\n",
      "INFO: Left region selection unchanged.  xminpix, xmaxpix: 0,5 [pyspeckit.spectrum.interactive]\n"
     ]
    },
    {
     "name": "stderr",
     "output_type": "stream",
     "text": [
      "WARNING: Frequency 91.97716238312303 GHz had no hits [spectral_ids]\n"
     ]
    },
    {
     "name": "stdout",
     "output_type": "stream",
     "text": [
      "INFO: Left region selection unchanged.  xminpix, xmaxpix: 0,25 [pyspeckit.spectrum.interactive]\n",
      "Species         ChemicalName                QNs            Freq    log10_Aij   EU_K    TotalIntensity      PeakIntensity              RMS               Velocity     \n",
      "                                                                                           km / s                                                        km / s      \n",
      "------- ---------------------------- ------------------ ---------- --------- ------- ------------------ -------------------- --------------------- ------------------\n",
      "   CCCS 3-Thioxo-1,2-Propadieylidene              16-15  92.488488       0.0     0.0 0.0697689396501595 0.004996800465344826 0.0006808053340467744  9.255011909772197\n",
      "13CSv=0           Carbon Monosulfide    J=2-1,F=3/2-3/2 92.4942167  -5.62819 6.65859 0.0697689396501595 0.004996800465344826 0.0006808053340467744 27.822313696061993\n",
      "N2H+v=0                  Diazenylium J=1-0,F1=1-1,F=0-1  93.171621       0.0     0.0  7.608339175960654  0.16747102022643717 0.0006808053340467744 26.690589039353977\n",
      "None\n",
      "Species    Freq         Velocity     \n",
      "                         km / s      \n",
      "------- ---------- ------------------\n",
      "   CCCS  92.488488  9.255011909772197\n",
      "13CSv=0 92.4942167 27.822313696061993\n",
      "N2H+v=0  93.171621 26.690589039353977\n",
      "------------------------------------------------\n",
      "---------------- 95_spw25\n",
      "------------------------------------------------\n"
     ]
    },
    {
     "name": "stderr",
     "output_type": "stream",
     "text": [
      "Warning: 'partition' will ignore the 'mask' of the MaskedArray.\n"
     ]
    },
    {
     "name": "stdout",
     "output_type": "stream",
     "text": [
      "INFO: Left region selection unchanged.  xminpix, xmaxpix: 0,3 [pyspeckit.spectrum.interactive]\n",
      "INFO: Left region selection unchanged.  xminpix, xmaxpix: 0,1 [pyspeckit.spectrum.interactive]\n",
      "INFO: Renormalizing data by factor 5.859040e-01 to improve fitting procedure [pyspeckit.spectrum.fitters]\n",
      "ERROR: number of parameters must not exceed data\n",
      "INFO: Left region selection unchanged.  xminpix, xmaxpix: 0,2 [pyspeckit.spectrum.interactive]\n",
      "ERROR: number of parameters must not exceed data\n",
      "INFO: Left region selection unchanged.  xminpix, xmaxpix: 0,1 [pyspeckit.spectrum.interactive]\n",
      "INFO: Renormalizing data by factor 6.603197e-01 to improve fitting procedure [pyspeckit.spectrum.fitters]\n",
      "ERROR: number of parameters must not exceed data\n",
      "INFO: Left region selection unchanged.  xminpix, xmaxpix: 0,1 [pyspeckit.spectrum.interactive]\n",
      "INFO: Renormalizing data by factor 5.938615e-01 to improve fitting procedure [pyspeckit.spectrum.fitters]\n",
      "ERROR: number of parameters must not exceed data\n"
     ]
    },
    {
     "name": "stderr",
     "output_type": "stream",
     "text": [
      "Warning: 'partition' will ignore the 'mask' of the MaskedArray.\n",
      "Warning: 'partition' will ignore the 'mask' of the MaskedArray.\n",
      "Warning: 'partition' will ignore the 'mask' of the MaskedArray.\n"
     ]
    },
    {
     "name": "stdout",
     "output_type": "stream",
     "text": [
      "INFO: Left region selection unchanged.  xminpix, xmaxpix: 0,4 [pyspeckit.spectrum.interactive]\n",
      "INFO: Left region selection unchanged.  xminpix, xmaxpix: 0,14 [pyspeckit.spectrum.interactive]\n",
      "INFO: Left region selection unchanged.  xminpix, xmaxpix: 0,1 [pyspeckit.spectrum.interactive]\n",
      "INFO: Renormalizing data by factor 6.433858e-01 to improve fitting procedure [pyspeckit.spectrum.fitters]\n",
      "ERROR: number of parameters must not exceed data\n",
      "INFO: Left region selection unchanged.  xminpix, xmaxpix: 0,19 [pyspeckit.spectrum.interactive]\n",
      "       Species              ChemicalName                  QNs                Freq    log10_Aij    EU_K     TotalIntensity     PeakIntensity            RMS              Velocity     \n",
      "                                                                                                               km / s                                                    km / s      \n",
      "---------------------- ---------------------- --------------------------- ---------- --------- --------- ------------------ ------------------ ------------------- ------------------\n",
      "         CH3CHOv=0,1&2           Acetaldehyde            5(1,5)-4(1,4)A++  93.580914       0.0       0.0  5.433651327398206 0.6729426117709566 0.04522558994743636   38.2662823680747\n",
      "               C4Hv7=1 1,3-Butadiynyl radical J=19/2-17/2,&Omega;=1/2,l=e 93.5859904  -5.46747 216.10664  5.433651327398206 0.6729426117709566 0.04522558994743636  54.52589742722444\n",
      "UnidentifiedTransition           UNIDENTIFIED                   U-94414.6    94.4146       0.0       0.0 36.608068759277174 1.2230144459480856 0.04522558994743636 1.9991813060366448\n",
      "           13CH3OHvt=0               Methanol              2(1,1)-1(1,0)E  94.420439       0.0       0.0 36.608068759277174 1.2230144459480856 0.04522558994743636 20.538350447635267\n",
      "                    CP   Carbon Monophosphide       N=2-1,J=3/2-1/2,F=2-1  95.164158  -5.47972   6.83506 165.97939958579732 16.866845479330276 0.04522558994743636 28.036377727555262\n",
      "           CH3OHvt=0-2               Methanol             8(0,8)-7(1,7)++  95.169516       0.0       0.0 165.97939958579732 16.866845479330276 0.04522558994743636  44.91297685886177\n",
      "None\n",
      "       Species            Freq         Velocity     \n",
      "                                        km / s      \n",
      "---------------------- ---------- ------------------\n",
      "         CH3CHOv=0,1&2  93.580914   38.2662823680747\n",
      "               C4Hv7=1 93.5859904  54.52589742722444\n",
      "UnidentifiedTransition    94.4146 1.9991813060366448\n",
      "           13CH3OHvt=0  94.420439 20.538350447635267\n",
      "                    CP  95.164158 28.036377727555262\n",
      "           CH3OHvt=0-2  95.169516  44.91297685886177\n"
     ]
    },
    {
     "name": "stderr",
     "output_type": "stream",
     "text": [
      "Warning: 'partition' will ignore the 'mask' of the MaskedArray.\n",
      "Warning: 'partition' will ignore the 'mask' of the MaskedArray.\n"
     ]
    },
    {
     "name": "stdout",
     "output_type": "stream",
     "text": [
      "INFO: Left region selection unchanged.  xminpix, xmaxpix: 0,3 [pyspeckit.spectrum.interactive]\n",
      "INFO: Left region selection unchanged.  xminpix, xmaxpix: 0,2 [pyspeckit.spectrum.interactive]\n",
      "ERROR: number of parameters must not exceed data\n",
      "INFO: Left region selection unchanged.  xminpix, xmaxpix: 0,1 [pyspeckit.spectrum.interactive]\n",
      "INFO: Renormalizing data by factor 1.904426e-03 to improve fitting procedure [pyspeckit.spectrum.fitters]\n",
      "ERROR: number of parameters must not exceed data\n",
      "INFO: Left region selection unchanged.  xminpix, xmaxpix: 0,3 [pyspeckit.spectrum.interactive]\n",
      "INFO: Left region selection unchanged.  xminpix, xmaxpix: 0,2 [pyspeckit.spectrum.interactive]\n",
      "ERROR: number of parameters must not exceed data\n"
     ]
    },
    {
     "name": "stderr",
     "output_type": "stream",
     "text": [
      "Warning: 'partition' will ignore the 'mask' of the MaskedArray.\n"
     ]
    },
    {
     "name": "stdout",
     "output_type": "stream",
     "text": [
      "INFO: Left region selection unchanged.  xminpix, xmaxpix: 0,2 [pyspeckit.spectrum.interactive]\n",
      "ERROR: number of parameters must not exceed data\n",
      "INFO: Left region selection unchanged.  xminpix, xmaxpix: 0,2 [pyspeckit.spectrum.interactive]\n",
      "ERROR: number of parameters must not exceed data\n",
      "INFO: Left region selection unchanged.  xminpix, xmaxpix: 0,2 [pyspeckit.spectrum.interactive]\n",
      "ERROR: number of parameters must not exceed data\n",
      "INFO: Left region selection unchanged.  xminpix, xmaxpix: 0,19 [pyspeckit.spectrum.interactive]\n",
      "INFO: Left region selection unchanged.  xminpix, xmaxpix: 0,1 [pyspeckit.spectrum.interactive]\n",
      "INFO: Renormalizing data by factor 1.785060e-03 to improve fitting procedure [pyspeckit.spectrum.fitters]\n",
      "ERROR: number of parameters must not exceed data\n",
      "INFO: Left region selection unchanged.  xminpix, xmaxpix: 0,1 [pyspeckit.spectrum.interactive]\n",
      "INFO: Renormalizing data by factor 2.168556e-03 to improve fitting procedure [pyspeckit.spectrum.fitters]\n",
      "ERROR: number of parameters must not exceed data\n",
      "INFO: Left region selection unchanged.  xminpix, xmaxpix: 0,17 [pyspeckit.spectrum.interactive]\n"
     ]
    },
    {
     "name": "stderr",
     "output_type": "stream",
     "text": [
      "Warning: 'partition' will ignore the 'mask' of the MaskedArray.\n",
      "Warning: 'partition' will ignore the 'mask' of the MaskedArray.\n"
     ]
    },
    {
     "name": "stdout",
     "output_type": "stream",
     "text": [
      "       Species              ChemicalName                  QNs                Freq    log10_Aij    EU_K      TotalIntensity        PeakIntensity              RMS                 Velocity     \n",
      "                                                                                                                km / s                                                            km / s      \n",
      "---------------------- ---------------------- --------------------------- ---------- --------- --------- -------------------- --------------------- ---------------------- -------------------\n",
      "         CH3CHOv=0,1&2           Acetaldehyde            5(1,5)-4(1,4)A++  93.580914       0.0       0.0  0.03317668414380036  0.004712180541067722 0.00033912560747618976  35.502083171988545\n",
      "               C4Hv7=1 1,3-Butadiynyl radical J=19/2-17/2,&Omega;=1/2,l=e 93.5859904  -5.46747 216.10664  0.03317668414380036  0.004712180541067722 0.00033912560747618976   51.76184817004196\n",
      "               CH3OCH3         Dimethyl ether             4(2,3)-4(1,4)AA   93.85964  -5.25065  14.71777 0.017359297371157247 0.0034878222630395513 0.00033912560747618976 0.32142281400332023\n",
      "                   CCS     Thioxoethenylidene                     8,7-7,6  93.870098       0.0       0.0 0.017359297371157247 0.0034878222630395513 0.00033912560747618976   33.72104879845865\n",
      "           13CH3OHvt=0               Methanol             2(0,2)-1(0,1)A+  94.407129       0.0       0.0   1.0969688372979525   0.03224031136595696 0.00033912560747618976   28.19787160407079\n",
      "UnidentifiedTransition           UNIDENTIFIED                   U-94414.6    94.4146       0.0       0.0   1.0969688372979525   0.03224031136595696 0.00033912560747618976   51.91813083747167\n",
      "                C4Hv=0 1,3-Butadiynyl radical          N=10-9,J=21/2-19/2   95.15032       0.0       0.0 0.005529483563583005 0.0017850603940487285 0.00033912560747618976   53.63434969427783\n",
      "                    CP   Carbon Monophosphide       N=2-1,J=3/2-1/2,F=2-1  95.164158  -5.47972   6.83506   0.6551445395172434   0.02407831635123814 0.00033912560747618976   17.94904995856189\n",
      "           CH3OHvt=0-2               Methanol             8(0,8)-7(1,7)++  95.169516       0.0       0.0   0.6551445395172434   0.02407831635123814 0.00033912560747618976    34.8262170017845\n",
      "None\n",
      "       Species            Freq          Velocity     \n",
      "                                         km / s      \n",
      "---------------------- ---------- -------------------\n",
      "         CH3CHOv=0,1&2  93.580914  35.502083171988545\n",
      "               C4Hv7=1 93.5859904   51.76184817004196\n",
      "               CH3OCH3   93.85964 0.32142281400332023\n",
      "                   CCS  93.870098   33.72104879845865\n",
      "           13CH3OHvt=0  94.407129   28.19787160407079\n",
      "UnidentifiedTransition    94.4146   51.91813083747167\n",
      "                C4Hv=0   95.15032   53.63434969427783\n",
      "                    CP  95.164158   17.94904995856189\n",
      "           CH3OHvt=0-2  95.169516    34.8262170017845\n",
      "------------------------------------------------\n",
      "---------------- 97_spw27\n",
      "------------------------------------------------\n"
     ]
    },
    {
     "name": "stderr",
     "output_type": "stream",
     "text": [
      "Warning: 'partition' will ignore the 'mask' of the MaskedArray.\n"
     ]
    },
    {
     "name": "stdout",
     "output_type": "stream",
     "text": [
      "INFO: Left region selection unchanged.  xminpix, xmaxpix: 0,18 [pyspeckit.spectrum.interactive]\n",
      "INFO: Left region selection unchanged.  xminpix, xmaxpix: 0,3 [pyspeckit.spectrum.interactive]\n",
      "INFO: Left region selection unchanged.  xminpix, xmaxpix: 0,5 [pyspeckit.spectrum.interactive]\n",
      "INFO: Left region selection unchanged.  xminpix, xmaxpix: 0,4 [pyspeckit.spectrum.interactive]\n",
      "INFO: Left region selection unchanged.  xminpix, xmaxpix: 0,5 [pyspeckit.spectrum.interactive]\n"
     ]
    },
    {
     "name": "stderr",
     "output_type": "stream",
     "text": [
      "WARNING: gnorm=0.   wa2=[0. 0. 0.] [pyspeckit.mpfit.mpfit]\n",
      "Warning: 'partition' will ignore the 'mask' of the MaskedArray.\n"
     ]
    },
    {
     "name": "stdout",
     "output_type": "stream",
     "text": [
      "INFO: Left region selection unchanged.  xminpix, xmaxpix: 0,1 [pyspeckit.spectrum.interactive]\n",
      "INFO: Renormalizing data by factor 8.187303e-01 to improve fitting procedure [pyspeckit.spectrum.fitters]\n",
      "ERROR: number of parameters must not exceed data\n",
      "INFO: Left region selection unchanged.  xminpix, xmaxpix: 0,8 [pyspeckit.spectrum.interactive]\n",
      "INFO: Left region selection unchanged.  xminpix, xmaxpix: 0,8 [pyspeckit.spectrum.interactive]\n",
      "INFO: Left region selection unchanged.  xminpix, xmaxpix: 0,47 [pyspeckit.spectrum.interactive]\n",
      "INFO: Left region selection unchanged.  xminpix, xmaxpix: 0,2 [pyspeckit.spectrum.interactive]\n",
      "ERROR: number of parameters must not exceed data\n",
      "INFO: Left region selection unchanged.  xminpix, xmaxpix: 0,1 [pyspeckit.spectrum.interactive]\n",
      "INFO: Renormalizing data by factor 6.174802e-01 to improve fitting procedure [pyspeckit.spectrum.fitters]\n",
      "ERROR: number of parameters must not exceed data\n"
     ]
    },
    {
     "name": "stderr",
     "output_type": "stream",
     "text": [
      "Warning: 'partition' will ignore the 'mask' of the MaskedArray.\n",
      "WARNING: gnorm=0.   wa2=[0. 0. 0.] [pyspeckit.mpfit.mpfit]\n"
     ]
    },
    {
     "name": "stdout",
     "output_type": "stream",
     "text": [
      "INFO: Left region selection unchanged.  xminpix, xmaxpix: 0,13 [pyspeckit.spectrum.interactive]\n",
      "       Species            ChemicalName            QNs            Freq    log10_Aij    EU_K     TotalIntensity     PeakIntensity            RMS              Velocity     \n",
      "                                                                                                   km / s                                                    km / s      \n",
      "---------------------- ------------------ ------------------- ---------- --------- --------- ------------------ ------------------ ------------------- ------------------\n",
      "UnidentifiedTransition       UNIDENTIFIED           U-95747.2    95.7472       0.0       0.0  6.555528906214133 0.7703328313812147 0.05158309120236055  5.846829582321352\n",
      "            13CH3CH2CN      Ethyl Cyanide    11(2,10)-10(2,9)   95.79909       0.0       0.0  8.414398818143654 0.7863798867312293 0.05158309120236055  9.924259709554713\n",
      "              34SO2v=0     Sulfur Dioxide       2(2,0)-3(1,3)  95.810412       0.0       0.0  8.414398818143654 0.7863798867312293 0.05158309120236055  45.34982334250713\n",
      "           CH3OHvt=0-2           Methanol     2(1,2)-1(1,1)++   95.91431       0.0       0.0  65.49828146259598 1.7197828112883051 0.05158309120236055  27.68823772633432\n",
      "         CH3CHOv=0,1&2       Acetaldehyde      5(0,5)-4(0,4)E  95.947439       0.0       0.0 10.624653418966885 0.7661746592141285 0.05158309120236055 11.606263162891738\n",
      "               C34Sv=0 Carbon Monosulfide                 2-1 96.4129495  -4.79698   6.24804 16.007122374938266 0.7660193281303149 0.05158309120236055  34.35405070704567\n",
      "            CH3OCHOv=0     Methyl Formate      8(4,5)-8(3,6)E  96.613156  -6.06141  31.89558 19.857082756776236 1.1099881346441502 0.05158309120236055  36.71539268061353\n",
      "                 O13CS   Carbonyl Sulfide                 8-7 96.9881211  -5.59226  20.94628 1.8755218881798965 0.6174802370723526 0.05158309120236055 25.926948358737757\n",
      "               CH3OCH3     Dimethyl ether 28(7,21)-27(8,19)EE 97.2932777  -6.24544 438.83344 43.437849233041646 1.7390770285994155 0.05158309120236055 1.5389571505838955\n",
      "                Si13CC    Silicon Carbide       4(1,3)-3(1,2) 97.2952574  -4.59247   13.5587 43.437849233041646 1.7390770285994155 0.05158309120236055 7.6389058869023385\n",
      "                OCSv=0   Carbonyl Sulfide                 8-7  97.301208   -5.5882  21.01411 43.437849233041646 1.7390770285994155 0.05158309120236055 25.972692087204212\n",
      "None\n",
      "       Species            Freq         Velocity     \n",
      "                                        km / s      \n",
      "---------------------- ---------- ------------------\n",
      "UnidentifiedTransition    95.7472  5.846829582321352\n",
      "            13CH3CH2CN   95.79909  9.924259709554713\n",
      "              34SO2v=0  95.810412  45.34982334250713\n",
      "           CH3OHvt=0-2   95.91431  27.68823772633432\n",
      "         CH3CHOv=0,1&2  95.947439 11.606263162891738\n",
      "               C34Sv=0 96.4129495  34.35405070704567\n",
      "            CH3OCHOv=0  96.613156  36.71539268061353\n",
      "                 O13CS 96.9881211 25.926948358737757\n",
      "               CH3OCH3 97.2932777 1.5389571505838955\n",
      "                Si13CC 97.2952574 7.6389058869023385\n",
      "                OCSv=0  97.301208 25.972692087204212\n"
     ]
    },
    {
     "name": "stderr",
     "output_type": "stream",
     "text": [
      "Warning: 'partition' will ignore the 'mask' of the MaskedArray.\n"
     ]
    },
    {
     "name": "stdout",
     "output_type": "stream",
     "text": [
      "INFO: Left region selection unchanged.  xminpix, xmaxpix: 0,15 [pyspeckit.spectrum.interactive]\n",
      "INFO: Left region selection unchanged.  xminpix, xmaxpix: 0,2 [pyspeckit.spectrum.interactive]\n",
      "ERROR: number of parameters must not exceed data\n",
      "INFO: Left region selection unchanged.  xminpix, xmaxpix: 0,3 [pyspeckit.spectrum.interactive]\n",
      "INFO: Left region selection unchanged.  xminpix, xmaxpix: 0,11 [pyspeckit.spectrum.interactive]\n",
      "INFO: Left region selection unchanged.  xminpix, xmaxpix: 0,2 [pyspeckit.spectrum.interactive]\n",
      "ERROR: number of parameters must not exceed data\n",
      "INFO: Left region selection unchanged.  xminpix, xmaxpix: 0,9 [pyspeckit.spectrum.interactive]\n",
      "INFO: Left region selection unchanged.  xminpix, xmaxpix: 0,30 [pyspeckit.spectrum.interactive]\n",
      "INFO: Left region selection unchanged.  xminpix, xmaxpix: 0,1 [pyspeckit.spectrum.interactive]\n",
      "INFO: Renormalizing data by factor 3.145056e-03 to improve fitting procedure [pyspeckit.spectrum.fitters]\n",
      "ERROR: number of parameters must not exceed data\n",
      "INFO: Left region selection unchanged.  xminpix, xmaxpix: 0,2 [pyspeckit.spectrum.interactive]\n",
      "ERROR: number of parameters must not exceed data\n"
     ]
    },
    {
     "name": "stderr",
     "output_type": "stream",
     "text": [
      "Warning: 'partition' will ignore the 'mask' of the MaskedArray.\n"
     ]
    },
    {
     "name": "stdout",
     "output_type": "stream",
     "text": [
      "INFO: Left region selection unchanged.  xminpix, xmaxpix: 0,13 [pyspeckit.spectrum.interactive]\n",
      "       Species            ChemicalName            QNs            Freq    log10_Aij    EU_K      TotalIntensity        PeakIntensity              RMS               Velocity     \n",
      "                                                                                                    km / s                                                          km / s      \n",
      "---------------------- ------------------ ------------------- ---------- --------- --------- -------------------- --------------------- --------------------- ------------------\n",
      "           CH3OHvt=0-2           Methanol     2(1,2)-1(1,1)++   95.91431       0.0       0.0   0.5298264664099528  0.024695495550949798 0.0003767348762941004  30.33079333215863\n",
      "         CH3CHOv=0,1&2       Acetaldehyde      5(0,5)-4(0,4)E  95.947439       0.0       0.0 0.024333740830557036  0.004633284668504013 0.0003767348762941004 34.448582379258205\n",
      "               C34Sv=0 Carbon Monosulfide                 2-1 96.4129495  -4.79698   6.24804  0.15770406001859077   0.00866989459905162 0.0003767348762941004  32.13739879963338\n",
      "UnidentifiedTransition       UNIDENTIFIED             U-96720      96.72       0.0       0.0  0.31263242185021867  0.017892374238462315 0.0003767348762941004  9.176537310170435\n",
      "                 O13CS   Carbonyl Sulfide                 8-7 96.9881211  -5.59226  20.94628 0.014319263511251793 0.0026382998612835143 0.0003767348762941004  51.58146552735208\n",
      "               CH3OCH3     Dimethyl ether 28(7,21)-27(8,19)EE 97.2932777  -6.24544 438.83344  0.38128537863979683   0.01816336495471743 0.0003767348762941004  2.735147381260047\n",
      "                Si13CC    Silicon Carbide       4(1,3)-3(1,2) 97.2952574  -4.59247   13.5587  0.38128537863979683   0.01816336495471743 0.0003767348762941004  8.835071778285261\n",
      "                OCSv=0   Carbonyl Sulfide                 8-7  97.301208   -5.5882  21.01411  0.38128537863979683   0.01816336495471743 0.0003767348762941004 27.168784825284106\n",
      "None\n",
      "       Species            Freq         Velocity     \n",
      "                                        km / s      \n",
      "---------------------- ---------- ------------------\n",
      "           CH3OHvt=0-2   95.91431  30.33079333215863\n",
      "         CH3CHOv=0,1&2  95.947439 34.448582379258205\n",
      "               C34Sv=0 96.4129495  32.13739879963338\n",
      "UnidentifiedTransition      96.72  9.176537310170435\n",
      "                 O13CS 96.9881211  51.58146552735208\n",
      "               CH3OCH3 97.2932777  2.735147381260047\n",
      "                Si13CC 97.2952574  8.835071778285261\n",
      "                OCSv=0  97.301208 27.168784825284106\n",
      "------------------------------------------------\n",
      "---------------- 98_spw29\n",
      "------------------------------------------------\n"
     ]
    },
    {
     "name": "stderr",
     "output_type": "stream",
     "text": [
      "Warning: 'partition' will ignore the 'mask' of the MaskedArray.\n"
     ]
    },
    {
     "name": "stdout",
     "output_type": "stream",
     "text": [
      "INFO: Left region selection unchanged.  xminpix, xmaxpix: 0,19 [pyspeckit.spectrum.interactive]\n",
      "INFO: Left region selection unchanged.  xminpix, xmaxpix: 0,54 [pyspeckit.spectrum.interactive]\n",
      "INFO: Left region selection unchanged.  xminpix, xmaxpix: 0,1 [pyspeckit.spectrum.interactive]\n",
      "INFO: Renormalizing data by factor 9.385086e-01 to improve fitting procedure [pyspeckit.spectrum.fitters]\n",
      "ERROR: number of parameters must not exceed data\n",
      "INFO: Left region selection unchanged.  xminpix, xmaxpix: 0,5 [pyspeckit.spectrum.interactive]\n"
     ]
    },
    {
     "name": "stderr",
     "output_type": "stream",
     "text": [
      "Warning: 'partition' will ignore the 'mask' of the MaskedArray.\n",
      "WARNING: gnorm=0.   wa2=[0. 0. 0.] [pyspeckit.mpfit.mpfit]\n",
      "WARNING: Frequency 99.2725488624644 GHz had no hits [spectral_ids]\n"
     ]
    },
    {
     "name": "stdout",
     "output_type": "stream",
     "text": [
      "INFO: Left region selection unchanged.  xminpix, xmaxpix: 0,24 [pyspeckit.spectrum.interactive]\n",
      "       Species            ChemicalName                  QNs                  Freq   log10_Aij   EU_K     TotalIntensity     PeakIntensity           RMS              Velocity     \n",
      "                                                                                                             km / s                                                   km / s      \n",
      "---------------------- ------------------ ------------------------------- --------- --------- -------- ------------------ ------------------ ------------------ ------------------\n",
      "            CH3OCHOv=1     Methyl Formate              8(5,3)-7(5,2)Evt=1 97.577278       0.0      0.0  82.62896406035017 2.1762604814632858 0.0854146760892429  7.323465447877853\n",
      "UnidentifiedTransition       UNIDENTIFIED                       U-97577.9   97.5779       0.0      0.0  82.62896406035017 2.1762604814632858 0.0854146760892429   9.23441407126831\n",
      "                 CSv=0 Carbon Monosulfide                             2-1 97.980953       0.0      0.0  385.6086161719337  5.176295715497359 0.0854146760892429 21.446184525691894\n",
      "              l-C3Hv=0      Propynylidyne J=9/2-7/2,&Omega;=1/2,F=5-4,l=e 97.995166  -4.32988 12.54227  385.6086161719337  5.176295715497359 0.0854146760892429  64.92430252727522\n",
      "         CH3CHOv=0,1&2       Acetaldehyde                5(1,4)-4(1,3)A-- 98.900951       0.0      0.0  2.789101393120945 0.9385086184860861 0.0854146760892429 40.223565231262626\n",
      "         SO3&Sigma;v=0    Sulfur Monoxide                       3(2)-2(1)  99.29987  -4.94877  9.22565 140.82822633677014  3.319106318601698 0.0854146760892429 12.807294016973515\n",
      "                 NH2CN          Cyanamide               5(1,5)-4(1,4),v=0 99.311195  -4.03092 28.79705 140.82822633677014  3.319106318601698 0.0854146760892429  46.99281100974625\n",
      "None\n",
      "       Species            Freq        Velocity     \n",
      "                                       km / s      \n",
      "---------------------- --------- ------------------\n",
      "            CH3OCHOv=1 97.577278  7.323465447877853\n",
      "UnidentifiedTransition   97.5779   9.23441407126831\n",
      "                 CSv=0 97.980953 21.446184525691894\n",
      "              l-C3Hv=0 97.995166  64.92430252727522\n",
      "         CH3CHOv=0,1&2 98.900951 40.223565231262626\n",
      "         SO3&Sigma;v=0  99.29987 12.807294016973515\n",
      "                 NH2CN 99.311195  46.99281100974625\n"
     ]
    },
    {
     "name": "stderr",
     "output_type": "stream",
     "text": [
      "Warning: 'partition' will ignore the 'mask' of the MaskedArray.\n",
      "Warning: 'partition' will ignore the 'mask' of the MaskedArray.\n"
     ]
    },
    {
     "name": "stdout",
     "output_type": "stream",
     "text": [
      "INFO: Left region selection unchanged.  xminpix, xmaxpix: 0,17 [pyspeckit.spectrum.interactive]\n",
      "INFO: Left region selection unchanged.  xminpix, xmaxpix: 0,1 [pyspeckit.spectrum.interactive]\n",
      "INFO: Renormalizing data by factor 3.218763e-03 to improve fitting procedure [pyspeckit.spectrum.fitters]\n",
      "ERROR: number of parameters must not exceed data\n",
      "INFO: Left region selection unchanged.  xminpix, xmaxpix: 0,1 [pyspeckit.spectrum.interactive]\n",
      "INFO: Renormalizing data by factor 3.310736e-03 to improve fitting procedure [pyspeckit.spectrum.fitters]\n",
      "ERROR: number of parameters must not exceed data\n"
     ]
    },
    {
     "name": "stderr",
     "output_type": "stream",
     "text": [
      "Warning: 'partition' will ignore the 'mask' of the MaskedArray.\n",
      "WARNING: gnorm=0.   wa2=[0. 0. 0.] [pyspeckit.mpfit.mpfit]\n"
     ]
    },
    {
     "name": "stdout",
     "output_type": "stream",
     "text": [
      "INFO: Left region selection unchanged.  xminpix, xmaxpix: 0,11 [pyspeckit.spectrum.interactive]\n",
      "INFO: Left region selection unchanged.  xminpix, xmaxpix: 0,32 [pyspeckit.spectrum.interactive]\n",
      "INFO: Left region selection unchanged.  xminpix, xmaxpix: 0,8 [pyspeckit.spectrum.interactive]\n",
      "INFO: Left region selection unchanged.  xminpix, xmaxpix: 0,8 [pyspeckit.spectrum.interactive]\n",
      "INFO: Left region selection unchanged.  xminpix, xmaxpix: 0,25 [pyspeckit.spectrum.interactive]\n",
      "INFO: Left region selection unchanged.  xminpix, xmaxpix: 0,1 [pyspeckit.spectrum.interactive]\n",
      "INFO: Renormalizing data by factor 3.404105e-03 to improve fitting procedure [pyspeckit.spectrum.fitters]\n",
      "ERROR: number of parameters must not exceed data\n"
     ]
    },
    {
     "name": "stderr",
     "output_type": "stream",
     "text": [
      "Warning: 'partition' will ignore the 'mask' of the MaskedArray.\n"
     ]
    },
    {
     "name": "stdout",
     "output_type": "stream",
     "text": [
      "       Species            ChemicalName                  QNs                  Freq   log10_Aij   EU_K      TotalIntensity        PeakIntensity              RMS               Velocity     \n",
      "                                                                                                              km / s                                                          km / s      \n",
      "---------------------- ------------------ ------------------------------- --------- --------- -------- -------------------- --------------------- --------------------- ------------------\n",
      "            g-CH3CH2OH     gauche-Ethanol        20(1,20)-20(0,20),vt=1-0 97.574005  -5.18354 229.6475   0.9300828251435497   0.03602978674117836 0.0005967510660779577 3.5348346233593206\n",
      "            CH3OCHOv=1     Methyl Formate              8(5,3)-7(5,2)Evt=1 97.577278       0.0      0.0   0.9300828251435497   0.03602978674117836 0.0005967510660779577 13.590548060276799\n",
      "UnidentifiedTransition       UNIDENTIFIED                       U-97577.9   97.5779       0.0      0.0   0.9300828251435497   0.03602978674117836 0.0005967510660779577 15.501456734812187\n",
      "                  34SO    Sulfur Monoxide                       3(2)-2(1) 97.715317  -4.96948  9.09292 0.009565662009243773 0.0032187629533089977 0.0005967510660779577 30.967459905039338\n",
      "                 CSv=0 Carbon Monosulfide                             2-1 97.980953       0.0      0.0    6.419557062871453   0.13398027118506445 0.0005967510660779577 24.684288061464635\n",
      "              l-C3Hv=0      Propynylidyne J=9/2-7/2,&Omega;=1/2,F=5-4,l=e 97.995166  -4.32988 12.54227    6.419557062871453   0.13398027118506445 0.0005967510660779577   68.1619364157436\n",
      "         CH3CHOv=0,1&2       Acetaldehyde                5(1,4)-4(1,3)A-- 98.900951       0.0      0.0  0.08848419658201491  0.004965819019407791 0.0005967510660779577  34.50723202843688\n",
      "         SO3&Sigma;v=0    Sulfur Monoxide                       3(2)-2(1)  99.29987  -4.94877  9.22565   2.7294325118775196   0.05907120648642283 0.0005967510660779577 20.918587069705424\n",
      "                 NH2CN          Cyanamide               5(1,5)-4(1,4),v=0 99.311195  -4.03092 28.79705   2.7294325118775196   0.05907120648642283 0.0005967510660779577  55.10317908726442\n",
      "               CH3OCH3     Dimethyl ether                 4(1,4)-3(0,3)EE 99.325208       0.0      0.0  0.01011646860731362  0.003404104633852605 0.0005967510660779577 26.782695454629206\n",
      "None\n",
      "       Species            Freq        Velocity     \n",
      "                                       km / s      \n",
      "---------------------- --------- ------------------\n",
      "            g-CH3CH2OH 97.574005 3.5348346233593206\n",
      "            CH3OCHOv=1 97.577278 13.590548060276799\n",
      "UnidentifiedTransition   97.5779 15.501456734812187\n",
      "                  34SO 97.715317 30.967459905039338\n",
      "                 CSv=0 97.980953 24.684288061464635\n",
      "              l-C3Hv=0 97.995166   68.1619364157436\n",
      "         CH3CHOv=0,1&2 98.900951  34.50723202843688\n",
      "         SO3&Sigma;v=0  99.29987 20.918587069705424\n",
      "                 NH2CN 99.311195  55.10317908726442\n",
      "               CH3OCH3 99.325208 26.782695454629206\n",
      "------------------------------------------------\n",
      "---------------- 98_spw106\n",
      "------------------------------------------------\n"
     ]
    },
    {
     "name": "stderr",
     "output_type": "stream",
     "text": [
      "Warning: 'partition' will ignore the 'mask' of the MaskedArray.\n",
      "WARNING: gnorm=0.   wa2=[0. 0. 0.] [pyspeckit.mpfit.mpfit]\n",
      "Warning: 'partition' will ignore the 'mask' of the MaskedArray.\n"
     ]
    },
    {
     "name": "stdout",
     "output_type": "stream",
     "text": [
      "INFO: Left region selection unchanged.  xminpix, xmaxpix: 0,19 [pyspeckit.spectrum.interactive]\n",
      "INFO: Left region selection unchanged.  xminpix, xmaxpix: 0,1 [pyspeckit.spectrum.interactive]\n",
      "INFO: Renormalizing data by factor 1.115764e+00 to improve fitting procedure [pyspeckit.spectrum.fitters]\n",
      "ERROR: number of parameters must not exceed data\n",
      "INFO: Left region selection unchanged.  xminpix, xmaxpix: 0,54 [pyspeckit.spectrum.interactive]\n",
      "INFO: Left region selection unchanged.  xminpix, xmaxpix: 0,1 [pyspeckit.spectrum.interactive]\n",
      "INFO: Renormalizing data by factor 1.078439e+00 to improve fitting procedure [pyspeckit.spectrum.fitters]\n",
      "ERROR: number of parameters must not exceed data\n",
      "INFO: Left region selection unchanged.  xminpix, xmaxpix: 0,1 [pyspeckit.spectrum.interactive]\n",
      "INFO: Renormalizing data by factor 1.398849e+00 to improve fitting procedure [pyspeckit.spectrum.fitters]\n",
      "ERROR: number of parameters must not exceed data\n"
     ]
    },
    {
     "name": "stderr",
     "output_type": "stream",
     "text": [
      "Warning: 'partition' will ignore the 'mask' of the MaskedArray.\n",
      "Warning: 'partition' will ignore the 'mask' of the MaskedArray.\n",
      "WARNING: Frequency 99.27434994466567 GHz had no hits [spectral_ids]\n"
     ]
    },
    {
     "name": "stdout",
     "output_type": "stream",
     "text": [
      "INFO: Left region selection unchanged.  xminpix, xmaxpix: 0,2 [pyspeckit.spectrum.interactive]\n",
      "ERROR: number of parameters must not exceed data\n",
      "INFO: Left region selection unchanged.  xminpix, xmaxpix: 0,24 [pyspeckit.spectrum.interactive]\n",
      "       Species            ChemicalName                  QNs                  Freq   log10_Aij    EU_K     TotalIntensity     PeakIntensity            RMS              Velocity     \n",
      "                                                                                                              km / s                                                    km / s      \n",
      "---------------------- ------------------ ------------------------------- --------- --------- --------- ------------------ ------------------ ------------------- ------------------\n",
      "            CH3OCHOv=1     Methyl Formate              8(5,3)-7(5,2)Evt=1 97.577278       0.0       0.0  85.80212435882461  2.446869618352503 0.10042013204943588   7.05936078414561\n",
      "UnidentifiedTransition       UNIDENTIFIED                       U-97577.9   97.5779       0.0       0.0  85.80212435882461  2.446869618352503 0.10042013204943588  8.970311091043301\n",
      "            g-CH3CH2OH     gauche-Ethanol        17(1,17)-17(0,17),vt=1-0 97.962834  -5.17833 184.59443 3.3158767194055074 1.1157637086976318 0.10042013204943588  74.18703000377349\n",
      "                 CSv=0 Carbon Monosulfide                             2-1 97.980953       0.0       0.0  398.5736770049764  5.518174164594174 0.10042013204943588  21.76815859350265\n",
      "              l-C3Hv=0      Propynylidyne J=9/2-7/2,&Omega;=1/2,F=5-4,l=e 97.995166  -4.32988  12.54227  398.5736770049764  5.518174164594174 0.10042013204943588  65.24622989668633\n",
      "         CH3CHOv=0,1&2       Acetaldehyde                5(1,4)-4(1,3)A-- 98.900951       0.0       0.0 3.2049526007250706 1.0784387064384737 0.10042013204943588 10.620005070259204\n",
      "         SO3&Sigma;v=0    Sulfur Monoxide                       3(2)-2(1)  99.29987  -4.94877   9.22565  8.396030344863346 1.4202102833562402 0.10042013204943588  69.67686164406416\n",
      "                 NH2CN          Cyanamide               5(1,5)-4(1,4),v=0 99.311195  -4.03092  28.79705 143.41374433611958 3.3768520094190473 0.10042013204943588  53.10748691690981\n",
      "None\n",
      "       Species            Freq        Velocity     \n",
      "                                       km / s      \n",
      "---------------------- --------- ------------------\n",
      "            CH3OCHOv=1 97.577278   7.05936078414561\n",
      "UnidentifiedTransition   97.5779  8.970311091043301\n",
      "            g-CH3CH2OH 97.962834  74.18703000377349\n",
      "                 CSv=0 97.980953  21.76815859350265\n",
      "              l-C3Hv=0 97.995166  65.24622989668633\n",
      "         CH3CHOv=0,1&2 98.900951 10.620005070259204\n",
      "         SO3&Sigma;v=0  99.29987  69.67686164406416\n",
      "                 NH2CN 99.311195  53.10748691690981\n"
     ]
    },
    {
     "name": "stderr",
     "output_type": "stream",
     "text": [
      "Warning: 'partition' will ignore the 'mask' of the MaskedArray.\n"
     ]
    },
    {
     "name": "stdout",
     "output_type": "stream",
     "text": [
      "INFO: Left region selection unchanged.  xminpix, xmaxpix: 0,16 [pyspeckit.spectrum.interactive]\n",
      "INFO: Left region selection unchanged.  xminpix, xmaxpix: 0,5 [pyspeckit.spectrum.interactive]\n",
      "INFO: Left region selection unchanged.  xminpix, xmaxpix: 0,7 [pyspeckit.spectrum.interactive]\n",
      "INFO: Left region selection unchanged.  xminpix, xmaxpix: 0,35 [pyspeckit.spectrum.interactive]\n",
      "INFO: Left region selection unchanged.  xminpix, xmaxpix: 0,1 [pyspeckit.spectrum.interactive]\n",
      "INFO: Renormalizing data by factor 3.619968e-03 to improve fitting procedure [pyspeckit.spectrum.fitters]\n",
      "ERROR: number of parameters must not exceed data\n"
     ]
    },
    {
     "name": "stderr",
     "output_type": "stream",
     "text": [
      "Warning: 'partition' will ignore the 'mask' of the MaskedArray.\n",
      "Warning: 'partition' will ignore the 'mask' of the MaskedArray.\n"
     ]
    },
    {
     "name": "stdout",
     "output_type": "stream",
     "text": [
      "INFO: Left region selection unchanged.  xminpix, xmaxpix: 0,1 [pyspeckit.spectrum.interactive]\n",
      "INFO: Renormalizing data by factor 2.657910e-03 to improve fitting procedure [pyspeckit.spectrum.fitters]\n",
      "ERROR: number of parameters must not exceed data\n",
      "INFO: Left region selection unchanged.  xminpix, xmaxpix: 0,2 [pyspeckit.spectrum.interactive]\n",
      "ERROR: number of parameters must not exceed data\n",
      "INFO: Left region selection unchanged.  xminpix, xmaxpix: 0,25 [pyspeckit.spectrum.interactive]\n",
      "       Species            ChemicalName                  QNs                  Freq   log10_Aij   EU_K      TotalIntensity       PeakIntensity              RMS               Velocity     \n",
      "                                                                                                              km / s                                                         km / s      \n",
      "---------------------- ------------------ ------------------------------- --------- --------- -------- -------------------- -------------------- --------------------- ------------------\n",
      "            g-CH3CH2OH     gauche-Ethanol        20(1,20)-20(0,20),vt=1-0 97.574005  -5.18354 229.6475   0.7928730019271224  0.03392580587825905 0.0005082482284780896  5.114321360221312\n",
      "            CH3OCHOv=1     Methyl Formate              8(5,3)-7(5,2)Evt=1 97.577278       0.0      0.0   0.7928730019271224  0.03392580587825905 0.0005082482284780896  15.16998181697583\n",
      "UnidentifiedTransition       UNIDENTIFIED                       U-97577.9   97.5779       0.0      0.0   0.7928730019271224  0.03392580587825905 0.0005082482284780896 17.080880423577838\n",
      "                 CSv=0 Carbon Monosulfide                             2-1 97.980953       0.0      0.0    6.183320485440298  0.13089169704901685 0.0005082482284780896  22.98842351627223\n",
      "              l-C3Hv=0      Propynylidyne J=9/2-7/2,&Omega;=1/2,F=5-4,l=e 97.995166  -4.32988 12.54227    6.183320485440298  0.13089169704901685 0.0005082482284780896  66.46631783495702\n",
      "         CH3CHOv=0,1&2       Acetaldehyde                  5(1,4)-4(1,3)E 98.863314       0.0      0.0 0.010757982161496898 0.003619967535091832 0.0005082482284780896  35.65727077584355\n",
      "            CH3OCHOv=0     Methyl Formate                11(4,8)-11(3,9)A  98.87516  -5.88142 49.69956 0.010757982161496898 0.003619967535091832 0.0005082482284780896  71.57042693595292\n",
      "         SO3&Sigma;v=0    Sulfur Monoxide                       3(2)-2(1)  99.29987  -4.94877  9.22565   2.5239809480724165   0.0632632629887996 0.0005082482284780896 20.539293255553265\n",
      "                 NH2CN          Cyanamide               5(1,5)-4(1,4),v=0 99.311195  -4.03092 28.79705   2.5239809480724165   0.0632632629887996 0.0005082482284780896  54.72392852606522\n",
      "None\n",
      "       Species            Freq        Velocity     \n",
      "                                       km / s      \n",
      "---------------------- --------- ------------------\n",
      "            g-CH3CH2OH 97.574005  5.114321360221312\n",
      "            CH3OCHOv=1 97.577278  15.16998181697583\n",
      "UnidentifiedTransition   97.5779 17.080880423577838\n",
      "                 CSv=0 97.980953  22.98842351627223\n",
      "              l-C3Hv=0 97.995166  66.46631783495702\n",
      "         CH3CHOv=0,1&2 98.863314  35.65727077584355\n",
      "            CH3OCHOv=0  98.87516  71.57042693595292\n",
      "         SO3&Sigma;v=0  99.29987 20.539293255553265\n",
      "                 NH2CN 99.311195  54.72392852606522\n",
      "------------------------------------------------\n",
      "---------------- 99_spw25\n",
      "------------------------------------------------\n"
     ]
    },
    {
     "name": "stderr",
     "output_type": "stream",
     "text": [
      "Warning: 'partition' will ignore the 'mask' of the MaskedArray.\n"
     ]
    },
    {
     "name": "stdout",
     "output_type": "stream",
     "text": [
      "INFO: Left region selection unchanged.  xminpix, xmaxpix: 0,19 [pyspeckit.spectrum.interactive]\n",
      "INFO: Left region selection unchanged.  xminpix, xmaxpix: 0,57 [pyspeckit.spectrum.interactive]\n",
      "INFO: Left region selection unchanged.  xminpix, xmaxpix: 0,2 [pyspeckit.spectrum.interactive]\n",
      "ERROR: number of parameters must not exceed data\n",
      "INFO: Left region selection unchanged.  xminpix, xmaxpix: 0,1 [pyspeckit.spectrum.interactive]\n",
      "INFO: Renormalizing data by factor 6.037962e-01 to improve fitting procedure [pyspeckit.spectrum.fitters]\n",
      "ERROR: number of parameters must not exceed data\n",
      "INFO: Left region selection unchanged.  xminpix, xmaxpix: 0,2 [pyspeckit.spectrum.interactive]\n",
      "ERROR: number of parameters must not exceed data\n",
      "INFO: Left region selection unchanged.  xminpix, xmaxpix: 0,1 [pyspeckit.spectrum.interactive]\n",
      "INFO: Renormalizing data by factor 7.215459e-01 to improve fitting procedure [pyspeckit.spectrum.fitters]\n",
      "ERROR: number of parameters must not exceed data\n"
     ]
    },
    {
     "name": "stderr",
     "output_type": "stream",
     "text": [
      "Warning: 'partition' will ignore the 'mask' of the MaskedArray.\n",
      "Warning: 'partition' will ignore the 'mask' of the MaskedArray.\n"
     ]
    },
    {
     "name": "stdout",
     "output_type": "stream",
     "text": [
      "INFO: Left region selection unchanged.  xminpix, xmaxpix: 0,2 [pyspeckit.spectrum.interactive]\n",
      "ERROR: number of parameters must not exceed data\n",
      "INFO: Left region selection unchanged.  xminpix, xmaxpix: 0,6 [pyspeckit.spectrum.interactive]\n",
      "INFO: Left region selection unchanged.  xminpix, xmaxpix: 0,26 [pyspeckit.spectrum.interactive]\n",
      "       Species            ChemicalName                  QNs                  Freq   log10_Aij    EU_K     TotalIntensity     PeakIntensity            RMS              Velocity     \n",
      "                                                                                                              km / s                                                    km / s      \n",
      "---------------------- ------------------ ------------------------------- --------- --------- --------- ------------------ ------------------ ------------------- ------------------\n",
      "            CH3OCHOv=1     Methyl Formate              8(5,3)-7(5,2)Evt=1 97.577278       0.0       0.0  74.39451036035386 2.1688587879571988 0.05601663165936242 1.4448278074719287\n",
      "UnidentifiedTransition       UNIDENTIFIED                       U-97577.9   97.5779       0.0       0.0  74.39451036035386 2.1688587879571988 0.05601663165936242  3.355813903616074\n",
      "            g-CH3CH2OH     gauche-Ethanol        25(1,25)-25(0,25),vt=1-0  97.60039  -5.18312 320.26573  74.39451036035386 2.1688587879571988 0.05601663165936242  72.43603897409726\n",
      "                 CSv=0 Carbon Monosulfide                             2-1 97.980953       0.0       0.0  334.0228476135777 4.9035658330543415 0.05601663165936242 16.402556942924182\n",
      "              l-C3Hv=0      Propynylidyne J=9/2-7/2,&Omega;=1/2,F=5-4,l=e 97.995166  -4.32988  12.54227  334.0228476135777 4.9035658330543415 0.05601663165936242  59.88140646098694\n",
      "         CH3CHOv=0,1&2       Acetaldehyde                  5(1,4)-4(1,3)E 98.863314       0.0       0.0 3.7464569916862636 0.6508242807400648 0.05601663165936242   37.1484509771668\n",
      "            CH3OCHOv=0     Methyl Formate                11(4,8)-11(3,9)A  98.87516  -5.88142  49.69956 3.7464569916862636 0.6508242807400648 0.05601663165936242  73.06142848248902\n",
      "         SO3&Sigma;v=0    Sulfur Monoxide                       3(2)-2(1)  99.29987  -4.94877   9.22565 15.864467550628557   1.12238767101776 0.05601663165936242  55.03306469981255\n",
      "                 NH2CN          Cyanamide               5(1,5)-4(1,4),v=0 99.311195  -4.03092  28.79705 118.13781059845998 2.7886398890236648 0.05601663165936242  46.66758619989285\n",
      "None\n",
      "       Species            Freq        Velocity     \n",
      "                                       km / s      \n",
      "---------------------- --------- ------------------\n",
      "            CH3OCHOv=1 97.577278 1.4448278074719287\n",
      "UnidentifiedTransition   97.5779  3.355813903616074\n",
      "            g-CH3CH2OH  97.60039  72.43603897409726\n",
      "                 CSv=0 97.980953 16.402556942924182\n",
      "              l-C3Hv=0 97.995166  59.88140646098694\n",
      "         CH3CHOv=0,1&2 98.863314   37.1484509771668\n",
      "            CH3OCHOv=0  98.87516  73.06142848248902\n",
      "         SO3&Sigma;v=0  99.29987  55.03306469981255\n",
      "                 NH2CN 99.311195  46.66758619989285\n"
     ]
    },
    {
     "name": "stderr",
     "output_type": "stream",
     "text": [
      "Warning: 'partition' will ignore the 'mask' of the MaskedArray.\n"
     ]
    },
    {
     "name": "stdout",
     "output_type": "stream",
     "text": [
      "INFO: Left region selection unchanged.  xminpix, xmaxpix: 0,18 [pyspeckit.spectrum.interactive]\n",
      "INFO: Left region selection unchanged.  xminpix, xmaxpix: 0,2 [pyspeckit.spectrum.interactive]\n",
      "ERROR: number of parameters must not exceed data\n",
      "INFO: Left region selection unchanged.  xminpix, xmaxpix: 0,1 [pyspeckit.spectrum.interactive]\n",
      "INFO: Renormalizing data by factor 1.717761e-03 to improve fitting procedure [pyspeckit.spectrum.fitters]\n",
      "ERROR: number of parameters must not exceed data\n",
      "INFO: Left region selection unchanged.  xminpix, xmaxpix: 0,16 [pyspeckit.spectrum.interactive]\n"
     ]
    },
    {
     "name": "stderr",
     "output_type": "stream",
     "text": [
      "Warning: 'partition' will ignore the 'mask' of the MaskedArray.\n"
     ]
    },
    {
     "name": "stdout",
     "output_type": "stream",
     "text": [
      "INFO: Left region selection unchanged.  xminpix, xmaxpix: 0,32 [pyspeckit.spectrum.interactive]\n",
      "INFO: Left region selection unchanged.  xminpix, xmaxpix: 0,1 [pyspeckit.spectrum.interactive]\n",
      "INFO: Renormalizing data by factor 2.390375e-03 to improve fitting procedure [pyspeckit.spectrum.fitters]\n",
      "ERROR: number of parameters must not exceed data\n"
     ]
    },
    {
     "name": "stderr",
     "output_type": "stream",
     "text": [
      "Warning: 'partition' will ignore the 'mask' of the MaskedArray.\n",
      "Warning: 'partition' will ignore the 'mask' of the MaskedArray.\n"
     ]
    },
    {
     "name": "stdout",
     "output_type": "stream",
     "text": [
      "INFO: Left region selection unchanged.  xminpix, xmaxpix: 0,1 [pyspeckit.spectrum.interactive]\n",
      "INFO: Renormalizing data by factor 2.286167e-03 to improve fitting procedure [pyspeckit.spectrum.fitters]\n",
      "ERROR: number of parameters must not exceed data\n",
      "INFO: Left region selection unchanged.  xminpix, xmaxpix: 0,24 [pyspeckit.spectrum.interactive]\n",
      "       Species            ChemicalName                  QNs                  Freq   log10_Aij   EU_K      TotalIntensity        PeakIntensity              RMS                Velocity     \n",
      "                                                                                                              km / s                                                           km / s      \n",
      "---------------------- ------------------ ------------------------------- --------- --------- -------- -------------------- --------------------- ---------------------- ------------------\n",
      "            g-CH3CH2OH     gauche-Ethanol        20(1,20)-20(0,20),vt=1-0 97.574005  -5.18354 229.6475   0.7082922830989647  0.031608304752585616 0.00036774455711560683 2.0218025053540414\n",
      "            CH3OCHOv=1     Methyl Formate              8(5,3)-7(5,2)Evt=1 97.577278       0.0      0.0   0.7082922830989647  0.031608304752585616 0.00036774455711560683  12.07756669337079\n",
      "UnidentifiedTransition       UNIDENTIFIED                       U-97577.9   97.5779       0.0      0.0   0.7082922830989647  0.031608304752585616 0.00036774455711560683  13.98848501224583\n",
      "                 CSv=0 Carbon Monosulfide                             2-1 97.980953       0.0      0.0    6.260651031971051   0.13140650572906104 0.00036774455711560683 20.214152355494143\n",
      "              l-C3Hv=0      Propynylidyne J=9/2-7/2,&Omega;=1/2,F=5-4,l=e 97.995166  -4.32988 12.54227    6.260651031971051   0.13140650572906104 0.00036774455711560683 63.692449048271634\n",
      "         CH3CHOv=0,1&2       Acetaldehyde                  5(1,4)-4(1,3)E 98.863314       0.0      0.0 0.007103840661337875 0.0023903752474556898 0.00036774455711560683 35.667985791187995\n",
      "            CH3OCHOv=0     Methyl Formate                11(4,8)-11(3,9)A  98.87516  -5.88142 49.69956 0.007103840661337875 0.0023903752474556898 0.00036774455711560683  71.58114066755662\n",
      "         SO3&Sigma;v=0    Sulfur Monoxide                       3(2)-2(1)  99.29987  -4.94877  9.22565   2.5288734109279063   0.06222432608419056 0.00036774455711560683 20.412042557365936\n",
      "                 NH2CN          Cyanamide               5(1,5)-4(1,4),v=0 99.311195  -4.03092 28.79705   2.5288734109279063   0.06222432608419056 0.00036774455711560683   54.5966923389726\n",
      "None\n",
      "       Species            Freq        Velocity     \n",
      "                                       km / s      \n",
      "---------------------- --------- ------------------\n",
      "            g-CH3CH2OH 97.574005 2.0218025053540414\n",
      "            CH3OCHOv=1 97.577278  12.07756669337079\n",
      "UnidentifiedTransition   97.5779  13.98848501224583\n",
      "                 CSv=0 97.980953 20.214152355494143\n",
      "              l-C3Hv=0 97.995166 63.692449048271634\n",
      "         CH3CHOv=0,1&2 98.863314 35.667985791187995\n",
      "            CH3OCHOv=0  98.87516  71.58114066755662\n",
      "         SO3&Sigma;v=0  99.29987 20.412042557365936\n",
      "                 NH2CN 99.311195   54.5966923389726\n",
      "------------------------------------------------\n",
      "---------------- 99_spw31\n",
      "------------------------------------------------\n"
     ]
    },
    {
     "name": "stderr",
     "output_type": "stream",
     "text": [
      "Warning: 'partition' will ignore the 'mask' of the MaskedArray.\n"
     ]
    },
    {
     "name": "stdout",
     "output_type": "stream",
     "text": [
      "INFO: Left region selection unchanged.  xminpix, xmaxpix: 0,25 [pyspeckit.spectrum.interactive]\n",
      "Species  ChemicalName       QNs           Freq    log10_Aij   EU_K     TotalIntensity     PeakIntensity           RMS              Velocity     \n",
      "                                                                           km / s                                                   km / s      \n",
      "------- -------------- -------------- ----------- --------- -------- ------------------ ----------------- ------------------- ------------------\n",
      "HC3Nv=0 Cyanoacetylene J=11-10,F=10-9 100.0763824  -4.59063 28.81766 260.74945801455374 7.349808528460157 0.09296770534382316 18.440813598600084\n",
      "  H2CCO         Ketene  5(1,5)-4(1,4)    100.0945       0.0      0.0 260.74945801455374 7.349808528460157 0.09296770534382316  72.70139468722434\n",
      "None\n",
      "Species     Freq         Velocity     \n",
      "                          km / s      \n",
      "------- ----------- ------------------\n",
      "HC3Nv=0 100.0763824 18.440813598600084\n",
      "  H2CCO    100.0945  72.70139468722434\n"
     ]
    },
    {
     "name": "stderr",
     "output_type": "stream",
     "text": [
      "Warning: 'partition' will ignore the 'mask' of the MaskedArray.\n"
     ]
    },
    {
     "name": "stdout",
     "output_type": "stream",
     "text": [
      "INFO: Left region selection unchanged.  xminpix, xmaxpix: 0,22 [pyspeckit.spectrum.interactive]\n",
      "INFO: Left region selection unchanged.  xminpix, xmaxpix: 0,2 [pyspeckit.spectrum.interactive]\n",
      "ERROR: number of parameters must not exceed data\n",
      "INFO: Left region selection unchanged.  xminpix, xmaxpix: 0,1 [pyspeckit.spectrum.interactive]\n",
      "INFO: Renormalizing data by factor 4.055546e-03 to improve fitting procedure [pyspeckit.spectrum.fitters]\n",
      "ERROR: number of parameters must not exceed data\n",
      "INFO: Left region selection unchanged.  xminpix, xmaxpix: 0,3 [pyspeckit.spectrum.interactive]\n",
      "INFO: Left region selection unchanged.  xminpix, xmaxpix: 0,6 [pyspeckit.spectrum.interactive]\n"
     ]
    },
    {
     "name": "stderr",
     "output_type": "stream",
     "text": [
      "Warning: 'partition' will ignore the 'mask' of the MaskedArray.\n"
     ]
    },
    {
     "name": "stdout",
     "output_type": "stream",
     "text": [
      "       Species           ChemicalName             QNs               Freq    log10_Aij   EU_K      TotalIntensity      PeakIntensity              RMS               Velocity     \n",
      "                                                                                                      km / s                                                        km / s      \n",
      "---------------------- ---------------- ----------------------- ----------- --------- -------- ------------------- -------------------- --------------------- ------------------\n",
      "               HC3Nv=0   Cyanoacetylene          J=11-10,F=10-9 100.0763824  -4.59063 28.81766    5.63987560193599  0.16205938485475954 0.0006681747801383817 23.878009457878377\n",
      "                 H2CCO           Ketene           5(1,5)-4(1,4)    100.0945       0.0      0.0 0.02385618692444952 0.004776521163870522 0.0006681747801383817  33.48185988019922\n",
      "                 NH2CN        Cyanamide       5(1,4)-4(1,3),v=0    100.6295  -4.01377 28.98693 0.01182731152673056 0.004055545950722794 0.0006681747801383817 34.507497623936096\n",
      "                 CH2CN      Cyanomethyl 5(2,4)-4(2,3)J=11/2-9/2  100.632957       0.0      0.0 0.01182731152673056 0.004055545950722794 0.0006681747801383817  44.80495151759628\n",
      "           CH3OHvt=0-2         Methanol        13(2,11)-12(3,9)   100.63887       0.0      0.0 0.01182731152673056 0.004055545950722794 0.0006681747801383817   62.4165152451444\n",
      "UnidentifiedTransition     UNIDENTIFIED              U-101272.9    101.2729       0.0      0.0 0.07417611978405489  0.00538955813596869 0.0006681747801383817 33.401746457919515\n",
      "            CH3OCHOv=1   Methyl Formate      9(1,9)-8(0,8)Evt=1  101.278999       0.0      0.0 0.07417611978405489  0.00538955813596869 0.0006681747801383817  51.45317372457243\n",
      "                H2C34S Thioformaldehyde           3(0,3)-2(0,2) 101.2838992  -4.85206    9.722 0.07417611978405489  0.00538955813596869 0.0006681747801383817  65.95489496012354\n",
      "         CH3SH,vt&le;2 Methyl Mercaptan              4(1)-3(1)E   101.28436       0.0      0.0 0.07417611978405489  0.00538955813596869 0.0006681747801383817  67.31852082135991\n",
      "None\n",
      "       Species             Freq         Velocity     \n",
      "                                         km / s      \n",
      "---------------------- ----------- ------------------\n",
      "               HC3Nv=0 100.0763824 23.878009457878377\n",
      "                 H2CCO    100.0945  33.48185988019922\n",
      "                 NH2CN    100.6295 34.507497623936096\n",
      "                 CH2CN  100.632957  44.80495151759628\n",
      "           CH3OHvt=0-2   100.63887   62.4165152451444\n",
      "UnidentifiedTransition    101.2729 33.401746457919515\n",
      "            CH3OCHOv=1  101.278999  51.45317372457243\n",
      "                H2C34S 101.2838992  65.95489496012354\n",
      "         CH3SH,vt&le;2   101.28436  67.31852082135991\n",
      "------------------------------------------------\n",
      "---------------- 99_spw108\n",
      "------------------------------------------------\n"
     ]
    },
    {
     "name": "stderr",
     "output_type": "stream",
     "text": [
      "Warning: 'partition' will ignore the 'mask' of the MaskedArray.\n",
      "Warning: 'partition' will ignore the 'mask' of the MaskedArray.\n"
     ]
    },
    {
     "name": "stdout",
     "output_type": "stream",
     "text": [
      "INFO: Left region selection unchanged.  xminpix, xmaxpix: 0,1 [pyspeckit.spectrum.interactive]\n",
      "INFO: Renormalizing data by factor 1.103401e+00 to improve fitting procedure [pyspeckit.spectrum.fitters]\n",
      "ERROR: number of parameters must not exceed data\n",
      "INFO: Left region selection unchanged.  xminpix, xmaxpix: 0,25 [pyspeckit.spectrum.interactive]\n",
      "Species  ChemicalName       QNs           Freq    log10_Aij   EU_K     TotalIntensity     PeakIntensity           RMS              Velocity    \n",
      "                                                                           km / s                                                   km / s     \n",
      "------- -------------- -------------- ----------- --------- -------- ------------------ ------------------ ------------------ -----------------\n",
      "HC3Nv=0 Cyanoacetylene J=11-10,F=10-9 100.0763824  -4.59063 28.81766 3.2178826192424124 1.1034010214196217 0.0965294905063471 68.42128045727803\n",
      "  H2CCO         Ketene  5(1,5)-4(1,4)    100.0945       0.0      0.0  256.9725121815996   6.83620245301888 0.0965294905063471 72.54029152833026\n",
      "None\n",
      "Species     Freq         Velocity    \n",
      "                          km / s     \n",
      "------- ----------- -----------------\n",
      "HC3Nv=0 100.0763824 68.42128045727803\n",
      "  H2CCO    100.0945 72.54029152833026\n"
     ]
    },
    {
     "name": "stderr",
     "output_type": "stream",
     "text": [
      "Warning: 'partition' will ignore the 'mask' of the MaskedArray.\n"
     ]
    },
    {
     "name": "stdout",
     "output_type": "stream",
     "text": [
      "INFO: Left region selection unchanged.  xminpix, xmaxpix: 0,22 [pyspeckit.spectrum.interactive]\n",
      "INFO: Left region selection unchanged.  xminpix, xmaxpix: 0,1 [pyspeckit.spectrum.interactive]\n",
      "INFO: Renormalizing data by factor 3.187578e-03 to improve fitting procedure [pyspeckit.spectrum.fitters]\n",
      "ERROR: number of parameters must not exceed data\n"
     ]
    },
    {
     "name": "stderr",
     "output_type": "stream",
     "text": [
      "Warning: 'partition' will ignore the 'mask' of the MaskedArray.\n",
      "Warning: 'partition' will ignore the 'mask' of the MaskedArray.\n",
      "Warning: 'partition' will ignore the 'mask' of the MaskedArray.\n"
     ]
    },
    {
     "name": "stdout",
     "output_type": "stream",
     "text": [
      "INFO: Left region selection unchanged.  xminpix, xmaxpix: 0,1 [pyspeckit.spectrum.interactive]\n",
      "INFO: Renormalizing data by factor 2.982731e-03 to improve fitting procedure [pyspeckit.spectrum.fitters]\n",
      "ERROR: number of parameters must not exceed data\n",
      "INFO: Left region selection unchanged.  xminpix, xmaxpix: 0,1 [pyspeckit.spectrum.interactive]\n",
      "INFO: Renormalizing data by factor 2.924654e-03 to improve fitting procedure [pyspeckit.spectrum.fitters]\n",
      "ERROR: number of parameters must not exceed data\n",
      "  Species    ChemicalName            QNs               Freq    log10_Aij   EU_K      TotalIntensity        PeakIntensity              RMS               Velocity     \n",
      "                                                                                         km / s                                                          km / s      \n",
      "----------- -------------- ----------------------- ----------- --------- -------- -------------------- --------------------- --------------------- ------------------\n",
      "    HC3Nv=0 Cyanoacetylene          J=11-10,F=10-9 100.0763824  -4.59063 28.81766    5.186730473267891   0.15043084680734872 0.0005544448225124639 22.734038745012317\n",
      "      H2CCO         Ketene           5(1,5)-4(1,4)    100.0945       0.0      0.0 0.009296033963371891 0.0031875784744289115 0.0005544448225124639 34.937706862919704\n",
      "      NH2CN      Cyanamide       5(1,4)-4(1,3),v=0    100.6295  -4.01377 28.98693 0.008698632203705125  0.002982731439962074 0.0005544448225124639  34.50073546127874\n",
      "      CH2CN    Cyanomethyl 5(2,4)-4(2,3)J=11/2-9/2  100.632957       0.0      0.0 0.008698632203705125  0.002982731439962074 0.0005544448225124639  44.79818958723654\n",
      "CH3OHvt=0-2       Methanol        13(2,11)-12(3,9)   100.63887       0.0      0.0 0.008698632203705125  0.002982731439962074 0.0005544448225124639  62.40975371207941\n",
      "None\n",
      "  Species       Freq         Velocity     \n",
      "                              km / s      \n",
      "----------- ----------- ------------------\n",
      "    HC3Nv=0 100.0763824 22.734038745012317\n",
      "      H2CCO    100.0945 34.937706862919704\n",
      "      NH2CN    100.6295  34.50073546127874\n",
      "      CH2CN  100.632957  44.79818958723654\n",
      "CH3OHvt=0-2   100.63887  62.40975371207941\n",
      "------------------------------------------------\n",
      "---------------- 101_spw27\n",
      "------------------------------------------------\n"
     ]
    },
    {
     "name": "stderr",
     "output_type": "stream",
     "text": [
      "Warning: 'partition' will ignore the 'mask' of the MaskedArray.\n",
      "Warning: 'partition' will ignore the 'mask' of the MaskedArray.\n",
      "WARNING: Frequency 100.05061197575361 GHz had no hits [spectral_ids]\n"
     ]
    },
    {
     "name": "stdout",
     "output_type": "stream",
     "text": [
      "INFO: Left region selection unchanged.  xminpix, xmaxpix: 0,1 [pyspeckit.spectrum.interactive]\n",
      "INFO: Renormalizing data by factor 6.620443e-01 to improve fitting procedure [pyspeckit.spectrum.fitters]\n",
      "ERROR: number of parameters must not exceed data\n",
      "INFO: Left region selection unchanged.  xminpix, xmaxpix: 0,3 [pyspeckit.spectrum.interactive]\n",
      "INFO: Left region selection unchanged.  xminpix, xmaxpix: 0,27 [pyspeckit.spectrum.interactive]\n",
      "INFO: Left region selection unchanged.  xminpix, xmaxpix: 0,2 [pyspeckit.spectrum.interactive]\n",
      "ERROR: number of parameters must not exceed data\n",
      "  Species    ChemicalName            QNs               Freq    log10_Aij   EU_K     TotalIntensity     PeakIntensity           RMS             Velocity    \n",
      "                                                                                        km / s                                                  km / s     \n",
      "----------- -------------- ----------------------- ----------- --------- -------- ------------------ ------------------ ----------------- -----------------\n",
      "    HC3Nv=0 Cyanoacetylene          J=11-10,F=10-9 100.0763824  -4.59063 28.81766   5.80632503100504 0.8159655226399507 0.049974151884719 68.45178357354578\n",
      "      H2CCO         Ketene           5(1,5)-4(1,4)    100.0945       0.0      0.0 220.22878480049184  5.535971583901265 0.049974151884719 73.57321013535328\n",
      "      NH2CN      Cyanamide       5(1,4)-4(1,3),v=0    100.6295  -4.01377 28.98693  3.492737680475082 0.6391821859697199 0.049974151884719 38.86277603609257\n",
      "      CH2CN    Cyanomethyl 5(2,4)-4(2,3)J=11/2-9/2  100.632957       0.0      0.0  3.492737680475082 0.6391821859697199 0.049974151884719 49.16008031477652\n",
      "CH3OHvt=0-2       Methanol        13(2,11)-12(3,9)   100.63887       0.0      0.0  3.492737680475082 0.6391821859697199 0.049974151884719 66.77138815832497\n",
      "None\n",
      "  Species       Freq         Velocity    \n",
      "                              km / s     \n",
      "----------- ----------- -----------------\n",
      "    HC3Nv=0 100.0763824 68.45178357354578\n",
      "      H2CCO    100.0945 73.57321013535328\n",
      "      NH2CN    100.6295 38.86277603609257\n",
      "      CH2CN  100.632957 49.16008031477652\n",
      "CH3OHvt=0-2   100.63887 66.77138815832497\n"
     ]
    },
    {
     "name": "stderr",
     "output_type": "stream",
     "text": [
      "Warning: 'partition' will ignore the 'mask' of the MaskedArray.\n"
     ]
    },
    {
     "name": "stdout",
     "output_type": "stream",
     "text": [
      "INFO: Left region selection unchanged.  xminpix, xmaxpix: 0,22 [pyspeckit.spectrum.interactive]\n",
      "INFO: Left region selection unchanged.  xminpix, xmaxpix: 0,2 [pyspeckit.spectrum.interactive]\n",
      "ERROR: number of parameters must not exceed data\n",
      "Species  ChemicalName       QNs           Freq    log10_Aij   EU_K      TotalIntensity      PeakIntensity              RMS                Velocity     \n",
      "                                                                            km / s                                                         km / s      \n",
      "------- -------------- -------------- ----------- --------- -------- ------------------- -------------------- ---------------------- ------------------\n",
      "HC3Nv=0 Cyanoacetylene J=11-10,F=10-9 100.0763824  -4.59063 28.81766   5.535666465186488  0.16960520315294034 0.00043541421399300405 22.746345838519776\n",
      "  H2CCO         Ketene  5(1,5)-4(1,4)    100.0945       0.0      0.0 0.01664231028295313 0.003436591565158128 0.00043541421399300405 33.477674909801806\n",
      "None\n",
      "Species     Freq         Velocity     \n",
      "                          km / s      \n",
      "------- ----------- ------------------\n",
      "HC3Nv=0 100.0763824 22.746345838519776\n",
      "  H2CCO    100.0945 33.477674909801806\n",
      "------------------------------------------------\n",
      "---------------- 102_spw23\n",
      "------------------------------------------------\n"
     ]
    },
    {
     "name": "stderr",
     "output_type": "stream",
     "text": [
      "Warning: 'partition' will ignore the 'mask' of the MaskedArray.\n"
     ]
    },
    {
     "name": "stdout",
     "output_type": "stream",
     "text": [
      "INFO: Left region selection unchanged.  xminpix, xmaxpix: 0,5 [pyspeckit.spectrum.interactive]\n"
     ]
    },
    {
     "name": "stderr",
     "output_type": "stream",
     "text": [
      "WARNING: gnorm=0.   wa2=[0. 0. 0.] [pyspeckit.mpfit.mpfit]\n",
      "Warning: 'partition' will ignore the 'mask' of the MaskedArray.\n"
     ]
    },
    {
     "name": "stdout",
     "output_type": "stream",
     "text": [
      "INFO: Left region selection unchanged.  xminpix, xmaxpix: 0,9 [pyspeckit.spectrum.interactive]\n",
      "INFO: Left region selection unchanged.  xminpix, xmaxpix: 0,1 [pyspeckit.spectrum.interactive]\n",
      "INFO: Renormalizing data by factor 7.643568e-01 to improve fitting procedure [pyspeckit.spectrum.fitters]\n",
      "ERROR: number of parameters must not exceed data\n",
      "       Species             ChemicalName          QNs          Freq    log10_Aij   EU_K    TotalIntensity    PeakIntensity            RMS              Velocity     \n",
      "                                                                                              km / s                                                   km / s      \n",
      "---------------------- -------------------- -------------- ---------- --------- ------- ----------------- ------------------ ------------------- ------------------\n",
      "           CH3OHvt=0-2             Methanol 8(-2,7)-8(1,7) 101.469719       0.0     0.0 16.85255933033779 1.5217465070957246 0.06608907382382966 3.7969008660084933\n",
      "                  H2CS     Thioformaldehyde  3(1,3)-2(1,2)  101.47762  -4.90073 22.9297 16.85255933033779 1.5217465070957246 0.06608907382382966 27.138305713160374\n",
      "UnidentifiedTransition         UNIDENTIFIED     U-101499.2   101.4992       0.0     0.0 29.31507022085683  1.314448847842052 0.06608907382382966  70.89919638716076\n",
      "                NH2CHO            Formamide  5(1,5)-4(1,4) 102.064263       0.0     0.0 2.212044014492246 0.7643568299606948 0.06608907382382966  8.441056711110752\n",
      "                H2COH+ Hydroxymethylium ion  4(0,4)-3(1,3) 102.065856       0.0     0.0 2.212044014492246 0.7643568299606948 0.06608907382382966  13.11995676354924\n",
      "None\n",
      "       Species            Freq         Velocity     \n",
      "                                        km / s      \n",
      "---------------------- ---------- ------------------\n",
      "           CH3OHvt=0-2 101.469719 3.7969008660084933\n",
      "                  H2CS  101.47762 27.138305713160374\n",
      "UnidentifiedTransition   101.4992  70.89919638716076\n",
      "                NH2CHO 102.064263  8.441056711110752\n",
      "                H2COH+ 102.065856  13.11995676354924\n"
     ]
    },
    {
     "name": "stderr",
     "output_type": "stream",
     "text": [
      "Warning: 'partition' will ignore the 'mask' of the MaskedArray.\n"
     ]
    },
    {
     "name": "stdout",
     "output_type": "stream",
     "text": [
      "INFO: Left region selection unchanged.  xminpix, xmaxpix: 0,2 [pyspeckit.spectrum.interactive]\n",
      "ERROR: number of parameters must not exceed data\n",
      "INFO: Left region selection unchanged.  xminpix, xmaxpix: 0,17 [pyspeckit.spectrum.interactive]\n",
      "INFO: Left region selection unchanged.  xminpix, xmaxpix: 0,1 [pyspeckit.spectrum.interactive]\n",
      "INFO: Renormalizing data by factor 2.470352e-03 to improve fitting procedure [pyspeckit.spectrum.fitters]\n",
      "ERROR: number of parameters must not exceed data\n",
      "INFO: Left region selection unchanged.  xminpix, xmaxpix: 0,1 [pyspeckit.spectrum.interactive]\n",
      "INFO: Renormalizing data by factor 3.285163e-03 to improve fitting procedure [pyspeckit.spectrum.fitters]\n",
      "ERROR: number of parameters must not exceed data\n",
      "       Species             ChemicalName               QNs              Freq    log10_Aij   EU_K      TotalIntensity        PeakIntensity              RMS                Velocity     \n",
      "                                                                                                         km / s                                                           km / s      \n",
      "---------------------- -------------------- ----------------------- ---------- --------- -------- -------------------- --------------------- ---------------------- ------------------\n",
      "                 NH2CN            Cyanamide       5(1,4)-4(1,3),v=0   100.6295  -4.01377 28.98693 0.016686309346817866  0.002937601955765566 0.00044619157957744986  35.05919826757148\n",
      "                 CH2CN          Cyanomethyl 5(2,4)-4(2,3)J=11/2-9/2 100.632957       0.0      0.0 0.016686309346817866  0.002937601955765566 0.00044619157957744986  45.35663320890053\n",
      "           CH3OHvt=0-2             Methanol        13(2,11)-12(3,9)  100.63887       0.0      0.0 0.016686309346817866  0.002937601955765566 0.00044619157957744986 62.968164522592645\n",
      "                  H2CS     Thioformaldehyde           3(1,3)-2(1,2)  101.47762  -4.90073  22.9297   0.6255397022508907  0.021090968883642293 0.00044619157957744986 21.411905876282567\n",
      "UnidentifiedTransition         UNIDENTIFIED                U-101970     101.97       0.0      0.0  0.00714918463125176 0.0024703523373614446 0.00044619157957744986  1.162864598967263\n",
      "                 H2CCO               Ketene           5(1,4)-4(1,3) 101.981426       0.0      0.0  0.00714918463125176 0.0024703523373614446 0.00044619157957744986  34.75148433661576\n",
      "                NH2CHO            Formamide           5(1,5)-4(1,4) 102.064263       0.0      0.0 0.009507242546602903  0.003285163282004988 0.00044619157957744986 34.253689681089476\n",
      "                H2COH+ Hydroxymethylium ion           4(0,4)-3(1,3) 102.065856       0.0      0.0 0.009507242546602903  0.003285163282004988 0.00044619157957744986  38.93218686105001\n",
      "None\n",
      "       Species            Freq         Velocity     \n",
      "                                        km / s      \n",
      "---------------------- ---------- ------------------\n",
      "                 NH2CN   100.6295  35.05919826757148\n",
      "                 CH2CN 100.632957  45.35663320890053\n",
      "           CH3OHvt=0-2  100.63887 62.968164522592645\n",
      "                  H2CS  101.47762 21.411905876282567\n",
      "UnidentifiedTransition     101.97  1.162864598967263\n",
      "                 H2CCO 101.981426  34.75148433661576\n",
      "                NH2CHO 102.064263 34.253689681089476\n",
      "                H2COH+ 102.065856  38.93218686105001\n",
      "------------------------------------------------\n",
      "---------------- 102_spw29\n",
      "------------------------------------------------\n"
     ]
    },
    {
     "name": "stderr",
     "output_type": "stream",
     "text": [
      "Warning: 'partition' will ignore the 'mask' of the MaskedArray.\n",
      "Warning: 'partition' will ignore the 'mask' of the MaskedArray.\n",
      "Warning: 'partition' will ignore the 'mask' of the MaskedArray.\n",
      "Warning: 'partition' will ignore the 'mask' of the MaskedArray.\n",
      "Warning: 'partition' will ignore the 'mask' of the MaskedArray.\n",
      "Warning: 'partition' will ignore the 'mask' of the MaskedArray.\n"
     ]
    },
    {
     "name": "stdout",
     "output_type": "stream",
     "text": [
      "INFO: Left region selection unchanged.  xminpix, xmaxpix: 0,1 [pyspeckit.spectrum.interactive]\n",
      "INFO: Renormalizing data by factor 7.172488e-01 to improve fitting procedure [pyspeckit.spectrum.fitters]\n",
      "ERROR: number of parameters must not exceed data\n",
      "INFO: Left region selection unchanged.  xminpix, xmaxpix: 0,1 [pyspeckit.spectrum.interactive]\n",
      "INFO: Renormalizing data by factor 7.625818e-01 to improve fitting procedure [pyspeckit.spectrum.fitters]\n",
      "ERROR: number of parameters must not exceed data\n",
      "INFO: Left region selection unchanged.  xminpix, xmaxpix: 0,1 [pyspeckit.spectrum.interactive]\n",
      "INFO: Renormalizing data by factor 7.461239e-01 to improve fitting procedure [pyspeckit.spectrum.fitters]\n",
      "ERROR: number of parameters must not exceed data\n"
     ]
    },
    {
     "name": "stderr",
     "output_type": "stream",
     "text": [
      "Warning: 'partition' will ignore the 'mask' of the MaskedArray.\n"
     ]
    },
    {
     "name": "stdout",
     "output_type": "stream",
     "text": [
      "INFO: Left region selection unchanged.  xminpix, xmaxpix: 0,1 [pyspeckit.spectrum.interactive]\n",
      "INFO: Renormalizing data by factor 7.635596e-01 to improve fitting procedure [pyspeckit.spectrum.fitters]\n",
      "ERROR: number of parameters must not exceed data\n",
      "INFO: Left region selection unchanged.  xminpix, xmaxpix: 0,3 [pyspeckit.spectrum.interactive]\n",
      "INFO: Left region selection unchanged.  xminpix, xmaxpix: 0,2 [pyspeckit.spectrum.interactive]\n",
      "ERROR: number of parameters must not exceed data\n",
      "INFO: Left region selection unchanged.  xminpix, xmaxpix: 0,4 [pyspeckit.spectrum.interactive]\n",
      "INFO: Left region selection unchanged.  xminpix, xmaxpix: 0,5 [pyspeckit.spectrum.interactive]\n",
      "       Species             ChemicalName            QNs           Freq    log10_Aij   EU_K     TotalIntensity     PeakIntensity           RMS              Velocity     \n",
      "                                                                                                  km / s                                                   km / s      \n",
      "---------------------- -------------------- ----------------- ---------- --------- -------- ------------------ ------------------ ------------------ ------------------\n",
      "                NH2CHO            Formamide     5(1,5)-4(1,4) 102.064263       0.0      0.0  2.048372074238136 0.7172487896440639 0.0622657796378457  37.98969872314281\n",
      "                H2COH+ Hydroxymethylium ion     4(0,4)-3(1,3) 102.065856       0.0      0.0  2.048372074238136 0.7172487896440639 0.0622657796378457  42.66813759308041\n",
      "          (CH3)2COvt=1              Acetone   10(*,10)-9(*,9) 102.533756       0.0      0.0  2.180629897181503 0.7635595964648274 0.0622657796378457  5.911536000824643\n",
      "             CH3CCHv=0     Methyl Acetylene         6(2)-5(2) 102.540143       0.0      0.0  2.180629897181503 0.7635595964648274 0.0622657796378457 24.584580686033153\n",
      "           (CH3)2COv=0              Acetone 10(0,10)-9(1,9)EE 102.554696       0.0      0.0  2.180629897181503 0.7635595964648274 0.0622657796378457  67.12307021432562\n",
      "UnidentifiedTransition         UNIDENTIFIED          U-103028    103.028       0.0      0.0 11.672149169144713 1.3316619043911007 0.0622657796378457  1.664595886286146\n",
      "                  H2CS     Thioformaldehyde     3(2,2)-2(2,1)  103.03999  -5.08492 62.59197 11.672149169144713 1.3316619043911007 0.0622657796378457  36.54902874497051\n",
      "None\n",
      "       Species            Freq         Velocity     \n",
      "                                        km / s      \n",
      "---------------------- ---------- ------------------\n",
      "                NH2CHO 102.064263  37.98969872314281\n",
      "                H2COH+ 102.065856  42.66813759308041\n",
      "          (CH3)2COvt=1 102.533756  5.911536000824643\n",
      "             CH3CCHv=0 102.540143 24.584580686033153\n",
      "           (CH3)2COv=0 102.554696  67.12307021432562\n",
      "UnidentifiedTransition    103.028  1.664595886286146\n",
      "                  H2CS  103.03999  36.54902874497051\n"
     ]
    },
    {
     "name": "stderr",
     "output_type": "stream",
     "text": [
      "Warning: 'partition' will ignore the 'mask' of the MaskedArray.\n"
     ]
    },
    {
     "name": "stdout",
     "output_type": "stream",
     "text": [
      "INFO: Left region selection unchanged.  xminpix, xmaxpix: 0,2 [pyspeckit.spectrum.interactive]\n",
      "ERROR: number of parameters must not exceed data\n",
      "INFO: Left region selection unchanged.  xminpix, xmaxpix: 0,6 [pyspeckit.spectrum.interactive]\n",
      "INFO: Left region selection unchanged.  xminpix, xmaxpix: 0,3 [pyspeckit.spectrum.interactive]\n",
      "INFO: Left region selection unchanged.  xminpix, xmaxpix: 0,1 [pyspeckit.spectrum.interactive]\n",
      "INFO: Renormalizing data by factor 3.274342e-03 to improve fitting procedure [pyspeckit.spectrum.fitters]\n",
      "ERROR: number of parameters must not exceed data\n",
      "INFO: Left region selection unchanged.  xminpix, xmaxpix: 0,15 [pyspeckit.spectrum.interactive]\n"
     ]
    },
    {
     "name": "stderr",
     "output_type": "stream",
     "text": [
      "Warning: 'partition' will ignore the 'mask' of the MaskedArray.\n"
     ]
    },
    {
     "name": "stdout",
     "output_type": "stream",
     "text": [
      "INFO: Left region selection unchanged.  xminpix, xmaxpix: 0,17 [pyspeckit.spectrum.interactive]\n",
      "       Species             ChemicalName            QNs           Freq    log10_Aij   EU_K      TotalIntensity        PeakIntensity              RMS                Velocity     \n",
      "                                                                                                   km / s                                                           km / s      \n",
      "---------------------- -------------------- ----------------- ---------- --------- -------- -------------------- --------------------- ---------------------- ------------------\n",
      "UnidentifiedTransition         UNIDENTIFIED          U-101970     101.97       0.0      0.0 0.017907038531992225  0.003181912574690988 0.00045675858016593307 0.5959065371494254\n",
      "                 H2CCO               Ketene     5(1,4)-4(1,3) 101.981426       0.0      0.0 0.017907038531992225  0.003181912574690988 0.00045675858016593307 34.184589796784906\n",
      "                NH2CHO            Formamide     5(1,5)-4(1,4) 102.064263       0.0      0.0 0.060301423420121555  0.004445021835156102 0.00045675858016593307 35.005829173132895\n",
      "                H2COH+ Hydroxymethylium ion     4(0,4)-3(1,3) 102.065856       0.0      0.0 0.060301423420121555  0.004445021835156102 0.00045675858016593307  39.68431461402359\n",
      "             CH3CCHv=0     Methyl Acetylene         6(3)-5(3) 102.530346       0.0      0.0  0.00935110728276178 0.0032743418369864667 0.00045675858016593307  35.91150181787415\n",
      "          (CH3)2COvt=1              Acetone   10(*,10)-9(*,9) 102.533756       0.0      0.0  0.00935110728276178 0.0032743418369864667 0.00045675858016593307  45.88060724652447\n",
      "           (CH3)2COv=0              Acetone 10(0,10)-9(1,9)EE 102.554696       0.0      0.0  0.39913701906748933  0.018878703242423706 0.00045675858016593307 54.576561007063646\n",
      "                  H2CS     Thioformaldehyde     3(2,2)-2(2,1)  103.03999  -5.08492 62.59197  0.35702554326713287  0.014610173095888433 0.00045675858016593307 27.167565224119773\n",
      "None\n",
      "       Species            Freq         Velocity     \n",
      "                                        km / s      \n",
      "---------------------- ---------- ------------------\n",
      "UnidentifiedTransition     101.97 0.5959065371494254\n",
      "                 H2CCO 101.981426 34.184589796784906\n",
      "                NH2CHO 102.064263 35.005829173132895\n",
      "                H2COH+ 102.065856  39.68431461402359\n",
      "             CH3CCHv=0 102.530346  35.91150181787415\n",
      "          (CH3)2COvt=1 102.533756  45.88060724652447\n",
      "           (CH3)2COv=0 102.554696 54.576561007063646\n",
      "                  H2CS  103.03999 27.167565224119773\n",
      "------------------------------------------------\n",
      "---------------- 102_spw106\n",
      "------------------------------------------------\n"
     ]
    },
    {
     "name": "stderr",
     "output_type": "stream",
     "text": [
      "Warning: 'partition' will ignore the 'mask' of the MaskedArray.\n",
      "Warning: 'partition' will ignore the 'mask' of the MaskedArray.\n"
     ]
    },
    {
     "name": "stdout",
     "output_type": "stream",
     "text": [
      "INFO: Left region selection unchanged.  xminpix, xmaxpix: 0,2 [pyspeckit.spectrum.interactive]\n",
      "ERROR: number of parameters must not exceed data\n",
      "INFO: Left region selection unchanged.  xminpix, xmaxpix: 0,1 [pyspeckit.spectrum.interactive]\n",
      "INFO: Renormalizing data by factor 6.294069e-01 to improve fitting procedure [pyspeckit.spectrum.fitters]\n",
      "ERROR: number of parameters must not exceed data\n",
      "INFO: Left region selection unchanged.  xminpix, xmaxpix: 0,4 [pyspeckit.spectrum.interactive]\n",
      "INFO: Left region selection unchanged.  xminpix, xmaxpix: 0,5 [pyspeckit.spectrum.interactive]\n",
      "INFO: Left region selection unchanged.  xminpix, xmaxpix: 0,1 [pyspeckit.spectrum.interactive]\n",
      "INFO: Renormalizing data by factor 5.719297e-01 to improve fitting procedure [pyspeckit.spectrum.fitters]\n",
      "ERROR: number of parameters must not exceed data\n"
     ]
    },
    {
     "name": "stderr",
     "output_type": "stream",
     "text": [
      "Warning: 'partition' will ignore the 'mask' of the MaskedArray.\n",
      "Warning: 'partition' will ignore the 'mask' of the MaskedArray.\n"
     ]
    },
    {
     "name": "stdout",
     "output_type": "stream",
     "text": [
      "INFO: Left region selection unchanged.  xminpix, xmaxpix: 0,1 [pyspeckit.spectrum.interactive]\n",
      "INFO: Renormalizing data by factor 6.014436e-01 to improve fitting procedure [pyspeckit.spectrum.fitters]\n",
      "ERROR: number of parameters must not exceed data\n",
      "INFO: Left region selection unchanged.  xminpix, xmaxpix: 0,6 [pyspeckit.spectrum.interactive]\n"
     ]
    },
    {
     "name": "stderr",
     "output_type": "stream",
     "text": [
      "Warning: 'partition' will ignore the 'mask' of the MaskedArray.\n",
      "Warning: 'partition' will ignore the 'mask' of the MaskedArray.\n"
     ]
    },
    {
     "name": "stdout",
     "output_type": "stream",
     "text": [
      "INFO: Left region selection unchanged.  xminpix, xmaxpix: 0,1 [pyspeckit.spectrum.interactive]\n",
      "INFO: Renormalizing data by factor 5.919706e-01 to improve fitting procedure [pyspeckit.spectrum.fitters]\n",
      "ERROR: number of parameters must not exceed data\n",
      "INFO: Left region selection unchanged.  xminpix, xmaxpix: 0,7 [pyspeckit.spectrum.interactive]\n",
      "INFO: Left region selection unchanged.  xminpix, xmaxpix: 0,1 [pyspeckit.spectrum.interactive]\n",
      "INFO: Renormalizing data by factor 5.936523e-01 to improve fitting procedure [pyspeckit.spectrum.fitters]\n",
      "ERROR: number of parameters must not exceed data\n",
      "INFO: Left region selection unchanged.  xminpix, xmaxpix: 0,6 [pyspeckit.spectrum.interactive]\n",
      "INFO: Left region selection unchanged.  xminpix, xmaxpix: 0,10 [pyspeckit.spectrum.interactive]\n",
      "INFO: Left region selection unchanged.  xminpix, xmaxpix: 0,1 [pyspeckit.spectrum.interactive]\n",
      "INFO: Renormalizing data by factor 6.423655e-01 to improve fitting procedure [pyspeckit.spectrum.fitters]\n",
      "ERROR: number of parameters must not exceed data\n"
     ]
    },
    {
     "name": "stderr",
     "output_type": "stream",
     "text": [
      "Warning: 'partition' will ignore the 'mask' of the MaskedArray.\n",
      "Warning: 'partition' will ignore the 'mask' of the MaskedArray.\n"
     ]
    },
    {
     "name": "stdout",
     "output_type": "stream",
     "text": [
      "INFO: Left region selection unchanged.  xminpix, xmaxpix: 0,1 [pyspeckit.spectrum.interactive]\n",
      "INFO: Renormalizing data by factor 6.034869e-01 to improve fitting procedure [pyspeckit.spectrum.fitters]\n",
      "ERROR: number of parameters must not exceed data\n",
      "       Species             ChemicalName                   QNs                  Freq    log10_Aij   EU_K     TotalIntensity     PeakIntensity            RMS              Velocity     \n",
      "                                                                                                                km / s                                                    km / s      \n",
      "---------------------- -------------------- ------------------------------- ---------- --------- -------- ------------------ ------------------ ------------------- ------------------\n",
      "UnidentifiedTransition         UNIDENTIFIED                        U-101970     101.97       0.0      0.0 3.7011813872204424 0.6888071439138074 0.03746907693086674  6.353837248078117\n",
      "                 H2CCO               Ketene                   5(1,4)-4(1,3) 101.981426       0.0      0.0 3.7011813872204424 0.6888071439138074 0.03746907693086674 39.941875389098534\n",
      "                NH2CHO            Formamide                   5(1,5)-4(1,4) 102.064263       0.0      0.0   7.83970465029127 0.8115234485591761 0.03746907693086674  41.30709811034067\n",
      "                H2COH+ Hydroxymethylium ion                   4(0,4)-3(1,3) 102.065856       0.0      0.0   7.83970465029127 0.8115234485591761 0.03746907693086674  45.98548520373486\n",
      "             CH3CCHv=0     Methyl Acetylene                       6(3)-5(3) 102.530346       0.0      0.0 1.6333571468898083  0.571929735859233 0.03746907693086674  38.78494093412597\n",
      "          (CH3)2COvt=1              Acetone                 10(*,10)-9(*,9) 102.533756       0.0      0.0 1.6333571468898083  0.571929735859233 0.03746907693086674  48.75395079983419\n",
      "           (CH3)2COv=0              Acetone               10(0,10)-9(1,9)EE 102.554696       0.0      0.0 11.779295243884608 0.7389390626469206 0.03746907693086674  60.63245857086112\n",
      "                  H2CS     Thioformaldehyde                   3(2,2)-2(2,1)  103.03999  -5.08492 62.59197 14.623859271342331 1.0090799264522023 0.03746907693086674  37.10318948215011\n",
      "              l-C3Hv=0        Propynylidyne J=9/2-7/2,&Omega;=3/2,F=5-4,l=f 103.319276  -4.30848 32.92544 1.8345125271946283 0.6423654906746866 0.03746907693086674 24.246060791129842\n",
      "                 l-C5H 2,4-Pentadiynylidyne     J=45/2-43/2,&Omega;=3/2,l=f  103.32992       0.0      0.0 1.8345125271946283 0.6423654906746866 0.03746907693086674  55.12514061506372\n",
      "            CH313CH2CN        Ethyl Cyanide               12(1,12)-11(1,11) 103.419673       0.0      0.0  1.723480255939711 0.6034868794097863 0.03746907693086674  3.900720214290355\n",
      "None\n",
      "       Species            Freq         Velocity     \n",
      "                                        km / s      \n",
      "---------------------- ---------- ------------------\n",
      "UnidentifiedTransition     101.97  6.353837248078117\n",
      "                 H2CCO 101.981426 39.941875389098534\n",
      "                NH2CHO 102.064263  41.30709811034067\n",
      "                H2COH+ 102.065856  45.98548520373486\n",
      "             CH3CCHv=0 102.530346  38.78494093412597\n",
      "          (CH3)2COvt=1 102.533756  48.75395079983419\n",
      "           (CH3)2COv=0 102.554696  60.63245857086112\n",
      "                  H2CS  103.03999  37.10318948215011\n",
      "              l-C3Hv=0 103.319276 24.246060791129842\n",
      "                 l-C5H  103.32992  55.12514061506372\n",
      "            CH313CH2CN 103.419673  3.900720214290355\n"
     ]
    },
    {
     "name": "stderr",
     "output_type": "stream",
     "text": [
      "Warning: 'partition' will ignore the 'mask' of the MaskedArray.\n"
     ]
    },
    {
     "name": "stdout",
     "output_type": "stream",
     "text": [
      "INFO: Left region selection unchanged.  xminpix, xmaxpix: 0,2 [pyspeckit.spectrum.interactive]\n",
      "ERROR: number of parameters must not exceed data\n",
      "INFO: Left region selection unchanged.  xminpix, xmaxpix: 0,10 [pyspeckit.spectrum.interactive]\n",
      "INFO: Left region selection unchanged.  xminpix, xmaxpix: 0,1 [pyspeckit.spectrum.interactive]\n",
      "INFO: Renormalizing data by factor 5.251890e-03 to improve fitting procedure [pyspeckit.spectrum.fitters]\n",
      "ERROR: number of parameters must not exceed data\n",
      "INFO: Left region selection unchanged.  xminpix, xmaxpix: 0,7 [pyspeckit.spectrum.interactive]\n",
      "       Species             ChemicalName            QNs           Freq    log10_Aij   EU_K      TotalIntensity       PeakIntensity              RMS               Velocity     \n",
      "                                                                                                   km / s                                                         km / s      \n",
      "---------------------- -------------------- ----------------- ---------- --------- -------- -------------------- -------------------- --------------------- ------------------\n",
      "                NH2CHO            Formamide     5(1,5)-4(1,4) 102.064263       0.0      0.0 0.021068336884323795 0.003986670625827184 0.0007396372972666139 25.100203056074747\n",
      "                H2COH+ Hydroxymethylium ion     4(0,4)-3(1,3) 102.065856       0.0      0.0 0.021068336884323795 0.003986670625827184 0.0007396372972666139 29.778843099719236\n",
      "             CH3CCHv=0     Methyl Acetylene         6(2)-5(2) 102.540143       0.0      0.0  0.19029785731382048  0.00944968053661077 0.0007396372972666139  12.38174011686368\n",
      "           (CH3)2COv=0              Acetone 10(0,10)-9(1,9)EE 102.554696       0.0      0.0  0.19029785731382048  0.00944968053661077 0.0007396372972666139  54.92196128637523\n",
      "UnidentifiedTransition         UNIDENTIFIED          U-103028    103.028       0.0      0.0 0.014998715310584882 0.005251889522230352 0.0007396372972666139  6.395693974683015\n",
      "                  H2CS     Thioformaldehyde     3(2,2)-2(2,1)  103.03999  -5.08492 62.59197 0.014998715310584882 0.005251889522230352 0.0007396372972666139  41.27957631054532\n",
      "None\n",
      "       Species            Freq         Velocity     \n",
      "                                        km / s      \n",
      "---------------------- ---------- ------------------\n",
      "                NH2CHO 102.064263 25.100203056074747\n",
      "                H2COH+ 102.065856 29.778843099719236\n",
      "             CH3CCHv=0 102.540143  12.38174011686368\n",
      "           (CH3)2COv=0 102.554696  54.92196128637523\n",
      "UnidentifiedTransition    103.028  6.395693974683015\n",
      "                  H2CS  103.03999  41.27957631054532\n",
      "------------------------------------------------\n",
      "---------------- 103_spw31\n",
      "------------------------------------------------\n"
     ]
    },
    {
     "name": "stderr",
     "output_type": "stream",
     "text": [
      "Warning: 'partition' will ignore the 'mask' of the MaskedArray.\n",
      "Warning: 'partition' will ignore the 'mask' of the MaskedArray.\n"
     ]
    },
    {
     "name": "stdout",
     "output_type": "stream",
     "text": [
      "INFO: Left region selection unchanged.  xminpix, xmaxpix: 0,5 [pyspeckit.spectrum.interactive]\n",
      "INFO: Left region selection unchanged.  xminpix, xmaxpix: 0,10 [pyspeckit.spectrum.interactive]\n",
      " Species        ChemicalName           QNs         Freq    log10_Aij  EU_K    TotalIntensity     PeakIntensity            RMS              Velocity     \n",
      "                                                                                  km / s                                                    km / s      \n",
      "--------- ----------------------- ------------- ---------- --------- ------ ------------------ ------------------ ------------------- ------------------\n",
      "     H2CS        Thioformaldehyde 3(1,2)-2(1,1)  104.61704  -4.86098 23.231 15.789301467160419  1.270675408942811 0.06686486966519146 38.445977911212665\n",
      "C6H&#150; 1,3,5-Hexatriynyl anion         38-37 104.634486       0.0    0.0  28.75768276356574 1.5175232346855392 0.06686486966519146 58.988198594326114\n",
      "None\n",
      " Species     Freq         Velocity     \n",
      "                           km / s      \n",
      "--------- ---------- ------------------\n",
      "     H2CS  104.61704 38.445977911212665\n",
      "C6H&#150; 104.634486 58.988198594326114\n"
     ]
    },
    {
     "name": "stderr",
     "output_type": "stream",
     "text": [
      "Warning: 'partition' will ignore the 'mask' of the MaskedArray.\n",
      "Warning: 'partition' will ignore the 'mask' of the MaskedArray.\n"
     ]
    },
    {
     "name": "stdout",
     "output_type": "stream",
     "text": [
      "INFO: Left region selection unchanged.  xminpix, xmaxpix: 0,2 [pyspeckit.spectrum.interactive]\n",
      "ERROR: number of parameters must not exceed data\n",
      "INFO: Left region selection unchanged.  xminpix, xmaxpix: 0,1 [pyspeckit.spectrum.interactive]\n",
      "INFO: Renormalizing data by factor 3.041644e-03 to improve fitting procedure [pyspeckit.spectrum.fitters]\n",
      "ERROR: number of parameters must not exceed data\n"
     ]
    },
    {
     "name": "stderr",
     "output_type": "stream",
     "text": [
      "Warning: 'partition' will ignore the 'mask' of the MaskedArray.\n"
     ]
    },
    {
     "name": "stdout",
     "output_type": "stream",
     "text": [
      "INFO: Left region selection unchanged.  xminpix, xmaxpix: 0,1 [pyspeckit.spectrum.interactive]\n",
      "INFO: Renormalizing data by factor 3.105301e-03 to improve fitting procedure [pyspeckit.spectrum.fitters]\n",
      "ERROR: number of parameters must not exceed data\n",
      "INFO: Left region selection unchanged.  xminpix, xmaxpix: 0,18 [pyspeckit.spectrum.interactive]\n",
      "INFO: Left region selection unchanged.  xminpix, xmaxpix: 0,2 [pyspeckit.spectrum.interactive]\n",
      "ERROR: number of parameters must not exceed data\n",
      "INFO: Left region selection unchanged.  xminpix, xmaxpix: 0,2 [pyspeckit.spectrum.interactive]\n",
      "ERROR: number of parameters must not exceed data\n",
      "       Species           ChemicalName          QNs            Freq    log10_Aij   EU_K      TotalIntensity        PeakIntensity              RMS               Velocity     \n",
      "                                                                                                km / s                                                          km / s      \n",
      "---------------------- ---------------- ----------------- ----------- --------- -------- -------------------- --------------------- --------------------- ------------------\n",
      "                SO2v=0   Sulfur dioxide     3(1,3)-2(0,2)   104.02941       0.0      0.0 0.022931079769730897  0.004092718671258054 0.0004922367330158916  34.68025273378974\n",
      "                 CH3OD         Methanol   4(2,2)-5(1,5)A+   104.47751       0.0      0.0 0.008530506205166577 0.0030416441537530307 0.0004922367330158916  7.677573297726027\n",
      "            t-CH3CH2OH    trans-Ethanol     7(0,7)-6(1,6)  104.487254       0.0      0.0 0.008530506205166577 0.0030416441537530307 0.0004922367330158916  35.63412099757384\n",
      "                  H2CS Thioformaldehyde     3(1,2)-2(1,1)   104.61704  -4.86098   23.231   0.4953663683493904  0.021348367273695424 0.0004922367330158916 27.875007822883777\n",
      "             a-H2CCHOH    Vinyl Alcohol  10(1,9)-10(0,10) 104.7988842  -4.89686 55.58052  0.01765844429062669 0.0035327734674104622 0.0004922367330158916 6.6234015558440085\n",
      "            CH313CH2CN    Ethyl Cyanide 12(0,12)-11(0,11)  104.812917       0.0      0.0  0.01765844429062669 0.0035327734674104622 0.0004922367330158916  46.76000666293848\n",
      "UnidentifiedTransition     UNIDENTIFIED          U-104819     104.819       0.0      0.0  0.01765844429062669 0.0035327734674104622 0.0004922367330158916  64.15526020375283\n",
      "None\n",
      "       Species             Freq         Velocity     \n",
      "                                         km / s      \n",
      "---------------------- ----------- ------------------\n",
      "                SO2v=0   104.02941  34.68025273378974\n",
      "                 CH3OD   104.47751  7.677573297726027\n",
      "            t-CH3CH2OH  104.487254  35.63412099757384\n",
      "                  H2CS   104.61704 27.875007822883777\n",
      "             a-H2CCHOH 104.7988842 6.6234015558440085\n",
      "            CH313CH2CN  104.812917  46.76000666293848\n",
      "UnidentifiedTransition     104.819  64.15526020375283\n",
      "------------------------------------------------\n",
      "---------------- 103_spw108\n",
      "------------------------------------------------\n"
     ]
    },
    {
     "name": "stderr",
     "output_type": "stream",
     "text": [
      "Warning: 'partition' will ignore the 'mask' of the MaskedArray.\n"
     ]
    },
    {
     "name": "stdout",
     "output_type": "stream",
     "text": [
      "INFO: Left region selection unchanged.  xminpix, xmaxpix: 0,2 [pyspeckit.spectrum.interactive]\n",
      "ERROR: number of parameters must not exceed data\n",
      "INFO: Left region selection unchanged.  xminpix, xmaxpix: 0,2 [pyspeckit.spectrum.interactive]\n",
      "ERROR: number of parameters must not exceed data\n",
      "INFO: Left region selection unchanged.  xminpix, xmaxpix: 0,1 [pyspeckit.spectrum.interactive]\n",
      "INFO: Renormalizing data by factor 6.244196e-01 to improve fitting procedure [pyspeckit.spectrum.fitters]\n"
     ]
    },
    {
     "name": "stderr",
     "output_type": "stream",
     "text": [
      "Warning: 'partition' will ignore the 'mask' of the MaskedArray.\n",
      "Warning: 'partition' will ignore the 'mask' of the MaskedArray.\n",
      "Warning: 'partition' will ignore the 'mask' of the MaskedArray.\n"
     ]
    },
    {
     "name": "stdout",
     "output_type": "stream",
     "text": [
      "ERROR: number of parameters must not exceed data\n",
      "INFO: Left region selection unchanged.  xminpix, xmaxpix: 0,1 [pyspeckit.spectrum.interactive]\n",
      "INFO: Renormalizing data by factor 6.391062e-01 to improve fitting procedure [pyspeckit.spectrum.fitters]\n",
      "ERROR: number of parameters must not exceed data\n",
      "INFO: Left region selection unchanged.  xminpix, xmaxpix: 0,1 [pyspeckit.spectrum.interactive]\n",
      "INFO: Renormalizing data by factor 6.376390e-01 to improve fitting procedure [pyspeckit.spectrum.fitters]\n",
      "ERROR: number of parameters must not exceed data\n",
      "INFO: Left region selection unchanged.  xminpix, xmaxpix: 0,2 [pyspeckit.spectrum.interactive]\n",
      "ERROR: number of parameters must not exceed data\n",
      "INFO: Left region selection unchanged.  xminpix, xmaxpix: 0,2 [pyspeckit.spectrum.interactive]\n",
      "ERROR: number of parameters must not exceed data\n",
      "INFO: Left region selection unchanged.  xminpix, xmaxpix: 0,3 [pyspeckit.spectrum.interactive]\n",
      "INFO: Left region selection unchanged.  xminpix, xmaxpix: 0,20 [pyspeckit.spectrum.interactive]\n",
      "INFO: Left region selection unchanged.  xminpix, xmaxpix: 0,3 [pyspeckit.spectrum.interactive]\n",
      "INFO: Left region selection unchanged.  xminpix, xmaxpix: 0,1 [pyspeckit.spectrum.interactive]\n",
      "INFO: Renormalizing data by factor 6.024625e-01 to improve fitting procedure [pyspeckit.spectrum.fitters]\n",
      "ERROR: number of parameters must not exceed data\n",
      "INFO: Left region selection unchanged.  xminpix, xmaxpix: 0,2 [pyspeckit.spectrum.interactive]\n",
      "ERROR: number of parameters must not exceed data\n",
      "INFO: Left region selection unchanged.  xminpix, xmaxpix: 0,1 [pyspeckit.spectrum.interactive]\n",
      "INFO: Renormalizing data by factor 5.808326e-01 to improve fitting procedure [pyspeckit.spectrum.fitters]\n",
      "ERROR: number of parameters must not exceed data\n"
     ]
    },
    {
     "name": "stderr",
     "output_type": "stream",
     "text": [
      "Warning: 'partition' will ignore the 'mask' of the MaskedArray.\n",
      "Warning: 'partition' will ignore the 'mask' of the MaskedArray.\n"
     ]
    },
    {
     "name": "stdout",
     "output_type": "stream",
     "text": [
      "INFO: Left region selection unchanged.  xminpix, xmaxpix: 0,1 [pyspeckit.spectrum.interactive]\n",
      "INFO: Renormalizing data by factor 5.895574e-01 to improve fitting procedure [pyspeckit.spectrum.fitters]\n",
      "ERROR: number of parameters must not exceed data\n",
      "INFO: Left region selection unchanged.  xminpix, xmaxpix: 0,1 [pyspeckit.spectrum.interactive]\n",
      "INFO: Renormalizing data by factor 5.808400e-01 to improve fitting procedure [pyspeckit.spectrum.fitters]\n",
      "ERROR: number of parameters must not exceed data\n",
      "       Species                 ChemicalName                 QNs             Freq    log10_Aij    EU_K     TotalIntensity     PeakIntensity            RMS              Velocity     \n",
      "                                                                                                              km / s                                                    km / s      \n",
      "---------------------- ---------------------------- ------------------- ----------- --------- --------- ------------------ ------------------ ------------------- ------------------\n",
      "                SO2v=0               Sulfur dioxide       3(1,3)-2(0,2)   104.02941       0.0       0.0 3.5808744960305647 0.6520350556149365 0.03762221782172374  37.51686981733623\n",
      "                  CCCS 3-Thioxo-1,2-Propadieylidene               18-17  104.048451       0.0       0.0  3.991858054441332 0.7201995380526507 0.03762221782172374    64.238716695694\n",
      "           CH3CH2CNv=0                Ethyl Cyanide   12(1,12)-11(1,11)  104.051278       0.0       0.0  3.991858054441332 0.7201995380526507 0.03762221782172374  72.38212148801966\n",
      "           CH3OHvt=0-2                     Methanol  13(-3,11)-12(-4,9)  104.060717       0.0       0.0 1.7512268202642827 0.6244196231902146 0.03762221782172374  67.21879630100402\n",
      "            CH2CHCNv=0                Vinyl Cyanide     11(5,*)-10(5,*)  104.408879       0.0       0.0 1.7883014854500026 0.6376390121336051 0.03762221782172374  34.93716418553691\n",
      "                 CH3OD                     Methanol     4(2,2)-5(1,5)A+   104.47751       0.0       0.0 3.6182253489891503 0.6856075556938158 0.03762221782172374 11.904570885723247\n",
      "            t-CH3CH2OH                trans-Ethanol       7(0,7)-6(1,6)  104.487254       0.0       0.0 3.6182253489891503 0.6856075556938158 0.03762221782172374  39.86072439524716\n",
      "                  H2CS             Thioformaldehyde       3(1,2)-2(1,1)   104.61704  -4.86098    23.231 53.968446477271506 1.3666714219245304 0.03762221782172374 16.052828526595945\n",
      "             C6H&#150;      1,3,5-Hexatriynyl anion               38-37  104.634486       0.0       0.0 53.968446477271506 1.3666714219245304 0.03762221782172374  66.03538556442842\n",
      "             a-H2CCHOH                Vinyl Alcohol    10(1,9)-10(0,10) 104.7988842  -4.89686  55.58052 5.7649582308664264 0.7140236426426214 0.03762221782172374  7.040021885978337\n",
      "            CH313CH2CN                Ethyl Cyanide   12(0,12)-11(0,11)  104.812917       0.0       0.0 5.7649582308664264 0.7140236426426214 0.03762221782172374 47.176571214167545\n",
      "UnidentifiedTransition                 UNIDENTIFIED            U-104819     104.819       0.0       0.0 5.7649582308664264 0.7140236426426214 0.03762221782172374   64.5718005803364\n",
      "                CH2DOH                     Methanol       7(1,6)-7(0,7)   105.03699       0.0       0.0 1.6289842215069175 0.5808326494352402 0.03762221782172374  66.14253357002052\n",
      "              30SiSv=0          Silicon monosulfide                 6-5 105.0592033    -4.727  17.64736 1.6534534436336774  0.589557425851035 0.03762221782172374 29.208588466681107\n",
      "              C4Hv7=20       1,3-Butadiynyl radical N=11-10,J=23/2-21/2 105.1741295  -5.30967 407.23618  1.629004820903469 0.5808399943818136 0.03762221782172374 0.5098275763027403\n",
      "None\n",
      "       Species             Freq         Velocity     \n",
      "                                         km / s      \n",
      "---------------------- ----------- ------------------\n",
      "                SO2v=0   104.02941  37.51686981733623\n",
      "                  CCCS  104.048451    64.238716695694\n",
      "           CH3CH2CNv=0  104.051278  72.38212148801966\n",
      "           CH3OHvt=0-2  104.060717  67.21879630100402\n",
      "            CH2CHCNv=0  104.408879  34.93716418553691\n",
      "                 CH3OD   104.47751 11.904570885723247\n",
      "            t-CH3CH2OH  104.487254  39.86072439524716\n",
      "                  H2CS   104.61704 16.052828526595945\n",
      "             C6H&#150;  104.634486  66.03538556442842\n",
      "             a-H2CCHOH 104.7988842  7.040021885978337\n",
      "            CH313CH2CN  104.812917 47.176571214167545\n",
      "UnidentifiedTransition     104.819   64.5718005803364\n",
      "                CH2DOH   105.03699  66.14253357002052\n",
      "              30SiSv=0 105.0592033 29.208588466681107\n",
      "              C4Hv7=20 105.1741295 0.5098275763027403\n"
     ]
    },
    {
     "name": "stderr",
     "output_type": "stream",
     "text": [
      "Warning: 'partition' will ignore the 'mask' of the MaskedArray.\n",
      "Warning: 'partition' will ignore the 'mask' of the MaskedArray.\n",
      "Warning: 'partition' will ignore the 'mask' of the MaskedArray.\n",
      "Warning: 'partition' will ignore the 'mask' of the MaskedArray.\n"
     ]
    },
    {
     "name": "stdout",
     "output_type": "stream",
     "text": [
      "INFO: Left region selection unchanged.  xminpix, xmaxpix: 0,1 [pyspeckit.spectrum.interactive]\n",
      "INFO: Renormalizing data by factor 3.457902e-03 to improve fitting procedure [pyspeckit.spectrum.fitters]\n",
      "ERROR: number of parameters must not exceed data\n",
      "INFO: Left region selection unchanged.  xminpix, xmaxpix: 0,3 [pyspeckit.spectrum.interactive]\n",
      "INFO: Left region selection unchanged.  xminpix, xmaxpix: 0,8 [pyspeckit.spectrum.interactive]\n",
      "INFO: Left region selection unchanged.  xminpix, xmaxpix: 0,1 [pyspeckit.spectrum.interactive]\n",
      "INFO: Renormalizing data by factor 3.841306e-03 to improve fitting procedure [pyspeckit.spectrum.fitters]\n",
      "ERROR: number of parameters must not exceed data\n",
      "       Species               ChemicalName             QNs           Freq    log10_Aij  EU_K     TotalIntensity        PeakIntensity              RMS               Velocity    \n",
      "                                                                                                    km / s                                                          km / s     \n",
      "---------------------- ----------------------- ----------------- ---------- --------- ------ -------------------- --------------------- --------------------- -----------------\n",
      "            t-CH3CH2OH           trans-Ethanol     7(0,7)-6(1,6) 104.487254       0.0    0.0   0.0096979176639872 0.0034579016398131397 0.0007322513078256135   21.650622060347\n",
      "                  H2CS        Thioformaldehyde     3(1,2)-2(1,1)  104.61704  -4.86098 23.231  0.04813330126521044  0.007860423068717298 0.0007322513078256135 43.59583454939853\n",
      "             C6H&#150; 1,3,5-Hexatriynyl anion             38-37 104.634486       0.0    0.0   0.1986411708645378  0.011127813394067437 0.0007322513078256135 63.61559655266721\n",
      "            CH313CH2CN           Ethyl Cyanide 12(0,12)-11(0,11) 104.812917       0.0    0.0 0.010773200326486172 0.0038413057695187657 0.0007322513078256135 37.01037895037288\n",
      "UnidentifiedTransition            UNIDENTIFIED          U-104819    104.819       0.0    0.0 0.010773200326486172 0.0038413057695187657 0.0007322513078256135 54.40619829495731\n",
      "None\n",
      "       Species            Freq         Velocity    \n",
      "                                        km / s     \n",
      "---------------------- ---------- -----------------\n",
      "            t-CH3CH2OH 104.487254   21.650622060347\n",
      "                  H2CS  104.61704 43.59583454939853\n",
      "             C6H&#150; 104.634486 63.61559655266721\n",
      "            CH313CH2CN 104.812917 37.01037895037288\n",
      "UnidentifiedTransition    104.819 54.40619829495731\n",
      "------------------------------------------------\n",
      "---------------- 104_spw25\n",
      "------------------------------------------------\n"
     ]
    },
    {
     "name": "stderr",
     "output_type": "stream",
     "text": [
      "WARNING: gnorm=0.   wa2=[0. 0. 0.] [pyspeckit.mpfit.mpfit]\n",
      "Warning: 'partition' will ignore the 'mask' of the MaskedArray.\n",
      "Warning: 'partition' will ignore the 'mask' of the MaskedArray.\n",
      "Warning: 'partition' will ignore the 'mask' of the MaskedArray.\n"
     ]
    },
    {
     "name": "stdout",
     "output_type": "stream",
     "text": [
      "INFO: Left region selection unchanged.  xminpix, xmaxpix: 0,1 [pyspeckit.spectrum.interactive]\n",
      "INFO: Renormalizing data by factor 7.430628e-01 to improve fitting procedure [pyspeckit.spectrum.fitters]\n",
      "ERROR: number of parameters must not exceed data\n",
      "INFO: Left region selection unchanged.  xminpix, xmaxpix: 0,2 [pyspeckit.spectrum.interactive]\n",
      "ERROR: number of parameters must not exceed data\n",
      "INFO: Left region selection unchanged.  xminpix, xmaxpix: 0,1 [pyspeckit.spectrum.interactive]\n",
      "INFO: Renormalizing data by factor 7.096679e-01 to improve fitting procedure [pyspeckit.spectrum.fitters]\n",
      "ERROR: number of parameters must not exceed data\n"
     ]
    },
    {
     "name": "stderr",
     "output_type": "stream",
     "text": [
      "Warning: 'partition' will ignore the 'mask' of the MaskedArray.\n",
      "Warning: 'partition' will ignore the 'mask' of the MaskedArray.\n"
     ]
    },
    {
     "name": "stdout",
     "output_type": "stream",
     "text": [
      "INFO: Left region selection unchanged.  xminpix, xmaxpix: 0,1 [pyspeckit.spectrum.interactive]\n",
      "INFO: Renormalizing data by factor 9.930420e-01 to improve fitting procedure [pyspeckit.spectrum.fitters]\n",
      "ERROR: number of parameters must not exceed data\n",
      "INFO: Left region selection unchanged.  xminpix, xmaxpix: 0,4 [pyspeckit.spectrum.interactive]\n"
     ]
    },
    {
     "name": "stderr",
     "output_type": "stream",
     "text": [
      "WARNING: Frequency 102.86859569515985 GHz had no hits [spectral_ids]\n",
      "WARNING: gnorm=0.   wa2=[0. 0. 0.] [pyspeckit.mpfit.mpfit]\n",
      "Warning: 'partition' will ignore the 'mask' of the MaskedArray.\n"
     ]
    },
    {
     "name": "stdout",
     "output_type": "stream",
     "text": [
      "INFO: Left region selection unchanged.  xminpix, xmaxpix: 0,5 [pyspeckit.spectrum.interactive]\n",
      "INFO: Left region selection unchanged.  xminpix, xmaxpix: 0,1 [pyspeckit.spectrum.interactive]\n",
      "INFO: Renormalizing data by factor 7.735713e-01 to improve fitting procedure [pyspeckit.spectrum.fitters]\n",
      "ERROR: number of parameters must not exceed data\n",
      "  Species        ChemicalName            QNs           Freq    log10_Aij   EU_K     TotalIntensity     PeakIntensity            RMS              Velocity     \n",
      "                                                                                        km / s                                                    km / s      \n",
      "------------ -------------------- ----------------- ---------- --------- -------- ------------------ ------------------ ------------------- ------------------\n",
      "      NH2CHO            Formamide     5(1,5)-4(1,4) 102.064263       0.0      0.0  2.111795211860012 0.7430628088141612 0.06172003300889575 14.200141858510381\n",
      "      H2COH+ Hydroxymethylium ion     4(0,4)-3(1,3) 102.065856       0.0      0.0  2.111795211860012 0.7430628088141612 0.06172003300889575  18.87895202562385\n",
      "(CH3)2COvt=1              Acetone   10(*,10)-9(*,9) 102.533756       0.0      0.0 2.0168863597247806 0.7096678859291822 0.06172003300889575  5.068428560998692\n",
      "   CH3CCHv=0     Methyl Acetylene         6(2)-5(2) 102.540143       0.0      0.0 2.0168863597247806 0.7096678859291822 0.06172003300889575 23.741525761515458\n",
      " (CH3)2COv=0              Acetone 10(0,10)-9(1,9)EE 102.554696       0.0      0.0 2.0168863597247806 0.7096678859291822 0.06172003300889575  66.28013492331857\n",
      "        H2CS     Thioformaldehyde     3(2,2)-2(2,1)  103.03999  -5.08492 62.59197 12.085994920859402 0.9191278337098534 0.06172003300889575 13.339121086720498\n",
      "None\n",
      "  Species       Freq         Velocity     \n",
      "                              km / s      \n",
      "------------ ---------- ------------------\n",
      "      NH2CHO 102.064263 14.200141858510381\n",
      "      H2COH+ 102.065856  18.87895202562385\n",
      "(CH3)2COvt=1 102.533756  5.068428560998692\n",
      "   CH3CCHv=0 102.540143 23.741525761515458\n",
      " (CH3)2COv=0 102.554696  66.28013492331857\n",
      "        H2CS  103.03999 13.339121086720498\n"
     ]
    },
    {
     "name": "stderr",
     "output_type": "stream",
     "text": [
      "Warning: 'partition' will ignore the 'mask' of the MaskedArray.\n",
      "Warning: 'partition' will ignore the 'mask' of the MaskedArray.\n"
     ]
    },
    {
     "name": "stdout",
     "output_type": "stream",
     "text": [
      "INFO: Left region selection unchanged.  xminpix, xmaxpix: 0,1 [pyspeckit.spectrum.interactive]\n",
      "INFO: Renormalizing data by factor 3.717904e-03 to improve fitting procedure [pyspeckit.spectrum.fitters]\n",
      "ERROR: number of parameters must not exceed data\n",
      "INFO: Left region selection unchanged.  xminpix, xmaxpix: 0,3 [pyspeckit.spectrum.interactive]\n",
      "INFO: Left region selection unchanged.  xminpix, xmaxpix: 0,3 [pyspeckit.spectrum.interactive]\n",
      "INFO: Left region selection unchanged.  xminpix, xmaxpix: 0,1 [pyspeckit.spectrum.interactive]\n",
      "INFO: Renormalizing data by factor 3.015508e-03 to improve fitting procedure [pyspeckit.spectrum.fitters]\n",
      "ERROR: number of parameters must not exceed data\n",
      "INFO: Left region selection unchanged.  xminpix, xmaxpix: 0,1 [pyspeckit.spectrum.interactive]\n",
      "INFO: Renormalizing data by factor 2.710401e-03 to improve fitting procedure [pyspeckit.spectrum.fitters]\n",
      "ERROR: number of parameters must not exceed data\n",
      "INFO: Left region selection unchanged.  xminpix, xmaxpix: 0,17 [pyspeckit.spectrum.interactive]\n"
     ]
    },
    {
     "name": "stderr",
     "output_type": "stream",
     "text": [
      "Warning: 'partition' will ignore the 'mask' of the MaskedArray.\n",
      "Warning: 'partition' will ignore the 'mask' of the MaskedArray.\n"
     ]
    },
    {
     "name": "stdout",
     "output_type": "stream",
     "text": [
      "INFO: Left region selection unchanged.  xminpix, xmaxpix: 0,16 [pyspeckit.spectrum.interactive]\n",
      "       Species             ChemicalName            QNs           Freq    log10_Aij   EU_K      TotalIntensity        PeakIntensity              RMS               Velocity     \n",
      "                                                                                                   km / s                                                          km / s      \n",
      "---------------------- -------------------- ----------------- ---------- --------- -------- -------------------- --------------------- --------------------- ------------------\n",
      "UnidentifiedTransition         UNIDENTIFIED          U-101970     101.97       0.0      0.0 0.010566335616873436 0.0037179036008097312 0.0004544509779575472 1.1858302966765748\n",
      "                 H2CCO               Ketene     5(1,4)-4(1,3) 101.981426       0.0      0.0 0.010566335616873436 0.0037179036008097312 0.0004544509779575472  34.77444746124807\n",
      "                NH2CHO            Formamide     5(1,5)-4(1,4) 102.064263       0.0      0.0  0.03262054021023375  0.004673094565555919 0.0004544509779575472 34.299448467017314\n",
      "                H2COH+ Hydroxymethylium ion     4(0,4)-3(1,3) 102.065856       0.0      0.0  0.03262054021023375  0.004673094565555919 0.0004544509779575472 38.977944932794394\n",
      "             CH3CCHv=0     Methyl Acetylene         6(3)-5(3) 102.530346       0.0      0.0 0.008570115809433045 0.0030155075120238983 0.0004544509779575472 35.068422748359204\n",
      "          (CH3)2COvt=1              Acetone   10(*,10)-9(*,9) 102.533756       0.0      0.0 0.008570115809433045 0.0030155075120238983 0.0004544509779575472 45.037556215576906\n",
      "           (CH3)2COv=0              Acetone 10(0,10)-9(1,9)EE 102.554696       0.0      0.0  0.42359059994247394  0.017005043671705397 0.0004544509779575472  51.62559814430283\n",
      "                  H2CS     Thioformaldehyde     3(2,1)-2(2,0)  103.05181  -5.08476 62.59268  0.32618590824068044  0.013620407280326092 0.0004544509779575472 27.122769492783295\n",
      "None\n",
      "       Species            Freq         Velocity     \n",
      "                                        km / s      \n",
      "---------------------- ---------- ------------------\n",
      "UnidentifiedTransition     101.97 1.1858302966765748\n",
      "                 H2CCO 101.981426  34.77444746124807\n",
      "                NH2CHO 102.064263 34.299448467017314\n",
      "                H2COH+ 102.065856 38.977944932794394\n",
      "             CH3CCHv=0 102.530346 35.068422748359204\n",
      "          (CH3)2COvt=1 102.533756 45.037556215576906\n",
      "           (CH3)2COv=0 102.554696  51.62559814430283\n",
      "                  H2CS  103.05181 27.122769492783295\n",
      "------------------------------------------------\n",
      "---------------- 106_spw29\n",
      "------------------------------------------------\n"
     ]
    },
    {
     "name": "stderr",
     "output_type": "stream",
     "text": [
      "Warning: 'partition' will ignore the 'mask' of the MaskedArray.\n",
      "Warning: 'partition' will ignore the 'mask' of the MaskedArray.\n"
     ]
    },
    {
     "name": "stdout",
     "output_type": "stream",
     "text": [
      "INFO: Left region selection unchanged.  xminpix, xmaxpix: 0,1 [pyspeckit.spectrum.interactive]\n",
      "INFO: Renormalizing data by factor 6.426948e-01 to improve fitting procedure [pyspeckit.spectrum.fitters]\n",
      "ERROR: number of parameters must not exceed data\n",
      "INFO: Left region selection unchanged.  xminpix, xmaxpix: 0,2 [pyspeckit.spectrum.interactive]\n",
      "ERROR: number of parameters must not exceed data\n",
      "INFO: Left region selection unchanged.  xminpix, xmaxpix: 0,2 [pyspeckit.spectrum.interactive]\n",
      "ERROR: number of parameters must not exceed data\n"
     ]
    },
    {
     "name": "stderr",
     "output_type": "stream",
     "text": [
      "Warning: 'partition' will ignore the 'mask' of the MaskedArray.\n"
     ]
    },
    {
     "name": "stdout",
     "output_type": "stream",
     "text": [
      "       Species                ChemicalName             QNs          Freq    log10_Aij   EU_K     TotalIntensity    PeakIntensity            RMS              Velocity     \n",
      "                                                                                                     km / s                                                   km / s      \n",
      "---------------------- ------------------------- --------------- ---------- --------- -------- ----------------- ------------------ ------------------- ------------------\n",
      "UnidentifiedTransition              UNIDENTIFIED        U-105787    105.787       0.0      0.0 1.766520303504426 0.6426947841681596 0.05260588149491862  21.68995615987277\n",
      "                 CH2NH               Methanimine   4(0,4)-3(1,3) 105.794057  -4.90538 30.61831 1.766520303504426 0.6426947841681596 0.05260588149491862  41.68618628915195\n",
      "            H13CCCNv=0            Cyanoacetylene         J=12-11 105.799093       0.0      0.0 1.766520303504426 0.6426947841681596 0.05260588149491862  55.95421868953422\n",
      "                 HOCO+ Protonated Carbon Dioxide   5(0,5)-4(0,4) 106.913524  -4.58732 15.39375 3.859103508690312 0.7551173561956881 0.05260588149491862  38.47177397138067\n",
      "              29SiSv=0       Silicon monosulfide             6-5 106.922945       0.0      0.0 3.859103508690312 0.7551173561956881 0.05260588149491862  64.88315184950015\n",
      "            CH3CH213CN             Ethyl Cyanide 12(4,9)-11(4,8) 107.006772       0.0      0.0 3.823869759532939 0.7157463153093675 0.05260588149491862 20.652889505192878\n",
      "           CH3OHvt=0-2                  Methanol 3(1,3)-4(0,4)++  107.01377       0.0      0.0 3.823869759532939 0.7157463153093675 0.05260588149491862  40.25600312470181\n",
      "            CH313CH2CN             Ethyl Cyanide 12(4,9)-11(4,8) 107.024746       0.0      0.0 3.823869759532939 0.7157463153093675 0.05260588149491862  70.99730634739325\n",
      "None\n",
      "       Species            Freq         Velocity     \n",
      "                                        km / s      \n",
      "---------------------- ---------- ------------------\n",
      "UnidentifiedTransition    105.787  21.68995615987277\n",
      "                 CH2NH 105.794057  41.68618628915195\n",
      "            H13CCCNv=0 105.799093  55.95421868953422\n",
      "                 HOCO+ 106.913524  38.47177397138067\n",
      "              29SiSv=0 106.922945  64.88315184950015\n",
      "            CH3CH213CN 107.006772 20.652889505192878\n",
      "           CH3OHvt=0-2  107.01377  40.25600312470181\n",
      "            CH313CH2CN 107.024746  70.99730634739325\n",
      "INFO: Left region selection unchanged.  xminpix, xmaxpix: 0,2 [pyspeckit.spectrum.interactive]\n",
      "ERROR: number of parameters must not exceed data\n",
      "INFO: Left region selection unchanged.  xminpix, xmaxpix: 0,2 [pyspeckit.spectrum.interactive]\n",
      "ERROR: number of parameters must not exceed data\n",
      "INFO: Left region selection unchanged.  xminpix, xmaxpix: 0,1 [pyspeckit.spectrum.interactive]\n",
      "INFO: Renormalizing data by factor 2.207139e-03 to improve fitting procedure [pyspeckit.spectrum.fitters]\n",
      "ERROR: number of parameters must not exceed data\n",
      "INFO: Left region selection unchanged.  xminpix, xmaxpix: 0,1 [pyspeckit.spectrum.interactive]\n",
      "INFO: Renormalizing data by factor 1.960136e-03 to improve fitting procedure [pyspeckit.spectrum.fitters]\n",
      "ERROR: number of parameters must not exceed data\n"
     ]
    },
    {
     "name": "stderr",
     "output_type": "stream",
     "text": [
      "Warning: 'partition' will ignore the 'mask' of the MaskedArray.\n",
      "Warning: 'partition' will ignore the 'mask' of the MaskedArray.\n"
     ]
    },
    {
     "name": "stdout",
     "output_type": "stream",
     "text": [
      "INFO: Left region selection unchanged.  xminpix, xmaxpix: 0,13 [pyspeckit.spectrum.interactive]\n",
      "INFO: Left region selection unchanged.  xminpix, xmaxpix: 0,1 [pyspeckit.spectrum.interactive]\n",
      "INFO: Renormalizing data by factor 2.175970e-03 to improve fitting procedure [pyspeckit.spectrum.fitters]\n",
      "ERROR: number of parameters must not exceed data\n",
      "INFO: Left region selection unchanged.  xminpix, xmaxpix: 0,8 [pyspeckit.spectrum.interactive]\n",
      "       Species                ChemicalName               QNs             Freq    log10_Aij   EU_K      TotalIntensity        PeakIntensity              RMS               Velocity     \n",
      "                                                                                                           km / s                                                          km / s      \n",
      "---------------------- ------------------------- ------------------- ----------- --------- -------- -------------------- --------------------- --------------------- ------------------\n",
      "UnidentifiedTransition              UNIDENTIFIED            U-105787     105.787       0.0      0.0 0.012698349803560547  0.002524908648103899 0.0003474038963158172 14.772105645854616\n",
      "                 CH2NH               Methanimine       4(0,4)-3(1,3)  105.794057  -4.90538 30.61831 0.012698349803560547  0.002524908648103899 0.0003474038963158172  34.76879723083803\n",
      "            H13CCCNv=0            Cyanoacetylene             J=12-11  105.799093       0.0      0.0 0.012698349803560547  0.002524908648103899 0.0003474038963158172  49.03715889653167\n",
      "                   CCS        Thioxoethenylidene         N=8-7,J=9-8  106.347726  -4.26093 24.99555 0.006066574244865465   0.00220713886911414 0.0003474038963158172 36.051696366147944\n",
      "                NH2CHO                 Formamide 5(2,3)-4(2,2),F=4-4 106.5415619  -5.46396 27.23336 0.005387659862107861 0.0019601364815222985 0.0003474038963158172  34.65119194332323\n",
      "                 HOCO+ Protonated Carbon Dioxide       5(0,5)-4(0,4)  106.913524  -4.58732 15.39375  0.18090025654860015  0.008935575197860849 0.0003474038963158172  31.04912462438758\n",
      "              29SiSv=0       Silicon monosulfide                 6-5  106.922945       0.0      0.0  0.18090025654860015  0.008935575197860849 0.0003474038963158172  57.46115651348194\n",
      "           CH3OHvt=0-2                  Methanol     3(1,3)-4(0,4)++   107.01377       0.0      0.0  0.10445146877663003  0.006944129092207216 0.0003474038963158172   8.26724302920187\n",
      "            CH313CH2CN             Ethyl Cyanide     12(4,9)-11(4,8)  107.024746       0.0      0.0  0.10445146877663003  0.006944129092207216 0.0003474038963158172  39.01182688225153\n",
      "None\n",
      "       Species             Freq         Velocity     \n",
      "                                         km / s      \n",
      "---------------------- ----------- ------------------\n",
      "UnidentifiedTransition     105.787 14.772105645854616\n",
      "                 CH2NH  105.794057  34.76879723083803\n",
      "            H13CCCNv=0  105.799093  49.03715889653167\n",
      "                   CCS  106.347726 36.051696366147944\n",
      "                NH2CHO 106.5415619  34.65119194332323\n",
      "                 HOCO+  106.913524  31.04912462438758\n",
      "              29SiSv=0  106.922945  57.46115651348194\n",
      "           CH3OHvt=0-2   107.01377   8.26724302920187\n",
      "            CH313CH2CN  107.024746  39.01182688225153\n",
      "------------------------------------------------\n",
      "---------------- 107_spw31\n",
      "------------------------------------------------\n"
     ]
    },
    {
     "name": "stderr",
     "output_type": "stream",
     "text": [
      "Warning: 'partition' will ignore the 'mask' of the MaskedArray.\n",
      "Warning: 'partition' will ignore the 'mask' of the MaskedArray.\n"
     ]
    },
    {
     "name": "stdout",
     "output_type": "stream",
     "text": [
      "INFO: Left region selection unchanged.  xminpix, xmaxpix: 0,8 [pyspeckit.spectrum.interactive]\n",
      "INFO: Left region selection unchanged.  xminpix, xmaxpix: 0,1 [pyspeckit.spectrum.interactive]\n",
      "INFO: Renormalizing data by factor 7.090832e-01 to improve fitting procedure [pyspeckit.spectrum.fitters]\n",
      "ERROR: number of parameters must not exceed data\n",
      "INFO: Left region selection unchanged.  xminpix, xmaxpix: 0,1 [pyspeckit.spectrum.interactive]\n",
      "INFO: Renormalizing data by factor 7.220874e-01 to improve fitting procedure [pyspeckit.spectrum.fitters]\n",
      "ERROR: number of parameters must not exceed data\n"
     ]
    },
    {
     "name": "stderr",
     "output_type": "stream",
     "text": [
      "Warning: 'partition' will ignore the 'mask' of the MaskedArray.\n",
      "Warning: 'partition' will ignore the 'mask' of the MaskedArray.\n"
     ]
    },
    {
     "name": "stdout",
     "output_type": "stream",
     "text": [
      "INFO: Left region selection unchanged.  xminpix, xmaxpix: 0,9 [pyspeckit.spectrum.interactive]\n",
      "INFO: Left region selection unchanged.  xminpix, xmaxpix: 0,1 [pyspeckit.spectrum.interactive]\n",
      "INFO: Renormalizing data by factor 7.154538e-01 to improve fitting procedure [pyspeckit.spectrum.fitters]\n",
      "ERROR: number of parameters must not exceed data\n",
      "INFO: Left region selection unchanged.  xminpix, xmaxpix: 0,27 [pyspeckit.spectrum.interactive]\n"
     ]
    },
    {
     "name": "stderr",
     "output_type": "stream",
     "text": [
      "Warning: 'partition' will ignore the 'mask' of the MaskedArray.\n"
     ]
    },
    {
     "name": "stdout",
     "output_type": "stream",
     "text": [
      "       Species          ChemicalName         QNs            Freq    log10_Aij    EU_K     TotalIntensity     PeakIntensity            RMS              Velocity     \n",
      "                                                                                              km / s                                                    km / s      \n",
      "---------------------- -------------- ------------------ ---------- --------- --------- ------------------ ------------------ ------------------- ------------------\n",
      "            CH3OCHOv=0 Methyl Formate 14(3,12)-14(2,13)A 108.883548  -5.86561  67.79617 17.529329682080803 0.9608301115160421 0.05527497792554104 11.853094874486473\n",
      "           CH3OHvt=0-2       Methanol     0(0,0)-1(-1,1) 108.893929       0.0       0.0 17.529329682080803 0.9608301115160421 0.05527497792554104  40.43157016780335\n",
      "UnidentifiedTransition   UNIDENTIFIED           U-108909    108.909       0.0       0.0 1.9152766818777853 0.7090831510588774 0.05527497792554104   67.7086227801085\n",
      "               HC5Nv=0 Cyanobutadiyne            J=41-40 109.160981       0.0       0.0 1.9324841686596892 0.7154537914287866 0.05527497792554104  35.54078820761839\n",
      "           13CH3OHvt=0       Methanol    0(0,0)-1(-1,1)E 109.164048       0.0       0.0 1.9324841686596892 0.7154537914287866 0.05527497792554104  43.96255784632538\n",
      "               HC3Nv=0 Cyanoacetylene            J=12-11 109.173634  -3.99469  34.05715 1.9324841686596892 0.7154537914287866 0.05527497792554104  70.28199938211208\n",
      "              HC3Nv5=1 Cyanoacetylene       J=12-11,l=1e 109.182946  -4.00168 988.26422  204.4144547019208  5.154321935450657 0.05527497792554104  43.01670048919353\n",
      "None\n",
      "       Species            Freq         Velocity     \n",
      "                                        km / s      \n",
      "---------------------- ---------- ------------------\n",
      "            CH3OCHOv=0 108.883548 11.853094874486473\n",
      "           CH3OHvt=0-2 108.893929  40.43157016780335\n",
      "UnidentifiedTransition    108.909   67.7086227801085\n",
      "               HC5Nv=0 109.160981  35.54078820761839\n",
      "           13CH3OHvt=0 109.164048  43.96255784632538\n",
      "               HC3Nv=0 109.173634  70.28199938211208\n",
      "              HC3Nv5=1 109.182946  43.01670048919353\n"
     ]
    },
    {
     "name": "stderr",
     "output_type": "stream",
     "text": [
      "Warning: 'partition' will ignore the 'mask' of the MaskedArray.\n",
      "Warning: 'partition' will ignore the 'mask' of the MaskedArray.\n"
     ]
    },
    {
     "name": "stdout",
     "output_type": "stream",
     "text": [
      "INFO: Left region selection unchanged.  xminpix, xmaxpix: 0,1 [pyspeckit.spectrum.interactive]\n",
      "INFO: Renormalizing data by factor 2.505023e-03 to improve fitting procedure [pyspeckit.spectrum.fitters]\n",
      "ERROR: number of parameters must not exceed data\n",
      "INFO: Left region selection unchanged.  xminpix, xmaxpix: 0,25 [pyspeckit.spectrum.interactive]\n",
      "INFO: Left region selection unchanged.  xminpix, xmaxpix: 0,25 [pyspeckit.spectrum.interactive]\n",
      "INFO: Left region selection unchanged.  xminpix, xmaxpix: 0,5 [pyspeckit.spectrum.interactive]\n",
      "INFO: Left region selection unchanged.  xminpix, xmaxpix: 0,4 [pyspeckit.spectrum.interactive]\n",
      "       Species           ChemicalName              QNs                 Freq    log10_Aij    EU_K      TotalIntensity       PeakIntensity              RMS               Velocity     \n",
      "                                                                                                          km / s                                                         km / s      \n",
      "---------------------- --------------- ---------------------------- ---------- --------- --------- ------------------- --------------------- --------------------- ------------------\n",
      "UnidentifiedTransition    UNIDENTIFIED                     U-108778    108.778       0.0       0.0 0.00676621962809084 0.0025050231019046205 0.0003853179462671573 29.680281969623564\n",
      "                  13CN Cyanide Radical N=1-0,J=3/2-1/2,F1=2-1,F=3-2 108.780201  -4.97885    5.2475 0.00676621962809084 0.0025050231019046205 0.0003853179462671573 35.745520567199065\n",
      "           CH3OHvt=0-2        Methanol               0(0,0)-1(-1,1) 108.893929       0.0       0.0  1.0567324634032662  0.024496108503426678 0.0003853179462671573 21.533614369472435\n",
      "               HC3Nv=0  Cyanoacetylene                      J=12-11 109.173634  -3.99469  34.05715  5.1766738108727886   0.16950112154243877 0.0003853179462671573 24.452554793216795\n",
      "              HC3Nv5=1  Cyanoacetylene                 J=12-11,l=1e 109.182946  -4.00168 988.26422  5.1766738108727886   0.16950112154243877 0.0003853179462671573  50.01918189910227\n",
      "         SO3&Sigma;v=0 Sulfur Monoxide                    2(3)-1(2) 109.252212       0.0       0.0 0.05978906430575005 0.0065127573520065785 0.0003853179462671573  36.45481078981153\n",
      "None\n",
      "       Species            Freq         Velocity     \n",
      "                                        km / s      \n",
      "---------------------- ---------- ------------------\n",
      "UnidentifiedTransition    108.778 29.680281969623564\n",
      "                  13CN 108.780201 35.745520567199065\n",
      "           CH3OHvt=0-2 108.893929 21.533614369472435\n",
      "               HC3Nv=0 109.173634 24.452554793216795\n",
      "              HC3Nv5=1 109.182946  50.01918189910227\n",
      "         SO3&Sigma;v=0 109.252212  36.45481078981153\n",
      "------------------------------------------------\n",
      "---------------- 110_spw29\n",
      "------------------------------------------------\n"
     ]
    },
    {
     "name": "stderr",
     "output_type": "stream",
     "text": [
      "Warning: 'partition' will ignore the 'mask' of the MaskedArray.\n",
      "Warning: 'partition' will ignore the 'mask' of the MaskedArray.\n"
     ]
    },
    {
     "name": "stdout",
     "output_type": "stream",
     "text": [
      "INFO: Left region selection unchanged.  xminpix, xmaxpix: 0,1 [pyspeckit.spectrum.interactive]\n",
      "INFO: Renormalizing data by factor 7.869261e-01 to improve fitting procedure [pyspeckit.spectrum.fitters]\n",
      "ERROR: number of parameters must not exceed data\n",
      "INFO: Left region selection unchanged.  xminpix, xmaxpix: 0,4 [pyspeckit.spectrum.interactive]\n",
      "INFO: Left region selection unchanged.  xminpix, xmaxpix: 0,14 [pyspeckit.spectrum.interactive]\n",
      "INFO: Left region selection unchanged.  xminpix, xmaxpix: 0,2 [pyspeckit.spectrum.interactive]\n",
      "ERROR: number of parameters must not exceed data\n",
      "INFO: Left region selection unchanged.  xminpix, xmaxpix: 0,4 [pyspeckit.spectrum.interactive]\n",
      "INFO: Left region selection unchanged.  xminpix, xmaxpix: 0,26 [pyspeckit.spectrum.interactive]\n",
      "INFO: Left region selection unchanged.  xminpix, xmaxpix: 0,2 [pyspeckit.spectrum.interactive]\n",
      "ERROR: number of parameters must not exceed data\n",
      "INFO: Left region selection unchanged.  xminpix, xmaxpix: 0,10 [pyspeckit.spectrum.interactive]\n"
     ]
    },
    {
     "name": "stderr",
     "output_type": "stream",
     "text": [
      "WARNING: Frequency 110.38426769218185 GHz had no hits [spectral_ids]\n"
     ]
    },
    {
     "name": "stdout",
     "output_type": "stream",
     "text": [
      "INFO: Left region selection unchanged.  xminpix, xmaxpix: 0,50 [pyspeckit.spectrum.interactive]\n",
      "INFO: Left region selection unchanged.  xminpix, xmaxpix: 0,6 [pyspeckit.spectrum.interactive]\n",
      "INFO: Left region selection unchanged.  xminpix, xmaxpix: 0,1 [pyspeckit.spectrum.interactive]\n",
      "INFO: Renormalizing data by factor 7.671851e-01 to improve fitting procedure [pyspeckit.spectrum.fitters]\n",
      "ERROR: number of parameters must not exceed data\n",
      "INFO: Left region selection unchanged.  xminpix, xmaxpix: 0,1 [pyspeckit.spectrum.interactive]\n",
      "INFO: Renormalizing data by factor 9.407712e-01 to improve fitting procedure [pyspeckit.spectrum.fitters]\n",
      "ERROR: number of parameters must not exceed data\n",
      "INFO: Left region selection unchanged.  xminpix, xmaxpix: 0,1 [pyspeckit.spectrum.interactive]\n",
      "INFO: Renormalizing data by factor 1.091883e+00 to improve fitting procedure [pyspeckit.spectrum.fitters]\n",
      "ERROR: number of parameters must not exceed data\n",
      "INFO: Left region selection unchanged.  xminpix, xmaxpix: 0,1 [pyspeckit.spectrum.interactive]\n",
      "INFO: Renormalizing data by factor 8.009991e-01 to improve fitting procedure [pyspeckit.spectrum.fitters]\n",
      "ERROR: number of parameters must not exceed data\n"
     ]
    },
    {
     "name": "stderr",
     "output_type": "stream",
     "text": [
      "Warning: 'partition' will ignore the 'mask' of the MaskedArray.\n",
      "Warning: 'partition' will ignore the 'mask' of the MaskedArray.\n",
      "Warning: 'partition' will ignore the 'mask' of the MaskedArray.\n",
      "WARNING: Frequency 110.34904944033846 GHz had no hits [spectral_ids]\n",
      "Warning: 'partition' will ignore the 'mask' of the MaskedArray.\n",
      "WARNING: Frequency 110.35100230727211 GHz had no hits [spectral_ids]\n",
      "WARNING: Frequency 110.36041217718785 GHz had no hits [spectral_ids]\n",
      "WARNING: Frequency 110.36792894828783 GHz had no hits [spectral_ids]\n"
     ]
    },
    {
     "name": "stdout",
     "output_type": "stream",
     "text": [
      "INFO: Left region selection unchanged.  xminpix, xmaxpix: 0,4 [pyspeckit.spectrum.interactive]\n",
      "INFO: Left region selection unchanged.  xminpix, xmaxpix: 0,9 [pyspeckit.spectrum.interactive]\n",
      "INFO: Left region selection unchanged.  xminpix, xmaxpix: 0,10 [pyspeckit.spectrum.interactive]\n",
      "       Species               ChemicalName                  QNs                 Freq    log10_Aij    EU_K     TotalIntensity     PeakIntensity            RMS              Velocity     \n",
      "                                                                                                                 km / s                                                    km / s      \n",
      "---------------------- ----------------------- --------------------------- ----------- --------- --------- ------------------ ------------------ ------------------- ------------------\n",
      "                NH2CHO               Formamide         5(1,4)-4(1,3),F=5-5 109.7532403  -5.45454  18.79172 2.0846589236754673 0.7869260603846234 0.06659929501365135  7.496843202286122\n",
      "                SO2v=0          Sulfur dioxide           17(5,13)-18(4,14) 109.7575851  -5.53684 202.06588 2.0846589236754673 0.7869260603846234 0.06659929501365135  19.36395651428962\n",
      "UnidentifiedTransition            UNIDENTIFIED                  U-109770.5    109.7705       0.0       0.0 2.0846589236754673 0.7869260603846234 0.06659929501365135  54.63335523490885\n",
      "                  HCCN          Cyanomethylene                 N=5-4,J=6-5    109.7719  -4.19006  15.74717 2.0846589236754673 0.7869260603846234 0.06659929501365135  58.45612731504797\n",
      "                  C18O         Carbon Monoxide                         1-0 109.7821734  -7.20302   5.26868 12.718141233811831 1.7159397920514068 0.06659929501365135  68.58189893321182\n",
      "               HNCOv=0          Isocyanic Acid         5(0,5)-4(0,4),F=4-4 109.9048898  -6.54398  15.82391 12.607410494558426 1.5870410197184055 0.06659929501365135  66.43165901129646\n",
      "             C6H&#150; 1,3,5-Hexatriynyl anion                       40-39 110.1407569  -3.31974 108.36475 5.9485755003274035 1.2461106002476268 0.06659929501365135  8.452339659217717\n",
      "         HC3Nv6=1,v7=2          Cyanoacetylene              J=12-11,l=-1e-    110.1488       0.0       0.0 5.9485755003274035 1.2461106002476268 0.06659929501365135 30.342661986152866\n",
      "                  NH2D                 Ammonia     1(1,1)0a-1(0,1)0s,F=2-1 110.1530214  -5.86159   21.2594 5.9485755003274035 1.2461106002476268 0.06659929501365135  41.83046120951248\n",
      "              HNCOv6=1          Isocyanic Acid          5(1,4)-4(1,3),v6=1  110.164245       0.0       0.0 5.9485755003274035 1.2461106002476268 0.06659929501365135  72.36923668282996\n",
      "                 CH3OD                Methanol              1(1,0)-1(0,1)E   110.18886       0.0       0.0 396.93178466796604  6.697872137879932 0.06659929501365135  7.240328109117297\n",
      "               13COv=0         Carbon Monoxide             J=1-0,F=1/2-1/2 110.2013218  -7.19838    5.2888 396.93178466796604  6.697872137879932 0.06659929501365135  41.14067852744287\n",
      "              HC3Nv7=3          Cyanoacetylene                 J=12-11,l=3  110.211713  -4.01448 995.95346 396.93178466796604  6.697872137879932 0.06659929501365135  69.40242860614033\n",
      "                   C6H       1,3,5-Hexatriynyl J=79/2-77/2,&Omega;=1/2,l=f  110.243798  -3.62652 129.26306 2.0323628168038477 0.7671850999394587 0.06659929501365135 58.969054885651154\n",
      "None\n",
      "       Species             Freq         Velocity     \n",
      "                                         km / s      \n",
      "---------------------- ----------- ------------------\n",
      "                NH2CHO 109.7532403  7.496843202286122\n",
      "                SO2v=0 109.7575851  19.36395651428962\n",
      "UnidentifiedTransition    109.7705  54.63335523490885\n",
      "                  HCCN    109.7719  58.45612731504797\n",
      "                  C18O 109.7821734  68.58189893321182\n",
      "               HNCOv=0 109.9048898  66.43165901129646\n",
      "             C6H&#150; 110.1407569  8.452339659217717\n",
      "         HC3Nv6=1,v7=2    110.1488 30.342661986152866\n",
      "                  NH2D 110.1530214  41.83046120951248\n",
      "              HNCOv6=1  110.164245  72.36923668282996\n",
      "                 CH3OD   110.18886  7.240328109117297\n",
      "               13COv=0 110.2013218  41.14067852744287\n",
      "              HC3Nv7=3  110.211713  69.40242860614033\n",
      "                   C6H  110.243798 58.969054885651154\n"
     ]
    },
    {
     "name": "stderr",
     "output_type": "stream",
     "text": [
      "WARNING: Frequency 110.37864380339099 GHz had no hits [spectral_ids]\n",
      "Warning: 'partition' will ignore the 'mask' of the MaskedArray.\n",
      "Warning: 'partition' will ignore the 'mask' of the MaskedArray.\n"
     ]
    },
    {
     "name": "stdout",
     "output_type": "stream",
     "text": [
      "INFO: Left region selection unchanged.  xminpix, xmaxpix: 0,1 [pyspeckit.spectrum.interactive]\n",
      "INFO: Renormalizing data by factor 3.899378e-03 to improve fitting procedure [pyspeckit.spectrum.fitters]\n",
      "ERROR: number of parameters must not exceed data\n",
      "INFO: Left region selection unchanged.  xminpix, xmaxpix: 0,2 [pyspeckit.spectrum.interactive]\n",
      "ERROR: number of parameters must not exceed data\n",
      "INFO: Left region selection unchanged.  xminpix, xmaxpix: 0,6 [pyspeckit.spectrum.interactive]\n",
      "INFO: Left region selection unchanged.  xminpix, xmaxpix: 0,4 [pyspeckit.spectrum.interactive]\n",
      "INFO: Left region selection unchanged.  xminpix, xmaxpix: 0,1 [pyspeckit.spectrum.interactive]\n",
      "INFO: Renormalizing data by factor 3.211609e-03 to improve fitting procedure [pyspeckit.spectrum.fitters]\n",
      "ERROR: number of parameters must not exceed data\n",
      "INFO: Left region selection unchanged.  xminpix, xmaxpix: 0,25 [pyspeckit.spectrum.interactive]\n"
     ]
    },
    {
     "name": "stderr",
     "output_type": "stream",
     "text": [
      "Warning: 'partition' will ignore the 'mask' of the MaskedArray.\n",
      "Warning: 'partition' will ignore the 'mask' of the MaskedArray.\n"
     ]
    },
    {
     "name": "stdout",
     "output_type": "stream",
     "text": [
      "INFO: Left region selection unchanged.  xminpix, xmaxpix: 0,1 [pyspeckit.spectrum.interactive]\n",
      "INFO: Renormalizing data by factor 5.108749e-03 to improve fitting procedure [pyspeckit.spectrum.fitters]\n",
      "ERROR: number of parameters must not exceed data\n",
      "INFO: Left region selection unchanged.  xminpix, xmaxpix: 0,1 [pyspeckit.spectrum.interactive]\n",
      "INFO: Renormalizing data by factor 2.964326e-03 to improve fitting procedure [pyspeckit.spectrum.fitters]\n",
      "ERROR: number of parameters must not exceed data\n",
      "INFO: Left region selection unchanged.  xminpix, xmaxpix: 0,54 [pyspeckit.spectrum.interactive]\n"
     ]
    },
    {
     "name": "stderr",
     "output_type": "stream",
     "text": [
      "Warning: 'partition' will ignore the 'mask' of the MaskedArray.\n"
     ]
    },
    {
     "name": "stdout",
     "output_type": "stream",
     "text": [
      "INFO: Left region selection unchanged.  xminpix, xmaxpix: 0,5 [pyspeckit.spectrum.interactive]\n",
      "INFO: Left region selection unchanged.  xminpix, xmaxpix: 0,2 [pyspeckit.spectrum.interactive]\n",
      "ERROR: number of parameters must not exceed data\n",
      "INFO: Left region selection unchanged.  xminpix, xmaxpix: 0,1 [pyspeckit.spectrum.interactive]\n",
      "INFO: Renormalizing data by factor 3.133791e-03 to improve fitting procedure [pyspeckit.spectrum.fitters]\n",
      "ERROR: number of parameters must not exceed data\n",
      "INFO: Left region selection unchanged.  xminpix, xmaxpix: 0,2 [pyspeckit.spectrum.interactive]\n",
      "ERROR: number of parameters must not exceed data\n"
     ]
    },
    {
     "name": "stderr",
     "output_type": "stream",
     "text": [
      "Warning: 'partition' will ignore the 'mask' of the MaskedArray.\n"
     ]
    },
    {
     "name": "stdout",
     "output_type": "stream",
     "text": [
      "INFO: Left region selection unchanged.  xminpix, xmaxpix: 0,2 [pyspeckit.spectrum.interactive]\n"
     ]
    },
    {
     "name": "stderr",
     "output_type": "stream",
     "text": [
      "WARNING: Frequency 110.35149052400553 GHz had no hits [spectral_ids]\n",
      "WARNING: Frequency 110.36305145198766 GHz had no hits [spectral_ids]\n"
     ]
    },
    {
     "name": "stdout",
     "output_type": "stream",
     "text": [
      "ERROR: number of parameters must not exceed data\n",
      "INFO: Left region selection unchanged.  xminpix, xmaxpix: 0,3 [pyspeckit.spectrum.interactive]\n",
      "INFO: Left region selection unchanged.  xminpix, xmaxpix: 0,19 [pyspeckit.spectrum.interactive]\n"
     ]
    },
    {
     "name": "stderr",
     "output_type": "stream",
     "text": [
      "WARNING: Frequency 110.37014425735126 GHz had no hits [spectral_ids]\n"
     ]
    },
    {
     "name": "stdout",
     "output_type": "stream",
     "text": [
      "       Species               ChemicalName                  QNs                 Freq    log10_Aij    EU_K      TotalIntensity        PeakIntensity              RMS               Velocity     \n",
      "                                                                                                                  km / s                                                          km / s      \n",
      "---------------------- ----------------------- --------------------------- ----------- --------- --------- -------------------- --------------------- --------------------- ------------------\n",
      "                NH2CHO               Formamide         5(1,4)-4(1,3),F=5-5 109.7532403  -5.45454  18.79172   0.0103299066457446 0.0038993778063918017 0.0005065474036371711 34.168255207395156\n",
      "                SO2v=0          Sulfur dioxide           17(5,13)-18(4,14) 109.7575851  -5.53684 202.06588   0.0103299066457446 0.0038993778063918017 0.0005065474036371711  46.03431272037779\n",
      "UnidentifiedTransition            UNIDENTIFIED                  U-109770.5    109.7705       0.0       0.0 0.024236523232025728   0.00482369842741976 0.0005065474036371711   47.9665506495859\n",
      "                  HCCN          Cyanomethylene                 N=5-4,J=6-5    109.7719  -4.19006  15.74717 0.024236523232025728   0.00482369842741976 0.0005065474036371711  51.78940775627934\n",
      "                  C18O         Carbon Monoxide                         1-0 109.7821734  -7.20302   5.26868    0.187675661187982  0.018344318342819278 0.0005065474036371711  35.96449124704354\n",
      "               HNCOv=0          Isocyanic Acid         5(0,5)-4(0,4),F=4-4 109.9048898  -6.54398  15.82391    6.700542228845509    0.2035017281894837 0.0005065474036371711 21.238806651752558\n",
      "             C6H&#150; 1,3,5-Hexatriynyl anion                       40-39 110.1407569  -3.31974 108.36475  0.01353367088515681  0.005108748578123029 0.0005065474036371711  9.781218256632648\n",
      "         HC3Nv6=1,v7=2          Cyanoacetylene              J=12-11,l=-1e-    110.1488       0.0       0.0  0.01353367088515681  0.005108748578123029 0.0005065474036371711  31.67144354843489\n",
      "                  NH2D                 Ammonia     1(1,1)0a-1(0,1)0s,F=2-1 110.1530214  -5.86159   21.2594  0.01353367088515681  0.005108748578123029 0.0005065474036371711   43.1591918488292\n",
      "              HNCOv6=1          Isocyanic Acid          5(1,4)-4(1,3),v6=1  110.164245       0.0       0.0  0.01353367088515681  0.005108748578123029 0.0005065474036371711  73.69783195026443\n",
      "               13COv=0         Carbon Monoxide             J=1-0,F=1/2-1/2 110.2013218  -7.19838    5.2888    12.66168907471328    0.3068054606532408 0.0005065474036371711 28.645534310560308\n",
      "              HC3Nv7=3          Cyanoacetylene                 J=12-11,l=3  110.211713  -4.01448 995.95346    12.66168907471328    0.3068054606532408 0.0005065474036371711   56.9084624813049\n",
      "                   C6H       1,3,5-Hexatriynyl J=79/2-77/2,&Omega;=1/2,l=f  110.243798  -3.62652 129.26306 0.035523074139818055   0.01053151486085084 0.0005065474036371711  65.60723758630026\n",
      "                 CH3OD                Methanol              2(1,1)-2(0,2)E   110.26264       0.0       0.0 0.016974751147494024  0.003223256495344198 0.0005065474036371711  71.69350313802248\n",
      "None\n",
      "       Species             Freq         Velocity     \n",
      "                                         km / s      \n",
      "---------------------- ----------- ------------------\n",
      "                NH2CHO 109.7532403 34.168255207395156\n",
      "                SO2v=0 109.7575851  46.03431272037779\n",
      "UnidentifiedTransition    109.7705   47.9665506495859\n",
      "                  HCCN    109.7719  51.78940775627934\n",
      "                  C18O 109.7821734  35.96449124704354\n",
      "               HNCOv=0 109.9048898 21.238806651752558\n",
      "             C6H&#150; 110.1407569  9.781218256632648\n",
      "         HC3Nv6=1,v7=2    110.1488  31.67144354843489\n",
      "                  NH2D 110.1530214   43.1591918488292\n",
      "              HNCOv6=1  110.164245  73.69783195026443\n",
      "               13COv=0 110.2013218 28.645534310560308\n",
      "              HC3Nv7=3  110.211713   56.9084624813049\n",
      "                   C6H  110.243798  65.60723758630026\n",
      "                 CH3OD   110.26264  71.69350313802248\n",
      "------------------------------------------------\n",
      "---------------- 111_spw31\n",
      "------------------------------------------------\n"
     ]
    },
    {
     "name": "stderr",
     "output_type": "stream",
     "text": [
      "Warning: 'partition' will ignore the 'mask' of the MaskedArray.\n",
      "Warning: 'partition' will ignore the 'mask' of the MaskedArray.\n"
     ]
    },
    {
     "name": "stdout",
     "output_type": "stream",
     "text": [
      "INFO: Left region selection unchanged.  xminpix, xmaxpix: 0,3 [pyspeckit.spectrum.interactive]\n",
      "INFO: Left region selection unchanged.  xminpix, xmaxpix: 0,1 [pyspeckit.spectrum.interactive]\n",
      "INFO: Renormalizing data by factor 8.082893e-01 to improve fitting procedure [pyspeckit.spectrum.fitters]\n",
      "ERROR: number of parameters must not exceed data\n",
      "INFO: Left region selection unchanged.  xminpix, xmaxpix: 0,1 [pyspeckit.spectrum.interactive]\n",
      "INFO: Renormalizing data by factor 8.000710e-01 to improve fitting procedure [pyspeckit.spectrum.fitters]\n",
      "ERROR: number of parameters must not exceed data\n",
      "INFO: Left region selection unchanged.  xminpix, xmaxpix: 0,1 [pyspeckit.spectrum.interactive]\n",
      "INFO: Renormalizing data by factor 7.834726e-01 to improve fitting procedure [pyspeckit.spectrum.fitters]\n",
      "ERROR: number of parameters must not exceed data\n",
      "INFO: Left region selection unchanged.  xminpix, xmaxpix: 0,4 [pyspeckit.spectrum.interactive]\n"
     ]
    },
    {
     "name": "stderr",
     "output_type": "stream",
     "text": [
      "Warning: 'partition' will ignore the 'mask' of the MaskedArray.\n",
      "Warning: 'partition' will ignore the 'mask' of the MaskedArray.\n"
     ]
    },
    {
     "name": "stdout",
     "output_type": "stream",
     "text": [
      "INFO: Left region selection unchanged.  xminpix, xmaxpix: 0,4 [pyspeckit.spectrum.interactive]\n",
      "INFO: Left region selection unchanged.  xminpix, xmaxpix: 0,2 [pyspeckit.spectrum.interactive]\n",
      "ERROR: number of parameters must not exceed data\n",
      "INFO: Left region selection unchanged.  xminpix, xmaxpix: 0,1 [pyspeckit.spectrum.interactive]\n",
      "INFO: Renormalizing data by factor 7.636989e-01 to improve fitting procedure [pyspeckit.spectrum.fitters]\n",
      "ERROR: number of parameters must not exceed data\n"
     ]
    },
    {
     "name": "stderr",
     "output_type": "stream",
     "text": [
      "Warning: 'partition' will ignore the 'mask' of the MaskedArray.\n"
     ]
    },
    {
     "name": "stdout",
     "output_type": "stream",
     "text": [
      "       Species           ChemicalName                  QNs                     Freq    log10_Aij   EU_K    TotalIntensity     PeakIntensity            RMS              Velocity     \n",
      "                                                                                                               km / s                                                    km / s      \n",
      "---------------------- --------------- ----------------------------------- ----------- --------- ------- ------------------ ------------------ ------------------- ------------------\n",
      "                  N34S  Nitric sulfide J=5/2-3/2,&Omega;=1/2,F=3/2-3/2,l=e   113.13613  -5.27579 9.77502  6.413557984749886 0.8954688686367345 0.06457068433568157 21.838252911435482\n",
      "                 CNv=0 Cyanide Radical           N=1-0,J=1/2-1/2,F=1/2-3/2 113.1441573   -4.9776 5.43003  6.413557984749886 0.8954688686367345 0.06457068433568157  43.10624193819649\n",
      "UnidentifiedTransition    UNIDENTIFIED                            U-113159     113.159       0.0     0.0 2.1055254418362397 0.8082893174647482 0.06457068433568157  74.42938029812952\n",
      "                 CH3OD        Methanol                      6(1,5)-6(0,6)E    113.3508       0.0     0.0  9.596000309722642 1.0698586497747185 0.06457068433568157  18.38447753432421\n",
      "None\n",
      "       Species             Freq         Velocity     \n",
      "                                         km / s      \n",
      "---------------------- ----------- ------------------\n",
      "                  N34S   113.13613 21.838252911435482\n",
      "                 CNv=0 113.1441573  43.10624193819649\n",
      "UnidentifiedTransition     113.159  74.42938029812952\n",
      "                 CH3OD    113.3508  18.38447753432421\n"
     ]
    },
    {
     "name": "stderr",
     "output_type": "stream",
     "text": [
      "Warning: 'partition' will ignore the 'mask' of the MaskedArray.\n",
      "WARNING: gnorm=0.   wa2=[0. 0. 0.] [pyspeckit.mpfit.mpfit]\n"
     ]
    },
    {
     "name": "stdout",
     "output_type": "stream",
     "text": [
      "INFO: Left region selection unchanged.  xminpix, xmaxpix: 0,3 [pyspeckit.spectrum.interactive]\n",
      "INFO: Left region selection unchanged.  xminpix, xmaxpix: 0,3 [pyspeckit.spectrum.interactive]\n",
      "INFO: Left region selection unchanged.  xminpix, xmaxpix: 0,3 [pyspeckit.spectrum.interactive]\n",
      "INFO: Left region selection unchanged.  xminpix, xmaxpix: 0,2 [pyspeckit.spectrum.interactive]\n",
      "ERROR: number of parameters must not exceed data\n",
      "INFO: Left region selection unchanged.  xminpix, xmaxpix: 0,1 [pyspeckit.spectrum.interactive]\n",
      "INFO: Renormalizing data by factor 5.208048e-03 to improve fitting procedure [pyspeckit.spectrum.fitters]\n",
      "ERROR: number of parameters must not exceed data\n",
      "INFO: Left region selection unchanged.  xminpix, xmaxpix: 0,4 [pyspeckit.spectrum.interactive]\n"
     ]
    },
    {
     "name": "stderr",
     "output_type": "stream",
     "text": [
      "WARNING: gnorm=0.   wa2=[0. 0. 0.] [pyspeckit.mpfit.mpfit]\n",
      "Warning: 'partition' will ignore the 'mask' of the MaskedArray.\n"
     ]
    },
    {
     "name": "stdout",
     "output_type": "stream",
     "text": [
      "INFO: Left region selection unchanged.  xminpix, xmaxpix: 0,1 [pyspeckit.spectrum.interactive]\n",
      "INFO: Renormalizing data by factor 2.996443e-03 to improve fitting procedure [pyspeckit.spectrum.fitters]\n",
      "ERROR: number of parameters must not exceed data\n",
      "INFO: Left region selection unchanged.  xminpix, xmaxpix: 0,2 [pyspeckit.spectrum.interactive]\n",
      "ERROR: number of parameters must not exceed data\n",
      "       Species           ChemicalName                  QNs                    Freq    log10_Aij   EU_K     TotalIntensity       PeakIntensity              RMS               Velocity     \n",
      "                                                                                                               km / s                                                         km / s      \n",
      "---------------------- --------------- ----------------------------------- ---------- --------- ------- -------------------- -------------------- --------------------- ------------------\n",
      "UnidentifiedTransition    UNIDENTIFIED                            U-112348    112.348       0.0     0.0 0.026306568337632348 0.004536171874131466 0.0005028657904744498  8.104249861322469\n",
      "                30SiC2 Silicon Carbide                       5(0,5)-4(0,4)  112.35548       0.0     0.0 0.026306568337632348 0.004536171874131466 0.0005028657904744498  28.06221689640923\n",
      "                  C17O Carbon Monoxide                     J=1-0,F=3/2-5/2 112.358777  -7.17409 5.39234 0.026306568337632348 0.004536171874131466 0.0005028657904744498 36.858354049966195\n",
      "                 CNv=0 Cyanide Radical           N=1-0,J=1/2-1/2,F=1/2-1/2 113.123337       0.0     0.0  0.04068321121356959 0.006577063944720845 0.0005028657904744498  20.47422809558482\n",
      "                  N34S  Nitric sulfide J=5/2-3/2,&Omega;=1/2,F=3/2-3/2,l=e  113.13613  -5.27579 9.77502  0.04068321121356959 0.006577063944720845 0.0005028657904744498  54.37129518096531\n",
      "None\n",
      "       Species            Freq         Velocity     \n",
      "                                        km / s      \n",
      "---------------------- ---------- ------------------\n",
      "UnidentifiedTransition    112.348  8.104249861322469\n",
      "                30SiC2  112.35548  28.06221689640923\n",
      "                  C17O 112.358777 36.858354049966195\n",
      "                 CNv=0 113.123337  20.47422809558482\n",
      "                  N34S  113.13613  54.37129518096531\n",
      "------------------------------------------------\n",
      "---------------- 112_spw27\n",
      "------------------------------------------------\n"
     ]
    },
    {
     "name": "stderr",
     "output_type": "stream",
     "text": [
      "Warning: 'partition' will ignore the 'mask' of the MaskedArray.\n",
      "Warning: 'partition' will ignore the 'mask' of the MaskedArray.\n"
     ]
    },
    {
     "name": "stdout",
     "output_type": "stream",
     "text": [
      "INFO: Left region selection unchanged.  xminpix, xmaxpix: 0,2 [pyspeckit.spectrum.interactive]\n",
      "ERROR: number of parameters must not exceed data\n",
      "INFO: Left region selection unchanged.  xminpix, xmaxpix: 0,1 [pyspeckit.spectrum.interactive]\n",
      "INFO: Renormalizing data by factor 9.137103e-01 to improve fitting procedure [pyspeckit.spectrum.fitters]\n",
      "ERROR: number of parameters must not exceed data\n",
      "INFO: Left region selection unchanged.  xminpix, xmaxpix: 0,1 [pyspeckit.spectrum.interactive]\n",
      "INFO: Renormalizing data by factor 1.015838e+00 to improve fitting procedure [pyspeckit.spectrum.fitters]\n",
      "ERROR: number of parameters must not exceed data\n"
     ]
    },
    {
     "name": "stderr",
     "output_type": "stream",
     "text": [
      "Warning: 'partition' will ignore the 'mask' of the MaskedArray.\n",
      "Warning: 'partition' will ignore the 'mask' of the MaskedArray.\n"
     ]
    },
    {
     "name": "stdout",
     "output_type": "stream",
     "text": [
      "INFO: Left region selection unchanged.  xminpix, xmaxpix: 0,4 [pyspeckit.spectrum.interactive]\n",
      "INFO: Left region selection unchanged.  xminpix, xmaxpix: 0,1 [pyspeckit.spectrum.interactive]\n",
      "INFO: Renormalizing data by factor 9.152435e-01 to improve fitting procedure [pyspeckit.spectrum.fitters]\n",
      "ERROR: number of parameters must not exceed data\n",
      "INFO: Left region selection unchanged.  xminpix, xmaxpix: 0,4 [pyspeckit.spectrum.interactive]\n",
      "INFO: Left region selection unchanged.  xminpix, xmaxpix: 0,1 [pyspeckit.spectrum.interactive]\n",
      "INFO: Renormalizing data by factor 1.022430e+00 to improve fitting procedure [pyspeckit.spectrum.fitters]\n",
      "ERROR: number of parameters must not exceed data\n"
     ]
    },
    {
     "name": "stderr",
     "output_type": "stream",
     "text": [
      "Warning: 'partition' will ignore the 'mask' of the MaskedArray.\n",
      "WARNING: gnorm=0.   wa2=[0. 0. 0.] [pyspeckit.mpfit.mpfit]\n",
      "Warning: 'partition' will ignore the 'mask' of the MaskedArray.\n"
     ]
    },
    {
     "name": "stdout",
     "output_type": "stream",
     "text": [
      "INFO: Left region selection unchanged.  xminpix, xmaxpix: 0,1 [pyspeckit.spectrum.interactive]\n",
      "INFO: Renormalizing data by factor 9.775581e-01 to improve fitting procedure [pyspeckit.spectrum.fitters]\n",
      "ERROR: number of parameters must not exceed data\n",
      "INFO: Left region selection unchanged.  xminpix, xmaxpix: 0,1 [pyspeckit.spectrum.interactive]\n",
      "INFO: Renormalizing data by factor 9.401250e-01 to improve fitting procedure [pyspeckit.spectrum.fitters]\n",
      "ERROR: number of parameters must not exceed data\n",
      "INFO: Left region selection unchanged.  xminpix, xmaxpix: 0,5 [pyspeckit.spectrum.interactive]\n"
     ]
    },
    {
     "name": "stderr",
     "output_type": "stream",
     "text": [
      "Warning: 'partition' will ignore the 'mask' of the MaskedArray.\n",
      "Warning: 'partition' will ignore the 'mask' of the MaskedArray.\n"
     ]
    },
    {
     "name": "stdout",
     "output_type": "stream",
     "text": [
      "INFO: Left region selection unchanged.  xminpix, xmaxpix: 0,6 [pyspeckit.spectrum.interactive]\n",
      "INFO: Left region selection unchanged.  xminpix, xmaxpix: 0,3 [pyspeckit.spectrum.interactive]\n",
      "INFO: Left region selection unchanged.  xminpix, xmaxpix: 0,2 [pyspeckit.spectrum.interactive]\n",
      "ERROR: number of parameters must not exceed data\n",
      "       Species           ChemicalName                   QNs                     Freq    log10_Aij   EU_K     TotalIntensity     PeakIntensity            RMS              Velocity     \n",
      "                                                                                                                 km / s                                                    km / s      \n",
      "---------------------- ---------------- ----------------------------------- ----------- --------- -------- ------------------ ------------------ ------------------- ------------------\n",
      "                  N34S   Nitric sulfide J=5/2-3/2,&Omega;=1/2,F=3/2-3/2,l=e   113.13613  -5.27579  9.77502  5.391900843395384 1.0952878361507454 0.08546524474309254 22.444124559961836\n",
      "                 CNv=0  Cyanide Radical           N=1-0,J=1/2-1/2,F=1/2-3/2 113.1441573   -4.9776  5.43003  5.391900843395384 1.0952878361507454 0.08546524474309254  43.71207060161782\n",
      "UnidentifiedTransition     UNIDENTIFIED                            U-113159     113.159       0.0      0.0  2.363314456273081 0.9137102861390185 0.08546524474309254   73.9751032865334\n",
      "                 CH3OD         Methanol                      6(1,5)-6(0,6)E    113.3508       0.0      0.0 11.100933384916258 1.3508023049296203 0.08546524474309254  56.58583683810479\n",
      "                  D2CS Thioformaldehyde                       4(0,4)-3(0,3)  113.484714  -4.68185 13.62146 16.422533769804314 1.5408785629393846 0.08546524474309254  38.21504643930942\n",
      "None\n",
      "       Species             Freq         Velocity     \n",
      "                                         km / s      \n",
      "---------------------- ----------- ------------------\n",
      "                  N34S   113.13613 22.444124559961836\n",
      "                 CNv=0 113.1441573  43.71207060161782\n",
      "UnidentifiedTransition     113.159   73.9751032865334\n",
      "                 CH3OD    113.3508  56.58583683810479\n",
      "                  D2CS  113.484714  38.21504643930942\n"
     ]
    },
    {
     "name": "stderr",
     "output_type": "stream",
     "text": [
      "Warning: 'partition' will ignore the 'mask' of the MaskedArray.\n",
      "Warning: 'partition' will ignore the 'mask' of the MaskedArray.\n",
      "WARNING: gnorm=0.   wa2=[0. 0. 0.] [pyspeckit.mpfit.mpfit]\n"
     ]
    },
    {
     "name": "stdout",
     "output_type": "stream",
     "text": [
      "INFO: Left region selection unchanged.  xminpix, xmaxpix: 0,1 [pyspeckit.spectrum.interactive]\n",
      "INFO: Renormalizing data by factor 3.611237e-03 to improve fitting procedure [pyspeckit.spectrum.fitters]\n",
      "ERROR: number of parameters must not exceed data\n",
      "INFO: Left region selection unchanged.  xminpix, xmaxpix: 0,4 [pyspeckit.spectrum.interactive]\n",
      "INFO: Left region selection unchanged.  xminpix, xmaxpix: 0,2 [pyspeckit.spectrum.interactive]\n",
      "ERROR: number of parameters must not exceed data\n",
      "INFO: Left region selection unchanged.  xminpix, xmaxpix: 0,1 [pyspeckit.spectrum.interactive]\n",
      "INFO: Renormalizing data by factor 3.959924e-03 to improve fitting procedure [pyspeckit.spectrum.fitters]\n",
      "ERROR: number of parameters must not exceed data\n",
      "INFO: Left region selection unchanged.  xminpix, xmaxpix: 0,3 [pyspeckit.spectrum.interactive]\n"
     ]
    },
    {
     "name": "stderr",
     "output_type": "stream",
     "text": [
      "Warning: 'partition' will ignore the 'mask' of the MaskedArray.\n",
      "WARNING: gnorm=0.   wa2=[0. 0. 0.] [pyspeckit.mpfit.mpfit]\n",
      "Warning: 'partition' will ignore the 'mask' of the MaskedArray.\n",
      "WARNING: Frequency 113.4518360190203 GHz had no hits [spectral_ids]\n"
     ]
    },
    {
     "name": "stdout",
     "output_type": "stream",
     "text": [
      "INFO: Left region selection unchanged.  xminpix, xmaxpix: 0,1 [pyspeckit.spectrum.interactive]\n",
      "INFO: Renormalizing data by factor 4.565302e-03 to improve fitting procedure [pyspeckit.spectrum.fitters]\n",
      "ERROR: number of parameters must not exceed data\n",
      "INFO: Left region selection unchanged.  xminpix, xmaxpix: 0,2 [pyspeckit.spectrum.interactive]\n",
      "ERROR: number of parameters must not exceed data\n",
      "INFO: Left region selection unchanged.  xminpix, xmaxpix: 0,5 [pyspeckit.spectrum.interactive]\n",
      "INFO: Left region selection unchanged.  xminpix, xmaxpix: 0,5 [pyspeckit.spectrum.interactive]\n",
      "INFO: Left region selection unchanged.  xminpix, xmaxpix: 0,4 [pyspeckit.spectrum.interactive]\n",
      "INFO: Left region selection unchanged.  xminpix, xmaxpix: 0,1 [pyspeckit.spectrum.interactive]\n",
      "INFO: Renormalizing data by factor 6.442509e-03 to improve fitting procedure [pyspeckit.spectrum.fitters]\n",
      "ERROR: number of parameters must not exceed data\n"
     ]
    },
    {
     "name": "stderr",
     "output_type": "stream",
     "text": [
      "Warning: 'partition' will ignore the 'mask' of the MaskedArray.\n",
      "Warning: 'partition' will ignore the 'mask' of the MaskedArray.\n",
      "Warning: 'partition' will ignore the 'mask' of the MaskedArray.\n"
     ]
    },
    {
     "name": "stdout",
     "output_type": "stream",
     "text": [
      "INFO: Left region selection unchanged.  xminpix, xmaxpix: 0,1 [pyspeckit.spectrum.interactive]\n",
      "INFO: Renormalizing data by factor 4.126357e-03 to improve fitting procedure [pyspeckit.spectrum.fitters]\n",
      "ERROR: number of parameters must not exceed data\n",
      "INFO: Left region selection unchanged.  xminpix, xmaxpix: 0,1 [pyspeckit.spectrum.interactive]\n",
      "INFO: Renormalizing data by factor 3.972913e-03 to improve fitting procedure [pyspeckit.spectrum.fitters]\n",
      "ERROR: number of parameters must not exceed data\n",
      "       Species           ChemicalName                   QNs                    Freq    log10_Aij   EU_K      TotalIntensity        PeakIntensity              RMS               Velocity     \n",
      "                                                                                                                 km / s                                                          km / s      \n",
      "---------------------- ---------------- ----------------------------------- ---------- --------- -------- -------------------- --------------------- --------------------- ------------------\n",
      "                30SiC2  Silicon Carbide                       5(0,5)-4(0,4)  112.35548       0.0      0.0   0.0093404743807075 0.0036112365396051473 0.0006932408609185577   6.99136327849045\n",
      "                  C17O  Carbon Monoxide                     J=1-0,F=3/2-5/2 112.358777  -7.17409  5.39234   0.0093404743807075 0.0036112365396051473 0.0006932408609185577  15.78811872468315\n",
      "           (CH3)2COv=0          Acetone                 11(0,11)-10(1,10)EE 112.373548       0.0      0.0   0.0093404743807075 0.0036112365396051473 0.0006932408609185577  55.19242044536164\n",
      "                 CNv=0  Cyanide Radical           N=1-0,J=1/2-1/2,F=1/2-1/2 113.123337       0.0      0.0 0.062147333118797284  0.007907963308165731 0.0006932408609185577 33.105856877969615\n",
      "                  N34S   Nitric sulfide J=5/2-3/2,&Omega;=1/2,F=3/2-3/2,l=e  113.13613  -5.27579  9.77502 0.062147333118797284  0.007907963308165731 0.0006932408609185577  67.00149562717657\n",
      "UnidentifiedTransition     UNIDENTIFIED                            U-113159    113.159       0.0      0.0 0.021269159503745638  0.004627882831599996 0.0006932408609185577 62.334193769120475\n",
      "                  D2CS Thioformaldehyde                       4(0,4)-3(0,3) 113.484714  -4.68185 13.62146   0.0749928848762053 0.0072314454285305665 0.0006932408609185577  69.07011078758099\n",
      "None\n",
      "       Species            Freq         Velocity     \n",
      "                                        km / s      \n",
      "---------------------- ---------- ------------------\n",
      "                30SiC2  112.35548   6.99136327849045\n",
      "                  C17O 112.358777  15.78811872468315\n",
      "           (CH3)2COv=0 112.373548  55.19242044536164\n",
      "                 CNv=0 113.123337 33.105856877969615\n",
      "                  N34S  113.13613  67.00149562717657\n",
      "UnidentifiedTransition    113.159 62.334193769120475\n",
      "                  D2CS 113.484714  69.07011078758099\n",
      "------------------------------------------------\n",
      "---------------- 114_spw29\n",
      "------------------------------------------------\n"
     ]
    },
    {
     "name": "stderr",
     "output_type": "stream",
     "text": [
      "Warning: 'partition' will ignore the 'mask' of the MaskedArray.\n"
     ]
    },
    {
     "name": "stdout",
     "output_type": "stream",
     "text": [
      "INFO: Left region selection unchanged.  xminpix, xmaxpix: 0,14 [pyspeckit.spectrum.interactive]\n"
     ]
    },
    {
     "name": "stderr",
     "output_type": "stream",
     "text": [
      "WARNING: gnorm=0.   wa2=[0. 0. 0.] [pyspeckit.mpfit.mpfit]\n"
     ]
    },
    {
     "name": "stdout",
     "output_type": "stream",
     "text": [
      "INFO: Left region selection unchanged.  xminpix, xmaxpix: 0,58 [pyspeckit.spectrum.interactive]\n",
      "INFO: Left region selection unchanged.  xminpix, xmaxpix: 0,14 [pyspeckit.spectrum.interactive]\n",
      "INFO: Left region selection unchanged.  xminpix, xmaxpix: 0,29 [pyspeckit.spectrum.interactive]\n"
     ]
    },
    {
     "name": "stderr",
     "output_type": "stream",
     "text": [
      "WARNING: gnorm=0.   wa2=[0. 0. 0.] [pyspeckit.mpfit.mpfit]\n",
      "WARNING: Frequency 115.27987150566271 GHz had no hits [spectral_ids]\n",
      "WARNING: Frequency 115.2977715089038 GHz had no hits [spectral_ids]\n"
     ]
    },
    {
     "name": "stdout",
     "output_type": "stream",
     "text": [
      "Species      ChemicalName                  QNs                 Freq    log10_Aij   EU_K    TotalIntensity    PeakIntensity           RMS              Velocity    \n",
      "                                                                                               km / s                                                  km / s     \n",
      "------- ---------------------- --------------------------- ----------- --------- ------- ----------------- ------------------ ------------------ -----------------\n",
      "C4Hv7=1 1,3-Butadiynyl radical J=25/2-23/2,&Omega;=3/2,l=f    115.2168       0.0     0.0 93.33491005745157 4.1469239668436355 0.1156491508897788 36.65638300160804\n",
      "  COv=0        Carbon Monoxide                         1-0 115.2712018  -7.14246 5.53211 1858.208677672857 25.880159753414485 0.1156491508897788 59.02759463976941\n",
      "None\n",
      "Species     Freq         Velocity    \n",
      "                          km / s     \n",
      "------- ----------- -----------------\n",
      "C4Hv7=1    115.2168 36.65638300160804\n",
      "  COv=0 115.2712018 59.02759463976941\n"
     ]
    },
    {
     "name": "stderr",
     "output_type": "stream",
     "text": [
      "Warning: 'partition' will ignore the 'mask' of the MaskedArray.\n"
     ]
    },
    {
     "name": "stdout",
     "output_type": "stream",
     "text": [
      "INFO: Left region selection unchanged.  xminpix, xmaxpix: 0,1 [pyspeckit.spectrum.interactive]\n",
      "INFO: Renormalizing data by factor 5.590873e-03 to improve fitting procedure [pyspeckit.spectrum.fitters]\n"
     ]
    },
    {
     "name": "stderr",
     "output_type": "stream",
     "text": [
      "Warning: 'partition' will ignore the 'mask' of the MaskedArray.\n"
     ]
    },
    {
     "name": "stdout",
     "output_type": "stream",
     "text": [
      "ERROR: number of parameters must not exceed data\n",
      "INFO: Left region selection unchanged.  xminpix, xmaxpix: 0,1 [pyspeckit.spectrum.interactive]\n",
      "INFO: Renormalizing data by factor 2.290574e-02 to improve fitting procedure [pyspeckit.spectrum.fitters]\n",
      "ERROR: number of parameters must not exceed data\n"
     ]
    },
    {
     "name": "stderr",
     "output_type": "stream",
     "text": [
      "WARNING: Frequency 115.14071198247527 GHz had no hits [spectral_ids]\n",
      "Warning: 'partition' will ignore the 'mask' of the MaskedArray.\n",
      "Warning: 'partition' will ignore the 'mask' of the MaskedArray.\n"
     ]
    },
    {
     "name": "stdout",
     "output_type": "stream",
     "text": [
      "INFO: Left region selection unchanged.  xminpix, xmaxpix: 0,1 [pyspeckit.spectrum.interactive]\n",
      "INFO: Renormalizing data by factor 5.175336e-03 to improve fitting procedure [pyspeckit.spectrum.fitters]\n",
      "ERROR: number of parameters must not exceed data\n",
      "INFO: Left region selection unchanged.  xminpix, xmaxpix: 0,2 [pyspeckit.spectrum.interactive]\n",
      "ERROR: number of parameters must not exceed data\n",
      "INFO: Left region selection unchanged.  xminpix, xmaxpix: 0,54 [pyspeckit.spectrum.interactive]\n",
      "INFO: Left region selection unchanged.  xminpix, xmaxpix: 0,1 [pyspeckit.spectrum.interactive]\n",
      "INFO: Renormalizing data by factor 2.552306e-02 to improve fitting procedure [pyspeckit.spectrum.fitters]\n",
      "ERROR: number of parameters must not exceed data\n",
      "INFO: Left region selection unchanged.  xminpix, xmaxpix: 0,5 [pyspeckit.spectrum.interactive]\n",
      "INFO: Left region selection unchanged.  xminpix, xmaxpix: 0,5 [pyspeckit.spectrum.interactive]\n"
     ]
    },
    {
     "name": "stderr",
     "output_type": "stream",
     "text": [
      "Warning: 'partition' will ignore the 'mask' of the MaskedArray.\n",
      "WARNING: Frequency 115.27700041761011 GHz had no hits [spectral_ids]\n",
      "WARNING: Frequency 115.28499626640738 GHz had no hits [spectral_ids]\n",
      "Warning: 'partition' will ignore the 'mask' of the MaskedArray.\n",
      "WARNING: Frequency 115.29108278535647 GHz had no hits [spectral_ids]\n",
      "WARNING: Frequency 115.29683781464104 GHz had no hits [spectral_ids]\n",
      "Warning: 'partition' will ignore the 'mask' of the MaskedArray.\n"
     ]
    },
    {
     "name": "stdout",
     "output_type": "stream",
     "text": [
      "INFO: Left region selection unchanged.  xminpix, xmaxpix: 0,1 [pyspeckit.spectrum.interactive]\n",
      "INFO: Renormalizing data by factor 6.703906e-03 to improve fitting procedure [pyspeckit.spectrum.fitters]\n",
      "ERROR: number of parameters must not exceed data\n",
      "INFO: Left region selection unchanged.  xminpix, xmaxpix: 0,7 [pyspeckit.spectrum.interactive]\n",
      "INFO: Left region selection unchanged.  xminpix, xmaxpix: 0,1 [pyspeckit.spectrum.interactive]\n",
      "INFO: Renormalizing data by factor 1.965079e-02 to improve fitting procedure [pyspeckit.spectrum.fitters]\n",
      "ERROR: number of parameters must not exceed data\n"
     ]
    },
    {
     "name": "stderr",
     "output_type": "stream",
     "text": [
      "WARNING: Frequency 115.30084712320588 GHz had no hits [spectral_ids]\n",
      "WARNING: Frequency 115.30328820766825 GHz had no hits [spectral_ids]\n",
      "WARNING: Frequency 115.30832625548194 GHz had no hits [spectral_ids]\n"
     ]
    },
    {
     "name": "stdout",
     "output_type": "stream",
     "text": [
      "INFO: Left region selection unchanged.  xminpix, xmaxpix: 0,2 [pyspeckit.spectrum.interactive]\n",
      "ERROR: number of parameters must not exceed data\n",
      "INFO: Left region selection unchanged.  xminpix, xmaxpix: 0,6 [pyspeckit.spectrum.interactive]\n",
      "INFO: Left region selection unchanged.  xminpix, xmaxpix: 0,3 [pyspeckit.spectrum.interactive]\n"
     ]
    },
    {
     "name": "stderr",
     "output_type": "stream",
     "text": [
      "WARNING: Frequency 115.31584945500475 GHz had no hits [spectral_ids]\n",
      "Warning: 'partition' will ignore the 'mask' of the MaskedArray.\n",
      "Warning: 'partition' will ignore the 'mask' of the MaskedArray.\n"
     ]
    },
    {
     "name": "stdout",
     "output_type": "stream",
     "text": [
      "INFO: Left region selection unchanged.  xminpix, xmaxpix: 0,1 [pyspeckit.spectrum.interactive]\n",
      "INFO: Renormalizing data by factor 5.089104e-03 to improve fitting procedure [pyspeckit.spectrum.fitters]\n",
      "ERROR: number of parameters must not exceed data\n",
      "INFO: Left region selection unchanged.  xminpix, xmaxpix: 0,1 [pyspeckit.spectrum.interactive]\n",
      "INFO: Renormalizing data by factor 5.466788e-03 to improve fitting procedure [pyspeckit.spectrum.fitters]\n",
      "ERROR: number of parameters must not exceed data\n",
      "Species      ChemicalName                      QNs                     Freq    log10_Aij   EU_K      TotalIntensity       PeakIntensity              RMS               Velocity     \n",
      "                                                                                                         km / s                                                         km / s      \n",
      "------- ---------------------- ----------------------------------- ----------- --------- -------- ------------------- --------------------- --------------------- ------------------\n",
      "C4Hv7=1 1,3-Butadiynyl radical         J=25/2-23/2,&Omega;=3/2,l=f    115.2168       0.0      0.0 0.05830557108993292  0.022905743502907295 0.0009402768173131618  42.99926092278308\n",
      "  COv=0        Carbon Monoxide                                 1-0 115.2712018  -7.14246  5.53211  63.342600719589946     1.258508270530237 0.0009402768173131618 23.557994470141697\n",
      " NS,v=0         Nitric sulfide J=5/2-3/2,&Omega;=1/2,F=7/2-5/2,l=f  115.556253  -4.62831 10.00972 0.01295409140885866 0.0050891036581539265 0.0009402768173131618  24.24299364639569\n",
      "None\n",
      "Species     Freq         Velocity     \n",
      "                          km / s      \n",
      "------- ----------- ------------------\n",
      "C4Hv7=1    115.2168  42.99926092278308\n",
      "  COv=0 115.2712018 23.557994470141697\n",
      " NS,v=0  115.556253  24.24299364639569\n"
     ]
    }
   ],
   "source": [
    "### ACES PREP\n",
    "band_3 = ['87_spw25','87_spw102','89_spw27','89_spw104',\n",
    "          '91_spw25','91_spw102','93_spw27','93_spw104',\n",
    "          '95_spw25','97_spw27','98_spw29','98_spw106',\n",
    "          '99_spw25','99_spw31','99_spw108','101_spw27',\n",
    "          '102_spw23','102_spw29','102_spw106','103_spw31',\n",
    "          '103_spw108','104_spw25','106_spw29','107_spw31',\n",
    "          '110_spw29','111_spw31','112_spw27','114_spw29']\n",
    "all_lines_max = []\n",
    "all_lines_mean = []\n",
    "for freq_spw in band_3:\n",
    "    print('------------------------------------------------')\n",
    "    print('---------------- '+freq_spw)\n",
    "    print('------------------------------------------------')\n",
    "    max_fn = results+'spectra/source_ab_'+freq_spw+'_clean_2sigma_n50000_masked_3sigma_pbmask0p18.max.fits'\n",
    "    mean_fn = results+'spectra/source_ab_'+freq_spw+'_clean_2sigma_n50000_masked_3sigma_pbmask0p18.mean.fits'\n",
    "    max_ids = line_ids(max_fn)\n",
    "    all_lines_max.append(max_ids)\n",
    "    mean_ids = line_ids(mean_fn)\n",
    "    all_lines_mean.append(mean_ids)"
   ]
  },
  {
   "cell_type": "code",
   "execution_count": 3,
   "metadata": {},
   "outputs": [],
   "source": [
    "# Get stats about max spectra\n",
    "all_lines_max_stack = table.vstack(all_lines_max)\n",
    "all_lines_max_stack.sort('Freq')\n",
    "max_spec_freq = all_lines_max_stack['Freq']\n",
    "# Get stats about mean spectra\n",
    "all_lines_mean_stack = table.vstack(all_lines_mean)\n",
    "mean_spec_freq = all_lines_mean_stack['Freq']\n",
    "# Need also number of lines above a threshold density. Maybe use EU_K?"
   ]
  },
  {
   "cell_type": "code",
   "execution_count": 4,
   "metadata": {},
   "outputs": [
    {
     "data": {
      "image/png": "[encoded data removed]",
      "text/plain": [
       "<Figure size 432x288 with 1 Axes>"
      ]
     },
     "metadata": {
      "needs_background": "light"
     },
     "output_type": "display_data"
    },
    {
     "data": {
      "image/png": "[encoded data removed]",
      "text/plain": [
       "<Figure size 432x288 with 1 Axes>"
      ]
     },
     "metadata": {
      "needs_background": "light"
     },
     "output_type": "display_data"
    },
    {
     "data": {
      "image/png": "[encoded data removed]",
      "text/plain": [
       "<Figure size 432x288 with 1 Axes>"
      ]
     },
     "metadata": {
      "needs_background": "light"
     },
     "output_type": "display_data"
    }
   ],
   "source": [
    "### Plots for max spectra\n",
    "## Total number of lines in max spectra\n",
    "bins = np.arange(np.floor(np.min(max_spec_freq)), np.ceil(np.max(max_spec_freq))+1, 1.)\n",
    "counts, bins1 = np.histogram(max_spec_freq, bins=bins)\n",
    "plt.step(bins[:-1], counts, where='post')\n",
    "plt.xlabel(\"Frequency (GHz)\")\n",
    "plt.ylabel(\"Number of lines per 1 GHz bin\")\n",
    "plt.title(\"Total number of lines (max spectra)\")\n",
    "plt.show()\n",
    "\n",
    "## Total intensity of lines in max spectra\n",
    "# Do some quick binning\n",
    "max_spec_tot_int_sums = []\n",
    "for bin_number in np.arange(len(bins)-1):\n",
    "    freq_lo, freq_hi = bins[bin_number], bins[bin_number+1] # Get edges of frequency bin\n",
    "    lines_in_bin = all_lines_max_stack[(all_lines_max_stack['Freq']>=freq_lo) & \n",
    "                                       (all_lines_max_stack['Freq']<=freq_hi)]\n",
    "    max_spec_tot_int_sums.append(np.sum(lines_in_bin['TotalIntensity']))\n",
    "\n",
    "########################\n",
    "# Quickly convert from Jy/beam/bin to K/bin\n",
    "average_beams = []\n",
    "for each 1 GHz bin:\n",
    "    fns = [] # See which spws fall within it, might have to hard-code :(\n",
    "    for fn in fns:\n",
    "        beamsize = Beams.from_fits_bintable(fits.open(fn)[1])\n",
    "        beams.append(beamsize)\n",
    "    average_beamsize = np.mean(beams)\n",
    "    average_beams.append(average_beamsize)\n",
    "factors = jtok_factors(average_beams, sp.xarr.to(u.GHz)) # might need to multiply if it lost its units\n",
    "# might have to make max_spec_tot_int_sums into a spectrum here\n",
    "sp.data = sp.data*factors\n",
    "sp.unit = u.K\n",
    "########################\n",
    "    \n",
    "plt.step(bins[:-1], max_spec_tot_int_sums, where='post')\n",
    "plt.xlabel(\"Frequency (GHz)\")\n",
    "plt.ylabel(\"Total intensity of lines (Jy/beam/bin)\")\n",
    "plt.title(\"Total intensity of lines (max spectra)\")\n",
    "plt.show()\n",
    "\n",
    "## Average peak intensity of lines in max spectra\n",
    "# Do some quick binning\n",
    "max_spec_peak_int_avgs = []\n",
    "for bin_number in np.arange(len(bins)-1):\n",
    "    freq_lo, freq_hi = bins[bin_number], bins[bin_number+1] # Get edges of frequency bin\n",
    "    lines_in_bin = all_lines_max_stack[(all_lines_max_stack['Freq']>=freq_lo) & \n",
    "                                       (all_lines_max_stack['Freq']<=freq_hi)]\n",
    "    if len(lines_in_bin) != 0:\n",
    "        max_spec_peak_int_avgs.append(np.mean(lines_in_bin['PeakIntensity']))\n",
    "    else:\n",
    "        max_spec_peak_int_avgs.append(0.)\n",
    "plt.step(bins[:-1], max_spec_peak_int_avgs, where='post')\n",
    "plt.xlabel(\"Frequency (GHz)\")\n",
    "plt.ylabel(\"Average peak intensity of lines (Jy/beam/bin)\")\n",
    "plt.title(\"Average peak intensity of lines (max spectra)\")\n",
    "plt.show()"
   ]
  },
  {
   "cell_type": "code",
   "execution_count": 5,
   "metadata": {},
   "outputs": [
    {
     "data": {
      "image/png": "[encoded data removed]",
      "text/plain": [
       "<Figure size 432x288 with 1 Axes>"
      ]
     },
     "metadata": {
      "needs_background": "light"
     },
     "output_type": "display_data"
    },
    {
     "data": {
      "image/png": "[encoded data removed]",
      "text/plain": [
       "<Figure size 432x288 with 1 Axes>"
      ]
     },
     "metadata": {
      "needs_background": "light"
     },
     "output_type": "display_data"
    },
    {
     "data": {
      "image/png": "[encoded data removed]",
      "text/plain": [
       "<Figure size 432x288 with 1 Axes>"
      ]
     },
     "metadata": {
      "needs_background": "light"
     },
     "output_type": "display_data"
    }
   ],
   "source": [
    "### Plots for mean spectra\n",
    "# Total number of lines in mean spectra\n",
    "bins = np.arange(np.floor(np.min(mean_spec_freq)), np.ceil(np.max(mean_spec_freq))+1, 1.)\n",
    "counts, bins1 = np.histogram(mean_spec_freq, bins=bins)\n",
    "plt.step(bins[:-1], counts, where='post')\n",
    "plt.xlabel(\"Frequency (GHz)\")\n",
    "plt.ylabel(\"Number of lines per 1 GHz bin\")\n",
    "plt.title(\"Total number of lines (mean spectra)\")\n",
    "plt.show()\n",
    "\n",
    "## Total intensity of lines in mean spectra\n",
    "# Do some quick binning\n",
    "mean_spec_tot_int_sums = []\n",
    "for bin_number in np.arange(len(bins)-1):\n",
    "    freq_lo, freq_hi = bins[bin_number], bins[bin_number+1] # Get edges of frequency bin\n",
    "    lines_in_bin = all_lines_mean_stack[(all_lines_mean_stack['Freq']>=freq_lo) & \n",
    "                                        (all_lines_mean_stack['Freq']<=freq_hi)]\n",
    "    mean_spec_tot_int_sums.append(np.sum(lines_in_bin['TotalIntensity']))\n",
    "plt.step(bins[:-1], mean_spec_tot_int_sums, where='post')\n",
    "plt.xlabel(\"Frequency (GHz)\")\n",
    "plt.ylabel(\"Total intensity of lines (Jy/beam/bin)\")\n",
    "plt.title(\"Total intensity of lines (mean spectra)\")\n",
    "plt.show()\n",
    "\n",
    "## Average peak intensity of lines in max spectra\n",
    "# Do some quick binning\n",
    "mean_spec_peak_int_avgs = []\n",
    "for bin_number in np.arange(len(bins)-1):\n",
    "    freq_lo, freq_hi = bins[bin_number], bins[bin_number+1] # Get edges of frequency bin\n",
    "    lines_in_bin = all_lines_mean_stack[(all_lines_mean_stack['Freq']>=freq_lo) & \n",
    "                                        (all_lines_mean_stack['Freq']<=freq_hi)]\n",
    "    if len(lines_in_bin) != 0:\n",
    "        mean_spec_peak_int_avgs.append(np.mean(lines_in_bin['PeakIntensity']))\n",
    "    else:\n",
    "        mean_spec_peak_int_avgs.append(0.)\n",
    "plt.step(bins[:-1], mean_spec_peak_int_avgs, where='post')\n",
    "plt.xlabel(\"Frequency (GHz)\")\n",
    "plt.ylabel(\"Average peak intensity of lines (Jy/beam/bin)\")\n",
    "plt.title(\"Average peak intensity of lines (mean spectra)\")\n",
    "plt.show()"
   ]
  }
 ],
 "metadata": {
  "kernelspec": {
   "display_name": "Python 3",
   "language": "python",
   "name": "python3"
  },
  "language_info": {
   "codemirror_mode": {
    "name": "ipython",
    "version": 3
   },
   "file_extension": ".py",
   "mimetype": "text/x-python",
   "name": "python",
   "nbconvert_exporter": "python",
   "pygments_lexer": "ipython3",
   "version": "3.7.0"
  }
 },
 "nbformat": 4,
 "nbformat_minor": 2
}
